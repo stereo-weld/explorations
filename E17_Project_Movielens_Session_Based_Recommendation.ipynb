{
 "cells": [
  {
   "cell_type": "markdown",
   "id": "dietary-disaster",
   "metadata": {},
   "source": [
    "# E17. 프로젝트 - Movielens 영화 Session Based Recommendation\n",
    "\n",
    "이번에도 우리는 **Movielens 1M Dataset**을 기반으로, **Session based Recommendation 시스템을 제작**해 보겠습니다.\n",
    "\n",
    "* 여기서 이전 실습내역과 가장 크게 다른 부분은 바로 **SessionID 대신 UserID 항목이 들어갔다**는 점입니다. \n",
    "  - 이 데이터셋은 명확한 1회 세션의 SessionID를 포함하지 않고 있습니다. \n",
    "  - 그래서 이번에는 UserID가 SessionID 역할을 해야 합니다.\n",
    "\n",
    "\n",
    "* **Rating 정보가 포함**되어 있습니다. \n",
    "  - 이전 실습내역에서는 이런 항목이 포함되어 있지 않았으므로, 무시하고 제외할 수 있습니다. \n",
    "  - 하지만, 직전에 봤던 영화가 맘에 들었는지 여부가 비슷한 영화를 더 고르게 하는 것과 상관이 있을 수도 있습니다. \n",
    "  - 아울러, Rating이 낮은 데이터를 어떻게 처리할지도 고민해야 합니다.\n",
    "\n",
    "\n",
    "* Time 항목에는 **UTC time 가 포함**되어, \n",
    "  - 1970년 1월 1일부터 경과된 **초단위 시간이 기재**되어 있습니다.\n",
    "\n",
    "\n",
    "위와 같은 정보를 바탕으로 오늘의 실습과정과 유사한 프로젝트 과정을 진행해 보겠습니다."
   ]
  },
  {
   "cell_type": "markdown",
   "id": "retired-crack",
   "metadata": {},
   "source": [
    "## 루브릭\n",
    "\n",
    "|평가문항|\t상세기준|\n",
    "|:-------|:-------|\n",
    "|1. Movielens 데이터셋을 **session based recommendation 관점으로 전처리**하는 과정이 체계적으로 진행되었다.|데이터셋의 면밀한 분석을 토대로 **세션단위 정의 과정(길이분석, 시간분석)** 을 합리적으로 수행한 과정이 기술되었다.|\n",
    "|2. RNN 기반의 예측 모델이 정상적으로 구성되어 안정적으로 훈련이 진행되었다.|**적절한 epoch**만큼의 학습이 진행되는 과정에서 train loss가 안정적으로 감소하고, validation 단계에서의 **Recall, MRR이 개선**되는 것이 확인된다.|\n",
    "|3. **세션정의, 모델구조, 하이퍼파라미터** 등을 변경해서 실험하여 **Recall, MRR 등의 변화추이를 관찰**하였다.|**3가지 이상의 변화를 시도**하고 그 실험결과를 체계적으로 분석하였다.|"
   ]
  },
  {
   "cell_type": "markdown",
   "id": "pending-repair",
   "metadata": {},
   "source": [
    "* **순위 없는 평가 지표**\n",
    "  - **정확도 기반 메트릭**\n",
    "    - MAE, RMSE\n",
    "    \n",
    "  - **의사결정 지원 기반 메트릭**\n",
    "    - **Confusion matrix:**  <img align='center' width='50%' src='https://img1.daumcdn.net/thumb/R1280x0/?scode=mtistory2&fname=https%3A%2F%2Fblog.kakaocdn.net%2Fdn%2FcsmX3b%2FbtquhjiOyKI%2FoKNhWcBu2S7GY9JdLnyq4k%2Fimg.png' />\n",
    "    - **정밀도(Precision) :** 모든 검출 결과물 중에서 옳게 검출한 비율\n",
    "      - **정밀도(Precision):** $$Precision = \\frac{TP}{TP+FP} = \\frac{TP}{All~ Detections}$$\n",
    "      \n",
    "    - **재현율(Recall) :** 마땅히 검출해내야하는 결과물 중에서 제대로 검출한 것의 비율(검출율)\n",
    "      - **재현율(Recall):**  $$Recall = \\frac{TP}{TP+FN}=\\frac{TP}{All~ Ground~ truths}$$\n",
    "      \n",
    "      \n",
    "    - F1점수\n",
    "\n"
   ]
  },
  {
   "cell_type": "markdown",
   "id": "furnished-international",
   "metadata": {},
   "source": [
    "* **순위 인식 평가 지표**\n",
    "  - **이진 관련성(Binary relevance) 기반 메트릭**\n",
    "    - 항목이 바이너리 의미에서 좋은지 여부를 파악\n",
    "    - 아이템이 좋은 추천인지 그렇지 않은지에만 관심이 있다\n",
    "    - Recall@K\n",
    "    - MRR(평균 상호 순위)\n",
    "    - MAP(평균 정밀도)\n",
    "    \n",
    "  - **유틸리티(Utility) 기반 메트닉**\n",
    "    - 절대적 또는 상대적인 선함의 측정으로 선 / 나쁜 감각을 확장\n",
    "    - 실제 랭킹의 위치, 즉 추천된 아이템이 얼마나 좋은지 혹은 어떠한 랭킹보다 더 좋은지 나쁜지에 더 중점을 둔다\n",
    "\n",
    "\n",
    "* **MRR(Mean Reciprocal Rank) :** \n",
    "    - 사용자가 선호하는 아이템이 리스트 중 어디에 위치해 있는지에 중점을 둔 평가 기법\n",
    "    - \"주어지는 쿼리에 대해서 그 쿼리와 정확히 일치하는게 몇번째에 있는가?\"를 측정\n",
    "    - 추천된 리스트가 있고 사용자가 선호하는 아이템이 $k_u$라면, reciprocal rank는 $\\frac{1}{k_u}$이다.\n",
    "    - 모든 쿼리들에 대해서 일치하는 순서의 역순의 평균을 낸 것\n",
    "\n",
    "    - 이진 관련성 메트릭 계열과 밀접하게 연결\n",
    "    - **MRR(Mean Reciprocal Rank) :** $$MRR=\\frac{1}{\\left | Q \\right |} \\sum_{i=1}^{\\left | Q \\right |} \\frac{1}{rank_i} $$\n",
    "    - **Reciprocal Rank :**\n",
    "    Query|\tProposed Results|\tCorrect response|\tRank|\tReciprocal rank\n",
    "    :----|:-----|:-----:|:-----:|:-----:\n",
    "cat|\tcatten, cati, cats|\tcats|\t3|\t1/3\n",
    "tori|\ttorii, tori, toruses|\ttori|\t2|\t1/2\n",
    "virus|\tviruses, virii, viri|\tviruses|\t1|\t1\n",
    "\n",
    "\n",
    "\n",
    "* **MAP(Average Precision and Mean Average Precision) :**\n",
    "  - 기본적인 Precision의 경우 모든 에러를 똑같은 에러로 본다.\n",
    "    - 첫번째 아이템이 틀린 것과 10번째 아이템이 틀린 것을 같은 에러율로 평가한다\n",
    "  - Average Precision은 상위의 아이템이 틀렸을 경우 더 높은 점수가 깎이게 되고\n",
    "    - 하위의 아이템이 틀렸을 경우 더 낮은 점수가 깎이게 된다.\n",
    "  - 특정 컷오프 N까지 권장 항목의 전체 목록을 평가\n",
    "  - P @ N 의사 결정 지원 메트릭은 n 개의 권장 사항 중 좋은 비율을 계산"
   ]
  },
  {
   "cell_type": "markdown",
   "id": "scheduled-distribution",
   "metadata": {},
   "source": [
    "## Step 0. 데이터 읽어오기\n",
    "\n",
    "**Movielens 1M Dataset** 읽어오기"
   ]
  },
  {
   "cell_type": "code",
   "execution_count": 1,
   "id": "acoustic-favor",
   "metadata": {},
   "outputs": [],
   "source": [
    "import datetime as dt\n",
    "from pathlib import Path\n",
    "import os\n",
    "\n",
    "import numpy as np\n",
    "import pandas as pd\n",
    "import datetime as dt\n",
    "import warnings\n",
    "warnings.filterwarnings('ignore')"
   ]
  },
  {
   "cell_type": "code",
   "execution_count": 2,
   "id": "competent-cricket",
   "metadata": {},
   "outputs": [
    {
     "data": {
      "text/html": [
       "<div>\n",
       "<style scoped>\n",
       "    .dataframe tbody tr th:only-of-type {\n",
       "        vertical-align: middle;\n",
       "    }\n",
       "\n",
       "    .dataframe tbody tr th {\n",
       "        vertical-align: top;\n",
       "    }\n",
       "\n",
       "    .dataframe thead th {\n",
       "        text-align: right;\n",
       "    }\n",
       "</style>\n",
       "<table border=\"1\" class=\"dataframe\">\n",
       "  <thead>\n",
       "    <tr style=\"text-align: right;\">\n",
       "      <th></th>\n",
       "      <th>UserId</th>\n",
       "      <th>ItemId</th>\n",
       "      <th>Rating</th>\n",
       "      <th>Time</th>\n",
       "    </tr>\n",
       "  </thead>\n",
       "  <tbody>\n",
       "    <tr>\n",
       "      <th>31</th>\n",
       "      <td>1</td>\n",
       "      <td>3186</td>\n",
       "      <td>4</td>\n",
       "      <td>978300019</td>\n",
       "    </tr>\n",
       "    <tr>\n",
       "      <th>22</th>\n",
       "      <td>1</td>\n",
       "      <td>1270</td>\n",
       "      <td>5</td>\n",
       "      <td>978300055</td>\n",
       "    </tr>\n",
       "    <tr>\n",
       "      <th>27</th>\n",
       "      <td>1</td>\n",
       "      <td>1721</td>\n",
       "      <td>4</td>\n",
       "      <td>978300055</td>\n",
       "    </tr>\n",
       "    <tr>\n",
       "      <th>37</th>\n",
       "      <td>1</td>\n",
       "      <td>1022</td>\n",
       "      <td>5</td>\n",
       "      <td>978300055</td>\n",
       "    </tr>\n",
       "    <tr>\n",
       "      <th>24</th>\n",
       "      <td>1</td>\n",
       "      <td>2340</td>\n",
       "      <td>3</td>\n",
       "      <td>978300103</td>\n",
       "    </tr>\n",
       "    <tr>\n",
       "      <th>...</th>\n",
       "      <td>...</td>\n",
       "      <td>...</td>\n",
       "      <td>...</td>\n",
       "      <td>...</td>\n",
       "    </tr>\n",
       "    <tr>\n",
       "      <th>1000019</th>\n",
       "      <td>6040</td>\n",
       "      <td>2917</td>\n",
       "      <td>4</td>\n",
       "      <td>997454429</td>\n",
       "    </tr>\n",
       "    <tr>\n",
       "      <th>999988</th>\n",
       "      <td>6040</td>\n",
       "      <td>1921</td>\n",
       "      <td>4</td>\n",
       "      <td>997454464</td>\n",
       "    </tr>\n",
       "    <tr>\n",
       "      <th>1000172</th>\n",
       "      <td>6040</td>\n",
       "      <td>1784</td>\n",
       "      <td>3</td>\n",
       "      <td>997454464</td>\n",
       "    </tr>\n",
       "    <tr>\n",
       "      <th>1000167</th>\n",
       "      <td>6040</td>\n",
       "      <td>161</td>\n",
       "      <td>3</td>\n",
       "      <td>997454486</td>\n",
       "    </tr>\n",
       "    <tr>\n",
       "      <th>1000042</th>\n",
       "      <td>6040</td>\n",
       "      <td>1221</td>\n",
       "      <td>4</td>\n",
       "      <td>998315055</td>\n",
       "    </tr>\n",
       "  </tbody>\n",
       "</table>\n",
       "<p>1000209 rows × 4 columns</p>\n",
       "</div>"
      ],
      "text/plain": [
       "         UserId  ItemId  Rating       Time\n",
       "31            1    3186       4  978300019\n",
       "22            1    1270       5  978300055\n",
       "27            1    1721       4  978300055\n",
       "37            1    1022       5  978300055\n",
       "24            1    2340       3  978300103\n",
       "...         ...     ...     ...        ...\n",
       "1000019    6040    2917       4  997454429\n",
       "999988     6040    1921       4  997454464\n",
       "1000172    6040    1784       3  997454464\n",
       "1000167    6040     161       3  997454486\n",
       "1000042    6040    1221       4  998315055\n",
       "\n",
       "[1000209 rows x 4 columns]"
      ]
     },
     "execution_count": 2,
     "metadata": {},
     "output_type": "execute_result"
    }
   ],
   "source": [
    "data_path = Path(os.getenv('HOME')+'/aiffel/yoochoose-data/ml-1m') \n",
    "train_path = data_path / 'ratings.dat'\n",
    "\n",
    "def load_data(data_path: Path, nrows=None):\n",
    "    # UserID::MovieID::Rating::Timestamp\n",
    "    data = pd.read_csv(data_path, sep='::', header=None, usecols=[0, 1, 2, 3], dtype={0: np.int32, 1: np.int32, 2: np.int32}, nrows=nrows)\n",
    "    data.columns = ['UserId', 'MovieId', 'Rating', 'Time']\n",
    "    return data\n",
    "\n",
    "data = load_data(train_path, None)\n",
    "data.sort_values(['UserId', 'Time'], inplace=True)  # data를 id와 시간 순서로 정렬해줍니다.\n",
    "data"
   ]
  },
  {
   "cell_type": "markdown",
   "id": "tired-connecticut",
   "metadata": {},
   "source": [
    "* `data_path / 'ratings.dat'` == `data_path + '/ratings.dat'`\n",
    "* `pd.read_csv()`\n",
    "* `.columns`\n",
    "* `.sort_values()`"
   ]
  },
  {
   "cell_type": "code",
   "execution_count": 3,
   "id": "suffering-intro",
   "metadata": {},
   "outputs": [
    {
     "data": {
      "text/html": [
       "<div>\n",
       "<style scoped>\n",
       "    .dataframe tbody tr th:only-of-type {\n",
       "        vertical-align: middle;\n",
       "    }\n",
       "\n",
       "    .dataframe tbody tr th {\n",
       "        vertical-align: top;\n",
       "    }\n",
       "\n",
       "    .dataframe thead th {\n",
       "        text-align: right;\n",
       "    }\n",
       "</style>\n",
       "<table border=\"1\" class=\"dataframe\">\n",
       "  <thead>\n",
       "    <tr style=\"text-align: right;\">\n",
       "      <th></th>\n",
       "      <th>UserId</th>\n",
       "      <th>ItemId</th>\n",
       "      <th>Rating</th>\n",
       "      <th>Time</th>\n",
       "    </tr>\n",
       "  </thead>\n",
       "  <tbody>\n",
       "    <tr>\n",
       "      <th>31</th>\n",
       "      <td>1</td>\n",
       "      <td>3186</td>\n",
       "      <td>4</td>\n",
       "      <td>2001-01-01 07:00:19</td>\n",
       "    </tr>\n",
       "    <tr>\n",
       "      <th>22</th>\n",
       "      <td>1</td>\n",
       "      <td>1270</td>\n",
       "      <td>5</td>\n",
       "      <td>2001-01-01 07:00:55</td>\n",
       "    </tr>\n",
       "    <tr>\n",
       "      <th>27</th>\n",
       "      <td>1</td>\n",
       "      <td>1721</td>\n",
       "      <td>4</td>\n",
       "      <td>2001-01-01 07:00:55</td>\n",
       "    </tr>\n",
       "    <tr>\n",
       "      <th>37</th>\n",
       "      <td>1</td>\n",
       "      <td>1022</td>\n",
       "      <td>5</td>\n",
       "      <td>2001-01-01 07:00:55</td>\n",
       "    </tr>\n",
       "    <tr>\n",
       "      <th>24</th>\n",
       "      <td>1</td>\n",
       "      <td>2340</td>\n",
       "      <td>3</td>\n",
       "      <td>2001-01-01 07:01:43</td>\n",
       "    </tr>\n",
       "    <tr>\n",
       "      <th>...</th>\n",
       "      <td>...</td>\n",
       "      <td>...</td>\n",
       "      <td>...</td>\n",
       "      <td>...</td>\n",
       "    </tr>\n",
       "    <tr>\n",
       "      <th>1000019</th>\n",
       "      <td>6040</td>\n",
       "      <td>2917</td>\n",
       "      <td>4</td>\n",
       "      <td>2001-08-10 23:40:29</td>\n",
       "    </tr>\n",
       "    <tr>\n",
       "      <th>999988</th>\n",
       "      <td>6040</td>\n",
       "      <td>1921</td>\n",
       "      <td>4</td>\n",
       "      <td>2001-08-10 23:41:04</td>\n",
       "    </tr>\n",
       "    <tr>\n",
       "      <th>1000172</th>\n",
       "      <td>6040</td>\n",
       "      <td>1784</td>\n",
       "      <td>3</td>\n",
       "      <td>2001-08-10 23:41:04</td>\n",
       "    </tr>\n",
       "    <tr>\n",
       "      <th>1000167</th>\n",
       "      <td>6040</td>\n",
       "      <td>161</td>\n",
       "      <td>3</td>\n",
       "      <td>2001-08-10 23:41:26</td>\n",
       "    </tr>\n",
       "    <tr>\n",
       "      <th>1000042</th>\n",
       "      <td>6040</td>\n",
       "      <td>1221</td>\n",
       "      <td>4</td>\n",
       "      <td>2001-08-20 22:44:15</td>\n",
       "    </tr>\n",
       "  </tbody>\n",
       "</table>\n",
       "<p>1000209 rows × 4 columns</p>\n",
       "</div>"
      ],
      "text/plain": [
       "         UserId  ItemId  Rating                Time\n",
       "31            1    3186       4 2001-01-01 07:00:19\n",
       "22            1    1270       5 2001-01-01 07:00:55\n",
       "27            1    1721       4 2001-01-01 07:00:55\n",
       "37            1    1022       5 2001-01-01 07:00:55\n",
       "24            1    2340       3 2001-01-01 07:01:43\n",
       "...         ...     ...     ...                 ...\n",
       "1000019    6040    2917       4 2001-08-10 23:40:29\n",
       "999988     6040    1921       4 2001-08-10 23:41:04\n",
       "1000172    6040    1784       3 2001-08-10 23:41:04\n",
       "1000167    6040     161       3 2001-08-10 23:41:26\n",
       "1000042    6040    1221       4 2001-08-20 22:44:15\n",
       "\n",
       "[1000209 rows x 4 columns]"
      ]
     },
     "execution_count": 3,
     "metadata": {},
     "output_type": "execute_result"
    }
   ],
   "source": [
    "# 시간 타입 변경\n",
    "data['Time'] = data['Time'].map(lambda x : dt.datetime.fromtimestamp(x))\n",
    "data"
   ]
  },
  {
   "cell_type": "markdown",
   "id": "orange-holocaust",
   "metadata": {},
   "source": [
    "* `dt.datetime.fromtimestamp()`"
   ]
  },
  {
   "cell_type": "markdown",
   "id": "rural-creator",
   "metadata": {},
   "source": [
    "## Step 1. 데이터의 전처리\n",
    "\n",
    "위와 같이 간단히 구성해 본 데이터셋을 꼼꼼이 살펴보면서 \n",
    "- 항목별 기본분석, session length, session time, cleaning 등의 작업을 진행합니다.\n",
    "- 특히, 이 데이터셋에서는 Session이 아닌 UserID 단위로 데이터가 생성되어 있으므로, \n",
    "  - 이를 Session 단위로 어떻게 해석할지에 주의합니다."
   ]
  },
  {
   "cell_type": "markdown",
   "id": "variable-fraud",
   "metadata": {},
   "source": [
    "### Step 1-1. 항목별 기본분석\n",
    "\n",
    "[참고1](https://hogni.tistory.com/5)  \n",
    "[참고2](https://dbrang.tistory.com/994)"
   ]
  },
  {
   "cell_type": "code",
   "execution_count": 4,
   "id": "isolated-freeware",
   "metadata": {},
   "outputs": [
    {
     "data": {
      "text/html": [
       "<div>\n",
       "<style scoped>\n",
       "    .dataframe tbody tr th:only-of-type {\n",
       "        vertical-align: middle;\n",
       "    }\n",
       "\n",
       "    .dataframe tbody tr th {\n",
       "        vertical-align: top;\n",
       "    }\n",
       "\n",
       "    .dataframe thead th {\n",
       "        text-align: right;\n",
       "    }\n",
       "</style>\n",
       "<table border=\"1\" class=\"dataframe\">\n",
       "  <thead>\n",
       "    <tr style=\"text-align: right;\">\n",
       "      <th></th>\n",
       "      <th>UserId</th>\n",
       "      <th>ItemId</th>\n",
       "      <th>Rating</th>\n",
       "      <th>Time</th>\n",
       "    </tr>\n",
       "  </thead>\n",
       "  <tbody>\n",
       "    <tr>\n",
       "      <th>31</th>\n",
       "      <td>1</td>\n",
       "      <td>3186</td>\n",
       "      <td>4</td>\n",
       "      <td>2001-01-01 07:00:19</td>\n",
       "    </tr>\n",
       "    <tr>\n",
       "      <th>22</th>\n",
       "      <td>1</td>\n",
       "      <td>1270</td>\n",
       "      <td>5</td>\n",
       "      <td>2001-01-01 07:00:55</td>\n",
       "    </tr>\n",
       "    <tr>\n",
       "      <th>27</th>\n",
       "      <td>1</td>\n",
       "      <td>1721</td>\n",
       "      <td>4</td>\n",
       "      <td>2001-01-01 07:00:55</td>\n",
       "    </tr>\n",
       "    <tr>\n",
       "      <th>37</th>\n",
       "      <td>1</td>\n",
       "      <td>1022</td>\n",
       "      <td>5</td>\n",
       "      <td>2001-01-01 07:00:55</td>\n",
       "    </tr>\n",
       "    <tr>\n",
       "      <th>24</th>\n",
       "      <td>1</td>\n",
       "      <td>2340</td>\n",
       "      <td>3</td>\n",
       "      <td>2001-01-01 07:01:43</td>\n",
       "    </tr>\n",
       "  </tbody>\n",
       "</table>\n",
       "</div>"
      ],
      "text/plain": [
       "    UserId  ItemId  Rating                Time\n",
       "31       1    3186       4 2001-01-01 07:00:19\n",
       "22       1    1270       5 2001-01-01 07:00:55\n",
       "27       1    1721       4 2001-01-01 07:00:55\n",
       "37       1    1022       5 2001-01-01 07:00:55\n",
       "24       1    2340       3 2001-01-01 07:01:43"
      ]
     },
     "execution_count": 4,
     "metadata": {},
     "output_type": "execute_result"
    }
   ],
   "source": [
    "# 데이터의 상위 5개의 행 출력\n",
    "data.head()"
   ]
  },
  {
   "cell_type": "markdown",
   "id": "endangered-jaguar",
   "metadata": {},
   "source": [
    "* `.tail()`의 경우 하위 5개의 행 출력 \n",
    "* 괄호 () 안에 원하는 숫자를 넣으면 그 숫자만큼 행 출력"
   ]
  },
  {
   "cell_type": "code",
   "execution_count": 5,
   "id": "forty-attack",
   "metadata": {},
   "outputs": [
    {
     "data": {
      "text/plain": [
       "(1000209, 4)"
      ]
     },
     "execution_count": 5,
     "metadata": {},
     "output_type": "execute_result"
    }
   ],
   "source": [
    "# 데이터의 (행, 열) 크기 확인\n",
    "data.shape"
   ]
  },
  {
   "cell_type": "code",
   "execution_count": 6,
   "id": "japanese-scholar",
   "metadata": {},
   "outputs": [
    {
     "data": {
      "text/plain": [
       "(6040, 3706, 5)"
      ]
     },
     "execution_count": 6,
     "metadata": {},
     "output_type": "execute_result"
    }
   ],
   "source": [
    "# 개별 컬럼 내에 유일한 값 확인\n",
    "data['UserId'].nunique(), data['MovieId'].nunique(), data['Rating'].nunique()"
   ]
  },
  {
   "cell_type": "markdown",
   "id": "brief-istanbul",
   "metadata": {},
   "source": [
    "* 유저의 숫자가 6,040개   \n",
    "* 아이템의 갯수는 3,706개   \n",
    "* 등급의 갯수는 5개"
   ]
  },
  {
   "cell_type": "markdown",
   "id": "theoretical-collins",
   "metadata": {},
   "source": [
    "* [ml-1m-README.txt](http://files.grouplens.org/datasets/movielens/ml-1m-README.txt)\n",
    "  - 이 파일에는 약 3,900 편의 영화에 대한 **1,000,209 개의 익명 등급**이 포함되어 있습니다. \n",
    "  - 2000 년에 MovieLens에 가입 한 **6,040 명의 MovieLens 사용자**가 만들었습니다."
   ]
  },
  {
   "cell_type": "code",
   "execution_count": 7,
   "id": "arbitrary-detection",
   "metadata": {},
   "outputs": [
    {
     "name": "stdout",
     "output_type": "stream",
     "text": [
      "<class 'pandas.core.frame.DataFrame'>\n",
      "Int64Index: 1000209 entries, 31 to 1000042\n",
      "Data columns (total 4 columns):\n",
      " #   Column  Non-Null Count    Dtype         \n",
      "---  ------  --------------    -----         \n",
      " 0   UserId  1000209 non-null  int32         \n",
      " 1   ItemId  1000209 non-null  int32         \n",
      " 2   Rating  1000209 non-null  int32         \n",
      " 3   Time    1000209 non-null  datetime64[ns]\n",
      "dtypes: datetime64[ns](1), int32(3)\n",
      "memory usage: 26.7 MB\n"
     ]
    }
   ],
   "source": [
    "# 데이터에 대한 전반적인 정보\n",
    "data.info()"
   ]
  },
  {
   "cell_type": "code",
   "execution_count": 8,
   "id": "loose-greensboro",
   "metadata": {},
   "outputs": [
    {
     "data": {
      "text/plain": [
       "UserId    0\n",
       "ItemId    0\n",
       "Rating    0\n",
       "Time      0\n",
       "dtype: int64"
      ]
     },
     "execution_count": 8,
     "metadata": {},
     "output_type": "execute_result"
    }
   ],
   "source": [
    "# 각 칼럼마다 결측치가 몇개 있는지 확인\n",
    "data.isnull().sum()   # True는 1에 대응하고, False는 0에 대응"
   ]
  },
  {
   "cell_type": "markdown",
   "id": "extra-novelty",
   "metadata": {},
   "source": [
    "* 결측값 확인  [참고](https://workingwithpython.com/howtohandlemissingvaluewithpython/)\n",
    "  - `.isnull().sum()`\n",
    "  - `.notnull().sum()`\n",
    "  - `.notna().sum()`"
   ]
  },
  {
   "cell_type": "code",
   "execution_count": 9,
   "id": "italic-mining",
   "metadata": {},
   "outputs": [
    {
     "data": {
      "text/html": [
       "<div>\n",
       "<style scoped>\n",
       "    .dataframe tbody tr th:only-of-type {\n",
       "        vertical-align: middle;\n",
       "    }\n",
       "\n",
       "    .dataframe tbody tr th {\n",
       "        vertical-align: top;\n",
       "    }\n",
       "\n",
       "    .dataframe thead th {\n",
       "        text-align: right;\n",
       "    }\n",
       "</style>\n",
       "<table border=\"1\" class=\"dataframe\">\n",
       "  <thead>\n",
       "    <tr style=\"text-align: right;\">\n",
       "      <th></th>\n",
       "      <th>UserId</th>\n",
       "      <th>ItemId</th>\n",
       "      <th>Rating</th>\n",
       "    </tr>\n",
       "  </thead>\n",
       "  <tbody>\n",
       "    <tr>\n",
       "      <th>count</th>\n",
       "      <td>1.000209e+06</td>\n",
       "      <td>1.000209e+06</td>\n",
       "      <td>1.000209e+06</td>\n",
       "    </tr>\n",
       "    <tr>\n",
       "      <th>mean</th>\n",
       "      <td>3.024512e+03</td>\n",
       "      <td>1.865540e+03</td>\n",
       "      <td>3.581564e+00</td>\n",
       "    </tr>\n",
       "    <tr>\n",
       "      <th>std</th>\n",
       "      <td>1.728413e+03</td>\n",
       "      <td>1.096041e+03</td>\n",
       "      <td>1.117102e+00</td>\n",
       "    </tr>\n",
       "    <tr>\n",
       "      <th>min</th>\n",
       "      <td>1.000000e+00</td>\n",
       "      <td>1.000000e+00</td>\n",
       "      <td>1.000000e+00</td>\n",
       "    </tr>\n",
       "    <tr>\n",
       "      <th>25%</th>\n",
       "      <td>1.506000e+03</td>\n",
       "      <td>1.030000e+03</td>\n",
       "      <td>3.000000e+00</td>\n",
       "    </tr>\n",
       "    <tr>\n",
       "      <th>50%</th>\n",
       "      <td>3.070000e+03</td>\n",
       "      <td>1.835000e+03</td>\n",
       "      <td>4.000000e+00</td>\n",
       "    </tr>\n",
       "    <tr>\n",
       "      <th>75%</th>\n",
       "      <td>4.476000e+03</td>\n",
       "      <td>2.770000e+03</td>\n",
       "      <td>4.000000e+00</td>\n",
       "    </tr>\n",
       "    <tr>\n",
       "      <th>max</th>\n",
       "      <td>6.040000e+03</td>\n",
       "      <td>3.952000e+03</td>\n",
       "      <td>5.000000e+00</td>\n",
       "    </tr>\n",
       "  </tbody>\n",
       "</table>\n",
       "</div>"
      ],
      "text/plain": [
       "             UserId        ItemId        Rating\n",
       "count  1.000209e+06  1.000209e+06  1.000209e+06\n",
       "mean   3.024512e+03  1.865540e+03  3.581564e+00\n",
       "std    1.728413e+03  1.096041e+03  1.117102e+00\n",
       "min    1.000000e+00  1.000000e+00  1.000000e+00\n",
       "25%    1.506000e+03  1.030000e+03  3.000000e+00\n",
       "50%    3.070000e+03  1.835000e+03  4.000000e+00\n",
       "75%    4.476000e+03  2.770000e+03  4.000000e+00\n",
       "max    6.040000e+03  3.952000e+03  5.000000e+00"
      ]
     },
     "execution_count": 9,
     "metadata": {},
     "output_type": "execute_result"
    }
   ],
   "source": [
    "# 요약 통계량\n",
    "data.describe()"
   ]
  },
  {
   "cell_type": "code",
   "execution_count": 11,
   "id": "special-webster",
   "metadata": {},
   "outputs": [
    {
     "data": {
      "text/plain": [
       "Timedelta('1038 days 18:44:18')"
      ]
     },
     "execution_count": 11,
     "metadata": {},
     "output_type": "execute_result"
    }
   ],
   "source": [
    "# 데이터 수집 기간 \n",
    "data[\"Time\"].max() - data[\"Time\"].min()"
   ]
  },
  {
   "cell_type": "code",
   "execution_count": 12,
   "id": "ranging-geometry",
   "metadata": {},
   "outputs": [
    {
     "data": {
      "text/plain": [
       "4    348971\n",
       "3    261197\n",
       "5    226310\n",
       "2    107557\n",
       "1     56174\n",
       "Name: Rating, dtype: int64"
      ]
     },
     "execution_count": 12,
     "metadata": {},
     "output_type": "execute_result"
    }
   ],
   "source": [
    "# 등급별 데이터 갯수\n",
    "data['Rating'].value_counts()"
   ]
  },
  {
   "cell_type": "code",
   "execution_count": 13,
   "id": "quarterly-episode",
   "metadata": {},
   "outputs": [
    {
     "data": {
      "text/plain": [
       "4    0.348898\n",
       "3    0.261142\n",
       "5    0.226263\n",
       "2    0.107535\n",
       "1    0.056162\n",
       "Name: Rating, dtype: float64"
      ]
     },
     "execution_count": 13,
     "metadata": {},
     "output_type": "execute_result"
    }
   ],
   "source": [
    "data['Rating'].value_counts(normalize=True)"
   ]
  },
  {
   "cell_type": "markdown",
   "id": "extraordinary-liability",
   "metadata": {},
   "source": [
    "약 35%가 4등급, 26%가 3등급, 23%가 5등급 차지함"
   ]
  },
  {
   "cell_type": "markdown",
   "id": "bridal-authentication",
   "metadata": {},
   "source": [
    "### Step 1-2. Session Length\n",
    "\n",
    "* 같은 SessionId를 공유하는 데이터 row의 개수\n",
    "* 해당 사용자가 그 세션 동안 몇번의 액션을 취했는지(몇개의 등급을 작성했는지)의 의미가 됩니다."
   ]
  },
  {
   "cell_type": "code",
   "execution_count": 14,
   "id": "monetary-values",
   "metadata": {},
   "outputs": [
    {
     "data": {
      "text/plain": [
       "UserId\n",
       "1        53\n",
       "2       129\n",
       "3        51\n",
       "4        21\n",
       "5       198\n",
       "       ... \n",
       "6036    888\n",
       "6037    202\n",
       "6038     20\n",
       "6039    123\n",
       "6040    341\n",
       "Length: 6040, dtype: int64"
      ]
     },
     "execution_count": 14,
     "metadata": {},
     "output_type": "execute_result"
    }
   ],
   "source": [
    "session_length = data.groupby('UserId').size()\n",
    "session_length"
   ]
  },
  {
   "cell_type": "code",
   "execution_count": 15,
   "id": "underlying-cutting",
   "metadata": {},
   "outputs": [
    {
     "data": {
      "text/plain": [
       "(96.0, 165.5975165562914)"
      ]
     },
     "execution_count": 15,
     "metadata": {},
     "output_type": "execute_result"
    }
   ],
   "source": [
    "session_length.median(), session_length.mean()"
   ]
  },
  {
   "cell_type": "code",
   "execution_count": 16,
   "id": "practical-wyoming",
   "metadata": {},
   "outputs": [
    {
     "data": {
      "text/plain": [
       "(20, 2314)"
      ]
     },
     "execution_count": 16,
     "metadata": {},
     "output_type": "execute_result"
    }
   ],
   "source": [
    "session_length.min(), session_length.max()"
   ]
  },
  {
   "cell_type": "code",
   "execution_count": 17,
   "id": "employed-genesis",
   "metadata": {},
   "outputs": [
    {
     "data": {
      "text/plain": [
       "1343.181000000005"
      ]
     },
     "execution_count": 17,
     "metadata": {},
     "output_type": "execute_result"
    }
   ],
   "source": [
    "session_length.quantile(0.999)"
   ]
  },
  {
   "cell_type": "markdown",
   "id": "continent-child",
   "metadata": {},
   "source": [
    "각 세션의 길이는 보통 96 정도입니다.  \n",
    "약 2.8년 동안 영화등급을 작성하는 것을 생각해보면 이 수치가 그럴듯하게 느껴집니다.  \n",
    "99.9% 세션은 길이가 1,343 이하입니다.  \n",
    "길이가 2,314인 세션은 뭔가 이상합니다."
   ]
  },
  {
   "cell_type": "code",
   "execution_count": 18,
   "id": "occupied-anger",
   "metadata": {},
   "outputs": [
    {
     "data": {
      "text/html": [
       "<div>\n",
       "<style scoped>\n",
       "    .dataframe tbody tr th:only-of-type {\n",
       "        vertical-align: middle;\n",
       "    }\n",
       "\n",
       "    .dataframe tbody tr th {\n",
       "        vertical-align: top;\n",
       "    }\n",
       "\n",
       "    .dataframe thead th {\n",
       "        text-align: right;\n",
       "    }\n",
       "</style>\n",
       "<table border=\"1\" class=\"dataframe\">\n",
       "  <thead>\n",
       "    <tr style=\"text-align: right;\">\n",
       "      <th></th>\n",
       "      <th>UserId</th>\n",
       "      <th>ItemId</th>\n",
       "      <th>Rating</th>\n",
       "      <th>Time</th>\n",
       "    </tr>\n",
       "  </thead>\n",
       "  <tbody>\n",
       "    <tr>\n",
       "      <th>696969</th>\n",
       "      <td>4169</td>\n",
       "      <td>1268</td>\n",
       "      <td>5</td>\n",
       "      <td>2000-08-04 05:09:52</td>\n",
       "    </tr>\n",
       "    <tr>\n",
       "      <th>697168</th>\n",
       "      <td>4169</td>\n",
       "      <td>2617</td>\n",
       "      <td>4</td>\n",
       "      <td>2000-08-04 05:09:52</td>\n",
       "    </tr>\n",
       "    <tr>\n",
       "      <th>697185</th>\n",
       "      <td>4169</td>\n",
       "      <td>2628</td>\n",
       "      <td>4</td>\n",
       "      <td>2000-08-04 05:09:52</td>\n",
       "    </tr>\n",
       "    <tr>\n",
       "      <th>697219</th>\n",
       "      <td>4169</td>\n",
       "      <td>2653</td>\n",
       "      <td>4</td>\n",
       "      <td>2000-08-04 05:09:52</td>\n",
       "    </tr>\n",
       "    <tr>\n",
       "      <th>697275</th>\n",
       "      <td>4169</td>\n",
       "      <td>423</td>\n",
       "      <td>3</td>\n",
       "      <td>2000-08-04 05:09:52</td>\n",
       "    </tr>\n",
       "    <tr>\n",
       "      <th>...</th>\n",
       "      <td>...</td>\n",
       "      <td>...</td>\n",
       "      <td>...</td>\n",
       "      <td>...</td>\n",
       "    </tr>\n",
       "    <tr>\n",
       "      <th>697882</th>\n",
       "      <td>4169</td>\n",
       "      <td>3754</td>\n",
       "      <td>2</td>\n",
       "      <td>2002-06-16 05:52:27</td>\n",
       "    </tr>\n",
       "    <tr>\n",
       "      <th>695702</th>\n",
       "      <td>4169</td>\n",
       "      <td>1413</td>\n",
       "      <td>3</td>\n",
       "      <td>2002-06-16 06:03:51</td>\n",
       "    </tr>\n",
       "    <tr>\n",
       "      <th>697358</th>\n",
       "      <td>4169</td>\n",
       "      <td>494</td>\n",
       "      <td>4</td>\n",
       "      <td>2002-06-16 06:16:00</td>\n",
       "    </tr>\n",
       "    <tr>\n",
       "      <th>695945</th>\n",
       "      <td>4169</td>\n",
       "      <td>1804</td>\n",
       "      <td>2</td>\n",
       "      <td>2002-06-16 06:16:23</td>\n",
       "    </tr>\n",
       "    <tr>\n",
       "      <th>696446</th>\n",
       "      <td>4169</td>\n",
       "      <td>1548</td>\n",
       "      <td>3</td>\n",
       "      <td>2002-06-16 06:25:37</td>\n",
       "    </tr>\n",
       "  </tbody>\n",
       "</table>\n",
       "<p>2314 rows × 4 columns</p>\n",
       "</div>"
      ],
      "text/plain": [
       "        UserId  ItemId  Rating                Time\n",
       "696969    4169    1268       5 2000-08-04 05:09:52\n",
       "697168    4169    2617       4 2000-08-04 05:09:52\n",
       "697185    4169    2628       4 2000-08-04 05:09:52\n",
       "697219    4169    2653       4 2000-08-04 05:09:52\n",
       "697275    4169     423       3 2000-08-04 05:09:52\n",
       "...        ...     ...     ...                 ...\n",
       "697882    4169    3754       2 2002-06-16 05:52:27\n",
       "695702    4169    1413       3 2002-06-16 06:03:51\n",
       "697358    4169     494       4 2002-06-16 06:16:00\n",
       "695945    4169    1804       2 2002-06-16 06:16:23\n",
       "696446    4169    1548       3 2002-06-16 06:25:37\n",
       "\n",
       "[2314 rows x 4 columns]"
      ]
     },
     "execution_count": 18,
     "metadata": {},
     "output_type": "execute_result"
    }
   ],
   "source": [
    "long_session = session_length[session_length==2314].index[0]\n",
    "data[data['UserId']==long_session]"
   ]
  },
  {
   "cell_type": "code",
   "execution_count": 19,
   "id": "conditional-nutrition",
   "metadata": {},
   "outputs": [
    {
     "data": {
      "text/plain": [
       "UserId       1\n",
       "ItemId    2314\n",
       "Rating       5\n",
       "Time       684\n",
       "dtype: int64"
      ]
     },
     "execution_count": 19,
     "metadata": {},
     "output_type": "execute_result"
    }
   ],
   "source": [
    "data[data['UserId']==long_session].nunique()"
   ]
  },
  {
   "cell_type": "markdown",
   "id": "beneficial-millennium",
   "metadata": {},
   "source": [
    "유저 1명이 매우 짧은 간격으로 지속적으로 등급 작성을 하고 있습니다."
   ]
  },
  {
   "cell_type": "code",
   "execution_count": 20,
   "id": "fifth-blank",
   "metadata": {},
   "outputs": [
    {
     "data": {
      "text/plain": [
       "20      0.014238\n",
       "21      0.029305\n",
       "22      0.042053\n",
       "23      0.055464\n",
       "24      0.068874\n",
       "          ...   \n",
       "1271    0.998179\n",
       "1277    0.998344\n",
       "1286    0.998510\n",
       "1302    0.998675\n",
       "1323    0.998841\n",
       "Length: 736, dtype: float64"
      ]
     },
     "execution_count": 20,
     "metadata": {},
     "output_type": "execute_result"
    }
   ],
   "source": [
    "# 세션길이 기준 하위 99.9%까지의 분포 누적합 계산\n",
    "length_count = session_length.groupby(session_length).size()\n",
    "length_percent_cumsum = length_count.cumsum() / length_count.sum()\n",
    "length_percent_cumsum_999 = length_percent_cumsum[length_percent_cumsum < 0.999]\n",
    "\n",
    "length_percent_cumsum_999"
   ]
  },
  {
   "cell_type": "code",
   "execution_count": 21,
   "id": "understanding-singles",
   "metadata": {},
   "outputs": [
    {
     "data": {
      "image/png": "[encoded data removed]",
      "text/plain": [
       "<Figure size 1080x504 with 1 Axes>"
      ]
     },
     "metadata": {
      "needs_background": "light"
     },
     "output_type": "display_data"
    }
   ],
   "source": [
    "# 세션길이 기준 하위 99.9%까지의 분포 누적합 시각화\n",
    "import matplotlib.pyplot as plt\n",
    "\n",
    "plt.figure(figsize=(15, 7))\n",
    "plt.bar(x=length_percent_cumsum_999.index,\n",
    "        height=length_percent_cumsum_999, color='red')\n",
    "plt.xticks(length_percent_cumsum_999.index)\n",
    "plt.yticks(np.arange(0, 1.01, 0.05))\n",
    "plt.title('Cumsum Percentage Until 0.999', size=20)\n",
    "plt.show()"
   ]
  },
  {
   "cell_type": "markdown",
   "id": "equipped-processing",
   "metadata": {},
   "source": [
    "### Step 1-3. Session Time\n",
    "\n",
    "데이터가 발생한 시간에 대해 알아보기"
   ]
  },
  {
   "cell_type": "code",
   "execution_count": 22,
   "id": "veterinary-temperature",
   "metadata": {},
   "outputs": [
    {
     "name": "stdout",
     "output_type": "stream",
     "text": [
      "oldest : 2000-04-26 08:05:32\n",
      "latest : 2003-03-01 02:49:50\n",
      "수집 기간 : 1038 days 18:44:18\n"
     ]
    }
   ],
   "source": [
    "# 데이터의 시간 관련 정보를 확인\n",
    "oldest, latest = data['Time'].min(), data['Time'].max()\n",
    "print('oldest :', oldest) \n",
    "print('latest :', latest)\n",
    "print(f'수집 기간 : {latest - oldest}')"
   ]
  },
  {
   "cell_type": "markdown",
   "id": "bright-rogers",
   "metadata": {},
   "source": [
    "약 3 년치의 데이터가 있습니다.  \n",
    "저는 최신 영화 트렌트를 학습하기 위해서 3개월 데이터만 사용하려고 합니다."
   ]
  },
  {
   "cell_type": "code",
   "execution_count": 23,
   "id": "western-watch",
   "metadata": {},
   "outputs": [
    {
     "name": "stdout",
     "output_type": "stream",
     "text": [
      "2002-12-01 02:49:50\n"
     ]
    },
    {
     "data": {
      "text/html": [
       "<div>\n",
       "<style scoped>\n",
       "    .dataframe tbody tr th:only-of-type {\n",
       "        vertical-align: middle;\n",
       "    }\n",
       "\n",
       "    .dataframe tbody tr th {\n",
       "        vertical-align: top;\n",
       "    }\n",
       "\n",
       "    .dataframe thead th {\n",
       "        text-align: right;\n",
       "    }\n",
       "</style>\n",
       "<table border=\"1\" class=\"dataframe\">\n",
       "  <thead>\n",
       "    <tr style=\"text-align: right;\">\n",
       "      <th></th>\n",
       "      <th>UserId</th>\n",
       "      <th>ItemId</th>\n",
       "      <th>Rating</th>\n",
       "      <th>Time</th>\n",
       "    </tr>\n",
       "  </thead>\n",
       "  <tbody>\n",
       "    <tr>\n",
       "      <th>5200</th>\n",
       "      <td>36</td>\n",
       "      <td>2269</td>\n",
       "      <td>5</td>\n",
       "      <td>2002-12-22 17:05:50</td>\n",
       "    </tr>\n",
       "    <tr>\n",
       "      <th>5256</th>\n",
       "      <td>36</td>\n",
       "      <td>1701</td>\n",
       "      <td>4</td>\n",
       "      <td>2002-12-22 17:05:50</td>\n",
       "    </tr>\n",
       "    <tr>\n",
       "      <th>5184</th>\n",
       "      <td>36</td>\n",
       "      <td>2694</td>\n",
       "      <td>3</td>\n",
       "      <td>2002-12-22 17:08:14</td>\n",
       "    </tr>\n",
       "    <tr>\n",
       "      <th>5364</th>\n",
       "      <td>36</td>\n",
       "      <td>3786</td>\n",
       "      <td>4</td>\n",
       "      <td>2002-12-22 17:08:41</td>\n",
       "    </tr>\n",
       "    <tr>\n",
       "      <th>5262</th>\n",
       "      <td>36</td>\n",
       "      <td>2369</td>\n",
       "      <td>4</td>\n",
       "      <td>2002-12-22 17:09:24</td>\n",
       "    </tr>\n",
       "    <tr>\n",
       "      <th>...</th>\n",
       "      <td>...</td>\n",
       "      <td>...</td>\n",
       "      <td>...</td>\n",
       "      <td>...</td>\n",
       "    </tr>\n",
       "    <tr>\n",
       "      <th>984731</th>\n",
       "      <td>5950</td>\n",
       "      <td>3948</td>\n",
       "      <td>4</td>\n",
       "      <td>2003-02-28 03:13:57</td>\n",
       "    </tr>\n",
       "    <tr>\n",
       "      <th>984682</th>\n",
       "      <td>5950</td>\n",
       "      <td>3578</td>\n",
       "      <td>4</td>\n",
       "      <td>2003-02-28 03:14:30</td>\n",
       "    </tr>\n",
       "    <tr>\n",
       "      <th>984475</th>\n",
       "      <td>5950</td>\n",
       "      <td>3793</td>\n",
       "      <td>3</td>\n",
       "      <td>2003-02-28 03:15:10</td>\n",
       "    </tr>\n",
       "    <tr>\n",
       "      <th>984660</th>\n",
       "      <td>5950</td>\n",
       "      <td>3555</td>\n",
       "      <td>2</td>\n",
       "      <td>2003-02-28 03:15:37</td>\n",
       "    </tr>\n",
       "    <tr>\n",
       "      <th>984733</th>\n",
       "      <td>5950</td>\n",
       "      <td>1262</td>\n",
       "      <td>4</td>\n",
       "      <td>2003-02-28 03:17:38</td>\n",
       "    </tr>\n",
       "  </tbody>\n",
       "</table>\n",
       "<p>4616 rows × 4 columns</p>\n",
       "</div>"
      ],
      "text/plain": [
       "        UserId  ItemId  Rating                Time\n",
       "5200        36    2269       5 2002-12-22 17:05:50\n",
       "5256        36    1701       4 2002-12-22 17:05:50\n",
       "5184        36    2694       3 2002-12-22 17:08:14\n",
       "5364        36    3786       4 2002-12-22 17:08:41\n",
       "5262        36    2369       4 2002-12-22 17:09:24\n",
       "...        ...     ...     ...                 ...\n",
       "984731    5950    3948       4 2003-02-28 03:13:57\n",
       "984682    5950    3578       4 2003-02-28 03:14:30\n",
       "984475    5950    3793       3 2003-02-28 03:15:10\n",
       "984660    5950    3555       2 2003-02-28 03:15:37\n",
       "984733    5950    1262       4 2003-02-28 03:17:38\n",
       "\n",
       "[4616 rows x 4 columns]"
      ]
     },
     "execution_count": 23,
     "metadata": {},
     "output_type": "execute_result"
    }
   ],
   "source": [
    "month_ago = latest - dt.timedelta(3*30)          # 최종 날짜로부터 3개월 이전 날짜를 구한다.  \n",
    "data = data[data['Time'] > month_ago]            # 방금 구한 날짜 이후의 데이터만 모은다. \n",
    "print(month_ago)\n",
    "data"
   ]
  },
  {
   "cell_type": "code",
   "execution_count": 24,
   "id": "corresponding-undergraduate",
   "metadata": {},
   "outputs": [
    {
     "data": {
      "text/plain": [
       "(Timestamp('2002-12-01 05:24:52'), Timestamp('2003-03-01 02:49:50'))"
      ]
     },
     "execution_count": 24,
     "metadata": {},
     "output_type": "execute_result"
    }
   ],
   "source": [
    "data[\"Time\"].min(), data[\"Time\"].max()"
   ]
  },
  {
   "cell_type": "code",
   "execution_count": 25,
   "id": "comparable-planet",
   "metadata": {},
   "outputs": [
    {
     "data": {
      "text/plain": [
       "Timedelta('89 days 21:24:58')"
      ]
     },
     "execution_count": 25,
     "metadata": {},
     "output_type": "execute_result"
    }
   ],
   "source": [
    "data[\"Time\"].max() - data[\"Time\"].min()"
   ]
  },
  {
   "cell_type": "markdown",
   "id": "persistent-twist",
   "metadata": {},
   "source": [
    "### Step 1-3. Data Cleansing\n",
    "\n",
    "너무 적게 등급이 작성된 아이템은 이상한 아이템일 가능성이 있습니다.   \n",
    "그러므로 길이가 1인 세션은 제거해줍니다."
   ]
  },
  {
   "cell_type": "code",
   "execution_count": 26,
   "id": "apparent-fraud",
   "metadata": {},
   "outputs": [],
   "source": [
    "# short_session을 제거한 다음 unpopular item을 제거하면 다시 길이가 1인 session이 생길 수 있습니다.\n",
    "# 이를 위해 반복문을 통해 지속적으로 제거 합니다.\n",
    "def cleanse_recursive(data: pd.DataFrame, shortest, least_click) -> pd.DataFrame:\n",
    "    while True:\n",
    "        before_len = len(data)\n",
    "        data = cleanse_short_session(data, shortest)\n",
    "        data = cleanse_unpopular_item(data, least_click)\n",
    "        after_len = len(data)\n",
    "        if before_len == after_len:\n",
    "            break\n",
    "    return data\n",
    "\n",
    "\n",
    "def cleanse_short_session(data: pd.DataFrame, shortest):\n",
    "    session_len = data.groupby('UserId').size()\n",
    "    session_use = session_len[session_len >= shortest].index\n",
    "    data = data[data['UserId'].isin(session_use)]\n",
    "    return data\n",
    "\n",
    "\n",
    "def cleanse_unpopular_item(data: pd.DataFrame, least_click):\n",
    "    item_popular = data.groupby('MovieId').size()\n",
    "    item_use = item_popular[item_popular >= least_click].index\n",
    "    data = data[data['MovieId'].isin(item_use)]\n",
    "    return data"
   ]
  },
  {
   "cell_type": "code",
   "execution_count": 27,
   "id": "shaped-glossary",
   "metadata": {},
   "outputs": [
    {
     "data": {
      "text/html": [
       "<div>\n",
       "<style scoped>\n",
       "    .dataframe tbody tr th:only-of-type {\n",
       "        vertical-align: middle;\n",
       "    }\n",
       "\n",
       "    .dataframe tbody tr th {\n",
       "        vertical-align: top;\n",
       "    }\n",
       "\n",
       "    .dataframe thead th {\n",
       "        text-align: right;\n",
       "    }\n",
       "</style>\n",
       "<table border=\"1\" class=\"dataframe\">\n",
       "  <thead>\n",
       "    <tr style=\"text-align: right;\">\n",
       "      <th></th>\n",
       "      <th>UserId</th>\n",
       "      <th>ItemId</th>\n",
       "      <th>Rating</th>\n",
       "      <th>Time</th>\n",
       "    </tr>\n",
       "  </thead>\n",
       "  <tbody>\n",
       "    <tr>\n",
       "      <th>5364</th>\n",
       "      <td>36</td>\n",
       "      <td>3786</td>\n",
       "      <td>4</td>\n",
       "      <td>2002-12-22 17:08:41</td>\n",
       "    </tr>\n",
       "    <tr>\n",
       "      <th>5280</th>\n",
       "      <td>36</td>\n",
       "      <td>3174</td>\n",
       "      <td>4</td>\n",
       "      <td>2002-12-22 17:11:25</td>\n",
       "    </tr>\n",
       "    <tr>\n",
       "      <th>5222</th>\n",
       "      <td>36</td>\n",
       "      <td>296</td>\n",
       "      <td>5</td>\n",
       "      <td>2002-12-22 17:16:59</td>\n",
       "    </tr>\n",
       "    <tr>\n",
       "      <th>5062</th>\n",
       "      <td>36</td>\n",
       "      <td>1266</td>\n",
       "      <td>5</td>\n",
       "      <td>2002-12-22 17:18:29</td>\n",
       "    </tr>\n",
       "    <tr>\n",
       "      <th>5076</th>\n",
       "      <td>36</td>\n",
       "      <td>595</td>\n",
       "      <td>4</td>\n",
       "      <td>2002-12-22 17:18:29</td>\n",
       "    </tr>\n",
       "    <tr>\n",
       "      <th>...</th>\n",
       "      <td>...</td>\n",
       "      <td>...</td>\n",
       "      <td>...</td>\n",
       "      <td>...</td>\n",
       "    </tr>\n",
       "    <tr>\n",
       "      <th>984731</th>\n",
       "      <td>5950</td>\n",
       "      <td>3948</td>\n",
       "      <td>4</td>\n",
       "      <td>2003-02-28 03:13:57</td>\n",
       "    </tr>\n",
       "    <tr>\n",
       "      <th>984682</th>\n",
       "      <td>5950</td>\n",
       "      <td>3578</td>\n",
       "      <td>4</td>\n",
       "      <td>2003-02-28 03:14:30</td>\n",
       "    </tr>\n",
       "    <tr>\n",
       "      <th>984475</th>\n",
       "      <td>5950</td>\n",
       "      <td>3793</td>\n",
       "      <td>3</td>\n",
       "      <td>2003-02-28 03:15:10</td>\n",
       "    </tr>\n",
       "    <tr>\n",
       "      <th>984660</th>\n",
       "      <td>5950</td>\n",
       "      <td>3555</td>\n",
       "      <td>2</td>\n",
       "      <td>2003-02-28 03:15:37</td>\n",
       "    </tr>\n",
       "    <tr>\n",
       "      <th>984733</th>\n",
       "      <td>5950</td>\n",
       "      <td>1262</td>\n",
       "      <td>4</td>\n",
       "      <td>2003-02-28 03:17:38</td>\n",
       "    </tr>\n",
       "  </tbody>\n",
       "</table>\n",
       "<p>1606 rows × 4 columns</p>\n",
       "</div>"
      ],
      "text/plain": [
       "        UserId  ItemId  Rating                Time\n",
       "5364        36    3786       4 2002-12-22 17:08:41\n",
       "5280        36    3174       4 2002-12-22 17:11:25\n",
       "5222        36     296       5 2002-12-22 17:16:59\n",
       "5062        36    1266       5 2002-12-22 17:18:29\n",
       "5076        36     595       4 2002-12-22 17:18:29\n",
       "...        ...     ...     ...                 ...\n",
       "984731    5950    3948       4 2003-02-28 03:13:57\n",
       "984682    5950    3578       4 2003-02-28 03:14:30\n",
       "984475    5950    3793       3 2003-02-28 03:15:10\n",
       "984660    5950    3555       2 2003-02-28 03:15:37\n",
       "984733    5950    1262       4 2003-02-28 03:17:38\n",
       "\n",
       "[1606 rows x 4 columns]"
      ]
     },
     "execution_count": 27,
     "metadata": {},
     "output_type": "execute_result"
    }
   ],
   "source": [
    "# data_cleansed = cleanse_recursive(data_ago, shortest=2, least_click=5)\n",
    "\n",
    "data = cleanse_recursive(data, shortest=2, least_click=5)\n",
    "data"
   ]
  },
  {
   "cell_type": "code",
   "execution_count": 28,
   "id": "informal-reader",
   "metadata": {},
   "outputs": [
    {
     "data": {
      "text/plain": [
       "(Timestamp('2002-12-01 13:17:00'), Timestamp('2003-03-01 02:45:20'))"
      ]
     },
     "execution_count": 28,
     "metadata": {},
     "output_type": "execute_result"
    }
   ],
   "source": [
    "data[\"Time\"].min(), data[\"Time\"].max()"
   ]
  },
  {
   "cell_type": "code",
   "execution_count": 29,
   "id": "fancy-guide",
   "metadata": {},
   "outputs": [
    {
     "data": {
      "text/plain": [
       "Timedelta('89 days 13:28:20')"
      ]
     },
     "execution_count": 29,
     "metadata": {},
     "output_type": "execute_result"
    }
   ],
   "source": [
    "data[\"Time\"].max() - data[\"Time\"].min()"
   ]
  },
  {
   "cell_type": "markdown",
   "id": "settled-technique",
   "metadata": {},
   "source": [
    "## Step 2. 미니 배치의 구성\n",
    "\n",
    "* 실습코드 내역을 참고하여 데이터셋과 미니 배치를 구성해 봅시다. \n",
    "  - Session-Parallel Mini-Batch의 개념에 따라, \n",
    "  - 학습 속도의 저하가 최소화될 수 있도록 구성합니다.\n",
    "\n",
    "\n",
    "* 단, 위 Step 1에서 Session 단위를 어떻게 정의했느냐에 따라서 \n",
    "  - Session-Parallel Mini-Batch이 굳이 필요하지 않을 수도 있습니다.\n",
    "\n"
   ]
  },
  {
   "cell_type": "markdown",
   "id": "soviet-tunnel",
   "metadata": {},
   "source": [
    "### Train / Valid / Test split\n",
    "\n",
    "Session-Based Recommendation에서는 기간에 따라 Train/ Valid/ Test 셋을 나누기도 합니다.\n",
    "\n",
    "이번 자료에서는 가장 마지막 1주일 기간 동안을 Test로, 2주일전부터 1주일전 까지를 valid set으로 나누겠습니다."
   ]
  },
  {
   "cell_type": "code",
   "execution_count": null,
   "id": "important-business",
   "metadata": {},
   "outputs": [],
   "source": [
    "# day_sec = 24*60*60\n",
    "# month_ago3 = latest - (3*30*day_sec)       # 최종 날짜로부터 3개월 이전 날짜를 구한다.  \n",
    "# weeks_ago1 = latest - (7*day_sec)          # 최종 날짜로부터 1주일 이전 날짜를 구한다.\n",
    "# weeks1_ago2 = latest - (14*day_sec)         # 최종 날짜로부터 2주일 이전 날짜를 구한다.\n",
    "# weeks2_ago2 = weeks_ago1 - (7*day_sec)         # 최종 날짜로부터 2주일 이전 날짜를 구한다.\n",
    "# final_time = data['Time'].max()"
   ]
  },
  {
   "cell_type": "code",
   "execution_count": null,
   "id": "tutorial-happening",
   "metadata": {},
   "outputs": [],
   "source": [
    "# import datetime as dt\n",
    "# print(day_sec)\n",
    "# print(month_ago3)\n",
    "# print(weeks_ago1)\n",
    "# print(weeks1_ago2)\n",
    "# print(weeks2_ago2)\n",
    "# print(dt.timedelta(7))\n",
    "# print(final_time)"
   ]
  },
  {
   "cell_type": "code",
   "execution_count": 30,
   "id": "ranging-gazette",
   "metadata": {
    "hide_input": false
   },
   "outputs": [],
   "source": [
    "def split_by_date(data: pd.DataFrame, n_days: int):\n",
    "    final_time = data['Time'].max()\n",
    "    session_last_time = data.groupby('UserId')['Time'].max()\n",
    "    session_in_train = session_last_time[session_last_time < final_time - dt.timedelta(n_days)].index\n",
    "    session_in_test = session_last_time[session_last_time >= final_time - dt.timedelta(n_days)].index\n",
    "\n",
    "    before_date = data[data['UserId'].isin(session_in_train)]\n",
    "    after_date = data[data['UserId'].isin(session_in_test)]\n",
    "    after_date = after_date[after_date['MovieId'].isin(before_date['MovieId'])]\n",
    "    return before_date, after_date"
   ]
  },
  {
   "cell_type": "markdown",
   "id": "lined-nitrogen",
   "metadata": {},
   "source": [
    "* `.isin()`\n",
    "* `.index`"
   ]
  },
  {
   "cell_type": "code",
   "execution_count": 31,
   "id": "conservative-ordinary",
   "metadata": {
    "scrolled": true
   },
   "outputs": [
    {
     "name": "stdout",
     "output_type": "stream",
     "text": [
      "82 days 11:18:16\n",
      "87 days 22:46:11\n",
      "74 days 21:45:32\n",
      "82 days 08:35:01\n"
     ]
    }
   ],
   "source": [
    "# train/test 분리\n",
    "train, test = split_by_date(data, n_days=7)\n",
    "\n",
    "print(train[\"Time\"].max() - train[\"Time\"].min())\n",
    "print(test[\"Time\"].max() - test[\"Time\"].min())\n",
    "\n",
    "# train/valid 분리\n",
    "train, valid = split_by_date(train, n_days=7)\n",
    "print(train[\"Time\"].max() - train[\"Time\"].min())\n",
    "print(valid[\"Time\"].max() - valid[\"Time\"].min())"
   ]
  },
  {
   "cell_type": "code",
   "execution_count": null,
   "id": "fundamental-gothic",
   "metadata": {
    "scrolled": true
   },
   "outputs": [],
   "source": [
    "# # train/test 분리\n",
    "# train, test = split_by_date(data_cleansed, n_days=7)\n",
    "\n",
    "# print(train[\"Time\"].max() - train[\"Time\"].min())\n",
    "# print(test[\"Time\"].max() - test[\"Time\"].min())\n",
    "\n",
    "# # train/valid 분리\n",
    "# train, valid = split_by_date(train, n_days=7)\n",
    "# print(train[\"Time\"].max() - train[\"Time\"].min())\n",
    "# print(valid[\"Time\"].max() - valid[\"Time\"].min())"
   ]
  },
  {
   "cell_type": "code",
   "execution_count": null,
   "id": "possible-making",
   "metadata": {},
   "outputs": [],
   "source": [
    "# data에 대한 정보를 살펴봅니다.\n",
    "def stats_info(data: pd.DataFrame, status: str):\n",
    "    print(f'* {status} Set Stats Info\\n'\n",
    "          f'\\t Events: {len(data)}\\n'\n",
    "          f'\\t UserId: {data[\"UserId\"].nunique()}\\n'\n",
    "          f'\\t Items: {data[\"MovieId\"].nunique()}\\n'\n",
    "          f'\\t First Time : {data[\"Time\"].min()}\\n'\n",
    "          f'\\t Last Time : {data[\"Time\"].max()}\\n'\n",
    "          f'\\t Days : {data[\"Time\"].max() - data[\"Time\"].min()}\\n')"
   ]
  },
  {
   "cell_type": "code",
   "execution_count": null,
   "id": "experimental-copper",
   "metadata": {},
   "outputs": [],
   "source": [
    "stats_info(train, 'train')\n",
    "stats_info(valid, 'valid')\n",
    "stats_info(test, 'test')"
   ]
  },
  {
   "cell_type": "code",
   "execution_count": null,
   "id": "radio-simon",
   "metadata": {},
   "outputs": [],
   "source": [
    "stats_info(train, 'train')\n",
    "stats_info(valid, 'valid')\n",
    "stats_info(test, 'test')"
   ]
  },
  {
   "cell_type": "code",
   "execution_count": null,
   "id": "little-bacon",
   "metadata": {},
   "outputs": [],
   "source": [
    "(1038855549-"
   ]
  },
  {
   "cell_type": "code",
   "execution_count": null,
   "id": "cordless-ecology",
   "metadata": {},
   "outputs": [],
   "source": []
  },
  {
   "cell_type": "markdown",
   "id": "compatible-sunday",
   "metadata": {},
   "source": [
    "### Session-Parallel Mini-Batch"
   ]
  },
  {
   "cell_type": "code",
   "execution_count": null,
   "id": "supported-assist",
   "metadata": {},
   "outputs": [],
   "source": []
  },
  {
   "cell_type": "markdown",
   "id": "spread-person",
   "metadata": {},
   "source": [
    "## Step 3. 모델 구성\n",
    "\n",
    "이 부분도 실습코드 내역을 참고하여 다양하게 모델 구조를 시도해볼 수 있습니다."
   ]
  },
  {
   "cell_type": "markdown",
   "id": "every-photography",
   "metadata": {},
   "source": [
    "### Data Pipeline"
   ]
  },
  {
   "cell_type": "code",
   "execution_count": null,
   "id": "abstract-addition",
   "metadata": {},
   "outputs": [],
   "source": []
  },
  {
   "cell_type": "markdown",
   "id": "overhead-actress",
   "metadata": {},
   "source": [
    "### Modeling"
   ]
  },
  {
   "cell_type": "code",
   "execution_count": null,
   "id": "cubic-exclusion",
   "metadata": {},
   "outputs": [],
   "source": []
  },
  {
   "cell_type": "markdown",
   "id": "built-large",
   "metadata": {},
   "source": [
    "## Step 4. 모델 학습\n",
    "\n",
    "* 다양한 **하이퍼파라미터를 변경**해 보며 검증해 보도록 합니다. \n",
    "  - 실습코드에 언급되었던 **Recall, MRR** 등의 개념들도 함께 관리될 수 있도록 합니다."
   ]
  },
  {
   "cell_type": "markdown",
   "id": "amended-inclusion",
   "metadata": {},
   "source": [
    "### 하이퍼파라미터 변경"
   ]
  },
  {
   "cell_type": "code",
   "execution_count": null,
   "id": "qualified-split",
   "metadata": {},
   "outputs": [],
   "source": []
  },
  {
   "cell_type": "markdown",
   "id": "rising-spokesman",
   "metadata": {},
   "source": [
    "### Model Training"
   ]
  },
  {
   "cell_type": "code",
   "execution_count": null,
   "id": "secondary-bachelor",
   "metadata": {},
   "outputs": [],
   "source": []
  },
  {
   "cell_type": "markdown",
   "id": "through-promotion",
   "metadata": {},
   "source": [
    "## Step 5. 모델 테스트\n",
    "\n",
    "미리 구성한 테스트셋을 바탕으로 **Recall, MRR** 을 확인해 봅니다.\n",
    "  "
   ]
  },
  {
   "cell_type": "code",
   "execution_count": null,
   "id": "charming-treatment",
   "metadata": {},
   "outputs": [],
   "source": [
    "def test_model(model, args, test):\n",
    "    test_recall, test_mrr = get_metrics(test, model, args, 20)\n",
    "    print(f\"\\t - Recall@{args.k}: {test_recall:3f}\")\n",
    "    print(f\"\\t - MRR@{args.k}: {test_mrr:3f}\\n\")\n",
    "\n",
    "test_model(model, args, test)"
   ]
  },
  {
   "cell_type": "code",
   "execution_count": null,
   "id": "norwegian-updating",
   "metadata": {},
   "outputs": [],
   "source": []
  },
  {
   "cell_type": "code",
   "execution_count": null,
   "id": "protected-thanksgiving",
   "metadata": {},
   "outputs": [],
   "source": [
    "<img style='align:center' width='50%' src=''/>"
   ]
  },
  {
   "cell_type": "code",
   "execution_count": null,
   "id": "chubby-liverpool",
   "metadata": {},
   "outputs": [],
   "source": [
    "<div style='text-align:center'> </div>"
   ]
  },
  {
   "cell_type": "code",
   "execution_count": null,
   "id": "respected-obligation",
   "metadata": {},
   "outputs": [],
   "source": [
    "<span style='color:red'> </span>"
   ]
  },
  {
   "cell_type": "markdown",
   "id": "mysterious-tunisia",
   "metadata": {},
   "source": [
    "## 회고\n",
    "* 추천 시스템의 평가지표를 이해하는데 어려웠다.\n"
   ]
  },
  {
   "cell_type": "markdown",
   "id": "cleared-tracy",
   "metadata": {},
   "source": [
    "# End"
   ]
  }
 ],
 "metadata": {
  "hide_input": false,
  "kernelspec": {
   "display_name": "aiffel",
   "language": "python",
   "name": "aiffel"
  },
  "language_info": {
   "codemirror_mode": {
    "name": "ipython",
    "version": 3
   },
   "file_extension": ".py",
   "mimetype": "text/x-python",
   "name": "python",
   "nbconvert_exporter": "python",
   "pygments_lexer": "ipython3",
   "version": "3.7.9"
  },
  "toc": {
   "base_numbering": 1,
   "nav_menu": {},
   "number_sections": false,
   "sideBar": true,
   "skip_h1_title": false,
   "title_cell": "Table of Contents",
   "title_sidebar": "Contents",
   "toc_cell": false,
   "toc_position": {
    "height": "calc(100% - 180px)",
    "left": "10px",
    "top": "150px",
    "width": "254px"
   },
   "toc_section_display": true,
   "toc_window_display": true
  }
 },
 "nbformat": 4,
 "nbformat_minor": 5
}
