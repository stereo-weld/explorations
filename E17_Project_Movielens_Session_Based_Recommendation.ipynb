{
 "cells": [
  {
   "cell_type": "markdown",
   "id": "dietary-disaster",
   "metadata": {},
   "source": [
    "# E17. 프로젝트 - Movielens 영화 Session Based Recommendation\n",
    "\n",
    "이번에도 우리는 **Movielens 1M Dataset**을 기반으로, **Session based Recommendation 시스템을 제작**해 보겠습니다.\n",
    "\n",
    "* 여기서 이전 실습내역과 가장 크게 다른 부분은 바로 **SessionID 대신 UserID 항목이 들어갔다**는 점입니다. \n",
    "  - 이 데이터셋은 명확한 1회 세션의 SessionID를 포함하지 않고 있습니다. \n",
    "  - 그래서 이번에는 UserID가 SessionID 역할을 해야 합니다.\n",
    "\n",
    "\n",
    "* **Rating 정보가 포함**되어 있습니다. \n",
    "  - 이전 실습내역에서는 이런 항목이 포함되어 있지 않았으므로, 무시하고 제외할 수 있습니다. \n",
    "  - 하지만, 직전에 봤던 영화가 맘에 들었는지 여부가 비슷한 영화를 더 고르게 하는 것과 상관이 있을 수도 있습니다. \n",
    "  - 아울러, Rating이 낮은 데이터를 어떻게 처리할지도 고민해야 합니다.\n",
    "\n",
    "\n",
    "* Time 항목에는 **UTC time 가 포함**되어, \n",
    "  - 1970년 1월 1일부터 경과된 **초단위 시간이 기재**되어 있습니다.\n",
    "\n",
    "\n",
    "위와 같은 정보를 바탕으로 오늘의 실습과정과 유사한 프로젝트 과정을 진행해 보겠습니다."
   ]
  },
  {
   "cell_type": "markdown",
   "id": "retired-crack",
   "metadata": {},
   "source": [
    "## 루브릭\n",
    "\n",
    "|평가문항|\t상세기준|\n",
    "|:-------|:-------|\n",
    "|1. Movielens 데이터셋을 **session based recommendation 관점으로 전처리**하는 과정이 체계적으로 진행되었다.|데이터셋의 면밀한 분석을 토대로 **세션단위 정의 과정(길이분석, 시간분석)** 을 합리적으로 수행한 과정이 기술되었다.|\n",
    "|2. RNN 기반의 예측 모델이 정상적으로 구성되어 안정적으로 훈련이 진행되었다.|**적절한 epoch**만큼의 학습이 진행되는 과정에서 train loss가 안정적으로 감소하고, validation 단계에서의 **Recall, MRR이 개선**되는 것이 확인된다.|\n",
    "|3. **세션정의, 모델구조, 하이퍼파라미터** 등을 변경해서 실험하여 **Recall, MRR 등의 변화추이를 관찰**하였다.|**3가지 이상의 변화를 시도**하고 그 실험결과를 체계적으로 분석하였다.|"
   ]
  },
  {
   "cell_type": "markdown",
   "id": "pending-repair",
   "metadata": {},
   "source": [
    "* **순위 없는 평가 지표**\n",
    "  - **정확도 기반 메트릭**\n",
    "    - MAE, RMSE\n",
    "    \n",
    "  - **의사결정 지원 기반 메트릭**\n",
    "    - **Confusion matrix:**  <img align='center' width='50%' src='https://img1.daumcdn.net/thumb/R1280x0/?scode=mtistory2&fname=https%3A%2F%2Fblog.kakaocdn.net%2Fdn%2FcsmX3b%2FbtquhjiOyKI%2FoKNhWcBu2S7GY9JdLnyq4k%2Fimg.png' />\n",
    "    - **정밀도(Precision) :** 모든 검출 결과물 중에서 옳게 검출한 비율\n",
    "      - **정밀도(Precision):** $$Precision = \\frac{TP}{TP+FP} = \\frac{TP}{All~ Detections}$$\n",
    "      \n",
    "    - **재현율(Recall) :** 마땅히 검출해내야하는 결과물 중에서 제대로 검출한 것의 비율(검출율)\n",
    "      - **재현율(Recall):**  $$Recall = \\frac{TP}{TP+FN}=\\frac{TP}{All~ Ground~ truths}$$\n",
    "      \n",
    "      \n",
    "    - F1점수\n",
    "\n"
   ]
  },
  {
   "cell_type": "markdown",
   "id": "furnished-international",
   "metadata": {},
   "source": [
    "* **순위 인식 평가 지표**\n",
    "  - **이진 관련성(Binary relevance) 기반 메트릭**\n",
    "    - 항목이 바이너리 의미에서 좋은지 여부를 파악\n",
    "    - 아이템이 좋은 추천인지 그렇지 않은지에만 관심이 있다\n",
    "    - Recall@K\n",
    "    - MRR(평균 상호 순위)\n",
    "    - MAP(평균 정밀도)\n",
    "    \n",
    "  - **유틸리티(Utility) 기반 메트닉**\n",
    "    - 절대적 또는 상대적인 선함의 측정으로 선 / 나쁜 감각을 확장\n",
    "    - 실제 랭킹의 위치, 즉 추천된 아이템이 얼마나 좋은지 혹은 어떠한 랭킹보다 더 좋은지 나쁜지에 더 중점을 둔다\n",
    "\n",
    "\n",
    "* **MRR(Mean Reciprocal Rank) :** \n",
    "    - 사용자가 선호하는 아이템이 리스트 중 어디에 위치해 있는지에 중점을 둔 평가 기법\n",
    "    - \"주어지는 쿼리에 대해서 그 쿼리와 정확히 일치하는게 몇번째에 있는가?\"를 측정\n",
    "    - 추천된 리스트가 있고 사용자가 선호하는 아이템이 $k_u$라면, reciprocal rank는 $\\frac{1}{k_u}$이다.\n",
    "    - 모든 쿼리들에 대해서 일치하는 순서의 역순의 평균을 낸 것\n",
    "\n",
    "    - 이진 관련성 메트릭 계열과 밀접하게 연결\n",
    "    - **MRR(Mean Reciprocal Rank) :** $$MRR=\\frac{1}{\\left | Q \\right |} \\sum_{i=1}^{\\left | Q \\right |} \\frac{1}{rank_i} $$\n",
    "    - **Reciprocal Rank :**\n",
    "    Query|\tProposed Results|\tCorrect response|\tRank|\tReciprocal rank\n",
    "    :----|:-----|:-----:|:-----:|:-----:\n",
    "cat|\tcatten, cati, cats|\tcats|\t3|\t1/3\n",
    "tori|\ttorii, tori, toruses|\ttori|\t2|\t1/2\n",
    "virus|\tviruses, virii, viri|\tviruses|\t1|\t1\n",
    "\n",
    "\n",
    "\n",
    "* **MAP(Average Precision and Mean Average Precision) :**\n",
    "  - 기본적인 Precision의 경우 모든 에러를 똑같은 에러로 본다.\n",
    "    - 첫번째 아이템이 틀린 것과 10번째 아이템이 틀린 것을 같은 에러율로 평가한다\n",
    "  - Average Precision은 상위의 아이템이 틀렸을 경우 더 높은 점수가 깎이게 되고\n",
    "    - 하위의 아이템이 틀렸을 경우 더 낮은 점수가 깎이게 된다.\n",
    "  - 특정 컷오프 N까지 권장 항목의 전체 목록을 평가\n",
    "  - P @ N 의사 결정 지원 메트릭은 n 개의 권장 사항 중 좋은 비율을 계산"
   ]
  },
  {
   "cell_type": "markdown",
   "id": "scheduled-distribution",
   "metadata": {},
   "source": [
    "## Step 0. 데이터 읽어오기\n",
    "\n",
    "**Movielens 1M Dataset** 읽어오기"
   ]
  },
  {
   "cell_type": "code",
   "execution_count": 1,
   "id": "acoustic-favor",
   "metadata": {},
   "outputs": [],
   "source": [
    "import datetime as dt\n",
    "from pathlib import Path\n",
    "import os\n",
    "\n",
    "import numpy as np\n",
    "import pandas as pd\n",
    "import datetime as dt\n",
    "import warnings\n",
    "warnings.filterwarnings('ignore')"
   ]
  },
  {
   "cell_type": "code",
   "execution_count": 2,
   "id": "competent-cricket",
   "metadata": {},
   "outputs": [
    {
     "data": {
      "text/html": [
       "<div>\n",
       "<style scoped>\n",
       "    .dataframe tbody tr th:only-of-type {\n",
       "        vertical-align: middle;\n",
       "    }\n",
       "\n",
       "    .dataframe tbody tr th {\n",
       "        vertical-align: top;\n",
       "    }\n",
       "\n",
       "    .dataframe thead th {\n",
       "        text-align: right;\n",
       "    }\n",
       "</style>\n",
       "<table border=\"1\" class=\"dataframe\">\n",
       "  <thead>\n",
       "    <tr style=\"text-align: right;\">\n",
       "      <th></th>\n",
       "      <th>UserId</th>\n",
       "      <th>MovieId</th>\n",
       "      <th>Rating</th>\n",
       "      <th>Time</th>\n",
       "    </tr>\n",
       "  </thead>\n",
       "  <tbody>\n",
       "    <tr>\n",
       "      <th>31</th>\n",
       "      <td>1</td>\n",
       "      <td>3186</td>\n",
       "      <td>4</td>\n",
       "      <td>978300019</td>\n",
       "    </tr>\n",
       "    <tr>\n",
       "      <th>22</th>\n",
       "      <td>1</td>\n",
       "      <td>1270</td>\n",
       "      <td>5</td>\n",
       "      <td>978300055</td>\n",
       "    </tr>\n",
       "    <tr>\n",
       "      <th>27</th>\n",
       "      <td>1</td>\n",
       "      <td>1721</td>\n",
       "      <td>4</td>\n",
       "      <td>978300055</td>\n",
       "    </tr>\n",
       "    <tr>\n",
       "      <th>37</th>\n",
       "      <td>1</td>\n",
       "      <td>1022</td>\n",
       "      <td>5</td>\n",
       "      <td>978300055</td>\n",
       "    </tr>\n",
       "    <tr>\n",
       "      <th>24</th>\n",
       "      <td>1</td>\n",
       "      <td>2340</td>\n",
       "      <td>3</td>\n",
       "      <td>978300103</td>\n",
       "    </tr>\n",
       "    <tr>\n",
       "      <th>...</th>\n",
       "      <td>...</td>\n",
       "      <td>...</td>\n",
       "      <td>...</td>\n",
       "      <td>...</td>\n",
       "    </tr>\n",
       "    <tr>\n",
       "      <th>1000019</th>\n",
       "      <td>6040</td>\n",
       "      <td>2917</td>\n",
       "      <td>4</td>\n",
       "      <td>997454429</td>\n",
       "    </tr>\n",
       "    <tr>\n",
       "      <th>999988</th>\n",
       "      <td>6040</td>\n",
       "      <td>1921</td>\n",
       "      <td>4</td>\n",
       "      <td>997454464</td>\n",
       "    </tr>\n",
       "    <tr>\n",
       "      <th>1000172</th>\n",
       "      <td>6040</td>\n",
       "      <td>1784</td>\n",
       "      <td>3</td>\n",
       "      <td>997454464</td>\n",
       "    </tr>\n",
       "    <tr>\n",
       "      <th>1000167</th>\n",
       "      <td>6040</td>\n",
       "      <td>161</td>\n",
       "      <td>3</td>\n",
       "      <td>997454486</td>\n",
       "    </tr>\n",
       "    <tr>\n",
       "      <th>1000042</th>\n",
       "      <td>6040</td>\n",
       "      <td>1221</td>\n",
       "      <td>4</td>\n",
       "      <td>998315055</td>\n",
       "    </tr>\n",
       "  </tbody>\n",
       "</table>\n",
       "<p>1000209 rows × 4 columns</p>\n",
       "</div>"
      ],
      "text/plain": [
       "         UserId  MovieId  Rating       Time\n",
       "31            1     3186       4  978300019\n",
       "22            1     1270       5  978300055\n",
       "27            1     1721       4  978300055\n",
       "37            1     1022       5  978300055\n",
       "24            1     2340       3  978300103\n",
       "...         ...      ...     ...        ...\n",
       "1000019    6040     2917       4  997454429\n",
       "999988     6040     1921       4  997454464\n",
       "1000172    6040     1784       3  997454464\n",
       "1000167    6040      161       3  997454486\n",
       "1000042    6040     1221       4  998315055\n",
       "\n",
       "[1000209 rows x 4 columns]"
      ]
     },
     "execution_count": 2,
     "metadata": {},
     "output_type": "execute_result"
    }
   ],
   "source": [
    "data_path = Path(os.getenv('HOME')+'/aiffel/yoochoose-data/ml-1m') \n",
    "train_path = data_path / 'ratings.dat'\n",
    "\n",
    "def load_data(data_path: Path, nrows=None):\n",
    "    # UserID::MovieID::Rating::Timestamp\n",
    "    data = pd.read_csv(data_path, sep='::', header=None, usecols=[0, 1, 2, 3], dtype={0: np.int32, 1: np.int32, 2: np.int32}, nrows=nrows)\n",
    "    data.columns = ['UserId', 'MovieId', 'Rating', 'Time']\n",
    "    return data\n",
    "\n",
    "data = load_data(train_path, None)\n",
    "data.sort_values(['UserId', 'Time'], inplace=True)  # data를 id와 시간 순서로 정렬해줍니다.\n",
    "data"
   ]
  },
  {
   "cell_type": "markdown",
   "id": "tired-connecticut",
   "metadata": {},
   "source": [
    "* `data_path / 'ratings.dat'` == `data_path + '/ratings.dat'`\n",
    "* `pd.read_csv()`\n",
    "* `.columns`\n",
    "* `.sort_values()`"
   ]
  },
  {
   "cell_type": "code",
   "execution_count": 3,
   "id": "suffering-intro",
   "metadata": {},
   "outputs": [],
   "source": [
    "# # 시간 타입 변경\n",
    "# data['Time'] = data['Time'].map(lambda x : dt.datetime.fromtimestamp(x))\n",
    "# data"
   ]
  },
  {
   "cell_type": "markdown",
   "id": "orange-holocaust",
   "metadata": {},
   "source": [
    "* `dt.datetime.fromtimestamp()`"
   ]
  },
  {
   "cell_type": "markdown",
   "id": "rural-creator",
   "metadata": {},
   "source": [
    "## Step 1. 데이터의 전처리\n",
    "\n",
    "위와 같이 간단히 구성해 본 데이터셋을 꼼꼼이 살펴보면서 \n",
    "- 항목별 기본분석, session length, session time, cleaning 등의 작업을 진행합니다.\n",
    "- 특히, 이 데이터셋에서는 Session이 아닌 UserID 단위로 데이터가 생성되어 있으므로, \n",
    "  - 이를 Session 단위로 어떻게 해석할지에 주의합니다."
   ]
  },
  {
   "cell_type": "markdown",
   "id": "variable-fraud",
   "metadata": {},
   "source": [
    "### Step 1-1. 항목별 기본분석\n",
    "\n",
    "[참고1](https://hogni.tistory.com/5)  \n",
    "[참고2](https://dbrang.tistory.com/994)"
   ]
  },
  {
   "cell_type": "code",
   "execution_count": 4,
   "id": "isolated-freeware",
   "metadata": {},
   "outputs": [
    {
     "data": {
      "text/html": [
       "<div>\n",
       "<style scoped>\n",
       "    .dataframe tbody tr th:only-of-type {\n",
       "        vertical-align: middle;\n",
       "    }\n",
       "\n",
       "    .dataframe tbody tr th {\n",
       "        vertical-align: top;\n",
       "    }\n",
       "\n",
       "    .dataframe thead th {\n",
       "        text-align: right;\n",
       "    }\n",
       "</style>\n",
       "<table border=\"1\" class=\"dataframe\">\n",
       "  <thead>\n",
       "    <tr style=\"text-align: right;\">\n",
       "      <th></th>\n",
       "      <th>UserId</th>\n",
       "      <th>MovieId</th>\n",
       "      <th>Rating</th>\n",
       "      <th>Time</th>\n",
       "    </tr>\n",
       "  </thead>\n",
       "  <tbody>\n",
       "    <tr>\n",
       "      <th>31</th>\n",
       "      <td>1</td>\n",
       "      <td>3186</td>\n",
       "      <td>4</td>\n",
       "      <td>978300019</td>\n",
       "    </tr>\n",
       "    <tr>\n",
       "      <th>22</th>\n",
       "      <td>1</td>\n",
       "      <td>1270</td>\n",
       "      <td>5</td>\n",
       "      <td>978300055</td>\n",
       "    </tr>\n",
       "    <tr>\n",
       "      <th>27</th>\n",
       "      <td>1</td>\n",
       "      <td>1721</td>\n",
       "      <td>4</td>\n",
       "      <td>978300055</td>\n",
       "    </tr>\n",
       "    <tr>\n",
       "      <th>37</th>\n",
       "      <td>1</td>\n",
       "      <td>1022</td>\n",
       "      <td>5</td>\n",
       "      <td>978300055</td>\n",
       "    </tr>\n",
       "    <tr>\n",
       "      <th>24</th>\n",
       "      <td>1</td>\n",
       "      <td>2340</td>\n",
       "      <td>3</td>\n",
       "      <td>978300103</td>\n",
       "    </tr>\n",
       "  </tbody>\n",
       "</table>\n",
       "</div>"
      ],
      "text/plain": [
       "    UserId  MovieId  Rating       Time\n",
       "31       1     3186       4  978300019\n",
       "22       1     1270       5  978300055\n",
       "27       1     1721       4  978300055\n",
       "37       1     1022       5  978300055\n",
       "24       1     2340       3  978300103"
      ]
     },
     "execution_count": 4,
     "metadata": {},
     "output_type": "execute_result"
    }
   ],
   "source": [
    "# 데이터의 상위 5개의 행 출력\n",
    "data.head()"
   ]
  },
  {
   "cell_type": "markdown",
   "id": "endangered-jaguar",
   "metadata": {},
   "source": [
    "* `.tail()`의 경우 하위 5개의 행 출력 \n",
    "* 괄호 () 안에 원하는 숫자를 넣으면 그 숫자만큼 행 출력"
   ]
  },
  {
   "cell_type": "code",
   "execution_count": 5,
   "id": "forty-attack",
   "metadata": {},
   "outputs": [
    {
     "data": {
      "text/plain": [
       "(1000209, 4)"
      ]
     },
     "execution_count": 5,
     "metadata": {},
     "output_type": "execute_result"
    }
   ],
   "source": [
    "# 데이터의 (행, 열) 크기 확인\n",
    "data.shape"
   ]
  },
  {
   "cell_type": "code",
   "execution_count": 6,
   "id": "japanese-scholar",
   "metadata": {},
   "outputs": [
    {
     "data": {
      "text/plain": [
       "(6040, 3706, 5)"
      ]
     },
     "execution_count": 6,
     "metadata": {},
     "output_type": "execute_result"
    }
   ],
   "source": [
    "# 개별 컬럼 내에 유일한 값 확인\n",
    "data['UserId'].nunique(), data['MovieId'].nunique(), data['Rating'].nunique()"
   ]
  },
  {
   "cell_type": "markdown",
   "id": "brief-istanbul",
   "metadata": {},
   "source": [
    "* 유저의 숫자가 6,040개   \n",
    "* 아이템의 갯수는 3,706개   \n",
    "* 등급의 갯수는 5개"
   ]
  },
  {
   "cell_type": "markdown",
   "id": "theoretical-collins",
   "metadata": {},
   "source": [
    "* [ml-1m-README.txt](http://files.grouplens.org/datasets/movielens/ml-1m-README.txt)\n",
    "  - 이 파일에는 약 3,900 편의 영화에 대한 **1,000,209 개의 익명 등급**이 포함되어 있습니다. \n",
    "  - 2000 년에 MovieLens에 가입 한 **6,040 명의 MovieLens 사용자**가 만들었습니다."
   ]
  },
  {
   "cell_type": "code",
   "execution_count": 7,
   "id": "arbitrary-detection",
   "metadata": {},
   "outputs": [
    {
     "name": "stdout",
     "output_type": "stream",
     "text": [
      "<class 'pandas.core.frame.DataFrame'>\n",
      "Int64Index: 1000209 entries, 31 to 1000042\n",
      "Data columns (total 4 columns):\n",
      " #   Column   Non-Null Count    Dtype\n",
      "---  ------   --------------    -----\n",
      " 0   UserId   1000209 non-null  int32\n",
      " 1   MovieId  1000209 non-null  int32\n",
      " 2   Rating   1000209 non-null  int32\n",
      " 3   Time     1000209 non-null  int64\n",
      "dtypes: int32(3), int64(1)\n",
      "memory usage: 26.7 MB\n"
     ]
    }
   ],
   "source": [
    "# 데이터에 대한 전반적인 정보\n",
    "data.info()"
   ]
  },
  {
   "cell_type": "code",
   "execution_count": 8,
   "id": "loose-greensboro",
   "metadata": {},
   "outputs": [
    {
     "data": {
      "text/plain": [
       "UserId     0\n",
       "MovieId    0\n",
       "Rating     0\n",
       "Time       0\n",
       "dtype: int64"
      ]
     },
     "execution_count": 8,
     "metadata": {},
     "output_type": "execute_result"
    }
   ],
   "source": [
    "# 각 칼럼마다 결측치가 몇개 있는지 확인\n",
    "data.isnull().sum()   # True는 1에 대응하고, False는 0에 대응"
   ]
  },
  {
   "cell_type": "markdown",
   "id": "extra-novelty",
   "metadata": {},
   "source": [
    "* 결측값 확인  [참고](https://workingwithpython.com/howtohandlemissingvaluewithpython/)\n",
    "  - `.isnull().sum()`\n",
    "  - `.notnull().sum()`\n",
    "  - `.notna().sum()`"
   ]
  },
  {
   "cell_type": "code",
   "execution_count": 9,
   "id": "italic-mining",
   "metadata": {},
   "outputs": [
    {
     "data": {
      "text/html": [
       "<div>\n",
       "<style scoped>\n",
       "    .dataframe tbody tr th:only-of-type {\n",
       "        vertical-align: middle;\n",
       "    }\n",
       "\n",
       "    .dataframe tbody tr th {\n",
       "        vertical-align: top;\n",
       "    }\n",
       "\n",
       "    .dataframe thead th {\n",
       "        text-align: right;\n",
       "    }\n",
       "</style>\n",
       "<table border=\"1\" class=\"dataframe\">\n",
       "  <thead>\n",
       "    <tr style=\"text-align: right;\">\n",
       "      <th></th>\n",
       "      <th>UserId</th>\n",
       "      <th>MovieId</th>\n",
       "      <th>Rating</th>\n",
       "      <th>Time</th>\n",
       "    </tr>\n",
       "  </thead>\n",
       "  <tbody>\n",
       "    <tr>\n",
       "      <th>count</th>\n",
       "      <td>1.000209e+06</td>\n",
       "      <td>1.000209e+06</td>\n",
       "      <td>1.000209e+06</td>\n",
       "      <td>1.000209e+06</td>\n",
       "    </tr>\n",
       "    <tr>\n",
       "      <th>mean</th>\n",
       "      <td>3.024512e+03</td>\n",
       "      <td>1.865540e+03</td>\n",
       "      <td>3.581564e+00</td>\n",
       "      <td>9.722437e+08</td>\n",
       "    </tr>\n",
       "    <tr>\n",
       "      <th>std</th>\n",
       "      <td>1.728413e+03</td>\n",
       "      <td>1.096041e+03</td>\n",
       "      <td>1.117102e+00</td>\n",
       "      <td>1.215256e+07</td>\n",
       "    </tr>\n",
       "    <tr>\n",
       "      <th>min</th>\n",
       "      <td>1.000000e+00</td>\n",
       "      <td>1.000000e+00</td>\n",
       "      <td>1.000000e+00</td>\n",
       "      <td>9.567039e+08</td>\n",
       "    </tr>\n",
       "    <tr>\n",
       "      <th>25%</th>\n",
       "      <td>1.506000e+03</td>\n",
       "      <td>1.030000e+03</td>\n",
       "      <td>3.000000e+00</td>\n",
       "      <td>9.653026e+08</td>\n",
       "    </tr>\n",
       "    <tr>\n",
       "      <th>50%</th>\n",
       "      <td>3.070000e+03</td>\n",
       "      <td>1.835000e+03</td>\n",
       "      <td>4.000000e+00</td>\n",
       "      <td>9.730180e+08</td>\n",
       "    </tr>\n",
       "    <tr>\n",
       "      <th>75%</th>\n",
       "      <td>4.476000e+03</td>\n",
       "      <td>2.770000e+03</td>\n",
       "      <td>4.000000e+00</td>\n",
       "      <td>9.752209e+08</td>\n",
       "    </tr>\n",
       "    <tr>\n",
       "      <th>max</th>\n",
       "      <td>6.040000e+03</td>\n",
       "      <td>3.952000e+03</td>\n",
       "      <td>5.000000e+00</td>\n",
       "      <td>1.046455e+09</td>\n",
       "    </tr>\n",
       "  </tbody>\n",
       "</table>\n",
       "</div>"
      ],
      "text/plain": [
       "             UserId       MovieId        Rating          Time\n",
       "count  1.000209e+06  1.000209e+06  1.000209e+06  1.000209e+06\n",
       "mean   3.024512e+03  1.865540e+03  3.581564e+00  9.722437e+08\n",
       "std    1.728413e+03  1.096041e+03  1.117102e+00  1.215256e+07\n",
       "min    1.000000e+00  1.000000e+00  1.000000e+00  9.567039e+08\n",
       "25%    1.506000e+03  1.030000e+03  3.000000e+00  9.653026e+08\n",
       "50%    3.070000e+03  1.835000e+03  4.000000e+00  9.730180e+08\n",
       "75%    4.476000e+03  2.770000e+03  4.000000e+00  9.752209e+08\n",
       "max    6.040000e+03  3.952000e+03  5.000000e+00  1.046455e+09"
      ]
     },
     "execution_count": 9,
     "metadata": {},
     "output_type": "execute_result"
    }
   ],
   "source": [
    "# 요약 통계량\n",
    "data.describe()"
   ]
  },
  {
   "cell_type": "code",
   "execution_count": 10,
   "id": "special-webster",
   "metadata": {},
   "outputs": [
    {
     "data": {
      "text/plain": [
       "1038.8"
      ]
     },
     "execution_count": 10,
     "metadata": {},
     "output_type": "execute_result"
    }
   ],
   "source": [
    "# 데이터 수집 기간 \n",
    "day_sec = 24*60*60\n",
    "round((data[\"Time\"].max() - data[\"Time\"].min())/day_sec, 1)"
   ]
  },
  {
   "cell_type": "code",
   "execution_count": 11,
   "id": "ranging-geometry",
   "metadata": {},
   "outputs": [
    {
     "data": {
      "text/plain": [
       "4    348971\n",
       "3    261197\n",
       "5    226310\n",
       "2    107557\n",
       "1     56174\n",
       "Name: Rating, dtype: int64"
      ]
     },
     "execution_count": 11,
     "metadata": {},
     "output_type": "execute_result"
    }
   ],
   "source": [
    "# 등급별 데이터 갯수\n",
    "data['Rating'].value_counts()"
   ]
  },
  {
   "cell_type": "code",
   "execution_count": 12,
   "id": "quarterly-episode",
   "metadata": {},
   "outputs": [
    {
     "data": {
      "text/plain": [
       "4    0.348898\n",
       "3    0.261142\n",
       "5    0.226263\n",
       "2    0.107535\n",
       "1    0.056162\n",
       "Name: Rating, dtype: float64"
      ]
     },
     "execution_count": 12,
     "metadata": {},
     "output_type": "execute_result"
    }
   ],
   "source": [
    "# 등급별 데이터 비율\n",
    "data['Rating'].value_counts(normalize=True)"
   ]
  },
  {
   "cell_type": "markdown",
   "id": "extraordinary-liability",
   "metadata": {},
   "source": [
    "약 35%가 4등급, 26%가 3등급, 23%가 5등급 차지함"
   ]
  },
  {
   "cell_type": "markdown",
   "id": "bridal-authentication",
   "metadata": {},
   "source": [
    "### Step 1-2. Session Length\n",
    "\n",
    "* 같은 SessionId를 공유하는 데이터 row의 개수\n",
    "* 해당 사용자가 그 세션 동안 몇번의 액션을 취했는지(몇개의 등급을 작성했는지)의 의미가 됩니다."
   ]
  },
  {
   "cell_type": "code",
   "execution_count": 13,
   "id": "monetary-values",
   "metadata": {},
   "outputs": [
    {
     "data": {
      "text/plain": [
       "UserId\n",
       "1        53\n",
       "2       129\n",
       "3        51\n",
       "4        21\n",
       "5       198\n",
       "       ... \n",
       "6036    888\n",
       "6037    202\n",
       "6038     20\n",
       "6039    123\n",
       "6040    341\n",
       "Length: 6040, dtype: int64"
      ]
     },
     "execution_count": 13,
     "metadata": {},
     "output_type": "execute_result"
    }
   ],
   "source": [
    "session_length = data.groupby('UserId').size()\n",
    "session_length"
   ]
  },
  {
   "cell_type": "code",
   "execution_count": 14,
   "id": "underlying-cutting",
   "metadata": {},
   "outputs": [
    {
     "data": {
      "text/plain": [
       "(96.0, 165.5975165562914)"
      ]
     },
     "execution_count": 14,
     "metadata": {},
     "output_type": "execute_result"
    }
   ],
   "source": [
    "session_length.median(), session_length.mean()"
   ]
  },
  {
   "cell_type": "code",
   "execution_count": 15,
   "id": "practical-wyoming",
   "metadata": {},
   "outputs": [
    {
     "data": {
      "text/plain": [
       "(20, 2314)"
      ]
     },
     "execution_count": 15,
     "metadata": {},
     "output_type": "execute_result"
    }
   ],
   "source": [
    "session_length.min(), session_length.max()"
   ]
  },
  {
   "cell_type": "code",
   "execution_count": 16,
   "id": "employed-genesis",
   "metadata": {},
   "outputs": [
    {
     "data": {
      "text/plain": [
       "1343.181000000005"
      ]
     },
     "execution_count": 16,
     "metadata": {},
     "output_type": "execute_result"
    }
   ],
   "source": [
    "session_length.quantile(0.999)"
   ]
  },
  {
   "cell_type": "markdown",
   "id": "continent-child",
   "metadata": {},
   "source": [
    "각 세션의 길이는 보통 96 정도입니다.  \n",
    "약 2.8년 동안 영화등급을 작성하는 것을 생각해보면 이 수치가 그럴듯하게 느껴집니다.  \n",
    "99.9% 세션은 길이가 1,343 이하입니다.  \n",
    "길이가 2,314인 세션은 뭔가 이상합니다."
   ]
  },
  {
   "cell_type": "code",
   "execution_count": 17,
   "id": "occupied-anger",
   "metadata": {},
   "outputs": [
    {
     "data": {
      "text/html": [
       "<div>\n",
       "<style scoped>\n",
       "    .dataframe tbody tr th:only-of-type {\n",
       "        vertical-align: middle;\n",
       "    }\n",
       "\n",
       "    .dataframe tbody tr th {\n",
       "        vertical-align: top;\n",
       "    }\n",
       "\n",
       "    .dataframe thead th {\n",
       "        text-align: right;\n",
       "    }\n",
       "</style>\n",
       "<table border=\"1\" class=\"dataframe\">\n",
       "  <thead>\n",
       "    <tr style=\"text-align: right;\">\n",
       "      <th></th>\n",
       "      <th>UserId</th>\n",
       "      <th>MovieId</th>\n",
       "      <th>Rating</th>\n",
       "      <th>Time</th>\n",
       "    </tr>\n",
       "  </thead>\n",
       "  <tbody>\n",
       "    <tr>\n",
       "      <th>696969</th>\n",
       "      <td>4169</td>\n",
       "      <td>1268</td>\n",
       "      <td>5</td>\n",
       "      <td>965333392</td>\n",
       "    </tr>\n",
       "    <tr>\n",
       "      <th>697168</th>\n",
       "      <td>4169</td>\n",
       "      <td>2617</td>\n",
       "      <td>4</td>\n",
       "      <td>965333392</td>\n",
       "    </tr>\n",
       "    <tr>\n",
       "      <th>697185</th>\n",
       "      <td>4169</td>\n",
       "      <td>2628</td>\n",
       "      <td>4</td>\n",
       "      <td>965333392</td>\n",
       "    </tr>\n",
       "    <tr>\n",
       "      <th>697219</th>\n",
       "      <td>4169</td>\n",
       "      <td>2653</td>\n",
       "      <td>4</td>\n",
       "      <td>965333392</td>\n",
       "    </tr>\n",
       "    <tr>\n",
       "      <th>697275</th>\n",
       "      <td>4169</td>\n",
       "      <td>423</td>\n",
       "      <td>3</td>\n",
       "      <td>965333392</td>\n",
       "    </tr>\n",
       "    <tr>\n",
       "      <th>...</th>\n",
       "      <td>...</td>\n",
       "      <td>...</td>\n",
       "      <td>...</td>\n",
       "      <td>...</td>\n",
       "    </tr>\n",
       "    <tr>\n",
       "      <th>697882</th>\n",
       "      <td>4169</td>\n",
       "      <td>3754</td>\n",
       "      <td>2</td>\n",
       "      <td>1024174347</td>\n",
       "    </tr>\n",
       "    <tr>\n",
       "      <th>695702</th>\n",
       "      <td>4169</td>\n",
       "      <td>1413</td>\n",
       "      <td>3</td>\n",
       "      <td>1024175031</td>\n",
       "    </tr>\n",
       "    <tr>\n",
       "      <th>697358</th>\n",
       "      <td>4169</td>\n",
       "      <td>494</td>\n",
       "      <td>4</td>\n",
       "      <td>1024175760</td>\n",
       "    </tr>\n",
       "    <tr>\n",
       "      <th>695945</th>\n",
       "      <td>4169</td>\n",
       "      <td>1804</td>\n",
       "      <td>2</td>\n",
       "      <td>1024175783</td>\n",
       "    </tr>\n",
       "    <tr>\n",
       "      <th>696446</th>\n",
       "      <td>4169</td>\n",
       "      <td>1548</td>\n",
       "      <td>3</td>\n",
       "      <td>1024176337</td>\n",
       "    </tr>\n",
       "  </tbody>\n",
       "</table>\n",
       "<p>2314 rows × 4 columns</p>\n",
       "</div>"
      ],
      "text/plain": [
       "        UserId  MovieId  Rating        Time\n",
       "696969    4169     1268       5   965333392\n",
       "697168    4169     2617       4   965333392\n",
       "697185    4169     2628       4   965333392\n",
       "697219    4169     2653       4   965333392\n",
       "697275    4169      423       3   965333392\n",
       "...        ...      ...     ...         ...\n",
       "697882    4169     3754       2  1024174347\n",
       "695702    4169     1413       3  1024175031\n",
       "697358    4169      494       4  1024175760\n",
       "695945    4169     1804       2  1024175783\n",
       "696446    4169     1548       3  1024176337\n",
       "\n",
       "[2314 rows x 4 columns]"
      ]
     },
     "execution_count": 17,
     "metadata": {},
     "output_type": "execute_result"
    }
   ],
   "source": [
    "long_session = session_length[session_length==2314].index[0]\n",
    "data[data['UserId']==long_session]"
   ]
  },
  {
   "cell_type": "code",
   "execution_count": 18,
   "id": "conditional-nutrition",
   "metadata": {},
   "outputs": [
    {
     "data": {
      "text/plain": [
       "UserId        1\n",
       "MovieId    2314\n",
       "Rating        5\n",
       "Time        684\n",
       "dtype: int64"
      ]
     },
     "execution_count": 18,
     "metadata": {},
     "output_type": "execute_result"
    }
   ],
   "source": [
    "data[data['UserId']==long_session].nunique()"
   ]
  },
  {
   "cell_type": "markdown",
   "id": "beneficial-millennium",
   "metadata": {},
   "source": [
    "* 유저 1명이 매우 짧은 간격으로 지속적으로 등급 작성을 하고 있습니다."
   ]
  },
  {
   "cell_type": "code",
   "execution_count": 19,
   "id": "fifth-blank",
   "metadata": {},
   "outputs": [
    {
     "data": {
      "text/plain": [
       "20      0.014238\n",
       "21      0.029305\n",
       "22      0.042053\n",
       "23      0.055464\n",
       "24      0.068874\n",
       "          ...   \n",
       "1271    0.998179\n",
       "1277    0.998344\n",
       "1286    0.998510\n",
       "1302    0.998675\n",
       "1323    0.998841\n",
       "Length: 736, dtype: float64"
      ]
     },
     "execution_count": 19,
     "metadata": {},
     "output_type": "execute_result"
    }
   ],
   "source": [
    "# 세션길이 기준 하위 99.9%까지의 분포 누적합 계산\n",
    "length_count = session_length.groupby(session_length).size()\n",
    "length_percent_cumsum = length_count.cumsum() / length_count.sum()\n",
    "length_percent_cumsum_999 = length_percent_cumsum[length_percent_cumsum < 0.999]\n",
    "\n",
    "length_percent_cumsum_999"
   ]
  },
  {
   "cell_type": "code",
   "execution_count": 20,
   "id": "understanding-singles",
   "metadata": {},
   "outputs": [
    {
     "data": {
      "image/png": "[encoded data removed]",
      "text/plain": [
       "<Figure size 1080x504 with 1 Axes>"
      ]
     },
     "metadata": {
      "needs_background": "light"
     },
     "output_type": "display_data"
    }
   ],
   "source": [
    "# 세션길이 기준 하위 99.9%까지의 분포 누적합 시각화\n",
    "import matplotlib.pyplot as plt\n",
    "\n",
    "plt.figure(figsize=(15, 7))\n",
    "plt.bar(x=length_percent_cumsum_999.index,\n",
    "        height=length_percent_cumsum_999, color='red')\n",
    "plt.xticks(length_percent_cumsum_999.index)\n",
    "plt.yticks(np.arange(0, 1.01, 0.05))\n",
    "plt.title('Cumsum Percentage Until 0.999', size=20)\n",
    "plt.show()"
   ]
  },
  {
   "cell_type": "markdown",
   "id": "equipped-processing",
   "metadata": {},
   "source": [
    "### Step 1-3. Session Time\n",
    "\n",
    "데이터가 발생한 시간에 대해 알아보기"
   ]
  },
  {
   "cell_type": "code",
   "execution_count": 21,
   "id": "veterinary-temperature",
   "metadata": {},
   "outputs": [
    {
     "name": "stdout",
     "output_type": "stream",
     "text": [
      "oldest : 956703932\n",
      "latest : 1046454590\n",
      "수집 기간 [월] : 34.6\n"
     ]
    }
   ],
   "source": [
    "# 데이터의 시간 관련 정보를 확인\n",
    "oldest, latest = data['Time'].min(), data['Time'].max()\n",
    "print('oldest :', oldest) \n",
    "print('latest :', latest)\n",
    "print(f'수집 기간 [월] : {round((latest - oldest)/(30*day_sec), 1)}')"
   ]
  },
  {
   "cell_type": "markdown",
   "id": "bright-rogers",
   "metadata": {},
   "source": [
    "약 35개월의 데이터가 있습니다.  \n",
    "저는 최신 영화 트렌트를 학습하기 위해서 3개월 데이터만 사용하려고 합니다."
   ]
  },
  {
   "cell_type": "code",
   "execution_count": 22,
   "id": "western-watch",
   "metadata": {},
   "outputs": [
    {
     "name": "stdout",
     "output_type": "stream",
     "text": [
      "1038678590\n"
     ]
    },
    {
     "data": {
      "text/html": [
       "<div>\n",
       "<style scoped>\n",
       "    .dataframe tbody tr th:only-of-type {\n",
       "        vertical-align: middle;\n",
       "    }\n",
       "\n",
       "    .dataframe tbody tr th {\n",
       "        vertical-align: top;\n",
       "    }\n",
       "\n",
       "    .dataframe thead th {\n",
       "        text-align: right;\n",
       "    }\n",
       "</style>\n",
       "<table border=\"1\" class=\"dataframe\">\n",
       "  <thead>\n",
       "    <tr style=\"text-align: right;\">\n",
       "      <th></th>\n",
       "      <th>UserId</th>\n",
       "      <th>MovieId</th>\n",
       "      <th>Rating</th>\n",
       "      <th>Time</th>\n",
       "    </tr>\n",
       "  </thead>\n",
       "  <tbody>\n",
       "    <tr>\n",
       "      <th>5200</th>\n",
       "      <td>36</td>\n",
       "      <td>2269</td>\n",
       "      <td>5</td>\n",
       "      <td>1040544350</td>\n",
       "    </tr>\n",
       "    <tr>\n",
       "      <th>5256</th>\n",
       "      <td>36</td>\n",
       "      <td>1701</td>\n",
       "      <td>4</td>\n",
       "      <td>1040544350</td>\n",
       "    </tr>\n",
       "    <tr>\n",
       "      <th>5184</th>\n",
       "      <td>36</td>\n",
       "      <td>2694</td>\n",
       "      <td>3</td>\n",
       "      <td>1040544494</td>\n",
       "    </tr>\n",
       "    <tr>\n",
       "      <th>5364</th>\n",
       "      <td>36</td>\n",
       "      <td>3786</td>\n",
       "      <td>4</td>\n",
       "      <td>1040544521</td>\n",
       "    </tr>\n",
       "    <tr>\n",
       "      <th>5262</th>\n",
       "      <td>36</td>\n",
       "      <td>2369</td>\n",
       "      <td>4</td>\n",
       "      <td>1040544564</td>\n",
       "    </tr>\n",
       "    <tr>\n",
       "      <th>...</th>\n",
       "      <td>...</td>\n",
       "      <td>...</td>\n",
       "      <td>...</td>\n",
       "      <td>...</td>\n",
       "    </tr>\n",
       "    <tr>\n",
       "      <th>984731</th>\n",
       "      <td>5950</td>\n",
       "      <td>3948</td>\n",
       "      <td>4</td>\n",
       "      <td>1046369637</td>\n",
       "    </tr>\n",
       "    <tr>\n",
       "      <th>984682</th>\n",
       "      <td>5950</td>\n",
       "      <td>3578</td>\n",
       "      <td>4</td>\n",
       "      <td>1046369670</td>\n",
       "    </tr>\n",
       "    <tr>\n",
       "      <th>984475</th>\n",
       "      <td>5950</td>\n",
       "      <td>3793</td>\n",
       "      <td>3</td>\n",
       "      <td>1046369710</td>\n",
       "    </tr>\n",
       "    <tr>\n",
       "      <th>984660</th>\n",
       "      <td>5950</td>\n",
       "      <td>3555</td>\n",
       "      <td>2</td>\n",
       "      <td>1046369737</td>\n",
       "    </tr>\n",
       "    <tr>\n",
       "      <th>984733</th>\n",
       "      <td>5950</td>\n",
       "      <td>1262</td>\n",
       "      <td>4</td>\n",
       "      <td>1046369858</td>\n",
       "    </tr>\n",
       "  </tbody>\n",
       "</table>\n",
       "<p>4616 rows × 4 columns</p>\n",
       "</div>"
      ],
      "text/plain": [
       "        UserId  MovieId  Rating        Time\n",
       "5200        36     2269       5  1040544350\n",
       "5256        36     1701       4  1040544350\n",
       "5184        36     2694       3  1040544494\n",
       "5364        36     3786       4  1040544521\n",
       "5262        36     2369       4  1040544564\n",
       "...        ...      ...     ...         ...\n",
       "984731    5950     3948       4  1046369637\n",
       "984682    5950     3578       4  1046369670\n",
       "984475    5950     3793       3  1046369710\n",
       "984660    5950     3555       2  1046369737\n",
       "984733    5950     1262       4  1046369858\n",
       "\n",
       "[4616 rows x 4 columns]"
      ]
     },
     "execution_count": 22,
     "metadata": {},
     "output_type": "execute_result"
    }
   ],
   "source": [
    "month_ago = latest - 3*30*day_sec             # 최종 날짜로부터 3개월 이전 날짜를 구한다.  \n",
    "data_ago = data[data['Time'] > month_ago]     # 방금 구한 날짜 이후의 데이터만 모은다. \n",
    "print(month_ago)\n",
    "data_ago"
   ]
  },
  {
   "cell_type": "code",
   "execution_count": 23,
   "id": "controlling-helping",
   "metadata": {},
   "outputs": [],
   "source": [
    "week_ago1 = data_ago[\"Time\"].max() - 1*7*day_sec\n",
    "week_ago2 = data_ago[\"Time\"].max() - 2*7*day_sec\n",
    "\n",
    "train = data_ago[data_ago[\"Time\"] < week_ago2 ]\n",
    "valid = data_ago[(data_ago[\"Time\"] >= week_ago2) & (data_ago[\"Time\"] < week_ago1) ]\n",
    "test = data_ago[data_ago[\"Time\"] >= week_ago1 ]"
   ]
  },
  {
   "cell_type": "code",
   "execution_count": 24,
   "id": "planned-spectacular",
   "metadata": {},
   "outputs": [
    {
     "data": {
      "text/plain": [
       "((4019, 4), (216, 4), (381, 4))"
      ]
     },
     "execution_count": 24,
     "metadata": {},
     "output_type": "execute_result"
    }
   ],
   "source": [
    "train.shape, valid.shape, test.shape"
   ]
  },
  {
   "cell_type": "code",
   "execution_count": 25,
   "id": "spare-student",
   "metadata": {},
   "outputs": [
    {
     "name": "stdout",
     "output_type": "stream",
     "text": [
      "1038687892 1046454590\n",
      "89.9\n"
     ]
    }
   ],
   "source": [
    "# analysis set\n",
    "print(data_ago[\"Time\"].min(), data_ago[\"Time\"].max())\n",
    "print(round((data_ago[\"Time\"].max() - data_ago[\"Time\"].min())/day_sec, 1))"
   ]
  },
  {
   "cell_type": "code",
   "execution_count": 26,
   "id": "corresponding-undergraduate",
   "metadata": {},
   "outputs": [
    {
     "name": "stdout",
     "output_type": "stream",
     "text": [
      "1038687892 1045240517\n",
      "75.8\n"
     ]
    }
   ],
   "source": [
    "# train data\n",
    "print(train[\"Time\"].min(), train[\"Time\"].max())\n",
    "print(round((train[\"Time\"].max() - train[\"Time\"].min())/day_sec, 1))"
   ]
  },
  {
   "cell_type": "code",
   "execution_count": 27,
   "id": "illegal-respect",
   "metadata": {},
   "outputs": [
    {
     "name": "stdout",
     "output_type": "stream",
     "text": [
      "1045268109 1045847323\n",
      "6.7\n"
     ]
    }
   ],
   "source": [
    "# valid data\n",
    "print(valid[\"Time\"].min(), valid[\"Time\"].max())\n",
    "print(round((valid[\"Time\"].max() - valid[\"Time\"].min())/day_sec, 1))"
   ]
  },
  {
   "cell_type": "code",
   "execution_count": 28,
   "id": "opposed-trouble",
   "metadata": {},
   "outputs": [
    {
     "name": "stdout",
     "output_type": "stream",
     "text": [
      "1045856844 1046454590\n",
      "6.9\n"
     ]
    }
   ],
   "source": [
    "# test data\n",
    "print(test[\"Time\"].min(), test[\"Time\"].max())\n",
    "print(round((test[\"Time\"].max() - test[\"Time\"].min())/day_sec, 1))"
   ]
  },
  {
   "cell_type": "markdown",
   "id": "persistent-twist",
   "metadata": {},
   "source": [
    "### Step 1-3. Data Cleansing\n",
    "\n",
    "너무 적게 등급이 작성된 아이템은 이상한 아이템일 가능성이 있습니다.   \n",
    "그러므로 길이가 1인 세션은 제거해줍니다."
   ]
  },
  {
   "cell_type": "code",
   "execution_count": 29,
   "id": "apparent-fraud",
   "metadata": {},
   "outputs": [],
   "source": [
    "# short_session을 제거한 다음 unpopular item을 제거하면 다시 길이가 1인 session이 생길 수 있습니다.\n",
    "# 이를 위해 반복문을 통해 지속적으로 제거 합니다.\n",
    "def cleanse_recursive(data: pd.DataFrame, shortest, least_click) -> pd.DataFrame:\n",
    "    while True:\n",
    "        before_len = len(data)\n",
    "        data = cleanse_short_session(data, shortest)\n",
    "        data = cleanse_unpopular_item(data, least_click)\n",
    "        after_len = len(data)\n",
    "        if before_len == after_len:\n",
    "            break\n",
    "    return data\n",
    "\n",
    "\n",
    "def cleanse_short_session(data: pd.DataFrame, shortest):\n",
    "    session_len = data.groupby('UserId').size()\n",
    "    session_use = session_len[session_len >= shortest].index\n",
    "    data = data[data['UserId'].isin(session_use)]\n",
    "    return data\n",
    "\n",
    "\n",
    "def cleanse_unpopular_item(data: pd.DataFrame, least_click):\n",
    "    item_popular = data.groupby('MovieId').size()\n",
    "    item_use = item_popular[item_popular >= least_click].index\n",
    "    data = data[data['MovieId'].isin(item_use)]\n",
    "    return data"
   ]
  },
  {
   "cell_type": "code",
   "execution_count": 30,
   "id": "shaped-glossary",
   "metadata": {},
   "outputs": [
    {
     "data": {
      "text/plain": [
       "(1606, 4)"
      ]
     },
     "execution_count": 30,
     "metadata": {},
     "output_type": "execute_result"
    }
   ],
   "source": [
    "data_cleansed = cleanse_recursive(data_ago, shortest=2, least_click=5)\n",
    "\n",
    "data_cleansed.shape"
   ]
  },
  {
   "cell_type": "markdown",
   "id": "comparable-ribbon",
   "metadata": {},
   "source": [
    "* 4616 개의 데이터에서 1604 개의 데이터만 남았다. \n",
    "* 3012(4616-1604) 개의 데이터는 short_session을 제거하고 unpopular item을 제거하면서 삭제되었다."
   ]
  },
  {
   "cell_type": "markdown",
   "id": "settled-technique",
   "metadata": {},
   "source": [
    "## Step 2. 미니 배치의 구성\n",
    "\n",
    "* 실습코드 내역을 참고하여 데이터셋과 미니 배치를 구성해 봅시다. \n",
    "  - Session-Parallel Mini-Batch의 개념에 따라, \n",
    "  - 학습 속도의 저하가 최소화될 수 있도록 구성합니다.\n",
    "\n",
    "\n",
    "* 단, 위 Step 1에서 Session 단위를 어떻게 정의했느냐에 따라서 \n",
    "  - Session-Parallel Mini-Batch이 굳이 필요하지 않을 수도 있습니다.\n",
    "\n"
   ]
  },
  {
   "cell_type": "markdown",
   "id": "soviet-tunnel",
   "metadata": {},
   "source": [
    "### Train / Valid / Test split\n",
    "\n",
    "Session-Based Recommendation에서는 기간에 따라 Train/ Valid/ Test 셋을 나누기도 합니다.\n",
    "\n",
    "이번 자료에서는 가장 마지막 1주일 기간 동안을 Test로, 2주일전부터 1주일전 까지를 valid set으로 나누겠습니다."
   ]
  },
  {
   "cell_type": "code",
   "execution_count": 31,
   "id": "third-utility",
   "metadata": {},
   "outputs": [],
   "source": [
    "week_ago1 = data_ago[\"Time\"].max() - 1*7*day_sec\n",
    "week_ago2 = data_ago[\"Time\"].max() - 2*7*day_sec\n",
    "\n",
    "tr = data_cleansed[data_cleansed[\"Time\"] < week_ago2 ]\n",
    "val = data_cleansed[(data_cleansed[\"Time\"] >= week_ago2) & (data_cleansed[\"Time\"] < week_ago1) ]\n",
    "test = data_cleansed[data_cleansed[\"Time\"] >= week_ago1 ]"
   ]
  },
  {
   "cell_type": "code",
   "execution_count": 32,
   "id": "interpreted-encoding",
   "metadata": {},
   "outputs": [
    {
     "data": {
      "text/plain": [
       "((1410, 4), (86, 4), (110, 4))"
      ]
     },
     "execution_count": 32,
     "metadata": {},
     "output_type": "execute_result"
    }
   ],
   "source": [
    "tr.shape, val.shape, test.shape"
   ]
  },
  {
   "cell_type": "code",
   "execution_count": 33,
   "id": "corporate-supervisor",
   "metadata": {},
   "outputs": [],
   "source": [
    "tr.sort_values([\"UserId\", \"Time\"], inplace=True)\n",
    "val.sort_values([\"UserId\",  \"Time\"], inplace=True)\n",
    "test.sort_values([\"UserId\", \"Time\"], inplace=True)"
   ]
  },
  {
   "cell_type": "code",
   "execution_count": null,
   "id": "damaged-coordinate",
   "metadata": {},
   "outputs": [],
   "source": []
  },
  {
   "cell_type": "code",
   "execution_count": 34,
   "id": "touched-asian",
   "metadata": {},
   "outputs": [],
   "source": [
    "# session_last_time = data_cleansed.groupby('UserId')['Time'].max()\n",
    "# session_last_time"
   ]
  },
  {
   "cell_type": "code",
   "execution_count": 35,
   "id": "brief-weight",
   "metadata": {},
   "outputs": [],
   "source": [
    "# final_time = data_cleansed['Time'].max()\n",
    "# session_last_time = data_cleansed.groupby('UserId')['Time'].max()\n",
    "# session_in_train = session_last_time[session_last_time < final_time - 7*day_sec].index\n",
    "# session_in_test = session_last_time[session_last_time >= final_time - 7*day_sec].index"
   ]
  },
  {
   "cell_type": "code",
   "execution_count": 36,
   "id": "painful-joseph",
   "metadata": {},
   "outputs": [],
   "source": [
    "# session_in_test"
   ]
  },
  {
   "cell_type": "code",
   "execution_count": 37,
   "id": "medieval-arbor",
   "metadata": {},
   "outputs": [],
   "source": [
    "# before_date = data_cleansed[data_cleansed['UserId'].isin(session_in_train)]\n",
    "# after_date = data_cleansed[data_cleansed['UserId'].isin(session_in_test)]\n",
    "# after_date = after_date[after_date['MovieId'].isin(before_date['MovieId'])]\n",
    "# train1, test1 = before_date, after_date"
   ]
  },
  {
   "cell_type": "code",
   "execution_count": 38,
   "id": "dying-content",
   "metadata": {},
   "outputs": [],
   "source": [
    "# train1.shape, test1.shape"
   ]
  },
  {
   "cell_type": "code",
   "execution_count": 39,
   "id": "international-creature",
   "metadata": {},
   "outputs": [],
   "source": [
    "# round((train1[\"Time\"].max() - train1[\"Time\"].min())/day_sec, 1)"
   ]
  },
  {
   "cell_type": "code",
   "execution_count": 40,
   "id": "objective-andrew",
   "metadata": {},
   "outputs": [],
   "source": [
    "# round((test1[\"Time\"].max() - test1[\"Time\"].min())/day_sec, 1)"
   ]
  },
  {
   "cell_type": "code",
   "execution_count": null,
   "id": "minimal-lodging",
   "metadata": {},
   "outputs": [],
   "source": []
  },
  {
   "cell_type": "code",
   "execution_count": 41,
   "id": "ranging-gazette",
   "metadata": {
    "hide_input": false
   },
   "outputs": [],
   "source": [
    "# def split_by_date(data: pd.DataFrame, n_days: int):\n",
    "#     final_time = data['Time'].max()\n",
    "#     session_last_time = data.groupby('UserId')['Time'].max()\n",
    "#     session_in_train = session_last_time[session_last_time < final_time - dt.timedelta(n_days)].index\n",
    "#     session_in_test = session_last_time[session_last_time >= final_time - dt.timedelta(n_days)].index\n",
    "\n",
    "#     before_date = data[data['UserId'].isin(session_in_train)]\n",
    "#     after_date = data[data['UserId'].isin(session_in_test)]\n",
    "#     after_date = after_date[after_date['MovieId'].isin(before_date['MovieId'])]\n",
    "#     return before_date, after_date"
   ]
  },
  {
   "cell_type": "markdown",
   "id": "lined-nitrogen",
   "metadata": {},
   "source": [
    "* `.isin()`\n",
    "* `.index`"
   ]
  },
  {
   "cell_type": "code",
   "execution_count": 42,
   "id": "fundamental-gothic",
   "metadata": {
    "scrolled": true
   },
   "outputs": [],
   "source": [
    "# # train/test 분리\n",
    "# train, test = split_by_date(data_cleansed, n_days=7)\n",
    "\n",
    "# print(train[\"Time\"].max() - train[\"Time\"].min())\n",
    "# print(test[\"Time\"].max() - test[\"Time\"].min())\n",
    "\n",
    "# # train/valid 분리\n",
    "# train, valid = split_by_date(train, n_days=7)\n",
    "# print(train[\"Time\"].max() - train[\"Time\"].min())\n",
    "# print(valid[\"Time\"].max() - valid[\"Time\"].min())"
   ]
  },
  {
   "cell_type": "code",
   "execution_count": 43,
   "id": "possible-making",
   "metadata": {},
   "outputs": [],
   "source": [
    "# data에 대한 정보를 살펴봅니다.\n",
    "def stats_info(data: pd.DataFrame, status: str):\n",
    "    print(f'* {status} Set Stats Info\\n'\n",
    "          f'\\t Events: {len(data)}\\n'\n",
    "          f'\\t UserId: {data[\"UserId\"].nunique()}\\n'\n",
    "          f'\\t Items: {data[\"MovieId\"].nunique()}\\n'\n",
    "          f'\\t First Time : {data[\"Time\"].min()}\\n'\n",
    "          f'\\t Last Time : {data[\"Time\"].max()}\\n'\n",
    "          f'\\t Days : {round((data[\"Time\"].max() - data[\"Time\"].min())/day_sec, 1)}\\n')"
   ]
  },
  {
   "cell_type": "code",
   "execution_count": 44,
   "id": "experimental-copper",
   "metadata": {},
   "outputs": [
    {
     "name": "stdout",
     "output_type": "stream",
     "text": [
      "* train Set Stats Info\n",
      "\t Events: 1410\n",
      "\t UserId: 136\n",
      "\t Items: 231\n",
      "\t First Time : 1038716220\n",
      "\t Last Time : 1045240517\n",
      "\t Days : 75.5\n",
      "\n",
      "* valid Set Stats Info\n",
      "\t Events: 86\n",
      "\t UserId: 18\n",
      "\t Items: 74\n",
      "\t First Time : 1045268202\n",
      "\t Last Time : 1045841716\n",
      "\t Days : 6.6\n",
      "\n",
      "* test Set Stats Info\n",
      "\t Events: 110\n",
      "\t UserId: 19\n",
      "\t Items: 86\n",
      "\t First Time : 1045856844\n",
      "\t Last Time : 1046454320\n",
      "\t Days : 6.9\n",
      "\n"
     ]
    }
   ],
   "source": [
    "stats_info(tr, 'train')\n",
    "stats_info(val, 'valid')\n",
    "stats_info(test, 'test')"
   ]
  },
  {
   "cell_type": "code",
   "execution_count": 45,
   "id": "august-window",
   "metadata": {},
   "outputs": [],
   "source": [
    "# train set에 없는 아이템이 val, test기간에 생길 수 있으므로 train data를 기준으로 인덱싱합니다.\n",
    "id2idx = {item_id : index for index, item_id in enumerate(train['MovieId'].unique())}\n",
    "\n",
    "def indexing(df, id2idx):\n",
    "    df['item_idx'] = df['MovieId'].map(lambda x: id2idx.get(x, -1))  # id2idx에 없는 아이템은 모르는 값(-1) 처리 해줍니다.\n",
    "    return df\n",
    "\n",
    "tr = indexing(tr, id2idx)\n",
    "val = indexing(val, id2idx)\n",
    "test = indexing(test, id2idx)"
   ]
  },
  {
   "cell_type": "code",
   "execution_count": 46,
   "id": "nominated-grove",
   "metadata": {},
   "outputs": [],
   "source": [
    "save_path = data_path / 'processed'\n",
    "save_path.mkdir(parents=True, exist_ok=True)\n",
    "\n",
    "tr.to_pickle(save_path / 'train.pkl')\n",
    "val.to_pickle(save_path / 'valid.pkl')\n",
    "test.to_pickle(save_path / 'test.pkl')"
   ]
  },
  {
   "cell_type": "markdown",
   "id": "prospective-render",
   "metadata": {},
   "source": [
    "* `.to_pickle()`"
   ]
  },
  {
   "cell_type": "markdown",
   "id": "spread-person",
   "metadata": {},
   "source": [
    "## Step 3. 모델 구성\n",
    "\n",
    "이 부분도 실습코드 내역을 참고하여 다양하게 모델 구조를 시도해볼 수 있습니다."
   ]
  },
  {
   "cell_type": "markdown",
   "id": "every-photography",
   "metadata": {},
   "source": [
    "### Data Pipeline  (Session-Parallel Mini-Batch 로 구현)"
   ]
  },
  {
   "cell_type": "markdown",
   "id": "turkish-spencer",
   "metadata": {},
   "source": [
    "#### SessionDataset"
   ]
  },
  {
   "cell_type": "code",
   "execution_count": 47,
   "id": "supported-assist",
   "metadata": {},
   "outputs": [],
   "source": [
    "# 세션이 시작되는 인덱스를 담는 값과 세션을 새로 인덱싱한 값을 갖는 클래스\n",
    "class SessionDataset:\n",
    "    \"\"\"Credit to yhs-968/pyGRU4REC.\"\"\"\n",
    "\n",
    "    def __init__(self, data):\n",
    "        self.df = data\n",
    "        self.click_offsets = self.get_click_offsets()\n",
    "        self.session_idx = np.arange(self.df['UserId'].nunique())  \n",
    "\n",
    "    def get_click_offsets(self):\n",
    "        \"\"\"\n",
    "        Return the indexes of the first click of each session IDs,\n",
    "        \"\"\"\n",
    "        offsets = np.zeros(self.df['UserId'].nunique() + 1, dtype=np.int32)\n",
    "        offsets[1:] = self.df.groupby('UserId').size().cumsum()\n",
    "        return offsets"
   ]
  },
  {
   "cell_type": "code",
   "execution_count": 48,
   "id": "conceptual-ranking",
   "metadata": {},
   "outputs": [
    {
     "data": {
      "text/html": [
       "<div>\n",
       "<style scoped>\n",
       "    .dataframe tbody tr th:only-of-type {\n",
       "        vertical-align: middle;\n",
       "    }\n",
       "\n",
       "    .dataframe tbody tr th {\n",
       "        vertical-align: top;\n",
       "    }\n",
       "\n",
       "    .dataframe thead th {\n",
       "        text-align: right;\n",
       "    }\n",
       "</style>\n",
       "<table border=\"1\" class=\"dataframe\">\n",
       "  <thead>\n",
       "    <tr style=\"text-align: right;\">\n",
       "      <th></th>\n",
       "      <th>UserId</th>\n",
       "      <th>MovieId</th>\n",
       "      <th>Rating</th>\n",
       "      <th>Time</th>\n",
       "      <th>item_idx</th>\n",
       "    </tr>\n",
       "  </thead>\n",
       "  <tbody>\n",
       "    <tr>\n",
       "      <th>5364</th>\n",
       "      <td>36</td>\n",
       "      <td>3786</td>\n",
       "      <td>4</td>\n",
       "      <td>1040544521</td>\n",
       "      <td>3</td>\n",
       "    </tr>\n",
       "    <tr>\n",
       "      <th>5280</th>\n",
       "      <td>36</td>\n",
       "      <td>3174</td>\n",
       "      <td>4</td>\n",
       "      <td>1040544685</td>\n",
       "      <td>6</td>\n",
       "    </tr>\n",
       "    <tr>\n",
       "      <th>5222</th>\n",
       "      <td>36</td>\n",
       "      <td>296</td>\n",
       "      <td>5</td>\n",
       "      <td>1040545019</td>\n",
       "      <td>7</td>\n",
       "    </tr>\n",
       "    <tr>\n",
       "      <th>5062</th>\n",
       "      <td>36</td>\n",
       "      <td>1266</td>\n",
       "      <td>5</td>\n",
       "      <td>1040545109</td>\n",
       "      <td>9</td>\n",
       "    </tr>\n",
       "    <tr>\n",
       "      <th>5076</th>\n",
       "      <td>36</td>\n",
       "      <td>595</td>\n",
       "      <td>4</td>\n",
       "      <td>1040545109</td>\n",
       "      <td>10</td>\n",
       "    </tr>\n",
       "    <tr>\n",
       "      <th>5180</th>\n",
       "      <td>36</td>\n",
       "      <td>3639</td>\n",
       "      <td>4</td>\n",
       "      <td>1040545125</td>\n",
       "      <td>12</td>\n",
       "    </tr>\n",
       "    <tr>\n",
       "      <th>8704</th>\n",
       "      <td>59</td>\n",
       "      <td>2997</td>\n",
       "      <td>4</td>\n",
       "      <td>1041962568</td>\n",
       "      <td>13</td>\n",
       "    </tr>\n",
       "    <tr>\n",
       "      <th>8797</th>\n",
       "      <td>59</td>\n",
       "      <td>3408</td>\n",
       "      <td>4</td>\n",
       "      <td>1041962692</td>\n",
       "      <td>15</td>\n",
       "    </tr>\n",
       "    <tr>\n",
       "      <th>8808</th>\n",
       "      <td>59</td>\n",
       "      <td>2712</td>\n",
       "      <td>3</td>\n",
       "      <td>1041962692</td>\n",
       "      <td>16</td>\n",
       "    </tr>\n",
       "    <tr>\n",
       "      <th>8798</th>\n",
       "      <td>59</td>\n",
       "      <td>2396</td>\n",
       "      <td>4</td>\n",
       "      <td>1041962835</td>\n",
       "      <td>20</td>\n",
       "    </tr>\n",
       "  </tbody>\n",
       "</table>\n",
       "</div>"
      ],
      "text/plain": [
       "      UserId  MovieId  Rating        Time  item_idx\n",
       "5364      36     3786       4  1040544521         3\n",
       "5280      36     3174       4  1040544685         6\n",
       "5222      36      296       5  1040545019         7\n",
       "5062      36     1266       5  1040545109         9\n",
       "5076      36      595       4  1040545109        10\n",
       "5180      36     3639       4  1040545125        12\n",
       "8704      59     2997       4  1041962568        13\n",
       "8797      59     3408       4  1041962692        15\n",
       "8808      59     2712       3  1041962692        16\n",
       "8798      59     2396       4  1041962835        20"
      ]
     },
     "execution_count": 48,
     "metadata": {},
     "output_type": "execute_result"
    }
   ],
   "source": [
    "# train데이터로 SessionDataset 객체를 만들기\n",
    "tr_dataset = SessionDataset(tr)\n",
    "tr_dataset.df.head(10)"
   ]
  },
  {
   "cell_type": "code",
   "execution_count": 49,
   "id": "orange-andrew",
   "metadata": {},
   "outputs": [
    {
     "data": {
      "text/plain": [
       "array([   0,    6,   41,   92,   99,  127,  133,  174,  176,  178,  181,\n",
       "        184,  191,  203,  205,  298,  302,  341,  350,  359,  363,  369,\n",
       "        371,  374,  379,  381,  385,  387,  395,  405,  407,  411,  413,\n",
       "        422,  424,  431,  435,  443,  447,  465,  468,  487,  490,  492,\n",
       "        495,  497,  501,  503,  508,  518,  520,  522,  526,  538,  547,\n",
       "        550,  566,  568,  575,  594,  598,  600,  631,  639,  645,  646,\n",
       "        648,  661,  677,  685,  699,  701,  707,  710,  718,  720,  722,\n",
       "        728,  730,  739,  741,  795,  796,  799,  814,  819,  823,  825,\n",
       "        831,  835,  845,  855,  862,  868,  883,  885,  892,  896,  901,\n",
       "        905,  908,  910,  913,  916,  974,  978,  981,  988,  994,  999,\n",
       "       1011, 1017, 1028, 1058, 1061, 1065, 1070, 1096, 1101, 1104, 1202,\n",
       "       1219, 1234, 1248, 1253, 1257, 1262, 1278, 1282, 1287, 1290, 1292,\n",
       "       1318, 1339, 1341, 1408, 1410], dtype=int32)"
      ]
     },
     "execution_count": 49,
     "metadata": {},
     "output_type": "execute_result"
    }
   ],
   "source": [
    "# 각 세션이 시작된 인덱스\n",
    "tr_dataset.click_offsets"
   ]
  },
  {
   "cell_type": "code",
   "execution_count": 50,
   "id": "falling-classroom",
   "metadata": {},
   "outputs": [
    {
     "data": {
      "text/plain": [
       "array([  0,   1,   2,   3,   4,   5,   6,   7,   8,   9,  10,  11,  12,\n",
       "        13,  14,  15,  16,  17,  18,  19,  20,  21,  22,  23,  24,  25,\n",
       "        26,  27,  28,  29,  30,  31,  32,  33,  34,  35,  36,  37,  38,\n",
       "        39,  40,  41,  42,  43,  44,  45,  46,  47,  48,  49,  50,  51,\n",
       "        52,  53,  54,  55,  56,  57,  58,  59,  60,  61,  62,  63,  64,\n",
       "        65,  66,  67,  68,  69,  70,  71,  72,  73,  74,  75,  76,  77,\n",
       "        78,  79,  80,  81,  82,  83,  84,  85,  86,  87,  88,  89,  90,\n",
       "        91,  92,  93,  94,  95,  96,  97,  98,  99, 100, 101, 102, 103,\n",
       "       104, 105, 106, 107, 108, 109, 110, 111, 112, 113, 114, 115, 116,\n",
       "       117, 118, 119, 120, 121, 122, 123, 124, 125, 126, 127, 128, 129,\n",
       "       130, 131, 132, 133, 134, 135])"
      ]
     },
     "execution_count": 50,
     "metadata": {},
     "output_type": "execute_result"
    }
   ],
   "source": [
    "# 각 세션을 인덱싱한 np.array\n",
    "tr_dataset.session_idx"
   ]
  },
  {
   "cell_type": "markdown",
   "id": "synthetic-purchase",
   "metadata": {},
   "source": [
    "####  SessionDataLoader"
   ]
  },
  {
   "cell_type": "code",
   "execution_count": 51,
   "id": "polished-aggregate",
   "metadata": {},
   "outputs": [],
   "source": [
    "# SessionDataset 객체를 받아서 Session-Parallel mini-batch를 만드는 클래스\n",
    "class SessionDataLoader:\n",
    "    \"\"\"Credit to yhs-968/pyGRU4REC.\"\"\"\n",
    "\n",
    "    def __init__(self, dataset: SessionDataset, batch_size=50):\n",
    "        self.dataset = dataset\n",
    "        self.batch_size = batch_size\n",
    "\n",
    "    def __iter__(self):\n",
    "        \"\"\" Returns the iterator for producing session-parallel training mini-batches.\n",
    "        Yields:\n",
    "            input (B,):  Item indices that will be encoded as one-hot vectors later.\n",
    "            target (B,): a Variable that stores the target item indices\n",
    "            masks: Numpy array indicating the positions of the sessions to be terminated\n",
    "        \"\"\"\n",
    "\n",
    "        start, end, mask, last_session, finished = self.initialize()  # initialize 메소드에서 확인해주세요.\n",
    "        \"\"\"\n",
    "        start : Index Where Session Start\n",
    "        end : Index Where Session End\n",
    "        mask : indicator for the sessions to be terminated\n",
    "        \"\"\"\n",
    "\n",
    "        while not finished:\n",
    "            min_len = (end - start).min() - 1  # Shortest Length Among Sessions\n",
    "            for i in range(min_len):\n",
    "                # Build inputs & targets\n",
    "                inp = self.dataset.df['item_idx'].values[start + i]\n",
    "                target = self.dataset.df['item_idx'].values[start + i + 1]\n",
    "                yield inp, target, mask\n",
    "\n",
    "            start, end, mask, last_session, finished = self.update_status(start, end, min_len, last_session, finished)\n",
    "\n",
    "    def initialize(self):\n",
    "        first_iters = np.arange(self.batch_size)    # 첫 배치에 사용할 세션 Index를 가져옵니다.\n",
    "        last_session = self.batch_size - 1    # 마지막으로 다루고 있는 세션 Index를 저장해둡니다.\n",
    "        start = self.dataset.click_offsets[self.dataset.session_idx[first_iters]]       # data 상에서 session이 시작된 위치를 가져옵니다.\n",
    "        end = self.dataset.click_offsets[self.dataset.session_idx[first_iters] + 1]  # session이 끝난 위치 바로 다음 위치를 가져옵니다.\n",
    "        mask = np.array([])   # session의 모든 아이템을 다 돌은 경우 mask에 추가해줄 것입니다.\n",
    "        finished = False         # data를 전부 돌았는지 기록하기 위한 변수입니다.\n",
    "        return start, end, mask, last_session, finished\n",
    "\n",
    "    def update_status(self, start: np.ndarray, end: np.ndarray, min_len: int, last_session: int, finished: bool):  \n",
    "        # 다음 배치 데이터를 생성하기 위해 상태를 update합니다.\n",
    "        \n",
    "        start += min_len   # __iter__에서 min_len 만큼 for문을 돌았으므로 start를 min_len 만큼 더해줍니다.\n",
    "        mask = np.arange(self.batch_size)[(end - start) == 1]  \n",
    "        # end는 다음 세션이 시작되는 위치인데 start와 한 칸 차이난다는 것은 session이 끝났다는 뜻입니다. mask에 기록해줍니다.\n",
    "\n",
    "        for i, idx in enumerate(mask, start=1):  # mask에 추가된 세션 개수만큼 새로운 세션을 돌것입니다.\n",
    "            new_session = last_session + i  \n",
    "            if new_session > self.dataset.session_idx[-1]:  # 만약 새로운 세션이 마지막 세션 index보다 크다면 모든 학습데이터를 돈 것입니다.\n",
    "                finished = True\n",
    "                break\n",
    "            # update the next starting/ending point\n",
    "            start[idx] = self.dataset.click_offsets[self.dataset.session_idx[new_session]]     # 종료된 세션 대신 새로운 세션의 시작점을 기록합니다.\n",
    "            end[idx] = self.dataset.click_offsets[self.dataset.session_idx[new_session] + 1]\n",
    "\n",
    "        last_session += len(mask)  # 마지막 세션의 위치를 기록해둡니다.\n",
    "        return start, end, mask, last_session, finished"
   ]
  },
  {
   "cell_type": "code",
   "execution_count": 52,
   "id": "isolated-administrator",
   "metadata": {},
   "outputs": [
    {
     "data": {
      "text/html": [
       "<div>\n",
       "<style scoped>\n",
       "    .dataframe tbody tr th:only-of-type {\n",
       "        vertical-align: middle;\n",
       "    }\n",
       "\n",
       "    .dataframe tbody tr th {\n",
       "        vertical-align: top;\n",
       "    }\n",
       "\n",
       "    .dataframe thead th {\n",
       "        text-align: right;\n",
       "    }\n",
       "</style>\n",
       "<table border=\"1\" class=\"dataframe\">\n",
       "  <thead>\n",
       "    <tr style=\"text-align: right;\">\n",
       "      <th></th>\n",
       "      <th>UserId</th>\n",
       "      <th>MovieId</th>\n",
       "      <th>Rating</th>\n",
       "      <th>Time</th>\n",
       "      <th>item_idx</th>\n",
       "    </tr>\n",
       "  </thead>\n",
       "  <tbody>\n",
       "    <tr>\n",
       "      <th>5364</th>\n",
       "      <td>36</td>\n",
       "      <td>3786</td>\n",
       "      <td>4</td>\n",
       "      <td>1040544521</td>\n",
       "      <td>3</td>\n",
       "    </tr>\n",
       "    <tr>\n",
       "      <th>5280</th>\n",
       "      <td>36</td>\n",
       "      <td>3174</td>\n",
       "      <td>4</td>\n",
       "      <td>1040544685</td>\n",
       "      <td>6</td>\n",
       "    </tr>\n",
       "    <tr>\n",
       "      <th>5222</th>\n",
       "      <td>36</td>\n",
       "      <td>296</td>\n",
       "      <td>5</td>\n",
       "      <td>1040545019</td>\n",
       "      <td>7</td>\n",
       "    </tr>\n",
       "    <tr>\n",
       "      <th>5062</th>\n",
       "      <td>36</td>\n",
       "      <td>1266</td>\n",
       "      <td>5</td>\n",
       "      <td>1040545109</td>\n",
       "      <td>9</td>\n",
       "    </tr>\n",
       "    <tr>\n",
       "      <th>5076</th>\n",
       "      <td>36</td>\n",
       "      <td>595</td>\n",
       "      <td>4</td>\n",
       "      <td>1040545109</td>\n",
       "      <td>10</td>\n",
       "    </tr>\n",
       "    <tr>\n",
       "      <th>5180</th>\n",
       "      <td>36</td>\n",
       "      <td>3639</td>\n",
       "      <td>4</td>\n",
       "      <td>1040545125</td>\n",
       "      <td>12</td>\n",
       "    </tr>\n",
       "    <tr>\n",
       "      <th>8704</th>\n",
       "      <td>59</td>\n",
       "      <td>2997</td>\n",
       "      <td>4</td>\n",
       "      <td>1041962568</td>\n",
       "      <td>13</td>\n",
       "    </tr>\n",
       "    <tr>\n",
       "      <th>8797</th>\n",
       "      <td>59</td>\n",
       "      <td>3408</td>\n",
       "      <td>4</td>\n",
       "      <td>1041962692</td>\n",
       "      <td>15</td>\n",
       "    </tr>\n",
       "    <tr>\n",
       "      <th>8808</th>\n",
       "      <td>59</td>\n",
       "      <td>2712</td>\n",
       "      <td>3</td>\n",
       "      <td>1041962692</td>\n",
       "      <td>16</td>\n",
       "    </tr>\n",
       "    <tr>\n",
       "      <th>8798</th>\n",
       "      <td>59</td>\n",
       "      <td>2396</td>\n",
       "      <td>4</td>\n",
       "      <td>1041962835</td>\n",
       "      <td>20</td>\n",
       "    </tr>\n",
       "    <tr>\n",
       "      <th>8839</th>\n",
       "      <td>59</td>\n",
       "      <td>2762</td>\n",
       "      <td>3</td>\n",
       "      <td>1041962835</td>\n",
       "      <td>23</td>\n",
       "    </tr>\n",
       "    <tr>\n",
       "      <th>8906</th>\n",
       "      <td>59</td>\n",
       "      <td>1172</td>\n",
       "      <td>4</td>\n",
       "      <td>1041962943</td>\n",
       "      <td>27</td>\n",
       "    </tr>\n",
       "    <tr>\n",
       "      <th>8837</th>\n",
       "      <td>59</td>\n",
       "      <td>25</td>\n",
       "      <td>3</td>\n",
       "      <td>1041963069</td>\n",
       "      <td>36</td>\n",
       "    </tr>\n",
       "    <tr>\n",
       "      <th>8702</th>\n",
       "      <td>59</td>\n",
       "      <td>1183</td>\n",
       "      <td>4</td>\n",
       "      <td>1041963129</td>\n",
       "      <td>40</td>\n",
       "    </tr>\n",
       "    <tr>\n",
       "      <th>8765</th>\n",
       "      <td>59</td>\n",
       "      <td>943</td>\n",
       "      <td>3</td>\n",
       "      <td>1041963169</td>\n",
       "      <td>43</td>\n",
       "    </tr>\n",
       "  </tbody>\n",
       "</table>\n",
       "</div>"
      ],
      "text/plain": [
       "      UserId  MovieId  Rating        Time  item_idx\n",
       "5364      36     3786       4  1040544521         3\n",
       "5280      36     3174       4  1040544685         6\n",
       "5222      36      296       5  1040545019         7\n",
       "5062      36     1266       5  1040545109         9\n",
       "5076      36      595       4  1040545109        10\n",
       "5180      36     3639       4  1040545125        12\n",
       "8704      59     2997       4  1041962568        13\n",
       "8797      59     3408       4  1041962692        15\n",
       "8808      59     2712       3  1041962692        16\n",
       "8798      59     2396       4  1041962835        20\n",
       "8839      59     2762       3  1041962835        23\n",
       "8906      59     1172       4  1041962943        27\n",
       "8837      59       25       3  1041963069        36\n",
       "8702      59     1183       4  1041963129        40\n",
       "8765      59      943       3  1041963169        43"
      ]
     },
     "execution_count": 52,
     "metadata": {},
     "output_type": "execute_result"
    }
   ],
   "source": [
    "tr_data_loader = SessionDataLoader(tr_dataset, batch_size=4)\n",
    "tr_dataset.df.head(15)"
   ]
  },
  {
   "cell_type": "code",
   "execution_count": 53,
   "id": "royal-summary",
   "metadata": {},
   "outputs": [],
   "source": [
    "iter_ex = iter(tr_data_loader)"
   ]
  },
  {
   "cell_type": "code",
   "execution_count": 54,
   "id": "continued-anger",
   "metadata": {},
   "outputs": [
    {
     "name": "stdout",
     "output_type": "stream",
     "text": [
      "Model Input Item Idx are : [  3  13 132 171]\n",
      "Label Item Idx are :       [  6  15 134 180]\n",
      "Previous Masked Input Idx are []\n"
     ]
    }
   ],
   "source": [
    "inputs, labels, mask =  next(iter_ex)\n",
    "print(f'Model Input Item Idx are : {inputs}')\n",
    "print(f'Label Item Idx are : {\"\":5} {labels}')\n",
    "print(f'Previous Masked Input Idx are {mask}')"
   ]
  },
  {
   "cell_type": "markdown",
   "id": "overhead-actress",
   "metadata": {},
   "source": [
    "### Modeling"
   ]
  },
  {
   "cell_type": "markdown",
   "id": "noble-burner",
   "metadata": {},
   "source": [
    "#### Evaluation Metric"
   ]
  },
  {
   "cell_type": "code",
   "execution_count": 55,
   "id": "cubic-exclusion",
   "metadata": {},
   "outputs": [],
   "source": [
    "# MRR@k 지표\n",
    "def mrr_k(pred, truth: int, k: int):\n",
    "    indexing = np.where(pred[:k] == truth)[0]\n",
    "    if len(indexing) > 0:\n",
    "        return 1 / (indexing[0] + 1)\n",
    "    else:\n",
    "        return 0\n",
    "\n",
    "\n",
    "# recall@k 지표\n",
    "def recall_k(pred, truth: int, k: int) -> int:\n",
    "    answer = truth in pred[:k]\n",
    "    return int(answer)"
   ]
  },
  {
   "cell_type": "markdown",
   "id": "induced-block",
   "metadata": {},
   "source": [
    "#### Model Architecture"
   ]
  },
  {
   "cell_type": "code",
   "execution_count": 56,
   "id": "organized-methodology",
   "metadata": {},
   "outputs": [],
   "source": [
    "import numpy as np\n",
    "import tensorflow as tf\n",
    "from tensorflow.keras.layers import Input, Dense, Dropout, GRU\n",
    "from tensorflow.keras.losses import categorical_crossentropy\n",
    "from tensorflow.keras.models import Model\n",
    "from tensorflow.keras.optimizers import Adam\n",
    "from tensorflow.keras.utils import to_categorical\n",
    "from tqdm import tqdm"
   ]
  },
  {
   "cell_type": "code",
   "execution_count": 57,
   "id": "potential-fireplace",
   "metadata": {},
   "outputs": [],
   "source": [
    "def create_model(args):\n",
    "    inputs = Input(batch_shape=(args.batch_size, 1, args.num_items))\n",
    "    gru, _ = GRU(args.hsz, stateful=True, return_state=True, name='GRU')(inputs)\n",
    "    dropout = Dropout(args.drop_rate)(gru)\n",
    "    predictions = Dense(args.num_items, activation='softmax')(dropout)\n",
    "    model = Model(inputs=inputs, outputs=[predictions])\n",
    "    model.compile(loss=categorical_crossentropy, optimizer=Adam(args.lr), metrics=['accuracy'])\n",
    "    model.summary()\n",
    "    return model"
   ]
  },
  {
   "cell_type": "markdown",
   "id": "built-large",
   "metadata": {},
   "source": [
    "## Step 4. 모델 학습\n",
    "\n",
    "* 다양한 **하이퍼파라미터를 변경**해 보며 검증해 보도록 합니다. \n",
    "  - 실습코드에 언급되었던 **Recall, MRR** 등의 개념들도 함께 관리될 수 있도록 합니다."
   ]
  },
  {
   "cell_type": "markdown",
   "id": "amended-inclusion",
   "metadata": {},
   "source": [
    "### 하이퍼파라미터 변경"
   ]
  },
  {
   "cell_type": "code",
   "execution_count": 58,
   "id": "labeled-expense",
   "metadata": {},
   "outputs": [],
   "source": [
    "# 모델에 사용할 hyper-parameter를 class형식으로 관리\n",
    "class Args:\n",
    "    def __init__(self, tr, val, test, batch_size, hsz, drop_rate, lr, epochs, k):\n",
    "        self.tr = tr\n",
    "        self.val = val\n",
    "        self.test = test\n",
    "        self.num_items = tr['MovieId'].nunique()\n",
    "        self.num_sessions = tr['UserId'].nunique()\n",
    "        self.batch_size = batch_size\n",
    "        self.hsz = hsz\n",
    "        self.drop_rate = drop_rate\n",
    "        self.lr = lr\n",
    "        self.epochs = epochs\n",
    "        self.k = k\n",
    "\n",
    "args = Args(tr, val, test, batch_size=2048, hsz=50, drop_rate=0.1, lr=0.001, epochs=1, k=20)"
   ]
  },
  {
   "cell_type": "code",
   "execution_count": 59,
   "id": "hired-people",
   "metadata": {},
   "outputs": [
    {
     "name": "stdout",
     "output_type": "stream",
     "text": [
      "Model: \"model\"\n",
      "_________________________________________________________________\n",
      "Layer (type)                 Output Shape              Param #   \n",
      "=================================================================\n",
      "input_1 (InputLayer)         [(2048, 1, 231)]          0         \n",
      "_________________________________________________________________\n",
      "GRU (GRU)                    [(2048, 50), (2048, 50)]  42450     \n",
      "_________________________________________________________________\n",
      "dropout (Dropout)            (2048, 50)                0         \n",
      "_________________________________________________________________\n",
      "dense (Dense)                (2048, 231)               11781     \n",
      "=================================================================\n",
      "Total params: 54,231\n",
      "Trainable params: 54,231\n",
      "Non-trainable params: 0\n",
      "_________________________________________________________________\n"
     ]
    }
   ],
   "source": [
    "model = create_model(args)"
   ]
  },
  {
   "cell_type": "markdown",
   "id": "rising-spokesman",
   "metadata": {},
   "source": [
    "### Model Training"
   ]
  },
  {
   "cell_type": "code",
   "execution_count": 60,
   "id": "secondary-bachelor",
   "metadata": {},
   "outputs": [],
   "source": [
    "# train 셋으로 학습하면서 valid 셋으로 검증합니다.\n",
    "def train_model(model, args):\n",
    "    train_dataset = SessionDataset(args.tr)\n",
    "    train_loader = SessionDataLoader(train_dataset, batch_size=args.batch_size)\n",
    "\n",
    "    for epoch in range(1, args.epochs + 1):\n",
    "        total_step = len(args.tr) - args.tr['UserId'].nunique()\n",
    "        tr_loader = tqdm(train_loader, total=total_step // args.batch_size, desc='Train', mininterval=1)\n",
    "        for feat, target, mask in tr_loader:\n",
    "            reset_hidden_states(model, mask)  # 종료된 session은 hidden_state를 초기화합니다. 아래 메서드에서 확인해주세요.\n",
    "\n",
    "            input_ohe = to_categorical(feat, num_classes=args.num_items)\n",
    "            input_ohe = np.expand_dims(input_ohe, axis=1)\n",
    "            target_ohe = to_categorical(target, num_classes=args.num_items)\n",
    "\n",
    "            result = model.train_on_batch(input_ohe, target_ohe)\n",
    "            tr_loader.set_postfix(train_loss=result[0], accuracy = result[1])\n",
    "\n",
    "        val_recall, val_mrr = get_metrics(args.val, model, args, args.k)  # valid set에 대해 검증합니다.\n",
    "\n",
    "        print(f\"\\t - Recall@{args.k} epoch {epoch}: {val_recall:3f}\")\n",
    "        print(f\"\\t - MRR@{args.k}    epoch {epoch}: {val_mrr:3f}\\n\")\n",
    "\n",
    "\n",
    "def reset_hidden_states(model, mask):\n",
    "    gru_layer = model.get_layer(name='GRU')  # model에서 gru layer를 가져옵니다.\n",
    "    hidden_states = gru_layer.states[0].numpy()  # gru_layer의 parameter를 가져옵니다.\n",
    "    for elt in mask:  # mask된 인덱스 즉, 종료된 세션의 인덱스를 돌면서\n",
    "        hidden_states[elt, :] = 0  # parameter를 초기화 합니다.\n",
    "    gru_layer.reset_states(states=hidden_states)\n",
    "\n",
    "\n",
    "def get_metrics(data, model, args, k: int):  # valid셋과 test셋을 평가하는 코드입니다. \n",
    "                                             # train과 거의 같지만 mrr, recall을 구하는 라인이 있습니다.\n",
    "    dataset = SessionDataset(data)\n",
    "    loader = SessionDataLoader(dataset, batch_size=args.batch_size)\n",
    "    recall_list, mrr_list = [], []\n",
    "\n",
    "    total_step = len(data) - data['UserId'].nunique()\n",
    "    for inputs, label, mask in tqdm(loader, total=total_step // args.batch_size, desc='Evaluation', mininterval=1):\n",
    "        reset_hidden_states(model, mask)\n",
    "        input_ohe = to_categorical(inputs, num_classes=args.num_items)\n",
    "        input_ohe = np.expand_dims(input_ohe, axis=1)\n",
    "\n",
    "        pred = model.predict(input_ohe, batch_size=args.batch_size)\n",
    "        pred_arg = tf.argsort(pred, direction='DESCENDING')  # softmax 값이 큰 순서대로 sorting 합니다.\n",
    "\n",
    "        length = len(inputs)\n",
    "        recall_list.extend([recall_k(pred_arg[i], label[i], k) for i in range(length)])\n",
    "        mrr_list.extend([mrr_k(pred_arg[i], label[i], k) for i in range(length)])\n",
    "\n",
    "    recall, mrr = np.mean(recall_list), np.mean(mrr_list)\n",
    "    return recall, mrr"
   ]
  },
  {
   "cell_type": "code",
   "execution_count": 61,
   "id": "collected-blair",
   "metadata": {},
   "outputs": [
    {
     "name": "stderr",
     "output_type": "stream",
     "text": [
      "Train: 0it [00:00, ?it/s]\n"
     ]
    },
    {
     "ename": "IndexError",
     "evalue": "index 136 is out of bounds for axis 0 with size 136",
     "output_type": "error",
     "traceback": [
      "\u001b[0;31m---------------------------------------------------------------------------\u001b[0m",
      "\u001b[0;31mIndexError\u001b[0m                                Traceback (most recent call last)",
      "\u001b[0;32m<ipython-input-61-2de81f55bcc7>\u001b[0m in \u001b[0;36m<module>\u001b[0;34m\u001b[0m\n\u001b[1;32m      1\u001b[0m \u001b[0;31m# 학습 시간이 다소 오래 소요됩니다. (예상시간 1시간)\u001b[0m\u001b[0;34m\u001b[0m\u001b[0;34m\u001b[0m\u001b[0;34m\u001b[0m\u001b[0m\n\u001b[0;32m----> 2\u001b[0;31m \u001b[0mtrain_model\u001b[0m\u001b[0;34m(\u001b[0m\u001b[0mmodel\u001b[0m\u001b[0;34m,\u001b[0m \u001b[0margs\u001b[0m\u001b[0;34m)\u001b[0m\u001b[0;34m\u001b[0m\u001b[0;34m\u001b[0m\u001b[0m\n\u001b[0m",
      "\u001b[0;32m<ipython-input-60-075f10ff3904>\u001b[0m in \u001b[0;36mtrain_model\u001b[0;34m(model, args)\u001b[0m\n\u001b[1;32m      7\u001b[0m         \u001b[0mtotal_step\u001b[0m \u001b[0;34m=\u001b[0m \u001b[0mlen\u001b[0m\u001b[0;34m(\u001b[0m\u001b[0margs\u001b[0m\u001b[0;34m.\u001b[0m\u001b[0mtr\u001b[0m\u001b[0;34m)\u001b[0m \u001b[0;34m-\u001b[0m \u001b[0margs\u001b[0m\u001b[0;34m.\u001b[0m\u001b[0mtr\u001b[0m\u001b[0;34m[\u001b[0m\u001b[0;34m'UserId'\u001b[0m\u001b[0;34m]\u001b[0m\u001b[0;34m.\u001b[0m\u001b[0mnunique\u001b[0m\u001b[0;34m(\u001b[0m\u001b[0;34m)\u001b[0m\u001b[0;34m\u001b[0m\u001b[0;34m\u001b[0m\u001b[0m\n\u001b[1;32m      8\u001b[0m         \u001b[0mtr_loader\u001b[0m \u001b[0;34m=\u001b[0m \u001b[0mtqdm\u001b[0m\u001b[0;34m(\u001b[0m\u001b[0mtrain_loader\u001b[0m\u001b[0;34m,\u001b[0m \u001b[0mtotal\u001b[0m\u001b[0;34m=\u001b[0m\u001b[0mtotal_step\u001b[0m \u001b[0;34m//\u001b[0m \u001b[0margs\u001b[0m\u001b[0;34m.\u001b[0m\u001b[0mbatch_size\u001b[0m\u001b[0;34m,\u001b[0m \u001b[0mdesc\u001b[0m\u001b[0;34m=\u001b[0m\u001b[0;34m'Train'\u001b[0m\u001b[0;34m,\u001b[0m \u001b[0mmininterval\u001b[0m\u001b[0;34m=\u001b[0m\u001b[0;36m1\u001b[0m\u001b[0;34m)\u001b[0m\u001b[0;34m\u001b[0m\u001b[0;34m\u001b[0m\u001b[0m\n\u001b[0;32m----> 9\u001b[0;31m         \u001b[0;32mfor\u001b[0m \u001b[0mfeat\u001b[0m\u001b[0;34m,\u001b[0m \u001b[0mtarget\u001b[0m\u001b[0;34m,\u001b[0m \u001b[0mmask\u001b[0m \u001b[0;32min\u001b[0m \u001b[0mtr_loader\u001b[0m\u001b[0;34m:\u001b[0m\u001b[0;34m\u001b[0m\u001b[0;34m\u001b[0m\u001b[0m\n\u001b[0m\u001b[1;32m     10\u001b[0m             \u001b[0mreset_hidden_states\u001b[0m\u001b[0;34m(\u001b[0m\u001b[0mmodel\u001b[0m\u001b[0;34m,\u001b[0m \u001b[0mmask\u001b[0m\u001b[0;34m)\u001b[0m  \u001b[0;31m# 종료된 session은 hidden_state를 초기화합니다. 아래 메서드에서 확인해주세요.\u001b[0m\u001b[0;34m\u001b[0m\u001b[0;34m\u001b[0m\u001b[0m\n\u001b[1;32m     11\u001b[0m \u001b[0;34m\u001b[0m\u001b[0m\n",
      "\u001b[0;32m~/anaconda3/envs/aiffel/lib/python3.7/site-packages/tqdm/std.py\u001b[0m in \u001b[0;36m__iter__\u001b[0;34m(self)\u001b[0m\n\u001b[1;32m   1176\u001b[0m \u001b[0;34m\u001b[0m\u001b[0m\n\u001b[1;32m   1177\u001b[0m         \u001b[0;32mtry\u001b[0m\u001b[0;34m:\u001b[0m\u001b[0;34m\u001b[0m\u001b[0;34m\u001b[0m\u001b[0m\n\u001b[0;32m-> 1178\u001b[0;31m             \u001b[0;32mfor\u001b[0m \u001b[0mobj\u001b[0m \u001b[0;32min\u001b[0m \u001b[0miterable\u001b[0m\u001b[0;34m:\u001b[0m\u001b[0;34m\u001b[0m\u001b[0;34m\u001b[0m\u001b[0m\n\u001b[0m\u001b[1;32m   1179\u001b[0m                 \u001b[0;32myield\u001b[0m \u001b[0mobj\u001b[0m\u001b[0;34m\u001b[0m\u001b[0;34m\u001b[0m\u001b[0m\n\u001b[1;32m   1180\u001b[0m                 \u001b[0;31m# Update and possibly print the progressbar.\u001b[0m\u001b[0;34m\u001b[0m\u001b[0;34m\u001b[0m\u001b[0;34m\u001b[0m\u001b[0m\n",
      "\u001b[0;32m<ipython-input-51-527a270ec2d5>\u001b[0m in \u001b[0;36m__iter__\u001b[0;34m(self)\u001b[0m\n\u001b[1;32m     15\u001b[0m         \"\"\"\n\u001b[1;32m     16\u001b[0m \u001b[0;34m\u001b[0m\u001b[0m\n\u001b[0;32m---> 17\u001b[0;31m         \u001b[0mstart\u001b[0m\u001b[0;34m,\u001b[0m \u001b[0mend\u001b[0m\u001b[0;34m,\u001b[0m \u001b[0mmask\u001b[0m\u001b[0;34m,\u001b[0m \u001b[0mlast_session\u001b[0m\u001b[0;34m,\u001b[0m \u001b[0mfinished\u001b[0m \u001b[0;34m=\u001b[0m \u001b[0mself\u001b[0m\u001b[0;34m.\u001b[0m\u001b[0minitialize\u001b[0m\u001b[0;34m(\u001b[0m\u001b[0;34m)\u001b[0m  \u001b[0;31m# initialize 메소드에서 확인해주세요.\u001b[0m\u001b[0;34m\u001b[0m\u001b[0;34m\u001b[0m\u001b[0m\n\u001b[0m\u001b[1;32m     18\u001b[0m         \"\"\"\n\u001b[1;32m     19\u001b[0m         \u001b[0mstart\u001b[0m \u001b[0;34m:\u001b[0m \u001b[0mIndex\u001b[0m \u001b[0mWhere\u001b[0m \u001b[0mSession\u001b[0m \u001b[0mStart\u001b[0m\u001b[0;34m\u001b[0m\u001b[0;34m\u001b[0m\u001b[0m\n",
      "\u001b[0;32m<ipython-input-51-527a270ec2d5>\u001b[0m in \u001b[0;36minitialize\u001b[0;34m(self)\u001b[0m\n\u001b[1;32m     35\u001b[0m         \u001b[0mfirst_iters\u001b[0m \u001b[0;34m=\u001b[0m \u001b[0mnp\u001b[0m\u001b[0;34m.\u001b[0m\u001b[0marange\u001b[0m\u001b[0;34m(\u001b[0m\u001b[0mself\u001b[0m\u001b[0;34m.\u001b[0m\u001b[0mbatch_size\u001b[0m\u001b[0;34m)\u001b[0m    \u001b[0;31m# 첫 배치에 사용할 세션 Index를 가져옵니다.\u001b[0m\u001b[0;34m\u001b[0m\u001b[0;34m\u001b[0m\u001b[0m\n\u001b[1;32m     36\u001b[0m         \u001b[0mlast_session\u001b[0m \u001b[0;34m=\u001b[0m \u001b[0mself\u001b[0m\u001b[0;34m.\u001b[0m\u001b[0mbatch_size\u001b[0m \u001b[0;34m-\u001b[0m \u001b[0;36m1\u001b[0m    \u001b[0;31m# 마지막으로 다루고 있는 세션 Index를 저장해둡니다.\u001b[0m\u001b[0;34m\u001b[0m\u001b[0;34m\u001b[0m\u001b[0m\n\u001b[0;32m---> 37\u001b[0;31m         \u001b[0mstart\u001b[0m \u001b[0;34m=\u001b[0m \u001b[0mself\u001b[0m\u001b[0;34m.\u001b[0m\u001b[0mdataset\u001b[0m\u001b[0;34m.\u001b[0m\u001b[0mclick_offsets\u001b[0m\u001b[0;34m[\u001b[0m\u001b[0mself\u001b[0m\u001b[0;34m.\u001b[0m\u001b[0mdataset\u001b[0m\u001b[0;34m.\u001b[0m\u001b[0msession_idx\u001b[0m\u001b[0;34m[\u001b[0m\u001b[0mfirst_iters\u001b[0m\u001b[0;34m]\u001b[0m\u001b[0;34m]\u001b[0m       \u001b[0;31m# data 상에서 session이 시작된 위치를 가져옵니다.\u001b[0m\u001b[0;34m\u001b[0m\u001b[0;34m\u001b[0m\u001b[0m\n\u001b[0m\u001b[1;32m     38\u001b[0m         \u001b[0mend\u001b[0m \u001b[0;34m=\u001b[0m \u001b[0mself\u001b[0m\u001b[0;34m.\u001b[0m\u001b[0mdataset\u001b[0m\u001b[0;34m.\u001b[0m\u001b[0mclick_offsets\u001b[0m\u001b[0;34m[\u001b[0m\u001b[0mself\u001b[0m\u001b[0;34m.\u001b[0m\u001b[0mdataset\u001b[0m\u001b[0;34m.\u001b[0m\u001b[0msession_idx\u001b[0m\u001b[0;34m[\u001b[0m\u001b[0mfirst_iters\u001b[0m\u001b[0;34m]\u001b[0m \u001b[0;34m+\u001b[0m \u001b[0;36m1\u001b[0m\u001b[0;34m]\u001b[0m  \u001b[0;31m# session이 끝난 위치 바로 다음 위치를 가져옵니다.\u001b[0m\u001b[0;34m\u001b[0m\u001b[0;34m\u001b[0m\u001b[0m\n\u001b[1;32m     39\u001b[0m         \u001b[0mmask\u001b[0m \u001b[0;34m=\u001b[0m \u001b[0mnp\u001b[0m\u001b[0;34m.\u001b[0m\u001b[0marray\u001b[0m\u001b[0;34m(\u001b[0m\u001b[0;34m[\u001b[0m\u001b[0;34m]\u001b[0m\u001b[0;34m)\u001b[0m   \u001b[0;31m# session의 모든 아이템을 다 돌은 경우 mask에 추가해줄 것입니다.\u001b[0m\u001b[0;34m\u001b[0m\u001b[0;34m\u001b[0m\u001b[0m\n",
      "\u001b[0;31mIndexError\u001b[0m: index 136 is out of bounds for axis 0 with size 136"
     ]
    }
   ],
   "source": [
    "# 학습 시간이 다소 오래 소요됩니다. (예상시간 1시간)\n",
    "train_model(model, args)"
   ]
  },
  {
   "cell_type": "markdown",
   "id": "through-promotion",
   "metadata": {},
   "source": [
    "## Step 5. 모델 테스트\n",
    "\n",
    "미리 구성한 테스트셋을 바탕으로 **Recall, MRR** 을 확인해 봅니다.\n",
    "  "
   ]
  },
  {
   "cell_type": "code",
   "execution_count": null,
   "id": "charming-treatment",
   "metadata": {},
   "outputs": [],
   "source": [
    "def test_model(model, args, test):\n",
    "    test_recall, test_mrr = get_metrics(test, model, args, 20)\n",
    "    print(f\"\\t - Recall@{args.k}: {test_recall:3f}\")\n",
    "    print(f\"\\t - MRR@{args.k}: {test_mrr:3f}\\n\")\n",
    "\n",
    "test_model(model, args, test)"
   ]
  },
  {
   "cell_type": "markdown",
   "id": "mysterious-tunisia",
   "metadata": {},
   "source": [
    "## 회고\n",
    "* 추천 시스템의 평가지표를 이해하는데 어려웠다.\n",
    "* train / valid / test 데이터를 분리하는 함수의 사용에 많은 어려움이 있었다.\n",
    "  - 함수를 사용한 경우에 train / valid / test 기간이 겹쳐서 문제가 발생함\n",
    "  - 함수를 사용하지 않고 직접 분할함\n",
    "  - 학습을 진행하는데 에러 발생함\n",
    "    - tqdm() 함수의 기능이 진행상황을 알기 위해서 사용하는 것으로만 알고 있었는데\n",
    "      - 여기에서는 반복문에 사용하는 인수로도 사용하는데 좀더 공부하여 알아야겠다."
   ]
  },
  {
   "cell_type": "markdown",
   "id": "cleared-tracy",
   "metadata": {},
   "source": [
    "# End"
   ]
  }
 ],
 "metadata": {
  "hide_input": false,
  "kernelspec": {
   "display_name": "aiffel",
   "language": "python",
   "name": "aiffel"
  },
  "language_info": {
   "codemirror_mode": {
    "name": "ipython",
    "version": 3
   },
   "file_extension": ".py",
   "mimetype": "text/x-python",
   "name": "python",
   "nbconvert_exporter": "python",
   "pygments_lexer": "ipython3",
   "version": "3.7.9"
  },
  "toc": {
   "base_numbering": 1,
   "nav_menu": {},
   "number_sections": false,
   "sideBar": true,
   "skip_h1_title": false,
   "title_cell": "Table of Contents",
   "title_sidebar": "Contents",
   "toc_cell": false,
   "toc_position": {
    "height": "calc(100% - 180px)",
    "left": "10px",
    "top": "150px",
    "width": "254px"
   },
   "toc_section_display": true,
   "toc_window_display": true
  }
 },
 "nbformat": 4,
 "nbformat_minor": 5
}
