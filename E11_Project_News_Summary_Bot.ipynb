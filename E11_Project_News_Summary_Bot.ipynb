{
 "cells": [
  {
   "cell_type": "markdown",
   "id": "vital-former",
   "metadata": {},
   "source": [
    "# E11. 프로젝트: 뉴스기사 요약해보기"
   ]
  },
  {
   "cell_type": "markdown",
   "id": "damaged-wright",
   "metadata": {},
   "source": [
    "**루브릭**  \n",
    "\n",
    "|평가문항 |\t상세기준|  \n",
    "|:-------------|:---------| \n",
    "|1. Abstractive 모델 구성을 위한 텍스트 전처리 단계가 체계적으로 진행되었다. | 분석단계, 정제단계, 정규화와 불용어 제거, 데이터셋 분리, 인코딩 과정이 빠짐없이 체계적으로 진행되었다.|  \n",
    "|2. 텍스트 요약모델이 성공적으로 학습되었음을 확인하였다. | 모델학습이 안정적으로 수렴되었음을 그래프를 통해 확인하였으며, 실제 요약문과 유사한 요약문장을 얻을 수 있었다.|  \n",
    "|3. Extractive 요약을 시도해 보고 Abstractive 요약 결과과 함께 비교해 보았다. | 두 요약 결과를 문법완성도 측면과 핵심단어 포함 측면으로 나누어 비교분석 결과를 제시하였다.|"
   ]
  },
  {
   "cell_type": "markdown",
   "id": "capital-concern",
   "metadata": {},
   "source": [
    "[참고](https://wikidocs.net/72820) "
   ]
  },
  {
   "cell_type": "markdown",
   "id": "quality-classics",
   "metadata": {},
   "source": [
    "## Step 0. 필요한 모듈 불러오기"
   ]
  },
  {
   "cell_type": "code",
   "execution_count": 1,
   "id": "thirty-language",
   "metadata": {},
   "outputs": [
    {
     "name": "stderr",
     "output_type": "stream",
     "text": [
      "[nltk_data] Downloading package stopwords to\n",
      "[nltk_data]     /home/aiffel-d34j/nltk_data...\n",
      "[nltk_data]   Package stopwords is already up-to-date!\n"
     ]
    }
   ],
   "source": [
    "import nltk\n",
    "nltk.download('stopwords')\n",
    "\n",
    "import numpy as np\n",
    "import pandas as pd\n",
    "import os\n",
    "import re\n",
    "import matplotlib.pyplot as plt\n",
    "from nltk.corpus import stopwords\n",
    "from bs4 import BeautifulSoup \n",
    "from tensorflow.keras.preprocessing.text import Tokenizer \n",
    "from tensorflow.keras.preprocessing.sequence import pad_sequences\n",
    "import urllib.request"
   ]
  },
  {
   "cell_type": "markdown",
   "id": "smoking-bailey",
   "metadata": {},
   "source": [
    "## Step 1. 데이터 수집하기\n",
    "데이터는 아래 링크에 있는 뉴스 기사 데이터(newssummarymore.csv)를 사용하세요.  \n",
    "[sunnysai12345/News_Summary](https://github.com/sunnysai12345/News_Summary)\n",
    "\n"
   ]
  },
  {
   "cell_type": "code",
   "execution_count": 2,
   "id": "enhanced-julian",
   "metadata": {},
   "outputs": [],
   "source": [
    "# 데이터 다운로드\n",
    "urllib.request.urlretrieve(\"https://raw.githubusercontent.com/sunnysai12345/News_Summary/master/news_summary_more.csv\", filename=\"news_summary_more.csv\")\n",
    "\n",
    "# 파일 이동\n",
    "!mv news_summary_more.csv ~/aiffel/news_summarization/data"
   ]
  },
  {
   "cell_type": "code",
   "execution_count": 3,
   "id": "similar-phenomenon",
   "metadata": {},
   "outputs": [
    {
     "name": "stdout",
     "output_type": "stream",
     "text": [
      "전체 샘플수 : 98401\n"
     ]
    }
   ],
   "source": [
    "data = pd.read_csv(os.getenv(\"HOME\")+\"/aiffel/news_summarization/data/news_summary_more.csv\", encoding='iso-8859-1')\n",
    "print('전체 샘플수 :',(len(data)))"
   ]
  },
  {
   "cell_type": "code",
   "execution_count": 4,
   "id": "universal-anderson",
   "metadata": {},
   "outputs": [
    {
     "data": {
      "text/html": [
       "<div>\n",
       "<style scoped>\n",
       "    .dataframe tbody tr th:only-of-type {\n",
       "        vertical-align: middle;\n",
       "    }\n",
       "\n",
       "    .dataframe tbody tr th {\n",
       "        vertical-align: top;\n",
       "    }\n",
       "\n",
       "    .dataframe thead th {\n",
       "        text-align: right;\n",
       "    }\n",
       "</style>\n",
       "<table border=\"1\" class=\"dataframe\">\n",
       "  <thead>\n",
       "    <tr style=\"text-align: right;\">\n",
       "      <th></th>\n",
       "      <th>headlines</th>\n",
       "      <th>text</th>\n",
       "    </tr>\n",
       "  </thead>\n",
       "  <tbody>\n",
       "    <tr>\n",
       "      <th>29960</th>\n",
       "      <td>CSK's Dwayne Bravo produces diving catch off o...</td>\n",
       "      <td>CSK all-rounder Dwayne Bravo pulled off a divi...</td>\n",
       "    </tr>\n",
       "    <tr>\n",
       "      <th>52972</th>\n",
       "      <td>Builders diverted homebuyers' Ã¢ÂÂ¹1,000 cror...</td>\n",
       "      <td>The Yamuna Expressway Industrial Development A...</td>\n",
       "    </tr>\n",
       "    <tr>\n",
       "      <th>67298</th>\n",
       "      <td>NCP holds rail roko to condemn Elphinstone sta...</td>\n",
       "      <td>Nationalist Congress Party (NCP) supporters le...</td>\n",
       "    </tr>\n",
       "    <tr>\n",
       "      <th>1552</th>\n",
       "      <td>MS Dhoni is a superstar and an all-time great:...</td>\n",
       "      <td>Talking about MS Dhoni, who slammed three cons...</td>\n",
       "    </tr>\n",
       "    <tr>\n",
       "      <th>38223</th>\n",
       "      <td>Afghanistan last just 27.5 overs in 1st inning...</td>\n",
       "      <td>Afghanistan were dismissed for just 109 runs i...</td>\n",
       "    </tr>\n",
       "    <tr>\n",
       "      <th>2354</th>\n",
       "      <td>Kohli gets out for single digit score in an OD...</td>\n",
       "      <td>Team India captain Virat Kohli was dismissed c...</td>\n",
       "    </tr>\n",
       "    <tr>\n",
       "      <th>13536</th>\n",
       "      <td>Drug peddlers make money in Goa EDM fests: Shi...</td>\n",
       "      <td>The Goa unit of Shiv Sena has opposed Electron...</td>\n",
       "    </tr>\n",
       "    <tr>\n",
       "      <th>10955</th>\n",
       "      <td>Delhi CM acquitted in defamation case filed by...</td>\n",
       "      <td>A Delhi court on Monday acquitted CM Arvind Ke...</td>\n",
       "    </tr>\n",
       "    <tr>\n",
       "      <th>53109</th>\n",
       "      <td>Bitcoin not a way to evade tax: Unocoin Founder</td>\n",
       "      <td>Indian Bitcoin exchange Unocoin's Co-founder S...</td>\n",
       "    </tr>\n",
       "    <tr>\n",
       "      <th>35610</th>\n",
       "      <td>Somveer wins India's 12th wrestling medal at C...</td>\n",
       "      <td>Indian wrestler Somveer won a bronze medal at ...</td>\n",
       "    </tr>\n",
       "  </tbody>\n",
       "</table>\n",
       "</div>"
      ],
      "text/plain": [
       "                                               headlines  \\\n",
       "29960  CSK's Dwayne Bravo produces diving catch off o...   \n",
       "52972  Builders diverted homebuyers' Ã¢ÂÂ¹1,000 cror...   \n",
       "67298  NCP holds rail roko to condemn Elphinstone sta...   \n",
       "1552   MS Dhoni is a superstar and an all-time great:...   \n",
       "38223  Afghanistan last just 27.5 overs in 1st inning...   \n",
       "2354   Kohli gets out for single digit score in an OD...   \n",
       "13536  Drug peddlers make money in Goa EDM fests: Shi...   \n",
       "10955  Delhi CM acquitted in defamation case filed by...   \n",
       "53109    Bitcoin not a way to evade tax: Unocoin Founder   \n",
       "35610  Somveer wins India's 12th wrestling medal at C...   \n",
       "\n",
       "                                                    text  \n",
       "29960  CSK all-rounder Dwayne Bravo pulled off a divi...  \n",
       "52972  The Yamuna Expressway Industrial Development A...  \n",
       "67298  Nationalist Congress Party (NCP) supporters le...  \n",
       "1552   Talking about MS Dhoni, who slammed three cons...  \n",
       "38223  Afghanistan were dismissed for just 109 runs i...  \n",
       "2354   Team India captain Virat Kohli was dismissed c...  \n",
       "13536  The Goa unit of Shiv Sena has opposed Electron...  \n",
       "10955  A Delhi court on Monday acquitted CM Arvind Ke...  \n",
       "53109  Indian Bitcoin exchange Unocoin's Co-founder S...  \n",
       "35610  Indian wrestler Somveer won a bronze medal at ...  "
      ]
     },
     "execution_count": 4,
     "metadata": {},
     "output_type": "execute_result"
    }
   ],
   "source": [
    "data.sample(10)"
   ]
  },
  {
   "cell_type": "markdown",
   "id": "civic-jersey",
   "metadata": {},
   "source": [
    "* 이 데이터는 기사의 본문에 해당되는 **text와 headlines** 두 가지 열로 구성되어져 있습니다.\n",
    "\n",
    "* <span style='color:red'> **추상적 요약**</span>을 하는 경우에는 **text를 본문**, **headlines를 이미 요약된 데이터**로 삼아서 모델을 학습할 수 있어요.   \n",
    "* <span style='color:blue'>**추출적 요약**</span>을 하는 경우에는 오직 **text열만을 사용**하세요.\n"
   ]
  },
  {
   "cell_type": "markdown",
   "id": "hybrid-audio",
   "metadata": {},
   "source": [
    "## Step 2. 데이터 전처리하기 (추상적 요약)\n",
    "\n",
    "* 실습에서 사용된 전처리를 참고하여 각자 필요하다고 생각하는 **전처리**를 추가 사용하여 텍스트를 **정규화** 또는 **정제**해 보세요. \n",
    "* 만약, **불용어 제거**를 선택한다면 상대적으로 길이가 짧은 요약 데이터에 대해서도 불용어를 제거하는 것이 좋을지 고민해보세요."
   ]
  },
  {
   "cell_type": "markdown",
   "id": "psychological-mexican",
   "metadata": {},
   "source": [
    "### Step 2-1. 중복 샘플과 NULL 값이 존재하는 샘플 제거"
   ]
  },
  {
   "cell_type": "code",
   "execution_count": 5,
   "id": "golden-construction",
   "metadata": {},
   "outputs": [
    {
     "name": "stdout",
     "output_type": "stream",
     "text": [
      "Text 열에서 중복을 배제한 유일한 샘플의 수 : 98360\n",
      "Headlines 열에서 중복을 배제한 유일한 샘플의 수 : 98280\n"
     ]
    }
   ],
   "source": [
    "# 데이터의 중복 샘플 유무를 확인\n",
    "print('Text 열에서 중복을 배제한 유일한 샘플의 수 :', data['text'].nunique())\n",
    "print('Headlines 열에서 중복을 배제한 유일한 샘플의 수 :', data['headlines'].nunique())"
   ]
  },
  {
   "cell_type": "code",
   "execution_count": 6,
   "id": "elegant-leather",
   "metadata": {},
   "outputs": [
    {
     "name": "stdout",
     "output_type": "stream",
     "text": [
      "전체 샘플수 : 98360\n"
     ]
    }
   ],
   "source": [
    "# 중복된 text 데이터 제거\n",
    "data.drop_duplicates(subset = ['text'], inplace = True)\n",
    "print('전체 샘플수 :',(len(data)))"
   ]
  },
  {
   "cell_type": "markdown",
   "id": "universal-spine",
   "metadata": {},
   "source": [
    "* 98401 - 98360 = 41 개 제거됨"
   ]
  },
  {
   "cell_type": "code",
   "execution_count": 7,
   "id": "progressive-chart",
   "metadata": {},
   "outputs": [
    {
     "name": "stdout",
     "output_type": "stream",
     "text": [
      "headlines    0\n",
      "text         0\n",
      "dtype: int64\n"
     ]
    }
   ],
   "source": [
    "# Null 값이 있는지 확인하고 갯수 확인\n",
    "print(data.isnull().sum())"
   ]
  },
  {
   "cell_type": "markdown",
   "id": "closing-argument",
   "metadata": {},
   "source": [
    "###  Step 2-2. 텍스트 정규화와 불용어 제거"
   ]
  },
  {
   "cell_type": "code",
   "execution_count": 8,
   "id": "amazing-representative",
   "metadata": {},
   "outputs": [
    {
     "name": "stdout",
     "output_type": "stream",
     "text": [
      "정규화 사전의 수:  120\n"
     ]
    }
   ],
   "source": [
    "# 텍스트 정규화를 위한 사전(dictionary) \n",
    "contractions = {\"ain't\": \"is not\", \"aren't\": \"are not\",\"can't\": \"cannot\", \"'cause\": \"because\", \"could've\": \"could have\", \"couldn't\": \"could not\",\n",
    "                           \"didn't\": \"did not\",  \"doesn't\": \"does not\", \"don't\": \"do not\", \"hadn't\": \"had not\", \"hasn't\": \"has not\", \"haven't\": \"have not\",\n",
    "                           \"he'd\": \"he would\",\"he'll\": \"he will\", \"he's\": \"he is\", \"how'd\": \"how did\", \"how'd'y\": \"how do you\", \"how'll\": \"how will\", \"how's\": \"how is\",\n",
    "                           \"I'd\": \"I would\", \"I'd've\": \"I would have\", \"I'll\": \"I will\", \"I'll've\": \"I will have\",\"I'm\": \"I am\", \"I've\": \"I have\", \"i'd\": \"i would\",\n",
    "                           \"i'd've\": \"i would have\", \"i'll\": \"i will\",  \"i'll've\": \"i will have\",\"i'm\": \"i am\", \"i've\": \"i have\", \"isn't\": \"is not\", \"it'd\": \"it would\",\n",
    "                           \"it'd've\": \"it would have\", \"it'll\": \"it will\", \"it'll've\": \"it will have\",\"it's\": \"it is\", \"let's\": \"let us\", \"ma'am\": \"madam\",\n",
    "                           \"mayn't\": \"may not\", \"might've\": \"might have\",\"mightn't\": \"might not\",\"mightn't've\": \"might not have\", \"must've\": \"must have\",\n",
    "                           \"mustn't\": \"must not\", \"mustn't've\": \"must not have\", \"needn't\": \"need not\", \"needn't've\": \"need not have\",\"o'clock\": \"of the clock\",\n",
    "                           \"oughtn't\": \"ought not\", \"oughtn't've\": \"ought not have\", \"shan't\": \"shall not\", \"sha'n't\": \"shall not\", \"shan't've\": \"shall not have\",\n",
    "                           \"she'd\": \"she would\", \"she'd've\": \"she would have\", \"she'll\": \"she will\", \"she'll've\": \"she will have\", \"she's\": \"she is\",\n",
    "                           \"should've\": \"should have\", \"shouldn't\": \"should not\", \"shouldn't've\": \"should not have\", \"so've\": \"so have\",\"so's\": \"so as\",\n",
    "                           \"this's\": \"this is\",\"that'd\": \"that would\", \"that'd've\": \"that would have\", \"that's\": \"that is\", \"there'd\": \"there would\",\n",
    "                           \"there'd've\": \"there would have\", \"there's\": \"there is\", \"here's\": \"here is\",\"they'd\": \"they would\", \"they'd've\": \"they would have\",\n",
    "                           \"they'll\": \"they will\", \"they'll've\": \"they will have\", \"they're\": \"they are\", \"they've\": \"they have\", \"to've\": \"to have\",\n",
    "                           \"wasn't\": \"was not\", \"we'd\": \"we would\", \"we'd've\": \"we would have\", \"we'll\": \"we will\", \"we'll've\": \"we will have\", \"we're\": \"we are\",\n",
    "                           \"we've\": \"we have\", \"weren't\": \"were not\", \"what'll\": \"what will\", \"what'll've\": \"what will have\", \"what're\": \"what are\",\n",
    "                           \"what's\": \"what is\", \"what've\": \"what have\", \"when's\": \"when is\", \"when've\": \"when have\", \"where'd\": \"where did\", \"where's\": \"where is\",\n",
    "                           \"where've\": \"where have\", \"who'll\": \"who will\", \"who'll've\": \"who will have\", \"who's\": \"who is\", \"who've\": \"who have\",\n",
    "                           \"why's\": \"why is\", \"why've\": \"why have\", \"will've\": \"will have\", \"won't\": \"will not\", \"won't've\": \"will not have\",\n",
    "                           \"would've\": \"would have\", \"wouldn't\": \"would not\", \"wouldn't've\": \"would not have\", \"y'all\": \"you all\",\n",
    "                           \"y'all'd\": \"you all would\",\"y'all'd've\": \"you all would have\",\"y'all're\": \"you all are\",\"y'all've\": \"you all have\",\n",
    "                           \"you'd\": \"you would\", \"you'd've\": \"you would have\", \"you'll\": \"you will\", \"you'll've\": \"you will have\",\n",
    "                           \"you're\": \"you are\", \"you've\": \"you have\"}\n",
    "\n",
    "print(\"정규화 사전의 수: \",len(contractions))"
   ]
  },
  {
   "cell_type": "code",
   "execution_count": 9,
   "id": "typical-rough",
   "metadata": {},
   "outputs": [
    {
     "name": "stdout",
     "output_type": "stream",
     "text": [
      "불용어 개수 : 179\n",
      "['i', 'me', 'my', 'myself', 'we', 'our', 'ours', 'ourselves', 'you', \"you're\", \"you've\", \"you'll\", \"you'd\", 'your', 'yours', 'yourself', 'yourselves', 'he', 'him', 'his', 'himself', 'she', \"she's\", 'her', 'hers', 'herself', 'it', \"it's\", 'its', 'itself', 'they', 'them', 'their', 'theirs', 'themselves', 'what', 'which', 'who', 'whom', 'this', 'that', \"that'll\", 'these', 'those', 'am', 'is', 'are', 'was', 'were', 'be', 'been', 'being', 'have', 'has', 'had', 'having', 'do', 'does', 'did', 'doing', 'a', 'an', 'the', 'and', 'but', 'if', 'or', 'because', 'as', 'until', 'while', 'of', 'at', 'by', 'for', 'with', 'about', 'against', 'between', 'into', 'through', 'during', 'before', 'after', 'above', 'below', 'to', 'from', 'up', 'down', 'in', 'out', 'on', 'off', 'over', 'under', 'again', 'further', 'then', 'once', 'here', 'there', 'when', 'where', 'why', 'how', 'all', 'any', 'both', 'each', 'few', 'more', 'most', 'other', 'some', 'such', 'no', 'nor', 'not', 'only', 'own', 'same', 'so', 'than', 'too', 'very', 's', 't', 'can', 'will', 'just', 'don', \"don't\", 'should', \"should've\", 'now', 'd', 'll', 'm', 'o', 're', 've', 'y', 'ain', 'aren', \"aren't\", 'couldn', \"couldn't\", 'didn', \"didn't\", 'doesn', \"doesn't\", 'hadn', \"hadn't\", 'hasn', \"hasn't\", 'haven', \"haven't\", 'isn', \"isn't\", 'ma', 'mightn', \"mightn't\", 'mustn', \"mustn't\", 'needn', \"needn't\", 'shan', \"shan't\", 'shouldn', \"shouldn't\", 'wasn', \"wasn't\", 'weren', \"weren't\", 'won', \"won't\", 'wouldn', \"wouldn't\"]\n"
     ]
    }
   ],
   "source": [
    "# NLTK에서 미리 정의하여 제공하고 있는 불용어 리스트\n",
    "print('불용어 개수 :', len(stopwords.words('english') ))\n",
    "print(stopwords.words('english'))"
   ]
  },
  {
   "cell_type": "code",
   "execution_count": 10,
   "id": "touched-oracle",
   "metadata": {},
   "outputs": [],
   "source": [
    "#데이터 전처리 함수\n",
    "def preprocess_sentence(sentence, remove_stopwords=True):\n",
    "    sentence = sentence.lower()                       # 텍스트 소문자화\n",
    "    sentence = BeautifulSoup(sentence, \"lxml\").text   # <br />, <a href = ...> 등의 html 태그 제거\n",
    "    sentence = re.sub(r'\\([^)]*\\)', '', sentence)     # 괄호로 닫힌 문자열 (...) 제거 Ex) my husband (and myself!) for => my husband for\n",
    "    sentence = re.sub('\"','', sentence)               # 쌍따옴표 \" 제거\n",
    "    sentence = ' '.join([contractions[t] if t in contractions else t for t in sentence.split(\" \")]) # 약어 정규화\n",
    "    sentence = re.sub(r\"'s\\b\",\"\",sentence)            # 소유격 제거. Ex) roland's -> roland\n",
    "    sentence = re.sub(\"[^a-zA-Z]\", \" \", sentence)     # 영어 외 문자(숫자, 특수문자 등) 공백으로 변환\n",
    "    sentence = re.sub('[m]{2,}', 'mm', sentence)      # m이 3개 이상이면 2개로 변경. Ex) ummmmmmm yeah -> umm yeah\n",
    "    \n",
    "    # 불용어 제거 (text)\n",
    "    if remove_stopwords:\n",
    "        tokens = ' '.join(word for word in sentence.split() if not word in stopwords.words('english') if len(word) > 1)\n",
    "    # 불용어 미제거 (headlines)\n",
    "    else:\n",
    "        tokens = ' '.join(word for word in sentence.split() if len(word) > 1)\n",
    "    return tokens"
   ]
  },
  {
   "cell_type": "code",
   "execution_count": 11,
   "id": "baking-impossible",
   "metadata": {},
   "outputs": [
    {
     "data": {
      "text/plain": [
       "['saurav kant alumnus upgrad iiit pg program machine learning artificial intelligence sr systems engineer infosys almost years work experience program upgrad degree career support helped transition data scientist tech mahindra salary hike upgrad online power learning powered lakh careers',\n",
       " 'kunal shah credit card bill payment platform cred gave users chance win free food swiggy one year pranav kaushik delhi techie bagged reward spending cred coins users get one cred coin per rupee bill paid used avail rewards brands like ixigo bookmyshow ubereats cult fit',\n",
       " 'new zealand defeated india wickets fourth odi hamilton thursday win first match five match odi series india lost international match rohit sharma captaincy consecutive victories dating back march match witnessed india getting seventh lowest total odi cricket history',\n",
       " 'aegon life iterm insurance plan customers enjoy tax benefits premiums paid save taxes plan provides life cover age years also customers options insure critical illnesses disability accidental death benefit rider life cover age years',\n",
       " 'speaking sexual harassment allegations rajkumar hirani sonam kapoor said known hirani many years true metoo movement get derailed metoo movement always believe woman case need reserve judgment added hirani accused assistant worked sanju']"
      ]
     },
     "execution_count": 11,
     "metadata": {},
     "output_type": "execute_result"
    }
   ],
   "source": [
    "# 전체 text 데이터에 대한 전처리 \n",
    "clean_text = []\n",
    "\n",
    "for s in data['text']:\n",
    "    clean_text.append(preprocess_sentence(s))  # 불용어 제거함\n",
    "\n",
    "# 전처리 후 출력\n",
    "clean_text[:5]"
   ]
  },
  {
   "cell_type": "code",
   "execution_count": 12,
   "id": "neither-country",
   "metadata": {},
   "outputs": [
    {
     "data": {
      "text/plain": [
       "['upgrad learner switches to career in ml al with salary hike',\n",
       " 'delhi techie wins free food from swiggy for one year on cred',\n",
       " 'new zealand end rohit sharma led india match winning streak',\n",
       " 'aegon life iterm insurance plan helps customers save tax',\n",
       " 'have known hirani for yrs what if metoo claims are not true sonam']"
      ]
     },
     "execution_count": 12,
     "metadata": {},
     "output_type": "execute_result"
    }
   ],
   "source": [
    "# 전체 headlines 데이터에 대한 전처리 \n",
    "clean_headlines = []\n",
    "\n",
    "for s in data['headlines']:\n",
    "    clean_headlines.append(preprocess_sentence(s, False))  # 불용어 제거하지 않음\n",
    "\n",
    "clean_headlines[:5]"
   ]
  },
  {
   "cell_type": "code",
   "execution_count": 13,
   "id": "medical-history",
   "metadata": {},
   "outputs": [],
   "source": [
    "# 데이터프레임에 재저장\n",
    "data['text'] = clean_text\n",
    "data['headlines'] = clean_headlines\n",
    "\n",
    "# 빈 값을 Null 값으로 변환\n",
    "data.replace('', np.nan, inplace=True)"
   ]
  },
  {
   "cell_type": "code",
   "execution_count": 14,
   "id": "structured-producer",
   "metadata": {},
   "outputs": [
    {
     "data": {
      "text/plain": [
       "headlines    0\n",
       "text         0\n",
       "dtype: int64"
      ]
     },
     "execution_count": 14,
     "metadata": {},
     "output_type": "execute_result"
    }
   ],
   "source": [
    "# Null 값이 생겼는지 확인\n",
    "data.isnull().sum()"
   ]
  },
  {
   "cell_type": "markdown",
   "id": "rocky-wrong",
   "metadata": {},
   "source": [
    "### Step 2-3. 훈련 데이터와 테스트 데이터 나누기"
   ]
  },
  {
   "cell_type": "markdown",
   "id": "every-maryland",
   "metadata": {},
   "source": [
    "#### Step 2-3-1. 샘플의 최대 길이 정하기"
   ]
  },
  {
   "cell_type": "code",
   "execution_count": 15,
   "id": "potential-qualification",
   "metadata": {},
   "outputs": [
    {
     "name": "stdout",
     "output_type": "stream",
     "text": [
      "텍스트의 최소 길이 : 1\n",
      "텍스트의 최대 길이 : 60\n",
      "텍스트의 평균 길이 : 35.09968483123221\n",
      "요약의 최소 길이 : 1\n",
      "요약의 최대 길이 : 16\n",
      "요약의 평균 길이 : 9.299532330215534\n"
     ]
    },
    {
     "data": {
      "image/png": "[encoded data removed]",
      "text/plain": [
       "<Figure size 432x288 with 2 Axes>"
      ]
     },
     "metadata": {
      "needs_background": "light"
     },
     "output_type": "display_data"
    },
    {
     "data": {
      "image/png": "[encoded data removed]",
      "text/plain": [
       "<Figure size 432x288 with 1 Axes>"
      ]
     },
     "metadata": {
      "needs_background": "light"
     },
     "output_type": "display_data"
    },
    {
     "data": {
      "image/png": "[encoded data removed]",
      "text/plain": [
       "<Figure size 432x288 with 1 Axes>"
      ]
     },
     "metadata": {
      "needs_background": "light"
     },
     "output_type": "display_data"
    }
   ],
   "source": [
    "# 길이 분포 출력\n",
    "import matplotlib.pyplot as plt\n",
    "\n",
    "text_len = [len(s.split()) for s in data['text']]\n",
    "headlines_len = [len(s.split()) for s in data['headlines']]\n",
    "\n",
    "print('텍스트의 최소 길이 : {}'.format(np.min(text_len)))\n",
    "print('텍스트의 최대 길이 : {}'.format(np.max(text_len)))\n",
    "print('텍스트의 평균 길이 : {}'.format(np.mean(text_len)))\n",
    "\n",
    "print('요약의 최소 길이 : {}'.format(np.min(headlines_len)))\n",
    "print('요약의 최대 길이 : {}'.format(np.max(headlines_len)))\n",
    "print('요약의 평균 길이 : {}'.format(np.mean(headlines_len)))\n",
    "\n",
    "plt.subplot(1,2,1)\n",
    "plt.boxplot(headlines_len)\n",
    "plt.title('Headlines')\n",
    "plt.subplot(1,2,2)\n",
    "plt.boxplot(text_len)\n",
    "plt.title('Text')\n",
    "plt.tight_layout()\n",
    "plt.show()\n",
    "\n",
    "plt.title('Headlines')\n",
    "plt.hist(headlines_len, bins = 40)\n",
    "plt.xlabel('length of samples')\n",
    "plt.ylabel('number of samples')\n",
    "plt.show()\n",
    "\n",
    "plt.title('Text')\n",
    "plt.hist(text_len, bins = 40)\n",
    "plt.xlabel('length of samples')\n",
    "plt.ylabel('number of samples')\n",
    "plt.show()"
   ]
  },
  {
   "cell_type": "markdown",
   "id": "naughty-patio",
   "metadata": {},
   "source": [
    "* text의 경우 최소 길이가 1, 최대 길이가 60이고, 평균 길이는 35\n",
    "* text의 시각화 된 그래프로 봤을 때는 대체적으로는 25~45 내외의 길이를 가진다는 것을 확인할 수 있어요.\n",
    "\n",
    "* headlines의 경우 최소 길이가 1, 최대 길이가 16, 그리고 평균 길이가 9로 Text에 비해 상대적으로 길이가 매우 짧아요.\n",
    "* headlines의 그래프로 봤을 때에 대체적으로 12이하의 길이를 가지고 있네요."
   ]
  },
  {
   "cell_type": "code",
   "execution_count": 16,
   "id": "central-firmware",
   "metadata": {},
   "outputs": [],
   "source": [
    "# text의 최대 길이와 headlines 적절한 최대 길이 설정\n",
    "text_max_len = 42\n",
    "headlines_max_len = 11 "
   ]
  },
  {
   "cell_type": "code",
   "execution_count": 17,
   "id": "distant-failure",
   "metadata": {},
   "outputs": [],
   "source": [
    "# 데이터의 몇 %가 해당하는지 계산하는 함수\n",
    "def below_threshold_len(max_len, nested_list):\n",
    "  cnt = 0\n",
    "  for s in nested_list:\n",
    "    if(len(s.split()) <= max_len):\n",
    "        cnt = cnt + 1\n",
    "  print(f'전체 샘플 중 길이가 {max_len} 이하인 샘플의 비율: {cnt / len(nested_list)}')"
   ]
  },
  {
   "cell_type": "code",
   "execution_count": 18,
   "id": "reported-kingdom",
   "metadata": {},
   "outputs": [
    {
     "name": "stdout",
     "output_type": "stream",
     "text": [
      "전체 샘플 중 길이가 42 이하인 샘플의 비율: 0.9750305002033347\n",
      "전체 샘플 중 길이가 11 이하인 샘플의 비율: 0.9449877999186661\n"
     ]
    }
   ],
   "source": [
    "# 몇 %의 샘플까지 포함하는지 확인\n",
    "below_threshold_len(text_max_len, data['text'])\n",
    "below_threshold_len(headlines_max_len,  data['headlines'])"
   ]
  },
  {
   "cell_type": "markdown",
   "id": "concrete-ability",
   "metadata": {},
   "source": [
    "* text 열의 경우 약 2.5%, headlines 열의 경우 약 5.5% 정도가 훈련 데이터에 포함되 않는다."
   ]
  },
  {
   "cell_type": "code",
   "execution_count": 19,
   "id": "pressed-wildlife",
   "metadata": {},
   "outputs": [
    {
     "name": "stdout",
     "output_type": "stream",
     "text": [
      "1차 정제 후 전체 샘플수 : 95904\n",
      "2차 정제 후 전체 샘플수 : 90643\n"
     ]
    }
   ],
   "source": [
    "# 정해진 길이보다 길면 제외하는 방법으로 데이터 정제\n",
    "data = data[data['text'].apply(lambda x: len(x.split()) <= text_max_len)]\n",
    "print('1차 정제 후 전체 샘플수 :',(len(data)))\n",
    "data = data[data['headlines'].apply(lambda x: len(x.split()) <= headlines_max_len)]\n",
    "print('2차 정제 후 전체 샘플수 :',(len(data)))"
   ]
  },
  {
   "cell_type": "markdown",
   "id": "acute-interest",
   "metadata": {},
   "source": [
    "#### Step 2-3-2. 시작 토큰과 종료 토큰 추가하기"
   ]
  },
  {
   "cell_type": "code",
   "execution_count": 20,
   "id": "functional-block",
   "metadata": {},
   "outputs": [
    {
     "data": {
      "text/html": [
       "<div>\n",
       "<style scoped>\n",
       "    .dataframe tbody tr th:only-of-type {\n",
       "        vertical-align: middle;\n",
       "    }\n",
       "\n",
       "    .dataframe tbody tr th {\n",
       "        vertical-align: top;\n",
       "    }\n",
       "\n",
       "    .dataframe thead th {\n",
       "        text-align: right;\n",
       "    }\n",
       "</style>\n",
       "<table border=\"1\" class=\"dataframe\">\n",
       "  <thead>\n",
       "    <tr style=\"text-align: right;\">\n",
       "      <th></th>\n",
       "      <th>headlines</th>\n",
       "      <th>text</th>\n",
       "      <th>decoder_input</th>\n",
       "      <th>decoder_target</th>\n",
       "    </tr>\n",
       "  </thead>\n",
       "  <tbody>\n",
       "    <tr>\n",
       "      <th>0</th>\n",
       "      <td>upgrad learner switches to career in ml al wit...</td>\n",
       "      <td>saurav kant alumnus upgrad iiit pg program mac...</td>\n",
       "      <td>sostoken upgrad learner switches to career in ...</td>\n",
       "      <td>upgrad learner switches to career in ml al wit...</td>\n",
       "    </tr>\n",
       "    <tr>\n",
       "      <th>2</th>\n",
       "      <td>new zealand end rohit sharma led india match w...</td>\n",
       "      <td>new zealand defeated india wickets fourth odi ...</td>\n",
       "      <td>sostoken new zealand end rohit sharma led indi...</td>\n",
       "      <td>new zealand end rohit sharma led india match w...</td>\n",
       "    </tr>\n",
       "    <tr>\n",
       "      <th>3</th>\n",
       "      <td>aegon life iterm insurance plan helps customer...</td>\n",
       "      <td>aegon life iterm insurance plan customers enjo...</td>\n",
       "      <td>sostoken aegon life iterm insurance plan helps...</td>\n",
       "      <td>aegon life iterm insurance plan helps customer...</td>\n",
       "    </tr>\n",
       "    <tr>\n",
       "      <th>5</th>\n",
       "      <td>rahat fateh ali khan denies getting notice for...</td>\n",
       "      <td>pakistani singer rahat fateh ali khan denied r...</td>\n",
       "      <td>sostoken rahat fateh ali khan denies getting n...</td>\n",
       "      <td>rahat fateh ali khan denies getting notice for...</td>\n",
       "    </tr>\n",
       "    <tr>\n",
       "      <th>7</th>\n",
       "      <td>govt directs alok verma to join work day befor...</td>\n",
       "      <td>weeks ex cbi director alok verma told departme...</td>\n",
       "      <td>sostoken govt directs alok verma to join work ...</td>\n",
       "      <td>govt directs alok verma to join work day befor...</td>\n",
       "    </tr>\n",
       "  </tbody>\n",
       "</table>\n",
       "</div>"
      ],
      "text/plain": [
       "                                           headlines  \\\n",
       "0  upgrad learner switches to career in ml al wit...   \n",
       "2  new zealand end rohit sharma led india match w...   \n",
       "3  aegon life iterm insurance plan helps customer...   \n",
       "5  rahat fateh ali khan denies getting notice for...   \n",
       "7  govt directs alok verma to join work day befor...   \n",
       "\n",
       "                                                text  \\\n",
       "0  saurav kant alumnus upgrad iiit pg program mac...   \n",
       "2  new zealand defeated india wickets fourth odi ...   \n",
       "3  aegon life iterm insurance plan customers enjo...   \n",
       "5  pakistani singer rahat fateh ali khan denied r...   \n",
       "7  weeks ex cbi director alok verma told departme...   \n",
       "\n",
       "                                       decoder_input  \\\n",
       "0  sostoken upgrad learner switches to career in ...   \n",
       "2  sostoken new zealand end rohit sharma led indi...   \n",
       "3  sostoken aegon life iterm insurance plan helps...   \n",
       "5  sostoken rahat fateh ali khan denies getting n...   \n",
       "7  sostoken govt directs alok verma to join work ...   \n",
       "\n",
       "                                      decoder_target  \n",
       "0  upgrad learner switches to career in ml al wit...  \n",
       "2  new zealand end rohit sharma led india match w...  \n",
       "3  aegon life iterm insurance plan helps customer...  \n",
       "5  rahat fateh ali khan denies getting notice for...  \n",
       "7  govt directs alok verma to join work day befor...  "
      ]
     },
     "execution_count": 20,
     "metadata": {},
     "output_type": "execute_result"
    }
   ],
   "source": [
    "#요약(headlines) 데이터에는 시작 토큰과 종료 토큰을 추가\n",
    "data['decoder_input'] = data['headlines'].apply(lambda x : 'sostoken '+ x)     # 시작 토큰 추가\n",
    "data['decoder_target'] = data['headlines'].apply(lambda x : x + ' eostoken')   # 종료 토큰 추가\n",
    "data.head()"
   ]
  },
  {
   "cell_type": "code",
   "execution_count": 21,
   "id": "seasonal-grant",
   "metadata": {},
   "outputs": [],
   "source": [
    "# 인코더의 입력, 디코더의 입력과 레이블을 각각 다시 Numpy 타입으로 저장\n",
    "encoder_input = np.array(data['text'])             # 인코더의 입력\n",
    "decoder_input = np.array(data['decoder_input'])    # 디코더의 입력\n",
    "decoder_target = np.array(data['decoder_target'])  # 디코더의 레이블"
   ]
  },
  {
   "cell_type": "markdown",
   "id": "hired-capacity",
   "metadata": {},
   "source": [
    "#### Step 2-3-3. 훈련 데이터와 테스트 데이터 분리"
   ]
  },
  {
   "cell_type": "code",
   "execution_count": 22,
   "id": "developmental-cable",
   "metadata": {},
   "outputs": [
    {
     "name": "stdout",
     "output_type": "stream",
     "text": [
      "[22239 26478  9115 ... 18720 78248 79851]\n"
     ]
    }
   ],
   "source": [
    "# encoder_input과 크기와 형태가 같으며 순서가 섞인 정수 시퀀스 만들기\n",
    "indices = np.arange(encoder_input.shape[0])   # 90643 미만의 값으로 구성됨\n",
    "np.random.shuffle(indices)\n",
    "print(indices)"
   ]
  },
  {
   "cell_type": "code",
   "execution_count": 23,
   "id": "saving-shoulder",
   "metadata": {},
   "outputs": [],
   "source": [
    "# 정수 시퀀스를 이용해 다시 데이터의 샘플 순서를 정의해줘 잘 섞인 샘플 만들기\n",
    "encoder_input = encoder_input[indices]\n",
    "decoder_input = decoder_input[indices]\n",
    "decoder_target = decoder_target[indices]"
   ]
  },
  {
   "cell_type": "code",
   "execution_count": 24,
   "id": "fifteen-spine",
   "metadata": {},
   "outputs": [
    {
     "name": "stdout",
     "output_type": "stream",
     "text": [
      "테스트 데이터의 수 : 18128\n"
     ]
    }
   ],
   "source": [
    "# 섞인 데이터를 8:2의 비율로 훈련 데이터와 테스트 데이터로 분리\n",
    "n_of_val = int(len(encoder_input)*0.2)\n",
    "print('테스트 데이터의 수 :',n_of_val)"
   ]
  },
  {
   "cell_type": "code",
   "execution_count": 25,
   "id": "functioning-landing",
   "metadata": {},
   "outputs": [
    {
     "name": "stdout",
     "output_type": "stream",
     "text": [
      "훈련 데이터의 개수 : 72515\n",
      "훈련 레이블의 개수 : 72515\n",
      "테스트 데이터의 개수 : 18128\n",
      "테스트 레이블의 개수 : 18128\n"
     ]
    }
   ],
   "source": [
    "# 분할된 테스트 데이터의 갯수를 이용해 전체 데이터를 양분하기\n",
    "encoder_input_train = encoder_input[:-n_of_val]\n",
    "decoder_input_train = decoder_input[:-n_of_val]\n",
    "decoder_target_train = decoder_target[:-n_of_val]\n",
    "\n",
    "encoder_input_test = encoder_input[-n_of_val:]\n",
    "decoder_input_test = decoder_input[-n_of_val:]\n",
    "decoder_target_test = decoder_target[-n_of_val:]\n",
    "\n",
    "print('훈련 데이터의 개수 :', len(encoder_input_train))\n",
    "print('훈련 레이블의 개수 :', len(decoder_input_train))\n",
    "\n",
    "print('테스트 데이터의 개수 :',len(encoder_input_test))\n",
    "print('테스트 레이블의 개수 :',len(decoder_input_test))"
   ]
  },
  {
   "cell_type": "markdown",
   "id": "rubber-latex",
   "metadata": {},
   "source": [
    "### Step 2-4. 정수 인코딩"
   ]
  },
  {
   "cell_type": "markdown",
   "id": "living-renewal",
   "metadata": {},
   "source": [
    "#### Step 2-4-1. 인코더 단어 집합(vocaburary) 만들기"
   ]
  },
  {
   "cell_type": "code",
   "execution_count": 26,
   "id": "lyric-implement",
   "metadata": {},
   "outputs": [],
   "source": [
    "# 입력된 훈련 데이터로부터 단어 집합을 만들기\n",
    "src_tokenizer = Tokenizer()                       # 토크나이저 정의\n",
    "src_tokenizer.fit_on_texts(encoder_input_train)   # 입력된 데이터로부터 단어 집합 생성"
   ]
  },
  {
   "cell_type": "markdown",
   "id": "exposed-alignment",
   "metadata": {},
   "source": [
    "* 단어 집합이 생성되는 동시에 각 단어에 고유한 정수가 부여되었어요.\n",
    "* 생성된 단어 집합은 src_tokenizer.**word_index**에 **저장**되어있어요.\n",
    "* 빈도수가 낮은 단어들은 훈련 데이터에서 제외하고 진행하려고 해요.\n",
    "\n",
    "\n",
    "* 등장 빈도수가 7 회 미만인 단어들이 이 데이터에서 얼만큼의 비중을 차지하는지 확인해볼게요.\n",
    "\n",
    "* src_tokenizer.**word_counts.items()** 에는 **단어와 각 단어의 등장 빈도수가 저장**되어져 있는데, \n",
    "* 이를 통해서 통계적인 정보를 얻을 수 있어요"
   ]
  },
  {
   "cell_type": "code",
   "execution_count": 27,
   "id": "south-treasury",
   "metadata": {},
   "outputs": [
    {
     "name": "stdout",
     "output_type": "stream",
     "text": [
      "단어 집합(vocabulary)의 크기 : 67142\n",
      "등장 빈도가 6번 이하인 희귀 단어의 수: 45878\n",
      "단어 집합에서 희귀 단어를 제외시킬 경우의 단어 집합의 크기 21264\n",
      "단어 집합에서 희귀 단어의 비율: 68.32980846563999\n",
      "전체 등장 빈도에서 희귀 단어 등장 빈도 비율: 3.677186666756218\n"
     ]
    }
   ],
   "source": [
    "# 단어와 각 단어의 등장 빈도수의 통계적인 정보\n",
    "threshold = 7\n",
    "total_cnt = len(src_tokenizer.word_index)   # 단어의 수\n",
    "rare_cnt = 0                                # 등장 빈도수가 threshold보다 작은 단어의 개수를 카운트\n",
    "total_freq = 0                              # 훈련 데이터의 전체 단어 빈도수 총 합\n",
    "rare_freq = 0                               # 등장 빈도수가 threshold보다 작은 단어의 등장 빈도수의 총 합\n",
    "\n",
    "# 단어와 빈도수의 쌍(pair)을 key와 value로 받는다.\n",
    "for key, value in src_tokenizer.word_counts.items():\n",
    "    total_freq = total_freq + value\n",
    "\n",
    "    # 단어의 등장 빈도수가 threshold보다 작으면\n",
    "    if(value < threshold):\n",
    "        rare_cnt = rare_cnt + 1\n",
    "        rare_freq = rare_freq + value\n",
    "\n",
    "print(f'단어 집합(vocabulary)의 크기 : {total_cnt}')\n",
    "print(f'등장 빈도가 {threshold - 1}번 이하인 희귀 단어의 수: {rare_cnt}')\n",
    "print(f'단어 집합에서 희귀 단어를 제외시킬 경우의 단어 집합의 크기 {total_cnt - rare_cnt}')\n",
    "print(f'단어 집합에서 희귀 단어의 비율: {(rare_cnt / total_cnt)*100}')\n",
    "print(f'전체 등장 빈도에서 희귀 단어 등장 빈도 비율: {(rare_freq / total_freq)*100}')"
   ]
  },
  {
   "cell_type": "markdown",
   "id": "synthetic-fairy",
   "metadata": {},
   "source": [
    "* encoder_input_train에는 총 67,003개의 단어가 있네요. \n",
    "\n",
    "* 등장 빈도가 threshold 값인 7회 미만인 단어들은 단어 집합에서 무려 68% 이상을 차지하네요.\n",
    "\n",
    "* 실제로 훈련 데이터에서 등장 빈도로 차지하는 비중은 상대적으로 적은 수치인 3.66%밖에 되지 않아요.\n",
    "\n",
    "* 그래서 등장 빈도가 7회 미만인 단어들은 정수 인코딩 과정에서 빼고, 훈련 데이터에서 제거하고자 합니다.\n",
    "\n",
    "* 희귀단어를 제외한 단어 집합의 크기를 21,292으로 계산했는데, 이와 비슷한 값으로 어림잡아 단어 집합의 크기를 20,000으로 제한해볼게요."
   ]
  },
  {
   "cell_type": "markdown",
   "id": "suburban-front",
   "metadata": {},
   "source": [
    "#### Step 2-4-2.  인코더 정수 인코딩"
   ]
  },
  {
   "cell_type": "code",
   "execution_count": 28,
   "id": "vocational-hungarian",
   "metadata": {},
   "outputs": [],
   "source": [
    "# 토크나이저 객체 생성 및 단어 집합 재생성\n",
    "src_vocab = 20000\n",
    "src_tokenizer = Tokenizer(num_words = src_vocab)   # 단어 집합의 크기를 20,000으로 제한\n",
    "src_tokenizer.fit_on_texts(encoder_input_train)    # 단어 집합 재생성."
   ]
  },
  {
   "cell_type": "code",
   "execution_count": 29,
   "id": "juvenile-neighbor",
   "metadata": {},
   "outputs": [
    {
     "name": "stdout",
     "output_type": "stream",
     "text": [
      "[[207, 313, 89, 2887, 165, 1617, 12, 23, 399, 25, 32, 62, 4228, 1410, 1628, 11974, 254, 100, 47, 3519, 181, 1116, 102, 1447, 5061, 1804, 4639, 349, 5112, 765, 1287], [170, 22, 607, 233, 305, 1622, 1698, 102, 623, 1079, 4728, 6850, 207, 33, 32, 6, 1470, 881, 1699, 2067, 2318, 1459, 60, 1575, 326, 9389, 14097, 196, 563], [7716, 2011, 920, 59, 1326, 2676, 968, 1419, 7717, 199, 10973, 619, 1334, 2294, 151, 765, 2265, 275, 224, 620, 18651, 262, 10, 620, 482, 259, 856, 43, 1]]\n"
     ]
    }
   ],
   "source": [
    "# 텍스트 시퀀스를 정수 시퀀스로 변환\n",
    "encoder_input_train = src_tokenizer.texts_to_sequences(encoder_input_train) \n",
    "encoder_input_test = src_tokenizer.texts_to_sequences(encoder_input_test)\n",
    "\n",
    "#잘 진행되었는지 샘플 출력\n",
    "print(encoder_input_train[:3])"
   ]
  },
  {
   "cell_type": "markdown",
   "id": "normal-copper",
   "metadata": {},
   "source": [
    "#### Step 2-4-3. 디코더 단어 집합(vocaburary) 만들기"
   ]
  },
  {
   "cell_type": "code",
   "execution_count": 30,
   "id": "second-genius",
   "metadata": {},
   "outputs": [],
   "source": [
    "# 토크나이저 객체 생성 및 단어 집합 생성\n",
    "tar_tokenizer = Tokenizer()\n",
    "tar_tokenizer.fit_on_texts(decoder_input_train)"
   ]
  },
  {
   "cell_type": "code",
   "execution_count": 31,
   "id": "prompt-contact",
   "metadata": {},
   "outputs": [
    {
     "name": "stdout",
     "output_type": "stream",
     "text": [
      "단어 집합(vocabulary)의 크기 : 29205\n",
      "등장 빈도가 6번 이하인 희귀 단어의 수: 20055\n",
      "단어 집합에서 희귀 단어를 제외시킬 경우의 단어 집합의 크기 9150\n",
      "단어 집합에서 희귀 단어의 비율: 68.66974833076527\n",
      "전체 등장 빈도에서 희귀 단어 등장 빈도 비율: 5.701830839375303\n"
     ]
    }
   ],
   "source": [
    "# 단어와 각 단어의 등장 빈도수의 통계적인 정보\n",
    "threshold = 7\n",
    "total_cnt = len(tar_tokenizer.word_index)     # 단어의 수\n",
    "rare_cnt = 0                                  # 등장 빈도수가 threshold보다 작은 단어의 개수를 카운트\n",
    "total_freq = 0                                # 훈련 데이터의 전체 단어 빈도수 총 합\n",
    "rare_freq = 0                                 # 등장 빈도수가 threshold보다 작은 단어의 등장 빈도수의 총 합\n",
    "\n",
    "# 단어와 빈도수의 쌍(pair)을 key와 value로 받는다.\n",
    "for key, value in tar_tokenizer.word_counts.items():\n",
    "    total_freq = total_freq + value\n",
    "\n",
    "    # 단어의 등장 빈도수가 threshold보다 작으면\n",
    "    if(value < threshold):\n",
    "        rare_cnt = rare_cnt + 1\n",
    "        rare_freq = rare_freq + value\n",
    "\n",
    "print(f'단어 집합(vocabulary)의 크기 : {total_cnt}')\n",
    "print(f'등장 빈도가 {threshold - 1}번 이하인 희귀 단어의 수: {rare_cnt}')\n",
    "print(f'단어 집합에서 희귀 단어를 제외시킬 경우의 단어 집합의 크기 {total_cnt - rare_cnt}')\n",
    "print(f'단어 집합에서 희귀 단어의 비율: {(rare_cnt / total_cnt)*100}')\n",
    "print(f'전체 등장 빈도에서 희귀 단어 등장 빈도 비율: {(rare_freq / total_freq)*100}')"
   ]
  },
  {
   "cell_type": "markdown",
   "id": "approximate-pharmaceutical",
   "metadata": {},
   "source": [
    "* 등장 빈도가 7회 미만인 단어들은 단어 집합에서 약 69%를 차지하고있네요.\n",
    "* 실제로 훈련 데이터에서 등장 빈도로 차지하는 비중은 상대적으로 매우 적은 수치인 5.72%밖에 되지 않아요.\n",
    "* 아까 했던것과 동일하게 이 단어들은 모두 제거할게요. 9,151에서 어림잡아 9,000을 단어 집합의 크기로 제한할게요."
   ]
  },
  {
   "cell_type": "markdown",
   "id": "published-mechanics",
   "metadata": {},
   "source": [
    "#### Step 2-4-4. 디코더 정수 인코딩"
   ]
  },
  {
   "cell_type": "code",
   "execution_count": 32,
   "id": "eleven-renewal",
   "metadata": {},
   "outputs": [
    {
     "name": "stdout",
     "output_type": "stream",
     "text": [
      "input\n",
      "input  [[1, 896, 2619, 252, 54, 10, 384, 3], [1, 87, 394, 461, 85, 4442, 136, 6, 419, 5568], [1, 27, 110, 261, 11, 1525, 58, 5338, 24], [1, 5569, 3106, 9, 38, 825, 3, 3281, 4164], [1, 50, 2127, 7349, 563, 743, 5570]]\n",
      "target\n",
      "decoder  [[896, 2619, 252, 54, 10, 384, 3, 2], [87, 394, 461, 85, 4442, 136, 6, 419, 5568, 2], [27, 110, 261, 11, 1525, 58, 5338, 24, 2], [5569, 3106, 9, 38, 825, 3, 3281, 4164, 2], [50, 2127, 7349, 563, 743, 5570, 2]]\n"
     ]
    }
   ],
   "source": [
    "tar_vocab = 9000\n",
    "tar_tokenizer = Tokenizer(num_words = tar_vocab) \n",
    "tar_tokenizer.fit_on_texts(decoder_input_train)\n",
    "tar_tokenizer.fit_on_texts(decoder_target_train)\n",
    "\n",
    "# 텍스트 시퀀스를 정수 시퀀스로 변환\n",
    "decoder_input_train = tar_tokenizer.texts_to_sequences(decoder_input_train) \n",
    "decoder_target_train = tar_tokenizer.texts_to_sequences(decoder_target_train)\n",
    "decoder_input_test = tar_tokenizer.texts_to_sequences(decoder_input_test)\n",
    "decoder_target_test = tar_tokenizer.texts_to_sequences(decoder_target_test)\n",
    "\n",
    "#잘 변환되었는지 확인\n",
    "print('input')\n",
    "print('input ',decoder_input_train[:5])\n",
    "print('target')\n",
    "print('decoder ',decoder_target_train[:5])"
   ]
  },
  {
   "cell_type": "markdown",
   "id": "level-vienna",
   "metadata": {},
   "source": [
    "input\n",
    "input  [[1, 249, 90, 1068, 13, 440, 3, 15, 461, 7, 1837], [1, 1450, 79, 341, 5, 26, 22, 25, 117], [1, 42, 60, 151, 5, 882], [1, 58, 4, 1725, 6, 15], [1, 249, 19, 1919, 1001, 636, 702]]\n",
    "target\n",
    "decoder  [[249, 90, 1068, 13, 440, 3, 15, 461, 7, 1837, 2], [1450, 79, 341, 5, 26, 22, 25, 117, 2], [42, 60, 151, 5, 882, 2], [58, 4, 1725, 6, 15, 2], [249, 19, 1919, 1001, 636, 702, 2]]"
   ]
  },
  {
   "cell_type": "code",
   "execution_count": 33,
   "id": "crude-record",
   "metadata": {},
   "outputs": [
    {
     "name": "stdout",
     "output_type": "stream",
     "text": [
      "삭제할 훈련 데이터의 개수 : 1\n",
      "삭제할 테스트 데이터의 개수 : 0\n",
      "훈련 데이터의 개수 : 72514\n",
      "훈련 레이블의 개수 : 72514\n",
      "테스트 데이터의 개수 : 18128\n",
      "테스트 레이블의 개수 : 18128\n"
     ]
    },
    {
     "name": "stderr",
     "output_type": "stream",
     "text": [
      "/home/aiffel-d34j/anaconda3/envs/aiffel/lib/python3.7/site-packages/numpy/core/_asarray.py:83: VisibleDeprecationWarning: Creating an ndarray from ragged nested sequences (which is a list-or-tuple of lists-or-tuples-or ndarrays with different lengths or shapes) is deprecated. If you meant to do this, you must specify 'dtype=object' when creating the ndarray\n",
      "  return array(a, dtype, copy=False, order=order)\n"
     ]
    }
   ],
   "source": [
    "# 요약문의 길이가 1인 경우 삭제\n",
    "drop_train = [index for index, sentence in enumerate(decoder_input_train) if len(sentence) == 1]\n",
    "drop_test  = [index for index, sentence in enumerate(decoder_input_test) if len(sentence) == 1]\n",
    "\n",
    "print('삭제할 훈련 데이터의 개수 :',len(drop_train))\n",
    "print('삭제할 테스트 데이터의 개수 :',len(drop_test))\n",
    "\n",
    "encoder_input_train = np.delete(encoder_input_train, drop_train, axis=0)\n",
    "decoder_input_train = np.delete(decoder_input_train, drop_train, axis=0)\n",
    "decoder_target_train = np.delete(decoder_target_train, drop_train, axis=0)\n",
    "\n",
    "encoder_input_test = np.delete(encoder_input_test, drop_test, axis=0)\n",
    "decoder_input_test = np.delete(decoder_input_test, drop_test, axis=0)\n",
    "decoder_target_test = np.delete(decoder_target_test, drop_test, axis=0)\n",
    "\n",
    "print('훈련 데이터의 개수 :', len(encoder_input_train))\n",
    "print('훈련 레이블의 개수 :',len(decoder_input_train))\n",
    "print('테스트 데이터의 개수 :',len(encoder_input_test))\n",
    "print('테스트 레이블의 개수 :',len(decoder_input_test))"
   ]
  },
  {
   "cell_type": "markdown",
   "id": "unexpected-apache",
   "metadata": {},
   "source": [
    "### Step 2-5. 패딩하기"
   ]
  },
  {
   "cell_type": "code",
   "execution_count": 34,
   "id": "rural-gateway",
   "metadata": {},
   "outputs": [],
   "source": [
    "encoder_input_train = pad_sequences(encoder_input_train, maxlen = text_max_len, padding='post')\n",
    "encoder_input_test  = pad_sequences(encoder_input_test, maxlen = text_max_len, padding='post')\n",
    "\n",
    "decoder_input_train  = pad_sequences(decoder_input_train, maxlen = headlines_max_len, padding='post')\n",
    "decoder_target_train = pad_sequences(decoder_target_train, maxlen = headlines_max_len, padding='post')\n",
    "\n",
    "decoder_input_test  = pad_sequences(decoder_input_test, maxlen = headlines_max_len, padding='post')\n",
    "decoder_target_test = pad_sequences(decoder_target_test, maxlen = headlines_max_len, padding='post')"
   ]
  },
  {
   "cell_type": "markdown",
   "id": "useful-withdrawal",
   "metadata": {},
   "source": [
    "## Step 3. 어텐션 메커니즘 사용하기 (추상적 요약)\n",
    "\n",
    "* 일반적인 seq2seq보다는 어텐션 메커니즘을 사용한 seq2seq를 사용하는 것이 더 나은 성능을 얻을 수 있어요. \n",
    "* 실습 내용을 참고하여 **어텐션 메커니즘을 사용한 seq2seq를 설계**해 보세요."
   ]
  },
  {
   "cell_type": "markdown",
   "id": "seasonal-samoa",
   "metadata": {},
   "source": [
    "### Step 3-1. 인코더 설계"
   ]
  },
  {
   "cell_type": "code",
   "execution_count": 35,
   "id": "integral-owner",
   "metadata": {},
   "outputs": [
    {
     "name": "stdout",
     "output_type": "stream",
     "text": [
      "WARNING:tensorflow:Layer lstm will not use cuDNN kernel since it doesn't meet the cuDNN kernel criteria. It will use generic GPU kernel as fallback when running on GPU\n",
      "WARNING:tensorflow:Layer lstm_1 will not use cuDNN kernel since it doesn't meet the cuDNN kernel criteria. It will use generic GPU kernel as fallback when running on GPU\n",
      "WARNING:tensorflow:Layer lstm_2 will not use cuDNN kernel since it doesn't meet the cuDNN kernel criteria. It will use generic GPU kernel as fallback when running on GPU\n"
     ]
    }
   ],
   "source": [
    "# 함수형 API를 이용해서 인코더 설계\n",
    "\n",
    "from tensorflow.keras.layers import Input, LSTM, Embedding, Dense, Concatenate\n",
    "from tensorflow.keras.models import Model\n",
    "from tensorflow.keras.callbacks import EarlyStopping, ModelCheckpoint\n",
    "\n",
    "\n",
    "# 인코더 설계 시작\n",
    "embedding_dim = 128\n",
    "hidden_size = 256\n",
    "\n",
    "# 인코더\n",
    "encoder_inputs = Input(shape=(text_max_len,))\n",
    "\n",
    "# 인코더의 임베딩 층\n",
    "enc_emb_layer = Embedding(src_vocab, embedding_dim)   # (input_dim, output_dim)\n",
    "enc_emb = enc_emb_layer(encoder_inputs)\n",
    "# enc_emb = Embedding(src_vocab, embedding_dim)(encoder_inputs)   # 한줄로 표현\n",
    "\n",
    "# 인코더의 LSTM 1\n",
    "encoder_lstm1 = LSTM(hidden_size, \n",
    "                     return_sequences=True,   # 각 time step별 hidden state를 모두 출력하게 된다\n",
    "                     return_state=True ,      # 마지막 time step에서의 output(hidden state), hidden state와 cell state가 출력된다\n",
    "                     dropout = 0.4, \n",
    "                     recurrent_dropout = 0.4)\n",
    "encoder_output1, state_h1, state_c1 = encoder_lstm1(enc_emb)\n",
    "\n",
    "# 인코더의 LSTM 2\n",
    "encoder_lstm2 = LSTM(hidden_size, \n",
    "                     return_sequences=True, \n",
    "                     return_state=True, \n",
    "                     dropout=0.4, \n",
    "                     recurrent_dropout=0.4)\n",
    "encoder_output2, state_h2, state_c2 = encoder_lstm2(encoder_output1)\n",
    "\n",
    "# 인코더의 LSTM 3\n",
    "encoder_lstm3 = LSTM(hidden_size, \n",
    "                     return_state=True, \n",
    "                     return_sequences=True, \n",
    "                     dropout=0.4, \n",
    "                     recurrent_dropout=0.4)\n",
    "encoder_outputs, state_h, state_c= encoder_lstm3(encoder_output2)"
   ]
  },
  {
   "cell_type": "markdown",
   "id": "modular-mileage",
   "metadata": {},
   "source": [
    "### Step 3-2. 디코더 설계"
   ]
  },
  {
   "cell_type": "code",
   "execution_count": 36,
   "id": "enormous-probability",
   "metadata": {},
   "outputs": [
    {
     "name": "stdout",
     "output_type": "stream",
     "text": [
      "WARNING:tensorflow:Layer lstm_3 will not use cuDNN kernel since it doesn't meet the cuDNN kernel criteria. It will use generic GPU kernel as fallback when running on GPU\n"
     ]
    }
   ],
   "source": [
    "# 함수형 API를 이용해서 디코더 설계\n",
    "\n",
    "# 디코더\n",
    "decoder_inputs = Input(shape=(None,))\n",
    "\n",
    "# 디코더의 임베딩 층\n",
    "dec_emb_layer = Embedding(tar_vocab, embedding_dim)\n",
    "dec_emb = dec_emb_layer(decoder_inputs)\n",
    "\n",
    "# 디코더의 LSTM\n",
    "decoder_lstm = LSTM(hidden_size, \n",
    "                    return_sequences = True, \n",
    "                    return_state = True, \n",
    "                    dropout = 0.4, \n",
    "                    recurrent_dropout=0.2)\n",
    "decoder_outputs, _, _ = decoder_lstm(dec_emb, \n",
    "                                     initial_state = [state_h, state_c])"
   ]
  },
  {
   "cell_type": "code",
   "execution_count": 37,
   "id": "defensive-mississippi",
   "metadata": {},
   "outputs": [],
   "source": [
    "# # 디코더의 출력층\n",
    "# decoder_softmax_layer = Dense(tar_vocab, activation = 'softmax')\n",
    "# decoder_softmax_outputs = decoder_softmax_layer(decoder_outputs) \n",
    "\n",
    "# # 모델 정의\n",
    "# model = Model([encoder_inputs, decoder_inputs], decoder_softmax_outputs)\n",
    "# model.summary()"
   ]
  },
  {
   "cell_type": "markdown",
   "id": "infectious-pickup",
   "metadata": {},
   "source": [
    "* 디코더의 출력층 설계를 어텐션 메커니즘으로 바꿔서 성능을 높이는 방법"
   ]
  },
  {
   "cell_type": "markdown",
   "id": "homeless-sword",
   "metadata": {},
   "source": [
    "### Step 3-3. 어텐션 매커니즘 설계"
   ]
  },
  {
   "cell_type": "code",
   "execution_count": 38,
   "id": "relative-mining",
   "metadata": {
    "scrolled": true
   },
   "outputs": [
    {
     "name": "stdout",
     "output_type": "stream",
     "text": [
      "Model: \"model\"\n",
      "__________________________________________________________________________________________________\n",
      "Layer (type)                    Output Shape         Param #     Connected to                     \n",
      "==================================================================================================\n",
      "input_1 (InputLayer)            [(None, 42)]         0                                            \n",
      "__________________________________________________________________________________________________\n",
      "embedding (Embedding)           (None, 42, 128)      2560000     input_1[0][0]                    \n",
      "__________________________________________________________________________________________________\n",
      "lstm (LSTM)                     [(None, 42, 256), (N 394240      embedding[0][0]                  \n",
      "__________________________________________________________________________________________________\n",
      "input_2 (InputLayer)            [(None, None)]       0                                            \n",
      "__________________________________________________________________________________________________\n",
      "lstm_1 (LSTM)                   [(None, 42, 256), (N 525312      lstm[0][0]                       \n",
      "__________________________________________________________________________________________________\n",
      "embedding_1 (Embedding)         (None, None, 128)    1152000     input_2[0][0]                    \n",
      "__________________________________________________________________________________________________\n",
      "lstm_2 (LSTM)                   [(None, 42, 256), (N 525312      lstm_1[0][0]                     \n",
      "__________________________________________________________________________________________________\n",
      "lstm_3 (LSTM)                   [(None, None, 256),  394240      embedding_1[0][0]                \n",
      "                                                                 lstm_2[0][1]                     \n",
      "                                                                 lstm_2[0][2]                     \n",
      "__________________________________________________________________________________________________\n",
      "attention_layer (AttentionLayer ((None, None, 256),  131328      lstm_2[0][0]                     \n",
      "                                                                 lstm_3[0][0]                     \n",
      "__________________________________________________________________________________________________\n",
      "concat_layer (Concatenate)      (None, None, 512)    0           lstm_3[0][0]                     \n",
      "                                                                 attention_layer[0][0]            \n",
      "__________________________________________________________________________________________________\n",
      "dense (Dense)                   (None, None, 9000)   4617000     concat_layer[0][0]               \n",
      "==================================================================================================\n",
      "Total params: 10,299,432\n",
      "Trainable params: 10,299,432\n",
      "Non-trainable params: 0\n",
      "__________________________________________________________________________________________________\n"
     ]
    }
   ],
   "source": [
    "from attention import AttentionLayer\n",
    "\n",
    "# 어텐션 층(어텐션 함수)\n",
    "attn_layer = AttentionLayer(name='attention_layer')\n",
    "\n",
    "# 인코더와 디코더의 모든 time step의 hidden state를 어텐션 층에 전달하고 결과를 리턴\n",
    "attn_out, attn_states = attn_layer([encoder_outputs, decoder_outputs])\n",
    "\n",
    "# 어텐션의 결과와 디코더의 hidden state들을 연결\n",
    "decoder_concat_input = Concatenate(axis = -1, name='concat_layer')([decoder_outputs, attn_out])\n",
    "\n",
    "# 디코더의 출력층\n",
    "decoder_softmax_layer = Dense(tar_vocab, activation='softmax')\n",
    "decoder_softmax_outputs = decoder_softmax_layer(decoder_concat_input)\n",
    "\n",
    "# 모델 정의\n",
    "model = Model([encoder_inputs, decoder_inputs], decoder_softmax_outputs)\n",
    "model.summary()"
   ]
  },
  {
   "cell_type": "markdown",
   "id": "joined-denmark",
   "metadata": {},
   "source": [
    "### Step 3-4. 모델 훈련하기"
   ]
  },
  {
   "cell_type": "code",
   "execution_count": 39,
   "id": "present-system",
   "metadata": {},
   "outputs": [
    {
     "name": "stdout",
     "output_type": "stream",
     "text": [
      "Epoch 1/50\n",
      "284/284 [==============================] - 86s 302ms/step - loss: 5.9327 - val_loss: 5.5047\n",
      "Epoch 2/50\n",
      "284/284 [==============================] - 85s 300ms/step - loss: 5.3573 - val_loss: 5.1292\n",
      "Epoch 3/50\n",
      "284/284 [==============================] - 85s 300ms/step - loss: 5.0075 - val_loss: 4.8469\n",
      "Epoch 4/50\n",
      "284/284 [==============================] - 85s 299ms/step - loss: 4.7136 - val_loss: 4.6294\n",
      "Epoch 5/50\n",
      "284/284 [==============================] - 85s 300ms/step - loss: 4.4883 - val_loss: 4.4725\n",
      "Epoch 6/50\n",
      "284/284 [==============================] - 85s 301ms/step - loss: 4.3011 - val_loss: 4.3686\n",
      "Epoch 7/50\n",
      "284/284 [==============================] - 85s 299ms/step - loss: 4.1413 - val_loss: 4.2492\n",
      "Epoch 8/50\n",
      "284/284 [==============================] - 86s 304ms/step - loss: 4.0038 - val_loss: 4.1748\n",
      "Epoch 9/50\n",
      "284/284 [==============================] - 87s 307ms/step - loss: 3.8824 - val_loss: 4.1069\n",
      "Epoch 10/50\n",
      "284/284 [==============================] - 87s 307ms/step - loss: 3.7746 - val_loss: 4.0505\n",
      "Epoch 11/50\n",
      "284/284 [==============================] - 88s 310ms/step - loss: 3.6777 - val_loss: 4.0155\n",
      "Epoch 12/50\n",
      "284/284 [==============================] - 89s 315ms/step - loss: 3.5904 - val_loss: 3.9683\n",
      "Epoch 13/50\n",
      "284/284 [==============================] - 90s 316ms/step - loss: 3.5092 - val_loss: 3.9339\n",
      "Epoch 14/50\n",
      "284/284 [==============================] - 90s 318ms/step - loss: 3.4343 - val_loss: 3.9011\n",
      "Epoch 15/50\n",
      "284/284 [==============================] - 89s 314ms/step - loss: 3.3649 - val_loss: 3.8785\n",
      "Epoch 16/50\n",
      "284/284 [==============================] - 91s 320ms/step - loss: 3.3027 - val_loss: 3.8579\n",
      "Epoch 17/50\n",
      "284/284 [==============================] - 89s 314ms/step - loss: 3.2462 - val_loss: 3.8436\n",
      "Epoch 18/50\n",
      "284/284 [==============================] - 86s 303ms/step - loss: 3.1917 - val_loss: 3.8321\n",
      "Epoch 19/50\n",
      "284/284 [==============================] - 87s 305ms/step - loss: 3.1418 - val_loss: 3.8179\n",
      "Epoch 20/50\n",
      "284/284 [==============================] - 86s 304ms/step - loss: 3.0922 - val_loss: 3.8087\n",
      "Epoch 21/50\n",
      "284/284 [==============================] - 86s 302ms/step - loss: 3.0429 - val_loss: 3.8006\n",
      "Epoch 22/50\n",
      "284/284 [==============================] - 85s 301ms/step - loss: 3.0000 - val_loss: 3.7880\n",
      "Epoch 23/50\n",
      "284/284 [==============================] - 87s 305ms/step - loss: 2.9604 - val_loss: 3.7821\n",
      "Epoch 24/50\n",
      "284/284 [==============================] - 88s 311ms/step - loss: 2.9227 - val_loss: 3.7743\n",
      "Epoch 25/50\n",
      "284/284 [==============================] - 93s 326ms/step - loss: 2.8847 - val_loss: 3.7740\n",
      "Epoch 26/50\n",
      "284/284 [==============================] - 87s 305ms/step - loss: 2.8496 - val_loss: 3.7800\n",
      "Epoch 27/50\n",
      "284/284 [==============================] - 87s 307ms/step - loss: 2.8131 - val_loss: 3.7730\n",
      "Epoch 28/50\n",
      "284/284 [==============================] - 88s 311ms/step - loss: 2.7810 - val_loss: 3.7727\n",
      "Epoch 29/50\n",
      "284/284 [==============================] - 88s 310ms/step - loss: 2.7478 - val_loss: 3.7644\n",
      "Epoch 30/50\n",
      "284/284 [==============================] - 88s 310ms/step - loss: 2.7191 - val_loss: 3.7624\n",
      "Epoch 31/50\n",
      "284/284 [==============================] - 89s 312ms/step - loss: 2.6928 - val_loss: 3.7571\n",
      "Epoch 32/50\n",
      "284/284 [==============================] - 88s 311ms/step - loss: 2.6689 - val_loss: 3.7504\n",
      "Epoch 33/50\n",
      "284/284 [==============================] - 89s 314ms/step - loss: 2.6446 - val_loss: 3.7561\n",
      "Epoch 34/50\n",
      "284/284 [==============================] - 88s 309ms/step - loss: 2.6223 - val_loss: 3.7613\n",
      "Epoch 00034: early stopping\n"
     ]
    }
   ],
   "source": [
    "model.compile(optimizer='rmsprop', loss='sparse_categorical_crossentropy')\n",
    "\n",
    "es = EarlyStopping(monitor='val_loss', mode='min', verbose=1, patience=2)\n",
    "\n",
    "modhist = model.fit(x = [encoder_input_train, decoder_input_train], \n",
    "                    y = decoder_target_train,\n",
    "                    validation_data = ([encoder_input_test, decoder_input_test], decoder_target_test),\n",
    "                    batch_size = 256, \n",
    "                    callbacks=[es], \n",
    "                    epochs = 50)"
   ]
  },
  {
   "cell_type": "code",
   "execution_count": 40,
   "id": "golden-duplicate",
   "metadata": {},
   "outputs": [
    {
     "data": {
      "image/png": "[encoded data removed]",
      "text/plain": [
       "<Figure size 432x288 with 1 Axes>"
      ]
     },
     "metadata": {
      "needs_background": "light"
     },
     "output_type": "display_data"
    }
   ],
   "source": [
    "# 훈련 데이터의 손실과 검증 데이터의 손실이 줄어드는 과정 시각화\n",
    "plt.plot(modhist.history['loss'], 'b-', label='train')\n",
    "plt.plot(modhist.history['val_loss'], 'r--', label='test')\n",
    "plt.legend()\n",
    "plt.show()"
   ]
  },
  {
   "cell_type": "markdown",
   "id": "broad-stone",
   "metadata": {},
   "source": [
    "## Step 4. 실제 결과와 요약문 비교하기 (추상적 요약)\n",
    "\n",
    "* 원래의 요약문(headlines 열)과 학습을 통해 얻은 **추상적 요약의 결과를 비교**해보세요."
   ]
  },
  {
   "cell_type": "markdown",
   "id": "nasty-walker",
   "metadata": {},
   "source": [
    "### Step 4-1. 인퍼런스 모델 구현하기"
   ]
  },
  {
   "cell_type": "code",
   "execution_count": 41,
   "id": "killing-insider",
   "metadata": {},
   "outputs": [],
   "source": [
    "# 정수 인덱스 데이터를 실제 데이터로 복원하는데 필요한 3개의 사전 준비\n",
    "src_index_to_word = src_tokenizer.index_word   # 원문 단어 집합에서 정수로부터 단어를 얻음\n",
    "tar_word_to_index = tar_tokenizer.word_index   # 요약 단어 집합에서 단어로부터 정수를 얻음\n",
    "tar_index_to_word = tar_tokenizer.index_word   # 요약 단어 집합에서 정수로부터 단어를 얻음"
   ]
  },
  {
   "cell_type": "markdown",
   "id": "absent-violation",
   "metadata": {},
   "source": [
    "#### Step 4-1-1. 인코더 모델 설계"
   ]
  },
  {
   "cell_type": "code",
   "execution_count": 42,
   "id": "colonial-newcastle",
   "metadata": {},
   "outputs": [],
   "source": [
    "# 인코더 모델 설계\n",
    "encoder_model = Model(inputs=encoder_inputs, \n",
    "                      outputs=[encoder_outputs, state_h, state_c])\n",
    "\n",
    "# 이전 시점의 상태들을 저장하는 텐서\n",
    "decoder_state_input_h = Input(shape=(hidden_size,))\n",
    "decoder_state_input_c = Input(shape=(hidden_size,))\n",
    "\n",
    "dec_emb2 = dec_emb_layer(decoder_inputs)\n",
    "\n",
    "# 문장의 다음 단어를 예측하기 위해서 초기 상태(initial_state)를 이전 시점의 상태로 사용. 이는 뒤의 함수 decode_sequence()에 구현\n",
    "# 훈련 과정에서와 달리 LSTM의 리턴하는 은닉 상태와 셀 상태인 state_h와 state_c를 버리지 않음.\n",
    "decoder_outputs2, state_h2, state_c2 = decoder_lstm(dec_emb2, \n",
    "                                                    initial_state=[decoder_state_input_h, decoder_state_input_c])"
   ]
  },
  {
   "cell_type": "markdown",
   "id": "personal-width",
   "metadata": {},
   "source": [
    "#### Step 4-1-2. 디코더 모델 설계"
   ]
  },
  {
   "cell_type": "code",
   "execution_count": 43,
   "id": "animal-biodiversity",
   "metadata": {},
   "outputs": [],
   "source": [
    "# 어텐션 메커니즘을 사용하는 출력층 설계\n",
    "\n",
    "# 어텐션 함수\n",
    "decoder_hidden_state_input = Input(shape=(text_max_len, hidden_size))\n",
    "attn_out_inf, attn_states_inf = attn_layer([decoder_hidden_state_input, decoder_outputs2])\n",
    "decoder_inf_concat = Concatenate(axis=-1, name='concat')([decoder_outputs2, attn_out_inf])\n",
    "\n",
    "# 디코더의 출력층\n",
    "decoder_outputs2 = decoder_softmax_layer(decoder_inf_concat) \n",
    "\n",
    "# 최종 디코더 모델\n",
    "decoder_model = Model(\n",
    "    [decoder_inputs] + [decoder_hidden_state_input,decoder_state_input_h, decoder_state_input_c],\n",
    "    [decoder_outputs2] + [state_h2, state_c2])"
   ]
  },
  {
   "cell_type": "markdown",
   "id": "transparent-stephen",
   "metadata": {},
   "source": [
    "#### Step 4-1-3. 단어 시퀀스를 완성하는 함수"
   ]
  },
  {
   "cell_type": "code",
   "execution_count": 44,
   "id": "critical-subscription",
   "metadata": {},
   "outputs": [],
   "source": [
    "# 인퍼런스 단계에서 단어 시퀀스를 완성하는 함수\n",
    "def decode_sequence(input_seq):\n",
    "    # 입력으로부터 인코더의 상태를 얻음\n",
    "    e_out, e_h, e_c = encoder_model.predict(input_seq)\n",
    "\n",
    "     # <SOS>에 해당하는 토큰 생성\n",
    "    target_seq = np.zeros((1,1))\n",
    "    target_seq[0, 0] = tar_word_to_index['sostoken']\n",
    "\n",
    "    stop_condition = False\n",
    "    decoded_sentence = ''\n",
    "    while not stop_condition: # stop_condition이 True가 될 때까지 루프 반복\n",
    "\n",
    "        output_tokens, h, c = decoder_model.predict([target_seq] + [e_out, e_h, e_c])\n",
    "        sampled_token_index = np.argmax(output_tokens[0, -1, :])\n",
    "        sampled_token = tar_index_to_word[sampled_token_index]\n",
    "\n",
    "        if(sampled_token!='eostoken'):\n",
    "            decoded_sentence += ' '+sampled_token\n",
    "\n",
    "        #  <eos>에 도달하거나 최대 길이를 넘으면 중단.\n",
    "        if (sampled_token == 'eostoken'  or len(decoded_sentence.split()) >= (headlines_max_len-1)):\n",
    "            stop_condition = True\n",
    "\n",
    "        # 길이가 1인 타겟 시퀀스를 업데이트\n",
    "        target_seq = np.zeros((1,1))\n",
    "        target_seq[0, 0] = sampled_token_index\n",
    "\n",
    "        # 상태를 업데이트 합니다.\n",
    "        e_h, e_c = h, c\n",
    "\n",
    "    return decoded_sentence"
   ]
  },
  {
   "cell_type": "markdown",
   "id": "vulnerable-kingdom",
   "metadata": {},
   "source": [
    "### Step 4-2. 모델의 요약문 비교하기"
   ]
  },
  {
   "cell_type": "code",
   "execution_count": 45,
   "id": "auburn-sheriff",
   "metadata": {},
   "outputs": [],
   "source": [
    "# 원문의 정수 시퀀스를 텍스트 시퀀스로 변환\n",
    "def seq2text(input_seq):\n",
    "    temp=''\n",
    "    for i in input_seq:\n",
    "        if(i!=0):\n",
    "            temp = temp + src_index_to_word[i]+' '\n",
    "    return temp\n",
    "\n",
    "\n",
    "# 요약문의 정수 시퀀스를 텍스트 시퀀스로 변환\n",
    "def seq2summary(input_seq):\n",
    "    temp=''\n",
    "    for i in input_seq:\n",
    "        if((i!=0 and i!=tar_word_to_index['sostoken']) and i!=tar_word_to_index['eostoken']):\n",
    "            temp = temp + tar_index_to_word[i] + ' '\n",
    "    return temp"
   ]
  },
  {
   "cell_type": "code",
   "execution_count": 46,
   "id": "union-culture",
   "metadata": {},
   "outputs": [
    {
     "name": "stdout",
     "output_type": "stream",
     "text": [
      "원문 : bangladeshi origin suspect set homemade bomb new york monday reportedly told investigators carried attack retaliation us air strikes isis targets syria elsewhere us authorities believe got self radicalised likely watching terror group propaganda internet \n",
      "실제 요약 : ny bomb attack in revenge of attacks on isis suspect \n",
      "예측 요약 :  indian origin man killed in syria after isis attack\n",
      "\n",
      "\n",
      "원문 : year old national bravery award recipient khan designated special police officer agra police uttar pradesh khan awarded bravery award taking active measures network drugs gambling rackets filed numerous police complaints also instrumental stopping kidnapping attempt six year old \n",
      "실제 요약 : bravery award winner special police officer in up \n",
      "예측 요약 :  phogat son booked for raping derogatory award\n",
      "\n",
      "\n",
      "원문 : maharashtra state road transport corporation decided deduct days salaries staffers four day strike diwali staffers receive days salaries next six months notice issued said comes bombay high court declared strike illegal \n",
      "실제 요약 : govt staff days pay cut over day strike in mumbai \n",
      "예측 요약 :  maha announces free strike for day of farmers\n",
      "\n",
      "\n",
      "원문 : us president donald trump tuesday said fresh sanctions north korea approved un security council small step nothing compared ultimately happen know impact certainly nice get nothing vote trump added \n",
      "실제 요약 : korea sanctions nothing compared to what will happen trump \n",
      "예측 요약 :  north korea not to north korea\n",
      "\n",
      "\n",
      "원문 : poland sunday became first person ski world second highest mountain metre high peak five highest mountain peaks world notably considered challenging climb world highest peak mount everest \n",
      "실제 요약 : polish man first to ski down world nd highest peak \n",
      "예측 요약 :  world longest world longest jump in world\n",
      "\n",
      "\n",
      "원문 : aviation advisory firm swiss aviation consulting monday denied expressed interest buying debt ridden national carrier air india report quoted senior aviation ministry official saying shown interest buying air india said contact indian government officials air india representatives regarding bidding process \n",
      "실제 요약 : swiss aviation denies bid for air india \n",
      "예측 요약 :  air india denies reports of air india privatisation\n",
      "\n",
      "\n",
      "원문 : australian spinner nathan lyon offered help ishant sharma come bat final day second test perth tuesday lyon seen helping ishant take guard following field umpire kumar seen smiling lyon picked eight wickets match \n",
      "실제 요약 : australia lyon offers help to ishant sharma in perth test \n",
      "예측 요약 :  bowler takes wickets on his th day at lord\n",
      "\n",
      "\n",
      "원문 : mumbai indians rounder kieron pollard friday became fifth batsman score plus runs achieving feat knock royal challengers bangalore interestingly pollard first batsman reach run mark without century name pollard counterpart chris gayle runs leading run scorer cricket \n",
      "실제 요약 : pollard becomes fifth batsman to score runs \n",
      "예측 요약 :  pollard scores in fastest fifty to score in\n",
      "\n",
      "\n",
      "원문 : five time major championship winning golfer usa phil handed two stroke penalty us open hit moving ball change direction towards hole six time us open runner also celebrating birthday said preferred taking two shot penalty merely taking advantage rules \n",
      "실제 요약 : golf star hits moving ball towards hole \n",
      "예측 요약 :  pl champ gets one handed help from white house\n",
      "\n",
      "\n",
      "원문 : actress alia bhatt said filmmaker karan johar like father said friendships among people bollywood added friends ayan mukerji abhishek also fond katrina kaif \n",
      "실제 요약 : karan johar is like father to me alia bhatt \n",
      "예측 요약 :  my daughter is my karan johar on alia\n",
      "\n",
      "\n"
     ]
    }
   ],
   "source": [
    "# 테스트 데이터 약 10개의 샘플에 대해서 실제 요약과 예측된 요약을 비교\n",
    "for i in range(50, 60):\n",
    "    print(\"원문 :\", seq2text(encoder_input_test[i]))\n",
    "    print(\"실제 요약 :\", seq2summary(decoder_input_test[i]))\n",
    "    print(\"예측 요약 :\", decode_sequence(encoder_input_test[i].reshape(1, text_max_len)))\n",
    "    print(\"\\n\")"
   ]
  },
  {
   "cell_type": "markdown",
   "id": "cubic-inflation",
   "metadata": {},
   "source": [
    "## Step 5. Summa을 이용해서 추출적 요약해보기\n",
    "\n",
    "* **추상적 요약**은 추출적 요약과는 달리 문장의 표현력을 다양하게 가져갈 수 있지만, 추출적 요약에 비해서 난이도가 높아요. \n",
    "* 반대로 말하면 **추출적 요약**은 추상적 요약에 비해 난이도가 낮고 기존 문장에서 문장을 꺼내오는 것이므로 잘못된 요약이 나올 가능성이 낮아요.\n",
    "\n",
    "* **Summa의 summarize**를 사용하여 **추출적 요약**을 해보세요."
   ]
  },
  {
   "cell_type": "markdown",
   "id": "silent-latter",
   "metadata": {},
   "source": [
    "* **Summa의 summarize()의 인자**로 사용되는 값들에 대해서 알아볼게요.\n",
    "\n",
    "  - **text (str)** : 요약할 테스트.  \n",
    "  - **ratio (float, optional)** – 요약문에서 원본에서 선택되는 문장 비율. 0~1 사이값  \n",
    "  - **words (int or None, optional)** – 출력에 포함할 단어 수.  \n",
    "    만약, ratio와 함께 두 파라미터가 모두 제공되는 경우 ratio는 무시한다.  \n",
    "  - **split (bool, optional)** – True면 문장 list / False는 조인(join)된 문자열을 반환  \n",
    "  "
   ]
  },
  {
   "cell_type": "code",
   "execution_count": 97,
   "id": "sapphire-mayor",
   "metadata": {},
   "outputs": [],
   "source": [
    "# 데이터를 다시 불러온다.\n",
    "data = pd.read_csv(os.getenv(\"HOME\")+\"/aiffel/news_summarization/data/news_summary_more.csv\", encoding='iso-8859-1')\n"
   ]
  },
  {
   "cell_type": "code",
   "execution_count": 98,
   "id": "renewable-divide",
   "metadata": {},
   "outputs": [
    {
     "data": {
      "text/plain": [
       "'sedition charges slapped five people arrested bikaner cheering pakistan champions trophy final sunday lesser charges framed earlier later elevated sedition following submission district collector police seeking action accused person convicted sedition jailed life '"
      ]
     },
     "execution_count": 98,
     "metadata": {},
     "output_type": "execute_result"
    }
   ],
   "source": [
    "seq2text(encoder_input_test[0])"
   ]
  },
  {
   "cell_type": "code",
   "execution_count": 99,
   "id": "miniature-laptop",
   "metadata": {
    "scrolled": true
   },
   "outputs": [
    {
     "data": {
      "text/plain": [
       "\"Saurav Kant, an alumnus of upGrad and IIIT-B's PG Program in Machine learning and Artificial Intelligence, was a Sr Systems Engineer at Infosys with almost 5 years of work experience. The program and upGrad's 360-degree career support helped him transition to a Data Scientist at Tech Mahindra with 90% salary hike. upGrad's Online Power Learning has powered 3 lakh+ careers.\""
      ]
     },
     "execution_count": 99,
     "metadata": {},
     "output_type": "execute_result"
    }
   ],
   "source": [
    "data['text'][0]"
   ]
  },
  {
   "cell_type": "code",
   "execution_count": 100,
   "id": "designing-photograph",
   "metadata": {},
   "outputs": [
    {
     "name": "stdout",
     "output_type": "stream",
     "text": [
      "원문 : sedition charges slapped five people arrested bikaner cheering pakistan champions trophy final sunday lesser charges framed earlier later elevated sedition following submission district collector police seeking action accused person convicted sedition jailed life \n",
      "실제 요약 : sedition charges on arrested for for pakistan \n",
      "예측 요약 : \n",
      "\n",
      "\n",
      "원문 : appearing us senate hearing facebook ceo mark zuckerberg revealed wednesday personal information among data million facebook users improperly shared political consultancy cambridge analytica insisting facebook users impose restrictions data share zuckerberg said data may thing value facebook \n",
      "실제 요약 : zuckerberg reveals his personal info was leaked in data scandal \n",
      "예측 요약 : \n",
      "\n",
      "\n",
      "원문 : oscar winning actress meryl streep filed application requesting name us patent trademark office wants entertainment services movie appearances speaking autographs notably streep received st oscar nomination post breaking record nominated actress oscars history \n",
      "실제 요약 : actress meryl files request to trademark her own name \n",
      "예측 요약 : \n",
      "\n",
      "\n",
      "원문 : rti query revealed grants sanctioned cow welfare akhilesh yadav led government went ngo run sister law aparna yadav government sanctioned funds amounting crore crore ngo notably aparna ngo received fund till \n",
      "실제 요약 : sp govt gave cow welfare fund to yadav ngo rti \n",
      "예측 요약 : \n",
      "\n",
      "\n",
      "원문 : supreme court monday refused bihar liquor manufacturers plea take remaining stock outside state comes court refused extend deadline traders shift stock alcohol ruled remaining stock destroyed notably bihar government imposed ban liquor last year \n",
      "실제 요약 : sc blocks liquor from taking stock out of bihar \n",
      "예측 요약 : \n",
      "\n",
      "\n",
      "원문 : central vigilance commissioner kv chowdary tuesday said apparent audit rbi period pnb fraud rbi regulatory responsibility lack integrity would looked central vigilance commission added exercises cbi probing fraud \n",
      "실제 요약 : rbi did not do body on pnb fraud \n",
      "예측 요약 : \n",
      "\n",
      "\n",
      "원문 : discovered new species fish year old tourist noticed shape fish monastery tour colombia fossil million years old modern relatives first fish lizard period found tropical south america said canada based researcher \n",
      "실제 요약 : year old boy helps discover fossil of dinosaur era fish \n",
      "예측 요약 : \n",
      "\n",
      "\n",
      "원문 : uber paid hackers stole personal data million accounts last year delete data keep breach secret company revealed tuesday uber also fired chief security officer deputy incident breach however reveal users social security numbers credit card information trip details \n",
      "실제 요약 : uber paid to hide hack that affected mn users \n",
      "예측 요약 : \n",
      "\n",
      "\n",
      "원문 : cover elle magazine australia edition shot using portrait mode iphone plus june issue features fashion blogger stylist margaret zhang cover fashion photographer said one thing struck shoot worry lenses computer etc \n",
      "실제 요약 : iphone plus used to shoot cover of magazine \n",
      "예측 요약 : \n",
      "\n",
      "\n",
      "원문 : madhya pradesh agriculture minister gauri shankar said saturday water shortage matter concern referring state people suffering lack water matter concern provide water bottles reportedly said \n",
      "실제 요약 : will provide bottles to drought hit people mp min \n",
      "예측 요약 : \n",
      "\n",
      "\n"
     ]
    }
   ],
   "source": [
    "for i in range(0, 10):\n",
    "    print(\"원문 :\", seq2text(encoder_input_test[i]))\n",
    "    print(\"실제 요약 :\", seq2summary(decoder_input_test[i]))\n",
    "    print(\"예측 요약 :\", summarize(seq2text(encoder_input_test[i]), words=50))\n",
    "    print(\"\\n\")"
   ]
  },
  {
   "cell_type": "code",
   "execution_count": 101,
   "id": "ecological-chuck",
   "metadata": {},
   "outputs": [
    {
     "name": "stdout",
     "output_type": "stream",
     "text": [
      "Text 열에서 중복을 배제한 유일한 샘플의 수 : 98360\n",
      "Headlines 열에서 중복을 배제한 유일한 샘플의 수 : 98280\n"
     ]
    }
   ],
   "source": [
    "# 데이터의 중복 샘플 유무를 확인\n",
    "print('Text 열에서 중복을 배제한 유일한 샘플의 수 :', data['text'].nunique())\n",
    "print('Headlines 열에서 중복을 배제한 유일한 샘플의 수 :', data['headlines'].nunique())"
   ]
  },
  {
   "cell_type": "code",
   "execution_count": 102,
   "id": "hungry-cheat",
   "metadata": {},
   "outputs": [
    {
     "name": "stdout",
     "output_type": "stream",
     "text": [
      "전체 샘플수 : 98360\n"
     ]
    }
   ],
   "source": [
    "# 중복된 text 데이터 제거\n",
    "data.drop_duplicates(subset = ['text'], inplace = True)\n",
    "print('전체 샘플수 :',(len(data)))"
   ]
  },
  {
   "cell_type": "code",
   "execution_count": 103,
   "id": "accepting-angola",
   "metadata": {},
   "outputs": [
    {
     "name": "stdout",
     "output_type": "stream",
     "text": [
      "headlines    0\n",
      "text         0\n",
      "dtype: int64\n"
     ]
    }
   ],
   "source": [
    "# Null 값이 있는지 확인하고 갯수 확인\n",
    "print(data.isnull().sum())"
   ]
  },
  {
   "cell_type": "code",
   "execution_count": 104,
   "id": "curious-cooperation",
   "metadata": {},
   "outputs": [
    {
     "name": "stdout",
     "output_type": "stream",
     "text": [
      "텍스트의 최소 길이 : 1\n",
      "텍스트의 최대 길이 : 91\n",
      "텍스트의 평균 길이 : 58.23813542090281\n"
     ]
    }
   ],
   "source": [
    "# 불용어 및 축약어 처리 전\n",
    "text_len = [len(s.split()) for s in data['text']]\n",
    "\n",
    "print('텍스트의 최소 길이 : {}'.format(np.min(text_len)))\n",
    "print('텍스트의 최대 길이 : {}'.format(np.max(text_len)))\n",
    "print('텍스트의 평균 길이 : {}'.format(np.mean(text_len)))"
   ]
  },
  {
   "cell_type": "code",
   "execution_count": 81,
   "id": "unique-vessel",
   "metadata": {
    "scrolled": true
   },
   "outputs": [
    {
     "name": "stdout",
     "output_type": "stream",
     "text": [
      "원문(추출) :\n",
      " Saurav Kant, an alumnus of upGrad and IIIT-B's PG Program in Machine learning and Artificial Intelligence, was a Sr Systems Engineer at Infosys with almost 5 years of work experience. The program and upGrad's 360-degree career support helped him transition to a Data Scientist at Tech Mahindra with 90% salary hike. upGrad's Online Power Learning has powered 3 lakh+ careers.\n",
      "실제 요약(추출) :\n",
      " upGrad learner switches to career in ML & Al with 90% salary hike\n",
      "요약(추출) :\n",
      " upGrad's Online Power Learning has powered 3 lakh+ careers.\n",
      "\n",
      "\n",
      "원문(추출) :\n",
      " Kunal Shah's credit card bill payment platform, CRED, gave users a chance to win free food from Swiggy for one year. Pranav Kaushik, a Delhi techie, bagged this reward after spending 2000 CRED coins. Users get one CRED coin per rupee of bill paid, which can be used to avail rewards from brands like Ixigo, BookMyShow, UberEats, Cult.Fit and more.\n",
      "실제 요약(추출) :\n",
      " Delhi techie wins free food from Swiggy for one year on CRED\n",
      "요약(추출) :\n",
      " Users get one CRED coin per rupee of bill paid, which can be used to avail rewards from brands like Ixigo, BookMyShow, UberEats, Cult.Fit and more.\n",
      "\n",
      "\n",
      "원문(추출) :\n",
      " New Zealand defeated India by 8 wickets in the fourth ODI at Hamilton on Thursday to win their first match of the five-match ODI series. India lost an international match under Rohit Sharma's captaincy after 12 consecutive victories dating back to March 2018. The match witnessed India getting all out for 92, their seventh lowest total in ODI cricket history.\n",
      "실제 요약(추출) :\n",
      " New Zealand end Rohit Sharma-led India's 12-match winning streak\n",
      "요약(추출) :\n",
      " The match witnessed India getting all out for 92, their seventh lowest total in ODI cricket history.\n",
      "\n",
      "\n",
      "원문(추출) :\n",
      " With Aegon Life iTerm Insurance plan, customers can enjoy tax benefits on your premiums paid and save up to Ã¢ÂÂ¹46,800^ on taxes. The plan provides life cover up to the age of 100 years. Also, customers have options to insure against Critical Illnesses, Disability and Accidental Death Benefit Rider with a life cover up to the age of 80 years.\n",
      "실제 요약(추출) :\n",
      " Aegon life iTerm insurance plan helps customers save tax\n",
      "요약(추출) :\n",
      " Also, customers have options to insure against Critical Illnesses, Disability and Accidental Death Benefit Rider with a life cover up to the age of 80 years.\n",
      "\n",
      "\n",
      "원문(추출) :\n",
      " Speaking about the sexual harassment allegations against Rajkumar Hirani, Sonam Kapoor said, \"I've known Hirani for many years...What if it's not true, the [#MeToo] movement will get derailed.\" \"In the #MeToo movement, I always believe a woman. But in this case, we need to reserve our judgment,\" she added. Hirani has been accused by an assistant who worked in 'Sanju'.\n",
      "실제 요약(추출) :\n",
      " Have known Hirani for yrs, what if MeToo claims are not true: Sonam\n",
      "요약(추출) :\n",
      " \n",
      "\n",
      "\n",
      "원문(추출) :\n",
      " Pakistani singer Rahat Fateh Ali Khan has denied receiving any notice from the Enforcement Directorate over allegedly smuggling foreign currency out of India. \"It would have been better if the authorities would have served the notice first if any and then publicised this,\" reads a press release issued on behalf of Rahat. The statement further called the allegation \"bizarre\".\n",
      "실제 요약(추출) :\n",
      " Rahat Fateh Ali Khan denies getting notice for smuggling currency\n",
      "요약(추출) :\n",
      " Pakistani singer Rahat Fateh Ali Khan has denied receiving any notice from the Enforcement Directorate over allegedly smuggling foreign currency out of India.\n",
      "\n",
      "\n",
      "원문(추출) :\n",
      " India recorded their lowest ODI total in New Zealand after getting all out for 92 runs in 30.5 overs in the fourth ODI at Hamilton on Thursday. Seven of India's batsmen were dismissed for single-digit scores, while their number ten batsman Yuzvendra Chahal top-scored with 18*(37). India's previous lowest ODI total in New Zealand was 108.\n",
      "실제 요약(추출) :\n",
      " India get all out for 92, their lowest ODI total in New Zealand\n",
      "요약(추출) :\n",
      " India's previous lowest ODI total in New Zealand was 108.\n",
      "\n",
      "\n",
      "원문(추출) :\n",
      " Weeks after ex-CBI Director Alok Verma told the Department of Personnel and Training to consider him retired, the Home Ministry asked him to join work on the last day of his fixed tenure as Director on Thursday. The ministry directed him to immediately join as DG, Fire Services, the post he was transferred to after his removal as CBI chief.\n",
      "실제 요약(추출) :\n",
      " Govt directs Alok Verma to join work 1 day before his retirement\n",
      "요약(추출) :\n",
      " \n",
      "\n",
      "\n",
      "원문(추출) :\n",
      " Andhra Pradesh CM N Chandrababu Naidu has said, \"When I met then US President Bill Clinton, I addressed him as Mr Clinton, not as 'sir'. (PM Narendra) Modi is my junior in politics...I addressed him as sir 10 times.\" \"I did this...to satisfy his ego in the hope that he will do justice to the state,\" he added.\n",
      "실제 요약(추출) :\n",
      " Called PM Modi 'sir' 10 times to satisfy his ego: Andhra CM\n",
      "요약(추출) :\n",
      " Andhra Pradesh CM N Chandrababu Naidu has said, \"When I met then US President Bill Clinton, I addressed him as Mr Clinton, not as 'sir'.\n",
      "\n",
      "\n",
      "원문(추출) :\n",
      " Congress candidate Shafia Zubair won the Ramgarh Assembly seat in Rajasthan, by defeating BJP's Sukhwant Singh with a margin of 12,228 votes in the bypoll. With this victory, Congress has taken its total to 100 seats in the 200-member assembly. The election to the Ramgarh seat was delayed due to the death of sitting MLA and BSP candidate Laxman Singh.\n",
      "실제 요약(추출) :\n",
      " Cong wins Ramgarh bypoll in Rajasthan, takes total to 100 seats\n",
      "요약(추출) :\n",
      " Congress candidate Shafia Zubair won the Ramgarh Assembly seat in Rajasthan, by defeating BJP's Sukhwant Singh with a margin of 12,228 votes in the bypoll.\n",
      "\n",
      "\n"
     ]
    }
   ],
   "source": [
    "for i in range(0, 10):\n",
    "    print(\"원문(추출) :\\n\", data['text'][i])\n",
    "    print(\"실제 요약(추출) :\\n\", data['headlines'][i])\n",
    "    print(\"요약(추출) :\\n\", summarize(data['text'][i], words=15))   # 텍스트의 평균 길이의 약 1/4 길이로 요약\n",
    "    print(\"\\n\")"
   ]
  },
  {
   "cell_type": "markdown",
   "id": "mental-yield",
   "metadata": {},
   "source": [
    "## 회고\n",
    "\n",
    "* Concatenate(axis = -1, name='concat_layer')\n",
    "\n",
    "\n",
    "* **Tokenizer()** : Tokenize는 data를 문장 혹은 단어 등의 단위로 나누는 것을 말한다.\n",
    "  - word_index\n",
    "    - 생성된 단어 집합은 .word_index에 저장되어있다\n",
    "  - fit_on_texts()\n",
    "    - 입력된 문자 데이터로부터 단어 집합 생성 \n",
    "  - texts_to_sequences()\n",
    "    - 텍스트를 정수 인코딩함\n",
    "  - word_counts.items()\n",
    "    - 단어와 각 단어의 등장 빈도수가 저장되어져 있다\n",
    "  - pad_sequences()\n",
    "    - 길이가 같지 않고 적거나 많을 때 일정한 길이로 맞춰 줄 때 사용한다\n",
    "  \n",
    "  \n",
    "* 케라스의 **Embedding Layer**\n",
    "  - Embedding(input_dim, output_dim)\n",
    "  - 분포 가설(Distributed hypothesis)\n",
    "    - 같은 문맥의 단어, 즉 비슷한 위치에 나오는 단어는 비슷한 의미를 가진다 라는 의미이다\n",
    "      - 어떤 글의 비슷한 위치에 존재하는 단어는 단어 간의 유사도를 높게 측정할 것이다.\n",
    "  - Word2Vec\n",
    "    - Dense 한 표현법으로 벡터화 하는 방법중 하나 (CountVectorizer, TfidfVectorizer, Word2Vec)\n",
    "    - 단어의 특징과 유사도를 나타내 주는 (진정한) embedding\n",
    "    - 학습을 통한 예측 기반 방법\n",
    "    - CBow 와 Skip-gram 이 있다\n",
    "      - CBow : 어떤 단어를 문맥 안의 주변 단어들을 통해 예측하는 방법\n",
    "      - Skip-gram : 반대로 어떤 단어를 가지고 특정 문맥 안의 주변 단어들을 예측하는 과정\n",
    "  - 단어 벡터는 단어 간의 유사도를 잘 측정하며 복잡한 특징까지도 잘 잡아낸다\n",
    "  - 이런 임베딩은 언어뿐 아니라 2-D image 등에서도 적용된다.\n",
    "    - GAN이나 CNN 모델로 Input을 Manifold 하는 과정에서 사용된다\n",
    "    \n",
    "\n",
    "* Tensorflow에서 **LSTM (Long Short Term Memory)**\n",
    "  - input값을 받으면 hidden state와 cell state를 가지게 된다\n",
    "    - cell state : LSTM이 굴러가게 하는데 일종의 체인역할을 하며 기억을 오랫동안 유지할 수 있는 구조로 되어있다\n",
    "    - hidden state : 계층의 출력이 되며 다음 타임 스텝으로 정보를 넘기게 된다\n",
    "  - cell state와 hidden state에 대한 출력을 바꾸는 변수로는 \n",
    "    - return_state와 return_sequences이다\n",
    "      - 두 개의 변수는 boolean의 형태로 주어지게 되며 \n",
    "      - 둘 다 false일 경우 마지막 결과값(마지막 hidden state) 값만 출력하게 된다.\n",
    "  - return_sequences = True로 설정할 경우 \n",
    "    - 각 time step별 hidden state를 모두 출력하게 된다.\n",
    "  - return_state = True 를 한 경우에는 \n",
    "    - 마지막 time step에서의 output(hidden state), hidden state와 cell state가 출력된다. \n",
    "    - 즉 마지막 output값이 2번 출력이 되고 cell state가 나온다.\n",
    "  - return_sequences와 return_state를 모두 True로 하게 되면 \n",
    "    - 각 time step별 hidden state와 \n",
    "    - 마지막 hidden state, \n",
    "    - 마지막 cell state 값이 출력된다.\n",
    "  - dropout\n",
    "    - 0과 1 사이의 부동 소수점입니다. \n",
    "    - 입력의 선형 변환을 위해 드롭 할 단위의 비율입니다.\n",
    "  - recurrent_dropout\n",
    "    - 0과 1 사이의 부동 소수점입니다. \n",
    "    - 반복 상태의 선형 변환을 위해 드롭 할 단위의 비율입니다.\n",
    "  - dropout과 recurrent_dropout의 차이를 모르겠다.\n",
    "  \n",
    "\n",
    "* 깊이 있게 내용을 파악하려고 하다보면 벽이 앞에 있는 느낌이다."
   ]
  },
  {
   "cell_type": "code",
   "execution_count": null,
   "id": "chubby-bumper",
   "metadata": {},
   "outputs": [],
   "source": []
  }
 ],
 "metadata": {
  "hide_input": false,
  "kernelspec": {
   "display_name": "aiffel",
   "language": "python",
   "name": "aiffel"
  },
  "language_info": {
   "codemirror_mode": {
    "name": "ipython",
    "version": 3
   },
   "file_extension": ".py",
   "mimetype": "text/x-python",
   "name": "python",
   "nbconvert_exporter": "python",
   "pygments_lexer": "ipython3",
   "version": "3.7.9"
  },
  "toc": {
   "base_numbering": 1,
   "nav_menu": {},
   "number_sections": false,
   "sideBar": true,
   "skip_h1_title": false,
   "title_cell": "Table of Contents",
   "title_sidebar": "Contents",
   "toc_cell": false,
   "toc_position": {
    "height": "calc(100% - 180px)",
    "left": "10px",
    "top": "150px",
    "width": "390px"
   },
   "toc_section_display": true,
   "toc_window_display": true
  }
 },
 "nbformat": 4,
 "nbformat_minor": 5
}
