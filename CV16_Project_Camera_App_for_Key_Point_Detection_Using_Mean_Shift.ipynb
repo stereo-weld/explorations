{
 "cells": [
  {
   "cell_type": "markdown",
   "id": "adf1780d",
   "metadata": {},
   "source": [
    "# 16. 프로젝트: 카메라 앱에 당황한 표정 효과를 적용해보기"
   ]
  },
  {
   "cell_type": "markdown",
   "id": "6f929981",
   "metadata": {},
   "source": [
    "## 루브릭\n",
    "\n",
    "|평가문항|\t상세기준|\n",
    "|:-------|:-------|\n",
    "|1. mean-shift를 활용하여 눈동자 검출 라벨링 추가작업을 원활히 진행하였다.|눈이미지-라벨이미지 쌍의 추가데이터셋을 10000건 이상 충분히 확보하였다.|\n",
    "|2. 눈동자 키포인트 검출 딥러닝 모델이 구현되어 안정적으로 학습이 진행되었다.|pretrained model 기반의 딥러닝 모델의 트레이닝 loss가 안정적으로 감소함을 확인하였다.|\n",
    "|3. 모델이 검출한 눈 위치에 당황한 표정효과 눈 이미지를 합성한 이미지를 생성하였다.|사람 얼굴 이미지에서 딥러닝 모델로 눈동자 키포인트를 검출하여 눈 이미지를 자연스럽게 합성한 결과이미지를 생성하였다.|"
   ]
  },
  {
   "cell_type": "markdown",
   "id": "d7c706f8",
   "metadata": {},
   "source": [
    "<img align='center' width='20%' src='https://aiffelstaticprd.blob.core.windows.net/media/original_images/gc-8-lecture-emoji.jpg'/>\n",
    "\n",
    "## 0. 그림처럼 놀라서 눈이 튀어나오는 듯 한 효과를 내봅시다. \n",
    "- 우선 눈을 찾고, 눈에 효과를 적용해 보세요. \n",
    "- 어려워 보여도 차근차근 한다면 충분히 간단한 프로토타입을 구현하실 수 있습니다."
   ]
  },
  {
   "cell_type": "markdown",
   "id": "d31df045",
   "metadata": {},
   "source": [
    "### 라벨링 툴 만들기"
   ]
  },
  {
   "cell_type": "markdown",
   "id": "611afd29",
   "metadata": {},
   "source": [
    "`keypoint_using_mouse.py`"
   ]
  },
  {
   "cell_type": "markdown",
   "id": "05d6e069",
   "metadata": {},
   "source": [
    "우선 위 이미지를 다운받아, eye.png 이름으로 현재 프로젝트 폴더의 하위 디렉토리인 data 에 저장한 후, 아래 코드를 터미널에서 실행합니다.\n",
    "\n",
    "`cd ~/aiffel/coarse_to_fine\n",
    " wget https://aiffelstaticprd.blob.core.windows.net/media/original_images/1_hZAciQ9.png -O ./data/eye.png\n",
    " python keypoint_using_mouse.py ./data/eye.png`"
   ]
  },
  {
   "cell_type": "markdown",
   "id": "d03034a5",
   "metadata": {},
   "source": [
    "### 데이터셋 모으기"
   ]
  },
  {
   "cell_type": "code",
   "execution_count": null,
   "id": "b4fdccd6",
   "metadata": {},
   "outputs": [],
   "source": []
  },
  {
   "cell_type": "markdown",
   "id": "af39fc77",
   "metadata": {},
   "source": [
    "### 눈동자 검출"
   ]
  },
  {
   "cell_type": "code",
   "execution_count": null,
   "id": "8ec26fbe",
   "metadata": {},
   "outputs": [],
   "source": []
  },
  {
   "cell_type": "markdown",
   "id": "c690c2bc",
   "metadata": {},
   "source": [
    "## 1. 이론 시간에 다룬 모델을 참고하여 딥러닝 모델을 설계해 봅시다.\n",
    "7~9번 스텝에서 키포인트 검출을 위한 딥러닝 모델을 만들어본 바 있습니다.   \n",
    "이를 활용해서 눈 이미지에서 적합한 키포인트를 찾는 딥러닝 모델을 구현해 봅시다.   \n",
    "이 모델의 학습을 위해서는 오늘 다룬 것처럼 데이터를 모아 데이터셋을 구축하는 과정이 함께 진행되어야 할 것입니다."
   ]
  },
  {
   "cell_type": "markdown",
   "id": "9395d22e",
   "metadata": {},
   "source": [
    "### 데이터 확인"
   ]
  },
  {
   "cell_type": "code",
   "execution_count": null,
   "id": "3df0be1a",
   "metadata": {},
   "outputs": [],
   "source": []
  },
  {
   "cell_type": "markdown",
   "id": "57737bbf",
   "metadata": {},
   "source": [
    "### 모델 설계"
   ]
  },
  {
   "cell_type": "code",
   "execution_count": null,
   "id": "901e21c5",
   "metadata": {},
   "outputs": [],
   "source": []
  },
  {
   "cell_type": "code",
   "execution_count": null,
   "id": "0f9c425e",
   "metadata": {},
   "outputs": [],
   "source": []
  },
  {
   "cell_type": "markdown",
   "id": "c3074261",
   "metadata": {},
   "source": [
    "## 2. 눈동자 효과를 추가해 봅시다.\n",
    "추출된 눈 위치에 위의 당황한 표정의 눈 이미지를 합성해 봅시다.   \n",
    "이렇게 합성된 이미지를 제출하는 것까지가 오늘 프로젝트 과제의 목표입니다."
   ]
  },
  {
   "cell_type": "code",
   "execution_count": null,
   "id": "3db2e2b7",
   "metadata": {},
   "outputs": [],
   "source": []
  },
  {
   "cell_type": "code",
   "execution_count": null,
   "id": "bc1c2b74",
   "metadata": {},
   "outputs": [],
   "source": []
  },
  {
   "cell_type": "markdown",
   "id": "1dc9b8b8",
   "metadata": {},
   "source": [
    "## 회고"
   ]
  },
  {
   "cell_type": "code",
   "execution_count": null,
   "id": "70248209",
   "metadata": {},
   "outputs": [],
   "source": []
  }
 ],
 "metadata": {
  "hide_input": false,
  "kernelspec": {
   "display_name": "aiffel",
   "language": "python",
   "name": "aiffel"
  },
  "language_info": {
   "codemirror_mode": {
    "name": "ipython",
    "version": 3
   },
   "file_extension": ".py",
   "mimetype": "text/x-python",
   "name": "python",
   "nbconvert_exporter": "python",
   "pygments_lexer": "ipython3",
   "version": "3.7.9"
  },
  "toc": {
   "base_numbering": 1,
   "nav_menu": {},
   "number_sections": false,
   "sideBar": true,
   "skip_h1_title": false,
   "title_cell": "Table of Contents",
   "title_sidebar": "Contents",
   "toc_cell": false,
   "toc_position": {},
   "toc_section_display": true,
   "toc_window_display": false
  }
 },
 "nbformat": 4,
 "nbformat_minor": 5
}
