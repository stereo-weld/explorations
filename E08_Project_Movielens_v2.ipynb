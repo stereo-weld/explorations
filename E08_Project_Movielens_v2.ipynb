{
 "cells": [
  {
   "cell_type": "markdown",
   "metadata": {
    "toc": true
   },
   "source": [
    "<h1>Table of Contents<span class=\"tocSkip\"></span></h1>\n",
    "<div class=\"toc\"><ul class=\"toc-item\"><li><span><a href=\"#E8_프로젝트---Movielens-영화-추천-실습\" data-toc-modified-id=\"E8_프로젝트---Movielens-영화-추천-실습-1\">E8_프로젝트 - Movielens 영화 추천 실습</a></span><ul class=\"toc-item\"><li><span><a href=\"#0.-필요한-모듈-가져오기\" data-toc-modified-id=\"0.-필요한-모듈-가져오기-1.1\">0. 필요한 모듈 가져오기</a></span></li><li><span><a href=\"#1.-데이터-준비와-전처리\" data-toc-modified-id=\"1.-데이터-준비와-전처리-1.2\">1. 데이터 준비와 전처리</a></span><ul class=\"toc-item\"><li><span><a href=\"#1-1.-Rating-file-준비-및-전처리\" data-toc-modified-id=\"1-1.-Rating-file-준비-및-전처리-1.2.1\">1-1. Rating file 준비 및 전처리</a></span></li><li><span><a href=\"#1-2.-Movie-file-준비-및-전처리\" data-toc-modified-id=\"1-2.-Movie-file-준비-및-전처리-1.2.2\">1-2. Movie file 준비 및 전처리</a></span></li></ul></li><li><span><a href=\"#2.-데이터-분석\" data-toc-modified-id=\"2.-데이터-분석-1.3\">2. 데이터 분석</a></span></li><li><span><a href=\"#3.-모델-검증을-위한-사용자-초기-정보-세팅\" data-toc-modified-id=\"3.-모델-검증을-위한-사용자-초기-정보-세팅-1.4\">3. 모델 검증을 위한 사용자 초기 정보 세팅</a></span><ul class=\"toc-item\"><li><span><a href=\"#3-1.-내가-좋아하는-영화-5가지-추가\" data-toc-modified-id=\"3-1.-내가-좋아하는-영화-5가지-추가-1.4.1\">3-1. 내가 좋아하는 영화 5가지 추가</a></span></li><li><span><a href=\"#3-2.-모델에-활용하기-위한-전처리\" data-toc-modified-id=\"3-2.-모델에-활용하기-위한-전처리-1.4.2\">3-2. 모델에 활용하기 위한 전처리</a></span></li><li><span><a href=\"#3-3.-indexing을-통해-데이터-컬럼-내-값을-바꾸기\" data-toc-modified-id=\"3-3.-indexing을-통해-데이터-컬럼-내-값을-바꾸기-1.4.3\">3-3. indexing을 통해 데이터 컬럼 내 값을 바꾸기</a></span></li></ul></li><li><span><a href=\"#4.-CSR-matrix를-직접-만들어-봅시다.\" data-toc-modified-id=\"4.-CSR-matrix를-직접-만들어-봅시다.-1.5\">4. CSR matrix를 직접 만들어 봅시다.</a></span></li><li><span><a href=\"#5.-als_model-=-AlternatingLeastSquares-모델을-직접-구성하여-훈련시켜-봅시다.\" data-toc-modified-id=\"5.-als_model-=-AlternatingLeastSquares-모델을-직접-구성하여-훈련시켜-봅시다.-1.6\">5. als_model = AlternatingLeastSquares 모델을 직접 구성하여 훈련시켜 봅시다.</a></span><ul class=\"toc-item\"><li><span><a href=\"#5-1.-모델-선언\" data-toc-modified-id=\"5-1.-모델-선언-1.6.1\">5-1. 모델 선언</a></span></li><li><span><a href=\"#5-2.-모델-학습\" data-toc-modified-id=\"5-2.-모델-학습-1.6.2\">5-2. 모델 학습</a></span></li></ul></li><li><span><a href=\"#6.-내가-선호하는-5가지-영화-중-하나와-그-외의-영화-하나를-골라-훈련된-모델이-예측한-나의-선호도를-파악해-보세요.\" data-toc-modified-id=\"6.-내가-선호하는-5가지-영화-중-하나와-그-외의-영화-하나를-골라-훈련된-모델이-예측한-나의-선호도를-파악해-보세요.-1.7\">6. 내가 선호하는 5가지 영화 중 하나와 그 외의 영화 하나를 골라 훈련된 모델이 예측한 나의 선호도를 파악해 보세요.</a></span></li><li><span><a href=\"#7.-내가-좋아하는-영화와-비슷한-영화를-추천받아-봅시다.\" data-toc-modified-id=\"7.-내가-좋아하는-영화와-비슷한-영화를-추천받아-봅시다.-1.8\">7. 내가 좋아하는 영화와 비슷한 영화를 추천받아 봅시다.</a></span></li><li><span><a href=\"#8.-내가-가장-좋아할-만한-영화들을-추천받아-봅시다.\" data-toc-modified-id=\"8.-내가-가장-좋아할-만한-영화들을-추천받아-봅시다.-1.9\">8. 내가 가장 좋아할 만한 영화들을 추천받아 봅시다.</a></span></li><li><span><a href=\"#회고\" data-toc-modified-id=\"회고-1.10\">회고</a></span><ul class=\"toc-item\"><li><ul class=\"toc-item\"><li><span><a href=\"#1.-pd.read_csv()에서-에러가-발생함\" data-toc-modified-id=\"1.-pd.read_csv()에서-에러가-발생함-1.10.0.1\">1. pd.read_csv()에서 에러가 발생함</a></span></li><li><span><a href=\"#2..groupby('movie_id')['user_id'].count()\" data-toc-modified-id=\"2..groupby('movie_id')['user_id'].count()-1.10.0.2\">2.<code>.groupby('movie_id')['user_id'].count()</code></a></span></li><li><span><a href=\"#3.-판다스-데이터프레임에서-데이터-전처리하기\" data-toc-modified-id=\"3.-판다스-데이터프레임에서-데이터-전처리하기-1.10.0.3\">3. 판다스 데이터프레임에서 데이터 전처리하기</a></span></li><li><span><a href=\"#4.-AlternatingLeastSquares-모델을-사용하면서\" data-toc-modified-id=\"4.-AlternatingLeastSquares-모델을-사용하면서-1.10.0.4\">4. AlternatingLeastSquares 모델을 사용하면서</a></span></li></ul></li></ul></li></ul></li></ul></div>"
   ]
  },
  {
   "cell_type": "markdown",
   "metadata": {},
   "source": [
    "# E8_프로젝트 - Movielens 영화 추천 실습"
   ]
  },
  {
   "cell_type": "markdown",
   "metadata": {},
   "source": [
    "**루브릭**\n",
    "\n",
    "아래의 기준을 바탕으로 프로젝트를 평가합니다.\n",
    "\n",
    "| 평가문항 |상세기준 |  \n",
    "|:----------|:----------|\n",
    "| 1. CSR matrix가 정상적으로 만들어졌다. |사용자와 아이템 개수를 바탕으로 정확한 사이즈로 만들었다. |  \n",
    "| 2. MF 모델이 정상적으로 훈련되어 그럴듯한 추천이 이루어졌다. |사용자와 아이템 벡터 내적수치가 의미있게 형성되었다. |  \n",
    "| 3. 비슷한 영화 찾기와 유저에게 추천하기의 과정이 정상적으로 진행되었다. |MF모델이 예측한 유저 선호도 및 아이템간 유사도, 기여도가 의미있게 측정되었다. |"
   ]
  },
  {
   "cell_type": "markdown",
   "metadata": {},
   "source": [
    "이전 스텝에서 배운 MF 모델 학습 방법을 토대로, 내가 좋아할 만한 영화 추천 시스템을 제작해 보겠습니다.  \n",
    "이번에 활용할 데이터셋은 **추천시스템의 MNIST**라고 부를만한 **Movielens 데이터**입니다.\n",
    "\n",
    "* 유저가 영화에 대해 평점을 매긴 데이터가 데이터 크기 별로 있습니다. MovieLens 1M Dataset 사용을 권장합니다.\n",
    "* 별점 데이터는 대표적인 explicit 데이터입니다. 하지만 implicit 데이터로 간주하고 테스트해볼 수 있습니다.\n",
    "* 별점을 시청횟수로 해석해서 생각하겠습니다.\n",
    "* 또한 유저가 3점 미만으로 준 데이터는 선호하지 않는다고 가정하고 제외하겠습니다."
   ]
  },
  {
   "cell_type": "markdown",
   "metadata": {},
   "source": [
    "## 0. 필요한 모듈 가져오기"
   ]
  },
  {
   "cell_type": "code",
   "execution_count": 1,
   "metadata": {},
   "outputs": [],
   "source": [
    "import pandas as pd\n",
    "import numpy as np\n",
    "import os"
   ]
  },
  {
   "cell_type": "markdown",
   "metadata": {},
   "source": [
    "## 1. 데이터 준비와 전처리\n",
    "Movielens 데이터는 rating.dat 안에 이미 인덱싱까지 완료된 사용자-영화-평점 데이터가 깔끔하게 정리되어 있습니다."
   ]
  },
  {
   "cell_type": "markdown",
   "metadata": {},
   "source": [
    "### 1-1. Rating file 준비 및 전처리\n",
    "**RATINGS FILE DESCRIPTION**  \n",
    "All ratings are contained in the file \"ratings.dat\" and are in the following format:\n",
    "\n",
    "<span style=\"color:blue\">**UserID::MovieID::Rating::Timestamp**</span>\n",
    "\n",
    "\n",
    "- UserIDs range between 1 and 6040 \n",
    "- MovieIDs range between 1 and 3952\n",
    "- Ratings are made on a 5-star scale (whole-star ratings only)\n",
    "- Timestamp is represented in seconds since the epoch as returned by time(2)\n",
    "- Each user has at least 20 ratings"
   ]
  },
  {
   "cell_type": "code",
   "execution_count": 2,
   "metadata": {},
   "outputs": [
    {
     "data": {
      "text/html": [
       "<div>\n",
       "<style scoped>\n",
       "    .dataframe tbody tr th:only-of-type {\n",
       "        vertical-align: middle;\n",
       "    }\n",
       "\n",
       "    .dataframe tbody tr th {\n",
       "        vertical-align: top;\n",
       "    }\n",
       "\n",
       "    .dataframe thead th {\n",
       "        text-align: right;\n",
       "    }\n",
       "</style>\n",
       "<table border=\"1\" class=\"dataframe\">\n",
       "  <thead>\n",
       "    <tr style=\"text-align: right;\">\n",
       "      <th></th>\n",
       "      <th>user_id</th>\n",
       "      <th>movie_id</th>\n",
       "      <th>rating</th>\n",
       "      <th>timestamp</th>\n",
       "    </tr>\n",
       "  </thead>\n",
       "  <tbody>\n",
       "    <tr>\n",
       "      <th>0</th>\n",
       "      <td>1</td>\n",
       "      <td>1193</td>\n",
       "      <td>5</td>\n",
       "      <td>978300760</td>\n",
       "    </tr>\n",
       "    <tr>\n",
       "      <th>1</th>\n",
       "      <td>1</td>\n",
       "      <td>661</td>\n",
       "      <td>3</td>\n",
       "      <td>978302109</td>\n",
       "    </tr>\n",
       "    <tr>\n",
       "      <th>2</th>\n",
       "      <td>1</td>\n",
       "      <td>914</td>\n",
       "      <td>3</td>\n",
       "      <td>978301968</td>\n",
       "    </tr>\n",
       "    <tr>\n",
       "      <th>3</th>\n",
       "      <td>1</td>\n",
       "      <td>3408</td>\n",
       "      <td>4</td>\n",
       "      <td>978300275</td>\n",
       "    </tr>\n",
       "    <tr>\n",
       "      <th>4</th>\n",
       "      <td>1</td>\n",
       "      <td>2355</td>\n",
       "      <td>5</td>\n",
       "      <td>978824291</td>\n",
       "    </tr>\n",
       "  </tbody>\n",
       "</table>\n",
       "</div>"
      ],
      "text/plain": [
       "   user_id  movie_id  rating  timestamp\n",
       "0        1      1193       5  978300760\n",
       "1        1       661       3  978302109\n",
       "2        1       914       3  978301968\n",
       "3        1      3408       4  978300275\n",
       "4        1      2355       5  978824291"
      ]
     },
     "execution_count": 2,
     "metadata": {},
     "output_type": "execute_result"
    }
   ],
   "source": [
    "rating_file_path=os.getenv('HOME') + '/aiffel/recommendata_iu/data/ml-1m/ratings.dat'\n",
    "ratings_cols = ['user_id', 'movie_id', 'rating', 'timestamp']\n",
    "ratings = pd.read_csv(rating_file_path, sep='::', names=ratings_cols, engine='python')\n",
    "orginal_data_size = len(ratings)\n",
    "ratings.head()"
   ]
  },
  {
   "cell_type": "code",
   "execution_count": 3,
   "metadata": {},
   "outputs": [
    {
     "name": "stdout",
     "output_type": "stream",
     "text": [
      "orginal_data_size: 1000209, filtered_data_size: 836478\n",
      "Ratio of Remaining Data is 83.63%\n"
     ]
    }
   ],
   "source": [
    "# 3점 이상만 남깁니다.\n",
    "ratings = ratings[ratings['rating']>=3]\n",
    "filtered_data_size = len(ratings)\n",
    "\n",
    "print(f'orginal_data_size: {orginal_data_size}, filtered_data_size: {filtered_data_size}')\n",
    "print(f'Ratio of Remaining Data is {filtered_data_size / orginal_data_size:.2%}')"
   ]
  },
  {
   "cell_type": "code",
   "execution_count": 4,
   "metadata": {},
   "outputs": [
    {
     "data": {
      "text/html": [
       "<div>\n",
       "<style scoped>\n",
       "    .dataframe tbody tr th:only-of-type {\n",
       "        vertical-align: middle;\n",
       "    }\n",
       "\n",
       "    .dataframe tbody tr th {\n",
       "        vertical-align: top;\n",
       "    }\n",
       "\n",
       "    .dataframe thead th {\n",
       "        text-align: right;\n",
       "    }\n",
       "</style>\n",
       "<table border=\"1\" class=\"dataframe\">\n",
       "  <thead>\n",
       "    <tr style=\"text-align: right;\">\n",
       "      <th></th>\n",
       "      <th>user_id</th>\n",
       "      <th>movie_id</th>\n",
       "      <th>count</th>\n",
       "      <th>timestamp</th>\n",
       "    </tr>\n",
       "  </thead>\n",
       "  <tbody>\n",
       "    <tr>\n",
       "      <th>0</th>\n",
       "      <td>1</td>\n",
       "      <td>1193</td>\n",
       "      <td>5</td>\n",
       "      <td>978300760</td>\n",
       "    </tr>\n",
       "    <tr>\n",
       "      <th>1</th>\n",
       "      <td>1</td>\n",
       "      <td>661</td>\n",
       "      <td>3</td>\n",
       "      <td>978302109</td>\n",
       "    </tr>\n",
       "    <tr>\n",
       "      <th>2</th>\n",
       "      <td>1</td>\n",
       "      <td>914</td>\n",
       "      <td>3</td>\n",
       "      <td>978301968</td>\n",
       "    </tr>\n",
       "    <tr>\n",
       "      <th>3</th>\n",
       "      <td>1</td>\n",
       "      <td>3408</td>\n",
       "      <td>4</td>\n",
       "      <td>978300275</td>\n",
       "    </tr>\n",
       "    <tr>\n",
       "      <th>4</th>\n",
       "      <td>1</td>\n",
       "      <td>2355</td>\n",
       "      <td>5</td>\n",
       "      <td>978824291</td>\n",
       "    </tr>\n",
       "  </tbody>\n",
       "</table>\n",
       "</div>"
      ],
      "text/plain": [
       "   user_id  movie_id  count  timestamp\n",
       "0        1      1193      5  978300760\n",
       "1        1       661      3  978302109\n",
       "2        1       914      3  978301968\n",
       "3        1      3408      4  978300275\n",
       "4        1      2355      5  978824291"
      ]
     },
     "execution_count": 4,
     "metadata": {},
     "output_type": "execute_result"
    }
   ],
   "source": [
    "# rating 컬럼의 이름을 count로 바꿉니다.\n",
    "ratings.rename(columns={'rating':'count'}, inplace=True)\n",
    "ratings.head()"
   ]
  },
  {
   "cell_type": "markdown",
   "metadata": {},
   "source": [
    "### 1-2. Movie file 준비 및 전처리\n",
    "**MOVIES FILE DESCRIPTION**  \n",
    "Movie information is in the file \"movies.dat\" and is in the following\n",
    "format:  \n",
    "\n",
    "<span style='color:blue'>**MovieID::Title::Genres**</span>\n",
    "\n",
    "\n",
    "- Titles are identical to titles provided by the IMDB (including\n",
    "year of release)\n",
    "- Genres are pipe-separated and are selected from the following genres:\n",
    "\n",
    "\t* Action\n",
    "\t* Adventure\n",
    "\t* Animation\n",
    "\t* Children's\n",
    "\t* Comedy\n",
    "\t* Crime\n",
    "\t* Documentary\n",
    "\t* Drama\n",
    "\t* Fantasy\n",
    "\t* Film-Noir\n",
    "\t* Horror\n",
    "\t* Musical\n",
    "\t* Mystery\n",
    "\t* Romance\n",
    "\t* Sci-Fi\n",
    "\t* Thriller\n",
    "\t* War\n",
    "\t* Western\n",
    "\n",
    "- Some MovieIDs do not correspond to a movie due to accidental duplicate\n",
    "entries and/or test entries\n",
    "- Movies are mostly entered by hand, so errors and inconsistencies may exist"
   ]
  },
  {
   "cell_type": "code",
   "execution_count": 5,
   "metadata": {},
   "outputs": [
    {
     "data": {
      "text/html": [
       "<div>\n",
       "<style scoped>\n",
       "    .dataframe tbody tr th:only-of-type {\n",
       "        vertical-align: middle;\n",
       "    }\n",
       "\n",
       "    .dataframe tbody tr th {\n",
       "        vertical-align: top;\n",
       "    }\n",
       "\n",
       "    .dataframe thead th {\n",
       "        text-align: right;\n",
       "    }\n",
       "</style>\n",
       "<table border=\"1\" class=\"dataframe\">\n",
       "  <thead>\n",
       "    <tr style=\"text-align: right;\">\n",
       "      <th></th>\n",
       "      <th>movie_id</th>\n",
       "      <th>title</th>\n",
       "      <th>genre</th>\n",
       "    </tr>\n",
       "  </thead>\n",
       "  <tbody>\n",
       "    <tr>\n",
       "      <th>0</th>\n",
       "      <td>1</td>\n",
       "      <td>Toy Story (1995)</td>\n",
       "      <td>Animation|Children's|Comedy</td>\n",
       "    </tr>\n",
       "    <tr>\n",
       "      <th>1</th>\n",
       "      <td>2</td>\n",
       "      <td>Jumanji (1995)</td>\n",
       "      <td>Adventure|Children's|Fantasy</td>\n",
       "    </tr>\n",
       "    <tr>\n",
       "      <th>2</th>\n",
       "      <td>3</td>\n",
       "      <td>Grumpier Old Men (1995)</td>\n",
       "      <td>Comedy|Romance</td>\n",
       "    </tr>\n",
       "    <tr>\n",
       "      <th>3</th>\n",
       "      <td>4</td>\n",
       "      <td>Waiting to Exhale (1995)</td>\n",
       "      <td>Comedy|Drama</td>\n",
       "    </tr>\n",
       "    <tr>\n",
       "      <th>4</th>\n",
       "      <td>5</td>\n",
       "      <td>Father of the Bride Part II (1995)</td>\n",
       "      <td>Comedy</td>\n",
       "    </tr>\n",
       "  </tbody>\n",
       "</table>\n",
       "</div>"
      ],
      "text/plain": [
       "   movie_id                               title                         genre\n",
       "0         1                    Toy Story (1995)   Animation|Children's|Comedy\n",
       "1         2                      Jumanji (1995)  Adventure|Children's|Fantasy\n",
       "2         3             Grumpier Old Men (1995)                Comedy|Romance\n",
       "3         4            Waiting to Exhale (1995)                  Comedy|Drama\n",
       "4         5  Father of the Bride Part II (1995)                        Comedy"
      ]
     },
     "execution_count": 5,
     "metadata": {},
     "output_type": "execute_result"
    }
   ],
   "source": [
    "# 영화 제목을 보기 위해 메타 데이터를 읽어옵니다.\n",
    "movie_file_path=os.getenv('HOME') + '/aiffel/recommendata_iu/data/ml-1m/movies.dat'\n",
    "movies_cols = ['movie_id', 'title', 'genre'] \n",
    "movies = pd.read_csv(movie_file_path, sep='::', names=movies_cols, engine='python', encoding='ISO-8859-1')\n",
    "movies.head()"
   ]
  },
  {
   "cell_type": "markdown",
   "metadata": {},
   "source": [
    "<span style='color:blue'>**UTF-8과 ISO-8859-1의 차이점**</sppan>  \n",
    "* **UTF-8**은 모든 유니 코드 문자를 나타낼 수있는 **멀티 바이트 인코딩**입니다. \n",
    "* **ISO 8859-1**은 처음 256 개의 유니 코드 문자를 나타낼 수있는 **1 바이트 인코딩**입니다. \n",
    "* 둘 다 ASCII를 정확히 같은 방식으로 인코딩합니다."
   ]
  },
  {
   "cell_type": "code",
   "execution_count": 6,
   "metadata": {},
   "outputs": [
    {
     "data": {
      "text/html": [
       "<div>\n",
       "<style scoped>\n",
       "    .dataframe tbody tr th:only-of-type {\n",
       "        vertical-align: middle;\n",
       "    }\n",
       "\n",
       "    .dataframe tbody tr th {\n",
       "        vertical-align: top;\n",
       "    }\n",
       "\n",
       "    .dataframe thead th {\n",
       "        text-align: right;\n",
       "    }\n",
       "</style>\n",
       "<table border=\"1\" class=\"dataframe\">\n",
       "  <thead>\n",
       "    <tr style=\"text-align: right;\">\n",
       "      <th></th>\n",
       "      <th>movie_id</th>\n",
       "      <th>title</th>\n",
       "      <th>genre</th>\n",
       "    </tr>\n",
       "  </thead>\n",
       "  <tbody>\n",
       "    <tr>\n",
       "      <th>0</th>\n",
       "      <td>1</td>\n",
       "      <td>toy story (1995)</td>\n",
       "      <td>animation|children's|comedy</td>\n",
       "    </tr>\n",
       "    <tr>\n",
       "      <th>1</th>\n",
       "      <td>2</td>\n",
       "      <td>jumanji (1995)</td>\n",
       "      <td>adventure|children's|fantasy</td>\n",
       "    </tr>\n",
       "    <tr>\n",
       "      <th>2</th>\n",
       "      <td>3</td>\n",
       "      <td>grumpier old men (1995)</td>\n",
       "      <td>comedy|romance</td>\n",
       "    </tr>\n",
       "    <tr>\n",
       "      <th>3</th>\n",
       "      <td>4</td>\n",
       "      <td>waiting to exhale (1995)</td>\n",
       "      <td>comedy|drama</td>\n",
       "    </tr>\n",
       "    <tr>\n",
       "      <th>4</th>\n",
       "      <td>5</td>\n",
       "      <td>father of the bride part ii (1995)</td>\n",
       "      <td>comedy</td>\n",
       "    </tr>\n",
       "  </tbody>\n",
       "</table>\n",
       "</div>"
      ],
      "text/plain": [
       "   movie_id                               title                         genre\n",
       "0         1                    toy story (1995)   animation|children's|comedy\n",
       "1         2                      jumanji (1995)  adventure|children's|fantasy\n",
       "2         3             grumpier old men (1995)                comedy|romance\n",
       "3         4            waiting to exhale (1995)                  comedy|drama\n",
       "4         5  father of the bride part ii (1995)                        comedy"
      ]
     },
     "execution_count": 6,
     "metadata": {},
     "output_type": "execute_result"
    }
   ],
   "source": [
    "# 검색을 쉽게하기 위해 영화제목과 장르의 문자열을 소문자로 바꾸기\n",
    "movies['title'] = movies['title'].str.lower() \n",
    "movies['genre'] = movies['genre'].str.lower() \n",
    "movies.head()"
   ]
  },
  {
   "cell_type": "markdown",
   "metadata": {},
   "source": [
    "## 2. 데이터 분석\n",
    "* ratings에 있는 유니크한 영화 개수\n",
    "* ratings에 있는 유니크한 사용자 수\n",
    "* 가장 인기 있는 영화 10개(인기순)"
   ]
  },
  {
   "cell_type": "code",
   "execution_count": 7,
   "metadata": {},
   "outputs": [
    {
     "data": {
      "text/plain": [
       "3628"
      ]
     },
     "execution_count": 7,
     "metadata": {},
     "output_type": "execute_result"
    }
   ],
   "source": [
    "# ratings에 있는 유니크한 영화 개수\n",
    "ratings['movie_id'].nunique()"
   ]
  },
  {
   "cell_type": "code",
   "execution_count": 8,
   "metadata": {},
   "outputs": [
    {
     "data": {
      "text/plain": [
       "6039"
      ]
     },
     "execution_count": 8,
     "metadata": {},
     "output_type": "execute_result"
    }
   ],
   "source": [
    "# ratings에 있는 유니크한 사용자 수\n",
    "ratings['user_id'].nunique()"
   ]
  },
  {
   "cell_type": "code",
   "execution_count": 9,
   "metadata": {},
   "outputs": [
    {
     "data": {
      "text/plain": [
       "movie_id\n",
       "2858    3211\n",
       "260     2910\n",
       "1196    2885\n",
       "1210    2716\n",
       "2028    2561\n",
       "589     2509\n",
       "593     2498\n",
       "1198    2473\n",
       "1270    2460\n",
       "2571    2434\n",
       "Name: user_id, dtype: int64"
      ]
     },
     "execution_count": 9,
     "metadata": {},
     "output_type": "execute_result"
    }
   ],
   "source": [
    "# 가장 인기 있는 영화 10개(인기순)\n",
    "movie_count = ratings.groupby('movie_id')['user_id'].count()\n",
    "movie_count.sort_values(ascending=False).head(10)"
   ]
  },
  {
   "cell_type": "markdown",
   "metadata": {},
   "source": [
    "**`.groupby('movie_id')['user_id'].count()`**  \n",
    "* 데이터를 'movie_id' 기준으로 그룹화하여 개수를 집계하는데 'user_id' 컬럼만 수행한다. \n",
    "\n",
    "**`.sort_values(ascending=False)`**\n",
    "* 데이터를 정렬하는데 값을 기준으로 오름차순이 아니라 내림차순으로 수행한다."
   ]
  },
  {
   "cell_type": "code",
   "execution_count": 10,
   "metadata": {},
   "outputs": [
    {
     "data": {
      "text/html": [
       "<div>\n",
       "<style scoped>\n",
       "    .dataframe tbody tr th:only-of-type {\n",
       "        vertical-align: middle;\n",
       "    }\n",
       "\n",
       "    .dataframe tbody tr th {\n",
       "        vertical-align: top;\n",
       "    }\n",
       "\n",
       "    .dataframe thead th {\n",
       "        text-align: right;\n",
       "    }\n",
       "</style>\n",
       "<table border=\"1\" class=\"dataframe\">\n",
       "  <thead>\n",
       "    <tr style=\"text-align: right;\">\n",
       "      <th></th>\n",
       "      <th>user_id</th>\n",
       "      <th>movie_id</th>\n",
       "      <th>count</th>\n",
       "      <th>timestamp</th>\n",
       "    </tr>\n",
       "  </thead>\n",
       "  <tbody>\n",
       "    <tr>\n",
       "      <th>0</th>\n",
       "      <td>1</td>\n",
       "      <td>1193</td>\n",
       "      <td>5</td>\n",
       "      <td>978300760</td>\n",
       "    </tr>\n",
       "    <tr>\n",
       "      <th>1</th>\n",
       "      <td>1</td>\n",
       "      <td>661</td>\n",
       "      <td>3</td>\n",
       "      <td>978302109</td>\n",
       "    </tr>\n",
       "    <tr>\n",
       "      <th>2</th>\n",
       "      <td>1</td>\n",
       "      <td>914</td>\n",
       "      <td>3</td>\n",
       "      <td>978301968</td>\n",
       "    </tr>\n",
       "    <tr>\n",
       "      <th>3</th>\n",
       "      <td>1</td>\n",
       "      <td>3408</td>\n",
       "      <td>4</td>\n",
       "      <td>978300275</td>\n",
       "    </tr>\n",
       "    <tr>\n",
       "      <th>4</th>\n",
       "      <td>1</td>\n",
       "      <td>2355</td>\n",
       "      <td>5</td>\n",
       "      <td>978824291</td>\n",
       "    </tr>\n",
       "    <tr>\n",
       "      <th>5</th>\n",
       "      <td>1</td>\n",
       "      <td>1197</td>\n",
       "      <td>3</td>\n",
       "      <td>978302268</td>\n",
       "    </tr>\n",
       "    <tr>\n",
       "      <th>6</th>\n",
       "      <td>1</td>\n",
       "      <td>1287</td>\n",
       "      <td>5</td>\n",
       "      <td>978302039</td>\n",
       "    </tr>\n",
       "    <tr>\n",
       "      <th>7</th>\n",
       "      <td>1</td>\n",
       "      <td>2804</td>\n",
       "      <td>5</td>\n",
       "      <td>978300719</td>\n",
       "    </tr>\n",
       "    <tr>\n",
       "      <th>8</th>\n",
       "      <td>1</td>\n",
       "      <td>594</td>\n",
       "      <td>4</td>\n",
       "      <td>978302268</td>\n",
       "    </tr>\n",
       "    <tr>\n",
       "      <th>9</th>\n",
       "      <td>1</td>\n",
       "      <td>919</td>\n",
       "      <td>4</td>\n",
       "      <td>978301368</td>\n",
       "    </tr>\n",
       "    <tr>\n",
       "      <th>10</th>\n",
       "      <td>1</td>\n",
       "      <td>595</td>\n",
       "      <td>5</td>\n",
       "      <td>978824268</td>\n",
       "    </tr>\n",
       "    <tr>\n",
       "      <th>11</th>\n",
       "      <td>1</td>\n",
       "      <td>938</td>\n",
       "      <td>4</td>\n",
       "      <td>978301752</td>\n",
       "    </tr>\n",
       "    <tr>\n",
       "      <th>12</th>\n",
       "      <td>1</td>\n",
       "      <td>2398</td>\n",
       "      <td>4</td>\n",
       "      <td>978302281</td>\n",
       "    </tr>\n",
       "    <tr>\n",
       "      <th>13</th>\n",
       "      <td>1</td>\n",
       "      <td>2918</td>\n",
       "      <td>4</td>\n",
       "      <td>978302124</td>\n",
       "    </tr>\n",
       "    <tr>\n",
       "      <th>14</th>\n",
       "      <td>1</td>\n",
       "      <td>1035</td>\n",
       "      <td>5</td>\n",
       "      <td>978301753</td>\n",
       "    </tr>\n",
       "    <tr>\n",
       "      <th>15</th>\n",
       "      <td>1</td>\n",
       "      <td>2791</td>\n",
       "      <td>4</td>\n",
       "      <td>978302188</td>\n",
       "    </tr>\n",
       "    <tr>\n",
       "      <th>16</th>\n",
       "      <td>1</td>\n",
       "      <td>2687</td>\n",
       "      <td>3</td>\n",
       "      <td>978824268</td>\n",
       "    </tr>\n",
       "    <tr>\n",
       "      <th>17</th>\n",
       "      <td>1</td>\n",
       "      <td>2018</td>\n",
       "      <td>4</td>\n",
       "      <td>978301777</td>\n",
       "    </tr>\n",
       "    <tr>\n",
       "      <th>18</th>\n",
       "      <td>1</td>\n",
       "      <td>3105</td>\n",
       "      <td>5</td>\n",
       "      <td>978301713</td>\n",
       "    </tr>\n",
       "    <tr>\n",
       "      <th>19</th>\n",
       "      <td>1</td>\n",
       "      <td>2797</td>\n",
       "      <td>4</td>\n",
       "      <td>978302039</td>\n",
       "    </tr>\n",
       "    <tr>\n",
       "      <th>20</th>\n",
       "      <td>1</td>\n",
       "      <td>2321</td>\n",
       "      <td>3</td>\n",
       "      <td>978302205</td>\n",
       "    </tr>\n",
       "    <tr>\n",
       "      <th>21</th>\n",
       "      <td>1</td>\n",
       "      <td>720</td>\n",
       "      <td>3</td>\n",
       "      <td>978300760</td>\n",
       "    </tr>\n",
       "    <tr>\n",
       "      <th>22</th>\n",
       "      <td>1</td>\n",
       "      <td>1270</td>\n",
       "      <td>5</td>\n",
       "      <td>978300055</td>\n",
       "    </tr>\n",
       "    <tr>\n",
       "      <th>23</th>\n",
       "      <td>1</td>\n",
       "      <td>527</td>\n",
       "      <td>5</td>\n",
       "      <td>978824195</td>\n",
       "    </tr>\n",
       "    <tr>\n",
       "      <th>24</th>\n",
       "      <td>1</td>\n",
       "      <td>2340</td>\n",
       "      <td>3</td>\n",
       "      <td>978300103</td>\n",
       "    </tr>\n",
       "    <tr>\n",
       "      <th>25</th>\n",
       "      <td>1</td>\n",
       "      <td>48</td>\n",
       "      <td>5</td>\n",
       "      <td>978824351</td>\n",
       "    </tr>\n",
       "    <tr>\n",
       "      <th>26</th>\n",
       "      <td>1</td>\n",
       "      <td>1097</td>\n",
       "      <td>4</td>\n",
       "      <td>978301953</td>\n",
       "    </tr>\n",
       "    <tr>\n",
       "      <th>27</th>\n",
       "      <td>1</td>\n",
       "      <td>1721</td>\n",
       "      <td>4</td>\n",
       "      <td>978300055</td>\n",
       "    </tr>\n",
       "    <tr>\n",
       "      <th>28</th>\n",
       "      <td>1</td>\n",
       "      <td>1545</td>\n",
       "      <td>4</td>\n",
       "      <td>978824139</td>\n",
       "    </tr>\n",
       "    <tr>\n",
       "      <th>29</th>\n",
       "      <td>1</td>\n",
       "      <td>745</td>\n",
       "      <td>3</td>\n",
       "      <td>978824268</td>\n",
       "    </tr>\n",
       "    <tr>\n",
       "      <th>30</th>\n",
       "      <td>1</td>\n",
       "      <td>2294</td>\n",
       "      <td>4</td>\n",
       "      <td>978824291</td>\n",
       "    </tr>\n",
       "    <tr>\n",
       "      <th>31</th>\n",
       "      <td>1</td>\n",
       "      <td>3186</td>\n",
       "      <td>4</td>\n",
       "      <td>978300019</td>\n",
       "    </tr>\n",
       "    <tr>\n",
       "      <th>32</th>\n",
       "      <td>1</td>\n",
       "      <td>1566</td>\n",
       "      <td>4</td>\n",
       "      <td>978824330</td>\n",
       "    </tr>\n",
       "    <tr>\n",
       "      <th>33</th>\n",
       "      <td>1</td>\n",
       "      <td>588</td>\n",
       "      <td>4</td>\n",
       "      <td>978824268</td>\n",
       "    </tr>\n",
       "    <tr>\n",
       "      <th>34</th>\n",
       "      <td>1</td>\n",
       "      <td>1907</td>\n",
       "      <td>4</td>\n",
       "      <td>978824330</td>\n",
       "    </tr>\n",
       "    <tr>\n",
       "      <th>35</th>\n",
       "      <td>1</td>\n",
       "      <td>783</td>\n",
       "      <td>4</td>\n",
       "      <td>978824291</td>\n",
       "    </tr>\n",
       "    <tr>\n",
       "      <th>36</th>\n",
       "      <td>1</td>\n",
       "      <td>1836</td>\n",
       "      <td>5</td>\n",
       "      <td>978300172</td>\n",
       "    </tr>\n",
       "    <tr>\n",
       "      <th>37</th>\n",
       "      <td>1</td>\n",
       "      <td>1022</td>\n",
       "      <td>5</td>\n",
       "      <td>978300055</td>\n",
       "    </tr>\n",
       "    <tr>\n",
       "      <th>38</th>\n",
       "      <td>1</td>\n",
       "      <td>2762</td>\n",
       "      <td>4</td>\n",
       "      <td>978302091</td>\n",
       "    </tr>\n",
       "    <tr>\n",
       "      <th>39</th>\n",
       "      <td>1</td>\n",
       "      <td>150</td>\n",
       "      <td>5</td>\n",
       "      <td>978301777</td>\n",
       "    </tr>\n",
       "    <tr>\n",
       "      <th>40</th>\n",
       "      <td>1</td>\n",
       "      <td>1</td>\n",
       "      <td>5</td>\n",
       "      <td>978824268</td>\n",
       "    </tr>\n",
       "    <tr>\n",
       "      <th>41</th>\n",
       "      <td>1</td>\n",
       "      <td>1961</td>\n",
       "      <td>5</td>\n",
       "      <td>978301590</td>\n",
       "    </tr>\n",
       "    <tr>\n",
       "      <th>42</th>\n",
       "      <td>1</td>\n",
       "      <td>1962</td>\n",
       "      <td>4</td>\n",
       "      <td>978301753</td>\n",
       "    </tr>\n",
       "    <tr>\n",
       "      <th>43</th>\n",
       "      <td>1</td>\n",
       "      <td>2692</td>\n",
       "      <td>4</td>\n",
       "      <td>978301570</td>\n",
       "    </tr>\n",
       "    <tr>\n",
       "      <th>44</th>\n",
       "      <td>1</td>\n",
       "      <td>260</td>\n",
       "      <td>4</td>\n",
       "      <td>978300760</td>\n",
       "    </tr>\n",
       "    <tr>\n",
       "      <th>45</th>\n",
       "      <td>1</td>\n",
       "      <td>1028</td>\n",
       "      <td>5</td>\n",
       "      <td>978301777</td>\n",
       "    </tr>\n",
       "    <tr>\n",
       "      <th>46</th>\n",
       "      <td>1</td>\n",
       "      <td>1029</td>\n",
       "      <td>5</td>\n",
       "      <td>978302205</td>\n",
       "    </tr>\n",
       "    <tr>\n",
       "      <th>47</th>\n",
       "      <td>1</td>\n",
       "      <td>1207</td>\n",
       "      <td>4</td>\n",
       "      <td>978300719</td>\n",
       "    </tr>\n",
       "    <tr>\n",
       "      <th>48</th>\n",
       "      <td>1</td>\n",
       "      <td>2028</td>\n",
       "      <td>5</td>\n",
       "      <td>978301619</td>\n",
       "    </tr>\n",
       "    <tr>\n",
       "      <th>49</th>\n",
       "      <td>1</td>\n",
       "      <td>531</td>\n",
       "      <td>4</td>\n",
       "      <td>978302149</td>\n",
       "    </tr>\n",
       "    <tr>\n",
       "      <th>50</th>\n",
       "      <td>1</td>\n",
       "      <td>3114</td>\n",
       "      <td>4</td>\n",
       "      <td>978302174</td>\n",
       "    </tr>\n",
       "    <tr>\n",
       "      <th>51</th>\n",
       "      <td>1</td>\n",
       "      <td>608</td>\n",
       "      <td>4</td>\n",
       "      <td>978301398</td>\n",
       "    </tr>\n",
       "    <tr>\n",
       "      <th>52</th>\n",
       "      <td>1</td>\n",
       "      <td>1246</td>\n",
       "      <td>4</td>\n",
       "      <td>978302091</td>\n",
       "    </tr>\n",
       "  </tbody>\n",
       "</table>\n",
       "</div>"
      ],
      "text/plain": [
       "    user_id  movie_id  count  timestamp\n",
       "0         1      1193      5  978300760\n",
       "1         1       661      3  978302109\n",
       "2         1       914      3  978301968\n",
       "3         1      3408      4  978300275\n",
       "4         1      2355      5  978824291\n",
       "5         1      1197      3  978302268\n",
       "6         1      1287      5  978302039\n",
       "7         1      2804      5  978300719\n",
       "8         1       594      4  978302268\n",
       "9         1       919      4  978301368\n",
       "10        1       595      5  978824268\n",
       "11        1       938      4  978301752\n",
       "12        1      2398      4  978302281\n",
       "13        1      2918      4  978302124\n",
       "14        1      1035      5  978301753\n",
       "15        1      2791      4  978302188\n",
       "16        1      2687      3  978824268\n",
       "17        1      2018      4  978301777\n",
       "18        1      3105      5  978301713\n",
       "19        1      2797      4  978302039\n",
       "20        1      2321      3  978302205\n",
       "21        1       720      3  978300760\n",
       "22        1      1270      5  978300055\n",
       "23        1       527      5  978824195\n",
       "24        1      2340      3  978300103\n",
       "25        1        48      5  978824351\n",
       "26        1      1097      4  978301953\n",
       "27        1      1721      4  978300055\n",
       "28        1      1545      4  978824139\n",
       "29        1       745      3  978824268\n",
       "30        1      2294      4  978824291\n",
       "31        1      3186      4  978300019\n",
       "32        1      1566      4  978824330\n",
       "33        1       588      4  978824268\n",
       "34        1      1907      4  978824330\n",
       "35        1       783      4  978824291\n",
       "36        1      1836      5  978300172\n",
       "37        1      1022      5  978300055\n",
       "38        1      2762      4  978302091\n",
       "39        1       150      5  978301777\n",
       "40        1         1      5  978824268\n",
       "41        1      1961      5  978301590\n",
       "42        1      1962      4  978301753\n",
       "43        1      2692      4  978301570\n",
       "44        1       260      4  978300760\n",
       "45        1      1028      5  978301777\n",
       "46        1      1029      5  978302205\n",
       "47        1      1207      4  978300719\n",
       "48        1      2028      5  978301619\n",
       "49        1       531      4  978302149\n",
       "50        1      3114      4  978302174\n",
       "51        1       608      4  978301398\n",
       "52        1      1246      4  978302091"
      ]
     },
     "execution_count": 10,
     "metadata": {},
     "output_type": "execute_result"
    }
   ],
   "source": [
    "# 첫 번째 유저가 어떤 영화를 보는지 확인\n",
    "condition = (ratings['user_id'] == ratings.loc[0, 'user_id'])\n",
    "ratings.loc[condition]"
   ]
  },
  {
   "cell_type": "code",
   "execution_count": 11,
   "metadata": {},
   "outputs": [
    {
     "data": {
      "text/plain": [
       "count    6039.000000\n",
       "mean      138.512668\n",
       "std       156.241599\n",
       "min         1.000000\n",
       "25%        38.000000\n",
       "50%        81.000000\n",
       "75%       177.000000\n",
       "max      1968.000000\n",
       "Name: movie_id, dtype: float64"
      ]
     },
     "execution_count": 11,
     "metadata": {},
     "output_type": "execute_result"
    }
   ],
   "source": [
    "# 유저별로 몇 편의 영화를 보고 있는지에 대한 통계\n",
    "user_count = ratings.groupby('user_id')['movie_id'].count()\n",
    "user_count.describe()"
   ]
  },
  {
   "cell_type": "markdown",
   "metadata": {},
   "source": [
    "6039명의 유저가 있으며, 유저들은 데이터 집계기간 동안에 81편(중간값)의 영화를 보았다."
   ]
  },
  {
   "cell_type": "code",
   "execution_count": 12,
   "metadata": {},
   "outputs": [
    {
     "data": {
      "text/plain": [
       "count    6039.000000\n",
       "mean        4.055970\n",
       "std         0.432143\n",
       "min         3.000000\n",
       "25%         4.000000\n",
       "50%         4.000000\n",
       "75%         4.000000\n",
       "max         5.000000\n",
       "Name: count, dtype: float64"
      ]
     },
     "execution_count": 12,
     "metadata": {},
     "output_type": "execute_result"
    }
   ],
   "source": [
    "# 유저별 count횟수 중앙값에 대한 통계\n",
    "user_median = ratings.groupby('user_id')['count'].median()\n",
    "user_median.describe()"
   ]
  },
  {
   "cell_type": "markdown",
   "metadata": {},
   "source": [
    "6039명의 유저가 있으며, 유저들은 대략 4회 정도 영화를 보았다."
   ]
  },
  {
   "cell_type": "markdown",
   "metadata": {},
   "source": [
    "## 3. 모델 검증을 위한 사용자 초기 정보 세팅"
   ]
  },
  {
   "cell_type": "markdown",
   "metadata": {},
   "source": [
    "### 3-1. 내가 좋아하는 영화 5가지 추가"
   ]
  },
  {
   "cell_type": "code",
   "execution_count": 13,
   "metadata": {},
   "outputs": [
    {
     "data": {
      "text/html": [
       "<div>\n",
       "<style scoped>\n",
       "    .dataframe tbody tr th:only-of-type {\n",
       "        vertical-align: middle;\n",
       "    }\n",
       "\n",
       "    .dataframe tbody tr th {\n",
       "        vertical-align: top;\n",
       "    }\n",
       "\n",
       "    .dataframe thead th {\n",
       "        text-align: right;\n",
       "    }\n",
       "</style>\n",
       "<table border=\"1\" class=\"dataframe\">\n",
       "  <thead>\n",
       "    <tr style=\"text-align: right;\">\n",
       "      <th></th>\n",
       "      <th>user_id</th>\n",
       "      <th>movie_id</th>\n",
       "      <th>count</th>\n",
       "      <th>timestamp</th>\n",
       "    </tr>\n",
       "  </thead>\n",
       "  <tbody>\n",
       "    <tr>\n",
       "      <th>1000203</th>\n",
       "      <td>6040</td>\n",
       "      <td>1090</td>\n",
       "      <td>3</td>\n",
       "      <td>956715518.0</td>\n",
       "    </tr>\n",
       "    <tr>\n",
       "      <th>1000205</th>\n",
       "      <td>6040</td>\n",
       "      <td>1094</td>\n",
       "      <td>5</td>\n",
       "      <td>956704887.0</td>\n",
       "    </tr>\n",
       "    <tr>\n",
       "      <th>1000206</th>\n",
       "      <td>6040</td>\n",
       "      <td>562</td>\n",
       "      <td>5</td>\n",
       "      <td>956704746.0</td>\n",
       "    </tr>\n",
       "    <tr>\n",
       "      <th>1000207</th>\n",
       "      <td>6040</td>\n",
       "      <td>1096</td>\n",
       "      <td>4</td>\n",
       "      <td>956715648.0</td>\n",
       "    </tr>\n",
       "    <tr>\n",
       "      <th>1000208</th>\n",
       "      <td>6040</td>\n",
       "      <td>1097</td>\n",
       "      <td>4</td>\n",
       "      <td>956715569.0</td>\n",
       "    </tr>\n",
       "    <tr>\n",
       "      <th>0</th>\n",
       "      <td>yongbok</td>\n",
       "      <td>apollo 13 (1995)</td>\n",
       "      <td>4</td>\n",
       "      <td>NaN</td>\n",
       "    </tr>\n",
       "    <tr>\n",
       "      <th>1</th>\n",
       "      <td>yongbok</td>\n",
       "      <td>waterworld (1995)</td>\n",
       "      <td>4</td>\n",
       "      <td>NaN</td>\n",
       "    </tr>\n",
       "    <tr>\n",
       "      <th>2</th>\n",
       "      <td>yongbok</td>\n",
       "      <td>before sunrise (1995)</td>\n",
       "      <td>4</td>\n",
       "      <td>NaN</td>\n",
       "    </tr>\n",
       "    <tr>\n",
       "      <th>3</th>\n",
       "      <td>yongbok</td>\n",
       "      <td>stargate (1994)</td>\n",
       "      <td>4</td>\n",
       "      <td>NaN</td>\n",
       "    </tr>\n",
       "    <tr>\n",
       "      <th>4</th>\n",
       "      <td>yongbok</td>\n",
       "      <td>batman (1989)</td>\n",
       "      <td>4</td>\n",
       "      <td>NaN</td>\n",
       "    </tr>\n",
       "  </tbody>\n",
       "</table>\n",
       "</div>"
      ],
      "text/plain": [
       "         user_id               movie_id  count    timestamp\n",
       "1000203     6040                   1090      3  956715518.0\n",
       "1000205     6040                   1094      5  956704887.0\n",
       "1000206     6040                    562      5  956704746.0\n",
       "1000207     6040                   1096      4  956715648.0\n",
       "1000208     6040                   1097      4  956715569.0\n",
       "0        yongbok       apollo 13 (1995)      4          NaN\n",
       "1        yongbok      waterworld (1995)      4          NaN\n",
       "2        yongbok  before sunrise (1995)      4          NaN\n",
       "3        yongbok        stargate (1994)      4          NaN\n",
       "4        yongbok          batman (1989)      4          NaN"
      ]
     },
     "execution_count": 13,
     "metadata": {},
     "output_type": "execute_result"
    }
   ],
   "source": [
    "# 본인이 좋아하는 영화 5가지 추가, 이름은 꼭 데이터셋에 있는 것과 동일하게 맞춰주세요. \n",
    "my_favorite = ['apollo 13 (1995)', 'waterworld (1995)', 'before sunrise (1995)', 'stargate (1994)', 'batman (1989)']\n",
    "\n",
    "# 'yongbok'이라는 user_id가 위 영화 5개를 4회씩 보았다고 가정하겠습니다.\n",
    "my_playlist = pd.DataFrame({'user_id': ['yongbok']*5, 'movie_id': my_favorite, 'count':[4]*5})\n",
    "\n",
    "# my_playlist를 기존 ratings 데이터에 추가\n",
    "if not ratings.isin({'user_id': ['yongbok']})['user_id'].any():    # user_id에 'yongbok' 또는 6041 이라는 데이터가 없다면\n",
    "    ratings = ratings.append(my_playlist)                     # 위에 임의로 만든 my_favorite 데이터를 추가해 줍니다. \n",
    "\n",
    "ratings.tail(10)       # 잘 추가되었는지 확인해 봅시다."
   ]
  },
  {
   "cell_type": "markdown",
   "metadata": {},
   "source": [
    "### 3-2. 모델에 활용하기 위한 전처리 "
   ]
  },
  {
   "cell_type": "code",
   "execution_count": 14,
   "metadata": {},
   "outputs": [],
   "source": [
    "# 고유한 값 찾기\n",
    "movie_unique = movies['title'].unique()\n",
    "user_unique = ratings['user_id'].unique()\n",
    "\n",
    "# 고유한 값을 indexing 하기 \n",
    "movie_to_idx = {v:k+1 for k, v in enumerate(movie_unique)}    # k: key, v: value\n",
    "user_to_idx = {v:k+1 for k, v in enumerate(user_unique)}\n",
    "\n",
    "# indexing으로 고유한 값 찾기\n",
    "idx_to_movie = {k+1:v for k, v in enumerate(movie_unique)}\n",
    "idx_to_user = {k+1:v for k, v in enumerate(user_unique)}"
   ]
  },
  {
   "cell_type": "code",
   "execution_count": 15,
   "metadata": {},
   "outputs": [
    {
     "name": "stdout",
     "output_type": "stream",
     "text": [
      "user_id of yongbok is 6040\n",
      "user 6040 is yongbok\n",
      "\n",
      "movie_id of apollo 13 (1995) is 149\n",
      "movie 149 is apollo 13 (1995)\n"
     ]
    }
   ],
   "source": [
    "# 인덱싱이 잘 되었는지 확인\n",
    "my_idx = user_to_idx['yongbok']\n",
    "print(f'user_id of yongbok is {my_idx}')\n",
    "print(f'user {my_idx} is {idx_to_user[my_idx]}')\n",
    "print()\n",
    "mv_idx = movie_to_idx['apollo 13 (1995)']\n",
    "print(f'movie_id of apollo 13 (1995) is {mv_idx}')\n",
    "print(f'movie {mv_idx} is {idx_to_movie[mv_idx]}')"
   ]
  },
  {
   "cell_type": "markdown",
   "metadata": {},
   "source": [
    "### 3-3. indexing을 통해 데이터 컬럼 내 값을 바꾸기"
   ]
  },
  {
   "cell_type": "code",
   "execution_count": 16,
   "metadata": {},
   "outputs": [
    {
     "name": "stdout",
     "output_type": "stream",
     "text": [
      "user_id column indexing OK!!\n",
      "movie_id column indexing Fail!!\n"
     ]
    },
    {
     "data": {
      "text/html": [
       "<div>\n",
       "<style scoped>\n",
       "    .dataframe tbody tr th:only-of-type {\n",
       "        vertical-align: middle;\n",
       "    }\n",
       "\n",
       "    .dataframe tbody tr th {\n",
       "        vertical-align: top;\n",
       "    }\n",
       "\n",
       "    .dataframe thead th {\n",
       "        text-align: right;\n",
       "    }\n",
       "</style>\n",
       "<table border=\"1\" class=\"dataframe\">\n",
       "  <thead>\n",
       "    <tr style=\"text-align: right;\">\n",
       "      <th></th>\n",
       "      <th>user_id</th>\n",
       "      <th>movie_id</th>\n",
       "      <th>count</th>\n",
       "      <th>timestamp</th>\n",
       "    </tr>\n",
       "  </thead>\n",
       "  <tbody>\n",
       "    <tr>\n",
       "      <th>1000203</th>\n",
       "      <td>6039</td>\n",
       "      <td>1090</td>\n",
       "      <td>3</td>\n",
       "      <td>956715518.0</td>\n",
       "    </tr>\n",
       "    <tr>\n",
       "      <th>1000205</th>\n",
       "      <td>6039</td>\n",
       "      <td>1094</td>\n",
       "      <td>5</td>\n",
       "      <td>956704887.0</td>\n",
       "    </tr>\n",
       "    <tr>\n",
       "      <th>1000206</th>\n",
       "      <td>6039</td>\n",
       "      <td>562</td>\n",
       "      <td>5</td>\n",
       "      <td>956704746.0</td>\n",
       "    </tr>\n",
       "    <tr>\n",
       "      <th>1000207</th>\n",
       "      <td>6039</td>\n",
       "      <td>1096</td>\n",
       "      <td>4</td>\n",
       "      <td>956715648.0</td>\n",
       "    </tr>\n",
       "    <tr>\n",
       "      <th>1000208</th>\n",
       "      <td>6039</td>\n",
       "      <td>1097</td>\n",
       "      <td>4</td>\n",
       "      <td>956715569.0</td>\n",
       "    </tr>\n",
       "    <tr>\n",
       "      <th>0</th>\n",
       "      <td>6040</td>\n",
       "      <td>apollo 13 (1995)</td>\n",
       "      <td>4</td>\n",
       "      <td>NaN</td>\n",
       "    </tr>\n",
       "    <tr>\n",
       "      <th>1</th>\n",
       "      <td>6040</td>\n",
       "      <td>waterworld (1995)</td>\n",
       "      <td>4</td>\n",
       "      <td>NaN</td>\n",
       "    </tr>\n",
       "    <tr>\n",
       "      <th>2</th>\n",
       "      <td>6040</td>\n",
       "      <td>before sunrise (1995)</td>\n",
       "      <td>4</td>\n",
       "      <td>NaN</td>\n",
       "    </tr>\n",
       "    <tr>\n",
       "      <th>3</th>\n",
       "      <td>6040</td>\n",
       "      <td>stargate (1994)</td>\n",
       "      <td>4</td>\n",
       "      <td>NaN</td>\n",
       "    </tr>\n",
       "    <tr>\n",
       "      <th>4</th>\n",
       "      <td>6040</td>\n",
       "      <td>batman (1989)</td>\n",
       "      <td>4</td>\n",
       "      <td>NaN</td>\n",
       "    </tr>\n",
       "  </tbody>\n",
       "</table>\n",
       "</div>"
      ],
      "text/plain": [
       "         user_id               movie_id  count    timestamp\n",
       "1000203     6039                   1090      3  956715518.0\n",
       "1000205     6039                   1094      5  956704887.0\n",
       "1000206     6039                    562      5  956704746.0\n",
       "1000207     6039                   1096      4  956715648.0\n",
       "1000208     6039                   1097      4  956715569.0\n",
       "0           6040       apollo 13 (1995)      4          NaN\n",
       "1           6040      waterworld (1995)      4          NaN\n",
       "2           6040  before sunrise (1995)      4          NaN\n",
       "3           6040        stargate (1994)      4          NaN\n",
       "4           6040          batman (1989)      4          NaN"
      ]
     },
     "execution_count": 16,
     "metadata": {},
     "output_type": "execute_result"
    }
   ],
   "source": [
    "# user_to_idx.get을 통해 user_id 컬럼의 모든 값을 인덱싱한 Series를 구해 봅시다. \n",
    "# 혹시 정상적으로 인덱싱되지 않은 row가 있다면 인덱스가 NaN이 될 테니 dropna()로 제거합니다. \n",
    "temp_user_data = ratings['user_id'].map(user_to_idx.get).dropna()\n",
    "\n",
    "if len(temp_user_data) == len(ratings):   # 모든 row가 정상적으로 인덱싱되었다면\n",
    "    print('user_id column indexing OK!!')\n",
    "    ratings['user_id'] = temp_user_data   # data['user_id']을 인덱싱된 Series로 교체해 줍니다. \n",
    "else:\n",
    "    print('user_id column indexing Fail!!')\n",
    "\n",
    "    \n",
    "# movie_to_idx을 통해 artist 컬럼도 동일한 방식으로 인덱싱해 줍니다. \n",
    "temp_movie_data = ratings['movie_id'].map(movie_to_idx.get).dropna()\n",
    "\n",
    "if len(temp_movie_data) == len(ratings):\n",
    "    print('movie_id column indexing OK!!')\n",
    "    ratings['movie_id'] = temp_movie_data\n",
    "else:\n",
    "    print('movie_id column indexing Fail!!')\n",
    "\n",
    "ratings.tail(10)"
   ]
  },
  {
   "cell_type": "code",
   "execution_count": 17,
   "metadata": {},
   "outputs": [
    {
     "data": {
      "text/html": [
       "<div>\n",
       "<style scoped>\n",
       "    .dataframe tbody tr th:only-of-type {\n",
       "        vertical-align: middle;\n",
       "    }\n",
       "\n",
       "    .dataframe tbody tr th {\n",
       "        vertical-align: top;\n",
       "    }\n",
       "\n",
       "    .dataframe thead th {\n",
       "        text-align: right;\n",
       "    }\n",
       "</style>\n",
       "<table border=\"1\" class=\"dataframe\">\n",
       "  <thead>\n",
       "    <tr style=\"text-align: right;\">\n",
       "      <th></th>\n",
       "      <th>user_id</th>\n",
       "      <th>movie_id</th>\n",
       "      <th>count</th>\n",
       "      <th>timestamp</th>\n",
       "    </tr>\n",
       "  </thead>\n",
       "  <tbody>\n",
       "    <tr>\n",
       "      <th>1000203</th>\n",
       "      <td>6039</td>\n",
       "      <td>1090</td>\n",
       "      <td>3</td>\n",
       "      <td>956715518.0</td>\n",
       "    </tr>\n",
       "    <tr>\n",
       "      <th>1000205</th>\n",
       "      <td>6039</td>\n",
       "      <td>1094</td>\n",
       "      <td>5</td>\n",
       "      <td>956704887.0</td>\n",
       "    </tr>\n",
       "    <tr>\n",
       "      <th>1000206</th>\n",
       "      <td>6039</td>\n",
       "      <td>562</td>\n",
       "      <td>5</td>\n",
       "      <td>956704746.0</td>\n",
       "    </tr>\n",
       "    <tr>\n",
       "      <th>1000207</th>\n",
       "      <td>6039</td>\n",
       "      <td>1096</td>\n",
       "      <td>4</td>\n",
       "      <td>956715648.0</td>\n",
       "    </tr>\n",
       "    <tr>\n",
       "      <th>1000208</th>\n",
       "      <td>6039</td>\n",
       "      <td>1097</td>\n",
       "      <td>4</td>\n",
       "      <td>956715569.0</td>\n",
       "    </tr>\n",
       "    <tr>\n",
       "      <th>0</th>\n",
       "      <td>6040</td>\n",
       "      <td>149.0</td>\n",
       "      <td>4</td>\n",
       "      <td>NaN</td>\n",
       "    </tr>\n",
       "    <tr>\n",
       "      <th>1</th>\n",
       "      <td>6040</td>\n",
       "      <td>207.0</td>\n",
       "      <td>4</td>\n",
       "      <td>NaN</td>\n",
       "    </tr>\n",
       "    <tr>\n",
       "      <th>2</th>\n",
       "      <td>6040</td>\n",
       "      <td>214.0</td>\n",
       "      <td>4</td>\n",
       "      <td>NaN</td>\n",
       "    </tr>\n",
       "    <tr>\n",
       "      <th>3</th>\n",
       "      <td>6040</td>\n",
       "      <td>314.0</td>\n",
       "      <td>4</td>\n",
       "      <td>NaN</td>\n",
       "    </tr>\n",
       "    <tr>\n",
       "      <th>4</th>\n",
       "      <td>6040</td>\n",
       "      <td>589.0</td>\n",
       "      <td>4</td>\n",
       "      <td>NaN</td>\n",
       "    </tr>\n",
       "  </tbody>\n",
       "</table>\n",
       "</div>"
      ],
      "text/plain": [
       "         user_id movie_id  count    timestamp\n",
       "1000203     6039     1090      3  956715518.0\n",
       "1000205     6039     1094      5  956704887.0\n",
       "1000206     6039      562      5  956704746.0\n",
       "1000207     6039     1096      4  956715648.0\n",
       "1000208     6039     1097      4  956715569.0\n",
       "0           6040    149.0      4          NaN\n",
       "1           6040    207.0      4          NaN\n",
       "2           6040    214.0      4          NaN\n",
       "3           6040    314.0      4          NaN\n",
       "4           6040    589.0      4          NaN"
      ]
     },
     "execution_count": 17,
     "metadata": {},
     "output_type": "execute_result"
    }
   ],
   "source": [
    "# movie_id 컬럼에 영화 제목으로 남아 있는 것을 인덱스로 변환\n",
    "ratings.loc[(ratings['user_id']==6040), 'movie_id'] = ratings['movie_id'].map(movie_to_idx.get).dropna()\n",
    "ratings.tail(10)"
   ]
  },
  {
   "cell_type": "code",
   "execution_count": 18,
   "metadata": {},
   "outputs": [
    {
     "data": {
      "text/html": [
       "<div>\n",
       "<style scoped>\n",
       "    .dataframe tbody tr th:only-of-type {\n",
       "        vertical-align: middle;\n",
       "    }\n",
       "\n",
       "    .dataframe tbody tr th {\n",
       "        vertical-align: top;\n",
       "    }\n",
       "\n",
       "    .dataframe thead th {\n",
       "        text-align: right;\n",
       "    }\n",
       "</style>\n",
       "<table border=\"1\" class=\"dataframe\">\n",
       "  <thead>\n",
       "    <tr style=\"text-align: right;\">\n",
       "      <th></th>\n",
       "      <th>user_id</th>\n",
       "      <th>movie_id</th>\n",
       "      <th>count</th>\n",
       "      <th>timestamp</th>\n",
       "    </tr>\n",
       "  </thead>\n",
       "  <tbody>\n",
       "    <tr>\n",
       "      <th>1000203</th>\n",
       "      <td>6039</td>\n",
       "      <td>1090</td>\n",
       "      <td>3</td>\n",
       "      <td>956715518.0</td>\n",
       "    </tr>\n",
       "    <tr>\n",
       "      <th>1000205</th>\n",
       "      <td>6039</td>\n",
       "      <td>1094</td>\n",
       "      <td>5</td>\n",
       "      <td>956704887.0</td>\n",
       "    </tr>\n",
       "    <tr>\n",
       "      <th>1000206</th>\n",
       "      <td>6039</td>\n",
       "      <td>562</td>\n",
       "      <td>5</td>\n",
       "      <td>956704746.0</td>\n",
       "    </tr>\n",
       "    <tr>\n",
       "      <th>1000207</th>\n",
       "      <td>6039</td>\n",
       "      <td>1096</td>\n",
       "      <td>4</td>\n",
       "      <td>956715648.0</td>\n",
       "    </tr>\n",
       "    <tr>\n",
       "      <th>1000208</th>\n",
       "      <td>6039</td>\n",
       "      <td>1097</td>\n",
       "      <td>4</td>\n",
       "      <td>956715569.0</td>\n",
       "    </tr>\n",
       "    <tr>\n",
       "      <th>0</th>\n",
       "      <td>6040</td>\n",
       "      <td>149.0</td>\n",
       "      <td>4</td>\n",
       "      <td>972162834.0</td>\n",
       "    </tr>\n",
       "    <tr>\n",
       "      <th>1</th>\n",
       "      <td>6040</td>\n",
       "      <td>207.0</td>\n",
       "      <td>4</td>\n",
       "      <td>972162834.0</td>\n",
       "    </tr>\n",
       "    <tr>\n",
       "      <th>2</th>\n",
       "      <td>6040</td>\n",
       "      <td>214.0</td>\n",
       "      <td>4</td>\n",
       "      <td>972162834.0</td>\n",
       "    </tr>\n",
       "    <tr>\n",
       "      <th>3</th>\n",
       "      <td>6040</td>\n",
       "      <td>314.0</td>\n",
       "      <td>4</td>\n",
       "      <td>972162834.0</td>\n",
       "    </tr>\n",
       "    <tr>\n",
       "      <th>4</th>\n",
       "      <td>6040</td>\n",
       "      <td>589.0</td>\n",
       "      <td>4</td>\n",
       "      <td>972162834.0</td>\n",
       "    </tr>\n",
       "  </tbody>\n",
       "</table>\n",
       "</div>"
      ],
      "text/plain": [
       "         user_id movie_id  count    timestamp\n",
       "1000203     6039     1090      3  956715518.0\n",
       "1000205     6039     1094      5  956704887.0\n",
       "1000206     6039      562      5  956704746.0\n",
       "1000207     6039     1096      4  956715648.0\n",
       "1000208     6039     1097      4  956715569.0\n",
       "0           6040    149.0      4  972162834.0\n",
       "1           6040    207.0      4  972162834.0\n",
       "2           6040    214.0      4  972162834.0\n",
       "3           6040    314.0      4  972162834.0\n",
       "4           6040    589.0      4  972162834.0"
      ]
     },
     "execution_count": 18,
     "metadata": {},
     "output_type": "execute_result"
    }
   ],
   "source": [
    "# timestamp의 NaN은 평균값으로 대체\n",
    "ratings.loc[(ratings['user_id']==6040), 'timestamp'] = int(ratings['timestamp'].mean())\n",
    "ratings.tail(10) "
   ]
  },
  {
   "cell_type": "markdown",
   "metadata": {},
   "source": [
    "## 4. CSR matrix를 직접 만들어 봅시다."
   ]
  },
  {
   "cell_type": "code",
   "execution_count": 19,
   "metadata": {},
   "outputs": [
    {
     "data": {
      "text/plain": [
       "(6040, 3628)"
      ]
     },
     "execution_count": 19,
     "metadata": {},
     "output_type": "execute_result"
    }
   ],
   "source": [
    "from scipy.sparse import csr_matrix\n",
    "\n",
    "num_user = ratings['user_id'].nunique()\n",
    "num_movie = ratings['movie_id'].nunique()\n",
    "\n",
    "num_user, num_movie"
   ]
  },
  {
   "cell_type": "code",
   "execution_count": 20,
   "metadata": {},
   "outputs": [
    {
     "data": {
      "text/plain": [
       "(6041, 3953)"
      ]
     },
     "execution_count": 20,
     "metadata": {},
     "output_type": "execute_result"
    }
   ],
   "source": [
    "# csr_data = csr_matrix((ratings['count'], (ratings['user_id'], ratings['movie_id'])), shape= (num_user, num_movie))\n",
    "csr_data = csr_matrix((ratings['count'], (ratings['user_id'], ratings['movie_id'])), shape=None)\n",
    "csr_data.shape"
   ]
  },
  {
   "cell_type": "markdown",
   "metadata": {},
   "source": [
    "## 5. als_model = AlternatingLeastSquares 모델을 직접 구성하여 훈련시켜 봅시다."
   ]
  },
  {
   "cell_type": "code",
   "execution_count": 21,
   "metadata": {},
   "outputs": [],
   "source": [
    "from implicit.als import AlternatingLeastSquares\n",
    "import os\n",
    "import numpy as np\n",
    "\n",
    "# implicit 라이브러리에서 권장하고 있는 부분입니다. 학습 내용과는 무관합니다.\n",
    "os.environ['OPENBLAS_NUM_THREADS']='1'\n",
    "os.environ['KMP_DUPLICATE_LIB_OK']='True'\n",
    "os.environ['MKL_NUM_THREADS']='1'"
   ]
  },
  {
   "cell_type": "markdown",
   "metadata": {},
   "source": [
    "### 5-1. 모델 선언"
   ]
  },
  {
   "cell_type": "code",
   "execution_count": 22,
   "metadata": {},
   "outputs": [],
   "source": [
    "# Implicit AlternatingLeastSquares 모델의 선언\n",
    "als_model = AlternatingLeastSquares(factors=100, \n",
    "                                    regularization=0.01, \n",
    "                                    use_gpu=False, \n",
    "                                    iterations=15, \n",
    "                                    dtype=np.float32)"
   ]
  },
  {
   "cell_type": "markdown",
   "metadata": {},
   "source": [
    "**AlternatingLeastSquares 클래스**의 **__init__ 파라미터**   \n",
    "**1. factors :** 유저와 아이템의 벡터를 몇 차원으로 할 것인지   \n",
    "**2. regularization :** 과적합을 방지하기 위해 정규화 값을 얼마나 사용할 것인지   \n",
    "**3. use_gpu :** GPU를 사용할 것인지   \n",
    "**4. iterations :** epochs와 같은 의미입니다. 데이터를 몇 번 반복해서 학습할 것인지  \n",
    "\n",
    "1,4를 늘릴수록 학습데이터를 잘 학습하게 되지만 과적합의 우려가 있으니 좋은 값을 찾아야 함"
   ]
  },
  {
   "cell_type": "code",
   "execution_count": 23,
   "metadata": {},
   "outputs": [
    {
     "data": {
      "text/plain": [
       "<3953x6041 sparse matrix of type '<class 'numpy.int64'>'\n",
       "\twith 836483 stored elements in Compressed Sparse Column format>"
      ]
     },
     "execution_count": 23,
     "metadata": {},
     "output_type": "execute_result"
    }
   ],
   "source": [
    "# als 모델은 input으로 (item X user 꼴의 matrix를 받기 때문에 Transpose해줍니다.)\n",
    "csr_data_transpose = csr_data.T\n",
    "csr_data_transpose"
   ]
  },
  {
   "cell_type": "markdown",
   "metadata": {},
   "source": [
    "### 5-2. 모델 학습"
   ]
  },
  {
   "cell_type": "code",
   "execution_count": 24,
   "metadata": {},
   "outputs": [
    {
     "data": {
      "application/vnd.jupyter.widget-view+json": {
       "model_id": "9c8e67443e5b4b2daeaa4c3ecfae8bef",
       "version_major": 2,
       "version_minor": 0
      },
      "text/plain": [
       "  0%|          | 0/15 [00:00<?, ?it/s]"
      ]
     },
     "metadata": {},
     "output_type": "display_data"
    }
   ],
   "source": [
    "# 모델 학습\n",
    "als_model.fit(csr_data_transpose)"
   ]
  },
  {
   "cell_type": "markdown",
   "metadata": {},
   "source": [
    "## 6. 내가 선호하는 5가지 영화 중 하나와 그 외의 영화 하나를 골라 훈련된 모델이 예측한 나의 선호도를 파악해 보세요."
   ]
  },
  {
   "cell_type": "code",
   "execution_count": 25,
   "metadata": {},
   "outputs": [],
   "source": [
    "# 모델이 저의 벡터와 apollo 13 (1995)의 벡터를 어떻게 만들고 있는지\n",
    "yongbok, apollo13 = user_to_idx['yongbok'], movie_to_idx['apollo 13 (1995)']\n",
    "\n",
    "yongbok_vector = als_model.user_factors[yongbok]\n",
    "\n",
    "apollo13_vector = als_model.item_factors[apollo13]"
   ]
  },
  {
   "cell_type": "markdown",
   "metadata": {},
   "source": [
    "* **`.user_factors[ ]`** : 훈련 세트의 각 **사용자**에 대한 잠재 요인 배열\n",
    "\n",
    "* **`.item_factors[ ]`** : 훈련 세트의 각 **항목**에 대한 잠재 요인 배열"
   ]
  },
  {
   "cell_type": "code",
   "execution_count": 26,
   "metadata": {},
   "outputs": [
    {
     "data": {
      "text/plain": [
       "array([-0.2464316 ,  0.12403583,  0.4124863 ,  0.29052123,  0.39670518,\n",
       "       -0.06623028, -0.22203402,  0.03080336,  0.5847165 ,  0.11868675,\n",
       "       -0.17690079,  0.1803783 , -0.34483853,  0.13232294,  0.10560482,\n",
       "        0.277365  , -0.87117285, -0.09259569, -0.23296317, -0.05552815,\n",
       "        0.34846047, -0.01694998,  0.01364768,  0.21485047,  0.02636858,\n",
       "       -0.01141187,  0.2361918 ,  0.23940812,  0.26837754,  0.18735859,\n",
       "        0.23078404, -0.1509557 ,  0.18200544,  0.11374459, -0.31014055,\n",
       "        0.2343555 , -0.3455568 , -0.15373392,  0.22069855, -0.40859196,\n",
       "       -0.02503973, -0.61159503, -0.14619476, -0.09692829, -0.27959946,\n",
       "        0.22195731,  0.34412003,  0.56660694, -0.21983035,  0.05180404,\n",
       "       -0.19382717,  0.5166889 , -0.37051508,  0.19855334,  0.2566444 ,\n",
       "        0.27408165,  0.21549642,  0.3303353 , -0.11395265,  0.0678273 ,\n",
       "        0.06828269, -0.14804639,  0.11368599,  0.06737231, -0.1269726 ,\n",
       "       -0.04378165,  0.1317719 , -0.5636908 ,  0.14958267, -0.06828731,\n",
       "       -0.72733414, -0.06783976,  0.1535591 ,  0.32531717, -0.17240229,\n",
       "       -0.19927928,  0.10596928,  0.24949276,  0.2080295 , -0.10137271,\n",
       "       -0.8519223 , -0.06445906, -0.16469666, -0.10056556,  0.43397403,\n",
       "       -0.08758981,  0.23490438, -0.05576757,  0.39346707, -0.23035958,\n",
       "        0.18953982,  0.24607942,  0.26957107, -0.20489499, -0.09527922,\n",
       "       -0.08358637,  0.09978007, -0.07968279, -0.02079049, -0.48516235],\n",
       "      dtype=float32)"
      ]
     },
     "execution_count": 26,
     "metadata": {},
     "output_type": "execute_result"
    }
   ],
   "source": [
    "# yongbok의 벡터\n",
    "yongbok_vector"
   ]
  },
  {
   "cell_type": "code",
   "execution_count": 27,
   "metadata": {},
   "outputs": [
    {
     "data": {
      "text/plain": [
       "array([-0.00333993,  0.00686694,  0.00564461,  0.00440952,  0.00444247,\n",
       "        0.00479493, -0.0044789 , -0.00661483,  0.01071008, -0.00307123,\n",
       "        0.01747457,  0.00632362,  0.00481173,  0.00692363,  0.00094019,\n",
       "       -0.00087817, -0.00185108,  0.01424395, -0.00408331,  0.00498029,\n",
       "        0.00732388,  0.00530185,  0.00918176,  0.00449032,  0.00944753,\n",
       "        0.00649573, -0.00103741,  0.00392232,  0.01026496,  0.0181318 ,\n",
       "        0.00841316,  0.00156357, -0.00202455,  0.0016412 , -0.00123054,\n",
       "        0.00809515,  0.00757567,  0.0036723 ,  0.01277316,  0.01013258,\n",
       "        0.01093805, -0.00599599,  0.01094101, -0.0036562 ,  0.01004784,\n",
       "        0.00457397,  0.00318543, -0.00083287,  0.00669824,  0.00557218,\n",
       "        0.01208937,  0.01255197, -0.00342597,  0.00511944,  0.00103467,\n",
       "        0.00581756, -0.00165856,  0.00563676,  0.01182675,  0.01048841,\n",
       "       -0.00197241,  0.00108647, -0.0061211 ,  0.01239236,  0.00478824,\n",
       "       -0.00288295,  0.00118624, -0.00565647, -0.0090806 ,  0.00396812,\n",
       "       -0.00694933,  0.00722905,  0.00939883,  0.01038111,  0.00644595,\n",
       "        0.00153489, -0.0012771 ,  0.0030025 , -0.00305865,  0.00980919,\n",
       "        0.00356653,  0.00222792,  0.00349441,  0.00328574,  0.00477587,\n",
       "        0.00126911,  0.01100967,  0.00231685,  0.00028565,  0.00995045,\n",
       "        0.01285647,  0.01081022,  0.01183426,  0.01500883,  0.00675658,\n",
       "       -0.00459031,  0.01083336,  0.00378768,  0.00283044,  0.00318322],\n",
       "      dtype=float32)"
      ]
     },
     "execution_count": 27,
     "metadata": {},
     "output_type": "execute_result"
    }
   ],
   "source": [
    "# apollo13의 벡터\n",
    "apollo13_vector"
   ]
  },
  {
   "cell_type": "code",
   "execution_count": 28,
   "metadata": {},
   "outputs": [
    {
     "data": {
      "text/plain": [
       "0.04067733"
      ]
     },
     "execution_count": 28,
     "metadata": {},
     "output_type": "execute_result"
    }
   ],
   "source": [
    "# yongbok과 apollo13 백터를 내적\n",
    "np.dot(yongbok_vector, apollo13_vector)"
   ]
  },
  {
   "cell_type": "code",
   "execution_count": 29,
   "metadata": {},
   "outputs": [
    {
     "data": {
      "text/plain": [
       "0.095290646"
      ]
     },
     "execution_count": 29,
     "metadata": {},
     "output_type": "execute_result"
    }
   ],
   "source": [
    "# 모델이 yongbok의 'dragonheart (1996)' 대한 선호도를 어떻게 예측\n",
    "movie = movie_to_idx['dragonheart (1996)']\n",
    "movie_vector = als_model.item_factors[movie]\n",
    "np.dot(yongbok_vector, movie_vector)"
   ]
  },
  {
   "cell_type": "markdown",
   "metadata": {},
   "source": [
    "## 7. 내가 좋아하는 영화와 비슷한 영화를 추천받아 봅시다."
   ]
  },
  {
   "cell_type": "code",
   "execution_count": 30,
   "metadata": {},
   "outputs": [
    {
     "data": {
      "text/plain": [
       "[(314, 0.9999999),\n",
       " (43, 0.5673457),\n",
       " (82, 0.55746),\n",
       " (301, 0.54960495),\n",
       " (3079, 0.53974694),\n",
       " (1695, 0.53688556),\n",
       " (2609, 0.53226334),\n",
       " (2493, 0.53082055),\n",
       " (1177, 0.52784985),\n",
       " (2310, 0.52712303),\n",
       " (1914, 0.5145214),\n",
       " (2390, 0.513638),\n",
       " (421, 0.5108783),\n",
       " (1650, 0.5035645),\n",
       " (531, 0.50301677)]"
      ]
     },
     "execution_count": 30,
     "metadata": {},
     "output_type": "execute_result"
    }
   ],
   "source": [
    "# 'stargate (1994)'와 비슷한 영화 찾기\n",
    "favorite_movie = 'stargate (1994)'\n",
    "movie_id = movie_to_idx[favorite_movie]\n",
    "similar_movie = als_model.similar_items(movie_id, N=15)       # (movie_id, 유사도) Tuple 로 반환\n",
    "similar_movie"
   ]
  },
  {
   "cell_type": "markdown",
   "metadata": {},
   "source": [
    "**`.similar_items`** : 유사한 항목 목록을 계산"
   ]
  },
  {
   "cell_type": "code",
   "execution_count": 31,
   "metadata": {},
   "outputs": [
    {
     "data": {
      "text/plain": [
       "['stargate (1994)',\n",
       " 'restoration (1995)',\n",
       " \"antonia's line (antonia) (1995)\",\n",
       " 'quick and the dead, the (1995)',\n",
       " 'green mile, the (1999)',\n",
       " 'senseless (1998)',\n",
       " 'buena vista social club (1999)',\n",
       " 'true crime (1999)',\n",
       " \"one flew over the cuckoo's nest (1975)\",\n",
       " 'police academy (1984)',\n",
       " 'halloween (1978)',\n",
       " 'armed and dangerous (1986)',\n",
       " 'blue chips (1994)',\n",
       " 'bent (1997)',\n",
       " 'shadowlands (1993)']"
      ]
     },
     "execution_count": 31,
     "metadata": {},
     "output_type": "execute_result"
    }
   ],
   "source": [
    "# movie_to_idx 를 뒤집어, index로부터 movie을 얻는 dict를 생성합니다. \n",
    "idx_to_movie = {v:k for k,v in movie_to_idx.items()}\n",
    "[idx_to_movie[i[0]] for i in similar_movie]"
   ]
  },
  {
   "cell_type": "code",
   "execution_count": 32,
   "metadata": {},
   "outputs": [],
   "source": [
    "# 비슷한 영화를 찾는 함수\n",
    "def get_similar_movie(movie_name: str):\n",
    "    movie_id = movie_to_idx[movie_name]\n",
    "    similar_movie = als_model.similar_items(movie_id)\n",
    "    similar_movie = [idx_to_movie[i[0]] for i in similar_movie]\n",
    "    return similar_movie"
   ]
  },
  {
   "cell_type": "code",
   "execution_count": 33,
   "metadata": {},
   "outputs": [
    {
     "data": {
      "text/plain": [
       "['jumanji (1995)',\n",
       " 'jennifer 8 (1992)',\n",
       " 'indian in the cupboard, the (1995)',\n",
       " \"billy's holiday (1995)\",\n",
       " 'run of the country, the (1995)',\n",
       " 'fallen (1998)',\n",
       " 'always tell your wife (1923)',\n",
       " 'hello mary lou: prom night ii (1987)',\n",
       " 'shallow grave (1994)',\n",
       " 'buffalo 66 (1998)']"
      ]
     },
     "execution_count": 33,
     "metadata": {},
     "output_type": "execute_result"
    }
   ],
   "source": [
    "# jumanji (1995)과 비슷한 영화 찾기 확인\n",
    "get_similar_movie('jumanji (1995)')"
   ]
  },
  {
   "cell_type": "markdown",
   "metadata": {},
   "source": [
    "## 8. 내가 가장 좋아할 만한 영화들을 추천받아 봅시다."
   ]
  },
  {
   "cell_type": "code",
   "execution_count": 34,
   "metadata": {},
   "outputs": [
    {
     "data": {
      "text/plain": [
       "[(2571, 0.26774198),\n",
       " (480, 0.25646093),\n",
       " (1580, 0.21149796),\n",
       " (2916, 0.19893314),\n",
       " (2762, 0.17915478),\n",
       " (1240, 0.16465196),\n",
       " (110, 0.1641268),\n",
       " (1214, 0.14009666),\n",
       " (457, 0.13899533),\n",
       " (1249, 0.13639444),\n",
       " (593, 0.11139741),\n",
       " (1035, 0.10898399),\n",
       " (524, 0.107426085),\n",
       " (1544, 0.10741632),\n",
       " (529, 0.10256505),\n",
       " (1610, 0.1021902),\n",
       " (266, 0.10142901),\n",
       " (2791, 0.10125345),\n",
       " (1914, 0.10048701),\n",
       " (2291, 0.098945305)]"
      ]
     },
     "execution_count": 34,
     "metadata": {},
     "output_type": "execute_result"
    }
   ],
   "source": [
    "user = user_to_idx['yongbok']\n",
    "\n",
    "# recommend에서는 user*item CSR Matrix를 받습니다.\n",
    "movie_recommended = als_model.recommend(user, csr_data, N=20, filter_already_liked_items=True)\n",
    "movie_recommended"
   ]
  },
  {
   "cell_type": "markdown",
   "metadata": {},
   "source": [
    "**`.recommend`** : 사용자에 대한 N 개의 권장 사항을 계산하고 항목 ID, 점수 목록을 반환"
   ]
  },
  {
   "cell_type": "code",
   "execution_count": 35,
   "metadata": {},
   "outputs": [
    {
     "data": {
      "text/plain": [
       "['mommie dearest (1981)',\n",
       " 'king of the hill (1993)',\n",
       " 'kicked in the head (1997)',\n",
       " 'on any sunday (1971)',\n",
       " 'cabaret balkan (bure baruta) (1998)',\n",
       " 'stand by me (1986)',\n",
       " 'taxi driver (1976)',\n",
       " 'stalker (1979)',\n",
       " 'getting even with dad (1994)',\n",
       " 'pump up the volume (1990)',\n",
       " 'pinocchio (1940)',\n",
       " 'long kiss goodnight, the (1996)',\n",
       " \"schindler's list (1993)\",\n",
       " 'contact (1997)',\n",
       " 'serial mom (1994)',\n",
       " 'phantoms (1998)',\n",
       " 'little odessa (1994)',\n",
       " 'stop making sense (1984)',\n",
       " 'halloween (1978)',\n",
       " 'waking ned devine (1998)']"
      ]
     },
     "execution_count": 35,
     "metadata": {},
     "output_type": "execute_result"
    }
   ],
   "source": [
    "# 추천한 영화의 index로부터 영화의 제목 확인\n",
    "[idx_to_movie[i[0]] for i in movie_recommended]"
   ]
  },
  {
   "cell_type": "code",
   "execution_count": 36,
   "metadata": {},
   "outputs": [
    {
     "data": {
      "text/plain": [
       "(0.25450010039692705,\n",
       " [(589, 0.2404832948380863),\n",
       "  (314, 0.013655178831279934),\n",
       "  (149, 0.0042148152712441055),\n",
       "  (207, -0.0018365975817212412),\n",
       "  (214, -0.0020165909619620503)],\n",
       " (array([[ 0.6095791 ,  0.0883569 ,  0.12962498, ...,  0.06861631,\n",
       "           0.0905824 ,  0.11854385],\n",
       "         [ 0.05386052,  0.64432866,  0.0366195 , ...,  0.05562773,\n",
       "           0.10368962,  0.05445039],\n",
       "         [ 0.07901668,  0.03504826,  0.62295248, ...,  0.08475724,\n",
       "           0.08579749,  0.13297416],\n",
       "         ...,\n",
       "         [ 0.04182707,  0.04190527,  0.06373118, ...,  0.54810669,\n",
       "           0.00668587, -0.0528581 ],\n",
       "         [ 0.05521714,  0.07481377,  0.06898656, ...,  0.05791606,\n",
       "           0.55571269,  0.02210833],\n",
       "         [ 0.07226186,  0.04555812,  0.10019678, ...,  0.02252277,\n",
       "           0.08991489,  0.56832947]]),\n",
       "  False))"
      ]
     },
     "execution_count": 36,
     "metadata": {},
     "output_type": "execute_result"
    }
   ],
   "source": [
    "# 'king of the hill (1993)'영화를 추천한 이유는?\n",
    "item_id = movie_to_idx['king of the hill (1993)']\n",
    "explain = als_model.explain(user, csr_data, itemid=item_id)\n",
    "explain"
   ]
  },
  {
   "cell_type": "markdown",
   "metadata": {},
   "source": [
    "**`.explain()`** : 사용자가 항목을 좋아하는 이유에 대한 설명을 제공"
   ]
  },
  {
   "cell_type": "code",
   "execution_count": 37,
   "metadata": {},
   "outputs": [
    {
     "data": {
      "text/plain": [
       "[('batman (1989)', 0.2404832948380863),\n",
       " ('stargate (1994)', 0.013655178831279934),\n",
       " ('apollo 13 (1995)', 0.0042148152712441055),\n",
       " ('waterworld (1995)', -0.0018365975817212412),\n",
       " ('before sunrise (1995)', -0.0020165909619620503)]"
      ]
     },
     "execution_count": 37,
     "metadata": {},
     "output_type": "execute_result"
    }
   ],
   "source": [
    "# 내가 기록으로 남긴 데이터 중 이번 'king of the hill (1993)'추천에 기여한 정도를 확인 \n",
    "[(idx_to_movie[i[0]], i[1]) for i in explain[1]]"
   ]
  },
  {
   "cell_type": "markdown",
   "metadata": {},
   "source": [
    "'king of the hill (1993)'을 추천한 이유는 내가 기록에 남긴 'batman (1989)' 영화 때문이구나...  \n",
    "'king of the hill (1993)'을 한번 검색해서 한번 봐야겠다."
   ]
  },
  {
   "cell_type": "markdown",
   "metadata": {},
   "source": [
    "## 회고\n",
    "#### 1. pd.read_csv()에서 에러가 발생함 \n",
    "* 에러 코드 : <span style='color:red'>UnicodeDecodeError: 'utf-8' codec can't decode byte 0xe9 in position 3114: invalid continuation byte</span>   \n",
    "* `encoding='utf-8'` 을 사용해도 문제가 해결되지 않음  \n",
    "* `encoding='ISO-8859-1'`를 이용하여 문제 해결  \n",
    "\n",
    "#### 2.` .groupby('movie_id')['user_id'].count()`\n",
    "* 데이터를 'movie_id' 기준으로 그룹화하여 개수를 집계(count())하는데 'user_id' 컬럼만 수행  \n",
    "\n",
    "#### 3. 판다스 데이터프레임에서 데이터 전처리하기  \n",
    "* 특정 조건에 맞는 행에 대해서 변경하고자 하는 컬럼 값을 하나의 값으로 변경하기  \n",
    "* 특정 조건에 맞는 행에 대해서 변경하고자 하는 컬럼 값을 함수 적용한 값으로 변경하기  \n",
    "\n",
    "#### 4. AlternatingLeastSquares 모델을 사용하면서 \n",
    "* 어떻게 계산되는지 잘 모르겠으나 모델이 똑똑하다고 느꼈다.\n",
    "* matrix factorization 에 대한 내용을 이해하는데 같은 조원의 설명이 많은 도움이 되었다.\n",
    "* `csr_matrix((ratings['count'], (ratings['user_id'], ratings['movie_id'])), shape= (num_user, num_movie))`에서 \n",
    "`TypeError: len() of unsized object`에러가 발생하는 이유는 찾지 못했음.(`shape=None`으로 변경함)\n"
   ]
  },
  {
   "cell_type": "code",
   "execution_count": null,
   "metadata": {},
   "outputs": [],
   "source": []
  }
 ],
 "metadata": {
  "kernelspec": {
   "display_name": "aiffel",
   "language": "python",
   "name": "aiffel"
  },
  "language_info": {
   "codemirror_mode": {
    "name": "ipython",
    "version": 3
   },
   "file_extension": ".py",
   "mimetype": "text/x-python",
   "name": "python",
   "nbconvert_exporter": "python",
   "pygments_lexer": "ipython3",
   "version": "3.7.9"
  },
  "toc": {
   "base_numbering": 1,
   "nav_menu": {},
   "number_sections": false,
   "sideBar": true,
   "skip_h1_title": false,
   "title_cell": "Table of Contents",
   "title_sidebar": "Contents",
   "toc_cell": true,
   "toc_position": {
    "height": "calc(100% - 180px)",
    "left": "10px",
    "top": "150px",
    "width": "384px"
   },
   "toc_section_display": true,
   "toc_window_display": true
  }
 },
 "nbformat": 4,
 "nbformat_minor": 4
}
