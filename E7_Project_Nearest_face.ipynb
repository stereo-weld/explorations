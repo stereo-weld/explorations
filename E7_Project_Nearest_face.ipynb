{
 "cells": [
  {
   "cell_type": "markdown",
   "id": "tribal-underground",
   "metadata": {},
   "source": [
    "# 7. 프로젝트 : 나랑 닮은 연예인을 찾아보자"
   ]
  },
  {
   "cell_type": "markdown",
   "id": "superb-stanford",
   "metadata": {},
   "source": [
    "**루브릭**\n",
    "1. 얼굴임베딩 벡터를 활용해 가장 닮은 연예인 Best 5를 구할 수 있다.\n",
    "    * 닮은꼴 순위, 이름, 임베딩 거리를 포함한 Top-5 리스트가 정렬되어 출력되었다.  \n",
    "2. 충분한 수의 이미지에 대한 시도를 통해 매우 닮은꼴의 연예인을 찾아냈다.\n",
    "    * 다양한 탐색을 통해 본인과 임베딩 거리 0.5 이내로 닮은 연예인을 찾아냈다.  \n",
    "3. 다양하고 재미있는 결과 시각화를 시도하였다.\n",
    "    * matplotlib 등 다양한 시각화 도구를 하나 이상 이용해 재미있는 결과 시각화를 구현하였다."
   ]
  },
  {
   "cell_type": "markdown",
   "id": "olive-surgery",
   "metadata": {},
   "source": [
    "**사용한 함수**\n",
    "1. `# 얼굴 영역만 추출하는 함수`  \n",
    "    **`def get_cropped_face(image_file):`**\n",
    "2. `# 얼굴 영역을 가지고 얼굴 임베딩 벡터를 구하는 함수`  \n",
    "    **`def get_face_embedding(face):`**\n",
    "3. `# 디렉토리 안에 있는 모든 이미지의 임베딩 딕셔너리를 구하는 함수`    \n",
    "    **`def get_face_embedding_dict(dir_path):`**`\n",
    "4. `# 두 임베딩 벡터 간의 거리를 계산하는 함수`  \n",
    "    **`def get_distance(name1, name2):`**\n",
    "5. `# 얼굴 영역 자른 모든 이미지 디렉토리에 저장`  \n",
    "    **`def get_face_cropped_image(dir_path, path_to_save):`**\n",
    "6. `# 미리 지정한 name1과 호출한 name2의 거리를 비교하는 함수`   \n",
    "    **`def get_distance_benchmark(name1):`**\n",
    "7. `# 입력받은 얼굴을 기준으로 가장 닯은 5명의 얼굴 출력하는 함수`  \n",
    "    **`def get_nearest_face(name, top=5):`**\n"
   ]
  },
  {
   "cell_type": "markdown",
   "id": "rolled-marketplace",
   "metadata": {},
   "source": [
    "## Step1. 사진 모으기\n",
    "비교하려면 사진을 모아야겠죠? 우선 나만 볼 테니 내 사진과 비교해 보고 싶은 연예인 사진을 모아봅시다. 평소에 닮았다고 생각했던 연예인 사진들을 모두 모아보는 것도 좋을 것 같네요.\n",
    "사진을 하나의 디렉토리 안에 모아 봅시다. 모을 때 사진의 파일명은 가급적 장동건.jpg, 김태희.png와 같이 파일명이 사람 이름이 들어 있도록 하는 것이 좋습니다. (설마 이분들과 닮았다고 생각하시는 것은?? 😅)"
   ]
  },
  {
   "cell_type": "markdown",
   "id": "analyzed-aquarium",
   "metadata": {},
   "source": [
    "**1. 내 사진 찍기**\n",
    "* 내 사진을 2장 이상 포함합시다.\n",
    "* 내 사진들끼리의 얼굴 임베딩 벡터 거리를 구해 봅시다. 닮았음을 확인할 수 있는 좋은 베이스라인이 될 수 있습니다.\n",
    "* 혹시 내 사진들끼리의 거리가 멀게 나온다면 왜 그럴지 생각해 봅시다."
   ]
  },
  {
   "cell_type": "code",
   "execution_count": 1,
   "id": "parallel-belle",
   "metadata": {},
   "outputs": [],
   "source": [
    "import face_recognition\n",
    "import os\n",
    "\n",
    "%matplotlib inline\n",
    "import matplotlib.pyplot as plt\n",
    "import numpy as np"
   ]
  },
  {
   "cell_type": "markdown",
   "id": "nonprofit-matthew",
   "metadata": {},
   "source": [
    "### Step1-1. 사진 불러오기"
   ]
  },
  {
   "cell_type": "code",
   "execution_count": 2,
   "id": "continental-lingerie",
   "metadata": {},
   "outputs": [
    {
     "name": "stdout",
     "output_type": "stream",
     "text": [
      "file_list: ['알프레드 히치콕.jpeg', '이외수.jpeg', '마틴스콜세지.jpg', '송윤아.jpg', '손종석.jpg', 'trump.jpg', '이승환.png', '틸다스윈튼.jpg', '배성재.jpg', 'reagan.jpg', '이건희.jpeg', '차인표.png', '제임스 딘.jpeg', 'biden.jpg', '박미경.jpg', '김수미.jpeg', 'obama.jpg', '이영애.jpg', '박원순.jpg', '강호동.jpeg', '김혜자.jpeg', '히스 레저.jpeg', '남보원.jpg', '이병헌.jpg', '문지윤.jpg', '김준현.png', '강남.png', '성룡.jpg', '노무현.jpg', '푸틴.jpeg', '폴워커.jpeg', '문재인.jpeg', '존 웨인.jpeg', '아담멕케인.jpg', '이정재.jpeg', '조안 크로포드.jpeg', '마이클 잭슨.jpeg', '오인혜.jpg', '복길이.jpeg', '존 레논.jpeg', '크리스락.jpg', 'clinton.jpeg', '강동원.jpg', '토마스에디슨.jpg', '스티브 잡스.jpeg', '대성.jpeg', '유시민.jpeg', '브루노 마스.png', '박성웅.png', '빌게이츠.jpeg', '양희은.jpeg', '마이클조던.jpg', '안성기.png', '브래드피트.jpg', 'bush.jpeg', '조국.jpg', '자니윤.jpg', 'lyb1.jpg', '엄홍길.png', '토드필립스.jpg', '에드가라이트.jpg', 'lyb2.jpg', '이세돌.jpg', '일론머스크.jpg', '레오나르도 디카프리오.jpg', '최불암.jpeg', '넬슨만델라.jpg', '투팍.jpeg', '김흥석.jpg', '휘트니 휴스턴.jpeg', '홍정욱.jpg']\n"
     ]
    }
   ],
   "source": [
    "dir_path = os.getenv('HOME')+'/aiffel/face_embedding/images'\n",
    "file_list = os.listdir(dir_path)\n",
    "\n",
    "print (\"file_list: {}\".format(file_list))"
   ]
  },
  {
   "cell_type": "code",
   "execution_count": 3,
   "id": "minute-fashion",
   "metadata": {},
   "outputs": [
    {
     "name": "stdout",
     "output_type": "stream",
     "text": [
      "('알프레드 히치콕', '.jpeg') : (600, 480)\n",
      "('이외수', '.jpeg') : (425, 563)\n",
      "('마틴스콜세지', '.jpg') : (268, 360)\n",
      "('송윤아', '.jpg') : (533, 761)\n",
      "('손종석', '.jpg') : (400, 472)\n",
      "('trump', '.jpg') : (416, 416)\n",
      "('이승환', '.png') : (709, 570)\n",
      "('틸다스윈튼', '.jpg') : (800, 534)\n",
      "('배성재', '.jpg') : (745, 745)\n",
      "('reagan', '.jpg') : (2399, 3000)\n",
      "('이건희', '.jpeg') : (590, 590)\n",
      "('차인표', '.png') : (361, 570)\n",
      "('제임스 딘', '.jpeg') : (600, 480)\n",
      "('biden', '.jpg') : (1474, 1898)\n",
      "('박미경', '.jpg') : (4032, 3024)\n",
      "('김수미', '.jpeg') : (355, 544)\n",
      "('obama', '.jpg') : (1280, 720)\n",
      "('이영애', '.jpg') : (745, 931)\n",
      "('박원순', '.jpg') : (400, 358)\n",
      "('강호동', '.jpeg') : (314, 453)\n",
      "('김혜자', '.jpeg') : (425, 563)\n",
      "('히스 레저', '.jpeg') : (600, 480)\n",
      "('남보원', '.jpg') : (400, 258)\n",
      "('이병헌', '.jpg') : (745, 887)\n",
      "('문지윤', '.jpg') : (400, 437)\n",
      "('김준현', '.png') : (574, 440)\n",
      "('강남', '.png') : (900, 1021)\n",
      "('성룡', '.jpg') : (387, 500)\n",
      "('노무현', '.jpg') : (342, 512)\n",
      "('푸틴', '.jpeg') : (300, 168)\n",
      "('폴워커', '.jpeg') : (600, 480)\n",
      "('문재인', '.jpeg') : (275, 183)\n",
      "('존 웨인', '.jpeg') : (600, 480)\n",
      "('아담멕케인', '.jpg') : (640, 360)\n",
      "('이정재', '.jpeg') : (275, 183)\n",
      "('조안 크로포드', '.jpeg') : (600, 480)\n",
      "('마이클 잭슨', '.jpeg') : (600, 480)\n",
      "('오인혜', '.jpg') : (400, 577)\n",
      "('복길이', '.jpeg') : (394, 538)\n",
      "('존 레논', '.jpeg') : (600, 480)\n",
      "('크리스락', '.jpg') : (800, 400)\n",
      "('clinton', '.jpeg') : (196, 257)\n",
      "('강동원', '.jpg') : (532, 772)\n",
      "('토마스에디슨', '.jpg') : (1000, 750)\n",
      "('스티브 잡스', '.jpeg') : (600, 480)\n",
      "('대성', '.jpeg') : (238, 350)\n",
      "('유시민', '.jpeg') : (214, 235)\n",
      "('브루노 마스', '.png') : (773, 960)\n",
      "('박성웅', '.png') : (800, 557)\n",
      "('빌게이츠', '.jpeg') : (274, 184)\n",
      "('양희은', '.jpeg') : (394, 538)\n",
      "('마이클조던', '.jpg') : (559, 420)\n",
      "('안성기', '.png') : (378, 490)\n",
      "('브래드피트', '.jpg') : (800, 450)\n",
      "('bush', '.jpeg') : (2267, 3000)\n",
      "('조국', '.jpg') : (647, 493)\n",
      "('자니윤', '.jpg') : (360, 502)\n",
      "('lyb1', '.jpg') : (2944, 2208)\n",
      "('엄홍길', '.png') : (505, 437)\n",
      "('토드필립스', '.jpg') : (556, 512)\n",
      "('에드가라이트', '.jpg') : (650, 325)\n",
      "('lyb2', '.jpg') : (2944, 2208)\n",
      "('이세돌', '.jpg') : (564, 851)\n",
      "('일론머스크', '.jpg') : (800, 451)\n",
      "('레오나르도 디카프리오', '.jpg') : (800, 420)\n",
      "('최불암', '.jpeg') : (297, 380)\n",
      "('넬슨만델라', '.jpg') : (600, 304)\n",
      "('투팍', '.jpeg') : (600, 480)\n",
      "('김흥석', '.jpg') : (384, 428)\n",
      "('휘트니 휴스턴', '.jpeg') : (600, 480)\n",
      "('홍정욱', '.jpg') : (500, 339)\n"
     ]
    }
   ],
   "source": [
    "# 이미지 크기 확인\n",
    "from PIL import Image\n",
    "\n",
    "for file_name in file_list:\n",
    "    image_file = os.path.join(dir_path, file_name)\n",
    "    image = Image.open(image_file)\n",
    "    print(os.path.splitext(file_name)[:], \":\" ,image.size)\n"
   ]
  },
  {
   "cell_type": "markdown",
   "id": "continuing-gothic",
   "metadata": {},
   "source": [
    "* 내가 찍은 사진의 크기는 **(2944, 2208)** 으로 세로로 찍었지만 가로로 긴 사진으로 인식되어 얼굴 영역만 잘라내는 곳에서 **`IndexError: list index out of range`** 에러 메세지가 나왔다.\n",
    "* **bush**의 사진 크기는 **(2267, 3000)** 으로 내 사진의 크기보다 크지만 정상적으로 얼굴 영역만 잘라내었다.\n",
    "* 내가 찍은 사진으로 얼굴 영역을 검출할 수 없없던 이유는 사진이 90도 회전되어 있는 것으로 인식하기 때문이라 생각된다.\n",
    "* PIL 라이브러리에서 size 속성은 (width, height) 내보낸다.  "
   ]
  },
  {
   "cell_type": "code",
   "execution_count": 4,
   "id": "respiratory-fishing",
   "metadata": {},
   "outputs": [],
   "source": [
    "# # 내 사진 90도 회전\n",
    "# from PIL import Image\n",
    "\n",
    "# # 이미지 파일 경로\n",
    "# file_path1 = os.getenv('HOME')+'/aiffel/face_embedding/images/lyb1.jpg' \n",
    "# file_path2 = os.getenv('HOME')+'/aiffel/face_embedding/images/lyb2.jpg'\n",
    "\n",
    "# # 이미지 파일 읽기\n",
    "# image1 = Image.open(file_path1)\n",
    "# image2 = Image.open(file_path2)\n",
    "\n",
    "# # 이미지 90도 회전\n",
    "# image1 = image1.rotate(90, resample=0, expand=0)  \n",
    "# image2 = image2.rotate(90, resample=0, expand=0)\n",
    "\n",
    "# # 이미지 저장\n",
    "# image1.save(file_path1)\n",
    "# image2.save(file_path2)"
   ]
  },
  {
   "cell_type": "markdown",
   "id": "solved-wealth",
   "metadata": {},
   "source": [
    "### Step1-2. 얼굴 영역만 추출"
   ]
  },
  {
   "cell_type": "code",
   "execution_count": 5,
   "id": "thirty-harvey",
   "metadata": {},
   "outputs": [],
   "source": [
    "# 얼굴 영역만 추출하는 함수\n",
    "def get_cropped_face(image_file):\n",
    "    image = face_recognition.load_image_file(image_file)\n",
    "    face_locations = face_recognition.face_locations(image)   # 이미지에서 얼굴 영역의 좌표\n",
    "    a, b, c, d = face_locations[0]\n",
    "    cropped_face = image[a:c,d:b,:]    # [W,  H,  C]\n",
    "\n",
    "    return cropped_face    # 이미지에서 얼굴영역만 잘라낸 cropped_face를 그려 봅니다."
   ]
  },
  {
   "cell_type": "code",
   "execution_count": 6,
   "id": "potential-glossary",
   "metadata": {},
   "outputs": [
    {
     "data": {
      "text/plain": [
       "<matplotlib.image.AxesImage at 0x7f1e30b705d0>"
      ]
     },
     "execution_count": 6,
     "metadata": {},
     "output_type": "execute_result"
    },
    {
     "data": {
      "image/png": "[encoded data removed]",
      "text/plain": [
       "<Figure size 432x288 with 1 Axes>"
      ]
     },
     "metadata": {
      "needs_background": "light"
     },
     "output_type": "display_data"
    }
   ],
   "source": [
    "# 추출된 얼굴 영역 출력하기\n",
    "image_path = os.getenv('HOME')+'/aiffel/face_embedding/images/lyb2.jpg'\n",
    "\n",
    "cropped_face = get_cropped_face(image_path)\n",
    "\n",
    "plt.imshow(cropped_face)"
   ]
  },
  {
   "cell_type": "markdown",
   "id": "coupled-modem",
   "metadata": {},
   "source": [
    "### Step1-3. 얼굴 임베딩 벡터 구하기"
   ]
  },
  {
   "cell_type": "code",
   "execution_count": 7,
   "id": "guilty-theology",
   "metadata": {},
   "outputs": [
    {
     "name": "stdout",
     "output_type": "stream",
     "text": [
      "얼굴 임베딩 벡터의 차원수 :  128\n"
     ]
    }
   ],
   "source": [
    "# 이미지 파일이 있는 디렉토리\n",
    "image_file = os.path.join(dir_path, 'lyb2.jpg')\n",
    "\n",
    "# 얼굴 영역을 구하는 함수\n",
    "face = get_cropped_face(image_file)   \n",
    "\n",
    "# 얼굴 영역을 가지고 얼굴 임베딩 벡터를 구하는 함수\n",
    "def get_face_embedding(face):\n",
    "    return face_recognition.face_encodings(face)\n",
    "\n",
    "# 얼굴 임베딩\n",
    "embedding = get_face_embedding(face)  \n",
    "print(\"얼굴 임베딩 벡터의 차원수 : \", len(embedding[0]))"
   ]
  },
  {
   "cell_type": "code",
   "execution_count": 8,
   "id": "stopped-southwest",
   "metadata": {},
   "outputs": [],
   "source": [
    "# 디렉토리 안에 있는 모든 이미지의 임베딩 딕셔너리를 구하는 함수\n",
    "def get_face_embedding_dict(dir_path):\n",
    "    file_list = os.listdir(dir_path)\n",
    "    embedding_dict = {}\n",
    "    \n",
    "    for file in file_list:\n",
    "        image_file = os.path.join(dir_path, file)\n",
    "        \n",
    "        # 얼굴 영역 추출\n",
    "        try:\n",
    "            face = get_cropped_face(image_file)\n",
    "        except:\n",
    "            print('얼굴 영역 추출 실패 :',file)\n",
    "            \n",
    "        # 얼굴 영역을 가지고 얼굴 임베딩 벡터를 구하기    \n",
    "        embedding = get_face_embedding(face)\n",
    "        \n",
    "        # 얼굴영역 face가 제대로 detect되지 않으면  len(embedding)==0인 경우가 발생하므로 \n",
    "        if len(embedding) > 0:\n",
    "          # os.path.splitext(file)[0]에는 이미지파일명에서 확장자를 제거한 이름이 저장됨\n",
    "          embedding_dict[os.path.splitext(file)[0]] = embedding[0]\n",
    "\n",
    "    return embedding_dict"
   ]
  },
  {
   "cell_type": "code",
   "execution_count": 9,
   "id": "global-swiss",
   "metadata": {},
   "outputs": [
    {
     "name": "stdout",
     "output_type": "stream",
     "text": [
      "얼굴 영역 추출 실패 : 마틴스콜세지.jpg\n",
      "얼굴 영역 추출 실패 : 마이클 잭슨.jpeg\n"
     ]
    },
    {
     "data": {
      "text/plain": [
       "array([-0.07472955,  0.14495206,  0.07197338,  0.00565098, -0.10789295,\n",
       "       -0.0577328 ,  0.00719547, -0.18901891,  0.09786301, -0.11230215,\n",
       "        0.26764837, -0.05756923, -0.20892808, -0.12611972, -0.03221866,\n",
       "        0.21376054, -0.15356231, -0.14328711, -0.11590706,  0.00202465,\n",
       "        0.06259555,  0.01535422,  0.03200838, -0.04187198,  0.01837113,\n",
       "       -0.31502143, -0.08327436, -0.07905678,  0.06824401, -0.03780383,\n",
       "       -0.02315703,  0.01241226, -0.18303889, -0.09948052,  0.0566706 ,\n",
       "        0.05245492, -0.07641296, -0.07510468,  0.16702604, -0.03858257,\n",
       "       -0.19303875,  0.04463171,  0.0575667 ,  0.22183055,  0.20799927,\n",
       "        0.03404779,  0.04442105, -0.20926312,  0.13815248, -0.16250329,\n",
       "       -0.00448587,  0.12437095,  0.10937277,  0.06065794,  0.04190353,\n",
       "       -0.09758815,  0.06953602,  0.08028696, -0.142369  , -0.01286593,\n",
       "        0.17823984, -0.06552548, -0.08843804, -0.08743275,  0.24019201,\n",
       "        0.012579  , -0.11796369, -0.17264892,  0.10873839, -0.14109941,\n",
       "       -0.11978716,  0.00095229, -0.14756872, -0.12631947, -0.30186427,\n",
       "        0.00523183,  0.40739724,  0.06678031, -0.18753925,  0.0799583 ,\n",
       "       -0.05361584,  0.03730684,  0.10641723,  0.16071992, -0.02695834,\n",
       "       -0.00332517, -0.10361178, -0.05261196,  0.18224193, -0.12671109,\n",
       "        0.00513112,  0.20577818, -0.02429273,  0.0463284 ,  0.01978788,\n",
       "       -0.03203864, -0.05610723,  0.02199833, -0.11770906, -0.04684228,\n",
       "        0.02223561, -0.06691912, -0.01072961,  0.07884289, -0.14062497,\n",
       "        0.11628632, -0.05237988,  0.10440246,  0.05840551, -0.10160233,\n",
       "       -0.07165553, -0.04037679,  0.10241369, -0.19248269,  0.22265744,\n",
       "        0.16211519,  0.01031291,  0.06692487,  0.15657867,  0.12184229,\n",
       "       -0.01335664,  0.04169137, -0.22994393, -0.05425652,  0.09230151,\n",
       "       -0.01620498,  0.03191737, -0.0147045 ])"
      ]
     },
     "execution_count": 9,
     "metadata": {},
     "output_type": "execute_result"
    }
   ],
   "source": [
    "# get_face_embedding_dict() 함수가 잘 만들어졌는지 확인\n",
    "embedding_dict = get_face_embedding_dict(dir_path)\n",
    "\n",
    "# 이미지의 임베딩 딕셔너리에서 key='lyb2'에 대한 value 값 출력\n",
    "embedding_dict['lyb2']"
   ]
  },
  {
   "cell_type": "markdown",
   "id": "accredited-extra",
   "metadata": {},
   "source": [
    "### Step1-4. 내 사진들끼리의 얼굴 임베딩 벡터 거리 구하기"
   ]
  },
  {
   "cell_type": "code",
   "execution_count": 10,
   "id": "united-stage",
   "metadata": {},
   "outputs": [
    {
     "data": {
      "text/plain": [
       "0.2896676012354616"
      ]
     },
     "execution_count": 10,
     "metadata": {},
     "output_type": "execute_result"
    }
   ],
   "source": [
    "# 두 임베딩 벡터 간의 거리를 계산하는 함수\n",
    "import numpy as np\n",
    "\n",
    "def get_distance(name1, name2):\n",
    "    return np.linalg.norm(embedding_dict[name1]-embedding_dict[name2], ord=2)\n",
    "\n",
    "get_distance('lyb1', 'lyb2')"
   ]
  },
  {
   "cell_type": "markdown",
   "id": "spiritual-harvey",
   "metadata": {},
   "source": [
    "* 내 사진들끼리의 거리가 약 0.29 정도로 가깝게 나왔다.    \n",
    "* 닮았음을 확인할 수 있는 좋은 베이스라인이 될 수 있습니다."
   ]
  },
  {
   "cell_type": "markdown",
   "id": "directed-advancement",
   "metadata": {},
   "source": [
    "## Step2. 얼굴 영역 자르기\n",
    "임베딩 추출을 위해서는 얼굴 영역을 잘라줘야 합니다. 위 Step1.에서 찾은 이미지들을 이전에 만들었던 get_cropped_face(image_file)을 통해서 잘라줍시다! 자른 이미지는 PIL의 Image.fromarray를 통해서 PIL Image로 변환한 뒤에 저장을 해두면 다양한 재미있는 시각화를 시도해 보는 데 도움이 될 것입니다.\n",
    "```Python\n",
    "#    힌트\n",
    "#    from PIL import Image\n",
    "#    face = get_cropped_face(image_path)\n",
    "#    pillow_image = Image.fromarray(face)\n",
    "#    pillow_image.save(path_to_save)\n",
    "```"
   ]
  },
  {
   "cell_type": "code",
   "execution_count": 11,
   "id": "cognitive-grammar",
   "metadata": {},
   "outputs": [
    {
     "name": "stdout",
     "output_type": "stream",
     "text": [
      "얼굴 영역 추출 실패 : 마틴스콜세지.jpg\n",
      "얼굴 영역 추출 실패 : 마이클 잭슨.jpeg\n",
      "얼굴 영역 추출한 이미지 개수 : 69\n"
     ]
    }
   ],
   "source": [
    "from PIL import Image\n",
    "\n",
    "# 얼굴 영역 자른 모든 이미지 디렉토리에 저장\n",
    "def get_face_cropped_image(dir_path, path_to_save):\n",
    "    file_list = os.listdir(dir_path)\n",
    "    cnt = 0\n",
    "    \n",
    "    for file in file_list:\n",
    "        # 이미지 파일 경로\n",
    "        image_file = os.path.join(dir_path, file)\n",
    "        \n",
    "        # 얼굴 영역 추출\n",
    "        try:\n",
    "            face = get_cropped_face(image_file)\n",
    "            cnt += 1\n",
    "        except:\n",
    "            print('얼굴 영역 추출 실패 :',file)\n",
    "            \n",
    "        # 넘파이 배열을 이미지로 변환\n",
    "        pillow_image = Image.fromarray(face)\n",
    "        \n",
    "        # 이미지 저장\n",
    "        file_path = os.path.join(path_to_save, file) \n",
    "        pillow_image.save(file_path)\n",
    "        \n",
    "    print('얼굴 영역 추출한 이미지 개수 :', cnt)\n",
    "\n",
    "    return \n",
    "\n",
    "# 저장 경로\n",
    "save_path = os.getenv('HOME')+'/aiffel/face_embedding/cropped_images'\n",
    "# save_path = dir_path + '/cropped_images'  # 에러 발생\n",
    "\n",
    "# 저장 경로에 폴더 없으면 생성\n",
    "if not os.path.exists(save_path):\n",
    "  os.mkdir(save_path)\n",
    "\n",
    "get_face_cropped_image(dir_path, save_path)"
   ]
  },
  {
   "cell_type": "markdown",
   "id": "grand-doubt",
   "metadata": {},
   "source": [
    "* 모든 이미지에 대해서 얼굴 영역 추출하는 것이 성공하는 것은 아니었다.\n",
    "* 영역 추출에 실패하는 이미지에 대해서 **`try ~ except`** 구문을 이용하여 에러 문제를 해결하였다.\n",
    "* 저장 경로는 이미지가 있는 폴더에 내에 생성하면 에러가 발생하는 문제는 다른 위치에 폴더를 만들어 해결하했다."
   ]
  },
  {
   "cell_type": "markdown",
   "id": "christian-spray",
   "metadata": {},
   "source": [
    "## Step3. 얼굴 영역의 임베딩 추출하기\n",
    "이제 얼굴 영역으로 잘린 이미지들이 여럿 생겼을 텐데요. 그 이미지를 **face_recognition** 을 사용해서 이미지를 불러오고 임베딩을 추출해 봅시다. 다른 사람의 임베딩은 구분할 수 있게 따로 저장해 주세요. 이전에 만들었던 다음 함수들을 활용하면 손쉽게 수행 가능합니다.\n",
    "\n",
    "* **def get_face_embedding(face)** : 얼굴영역으로부터 얼굴 임베딩 벡터를 구하는 함수\n",
    "* **def get_face_embedding_dict(dir_path)** : 디렉토리 안에 있는 모든 이미지의 임베딩 딕셔너리를 구하는 함수\n"
   ]
  },
  {
   "cell_type": "code",
   "execution_count": 12,
   "id": "broadband-extent",
   "metadata": {},
   "outputs": [],
   "source": [
    "# 얼굴 영역을 가지고 얼굴 임베딩 벡터를 구하는 함수\n",
    "def get_face_embedding(face):\n",
    "    return face_recognition.face_encodings(face)"
   ]
  },
  {
   "cell_type": "code",
   "execution_count": 13,
   "id": "declared-rainbow",
   "metadata": {},
   "outputs": [],
   "source": [
    "# 디렉토리 안에 있는 모든 이미지의 임베딩 딕셔너리를 구하는 함수\n",
    "def get_face_embedding_dict(dir_path):\n",
    "    file_list = os.listdir(dir_path)\n",
    "    embedding_dict = {}\n",
    "    \n",
    "    for file in file_list:\n",
    "        image_file = os.path.join(dir_path, file)\n",
    "        \n",
    "        # 얼굴 영역 추출\n",
    "        try:\n",
    "            face = get_cropped_face(image_file)\n",
    "        except:\n",
    "            print('얼굴 영역 추출 실패 :',file)\n",
    "            \n",
    "        # 얼굴 영역을 가지고 얼굴 임베딩 벡터를 구하기    \n",
    "        embedding = get_face_embedding(face)\n",
    "        \n",
    "        # 얼굴영역 face가 제대로 detect되지 않으면  len(embedding)==0인 경우가 발생하므로 \n",
    "        if len(embedding) > 0:\n",
    "          # os.path.splitext(file)[0]에는 이미지파일명에서 확장자를 제거한 이름이 저장됨\n",
    "          embedding_dict[os.path.splitext(file)[0]] = embedding[0]\n",
    "\n",
    "    return embedding_dict"
   ]
  },
  {
   "cell_type": "markdown",
   "id": "coated-joyce",
   "metadata": {},
   "source": [
    "## Step4. 모은 연예인들과 비교하기\n",
    "모은 연예인 사진들과 자신의 얼굴 사진에서 추출한 임베딩 벡터들 간의 거리를 비교해 보고 가장 작은 연예인이 누구인지 찾아봅시다!\n",
    "\n",
    "이전 스텝에서 만들었던 **get_nearest_face(name, top=5)** 함수들을 응용하면 손쉽게 수행 가능합니다."
   ]
  },
  {
   "cell_type": "code",
   "execution_count": 14,
   "id": "indie-tobacco",
   "metadata": {},
   "outputs": [],
   "source": [
    "# 두 임베딩 벡터 간의 거리를 계산하는 함수\n",
    "import numpy as np\n",
    "\n",
    "def get_distance(name1, name2):\n",
    "    return np.linalg.norm(embedding_dict[name1]-embedding_dict[name2], ord=2)"
   ]
  },
  {
   "cell_type": "code",
   "execution_count": 15,
   "id": "south-airplane",
   "metadata": {},
   "outputs": [],
   "source": [
    "# 미리 지정한 name1과 호출한 name2의 거리를 비교하는 함수 \n",
    "def get_distance_benchmark(name1):\n",
    "    def get_distance_from_name1(name2):\n",
    "        return get_distance(name1, name2)\n",
    "    return get_distance_from_name1"
   ]
  },
  {
   "cell_type": "code",
   "execution_count": 20,
   "id": "fifteen-upgrade",
   "metadata": {},
   "outputs": [],
   "source": [
    "# 입력받은 얼굴을 기준으로 가장 닯은 5명의 얼굴 출력하는 함수\n",
    "def get_nearest_face(name, top=5):\n",
    "    distance_benchmark = get_distance_benchmark(name)\n",
    "    sorted_faces = sorted(embedding_dict.items(), key=lambda x: distance_benchmark(x[0]))\n",
    "\n",
    "    for i in range(top+1):\n",
    "        if i == 0 :   # 첫번째로 나오는 이름은 자기 자신일 것이므로 제외 \n",
    "            continue\n",
    "        if sorted_faces[i]:\n",
    "            print(f'순위 {i} : 이름({sorted_faces[i][0]}), 거리({distance_benchmark(sorted_faces[i][0])})')"
   ]
  },
  {
   "cell_type": "code",
   "execution_count": 35,
   "id": "proprietary-socket",
   "metadata": {},
   "outputs": [
    {
     "name": "stdout",
     "output_type": "stream",
     "text": [
      "순위 1 : 이름(lyb1), 거리(0.2896676012354616)\n",
      "순위 2 : 이름(노무현), 거리(0.42639428963007087)\n",
      "순위 3 : 이름(김준현), 거리(0.43360131423443954)\n",
      "순위 4 : 이름(이세돌), 거리(0.4358434941556192)\n",
      "순위 5 : 이름(문재인), 거리(0.4420336916764428)\n"
     ]
    }
   ],
   "source": [
    "# 나(lyb2)와 가장 닮은 사람은 누굴까?\n",
    "resemblance_face = get_nearest_face('lyb2')"
   ]
  },
  {
   "cell_type": "markdown",
   "id": "municipal-virgin",
   "metadata": {},
   "source": [
    "### Step4-1. 닮은 사람얼굴 데이터프레임 만들기"
   ]
  },
  {
   "cell_type": "code",
   "execution_count": 55,
   "id": "fifty-parade",
   "metadata": {},
   "outputs": [],
   "source": [
    "import pandas as pd\n",
    "\n",
    "# 입력받은 얼굴을 기준으로 가장 닯은 5명의 얼굴 출력하는 함수\n",
    "def get_nearest_face(name, top=5):\n",
    "    distance_benchmark = get_distance_benchmark(name)\n",
    "    sorted_faces = sorted(embedding_dict.items(), key=lambda x: distance_benchmark(x[0]))\n",
    "\n",
    "    # 빈 DataFrame 생성하기\n",
    "    df = pd.DataFrame(columns=['순위', '이름', '거리'])\n",
    "\n",
    "    for i in range(top+1):\n",
    "        if i == 0 :   # 첫번째로 나오는 이름은 자기 자신일 것이므로 제외 \n",
    "            continue\n",
    "        if sorted_faces[i]:\n",
    "            # DataFrame에 특정 정보를 이용하여 data 채우기\n",
    "            df = df.append(pd.DataFrame([[i, sorted_faces[i][0], distance_benchmark(sorted_faces[i][0])]], columns=['순위', '이름', '거리']), ignore_index=True)\n",
    "    \n",
    "    return df"
   ]
  },
  {
   "cell_type": "code",
   "execution_count": 56,
   "id": "smooth-camel",
   "metadata": {},
   "outputs": [
    {
     "data": {
      "text/html": [
       "<div>\n",
       "<style scoped>\n",
       "    .dataframe tbody tr th:only-of-type {\n",
       "        vertical-align: middle;\n",
       "    }\n",
       "\n",
       "    .dataframe tbody tr th {\n",
       "        vertical-align: top;\n",
       "    }\n",
       "\n",
       "    .dataframe thead th {\n",
       "        text-align: right;\n",
       "    }\n",
       "</style>\n",
       "<table border=\"1\" class=\"dataframe\">\n",
       "  <thead>\n",
       "    <tr style=\"text-align: right;\">\n",
       "      <th></th>\n",
       "      <th>순위</th>\n",
       "      <th>이름</th>\n",
       "      <th>거리</th>\n",
       "    </tr>\n",
       "  </thead>\n",
       "  <tbody>\n",
       "    <tr>\n",
       "      <th>0</th>\n",
       "      <td>1</td>\n",
       "      <td>lyb1</td>\n",
       "      <td>0.289668</td>\n",
       "    </tr>\n",
       "    <tr>\n",
       "      <th>1</th>\n",
       "      <td>2</td>\n",
       "      <td>노무현</td>\n",
       "      <td>0.426394</td>\n",
       "    </tr>\n",
       "    <tr>\n",
       "      <th>2</th>\n",
       "      <td>3</td>\n",
       "      <td>김준현</td>\n",
       "      <td>0.433601</td>\n",
       "    </tr>\n",
       "    <tr>\n",
       "      <th>3</th>\n",
       "      <td>4</td>\n",
       "      <td>이세돌</td>\n",
       "      <td>0.435843</td>\n",
       "    </tr>\n",
       "    <tr>\n",
       "      <th>4</th>\n",
       "      <td>5</td>\n",
       "      <td>문재인</td>\n",
       "      <td>0.442034</td>\n",
       "    </tr>\n",
       "  </tbody>\n",
       "</table>\n",
       "</div>"
      ],
      "text/plain": [
       "  순위    이름        거리\n",
       "0  1  lyb1  0.289668\n",
       "1  2   노무현  0.426394\n",
       "2  3   김준현  0.433601\n",
       "3  4   이세돌  0.435843\n",
       "4  5   문재인  0.442034"
      ]
     },
     "execution_count": 56,
     "metadata": {},
     "output_type": "execute_result"
    }
   ],
   "source": [
    "# 나(lyb2)와 가장 닮은 사람은 누굴까?\n",
    "similar_face = get_nearest_face('lyb2')\n",
    "similar_face"
   ]
  },
  {
   "cell_type": "code",
   "execution_count": 69,
   "id": "grateful-international",
   "metadata": {},
   "outputs": [
    {
     "data": {
      "text/plain": [
       "('노무현', 0.42639428963007087)"
      ]
     },
     "execution_count": 69,
     "metadata": {},
     "output_type": "execute_result"
    }
   ],
   "source": [
    "sf = similar_face[[\"이름\", \"거리\"]].iloc[1]\n",
    "sf[0], sf[1]"
   ]
  },
  {
   "cell_type": "markdown",
   "id": "suspected-correspondence",
   "metadata": {},
   "source": [
    "**2. 비교할 연예인 사진 모으기**\n",
    "* 많이 모을수록 나와 더 닮은 연예인을 찾을 가능성이 높아질 것입니다.\n",
    "* 주위의 동료들과 모은 사진을 주고받는 것도 하나의 방법입니다."
   ]
  },
  {
   "cell_type": "markdown",
   "id": "middle-automation",
   "metadata": {},
   "source": [
    "## Step5. 다양한 재미있는 시각화 시도해 보기\n",
    "* 비단 닮은 꼴 연예인을 찾기만 할 것이 아니라, 그들의 얼굴 사진을 활용하여 재미있는 시각화를 시도해 보시기 바랍니다.  \n",
    "* tkinter나 flask를 활용해서 닮은꼴을 찾을 이미지를 업로드한 후 그 이미지와 닮은 얼굴을 찾는 형태로 구현해 보는 것도 재미있을 것입니다."
   ]
  },
  {
   "cell_type": "markdown",
   "id": "cardiovascular-garbage",
   "metadata": {},
   "source": [
    "## 회고\n",
    "1. 핸드폰으로 찍은 원본 이미지의 방향이 얼굴 영역을 검출하는 코드에서 `IndexError: list index out of range` 에러 메세지가 나왔다. 이미지의 방향을 돌린 후에 다시 코드를 수행하여 에러 문제 해결할 수 있었다.\n",
    "2. 핸드폰으로 찍은 이미지의 폭과 높이에 대한 정보가 아직도 이해를 할 수 없다. 왜 세로로 찍은 사진인데 폭의 치수가 높이의 치수보다 더 크게 나타나는지 알 수 없다.\n",
    "3. 내가 좋아하는 사람과 가장 많이 닮은 것으로 나와서 기분은 좋다."
   ]
  }
 ],
 "metadata": {
  "kernelspec": {
   "display_name": "aiffel",
   "language": "python",
   "name": "aiffel"
  },
  "language_info": {
   "codemirror_mode": {
    "name": "ipython",
    "version": 3
   },
   "file_extension": ".py",
   "mimetype": "text/x-python",
   "name": "python",
   "nbconvert_exporter": "python",
   "pygments_lexer": "ipython3",
   "version": "3.7.9"
  },
  "varInspector": {
   "cols": {
    "lenName": 16,
    "lenType": 16,
    "lenVar": 40
   },
   "kernels_config": {
    "python": {
     "delete_cmd_postfix": "",
     "delete_cmd_prefix": "del ",
     "library": "var_list.py",
     "varRefreshCmd": "print(var_dic_list())"
    },
    "r": {
     "delete_cmd_postfix": ") ",
     "delete_cmd_prefix": "rm(",
     "library": "var_list.r",
     "varRefreshCmd": "cat(var_dic_list()) "
    }
   },
   "types_to_exclude": [
    "module",
    "function",
    "builtin_function_or_method",
    "instance",
    "_Feature"
   ],
   "window_display": false
  }
 },
 "nbformat": 4,
 "nbformat_minor": 5
}
