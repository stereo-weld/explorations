{
 "cells": [
  {
   "cell_type": "markdown",
   "id": "indirect-google",
   "metadata": {},
   "source": [
    "# 15. 프로젝트: 한국어 데이터로 챗봇 만들기\n",
    "\n",
    "영어로 만들었던 챗봇을 한국어 데이터로 바꿔서 훈련시켜봅시다.\n",
    "\n",
    "\n"
   ]
  },
  {
   "cell_type": "markdown",
   "id": "supposed-timeline",
   "metadata": {},
   "source": [
    "## 루브릭\n",
    "\n",
    "|평가문항|\t상세기준|\n",
    "|:-------|:-------|\n",
    "|1. 한국어 전처리를 통해 학습 데이터셋을 구축하였다.|**공백과 특수문자 처리, 토크나이징, 병렬데이터 구축**의 과정이 적절히 진행되었다.|\n",
    "|2. 트랜스포머 모델을 구현하여 **한국어 챗봇 모델 학습을 정상적으로 진행**하였다.|구현한 트랜스포머 모델이 한국어 병렬 데이터 학습 시 안정적으로 수렴하였다.|\n",
    "|3. 한국어 입력문장에 대해 **한국어로 답변하는 함수를 구현**하였다.|한국어 입력문장에 그럴듯한 한국어로 답변을 리턴하였다.|"
   ]
  },
  {
   "cell_type": "markdown",
   "id": "alpha-impression",
   "metadata": {},
   "source": [
    "## Step 1. 데이터 수집하기\n",
    "\n",
    "한국어 챗봇 데이터는 **송영숙님이 공개한 챗봇 데이터**를 사용합니다.\n",
    "\n",
    "이 데이터는 아래의 링크에서 다운로드할 수 있습니다.\n",
    "\n",
    "[songys/Chatbot_data](https://github.com/songys/Chatbot_data/blob/master/ChatbotData%20.csv)\n",
    "\n",
    "`wget으로 데이터 다운로드`\n",
    "` wget https://github.com/songys/Chatbot_data/raw/master/ChatbotData%20.csv`"
   ]
  },
  {
   "cell_type": "markdown",
   "id": "associate-italic",
   "metadata": {},
   "source": [
    "### 패키지 가져오기"
   ]
  },
  {
   "cell_type": "code",
   "execution_count": 1,
   "id": "surface-florist",
   "metadata": {},
   "outputs": [],
   "source": [
    "# 필요한 패키지 가져오기\n",
    "import tensorflow as tf\n",
    "import tensorflow_datasets as tfds\n",
    "import os\n",
    "import re\n",
    "import numpy as np\n",
    "import pandas as pd\n",
    "import matplotlib.pyplot as plt"
   ]
  },
  {
   "cell_type": "markdown",
   "id": "addressed-lottery",
   "metadata": {},
   "source": [
    "### 챗봇의 데이터 받아오기"
   ]
  },
  {
   "cell_type": "code",
   "execution_count": 2,
   "id": "ranging-concentrate",
   "metadata": {},
   "outputs": [
    {
     "data": {
      "text/html": [
       "<div>\n",
       "<style scoped>\n",
       "    .dataframe tbody tr th:only-of-type {\n",
       "        vertical-align: middle;\n",
       "    }\n",
       "\n",
       "    .dataframe tbody tr th {\n",
       "        vertical-align: top;\n",
       "    }\n",
       "\n",
       "    .dataframe thead th {\n",
       "        text-align: right;\n",
       "    }\n",
       "</style>\n",
       "<table border=\"1\" class=\"dataframe\">\n",
       "  <thead>\n",
       "    <tr style=\"text-align: right;\">\n",
       "      <th></th>\n",
       "      <th>Q</th>\n",
       "      <th>A</th>\n",
       "      <th>label</th>\n",
       "    </tr>\n",
       "  </thead>\n",
       "  <tbody>\n",
       "    <tr>\n",
       "      <th>0</th>\n",
       "      <td>12시 땡!</td>\n",
       "      <td>하루가 또 가네요.</td>\n",
       "      <td>0</td>\n",
       "    </tr>\n",
       "    <tr>\n",
       "      <th>1</th>\n",
       "      <td>1지망 학교 떨어졌어</td>\n",
       "      <td>위로해 드립니다.</td>\n",
       "      <td>0</td>\n",
       "    </tr>\n",
       "    <tr>\n",
       "      <th>2</th>\n",
       "      <td>3박4일 놀러가고 싶다</td>\n",
       "      <td>여행은 언제나 좋죠.</td>\n",
       "      <td>0</td>\n",
       "    </tr>\n",
       "    <tr>\n",
       "      <th>3</th>\n",
       "      <td>3박4일 정도 놀러가고 싶다</td>\n",
       "      <td>여행은 언제나 좋죠.</td>\n",
       "      <td>0</td>\n",
       "    </tr>\n",
       "    <tr>\n",
       "      <th>4</th>\n",
       "      <td>PPL 심하네</td>\n",
       "      <td>눈살이 찌푸려지죠.</td>\n",
       "      <td>0</td>\n",
       "    </tr>\n",
       "    <tr>\n",
       "      <th>...</th>\n",
       "      <td>...</td>\n",
       "      <td>...</td>\n",
       "      <td>...</td>\n",
       "    </tr>\n",
       "    <tr>\n",
       "      <th>11818</th>\n",
       "      <td>훔쳐보는 것도 눈치 보임.</td>\n",
       "      <td>티가 나니까 눈치가 보이는 거죠!</td>\n",
       "      <td>2</td>\n",
       "    </tr>\n",
       "    <tr>\n",
       "      <th>11819</th>\n",
       "      <td>훔쳐보는 것도 눈치 보임.</td>\n",
       "      <td>훔쳐보는 거 티나나봐요.</td>\n",
       "      <td>2</td>\n",
       "    </tr>\n",
       "    <tr>\n",
       "      <th>11820</th>\n",
       "      <td>흑기사 해주는 짝남.</td>\n",
       "      <td>설렜겠어요.</td>\n",
       "      <td>2</td>\n",
       "    </tr>\n",
       "    <tr>\n",
       "      <th>11821</th>\n",
       "      <td>힘든 연애 좋은 연애라는게 무슨 차이일까?</td>\n",
       "      <td>잘 헤어질 수 있는 사이 여부인 거 같아요.</td>\n",
       "      <td>2</td>\n",
       "    </tr>\n",
       "    <tr>\n",
       "      <th>11822</th>\n",
       "      <td>힘들어서 결혼할까봐</td>\n",
       "      <td>도피성 결혼은 하지 않길 바라요.</td>\n",
       "      <td>2</td>\n",
       "    </tr>\n",
       "  </tbody>\n",
       "</table>\n",
       "<p>11823 rows × 3 columns</p>\n",
       "</div>"
      ],
      "text/plain": [
       "                             Q                         A  label\n",
       "0                       12시 땡!                하루가 또 가네요.      0\n",
       "1                  1지망 학교 떨어졌어                 위로해 드립니다.      0\n",
       "2                 3박4일 놀러가고 싶다               여행은 언제나 좋죠.      0\n",
       "3              3박4일 정도 놀러가고 싶다               여행은 언제나 좋죠.      0\n",
       "4                      PPL 심하네                눈살이 찌푸려지죠.      0\n",
       "...                        ...                       ...    ...\n",
       "11818           훔쳐보는 것도 눈치 보임.        티가 나니까 눈치가 보이는 거죠!      2\n",
       "11819           훔쳐보는 것도 눈치 보임.             훔쳐보는 거 티나나봐요.      2\n",
       "11820              흑기사 해주는 짝남.                    설렜겠어요.      2\n",
       "11821  힘든 연애 좋은 연애라는게 무슨 차이일까?  잘 헤어질 수 있는 사이 여부인 거 같아요.      2\n",
       "11822               힘들어서 결혼할까봐        도피성 결혼은 하지 않길 바라요.      2\n",
       "\n",
       "[11823 rows x 3 columns]"
      ]
     },
     "execution_count": 2,
     "metadata": {},
     "output_type": "execute_result"
    }
   ],
   "source": [
    "# 챗봇의 데이터 받아오기\n",
    "path_to_folder = os.getenv(\"HOME\")+\"/aiffel/songys_chatbot/\"\n",
    "\n",
    "path_to_data = os.path.join(path_to_folder, 'ChatbotData.csv')\n",
    "\n",
    "chatbot = pd.read_csv(path_to_data)\n",
    "chatbot"
   ]
  },
  {
   "cell_type": "markdown",
   "id": "terminal-basement",
   "metadata": {},
   "source": [
    "### Data description.\n",
    "\n",
    "[인공데이터](https://github.com/songys/Chatbot_data)입니다.  \n",
    "**일부 이별과 관련된 질문**에서 \n",
    "  - 다음카페 \"사랑보다 아름다운 실연( http://cafe116.daum.net/_c21_/home?grpid=1bld )\"에서 \n",
    "  - 자주 나오는 이야기들을 참고하여 제작하였습니다.   \n",
    "  - 가령 \"이별한 지 열흘(또는 100일) 되었어요\"라는 질문에 \n",
    "    - **챗봇이 위로한다는 취지로 답변을 작성**하였습니다.\n",
    "\n",
    "1. 챗봇 트레이닝용 **문답 페어 11,876개**\n",
    "2. 일상다반서 0, 이별(부정) 1, 사랑(긍정) 2로 레이블링"
   ]
  },
  {
   "cell_type": "markdown",
   "id": "spare-association",
   "metadata": {},
   "source": [
    "송영숙님의 데이터 설명서(Data description)에서는 문답 페어가 11,876개라고 했는데 chatbot 데이터의 shape는 (11823, 3)으로 53개의 데이터가 모자란다.  \n",
    "챗봇 데이터가 그 사이에 수정되었을까?"
   ]
  },
  {
   "cell_type": "markdown",
   "id": "unavailable-eagle",
   "metadata": {},
   "source": [
    "## Step 2. 데이터 전처리하기\n",
    "\n",
    "영어 데이터와는 전혀 다른 데이터인 만큼 \n",
    "  - 영어 데이터에 사용했던 전처리와 일부 동일한 전처리도 필요하겠지만 \n",
    "  - **전체적으로는 다른 전처리를 수행**해야 할 수도 있습니다."
   ]
  },
  {
   "cell_type": "markdown",
   "id": "concerned-dragon",
   "metadata": {},
   "source": [
    "### 데이터 전처리"
   ]
  },
  {
   "cell_type": "code",
   "execution_count": 3,
   "id": "mathematical-password",
   "metadata": {},
   "outputs": [],
   "source": [
    "# 전처리 함수\n",
    "def preprocess_sentence(sentence):\n",
    "    sentence = sentence.lower().strip()\n",
    "  \n",
    "    # 단어와 구두점(punctuation) 사이의 거리를 만듭니다.\n",
    "    # 예를 들어서 \"하루가 또 가네요.\" => \"하루가 또 가네요 .\"와 같이\n",
    "    # \"가네요\"와 온점 사이에 거리를 만듭니다.\n",
    "    sentence = re.sub(r\"([?.!,])\", r\" \\1 \", sentence)   # 4개의 구두점(! ? , .)이 있는 경우에 구두점 앞에 공백을 만듦\n",
    "    sentence = re.sub(r'[\" \"]+', \" \", sentence)         # 공백 1개 이상인 경우에 공백 1개로 만듦\n",
    "  \n",
    "    # (ㄱ-힣, a-z, A-Z, 0-9, \".\", \"?\", \"!\", \",\")를 제외한 모든 문자를 공백인 ' '로 대체합니다.\n",
    "    sentence = re.sub(r\"[^ㄱ-힣a-zA-Z0-9?.!,]+\", \" \", sentence)  \n",
    "    sentence = sentence.strip()\n",
    "    return sentence"
   ]
  },
  {
   "cell_type": "markdown",
   "id": "biblical-attribute",
   "metadata": {},
   "source": [
    "* 한국어 검출 : \"ㄱ~힣\"\n",
    "* 숫자 검출 : \"0~9\""
   ]
  },
  {
   "cell_type": "code",
   "execution_count": 4,
   "id": "dimensional-theorem",
   "metadata": {},
   "outputs": [
    {
     "name": "stdout",
     "output_type": "stream",
     "text": [
      "11823\n"
     ]
    }
   ],
   "source": [
    "# 사용할 샘플의 최대 개수 (챗봇 트레이닝용 문답 페어 갯수)\n",
    "MAX_SAMPLES = chatbot.shape[0]\n",
    "print(MAX_SAMPLES)"
   ]
  },
  {
   "cell_type": "markdown",
   "id": "injured-increase",
   "metadata": {},
   "source": [
    "* 데이터의 갯수가 충분이 크다면 학습시간을 고려하여 최대 갯수를 한정하겠지만 그렇지 않은 경우에는 데이터 전체를 학습에 사용한다."
   ]
  },
  {
   "cell_type": "code",
   "execution_count": 5,
   "id": "large-marshall",
   "metadata": {},
   "outputs": [
    {
     "name": "stdout",
     "output_type": "stream",
     "text": [
      "12시 땡!,하루가 또 가네요.,0\n",
      "\n",
      "1지망 학교 떨어졌어,위로해 드립니다.,0\n",
      "\n",
      "3박4일 놀러가고 싶다,여행은 언제나 좋죠.,0\n",
      "\n",
      "3박4일 정도 놀러가고 싶다,여행은 언제나 좋죠.,0\n",
      "\n"
     ]
    }
   ],
   "source": [
    "# 원본 데이터 5줄 확인\n",
    "def printLines(file, n=5):\n",
    "    with open(file, 'r') as datafile:\n",
    "        lines = datafile.readlines()\n",
    "    for line in lines[1:n]:\n",
    "        print(line)\n",
    "#         conversation = line.split(',')\n",
    "#         print(preprocess_sentence(conversation[0]))    # 1번째 컬럼(Q)\n",
    "#         print(preprocess_sentence(conversation[1]))    # 2번째 컬럼(A)\n",
    "#         print(preprocess_sentence(conversation[2]))    # 3번째 컬럼(Label)\n",
    "\n",
    "printLines(path_to_data)"
   ]
  },
  {
   "cell_type": "markdown",
   "id": "overhead-matrix",
   "metadata": {},
   "source": [
    "* 하나의 행의 데이터는 콤마(,)로 구분됨\n",
    "* 'rb' 옵션으로 파일을 열면, 하나의 행은 `\\r\\n` 으로 끝남\n",
    "  - `b'12\\xec\\x8b\\x9c \\xeb\\x95\\xa1!,\\xed\\x95\\x98\\xeb\\xa3\\xa8\\xea\\xb0\\x80 \\xeb\\x98\\x90 \\xea\\xb0\\x80\\xeb\\x84\\xa4\\xec\\x9a\\x94.,0\\r\\n'`"
   ]
  },
  {
   "cell_type": "markdown",
   "id": "gothic-arrow",
   "metadata": {},
   "source": [
    "### 데이터 쌍 만들기"
   ]
  },
  {
   "cell_type": "code",
   "execution_count": 6,
   "id": "corresponding-check",
   "metadata": {},
   "outputs": [],
   "source": [
    "# 질문과 답변의 쌍인 데이터셋을 구성하기 위한 데이터 로드 함수\n",
    "def load_conversations():\n",
    "  \n",
    "    inputs, outputs, labels = [], [], []\n",
    "    \n",
    "    with open(path_to_data, 'r') as file:\n",
    "        lines = file.readlines()\n",
    "  \n",
    "    for line in lines[1:]:\n",
    "        conversation = line.replace('\\r\\n', '').split(',')\n",
    "  \n",
    "        # 전처리 함수를 질문에 해당되는 inputs와 답변에 해당되는 outputs에 적용.\n",
    "        inputs.append(preprocess_sentence(conversation[0]))   # 1번째 컬럼(Q)\n",
    "        outputs.append(preprocess_sentence(conversation[1]))  # 2번째 컬럼(A)\n",
    "        labels.append(preprocess_sentence(conversation[2]))   # 3번째 컬럼(Label)\n",
    "\n",
    "        if len(inputs) >= MAX_SAMPLES:\n",
    "            return inputs, outputs, labels\n",
    "\n",
    "    return inputs, outputs, labels"
   ]
  },
  {
   "cell_type": "code",
   "execution_count": 7,
   "id": "presidential-channels",
   "metadata": {},
   "outputs": [],
   "source": [
    "# 데이터를 로드하고 전처리하여 질문을 questions, 답변을 answers에 저장\n",
    "questions, answers, labels = load_conversations()"
   ]
  },
  {
   "cell_type": "markdown",
   "id": "painted-electricity",
   "metadata": {},
   "source": [
    "### 어텐션\n",
    "\n",
    "#### 포지셔널 인코딩 레이어\n",
    "단어가 문장의 몇 번째 어순으로 입력되었는지를 모델에 추가로 알려 주기 위해 (위치 정보를 가진 백터)"
   ]
  },
  {
   "cell_type": "code",
   "execution_count": 8,
   "id": "timely-worthy",
   "metadata": {},
   "outputs": [],
   "source": [
    "# 포지셔널 인코딩 레이어 구하는 클래스\n",
    "class PositionalEncoding(tf.keras.layers.Layer):\n",
    "  \n",
    "    def __init__(self, position, d_model):\n",
    "        super(PositionalEncoding, self).__init__()\n",
    "        self.pos_encoding = self.positional_encoding(position, d_model)\n",
    "  \n",
    "    def get_angles(self, position, i, d_model):\n",
    "        angles = 1 / tf.pow(10000, (2 * (i // 2)) / tf.cast(d_model, tf.float32))\n",
    "        return position * angles\n",
    "  \n",
    "    def positional_encoding(self, position, d_model):\n",
    "        angle_rads = self.get_angles(\n",
    "            position=tf.range(position, dtype=tf.float32)[:, tf.newaxis],\n",
    "            i=tf.range(d_model, dtype=tf.float32)[tf.newaxis, :],\n",
    "            d_model=d_model)\n",
    "        # 배열의 짝수 인덱스에는 sin 함수 적용\n",
    "        sines = tf.math.sin(angle_rads[:, 0::2])\n",
    "        # 배열의 홀수 인덱스에는 cosine 함수 적용\n",
    "        cosines = tf.math.cos(angle_rads[:, 1::2])\n",
    "\n",
    "        pos_encoding = tf.concat([sines, cosines], axis=-1)\n",
    "        pos_encoding = pos_encoding[tf.newaxis, ...]\n",
    "        return tf.cast(pos_encoding, tf.float32)\n",
    "    \n",
    "    def call(self, inputs):\n",
    "        return inputs + self.pos_encoding[:, :tf.shape(inputs)[1], :]"
   ]
  },
  {
   "cell_type": "markdown",
   "id": "human-estonia",
   "metadata": {},
   "source": [
    "* tf.pow()\n",
    "* tf.cast()\n",
    "* tf.range()\n",
    "* tf.math.sin()\n",
    "* tf.math.cos()\n",
    "* tf.concat()\n",
    "* tf.newaxis"
   ]
  },
  {
   "cell_type": "markdown",
   "id": "academic-moderator",
   "metadata": {},
   "source": [
    "#### 스케일드 닷 프로덕트 어텐션\n",
    "\n",
    "단어들 간의 유사도를 구하는 함수"
   ]
  },
  {
   "cell_type": "code",
   "execution_count": 9,
   "id": "religious-strip",
   "metadata": {},
   "outputs": [],
   "source": [
    "# 스케일드 닷 프로덕트 어텐션 함수\n",
    "def scaled_dot_product_attention(query, key, value, mask):\n",
    "    \"\"\"어텐션 가중치를 계산.\"\"\"\n",
    "    matmul_qk = tf.matmul(query, key, transpose_b=True)\n",
    "  \n",
    "    # scale matmul_qk\n",
    "    depth = tf.cast(tf.shape(key)[-1], tf.float32)\n",
    "    logits = matmul_qk / tf.math.sqrt(depth)\n",
    "  \n",
    "    # add the mask to zero out padding tokens\n",
    "    if mask is not None:\n",
    "        logits += (mask * -1e9)\n",
    "  \n",
    "    # softmax is normalized on the last axis (seq_len_k)\n",
    "    attention_weights = tf.nn.softmax(logits, axis=-1)\n",
    "  \n",
    "    output = tf.matmul(attention_weights, value)\n",
    "  \n",
    "    return output"
   ]
  },
  {
   "cell_type": "markdown",
   "id": "difficult-ordinary",
   "metadata": {},
   "source": [
    "* tf.matmul()\n",
    "* tf.math.sqrt()"
   ]
  },
  {
   "cell_type": "markdown",
   "id": "north-clinic",
   "metadata": {},
   "source": [
    "#### 멀티 헤드 어텐션\n",
    "어텐션을 병렬로 수행하는 함수"
   ]
  },
  {
   "cell_type": "code",
   "execution_count": 10,
   "id": "vietnamese-oracle",
   "metadata": {},
   "outputs": [],
   "source": [
    "# 어텐션을 병렬로 수행하는 멀티 헤드 어텐션 함수\n",
    "class MultiHeadAttention(tf.keras.layers.Layer):\n",
    "    \n",
    "    def __init__(self, d_model, num_heads, name=\"multi_head_attention\"):\n",
    "        super(MultiHeadAttention, self).__init__(name=name)\n",
    "        self.num_heads = num_heads\n",
    "        self.d_model = d_model\n",
    "    \n",
    "        assert d_model % self.num_heads == 0\n",
    "    \n",
    "        self.depth = d_model // self.num_heads\n",
    "    \n",
    "        self.query_dense = tf.keras.layers.Dense(units=d_model)\n",
    "        self.key_dense = tf.keras.layers.Dense(units=d_model)\n",
    "        self.value_dense = tf.keras.layers.Dense(units=d_model)\n",
    "    \n",
    "        self.dense = tf.keras.layers.Dense(units=d_model)\n",
    "      \n",
    "    \n",
    "    def split_heads(self, inputs, batch_size):\n",
    "        inputs = tf.reshape(inputs, \n",
    "                            shape=(batch_size, -1, self.num_heads, self.depth))\n",
    "        return tf.transpose(inputs, perm=[0, 2, 1, 3])\n",
    "    \n",
    "  \n",
    "    def call(self, inputs):\n",
    "        query, key, value, mask = inputs['query'], inputs['key'], inputs[\n",
    "            'value'], inputs['mask']\n",
    "        batch_size = tf.shape(query)[0]\n",
    "    \n",
    "        # linear layers\n",
    "        query = self.query_dense(query)\n",
    "        key = self.key_dense(key)\n",
    "        value = self.value_dense(value)\n",
    "    \n",
    "        # 병렬 연산을 위한 머리를 여러 개 만듭니다.\n",
    "        query = self.split_heads(query, batch_size)\n",
    "        key = self.split_heads(key, batch_size)\n",
    "        value = self.split_heads(value, batch_size)\n",
    "    \n",
    "        # 스케일드 닷 프로덕트 어텐션 함수\n",
    "        scaled_attention = scaled_dot_product_attention(query, key, value, mask)\n",
    "    \n",
    "        scaled_attention = tf.transpose(scaled_attention, perm=[0, 2, 1, 3])\n",
    "    \n",
    "        # 어텐션 연산 후에 각 결과를 다시 연결(concatenate)합니다.\n",
    "        concat_attention = tf.reshape(scaled_attention,\n",
    "                                      (batch_size, -1, self.d_model))\n",
    "    \n",
    "        # final linear layer\n",
    "        outputs = self.dense(concat_attention)\n",
    "    \n",
    "        return outputs"
   ]
  },
  {
   "cell_type": "markdown",
   "id": "provincial-recipient",
   "metadata": {},
   "source": [
    "* tf.reshape()\n",
    "* tf.transpose()\n",
    "* self.split_heads()"
   ]
  },
  {
   "cell_type": "markdown",
   "id": "advance-liberal",
   "metadata": {},
   "source": [
    "### 마스킹 \n",
    "\n",
    "#### 패딩 마스킹"
   ]
  },
  {
   "cell_type": "code",
   "execution_count": 11,
   "id": "regulated-poison",
   "metadata": {},
   "outputs": [],
   "source": [
    "#  패딩 마스킹(Padding Masking)을 구현한 함수\n",
    "def create_padding_mask(x):\n",
    "    # 숫자 0인 위치 체크\n",
    "    mask = tf.cast(tf.math.equal(x, 0), tf.float32)\n",
    "    \n",
    "    # (batch_size, 1, 1, sequence length)\n",
    "    return mask[:, tf.newaxis, tf.newaxis, :]    # 숫자가 0인 부분을 체크한 벡터를 리턴"
   ]
  },
  {
   "cell_type": "markdown",
   "id": "relative-instrument",
   "metadata": {},
   "source": [
    "#### 룩 어헤드 마스킹\n",
    "자신보다 다음에 나올 단어를 참고하지 않도록 가리는 기법  \n",
    "Query 단어 뒤에 나오는 Key 단어들에 대해서는 마스킹"
   ]
  },
  {
   "cell_type": "code",
   "execution_count": 12,
   "id": "exotic-concentration",
   "metadata": {},
   "outputs": [],
   "source": [
    "# 룩 어헤드 마스킹(Look-ahead masking, 다음 단어 가리기)을 구현한 함수\n",
    "def create_look_ahead_mask(x):\n",
    "    seq_len = tf.shape(x)[1]\n",
    "    look_ahead_mask = 1 - tf.linalg.band_part(tf.ones((seq_len, seq_len)), -1, 0)\n",
    "    padding_mask = create_padding_mask(x)\n",
    "    \n",
    "    return tf.maximum(look_ahead_mask, padding_mask)"
   ]
  },
  {
   "cell_type": "markdown",
   "id": "rolled-gossip",
   "metadata": {},
   "source": [
    "* tf.linalg.band_part()\n",
    "* tf.ones()"
   ]
  },
  {
   "cell_type": "markdown",
   "id": "considerable-worship",
   "metadata": {},
   "source": [
    "### 인코더 & 디코더\n",
    "\n",
    "#### 인코더 하나의 레이어\n",
    "2개의 서브 층(sublayer) 으로 구성"
   ]
  },
  {
   "cell_type": "code",
   "execution_count": 13,
   "id": "super-zealand",
   "metadata": {},
   "outputs": [],
   "source": [
    "# 인코더 하나의 레이어를 구현한 함수\n",
    "def encoder_layer(units, d_model, num_heads, dropout, name=\"encoder_layer\"):\n",
    "    inputs = tf.keras.Input(shape=(None, d_model), name=\"inputs\")\n",
    "  \n",
    "    # 패딩 마스크 사용\n",
    "    padding_mask = tf.keras.Input(shape=(1, 1, None), name=\"padding_mask\")\n",
    "  \n",
    "    # 첫 번째 서브 레이어 : 멀티 헤드 어텐션 수행 (셀프 어텐션)\n",
    "    attention = MultiHeadAttention(\n",
    "        d_model, num_heads, name=\"attention\")({\n",
    "            'query': inputs,\n",
    "            'key': inputs,\n",
    "            'value': inputs,\n",
    "            'mask': padding_mask\n",
    "        })\n",
    "  \n",
    "    # 어텐션의 결과는 Dropout과 Layer Normalization이라는 훈련을 돕는 테크닉을 수행\n",
    "    attention = tf.keras.layers.Dropout(rate=dropout)(attention)\n",
    "    attention = tf.keras.layers.LayerNormalization(epsilon=1e-6)(inputs + attention)\n",
    "  \n",
    "    # 두 번째 서브 레이어 : 2개의 완전연결층\n",
    "    outputs = tf.keras.layers.Dense(units=units, activation='relu')(attention)\n",
    "    outputs = tf.keras.layers.Dense(units=d_model)(outputs)\n",
    "  \n",
    "    # 완전연결층의 결과는 Dropout과 LayerNormalization이라는 훈련을 돕는 테크닉을 수행\n",
    "    outputs = tf.keras.layers.Dropout(rate=dropout)(outputs)\n",
    "    outputs = tf.keras.layers.LayerNormalization(epsilon=1e-6)(attention + outputs)\n",
    "  \n",
    "    return tf.keras.Model(\n",
    "        inputs=[inputs, padding_mask], outputs=outputs, name=name)"
   ]
  },
  {
   "cell_type": "markdown",
   "id": "vertical-guatemala",
   "metadata": {},
   "source": [
    "* tf.keras.layers.LayerNormalization()"
   ]
  },
  {
   "cell_type": "markdown",
   "id": "breeding-colon",
   "metadata": {},
   "source": [
    "#### 트랜스포머의 인코더\n",
    "임베딩 층(Embedding layer)과 포지셔널 인코딩(Positional Encoding)을 연결하고, 사용자가 원하는 만큼 인코더 층을 쌓아서 완성"
   ]
  },
  {
   "cell_type": "code",
   "execution_count": 14,
   "id": "executive-relative",
   "metadata": {},
   "outputs": [],
   "source": [
    "# 트랜스포머의 인코더 함수\n",
    "def encoder(vocab_size,\n",
    "            num_layers,\n",
    "            units,\n",
    "            d_model,\n",
    "            num_heads,\n",
    "            dropout,\n",
    "            name=\"encoder\"):\n",
    "    # Functional Model 사용 (2개의 input)\n",
    "    inputs = tf.keras.Input(shape=(None,), name=\"inputs\")\n",
    "  \n",
    "    # 패딩 마스크 사용\n",
    "    padding_mask = tf.keras.Input(shape=(1, 1, None), name=\"padding_mask\")\n",
    "  \n",
    "    # 임베딩 레이어\n",
    "    embeddings = tf.keras.layers.Embedding(vocab_size, d_model)(inputs)\n",
    "    embeddings *= tf.math.sqrt(tf.cast(d_model, tf.float32))\n",
    "  \n",
    "    # 포지셔널 인코딩\n",
    "    embeddings = PositionalEncoding(vocab_size, d_model)(embeddings)\n",
    "  \n",
    "    outputs = tf.keras.layers.Dropout(rate=dropout)(embeddings)\n",
    "  \n",
    "    # num_layers만큼 쌓아올린 인코더의 층.\n",
    "    for i in range(num_layers):\n",
    "        outputs = encoder_layer(units=units,\n",
    "                                d_model=d_model,\n",
    "                                num_heads=num_heads,\n",
    "                                dropout=dropout,\n",
    "                                name=\"encoder_layer_{}\".format(i),\n",
    "                                )([outputs, padding_mask])\n",
    "  \n",
    "    return tf.keras.Model(inputs=[inputs, padding_mask], \n",
    "                          outputs=outputs, \n",
    "                          name=name)\n"
   ]
  },
  {
   "cell_type": "markdown",
   "id": "diagnostic-communications",
   "metadata": {},
   "source": [
    "#### 디코더 하나의 레이어\n",
    " 세 개의 서브 층(sublayer)으로 구성"
   ]
  },
  {
   "cell_type": "code",
   "execution_count": 15,
   "id": "expired-twenty",
   "metadata": {},
   "outputs": [],
   "source": [
    "# 디코더 하나의 레이어를 구현한 함수\n",
    "def decoder_layer(units, d_model, num_heads, dropout, name=\"decoder_layer\"):\n",
    "    inputs = tf.keras.Input(shape=(None, d_model), \n",
    "                            name=\"inputs\")\n",
    "    enc_outputs = tf.keras.Input(shape=(None, d_model), \n",
    "                                 name=\"encoder_outputs\")\n",
    "    look_ahead_mask = tf.keras.Input(shape=(1, None, None), \n",
    "                                     name=\"look_ahead_mask\")\n",
    "    padding_mask = tf.keras.Input(shape=(1, 1, None), \n",
    "                                  name='padding_mask')\n",
    "  \n",
    "    # 첫 번째 서브 레이어 : 멀티 헤드 어텐션 수행 (셀프 어텐션)\n",
    "    attention1 = MultiHeadAttention(d_model, \n",
    "                                    num_heads, \n",
    "                                    name=\"attention_1\")(inputs={'query': inputs,\n",
    "                                                                'key': inputs,\n",
    "                                                                'value': inputs,\n",
    "                                                                'mask': look_ahead_mask\n",
    "                                                                })\n",
    "  \n",
    "    # 멀티 헤드 어텐션의 결과는 LayerNormalization이라는 훈련을 돕는 테크닉을 수행\n",
    "    attention1 = tf.keras.layers.LayerNormalization(epsilon=1e-6)(attention1 + inputs)\n",
    "  \n",
    "    # 두 번째 서브 레이어 : 마스크드 멀티 헤드 어텐션 수행 (인코더-디코더 어텐션)\n",
    "    attention2 = MultiHeadAttention(d_model, \n",
    "                                    num_heads, \n",
    "                                    name=\"attention_2\")(inputs={'query': attention1,\n",
    "                                                                'key': enc_outputs,\n",
    "                                                                'value': enc_outputs,\n",
    "                                                                'mask': padding_mask\n",
    "                                                                })\n",
    "  \n",
    "    # 마스크드 멀티 헤드 어텐션의 결과는\n",
    "    # Dropout과 LayerNormalization이라는 훈련을 돕는 테크닉을 수행\n",
    "    attention2 = tf.keras.layers.Dropout(rate=dropout)(attention2)\n",
    "    attention2 = tf.keras.layers.LayerNormalization(epsilon=1e-6)(attention2 + attention1)\n",
    "  \n",
    "    # 세 번째 서브 레이어 : 2개의 완전연결층\n",
    "    outputs = tf.keras.layers.Dense(units=units, activation='relu')(attention2)\n",
    "    outputs = tf.keras.layers.Dense(units=d_model)(outputs)\n",
    "  \n",
    "    # 완전연결층의 결과는 Dropout과 LayerNormalization 수행\n",
    "    outputs = tf.keras.layers.Dropout(rate=dropout)(outputs)\n",
    "    outputs = tf.keras.layers.LayerNormalization(epsilon=1e-6)(outputs + attention2)\n",
    "  \n",
    "    return tf.keras.Model(inputs=[inputs, enc_outputs, look_ahead_mask, padding_mask],\n",
    "                          outputs=outputs,\n",
    "                          name=name)"
   ]
  },
  {
   "cell_type": "markdown",
   "id": "welsh-samuel",
   "metadata": {},
   "source": [
    "* tf.keras.layers.LayerNormalization(epsilon=1e-6)(attention1 + inputs)"
   ]
  },
  {
   "cell_type": "markdown",
   "id": "military-monitoring",
   "metadata": {},
   "source": [
    "#### 트랜스포머의 디코더\n",
    "임베딩 층(Embedding layer)과 포지셔널 인코딩(Positional Encoding)을 연결하고, 사용자가 원하는 만큼 디코더 층을 쌓아서 완성"
   ]
  },
  {
   "cell_type": "code",
   "execution_count": 16,
   "id": "familiar-april",
   "metadata": {},
   "outputs": [],
   "source": [
    "# 트랜스포머의 디코더 함수\n",
    "def decoder(vocab_size,\n",
    "            num_layers,\n",
    "            units,\n",
    "            d_model,\n",
    "            num_heads,\n",
    "            dropout,\n",
    "            name='decoder'):\n",
    "    inputs = tf.keras.Input(shape=(None,), name='inputs')\n",
    "    enc_outputs = tf.keras.Input(shape=(None, d_model), name='encoder_outputs')\n",
    "    look_ahead_mask = tf.keras.Input(shape=(1, None, None), name='look_ahead_mask')\n",
    "  \n",
    "    # 패딩 마스크\n",
    "    padding_mask = tf.keras.Input(shape=(1, 1, None), name='padding_mask')\n",
    "    \n",
    "    # 임베딩 레이어\n",
    "    embeddings = tf.keras.layers.Embedding(vocab_size, d_model)(inputs)\n",
    "    embeddings *= tf.math.sqrt(tf.cast(d_model, tf.float32))\n",
    "  \n",
    "    # 포지셔널 인코딩\n",
    "    embeddings = PositionalEncoding(vocab_size, d_model)(embeddings)\n",
    "  \n",
    "    # Dropout이라는 훈련을 돕는 테크닉을 수행\n",
    "    outputs = tf.keras.layers.Dropout(rate=dropout)(embeddings)\n",
    "  \n",
    "    # num_layers만큼 쌓아올린 디코더의 층\n",
    "    for i in range(num_layers):\n",
    "        outputs = decoder_layer(units=units,\n",
    "                                d_model=d_model,\n",
    "                                num_heads=num_heads,\n",
    "                                dropout=dropout,\n",
    "                                name='decoder_layer_{}'.format(i),\n",
    "                                )(inputs=[outputs, enc_outputs, look_ahead_mask, padding_mask])\n",
    "  \n",
    "    return tf.keras.Model(inputs=[inputs, enc_outputs, look_ahead_mask, padding_mask],\n",
    "                          outputs=outputs,\n",
    "                          name=name)\n"
   ]
  },
  {
   "cell_type": "markdown",
   "id": "casual-store",
   "metadata": {},
   "source": [
    "## Step 3. SubwordTextEncoder 사용하기\n",
    "\n",
    "한국어 데이터는 **형태소 분석기를 사용하여 토크나이징을 해야 한다**고 많은 분이 알고 있습니다.   \n",
    "하지만 여기서는 형태소 분석기가 아닌 위 실습에서 사용했던 **내부 단어 토크나이저인 SubwordTextEncoder를 그대로 사용**해보세요.\n",
    "\n"
   ]
  },
  {
   "cell_type": "markdown",
   "id": "terminal-merit",
   "metadata": {},
   "source": [
    "### 병렬 데이터 전처리하기\n",
    "\n",
    "#### 1. 단어장(Vocabulary) 만들기"
   ]
  },
  {
   "cell_type": "code",
   "execution_count": 17,
   "id": "extreme-newman",
   "metadata": {},
   "outputs": [],
   "source": [
    "# 질문과 답변 데이터셋에 대해서 Vocabulary 생성. (Tensorflow 2.2.0 이하)\n",
    "# tokenizer = tfds.features.text.SubwordTextEncoder.build_from_corpus(questions + answers, target_vocab_size=2**13)\n",
    "\n",
    "# (주의) Tensorflow 2.3.0 이상의 버전에서는 아래 주석의 코드를 대신 실행해 주세요. \n",
    "tokenizer = tfds.deprecated.text.SubwordTextEncoder.build_from_corpus(questions + answers, target_vocab_size=2**13)\n"
   ]
  },
  {
   "cell_type": "code",
   "execution_count": 18,
   "id": "immediate-stamp",
   "metadata": {},
   "outputs": [],
   "source": [
    "# 시작 토큰과 종료 토큰에 고유한 정수를 부여합니다.\n",
    "START_TOKEN, END_TOKEN = [tokenizer.vocab_size], [tokenizer.vocab_size + 1]"
   ]
  },
  {
   "cell_type": "code",
   "execution_count": 19,
   "id": "entire-domestic",
   "metadata": {},
   "outputs": [
    {
     "name": "stdout",
     "output_type": "stream",
     "text": [
      "START_TOKEN의 번호 : [8147]\n",
      "END_TOKEN의 번호 : [8148]\n"
     ]
    }
   ],
   "source": [
    "# 시작 토큰과 종료 토큰에 부여된 정수를 출력해봅시다.\n",
    "print('START_TOKEN의 번호 :' ,[tokenizer.vocab_size])\n",
    "print('END_TOKEN의 번호 :' ,[tokenizer.vocab_size + 1])"
   ]
  },
  {
   "cell_type": "markdown",
   "id": "affiliated-calgary",
   "metadata": {},
   "source": [
    "각각 8,147과 8,148라는 점에서 현재 단어장의 크기가 8,147(0번부터 8,146번)이라는 의미입니다."
   ]
  },
  {
   "cell_type": "code",
   "execution_count": 20,
   "id": "joint-sentence",
   "metadata": {},
   "outputs": [
    {
     "name": "stdout",
     "output_type": "stream",
     "text": [
      "8149\n"
     ]
    }
   ],
   "source": [
    "# 시작 토큰과 종료 토큰을 고려하여 +2를 하여 단어장의 크기를 산정합니다.\n",
    "VOCAB_SIZE = tokenizer.vocab_size + 2\n",
    "print(VOCAB_SIZE)"
   ]
  },
  {
   "cell_type": "markdown",
   "id": "danish-synthesis",
   "metadata": {},
   "source": [
    "#### 2. 챗봇 데이터 길이 분포\n",
    "* [참고: 6)패딩 부분](https://wikidocs.net/44249)"
   ]
  },
  {
   "cell_type": "code",
   "execution_count": 21,
   "id": "colonial-obligation",
   "metadata": {},
   "outputs": [
    {
     "name": "stdout",
     "output_type": "stream",
     "text": [
      "질문의 최대 길이 : 57\n",
      "질문의 평균 길이 : 13.190645352279455\n"
     ]
    },
    {
     "data": {
      "image/png": "[encoded data removed]",
      "text/plain": [
       "<Figure size 432x288 with 1 Axes>"
      ]
     },
     "metadata": {
      "needs_background": "light"
     },
     "output_type": "display_data"
    }
   ],
   "source": [
    "# questions 데이터의 길이 분포\n",
    "print('질문의 최대 길이 :',max(len(q) for q in questions))\n",
    "print('질문의 평균 길이 :',sum(map(len, questions))/len(questions))\n",
    "\n",
    "plt.hist([len(s) for s in questions], bins=50)\n",
    "plt.xlabel('length of samples')\n",
    "plt.ylabel('number of samples')\n",
    "plt.show()"
   ]
  },
  {
   "cell_type": "code",
   "execution_count": 22,
   "id": "inside-martial",
   "metadata": {},
   "outputs": [
    {
     "name": "stdout",
     "output_type": "stream",
     "text": [
      "답변의 최대 길이 : 72\n",
      "답변의 평균 길이 : 15.933434830415292\n"
     ]
    },
    {
     "data": {
      "image/png": "[encoded data removed]",
      "text/plain": [
       "<Figure size 432x288 with 1 Axes>"
      ]
     },
     "metadata": {
      "needs_background": "light"
     },
     "output_type": "display_data"
    }
   ],
   "source": [
    "# answers 데이터의 길이 분포\n",
    "print('답변의 최대 길이 :',max(len(a) for a in answers))\n",
    "print('답변의 평균 길이 :',sum(map(len, answers))/len(answers))\n",
    "\n",
    "plt.hist([len(s) for s in answers], bins=50)\n",
    "plt.xlabel('length of samples')\n",
    "plt.ylabel('number of samples')\n",
    "plt.show()"
   ]
  },
  {
   "cell_type": "markdown",
   "id": "planned-windsor",
   "metadata": {},
   "source": []
  },
  {
   "cell_type": "code",
   "execution_count": 23,
   "id": "premier-candidate",
   "metadata": {},
   "outputs": [],
   "source": [
    "# 전체 샘플 중 길이가 max_len 이하인 샘플의 비율이 몇 %인지 확인하는 함수\n",
    "def below_threshold_len(max_len, nested_list):\n",
    "    cnt = 0\n",
    "    for s in nested_list:\n",
    "          if(len(s) <= max_len):\n",
    "                cnt = cnt + 1\n",
    "    name = nested_list      \n",
    "    print(f'전체 샘플 중 길이가 {max_len} 이하인 샘플의 비율: {(cnt / len(nested_list))*100}')"
   ]
  },
  {
   "cell_type": "code",
   "execution_count": 24,
   "id": "swedish-monitor",
   "metadata": {},
   "outputs": [
    {
     "name": "stdout",
     "output_type": "stream",
     "text": [
      "전체 샘플 중 길이가 30 이하인 샘플의 비율: 98.24917533620908\n",
      "전체 샘플 중 길이가 30 이하인 샘플의 비율: 96.37993741013278\n"
     ]
    }
   ],
   "source": [
    "# 샘플의 최대 허용 길이 또는 패딩 후의 최종 길이\n",
    "MAX_LENGTH = 30\n",
    "\n",
    "below_threshold_len(MAX_LENGTH, questions)\n",
    "below_threshold_len(MAX_LENGTH, answers)"
   ]
  },
  {
   "cell_type": "markdown",
   "id": "affected-advocate",
   "metadata": {},
   "source": [
    "샘플 최대 길이를 30으로 하였을 경우 질문의 문장은 98% 이상이 포함된다."
   ]
  },
  {
   "cell_type": "markdown",
   "id": "precise-mozambique",
   "metadata": {},
   "source": [
    "#### 3. 각 단어를 고유한 정수로 인코딩(Integer encoding) & 패딩(Padding)"
   ]
  },
  {
   "cell_type": "code",
   "execution_count": 25,
   "id": "useful-shannon",
   "metadata": {},
   "outputs": [
    {
     "name": "stdout",
     "output_type": "stream",
     "text": [
      "정수 인코딩 후의 33번째 질문 샘플: [7851, 1148, 1051, 2]\n",
      "정수 인코딩 후의 33번째 답변 샘플: [1080, 3158, 641, 263, 877, 618, 284, 1]\n"
     ]
    }
   ],
   "source": [
    "# 임의의 33번째 샘플에 대해서 정수 인코딩 작업을 수행.\n",
    "# 각 토큰을 고유한 정수로 변환\n",
    "print('정수 인코딩 후의 33번째 질문 샘플: {}'.format(tokenizer.encode(questions[32])))\n",
    "print('정수 인코딩 후의 33번째 답변 샘플: {}'.format(tokenizer.encode(answers[32])))"
   ]
  },
  {
   "cell_type": "code",
   "execution_count": 26,
   "id": "interim-hurricane",
   "metadata": {},
   "outputs": [],
   "source": [
    "# 정수 인코딩, 최대 길이를 초과하는 샘플 제거, 패딩\n",
    "def tokenize_and_filter(inputs, outputs):\n",
    "    tokenized_inputs, tokenized_outputs = [], []\n",
    "    \n",
    "    for (sentence1, sentence2) in zip(inputs, outputs):\n",
    "        # 정수 인코딩 과정에서 시작 토큰과 종료 토큰을 추가\n",
    "        sentence1 = START_TOKEN + tokenizer.encode(sentence1) + END_TOKEN\n",
    "        sentence2 = START_TOKEN + tokenizer.encode(sentence2) + END_TOKEN\n",
    "    \n",
    "        # 최대 길이 40 이하인 경우에만 데이터셋으로 허용\n",
    "        if len(sentence1) <= MAX_LENGTH and len(sentence2) <= MAX_LENGTH:\n",
    "            tokenized_inputs.append(sentence1)\n",
    "            tokenized_outputs.append(sentence2)\n",
    "      \n",
    "    # 최대 길이 40으로 모든 데이터셋을 패딩\n",
    "    tokenized_inputs = tf.keras.preprocessing.sequence.pad_sequences(tokenized_inputs, \n",
    "                                                                     maxlen=MAX_LENGTH, \n",
    "                                                                     padding='post')\n",
    "    tokenized_outputs = tf.keras.preprocessing.sequence.pad_sequences(tokenized_outputs, \n",
    "                                                                      maxlen=MAX_LENGTH, \n",
    "                                                                      padding='post')\n",
    "    \n",
    "    return tokenized_inputs, tokenized_outputs\n"
   ]
  },
  {
   "cell_type": "code",
   "execution_count": 27,
   "id": "suspected-button",
   "metadata": {},
   "outputs": [
    {
     "name": "stdout",
     "output_type": "stream",
     "text": [
      "단어장의 크기 : 8149\n",
      "필터링 후의 질문 샘플 개수: 11823\n",
      "필터링 후의 답변 샘플 개수: 11823\n"
     ]
    }
   ],
   "source": [
    "# 필터링 후에 단어장의 크기와 샘플의 갯수 확인\n",
    "questions, answers = tokenize_and_filter(questions, answers)\n",
    "                                         \n",
    "print('단어장의 크기 :',(VOCAB_SIZE))\n",
    "print('필터링 후의 질문 샘플 개수: {}'.format(len(questions)))\n",
    "print('필터링 후의 답변 샘플 개수: {}'.format(len(answers)))"
   ]
  },
  {
   "cell_type": "markdown",
   "id": "flexible-chance",
   "metadata": {},
   "source": [
    "필터링 전과 후의 샘플 개수가 11823으로 동일하다."
   ]
  },
  {
   "cell_type": "markdown",
   "id": "deluxe-audience",
   "metadata": {},
   "source": [
    "#### 4. 교사 강요(Teacher Forcing) 사용하기\n",
    "\n",
    "모델이 t 시점에서 예측한 값을 t+1 시점에 입력으로 사용하지 않고,   \n",
    "t 시점의 레이블. 즉, 실제 알고있는 정답을 t+1 시점의 입력으로 사용"
   ]
  },
  {
   "cell_type": "code",
   "execution_count": 28,
   "id": "limiting-desperate",
   "metadata": {},
   "outputs": [],
   "source": [
    "BATCH_SIZE = 64\n",
    "BUFFER_SIZE = 20000\n",
    "\n",
    "# 디코더는 이전의 target을 다음의 input으로 사용합니다.\n",
    "# 이에 따라 outputs에서는 START_TOKEN을 제거하겠습니다.\n",
    "dataset = tf.data.Dataset.from_tensor_slices((\n",
    "    {\n",
    "        'inputs': questions,\n",
    "        'dec_inputs': answers[:, :-1]\n",
    "    },\n",
    "    {\n",
    "        'outputs': answers[:, 1:]\n",
    "    },\n",
    "))\n",
    "\n",
    "dataset = dataset.cache()\n",
    "dataset = dataset.shuffle(BUFFER_SIZE)\n",
    "dataset = dataset.batch(BATCH_SIZE)\n",
    "dataset = dataset.prefetch(tf.data.experimental.AUTOTUNE)\n"
   ]
  },
  {
   "cell_type": "markdown",
   "id": "integral-damage",
   "metadata": {},
   "source": [
    "## Step 4. 모델 구성하기\n",
    "\n",
    "위 실습 내용을 참고하여 트랜스포머 모델을 구현합니다.\n",
    "\n"
   ]
  },
  {
   "cell_type": "code",
   "execution_count": 29,
   "id": "inner-watson",
   "metadata": {},
   "outputs": [],
   "source": [
    "# 트랜스포머 함수\n",
    "def transformer(vocab_size,\n",
    "                num_layers,\n",
    "                units,\n",
    "                d_model,\n",
    "                num_heads,\n",
    "                dropout,\n",
    "                name=\"transformer\"):\n",
    "    inputs = tf.keras.Input(shape=(None,), name=\"inputs\")\n",
    "    dec_inputs = tf.keras.Input(shape=(None,), name=\"dec_inputs\")\n",
    "  \n",
    "    # 인코더에서 패딩을 위한 마스크\n",
    "    enc_padding_mask = tf.keras.layers.Lambda(create_padding_mask, \n",
    "                                              output_shape=(1, 1, None),\n",
    "                                              name='enc_padding_mask')(inputs)\n",
    "  \n",
    "    # 디코더에서 미래의 토큰을 마스크 하기 위해서 사용합니다.\n",
    "    # 내부적으로 패딩 마스크도 포함되어져 있습니다.\n",
    "    look_ahead_mask = tf.keras.layers.Lambda(create_look_ahead_mask,\n",
    "                                             output_shape=(1, None, None),\n",
    "                                             name='look_ahead_mask')(dec_inputs)\n",
    "  \n",
    "    # 두 번째 어텐션 블록에서 인코더의 벡터들을 마스킹\n",
    "    # 디코더에서 패딩을 위한 마스크\n",
    "    dec_padding_mask = tf.keras.layers.Lambda(create_padding_mask, \n",
    "                                              output_shape=(1, 1, None),\n",
    "                                              name='dec_padding_mask')(inputs)\n",
    "  \n",
    "    # 인코더\n",
    "    enc_outputs = encoder(vocab_size=vocab_size,\n",
    "                          num_layers=num_layers,\n",
    "                          units=units,\n",
    "                          d_model=d_model,\n",
    "                          num_heads=num_heads,\n",
    "                          dropout=dropout,\n",
    "                          )(inputs=[inputs, enc_padding_mask])\n",
    "  \n",
    "    # 디코더\n",
    "    dec_outputs = decoder(vocab_size=vocab_size,\n",
    "                          num_layers=num_layers,\n",
    "                          units=units,\n",
    "                          d_model=d_model,\n",
    "                          num_heads=num_heads,\n",
    "                          dropout=dropout,\n",
    "                          )(inputs=[dec_inputs, enc_outputs, look_ahead_mask, dec_padding_mask])\n",
    "  \n",
    "    # 완전연결층\n",
    "    outputs = tf.keras.layers.Dense(units=vocab_size, name=\"outputs\")(dec_outputs)\n",
    "  \n",
    "    return tf.keras.Model(inputs=[inputs, dec_inputs], outputs=outputs, name=name)"
   ]
  },
  {
   "cell_type": "markdown",
   "id": "assisted-store",
   "metadata": {},
   "source": [
    "#### 1. 모델 생성"
   ]
  },
  {
   "cell_type": "code",
   "execution_count": 30,
   "id": "extensive-timer",
   "metadata": {},
   "outputs": [
    {
     "name": "stdout",
     "output_type": "stream",
     "text": [
      "Model: \"transformer\"\n",
      "__________________________________________________________________________________________________\n",
      "Layer (type)                    Output Shape         Param #     Connected to                     \n",
      "==================================================================================================\n",
      "inputs (InputLayer)             [(None, None)]       0                                            \n",
      "__________________________________________________________________________________________________\n",
      "dec_inputs (InputLayer)         [(None, None)]       0                                            \n",
      "__________________________________________________________________________________________________\n",
      "enc_padding_mask (Lambda)       (None, 1, 1, None)   0           inputs[0][0]                     \n",
      "__________________________________________________________________________________________________\n",
      "encoder (Model)                 (None, None, 256)    3140352     inputs[0][0]                     \n",
      "                                                                 enc_padding_mask[0][0]           \n",
      "__________________________________________________________________________________________________\n",
      "look_ahead_mask (Lambda)        (None, 1, None, None 0           dec_inputs[0][0]                 \n",
      "__________________________________________________________________________________________________\n",
      "dec_padding_mask (Lambda)       (None, 1, 1, None)   0           inputs[0][0]                     \n",
      "__________________________________________________________________________________________________\n",
      "decoder (Model)                 (None, None, 256)    3667712     dec_inputs[0][0]                 \n",
      "                                                                 encoder[1][0]                    \n",
      "                                                                 look_ahead_mask[0][0]            \n",
      "                                                                 dec_padding_mask[0][0]           \n",
      "__________________________________________________________________________________________________\n",
      "outputs (Dense)                 (None, None, 8149)   2094293     decoder[1][0]                    \n",
      "==================================================================================================\n",
      "Total params: 8,902,357\n",
      "Trainable params: 8,902,357\n",
      "Non-trainable params: 0\n",
      "__________________________________________________________________________________________________\n"
     ]
    }
   ],
   "source": [
    "tf.keras.backend.clear_session()\n",
    "\n",
    "# 하이퍼파라미터\n",
    "NUM_LAYERS = 2  # 인코더와 디코더의 층의 개수\n",
    "D_MODEL = 256   # 인코더와 디코더 내부의 입, 출력의 고정 차원\n",
    "NUM_HEADS = 8   # 멀티 헤드 어텐션에서의 헤드 수 \n",
    "UNITS = 512     # 피드 포워드 신경망의 은닉층의 크기\n",
    "DROPOUT = 0.1   # 드롭아웃의 비율\n",
    "\n",
    "model = transformer(vocab_size=VOCAB_SIZE,\n",
    "                    num_layers=NUM_LAYERS,\n",
    "                    units=UNITS,\n",
    "                    d_model=D_MODEL,\n",
    "                    num_heads=NUM_HEADS,\n",
    "                    dropout=DROPOUT)\n",
    "\n",
    "model.summary()"
   ]
  },
  {
   "cell_type": "markdown",
   "id": "prompt-legislature",
   "metadata": {},
   "source": [
    "\"Connected to\" 컬럼은 처음 보는데...어떻게 해석해야하나...?   "
   ]
  },
  {
   "cell_type": "markdown",
   "id": "adult-prototype",
   "metadata": {},
   "source": [
    "#### 2. 손실 함수(Loss function)"
   ]
  },
  {
   "cell_type": "code",
   "execution_count": 31,
   "id": "beneficial-mumbai",
   "metadata": {},
   "outputs": [],
   "source": [
    "def loss_function(y_true, y_pred):\n",
    "    y_true = tf.reshape(y_true, shape=(-1, MAX_LENGTH - 1))\n",
    "    \n",
    "    loss = tf.keras.losses.SparseCategoricalCrossentropy(from_logits=True, \n",
    "                                                         reduction='none')(y_true, y_pred)\n",
    "  \n",
    "    mask = tf.cast(tf.not_equal(y_true, 0), tf.float32)\n",
    "    loss = tf.multiply(loss, mask)\n",
    "  \n",
    "    return tf.reduce_mean(loss)"
   ]
  },
  {
   "cell_type": "markdown",
   "id": "therapeutic-society",
   "metadata": {},
   "source": [
    "#### 3. 커스텀된 학습률(Learning rate)\n",
    "\n",
    "$$\\mathbf{{\\color{Red} {lrate = d_{model}^{-0.5} \\cdot  min \\left (step\\_num^{-0.5}, ~~ step\\_num \\cdot  warmup\\_steps^{-1.5}   \\right )}}}$$"
   ]
  },
  {
   "cell_type": "code",
   "execution_count": 32,
   "id": "concerned-pontiac",
   "metadata": {},
   "outputs": [],
   "source": [
    "# 커스텀 학습률 스케줄링(Custom Learning rate Scheduling) \n",
    "class CustomSchedule(tf.keras.optimizers.schedules.LearningRateSchedule):\n",
    "\n",
    "    def __init__(self, d_model, warmup_steps=4000):\n",
    "        super(CustomSchedule, self).__init__()\n",
    "    \n",
    "        self.d_model = d_model\n",
    "        self.d_model = tf.cast(self.d_model, tf.float32)\n",
    "    \n",
    "        self.warmup_steps = warmup_steps\n",
    "    \n",
    "    \n",
    "    def __call__(self, step):\n",
    "        arg1 = tf.math.rsqrt(step)             # rsqrt: reciprocal of square root\n",
    "        arg2 = step * (self.warmup_steps**-1.5)\n",
    "    \n",
    "        return tf.math.rsqrt(self.d_model) * tf.math.minimum(arg1, arg2)\n",
    "    "
   ]
  },
  {
   "cell_type": "markdown",
   "id": "included-defeat",
   "metadata": {},
   "source": [
    "#### 4. 모델 컴파일\n",
    "손실 함수와 커스텀 된 학습률(learning rate)을 사용하여 모델을 컴파일"
   ]
  },
  {
   "cell_type": "code",
   "execution_count": 33,
   "id": "regulation-designation",
   "metadata": {},
   "outputs": [],
   "source": [
    "learning_rate = CustomSchedule(D_MODEL)\n",
    "\n",
    "optimizer = tf.keras.optimizers.Adam(learning_rate, \n",
    "                                     beta_1=0.9, \n",
    "                                     beta_2=0.98, \n",
    "                                     epsilon=1e-9)\n",
    "\n",
    "def accuracy(y_true, y_pred):\n",
    "    y_true = tf.reshape(y_true, shape=(-1, MAX_LENGTH - 1))\n",
    "    \n",
    "    return tf.keras.metrics.sparse_categorical_accuracy(y_true, y_pred)\n",
    "\n",
    "\n",
    "model.compile(optimizer=optimizer, \n",
    "              loss=loss_function, \n",
    "              metrics=[accuracy])\n"
   ]
  },
  {
   "cell_type": "markdown",
   "id": "patient-athletics",
   "metadata": {},
   "source": [
    "#### 5. 훈련하기"
   ]
  },
  {
   "cell_type": "code",
   "execution_count": 34,
   "id": "interstate-partnership",
   "metadata": {},
   "outputs": [
    {
     "name": "stdout",
     "output_type": "stream",
     "text": [
      "Epoch 1/20\n",
      "185/185 [==============================] - 10s 53ms/step - loss: 1.9313 - accuracy: 0.0328\n",
      "Epoch 2/20\n",
      "185/185 [==============================] - 10s 53ms/step - loss: 1.5680 - accuracy: 0.0662\n",
      "Epoch 3/20\n",
      "185/185 [==============================] - 10s 56ms/step - loss: 1.3435 - accuracy: 0.0677\n",
      "Epoch 4/20\n",
      "185/185 [==============================] - 11s 61ms/step - loss: 1.2438 - accuracy: 0.0725\n",
      "Epoch 5/20\n",
      "185/185 [==============================] - 11s 59ms/step - loss: 1.1671 - accuracy: 0.0768\n",
      "Epoch 6/20\n",
      "185/185 [==============================] - 10s 54ms/step - loss: 1.0877 - accuracy: 0.0823\n",
      "Epoch 7/20\n",
      "185/185 [==============================] - 10s 54ms/step - loss: 0.9994 - accuracy: 0.0904\n",
      "Epoch 8/20\n",
      "185/185 [==============================] - 10s 54ms/step - loss: 0.9029 - accuracy: 0.1008\n",
      "Epoch 9/20\n",
      "185/185 [==============================] - 10s 55ms/step - loss: 0.7979 - accuracy: 0.1124\n",
      "Epoch 10/20\n",
      "185/185 [==============================] - 10s 54ms/step - loss: 0.6897 - accuracy: 0.1242\n",
      "Epoch 11/20\n",
      "185/185 [==============================] - 10s 57ms/step - loss: 0.5792 - accuracy: 0.1381\n",
      "Epoch 12/20\n",
      "185/185 [==============================] - 11s 58ms/step - loss: 0.4714 - accuracy: 0.1526\n",
      "Epoch 13/20\n",
      "185/185 [==============================] - 10s 55ms/step - loss: 0.3703 - accuracy: 0.1675\n",
      "Epoch 14/20\n",
      "185/185 [==============================] - 11s 58ms/step - loss: 0.2820 - accuracy: 0.1810\n",
      "Epoch 15/20\n",
      "185/185 [==============================] - 11s 58ms/step - loss: 0.2079 - accuracy: 0.1934\n",
      "Epoch 16/20\n",
      "185/185 [==============================] - 11s 58ms/step - loss: 0.1513 - accuracy: 0.2039\n",
      "Epoch 17/20\n",
      "185/185 [==============================] - 10s 56ms/step - loss: 0.1089 - accuracy: 0.2118\n",
      "Epoch 18/20\n",
      "185/185 [==============================] - 10s 54ms/step - loss: 0.0832 - accuracy: 0.2165\n",
      "Epoch 19/20\n",
      "185/185 [==============================] - 10s 55ms/step - loss: 0.0690 - accuracy: 0.2190\n",
      "Epoch 20/20\n",
      "185/185 [==============================] - 10s 55ms/step - loss: 0.0614 - accuracy: 0.2199\n"
     ]
    },
    {
     "data": {
      "text/plain": [
       "<tensorflow.python.keras.callbacks.History at 0x7fa381a70390>"
      ]
     },
     "execution_count": 34,
     "metadata": {},
     "output_type": "execute_result"
    }
   ],
   "source": [
    "EPOCHS = 20   # 20 --> 100\n",
    "\n",
    "model.fit(dataset, epochs=EPOCHS, verbose=1)"
   ]
  },
  {
   "cell_type": "markdown",
   "id": "honest-machinery",
   "metadata": {},
   "source": [
    "## Step 5. 모델 평가하기\n",
    "\n",
    "Step 1에서 선택한 전처리 방법을 고려하여 입력된 문장에 대해서 대답을 얻는 예측 함수를 만듭니다. "
   ]
  },
  {
   "cell_type": "code",
   "execution_count": 35,
   "id": "solid-knife",
   "metadata": {},
   "outputs": [],
   "source": [
    "# 디코더 예측(inference) 함수\n",
    "def decoder_inference(sentence):\n",
    "    sentence = preprocess_sentence(sentence)\n",
    "  \n",
    "    # 입력된 문장을 정수 인코딩 후, 시작 토큰과 종료 토큰을 앞뒤로 추가.\n",
    "    # ex) Where have you been? → [[8331   86   30    5 1059    7 8332]]\n",
    "    sentence = tf.expand_dims(\n",
    "        START_TOKEN + tokenizer.encode(sentence) + END_TOKEN, axis=0)\n",
    "  \n",
    "    # 디코더의 현재까지의 예측한 출력 시퀀스가 지속적으로 저장되는 변수.\n",
    "    # 처음에는 예측한 내용이 없음으로 시작 토큰만 별도 저장. ex) 8331\n",
    "    output_sequence = tf.expand_dims(START_TOKEN, 0)\n",
    "  \n",
    "    # 디코더의 인퍼런스 단계\n",
    "    for i in range(MAX_LENGTH):\n",
    "        # 디코더는 최대 MAX_LENGTH의 길이만큼 다음 단어 예측을 반복합니다.\n",
    "        predictions = model(inputs=[sentence, output_sequence], training=False)\n",
    "        predictions = predictions[:, -1:, :]\n",
    "    \n",
    "        # 현재 예측한 단어의 정수\n",
    "        predicted_id = tf.cast(tf.argmax(predictions, axis=-1), tf.int32)\n",
    "    \n",
    "        # 만약 현재 예측한 단어가 종료 토큰이라면 for문을 종료\n",
    "        if tf.equal(predicted_id, END_TOKEN[0]):\n",
    "            break\n",
    "    \n",
    "        # 예측한 단어들은 지속적으로 output_sequence에 추가됩니다.\n",
    "        # 이 output_sequence는 다시 디코더의 입력이 됩니다.\n",
    "        output_sequence = tf.concat([output_sequence, predicted_id], axis=-1)\n",
    "    \n",
    "    return tf.squeeze(output_sequence, axis=0)"
   ]
  },
  {
   "cell_type": "code",
   "execution_count": 36,
   "id": "balanced-bleeding",
   "metadata": {},
   "outputs": [],
   "source": [
    "# 챗봇의 대답을 얻는 함수\n",
    "def sentence_generation(sentence):\n",
    "    # 입력 문장에 대해서 디코더를 동작 시켜 예측된 정수 시퀀스를 리턴받습니다.\n",
    "    prediction = decoder_inference(sentence)\n",
    "  \n",
    "    # 정수 시퀀스를 다시 텍스트 시퀀스로 변환합니다.\n",
    "    predicted_sentence = tokenizer.decode(\n",
    "        [i for i in prediction if i < tokenizer.vocab_size])\n",
    "  \n",
    "    print('입력 : {}'.format(sentence))\n",
    "    print('출력 : {}'.format(predicted_sentence))\n",
    "  \n",
    "    return predicted_sentence\n"
   ]
  },
  {
   "cell_type": "code",
   "execution_count": 37,
   "id": "behavioral-sociology",
   "metadata": {},
   "outputs": [
    {
     "name": "stdout",
     "output_type": "stream",
     "text": [
      "입력 : 나이 차이가 좀 있는데 고민입니다.\n",
      "출력 : 나이 차이는 극복할 수 있어요 .\n"
     ]
    },
    {
     "data": {
      "text/plain": [
       "'나이 차이는 극복할 수 있어요 .'"
      ]
     },
     "execution_count": 37,
     "metadata": {},
     "output_type": "execute_result"
    }
   ],
   "source": [
    "# 임의의 문장으로부터 챗봇의 대답\n",
    "\n",
    "sentence_generation('나이 차이가 좀 있는데 고민입니다.')"
   ]
  },
  {
   "cell_type": "markdown",
   "id": "appointed-fitting",
   "metadata": {},
   "source": [
    "입력 : 나이 차이가 좀 있는데 고민입니다.  \n",
    "출력20 : 나이 차이는 극복할 수 있어요 .  \n",
    "출력100 : 나이 차이는 중요하지 않아요 .  \n",
    "출력20 : 나이 차이는 극복할 수 있어요 .  "
   ]
  },
  {
   "cell_type": "code",
   "execution_count": 38,
   "id": "stretch-queen",
   "metadata": {},
   "outputs": [
    {
     "name": "stdout",
     "output_type": "stream",
     "text": [
      "입력 : 자주 만나기 힘드네요!\n",
      "출력 : 덜 힘들었으면 좋겠어요 .\n"
     ]
    },
    {
     "data": {
      "text/plain": [
       "'덜 힘들었으면 좋겠어요 .'"
      ]
     },
     "execution_count": 38,
     "metadata": {},
     "output_type": "execute_result"
    }
   ],
   "source": [
    "# 임의의 문장으로부터 챗봇의 대답\n",
    "\n",
    "sentence_generation(\"자주 만나기 힘드네요!\")"
   ]
  },
  {
   "cell_type": "markdown",
   "id": "associate-hunter",
   "metadata": {},
   "source": [
    "입력 : 자주 만나기 힘드네요`!`  \n",
    "출력20 : 성격이 안 맞나봐요 .  \n",
    "출력100 : 좋은 추억만 간직하세요 .  \n",
    "출력20 : 덜 힘들었으면 좋겠어요 ."
   ]
  },
  {
   "cell_type": "code",
   "execution_count": 39,
   "id": "internal-conspiracy",
   "metadata": {},
   "outputs": [
    {
     "name": "stdout",
     "output_type": "stream",
     "text": [
      "입력 : 늦은 밤에 보자고 하는데...\n",
      "출력 : 그냥 얼굴 보면 설레요 .\n"
     ]
    },
    {
     "data": {
      "text/plain": [
       "'그냥 얼굴 보면 설레요 .'"
      ]
     },
     "execution_count": 39,
     "metadata": {},
     "output_type": "execute_result"
    }
   ],
   "source": [
    "# 임의의 문장으로부터 챗봇의 대답\n",
    "\n",
    "sentence_generation(\"늦은 밤에 보자고 하는데...\")"
   ]
  },
  {
   "cell_type": "markdown",
   "id": "nuclear-newark",
   "metadata": {},
   "source": [
    "입력 : 늦은 밤에 보자고 하는데...  \n",
    "출력20 : 당신의 사랑이 생길 거예요 .  \n",
    "출력100 : 너무 신경 곤두세우지 마세요 .  \n",
    "출력20 : 그냥 얼굴 보면 설레요 ."
   ]
  },
  {
   "cell_type": "code",
   "execution_count": 40,
   "id": "duplicate-secondary",
   "metadata": {},
   "outputs": [
    {
     "name": "stdout",
     "output_type": "stream",
     "text": [
      "입력 : 친구와 같이 술을 먹자고 하네\n",
      "출력 : 연락 확실하게 끊으세요 .\n"
     ]
    },
    {
     "data": {
      "text/plain": [
       "'연락 확실하게 끊으세요 .'"
      ]
     },
     "execution_count": 40,
     "metadata": {},
     "output_type": "execute_result"
    }
   ],
   "source": [
    "# 임의의 문장으로부터 챗봇의 대답\n",
    "\n",
    "sentence_generation(\"친구와 같이 술을 먹자고 하네\")"
   ]
  },
  {
   "cell_type": "markdown",
   "id": "annual-poison",
   "metadata": {},
   "source": [
    "입력 : 친구와 같이 술을 먹자고 하네  \n",
    "출력20 : 함께 충분한 대화를 하고 상담을 받아보는 게 좋겠어요 .  \n",
    "출력100 : 한 번 말해보는게 좋겠어요 .  \n",
    "출력20 : 연락 확실하게 끊으세요 .  "
   ]
  },
  {
   "cell_type": "code",
   "execution_count": 41,
   "id": "sporting-invalid",
   "metadata": {},
   "outputs": [
    {
     "name": "stdout",
     "output_type": "stream",
     "text": [
      "입력 : 너무 피곤하다\n",
      "출력 : 자신의 인생을 사세요 .\n"
     ]
    },
    {
     "data": {
      "text/plain": [
       "'자신의 인생을 사세요 .'"
      ]
     },
     "execution_count": 41,
     "metadata": {},
     "output_type": "execute_result"
    }
   ],
   "source": [
    "# 임의의 문장으로부터 챗봇의 대답\n",
    "\n",
    "sentence_generation(\"너무 피곤하다\")"
   ]
  },
  {
   "cell_type": "markdown",
   "id": "distant-polyester",
   "metadata": {},
   "source": [
    "입력 : 너무 피곤하다  \n",
    "출력20 : 너무 자책하지 마세요 .  \n",
    "출력100 : 마음이 따뜻할 것 같아요 .  \n",
    "출력20 : 자신의 인생을 사세요 ."
   ]
  },
  {
   "cell_type": "markdown",
   "id": "endless-friendship",
   "metadata": {},
   "source": [
    "## 회고\n",
    "\n",
    "* 챗봇의 대답을 듣고 훌륭한 대화상대가 생긴 것 같은 기분이 들었다.\n",
    "* 에폭을 증가시켜 훈련한 경우에 동일한 질문에 대해서 다른 대답이 나왔다. 그런데 좀 어색하다.\n",
    "* \"Connected to\" 컬럼은 처음 보는데...어떻게 해석해야하나...?"
   ]
  },
  {
   "cell_type": "markdown",
   "id": "covered-optics",
   "metadata": {},
   "source": [
    "## 끝"
   ]
  },
  {
   "cell_type": "code",
   "execution_count": null,
   "id": "rolled-grain",
   "metadata": {},
   "outputs": [],
   "source": []
  }
 ],
 "metadata": {
  "hide_input": false,
  "kernelspec": {
   "display_name": "aiffel",
   "language": "python",
   "name": "aiffel"
  },
  "language_info": {
   "codemirror_mode": {
    "name": "ipython",
    "version": 3
   },
   "file_extension": ".py",
   "mimetype": "text/x-python",
   "name": "python",
   "nbconvert_exporter": "python",
   "pygments_lexer": "ipython3",
   "version": "3.7.9"
  },
  "toc": {
   "base_numbering": 1,
   "nav_menu": {},
   "number_sections": false,
   "sideBar": true,
   "skip_h1_title": false,
   "title_cell": "Table of Contents",
   "title_sidebar": "Contents",
   "toc_cell": false,
   "toc_position": {
    "height": "calc(100% - 180px)",
    "left": "10px",
    "top": "150px",
    "width": "349.091px"
   },
   "toc_section_display": true,
   "toc_window_display": true
  }
 },
 "nbformat": 4,
 "nbformat_minor": 5
}
