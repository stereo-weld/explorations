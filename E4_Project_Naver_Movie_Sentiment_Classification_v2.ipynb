{
 "cells": [
  {
   "cell_type": "markdown",
   "metadata": {},
   "source": [
    "# 프로젝트 : 네이버 영화리뷰 감성분석 도전하기\n",
    "참조 : https://wikidocs.net/44249\n",
    "\n",
    "루브릭\n",
    "1. 다양한 방법으로 Text Classification 태스크를 성공적으로 구현하였다.  \n",
    "==> 3가지 이상의 모델이 성공적으로 시도됨  \n",
    "2. gensim을 활용하여 자체학습된 혹은 사전학습된 임베딩 레이어를 분석하였다.  \n",
    "==> gensim의 유사단어 찾기를 활용하여 자체학습한 임베딩과 사전학습 임베딩을 적절히 분석함  \n",
    "3. 한국어 Word2Vec을 활용하여 가시적인 성능향상을 달성했다.  \n",
    "==> 네이버 영화리뷰 데이터 감성분석 정확도를 85% 이상 달성함"
   ]
  },
  {
   "cell_type": "markdown",
   "metadata": {},
   "source": [
    "## 1. 데이터 준비와 확인"
   ]
  },
  {
   "cell_type": "markdown",
   "metadata": {},
   "source": [
    "### 1-1 필요한 모듈 import하기"
   ]
  },
  {
   "cell_type": "code",
   "execution_count": 39,
   "metadata": {},
   "outputs": [],
   "source": [
    "import pandas as pd\n",
    "import numpy as np\n",
    "import urllib.request\n",
    "%matplotlib inline\n",
    "import matplotlib.pyplot as plt\n",
    "import seaborn as sns\n",
    "import re\n",
    "\n",
    "from konlpy.tag import Okt\n",
    "from tensorflow import keras\n",
    "from tensorflow.keras.preprocessing.text import Tokenizer\n",
    "from tensorflow.keras.preprocessing.sequence import pad_sequences\n",
    "from collections import Counter"
   ]
  },
  {
   "cell_type": "markdown",
   "metadata": {},
   "source": [
    "### 1-2 데이터 확인"
   ]
  },
  {
   "cell_type": "code",
   "execution_count": 2,
   "metadata": {
    "scrolled": true
   },
   "outputs": [
    {
     "data": {
      "text/html": [
       "<div>\n",
       "<style scoped>\n",
       "    .dataframe tbody tr th:only-of-type {\n",
       "        vertical-align: middle;\n",
       "    }\n",
       "\n",
       "    .dataframe tbody tr th {\n",
       "        vertical-align: top;\n",
       "    }\n",
       "\n",
       "    .dataframe thead th {\n",
       "        text-align: right;\n",
       "    }\n",
       "</style>\n",
       "<table border=\"1\" class=\"dataframe\">\n",
       "  <thead>\n",
       "    <tr style=\"text-align: right;\">\n",
       "      <th></th>\n",
       "      <th>id</th>\n",
       "      <th>document</th>\n",
       "      <th>label</th>\n",
       "    </tr>\n",
       "  </thead>\n",
       "  <tbody>\n",
       "    <tr>\n",
       "      <th>0</th>\n",
       "      <td>9976970</td>\n",
       "      <td>아 더빙.. 진짜 짜증나네요 목소리</td>\n",
       "      <td>0</td>\n",
       "    </tr>\n",
       "    <tr>\n",
       "      <th>1</th>\n",
       "      <td>3819312</td>\n",
       "      <td>흠...포스터보고 초딩영화줄....오버연기조차 가볍지 않구나</td>\n",
       "      <td>1</td>\n",
       "    </tr>\n",
       "    <tr>\n",
       "      <th>2</th>\n",
       "      <td>10265843</td>\n",
       "      <td>너무재밓었다그래서보는것을추천한다</td>\n",
       "      <td>0</td>\n",
       "    </tr>\n",
       "    <tr>\n",
       "      <th>3</th>\n",
       "      <td>9045019</td>\n",
       "      <td>교도소 이야기구먼 ..솔직히 재미는 없다..평점 조정</td>\n",
       "      <td>0</td>\n",
       "    </tr>\n",
       "    <tr>\n",
       "      <th>4</th>\n",
       "      <td>6483659</td>\n",
       "      <td>사이몬페그의 익살스런 연기가 돋보였던 영화!스파이더맨에서 늙어보이기만 했던 커스틴 ...</td>\n",
       "      <td>1</td>\n",
       "    </tr>\n",
       "  </tbody>\n",
       "</table>\n",
       "</div>"
      ],
      "text/plain": [
       "         id                                           document  label\n",
       "0   9976970                                아 더빙.. 진짜 짜증나네요 목소리      0\n",
       "1   3819312                  흠...포스터보고 초딩영화줄....오버연기조차 가볍지 않구나      1\n",
       "2  10265843                                  너무재밓었다그래서보는것을추천한다      0\n",
       "3   9045019                      교도소 이야기구먼 ..솔직히 재미는 없다..평점 조정      0\n",
       "4   6483659  사이몬페그의 익살스런 연기가 돋보였던 영화!스파이더맨에서 늙어보이기만 했던 커스틴 ...      1"
      ]
     },
     "execution_count": 2,
     "metadata": {},
     "output_type": "execute_result"
    }
   ],
   "source": [
    "# 데이터를 읽어봅시다. \n",
    "train_data = pd.read_table('~/aiffel/sentiment_classification/ratings_train.txt')\n",
    "test_data = pd.read_table('~/aiffel/sentiment_classification/ratings_test.txt')\n",
    "\n",
    "train_data.head()  # 상위 5개 출력"
   ]
  },
  {
   "cell_type": "code",
   "execution_count": 3,
   "metadata": {},
   "outputs": [
    {
     "name": "stdout",
     "output_type": "stream",
     "text": [
      "훈련 데이터 형태 : (150000, 3)\n",
      "테스트 데이터 형태 : (50000, 3)\n"
     ]
    }
   ],
   "source": [
    "# 훈련 및 테스트 데이터의 리뷰 개수 확인\n",
    "print('훈련 데이터 형태 :', train_data.shape)\n",
    "print('테스트 데이터 형태 :', test_data.shape)"
   ]
  },
  {
   "cell_type": "code",
   "execution_count": 4,
   "metadata": {},
   "outputs": [
    {
     "name": "stdout",
     "output_type": "stream",
     "text": [
      "Index(['id', 'document', 'label'], dtype='object')\n"
     ]
    }
   ],
   "source": [
    "# 훈련 데이터의 컬럼 이름 확인\n",
    "print(train_data.columns)"
   ]
  },
  {
   "cell_type": "markdown",
   "metadata": {},
   "source": [
    "## 2. 데이터로더 구성\n",
    "실습때 다루었던 IMDB 데이터셋은 텍스트를 가공하여 imdb.data_loader() 메소드를 호출하면 숫자 인덱스로 변환된 텍스트와 word_to_index 딕셔너리까지 친절하게 제공합니다. 그러나 이번에 다루게 될 nsmc 데이터셋은 전혀 가공되지 않은 텍스트 파일로 이루어져 있습니다. 이것을 읽어서 imdb.data_loader()와 동일하게 동작하는 자신만의 data_loader를 만들어 보는 것으로 시작합니다. data_loader 안에서는 다음을 수행해야 합니다.\n",
    "* 데이터의 중복 제거\n",
    "* NaN 결측치 제거\n",
    "* 한국어 토크나이저로 토큰화\n",
    "* 불용어(Stopwords) 제거\n",
    "* 사전word_to_index 구성\n",
    "* 텍스트 스트링을 사전 인덱스 스트링으로 변환\n",
    "* X_train, y_train, X_test, y_test, word_to_index 리턴"
   ]
  },
  {
   "cell_type": "markdown",
   "metadata": {},
   "source": [
    "### 2-1. 데이터 전처리"
   ]
  },
  {
   "cell_type": "code",
   "execution_count": 5,
   "metadata": {},
   "outputs": [
    {
     "data": {
      "text/plain": [
       "document    146182\n",
       "label            2\n",
       "dtype: int64"
      ]
     },
     "execution_count": 5,
     "metadata": {},
     "output_type": "execute_result"
    }
   ],
   "source": [
    "# 중복하지 않은 데이터의 개수\n",
    "train_data[['document', 'label']].nunique()"
   ]
  },
  {
   "cell_type": "markdown",
   "metadata": {},
   "source": [
    "학습용 데이터는 (150,000 - 146,182) = 3,818 개의 리뷰가 중복되고, 레이블은 0과 1만 있으므로 중복하지 않는 개수는 2개 뿐이다. "
   ]
  },
  {
   "cell_type": "code",
   "execution_count": 6,
   "metadata": {},
   "outputs": [
    {
     "data": {
      "text/plain": [
       "<AxesSubplot:>"
      ]
     },
     "execution_count": 6,
     "metadata": {},
     "output_type": "execute_result"
    },
    {
     "data": {
      "image/png": "[encoded data removed]",
      "text/plain": [
       "<Figure size 432x288 with 1 Axes>"
      ]
     },
     "metadata": {
      "needs_background": "light"
     },
     "output_type": "display_data"
    }
   ],
   "source": [
    "# 긍정, 부정 분포 그리기\n",
    "train_data['label'].value_counts().plot(kind = 'bar')"
   ]
  },
  {
   "cell_type": "code",
   "execution_count": 7,
   "metadata": {},
   "outputs": [
    {
     "name": "stderr",
     "output_type": "stream",
     "text": [
      "/home/aiffel-d34j/anaconda3/envs/aiffel/lib/python3.7/site-packages/ipykernel_launcher.py:2: FutureWarning: The default value of regex will change from True to False in a future version.\n",
      "  \n"
     ]
    },
    {
     "data": {
      "text/html": [
       "<div>\n",
       "<style scoped>\n",
       "    .dataframe tbody tr th:only-of-type {\n",
       "        vertical-align: middle;\n",
       "    }\n",
       "\n",
       "    .dataframe tbody tr th {\n",
       "        vertical-align: top;\n",
       "    }\n",
       "\n",
       "    .dataframe thead th {\n",
       "        text-align: right;\n",
       "    }\n",
       "</style>\n",
       "<table border=\"1\" class=\"dataframe\">\n",
       "  <thead>\n",
       "    <tr style=\"text-align: right;\">\n",
       "      <th></th>\n",
       "      <th>id</th>\n",
       "      <th>document</th>\n",
       "      <th>label</th>\n",
       "    </tr>\n",
       "  </thead>\n",
       "  <tbody>\n",
       "    <tr>\n",
       "      <th>0</th>\n",
       "      <td>9976970</td>\n",
       "      <td>아 더빙 진짜 짜증나네요 목소리</td>\n",
       "      <td>0</td>\n",
       "    </tr>\n",
       "    <tr>\n",
       "      <th>1</th>\n",
       "      <td>3819312</td>\n",
       "      <td>흠포스터보고 초딩영화줄오버연기조차 가볍지 않구나</td>\n",
       "      <td>1</td>\n",
       "    </tr>\n",
       "    <tr>\n",
       "      <th>2</th>\n",
       "      <td>10265843</td>\n",
       "      <td>너무재밓었다그래서보는것을추천한다</td>\n",
       "      <td>0</td>\n",
       "    </tr>\n",
       "    <tr>\n",
       "      <th>3</th>\n",
       "      <td>9045019</td>\n",
       "      <td>교도소 이야기구먼 솔직히 재미는 없다평점 조정</td>\n",
       "      <td>0</td>\n",
       "    </tr>\n",
       "    <tr>\n",
       "      <th>4</th>\n",
       "      <td>6483659</td>\n",
       "      <td>사이몬페그의 익살스런 연기가 돋보였던 영화스파이더맨에서 늙어보이기만 했던 커스틴 던...</td>\n",
       "      <td>1</td>\n",
       "    </tr>\n",
       "  </tbody>\n",
       "</table>\n",
       "</div>"
      ],
      "text/plain": [
       "         id                                           document  label\n",
       "0   9976970                                  아 더빙 진짜 짜증나네요 목소리      0\n",
       "1   3819312                         흠포스터보고 초딩영화줄오버연기조차 가볍지 않구나      1\n",
       "2  10265843                                  너무재밓었다그래서보는것을추천한다      0\n",
       "3   9045019                          교도소 이야기구먼 솔직히 재미는 없다평점 조정      0\n",
       "4   6483659  사이몬페그의 익살스런 연기가 돋보였던 영화스파이더맨에서 늙어보이기만 했던 커스틴 던...      1"
      ]
     },
     "execution_count": 7,
     "metadata": {},
     "output_type": "execute_result"
    }
   ],
   "source": [
    "# 정규 표현식을 이용하여 한글, 숫자, 공백을 제외하고 모두 제거 \n",
    "train_data['document'] = train_data['document'].str.replace(\"[^ㄱ-ㅎㅏ-ㅣ가-힣0-9 ]\", \"\")\n",
    "\n",
    "train_data[:5]"
   ]
  },
  {
   "cell_type": "code",
   "execution_count": 8,
   "metadata": {},
   "outputs": [
    {
     "data": {
      "text/plain": [
       "id            0\n",
       "document    694\n",
       "label         0\n",
       "dtype: int64"
      ]
     },
     "execution_count": 8,
     "metadata": {},
     "output_type": "execute_result"
    }
   ],
   "source": [
    "# train_data에 document 열에 빈 값을 가진 행이 있다면 Null 값으로 변경\n",
    "train_data['document'].replace('', np.nan, inplace=True)\n",
    "# 다시 한 번 Null 값이 존재하는지 확인\n",
    "train_data.isnull().sum()"
   ]
  },
  {
   "cell_type": "markdown",
   "metadata": {},
   "source": [
    "* 한글과 숫자로 이루어 지지않은 행의 개수가 694개 이다."
   ]
  },
  {
   "cell_type": "code",
   "execution_count": 9,
   "metadata": {},
   "outputs": [
    {
     "data": {
      "text/html": [
       "<div>\n",
       "<style scoped>\n",
       "    .dataframe tbody tr th:only-of-type {\n",
       "        vertical-align: middle;\n",
       "    }\n",
       "\n",
       "    .dataframe tbody tr th {\n",
       "        vertical-align: top;\n",
       "    }\n",
       "\n",
       "    .dataframe thead th {\n",
       "        text-align: right;\n",
       "    }\n",
       "</style>\n",
       "<table border=\"1\" class=\"dataframe\">\n",
       "  <thead>\n",
       "    <tr style=\"text-align: right;\">\n",
       "      <th></th>\n",
       "      <th>id</th>\n",
       "      <th>document</th>\n",
       "      <th>label</th>\n",
       "    </tr>\n",
       "  </thead>\n",
       "  <tbody>\n",
       "    <tr>\n",
       "      <th>668</th>\n",
       "      <td>1600635</td>\n",
       "      <td>NaN</td>\n",
       "      <td>0</td>\n",
       "    </tr>\n",
       "    <tr>\n",
       "      <th>1559</th>\n",
       "      <td>6918082</td>\n",
       "      <td>NaN</td>\n",
       "      <td>1</td>\n",
       "    </tr>\n",
       "    <tr>\n",
       "      <th>1840</th>\n",
       "      <td>7095375</td>\n",
       "      <td>NaN</td>\n",
       "      <td>1</td>\n",
       "    </tr>\n",
       "    <tr>\n",
       "      <th>2073</th>\n",
       "      <td>384233</td>\n",
       "      <td>NaN</td>\n",
       "      <td>1</td>\n",
       "    </tr>\n",
       "    <tr>\n",
       "      <th>2648</th>\n",
       "      <td>423224</td>\n",
       "      <td>NaN</td>\n",
       "      <td>1</td>\n",
       "    </tr>\n",
       "  </tbody>\n",
       "</table>\n",
       "</div>"
      ],
      "text/plain": [
       "           id document  label\n",
       "668   1600635      NaN      0\n",
       "1559  6918082      NaN      1\n",
       "1840  7095375      NaN      1\n",
       "2073   384233      NaN      1\n",
       "2648   423224      NaN      1"
      ]
     },
     "execution_count": 9,
     "metadata": {},
     "output_type": "execute_result"
    }
   ],
   "source": [
    "# Null 값이 있는 행 5개만 출력\n",
    "train_data.loc[train_data.document.isnull()][:5]"
   ]
  },
  {
   "cell_type": "code",
   "execution_count": 10,
   "metadata": {},
   "outputs": [
    {
     "name": "stdout",
     "output_type": "stream",
     "text": [
      "전처리 후 학습용 데이터 개수 : 149306\n"
     ]
    }
   ],
   "source": [
    "# NaN은 아무런 의미가 없는 데이터 이므로 제거\n",
    "train_data = train_data.dropna(how = 'any')\n",
    "\n",
    "print('전처리 후 학습용 데이터 개수 :', len(train_data))"
   ]
  },
  {
   "cell_type": "code",
   "execution_count": 11,
   "metadata": {},
   "outputs": [
    {
     "name": "stdout",
     "output_type": "stream",
     "text": [
      "전처리 후 테스트용 데이터 개수 : 49773\n"
     ]
    },
    {
     "name": "stderr",
     "output_type": "stream",
     "text": [
      "/home/aiffel-d34j/anaconda3/envs/aiffel/lib/python3.7/site-packages/ipykernel_launcher.py:2: FutureWarning: The default value of regex will change from True to False in a future version.\n",
      "  \n"
     ]
    }
   ],
   "source": [
    "# 테스트 데이터도 정규 표현식을 이용하여 한글, 숫자, 공백을 제외하고 모두 제거 \n",
    "test_data['document'] = test_data['document'].str.replace(\"[^ㄱ-ㅎㅏ-ㅣ가-힣0-9 ]\", \"\")\n",
    "# test_data에 document 열에 빈 값을 가진 행이 있다면 Null 값으로 변경\n",
    "test_data['document'].replace('', np.nan, inplace=True)\n",
    "# NaN은 아무런 의미가 없는 데이터 이므로 제거\n",
    "test_data = test_data.dropna(how = 'any')\n",
    "\n",
    "print('전처리 후 테스트용 데이터 개수 :', len(test_data))"
   ]
  },
  {
   "cell_type": "markdown",
   "metadata": {},
   "source": [
    "### 2-2. 토큰화, 불용어 제거, workd_to_index\n",
    "* 한국어를 토큰화할 때는 형태소 분석기를 사용한다.\n",
    "* 자연어 처리를 하기 위해서 긴 텍스트를 단어별로 쪼개는 작업이다.\n",
    "* 토큰화 과정에서 불용어를 제거한다.\n",
    "* 토큰화된 단어들을 인덱스로 변환한다."
   ]
  },
  {
   "cell_type": "code",
   "execution_count": 12,
   "metadata": {},
   "outputs": [],
   "source": [
    "# Mecab 설치 참고 : https://somjang.tistory.com/entry/PythonUbuntu에-mecab-ko-dic-라이브러리-설치하기\n",
    "from konlpy.tag import Mecab        # Mecab : 일본어 형태소 분석기\n",
    "\n",
    "# 형태소 분석기 객체 생성\n",
    "tokenizer = Mecab()\n",
    "\n",
    "# 불용어 리스트\n",
    "stopwords = ['의','가','이','은','들','는','좀','잘','걍','과','도','를','으로','자','에','와','한','하다']\n",
    "\n",
    "def load_data(train_data, test_data, num_words=10000):\n",
    "    # 학습용 데이터에서 document 열에서 중복 데이터 제거\n",
    "    train_data.drop_duplicates(subset=['document'], inplace=True)\n",
    "    # 학습용 데이터에서 Null 값이 존재하는 행 제거\n",
    "    train_data = train_data.dropna(how = 'any') \n",
    "    # 테스트용 데이터에서 document 열에서 중복 데이터 제거\n",
    "    test_data.drop_duplicates(subset=['document'], inplace=True)\n",
    "    # 테스트용 데이터에서 Null 값이 존재하는 행 제거\n",
    "    test_data = test_data.dropna(how = 'any') \n",
    "\n",
    "    x_train = []\n",
    "    for sentence in train_data['document']:\n",
    "        temp_x = tokenizer.morphs(sentence) # 형태소 단위로 토큰화\n",
    "        temp_x = [word for word in temp_x if not word in stopwords] # 불용어 제거\n",
    "        x_train.append(temp_x)\n",
    "\n",
    "    x_test = []\n",
    "    for sentence in test_data['document']:\n",
    "        temp_x = tokenizer.morphs(sentence) # 형태소 단위로 토큰화\n",
    "        temp_x = [word for word in temp_x if not word in stopwords] # 불용어 제거\n",
    "        x_test.append(temp_x)\n",
    "\n",
    "    words = np.concatenate(x_train).tolist()   # .tolist() : array를 list로 변경\n",
    "    counter = Counter(words)                   # collection 모듈의 Counter 클래스로 데이터의 개수 확인\n",
    "    counter = counter.most_common(10000-4)     # most_common() : 데이터의 개수가 많은 순으로 정렬된 배열 리턴\n",
    "    vocab = ['<PAD>', '<BOS>', '<UNK>', '<UNUSED>'] + [key for key, _ in counter]\n",
    "    word_to_index = {word:index for index, word in enumerate(vocab)}\n",
    "\n",
    "    def wordlist_to_indexlist(wordlist):\n",
    "        return [word_to_index[word] if word in word_to_index else word_to_index['<UNK>'] for word in wordlist]\n",
    "        # wordlist에 있는 word에 대해서 만약에 word가 word_to_index에 존재하면 인덱스 값을, 존재하지 않으면 <UNK>를 인덱스로 반환함\n",
    "\n",
    "    x_train = list(map(wordlist_to_indexlist, x_train))   # x_train 대상으로 wordlist_to_indexlist 함수를 수행하여 리스트로 반환\n",
    "    x_test = list(map(wordlist_to_indexlist, x_test))\n",
    "\n",
    "    return x_train, np.array(list(train_data['label'])), x_test, np.array(list(test_data['label'])), word_to_index\n",
    "\n",
    "x_train, y_train, x_test, y_test, word_to_index = load_data(train_data, test_data) "
   ]
  },
  {
   "cell_type": "code",
   "execution_count": 13,
   "metadata": {},
   "outputs": [
    {
     "name": "stdout",
     "output_type": "stream",
     "text": [
      "훈련 데이터 개수: 143856,  테스트 데이터 개수: 48498\n"
     ]
    }
   ],
   "source": [
    "print(\"훈련 데이터 개수: {},  테스트 데이터 개수: {}\".format(len(x_train), len(x_test)))"
   ]
  },
  {
   "cell_type": "code",
   "execution_count": 14,
   "metadata": {},
   "outputs": [
    {
     "data": {
      "text/plain": [
       "{0: '<PAD>',\n",
       " 1: '<BOS>',\n",
       " 2: '<UNK>',\n",
       " 3: '<UNUSED>',\n",
       " 4: '영화',\n",
       " 5: '다',\n",
       " 6: '고',\n",
       " 7: '하',\n",
       " 8: '을',\n",
       " 9: '보',\n",
       " 10: '게',\n",
       " 11: '지',\n",
       " 12: '있',\n",
       " 13: '없',\n",
       " 14: '좋',\n",
       " 15: '나',\n",
       " 16: '었',\n",
       " 17: '만',\n",
       " 18: '는데',\n",
       " 19: '너무',\n",
       " 20: '봤',\n",
       " 21: '안',\n",
       " 22: '적',\n",
       " 23: '로',\n",
       " 24: '정말',\n",
       " 25: '것',\n",
       " 26: '음',\n",
       " 27: '네요',\n",
       " 28: '아',\n",
       " 29: '어',\n",
       " 30: '점',\n",
       " 31: '지만',\n",
       " 32: '같',\n",
       " 33: '재밌',\n",
       " 34: '진짜',\n",
       " 35: '했',\n",
       " 36: '에서',\n",
       " 37: '기',\n",
       " 38: '않',\n",
       " 39: '네',\n",
       " 40: '거',\n",
       " 41: '았',\n",
       " 42: '수',\n",
       " 43: '되',\n",
       " 44: '면',\n",
       " 45: '인',\n",
       " 46: '말',\n",
       " 47: '연기',\n",
       " 48: '주',\n",
       " 49: '평점',\n",
       " 50: '내',\n",
       " 51: '최고',\n",
       " 52: '이런',\n",
       " 53: '던',\n",
       " 54: '생각',\n",
       " 55: 'ㅎ',\n",
       " 56: '할',\n",
       " 57: '왜',\n",
       " 58: '어요',\n",
       " 59: '겠',\n",
       " 60: '스토리',\n",
       " 61: '습니다',\n",
       " 62: '해',\n",
       " 63: '듯',\n",
       " 64: '아니',\n",
       " 65: '드라마',\n",
       " 66: '1',\n",
       " 67: '그',\n",
       " 68: '사람',\n",
       " 69: '싶',\n",
       " 70: '더',\n",
       " 71: '함',\n",
       " 72: '때',\n",
       " 73: '감동',\n",
       " 74: '배우',\n",
       " 75: '본',\n",
       " 76: '까지',\n",
       " 77: '알',\n",
       " 78: '만들',\n",
       " 79: '내용',\n",
       " 80: '뭐',\n",
       " 81: '볼',\n",
       " 82: '감독',\n",
       " 83: '보다',\n",
       " 84: '라',\n",
       " 85: '지루',\n",
       " 86: '재미',\n",
       " 87: 'ㅋㅋ',\n",
       " 88: '그냥',\n",
       " 89: '시간',\n",
       " 90: '중',\n",
       " 91: '재미있',\n",
       " 92: '년',\n",
       " 93: '였',\n",
       " 94: '10',\n",
       " 95: '못',\n",
       " 96: '잼',\n",
       " 97: '사랑',\n",
       " 98: '냐',\n",
       " 99: '쓰레기',\n",
       " 100: '서',\n",
       " 101: '니',\n",
       " 102: '라고',\n",
       " 103: '재미없',\n",
       " 104: '면서',\n",
       " 105: '번',\n",
       " 106: '다시',\n",
       " 107: '나오',\n",
       " 108: '야',\n",
       " 109: '하나',\n",
       " 110: '작품',\n",
       " 111: '줄',\n",
       " 112: '이거',\n",
       " 113: '해서',\n",
       " 114: '2',\n",
       " 115: '정도',\n",
       " 116: '개',\n",
       " 117: '끝',\n",
       " 118: '남',\n",
       " 119: '마지막',\n",
       " 120: '액션',\n",
       " 121: '이건',\n",
       " 122: '임',\n",
       " 123: '기대',\n",
       " 124: '건',\n",
       " 125: '라는',\n",
       " 126: '다는',\n",
       " 127: '분',\n",
       " 128: '입니다',\n",
       " 129: '완전',\n",
       " 130: '많',\n",
       " 131: '참',\n",
       " 132: '처음',\n",
       " 133: '장면',\n",
       " 134: '대',\n",
       " 135: '으면',\n",
       " 136: '3',\n",
       " 137: '다가',\n",
       " 138: '아깝',\n",
       " 139: '모르',\n",
       " 140: '이렇게',\n",
       " 141: '지금',\n",
       " 142: '편',\n",
       " 143: '일',\n",
       " 144: '돈',\n",
       " 145: 'ㅠㅠ',\n",
       " 146: '느낌',\n",
       " 147: '이게',\n",
       " 148: '성',\n",
       " 149: '이야기',\n",
       " 150: '시',\n",
       " 151: '애',\n",
       " 152: '최악',\n",
       " 153: '된',\n",
       " 154: '님',\n",
       " 155: '어서',\n",
       " 156: '봐도',\n",
       " 157: 'ㅋ',\n",
       " 158: '넘',\n",
       " 159: '다고',\n",
       " 160: '인데',\n",
       " 161: '이해',\n",
       " 162: '걸',\n",
       " 163: '그리고',\n",
       " 164: '여자',\n",
       " 165: '이상',\n",
       " 166: '역시',\n",
       " 167: '명작',\n",
       " 168: '한국',\n",
       " 169: '별로',\n",
       " 170: '또',\n",
       " 171: '난',\n",
       " 172: '는지',\n",
       " 173: '많이',\n",
       " 174: '에게',\n",
       " 175: '받',\n",
       " 176: '부터',\n",
       " 177: '두',\n",
       " 178: '주인공',\n",
       " 179: '전',\n",
       " 180: '합니다',\n",
       " 181: '우리',\n",
       " 182: '살',\n",
       " 183: 'ㅋㅋㅋ',\n",
       " 184: '길',\n",
       " 185: '만든',\n",
       " 186: '요',\n",
       " 187: '기억',\n",
       " 188: '괜찮',\n",
       " 189: '한다',\n",
       " 190: '연출',\n",
       " 191: 'ㅡㅡ',\n",
       " 192: '때문',\n",
       " 193: '엔',\n",
       " 194: '이나',\n",
       " 195: '저',\n",
       " 196: '재',\n",
       " 197: '꼭',\n",
       " 198: '며',\n",
       " 199: '현실',\n",
       " 200: '긴',\n",
       " 201: '랑',\n",
       " 202: '무슨',\n",
       " 203: '내내',\n",
       " 204: '죽',\n",
       " 205: '데',\n",
       " 206: '결말',\n",
       " 207: '전개',\n",
       " 208: '속',\n",
       " 209: '남자',\n",
       " 210: '세요',\n",
       " 211: '소재',\n",
       " 212: '마음',\n",
       " 213: '공포',\n",
       " 214: '아서',\n",
       " 215: '다른',\n",
       " 216: '씨',\n",
       " 217: '인생',\n",
       " 218: '짜증',\n",
       " 219: '없이',\n",
       " 220: '뿐',\n",
       " 221: '별',\n",
       " 222: '반전',\n",
       " 223: '유치',\n",
       " 224: '아이',\n",
       " 225: '가장',\n",
       " 226: '은데',\n",
       " 227: '아요',\n",
       " 228: '음악',\n",
       " 229: '일본',\n",
       " 230: '필요',\n",
       " 231: '오',\n",
       " 232: '짱',\n",
       " 233: '낮',\n",
       " 234: '수준',\n",
       " 235: '웃',\n",
       " 236: '다니',\n",
       " 237: '매력',\n",
       " 238: '가슴',\n",
       " 239: '맞',\n",
       " 240: '인지',\n",
       " 241: '몰입',\n",
       " 242: '원작',\n",
       " 243: '인간',\n",
       " 244: '높',\n",
       " 245: 'ㄷ',\n",
       " 246: '밋',\n",
       " 247: '준',\n",
       " 248: '만드',\n",
       " 249: '굿',\n",
       " 250: '급',\n",
       " 251: '눈물',\n",
       " 252: '보여',\n",
       " 253: '찍',\n",
       " 254: '인가',\n",
       " 255: '신',\n",
       " 256: '용',\n",
       " 257: '코미디',\n",
       " 258: '쓰',\n",
       " 259: '란',\n",
       " 260: '노',\n",
       " 261: '추천',\n",
       " 262: '모든',\n",
       " 263: '아닌',\n",
       " 264: '아직',\n",
       " 265: '마',\n",
       " 266: '처럼',\n",
       " 267: '스럽',\n",
       " 268: '자체',\n",
       " 269: '여',\n",
       " 270: '울',\n",
       " 271: '눈',\n",
       " 272: '몇',\n",
       " 273: '대한',\n",
       " 274: '을까',\n",
       " 275: '실망',\n",
       " 276: '대박',\n",
       " 277: '는다',\n",
       " 278: '그런',\n",
       " 279: '죠',\n",
       " 280: '솔직히',\n",
       " 281: '캐릭터',\n",
       " 282: '모두',\n",
       " 283: '아주',\n",
       " 284: '전혀',\n",
       " 285: '가족',\n",
       " 286: '건지',\n",
       " 287: '여운',\n",
       " 288: '될',\n",
       " 289: '연기력',\n",
       " 290: '다면',\n",
       " 291: '뭔가',\n",
       " 292: '나라',\n",
       " 293: '화',\n",
       " 294: '후',\n",
       " 295: '그래도',\n",
       " 296: '시리즈',\n",
       " 297: '작',\n",
       " 298: '구',\n",
       " 299: '모습',\n",
       " 300: '표현',\n",
       " 301: '비',\n",
       " 302: '공감',\n",
       " 303: '근데',\n",
       " 304: '이랑',\n",
       " 305: '계속',\n",
       " 306: '제목',\n",
       " 307: '개봉',\n",
       " 308: '먹',\n",
       " 309: '봐야',\n",
       " 310: '극장',\n",
       " 311: '바',\n",
       " 312: '이걸',\n",
       " 313: '부분',\n",
       " 314: '그렇',\n",
       " 315: '대단',\n",
       " 316: '어디',\n",
       " 317: '억지',\n",
       " 318: '된다',\n",
       " 319: '아쉽',\n",
       " 320: '물',\n",
       " 321: '작가',\n",
       " 322: '기분',\n",
       " 323: '진',\n",
       " 324: '대사',\n",
       " 325: '해도',\n",
       " 326: '보이',\n",
       " 327: '4',\n",
       " 328: '제',\n",
       " 329: '놓',\n",
       " 330: '진심',\n",
       " 331: '치',\n",
       " 332: '삶',\n",
       " 333: '막장',\n",
       " 334: 'ㅠ',\n",
       " 335: '웃기',\n",
       " 336: '친구',\n",
       " 337: '타임',\n",
       " 338: '잔잔',\n",
       " 339: '이제',\n",
       " 340: '가지',\n",
       " 341: '라도',\n",
       " 342: '조금',\n",
       " 343: '5',\n",
       " 344: '찾',\n",
       " 345: '감',\n",
       " 346: '씬',\n",
       " 347: '싫',\n",
       " 348: '요즘',\n",
       " 349: '딱',\n",
       " 350: '스릴러',\n",
       " 351: '어떻게',\n",
       " 352: '아까운',\n",
       " 353: '나왔',\n",
       " 354: '영상',\n",
       " 355: '긴장감',\n",
       " 356: '믿',\n",
       " 357: '제대로',\n",
       " 358: '중간',\n",
       " 359: '개인',\n",
       " 360: '부족',\n",
       " 361: '이유',\n",
       " 362: '만큼',\n",
       " 363: 'ㅜㅜ',\n",
       " 364: '노래',\n",
       " 365: '시작',\n",
       " 366: '점수',\n",
       " 367: '라면',\n",
       " 368: '같이',\n",
       " 369: '구나',\n",
       " 370: '0',\n",
       " 371: '특히',\n",
       " 372: '잇',\n",
       " 373: '한테',\n",
       " 374: '려고',\n",
       " 375: '제일',\n",
       " 376: '시대',\n",
       " 377: '아름다운',\n",
       " 378: '의미',\n",
       " 379: '날',\n",
       " 380: '니까',\n",
       " 381: '당시',\n",
       " 382: '명',\n",
       " 383: '무섭',\n",
       " 384: '나름',\n",
       " 385: '사',\n",
       " 386: '해요',\n",
       " 387: '오랜만',\n",
       " 388: '나온',\n",
       " 389: '7',\n",
       " 390: '팬',\n",
       " 391: '차라리',\n",
       " 392: 'ㅋㅋㅋㅋ',\n",
       " 393: '세상',\n",
       " 394: '봐',\n",
       " 395: '이것',\n",
       " 396: '절대',\n",
       " 397: '엔딩',\n",
       " 398: '세',\n",
       " 399: '너무나',\n",
       " 400: '훌륭',\n",
       " 401: '봄',\n",
       " 402: '됨',\n",
       " 403: '느끼',\n",
       " 404: '해야',\n",
       " 405: '빼',\n",
       " 406: '따뜻',\n",
       " 407: '강추',\n",
       " 408: '글',\n",
       " 409: '드',\n",
       " 410: '감정',\n",
       " 411: '도대체',\n",
       " 412: '전쟁',\n",
       " 413: '흥미',\n",
       " 414: '못하',\n",
       " 415: '어야',\n",
       " 416: '어도',\n",
       " 417: '답답',\n",
       " 418: '놈',\n",
       " 419: '마다',\n",
       " 420: '설정',\n",
       " 421: '무엇',\n",
       " 422: '준다',\n",
       " 423: '수작',\n",
       " 424: '만화',\n",
       " 425: '행복',\n",
       " 426: '그저',\n",
       " 427: '신선',\n",
       " 428: '던데',\n",
       " 429: '앞',\n",
       " 430: '사실',\n",
       " 431: '뻔',\n",
       " 432: '시절',\n",
       " 433: '허접',\n",
       " 434: '관객',\n",
       " 435: '욕',\n",
       " 436: '배경',\n",
       " 437: '형',\n",
       " 438: '웃음',\n",
       " 439: '자신',\n",
       " 440: '더라',\n",
       " 441: '답',\n",
       " 442: '질',\n",
       " 443: '라니',\n",
       " 444: '엄청',\n",
       " 445: '캐스팅',\n",
       " 446: '추억',\n",
       " 447: '8',\n",
       " 448: '어색',\n",
       " 449: '시나리오',\n",
       " 450: '첨',\n",
       " 451: '멋있',\n",
       " 452: '군',\n",
       " 453: '분위기',\n",
       " 454: '밖에',\n",
       " 455: '슬프',\n",
       " 456: '미국',\n",
       " 457: '초반',\n",
       " 458: '머',\n",
       " 459: '힘들',\n",
       " 460: '소름',\n",
       " 461: '멋진',\n",
       " 462: '류',\n",
       " 463: '오늘',\n",
       " 464: '집',\n",
       " 465: '정신',\n",
       " 466: '역사',\n",
       " 467: '소리',\n",
       " 468: '잡',\n",
       " 469: '구성',\n",
       " 470: '엄마',\n",
       " 471: '위해',\n",
       " 472: '함께',\n",
       " 473: '보고',\n",
       " 474: '봐서',\n",
       " 475: '잊',\n",
       " 476: '졸작',\n",
       " 477: '어이없',\n",
       " 478: '문제',\n",
       " 479: '9',\n",
       " 480: '유쾌',\n",
       " 481: '결국',\n",
       " 482: '스러운',\n",
       " 483: '낫',\n",
       " 484: '등',\n",
       " 485: '이딴',\n",
       " 486: '뭘',\n",
       " 487: '한데',\n",
       " 488: '뭔',\n",
       " 489: '영화관',\n",
       " 490: '아무리',\n",
       " 491: '난다',\n",
       " 492: '제발',\n",
       " 493: '킬링',\n",
       " 494: '뻔한',\n",
       " 495: '어떤',\n",
       " 496: '20',\n",
       " 497: '얼마나',\n",
       " 498: '코믹',\n",
       " 499: '포스터',\n",
       " 500: '후회',\n",
       " 501: '애니메이션',\n",
       " 502: '맘',\n",
       " 503: '더니',\n",
       " 504: '완벽',\n",
       " 505: '간',\n",
       " 506: '출연',\n",
       " 507: '주연',\n",
       " 508: '러',\n",
       " 509: '원',\n",
       " 510: '버리',\n",
       " 511: '밖',\n",
       " 512: '어릴',\n",
       " 513: '진부',\n",
       " 514: '보단',\n",
       " 515: '됐',\n",
       " 516: '나요',\n",
       " 517: '나올',\n",
       " 518: '큰',\n",
       " 519: '책',\n",
       " 520: '장난',\n",
       " 521: '둘',\n",
       " 522: '극',\n",
       " 523: '충격',\n",
       " 524: '동안',\n",
       " 525: '개연',\n",
       " 526: '여기',\n",
       " 527: '평가',\n",
       " 528: '잔인',\n",
       " 529: 'ㅅ',\n",
       " 530: '텐데',\n",
       " 531: '얘기',\n",
       " 532: '아름답',\n",
       " 533: '하지만',\n",
       " 534: '예술',\n",
       " 535: '매우',\n",
       " 536: '으나',\n",
       " 537: '갈수록',\n",
       " 538: '위한',\n",
       " 539: '이후',\n",
       " 540: '이리',\n",
       " 541: '꺼',\n",
       " 542: '시청',\n",
       " 543: '읽',\n",
       " 544: '든',\n",
       " 545: '꽤',\n",
       " 546: '얼굴',\n",
       " 547: '배',\n",
       " 548: '티비',\n",
       " 549: '못한',\n",
       " 550: '옛날',\n",
       " 551: '별점',\n",
       " 552: '순수',\n",
       " 553: '자기',\n",
       " 554: '이쁘',\n",
       " 555: '겟',\n",
       " 556: '건가',\n",
       " 557: '낭비',\n",
       " 558: '줬',\n",
       " 559: '봐라',\n",
       " 560: '그렇게',\n",
       " 561: '장르',\n",
       " 562: '라서',\n",
       " 563: '언제',\n",
       " 564: '6',\n",
       " 565: '그래서',\n",
       " 566: '깊',\n",
       " 567: '진정',\n",
       " 568: '비디오',\n",
       " 569: '다운',\n",
       " 570: '다음',\n",
       " 571: '다큐',\n",
       " 572: '엇',\n",
       " 573: '불쌍',\n",
       " 574: '학교',\n",
       " 575: '머리',\n",
       " 576: '시키',\n",
       " 577: '궁금',\n",
       " 578: '주제',\n",
       " 579: '예전',\n",
       " 580: '누구',\n",
       " 581: '뒤',\n",
       " 582: '아님',\n",
       " 583: '미친',\n",
       " 584: '아무',\n",
       " 585: '스릴',\n",
       " 586: '오래',\n",
       " 587: '상황',\n",
       " 588: '그만',\n",
       " 589: '감사',\n",
       " 590: '크',\n",
       " 591: '더빙',\n",
       " 592: '이름',\n",
       " 593: '그러',\n",
       " 594: '시즌',\n",
       " 595: '어느',\n",
       " 596: '본다',\n",
       " 597: '약간',\n",
       " 598: '방송',\n",
       " 599: '집중',\n",
       " 600: '무',\n",
       " 601: '입',\n",
       " 602: '힘',\n",
       " 603: '나와서',\n",
       " 604: '로맨스',\n",
       " 605: '인상',\n",
       " 606: '그나마',\n",
       " 607: '짜리',\n",
       " 608: '났',\n",
       " 609: '인물',\n",
       " 610: '소설',\n",
       " 611: '그대로',\n",
       " 612: '반',\n",
       " 613: '까',\n",
       " 614: '떨어지',\n",
       " 615: '마세요',\n",
       " 616: '사회',\n",
       " 617: '훨씬',\n",
       " 618: '그것',\n",
       " 619: '여주인공',\n",
       " 620: '실화',\n",
       " 621: '누가',\n",
       " 622: '대체',\n",
       " 623: '회',\n",
       " 624: '존나',\n",
       " 625: '식',\n",
       " 626: '죽이',\n",
       " 627: '걸작',\n",
       " 628: '해라',\n",
       " 629: '영상미',\n",
       " 630: '짓',\n",
       " 631: '꿈',\n",
       " 632: '너',\n",
       " 633: '평',\n",
       " 634: '막',\n",
       " 635: '전체',\n",
       " 636: '만점',\n",
       " 637: '비슷',\n",
       " 638: '케',\n",
       " 639: '발연기',\n",
       " 640: '왔',\n",
       " 641: '에요',\n",
       " 642: '엉성',\n",
       " 643: '망',\n",
       " 644: '비교',\n",
       " 645: '중국',\n",
       " 646: '단',\n",
       " 647: '감성',\n",
       " 648: '귀엽',\n",
       " 649: '햇',\n",
       " 650: '초딩',\n",
       " 651: '는가',\n",
       " 652: '여주',\n",
       " 653: '세계',\n",
       " 654: '나이',\n",
       " 655: '려는',\n",
       " 656: '느껴',\n",
       " 657: '네이버',\n",
       " 658: '여배우',\n",
       " 659: '상',\n",
       " 660: '30',\n",
       " 661: '한마디',\n",
       " 662: '대해',\n",
       " 663: '순간',\n",
       " 664: '쯤',\n",
       " 665: '타',\n",
       " 666: '아들',\n",
       " 667: '맨',\n",
       " 668: '어렸',\n",
       " 669: '끝나',\n",
       " 670: '갔',\n",
       " 671: '혼자',\n",
       " 672: '어설픈',\n",
       " 673: '아야',\n",
       " 674: '돋',\n",
       " 675: '느낄',\n",
       " 676: '꿀',\n",
       " 677: '어린',\n",
       " 678: '초',\n",
       " 679: '애니',\n",
       " 680: '나가',\n",
       " 681: '더럽',\n",
       " 682: '100',\n",
       " 683: '가능',\n",
       " 684: '성룡',\n",
       " 685: '졸',\n",
       " 686: '바로',\n",
       " 687: '삼류',\n",
       " 688: '셨',\n",
       " 689: '잘못',\n",
       " 690: '교훈',\n",
       " 691: '잠',\n",
       " 692: '멋지',\n",
       " 693: '불',\n",
       " 694: '끌',\n",
       " 695: '화려',\n",
       " 696: '길래',\n",
       " 697: '판',\n",
       " 698: '당신',\n",
       " 699: '맛',\n",
       " 700: '존',\n",
       " 701: '판타지',\n",
       " 702: '딸',\n",
       " 703: '땜',\n",
       " 704: '달',\n",
       " 705: '미',\n",
       " 706: '아까움',\n",
       " 707: '든다',\n",
       " 708: '빨리',\n",
       " 709: '똥',\n",
       " 710: '목소리',\n",
       " 711: '듣',\n",
       " 712: '군요',\n",
       " 713: '다르',\n",
       " 714: '봤었',\n",
       " 715: '독특',\n",
       " 716: '전부',\n",
       " 717: '건데',\n",
       " 718: '차',\n",
       " 719: '어른',\n",
       " 720: '거의',\n",
       " 721: 'ㅉㅉ',\n",
       " 722: '가치',\n",
       " 723: '률',\n",
       " 724: '질질',\n",
       " 725: '나온다',\n",
       " 726: '상당히',\n",
       " 727: '씩',\n",
       " 728: '다만',\n",
       " 729: '티',\n",
       " 730: '첫',\n",
       " 731: '아버지',\n",
       " 732: '넣',\n",
       " 733: '이하',\n",
       " 734: '존재',\n",
       " 735: '위',\n",
       " 736: '스타일',\n",
       " 737: '그러나',\n",
       " 738: '갑자기',\n",
       " 739: '줄거리',\n",
       " 740: '평론가',\n",
       " 741: '여러',\n",
       " 742: '의도',\n",
       " 743: '이번',\n",
       " 744: '에선',\n",
       " 745: '허무',\n",
       " 746: '저런',\n",
       " 747: 'ㅂ',\n",
       " 748: '밑',\n",
       " 749: '영',\n",
       " 750: '너무너무',\n",
       " 751: '버린',\n",
       " 752: '으면서',\n",
       " 753: '째',\n",
       " 754: '90',\n",
       " 755: '각본',\n",
       " 756: '생',\n",
       " 757: '그녀',\n",
       " 758: '12',\n",
       " 759: '예상',\n",
       " 760: '성우',\n",
       " 761: '화면',\n",
       " 762: '이러',\n",
       " 763: '뻔하',\n",
       " 764: '한번',\n",
       " 765: '떠나',\n",
       " 766: '담',\n",
       " 767: '예쁘',\n",
       " 768: '비해',\n",
       " 769: '구만',\n",
       " 770: '대로',\n",
       " 771: '자연',\n",
       " 772: '한편',\n",
       " 773: '만나',\n",
       " 774: '굉장히',\n",
       " 775: '관람',\n",
       " 776: '평범',\n",
       " 777: '복수',\n",
       " 778: '슬픈',\n",
       " 779: '제작',\n",
       " 780: '단순',\n",
       " 781: '그런지',\n",
       " 782: '당',\n",
       " 783: '중요',\n",
       " 784: '갖',\n",
       " 785: '새로운',\n",
       " 786: '낸',\n",
       " 787: '만족',\n",
       " 788: '댓글',\n",
       " 789: '돼',\n",
       " 790: '쉽',\n",
       " 791: '선택',\n",
       " 792: '앗',\n",
       " 793: '요소',\n",
       " 794: '불편',\n",
       " 795: '일단',\n",
       " 796: '아빠',\n",
       " 797: '쓴',\n",
       " 798: '항상',\n",
       " 799: '멜',\n",
       " 800: '거기',\n",
       " 801: '한다는',\n",
       " 802: '스',\n",
       " 803: '부',\n",
       " 804: '연출력',\n",
       " 805: '그때',\n",
       " 806: '극장판',\n",
       " 807: '거나',\n",
       " 808: '지나',\n",
       " 809: '피',\n",
       " 810: '롭',\n",
       " 811: '탄탄',\n",
       " 812: '나옴',\n",
       " 813: '잃',\n",
       " 814: '편집',\n",
       " 815: '산',\n",
       " 816: '물론',\n",
       " 817: '흥행',\n",
       " 818: '줌',\n",
       " 819: '진행',\n",
       " 820: '역대',\n",
       " 821: '예요',\n",
       " 822: '관계',\n",
       " 823: '굳',\n",
       " 824: '점점',\n",
       " 825: '전형',\n",
       " 826: '짧',\n",
       " 827: '한심',\n",
       " 828: '도록',\n",
       " 829: '충분히',\n",
       " 830: '려',\n",
       " 831: '에로',\n",
       " 832: '아닌가',\n",
       " 833: '에겐',\n",
       " 834: '따',\n",
       " 835: 'ㄱ',\n",
       " 836: '안타깝',\n",
       " 837: '식상',\n",
       " 838: '법',\n",
       " 839: '던가',\n",
       " 840: '자꾸',\n",
       " 841: '아까워',\n",
       " 842: '삼',\n",
       " 843: '버렸',\n",
       " 844: '개그',\n",
       " 845: '따라',\n",
       " 846: '미안',\n",
       " 847: '게임',\n",
       " 848: '훈훈',\n",
       " 849: '구요',\n",
       " 850: '몸',\n",
       " 851: '손',\n",
       " 852: '원래',\n",
       " 853: '역',\n",
       " 854: '사건',\n",
       " 855: '풀',\n",
       " 856: '곳',\n",
       " 857: '그게',\n",
       " 858: '조차',\n",
       " 859: '자극',\n",
       " 860: '불륜',\n",
       " 861: '발',\n",
       " 862: '총',\n",
       " 863: '어쩔',\n",
       " 864: '설명',\n",
       " 865: '똑같',\n",
       " 866: '조',\n",
       " 867: '어울리',\n",
       " 868: '미화',\n",
       " 869: '프랑스',\n",
       " 870: '간다',\n",
       " 871: '또한',\n",
       " 872: '뭔지',\n",
       " 873: '과거',\n",
       " 874: '못했',\n",
       " 875: '노력',\n",
       " 876: '나쁜',\n",
       " 877: '빠져',\n",
       " 878: '잖아',\n",
       " 879: '도저히',\n",
       " 880: '화이팅',\n",
       " 881: '귀신',\n",
       " 882: '그래픽',\n",
       " 883: '됬',\n",
       " 884: '짐',\n",
       " 885: '아프',\n",
       " 886: '김',\n",
       " 887: '중반',\n",
       " 888: '홍콩',\n",
       " 889: '취향',\n",
       " 890: '듬',\n",
       " 891: '코메디',\n",
       " 892: '좋아하',\n",
       " 893: '참신',\n",
       " 894: '닿',\n",
       " 895: '황당',\n",
       " 896: '했었',\n",
       " 897: '빠',\n",
       " 898: '죽음',\n",
       " 899: '무조건',\n",
       " 900: '소중',\n",
       " 901: 'ㅜ',\n",
       " 902: '상영',\n",
       " 903: '속편',\n",
       " 904: '팔',\n",
       " 905: '미치',\n",
       " 906: '나쁘',\n",
       " 907: '새끼',\n",
       " 908: '프로',\n",
       " 909: '멋',\n",
       " 910: '80',\n",
       " 911: '상상',\n",
       " 912: '아쉬운',\n",
       " 913: '더욱',\n",
       " 914: '무서운',\n",
       " 915: '유명',\n",
       " 916: '장',\n",
       " 917: '빠지',\n",
       " 918: '넘치',\n",
       " 919: '특유',\n",
       " 920: '순',\n",
       " 921: '진지',\n",
       " 922: '무비',\n",
       " 923: '쳐',\n",
       " 924: '심리',\n",
       " 925: '결혼',\n",
       " 926: '짱짱',\n",
       " 927: '엄청난',\n",
       " 928: '틀',\n",
       " 929: '괜히',\n",
       " 930: '숨',\n",
       " 931: '병맛',\n",
       " 932: '오히려',\n",
       " 933: '예고편',\n",
       " 934: '전설',\n",
       " 935: '후반부',\n",
       " 936: '심하',\n",
       " 937: '연기자',\n",
       " 938: '고자',\n",
       " 939: '짜',\n",
       " 940: '헐',\n",
       " 941: '아저씨',\n",
       " 942: '열',\n",
       " 943: '바보',\n",
       " 944: '촬영',\n",
       " 945: '조연',\n",
       " 946: '척',\n",
       " 947: '느꼈',\n",
       " 948: '아도',\n",
       " 949: '온',\n",
       " 950: '천재',\n",
       " 951: '소녀',\n",
       " 952: '마무리',\n",
       " 953: '희망',\n",
       " 954: '으니',\n",
       " 955: '로맨틱',\n",
       " 956: '현재',\n",
       " 957: '표정',\n",
       " 958: '왕',\n",
       " 959: '그리',\n",
       " 960: '최근',\n",
       " 961: '는구나',\n",
       " 962: '거리',\n",
       " 963: '전편',\n",
       " 964: 'ㄴ',\n",
       " 965: '가볍',\n",
       " 966: '몰',\n",
       " 967: '아무것',\n",
       " 968: '힘든',\n",
       " 969: '어라',\n",
       " 970: '동화',\n",
       " 971: '쩔',\n",
       " 972: '로서',\n",
       " 973: '부모',\n",
       " 974: '억지로',\n",
       " 975: '아쉬움',\n",
       " 976: '진실',\n",
       " 977: '대작',\n",
       " 978: '리',\n",
       " 979: '서로',\n",
       " 980: '저질',\n",
       " 981: '던지',\n",
       " 982: '즐겁',\n",
       " 983: '빨',\n",
       " 984: '비추',\n",
       " 985: '대한민국',\n",
       " 986: '돌',\n",
       " 987: '감상',\n",
       " 988: '나와',\n",
       " 989: '노출',\n",
       " 990: '이래',\n",
       " 991: '메세지',\n",
       " 992: '우연히',\n",
       " 993: '여성',\n",
       " 994: '끝내',\n",
       " 995: '몰랐',\n",
       " 996: '그림',\n",
       " 997: '엉망',\n",
       " 998: '묘사',\n",
       " 999: 'ㅡ',\n",
       " ...}"
      ]
     },
     "execution_count": 14,
     "metadata": {},
     "output_type": "execute_result"
    }
   ],
   "source": [
    "# key= index, value= word로 변경\n",
    "index_to_word = {index:word for word, index in word_to_index.items()}\n",
    "index_to_word"
   ]
  },
  {
   "cell_type": "code",
   "execution_count": 15,
   "metadata": {},
   "outputs": [],
   "source": [
    "# 활용할 딕셔너리와 함께 문장 1개를 주면, 단어 인덱스 리스트 벡터로 변환해 주는 함수입니다. \n",
    "# 단, 모든 문장은 <BOS>로 시작하는 것으로 합니다. \n",
    "def get_encoded_sentence(sentence, word_to_index):\n",
    "    return [word_to_index['<BOS>']]+[word_to_index[word] if word in word_to_index else word_to_index['<UNK>'] for word in sentence.split()]\n",
    "\n",
    "# 여러 개의 문장 리스트를 한꺼번에 단어 인덱스 리스트 벡터로 encode해 주는 함수입니다. \n",
    "def get_encoded_sentences(sentences, word_to_index):\n",
    "    return [get_encoded_sentence(sentence, word_to_index) for sentence in sentences]\n",
    "\n",
    "# 숫자 벡터로 encode된 문장을 원래대로 decode하는 함수입니다. \n",
    "def get_decoded_sentence(encoded_sentence, index_to_word):\n",
    "    return ' '.join(index_to_word[index] if index in index_to_word else '<UNK>' for index in encoded_sentence[1:])  #[1:]를 통해 <BOS>를 제외\n",
    "\n",
    "# 여러개의 숫자 벡터로 encode된 문장을 한꺼번에 원래대로 decode하는 함수입니다. \n",
    "def get_decoded_sentences(encoded_sentences, index_to_word):\n",
    "    return [get_decoded_sentence(encoded_sentence, index_to_word) for encoded_sentence in encoded_sentences]"
   ]
  },
  {
   "cell_type": "markdown",
   "metadata": {},
   "source": [
    "## 3. 모델구성을 위한 데이터 분석 및 가공\n",
    "* 데이터셋 내 문장 길이 분포\n",
    "* 적절한 최대 문장 길이 지정\n",
    "* keras.preprocessing.sequence.pad_sequences 을 활용한 패딩 추가"
   ]
  },
  {
   "cell_type": "markdown",
   "metadata": {},
   "source": [
    "### 3-1. 데이터셋 내 문장 길이 분포"
   ]
  },
  {
   "cell_type": "code",
   "execution_count": 16,
   "metadata": {},
   "outputs": [
    {
     "name": "stdout",
     "output_type": "stream",
     "text": [
      "문장길이 평균 :  14.073962589808374\n",
      "문장길이 최대 :  84\n",
      "문장길이 표준편차 :  11.57762930071467\n"
     ]
    }
   ],
   "source": [
    "total_data_text = list(x_train) + list(x_test)\n",
    "# 텍스트데이터 문장길이의 리스트를 생성한 후\n",
    "num_tokens = [len(tokens) for tokens in total_data_text]\n",
    "num_tokens = np.array(num_tokens)\n",
    "\n",
    "# 문장길이의 평균값, 최대값, 표준편차를 계산해 본다. \n",
    "print('문장길이 평균 : ', np.mean(num_tokens))\n",
    "print('문장길이 최대 : ', np.max(num_tokens))\n",
    "print('문장길이 표준편차 : ', np.std(num_tokens))"
   ]
  },
  {
   "cell_type": "markdown",
   "metadata": {},
   "source": [
    "### 3-2. 적절한 최대 문장 길이 지정"
   ]
  },
  {
   "cell_type": "code",
   "execution_count": 17,
   "metadata": {},
   "outputs": [
    {
     "name": "stderr",
     "output_type": "stream",
     "text": [
      "/home/aiffel-d34j/anaconda3/envs/aiffel/lib/python3.7/site-packages/seaborn/distributions.py:2557: FutureWarning: `distplot` is a deprecated function and will be removed in a future version. Please adapt your code to use either `displot` (a figure-level function with similar flexibility) or `histplot` (an axes-level function for histograms).\n",
      "  warnings.warn(msg, FutureWarning)\n"
     ]
    },
    {
     "data": {
      "text/plain": [
       "<AxesSubplot:ylabel='Density'>"
      ]
     },
     "execution_count": 17,
     "metadata": {},
     "output_type": "execute_result"
    },
    {
     "data": {
      "image/png": "[encoded data removed]",
      "text/plain": [
       "<Figure size 432x288 with 1 Axes>"
      ]
     },
     "metadata": {
      "needs_background": "light"
     },
     "output_type": "display_data"
    }
   ],
   "source": [
    "# 문장 길이 분포 시각화\n",
    "sns.distplot(num_tokens)"
   ]
  },
  {
   "cell_type": "code",
   "execution_count": 18,
   "metadata": {},
   "outputs": [
    {
     "name": "stdout",
     "output_type": "stream",
     "text": [
      "pad_sequences maxlen :  48\n",
      "전체 문장의 97.07986316894892%가 maxlen 설정값 이내에 포함됩니다. \n"
     ]
    }
   ],
   "source": [
    "# 최대 길이를 (평균 + 2*표준편차)로 한다면,  \n",
    "max_tokens = np.mean(num_tokens) + 3 * np.std(num_tokens)\n",
    "maxlen = int(max_tokens)\n",
    "\n",
    "print('pad_sequences maxlen : ', maxlen)\n",
    "print('전체 문장의 {}%가 maxlen 설정값 이내에 포함됩니다. '.format(np.sum(num_tokens < max_tokens) / len(num_tokens) * 100))"
   ]
  },
  {
   "cell_type": "markdown",
   "metadata": {},
   "source": [
    "### 3-3. keras.preprocessing.sequence.pad_sequences 을 활용한 패딩 추가"
   ]
  },
  {
   "cell_type": "code",
   "execution_count": 19,
   "metadata": {},
   "outputs": [
    {
     "name": "stdout",
     "output_type": "stream",
     "text": [
      "shape of x_train :  (143856, 48)\n",
      "shape of x_test :  (48498, 48)\n"
     ]
    }
   ],
   "source": [
    "# 문장의 길이가 maxlen 보다 짧은 문장에는 <PAD>를 추가\n",
    "x_train = keras.preprocessing.sequence.pad_sequences(x_train,\n",
    "                                                        value=word_to_index[\"<PAD>\"],\n",
    "                                                        padding='pre', \n",
    "                                                        maxlen=maxlen)\n",
    "\n",
    "x_test = keras.preprocessing.sequence.pad_sequences(x_test,\n",
    "                                                       value=word_to_index[\"<PAD>\"],\n",
    "                                                       padding='pre', \n",
    "                                                       maxlen=maxlen)\n",
    "\n",
    "print('shape of x_train : ', x_train.shape)\n",
    "print('shape of x_test : ', x_test.shape)"
   ]
  },
  {
   "cell_type": "markdown",
   "metadata": {},
   "source": [
    "## 4. 모델구성 및 validation set 구성\n",
    "모델은 3가지 이상 다양하게 구성하여 실험해 보세요."
   ]
  },
  {
   "cell_type": "markdown",
   "metadata": {},
   "source": [
    "### 4-1. train set, validation set 구성"
   ]
  },
  {
   "cell_type": "code",
   "execution_count": 20,
   "metadata": {},
   "outputs": [
    {
     "name": "stdout",
     "output_type": "stream",
     "text": [
      "115084\n"
     ]
    }
   ],
   "source": [
    "print(int(x_train.shape[0]*0.8))"
   ]
  },
  {
   "cell_type": "code",
   "execution_count": 21,
   "metadata": {},
   "outputs": [
    {
     "name": "stdout",
     "output_type": "stream",
     "text": [
      "(115084, 48) (115084,)\n",
      "(28772, 48) (28772,)\n"
     ]
    }
   ],
   "source": [
    "# train data set에서 8:2의 비율로 train과 validation으로 분리, RNN에서는 순서가 중요하므로 shuffle은 진행하지 않도록 한다.\n",
    "# train set\n",
    "partial_x_train = x_train[:int(x_train.shape[0]*0.8)]\n",
    "partial_y_train = y_train[:int(y_train.shape[0]*0.8)]\n",
    "\n",
    "# validation set\n",
    "x_valid = x_train[int(x_train.shape[0]*0.8):]\n",
    "y_valid = y_train[int(x_train.shape[0]*0.8):]\n",
    "\n",
    "print(partial_x_train.shape, partial_y_train.shape)\n",
    "print(x_valid.shape, y_valid.shape)"
   ]
  },
  {
   "cell_type": "markdown",
   "metadata": {},
   "source": [
    "### 4-2-1. RNN 모델"
   ]
  },
  {
   "cell_type": "code",
   "execution_count": 80,
   "metadata": {},
   "outputs": [
    {
     "name": "stdout",
     "output_type": "stream",
     "text": [
      "Model: \"sequential_9\"\n",
      "_________________________________________________________________\n",
      "Layer (type)                 Output Shape              Param #   \n",
      "=================================================================\n",
      "embedding_9 (Embedding)      (None, None, 200)         2000000   \n",
      "_________________________________________________________________\n",
      "gru_3 (GRU)                  (None, 128)               126720    \n",
      "_________________________________________________________________\n",
      "dense_18 (Dense)             (None, 16)                2064      \n",
      "_________________________________________________________________\n",
      "dense_19 (Dense)             (None, 1)                 17        \n",
      "=================================================================\n",
      "Total params: 2,128,801\n",
      "Trainable params: 2,128,801\n",
      "Non-trainable params: 0\n",
      "_________________________________________________________________\n"
     ]
    }
   ],
   "source": [
    "vocab_size = 10000  # 어휘 사전의 크기(10,000개의 단어)\n",
    "word_vector_dim = 200  # 단어 하나를 표현하는 임베딩 벡터의 차원 \n",
    "\n",
    "model1 = keras.Sequential()\n",
    "model1.add(keras.layers.Embedding(vocab_size, word_vector_dim, input_shape=(None,)))\n",
    "# model1.add(keras.layers.LSTM(128))                        #  RNN에서 가장 널리 사용하는 LSTM 레이어 사용\n",
    "model1.add(keras.layers.GRU(128))                            # LSTM 모델을 발전 시킨 모델\n",
    "model1.add(keras.layers.Dense(16, activation='relu'))\n",
    "model1.add(keras.layers.Dense(1, activation='sigmoid'))  # 최종 출력은 긍정/부정을 나타내는 1 dim \n",
    "\n",
    "model1.summary()"
   ]
  },
  {
   "cell_type": "markdown",
   "metadata": {},
   "source": [
    "### 4-2-2. RNN 모델 훈련"
   ]
  },
  {
   "cell_type": "code",
   "execution_count": 81,
   "metadata": {},
   "outputs": [
    {
     "name": "stdout",
     "output_type": "stream",
     "text": [
      "Epoch 1/20\n",
      "225/225 [==============================] - 8s 35ms/step - loss: 0.4139 - accuracy: 0.8097 - val_loss: 0.3571 - val_accuracy: 0.8434\n",
      "Epoch 2/20\n",
      "225/225 [==============================] - 8s 34ms/step - loss: 0.3211 - accuracy: 0.8620 - val_loss: 0.3379 - val_accuracy: 0.8524\n",
      "Epoch 3/20\n",
      "225/225 [==============================] - 8s 34ms/step - loss: 0.2839 - accuracy: 0.8792 - val_loss: 0.3345 - val_accuracy: 0.8553\n",
      "Epoch 4/20\n",
      "225/225 [==============================] - 8s 34ms/step - loss: 0.2540 - accuracy: 0.8924 - val_loss: 0.3555 - val_accuracy: 0.8544\n",
      "Epoch 5/20\n",
      "225/225 [==============================] - 8s 35ms/step - loss: 0.2284 - accuracy: 0.9041 - val_loss: 0.3793 - val_accuracy: 0.8478\n",
      "Epoch 6/20\n",
      "225/225 [==============================] - 8s 34ms/step - loss: 0.2058 - accuracy: 0.9146 - val_loss: 0.3914 - val_accuracy: 0.8482\n",
      "Epoch 7/20\n",
      "225/225 [==============================] - 8s 34ms/step - loss: 0.1846 - accuracy: 0.9234 - val_loss: 0.4395 - val_accuracy: 0.8461\n",
      "Epoch 8/20\n",
      "225/225 [==============================] - 8s 34ms/step - loss: 0.1648 - accuracy: 0.9333 - val_loss: 0.4771 - val_accuracy: 0.8453\n",
      "Epoch 9/20\n",
      "225/225 [==============================] - 8s 34ms/step - loss: 0.1438 - accuracy: 0.9419 - val_loss: 0.5326 - val_accuracy: 0.8419\n",
      "Epoch 10/20\n",
      "225/225 [==============================] - 8s 34ms/step - loss: 0.1305 - accuracy: 0.9472 - val_loss: 0.5539 - val_accuracy: 0.8395\n",
      "Epoch 11/20\n",
      "225/225 [==============================] - 8s 34ms/step - loss: 0.1156 - accuracy: 0.9535 - val_loss: 0.6542 - val_accuracy: 0.8406\n",
      "Epoch 12/20\n",
      "225/225 [==============================] - 8s 34ms/step - loss: 0.1035 - accuracy: 0.9583 - val_loss: 0.6550 - val_accuracy: 0.8377\n",
      "Epoch 13/20\n",
      "225/225 [==============================] - 8s 34ms/step - loss: 0.0921 - accuracy: 0.9629 - val_loss: 0.7601 - val_accuracy: 0.8389\n",
      "Epoch 14/20\n",
      "225/225 [==============================] - 8s 34ms/step - loss: 0.0826 - accuracy: 0.9665 - val_loss: 0.8264 - val_accuracy: 0.8306\n",
      "Epoch 15/20\n",
      "225/225 [==============================] - 8s 35ms/step - loss: 0.0756 - accuracy: 0.9694 - val_loss: 0.8775 - val_accuracy: 0.8311\n",
      "Epoch 16/20\n",
      "225/225 [==============================] - 8s 34ms/step - loss: 0.0659 - accuracy: 0.9737 - val_loss: 0.9519 - val_accuracy: 0.8275\n",
      "Epoch 17/20\n",
      "225/225 [==============================] - 8s 34ms/step - loss: 0.0588 - accuracy: 0.9761 - val_loss: 1.0389 - val_accuracy: 0.8292\n",
      "Epoch 18/20\n",
      "225/225 [==============================] - 8s 34ms/step - loss: 0.0549 - accuracy: 0.9785 - val_loss: 1.0379 - val_accuracy: 0.8268\n",
      "Epoch 19/20\n",
      "225/225 [==============================] - 8s 34ms/step - loss: 0.0509 - accuracy: 0.9800 - val_loss: 1.0908 - val_accuracy: 0.8307\n",
      "Epoch 20/20\n",
      "225/225 [==============================] - 8s 34ms/step - loss: 0.0435 - accuracy: 0.9826 - val_loss: 1.2058 - val_accuracy: 0.8293\n"
     ]
    }
   ],
   "source": [
    "# 학습 환경 설정\n",
    "model1.compile(optimizer='adam',\n",
    "              loss='binary_crossentropy',\n",
    "              metrics=['accuracy'])\n",
    "              \n",
    "epochs=20  # 몇 epoch를 훈련하면 좋을지 결과를 보면서 바꾸어 봅시다. \n",
    "\n",
    "# 모델 학습\n",
    "history = model1.fit(partial_x_train,\n",
    "                    partial_y_train,\n",
    "                    epochs=epochs,\n",
    "                    batch_size=512,\n",
    "                    validation_data=(x_valid, y_valid),\n",
    "                    verbose=1)"
   ]
  },
  {
   "cell_type": "markdown",
   "metadata": {},
   "source": [
    "### 4-2-3. Loss, Accuracy 그래프 시각화"
   ]
  },
  {
   "cell_type": "code",
   "execution_count": 82,
   "metadata": {},
   "outputs": [
    {
     "name": "stdout",
     "output_type": "stream",
     "text": [
      "dict_keys(['loss', 'accuracy', 'val_loss', 'val_accuracy'])\n"
     ]
    },
    {
     "data": {
      "image/png": "[encoded data removed]",
      "text/plain": [
       "<Figure size 432x288 with 1 Axes>"
      ]
     },
     "metadata": {
      "needs_background": "light"
     },
     "output_type": "display_data"
    },
    {
     "data": {
      "image/png": "[encoded data removed]",
      "text/plain": [
       "<Figure size 432x288 with 1 Axes>"
      ]
     },
     "metadata": {
      "needs_background": "light"
     },
     "output_type": "display_data"
    }
   ],
   "source": [
    "## Loss, Accuracy 그래프 시각화\n",
    "\n",
    "history_dict = history.history\n",
    "print(history_dict.keys()) # epoch에 따른 그래프를 그려볼 수 있는 항목들\n",
    "\n",
    "acc = history_dict['accuracy']\n",
    "val_acc = history_dict['val_accuracy']\n",
    "loss = history_dict['loss']\n",
    "val_loss = history_dict['val_loss']\n",
    "\n",
    "epochs = range(1, len(acc) + 1)\n",
    "\n",
    "# \"bo\"는 \"파란색 점\"입니다\n",
    "plt.plot(epochs, loss, 'bo', label='Training loss')\n",
    "# b는 \"파란 실선\"입니다\n",
    "plt.plot(epochs, val_loss, 'b', label='Validation loss')\n",
    "plt.title('Training and validation loss')\n",
    "plt.xlabel('Epochs')\n",
    "plt.ylabel('Loss')\n",
    "plt.legend()\n",
    "\n",
    "plt.show()\n",
    "\n",
    "plt.clf()   # 그림을 초기화합니다\n",
    "\n",
    "plt.plot(epochs, acc, 'bo', label='Training acc')\n",
    "plt.plot(epochs, val_acc, 'b', label='Validation acc')\n",
    "plt.title('Training and validation accuracy')\n",
    "plt.xlabel('Epochs')\n",
    "plt.ylabel('Accuracy')\n",
    "plt.legend()\n",
    "\n",
    "plt.show()"
   ]
  },
  {
   "cell_type": "markdown",
   "metadata": {},
   "source": [
    "loss(손실) 와 acc(정확도) 결과를 보면은 epoch가 2 이상부터 오버피팅이 발생하기 시작하므로 더이상 학습하는 것은 의미가 없다."
   ]
  },
  {
   "cell_type": "markdown",
   "metadata": {},
   "source": [
    "### 4-2-4. 테스트 평가"
   ]
  },
  {
   "cell_type": "code",
   "execution_count": 83,
   "metadata": {},
   "outputs": [
    {
     "name": "stdout",
     "output_type": "stream",
     "text": [
      "1516/1516 - 4s - loss: 1.1726 - accuracy: 0.8313\n",
      "[1.1726402044296265, 0.8313126564025879]\n"
     ]
    }
   ],
   "source": [
    "# test 결과\n",
    "results = model1.evaluate(x_test, y_test, verbose=2)\n",
    "\n",
    "print(results)"
   ]
  },
  {
   "cell_type": "markdown",
   "metadata": {},
   "source": [
    "* word_vector_dim = 100, LSTM(128), Dens(16) : loss: 1.0632 - accuracy: 0.8322\n",
    "* word_vector_dim = 100, GRU(128) , Dens(16) : loss: 0.9622 - accuracy: 0.8297\n",
    "* word_vector_dim = 200, GRU(128) , Dens(16) : loss: 1.1726 - accuracy: 0.8313\n",
    "* word_vector_dim = 300, GRU(128) , Dens(16) : loss: 1.2849 - accuracy: 0.8349"
   ]
  },
  {
   "cell_type": "markdown",
   "metadata": {},
   "source": [
    "### 4-3-1. 1-D Convolution Neural Network(1-D CNN) 모델"
   ]
  },
  {
   "cell_type": "code",
   "execution_count": 84,
   "metadata": {},
   "outputs": [
    {
     "name": "stdout",
     "output_type": "stream",
     "text": [
      "Model: \"sequential_10\"\n",
      "_________________________________________________________________\n",
      "Layer (type)                 Output Shape              Param #   \n",
      "=================================================================\n",
      "embedding_10 (Embedding)     (None, None, 100)         1000000   \n",
      "_________________________________________________________________\n",
      "conv1d_8 (Conv1D)            (None, None, 16)          11216     \n",
      "_________________________________________________________________\n",
      "max_pooling1d_4 (MaxPooling1 (None, None, 16)          0         \n",
      "_________________________________________________________________\n",
      "conv1d_9 (Conv1D)            (None, None, 16)          1808      \n",
      "_________________________________________________________________\n",
      "global_max_pooling1d_4 (Glob (None, 16)                0         \n",
      "_________________________________________________________________\n",
      "dense_20 (Dense)             (None, 8)                 136       \n",
      "_________________________________________________________________\n",
      "dense_21 (Dense)             (None, 1)                 9         \n",
      "=================================================================\n",
      "Total params: 1,013,169\n",
      "Trainable params: 1,013,169\n",
      "Non-trainable params: 0\n",
      "_________________________________________________________________\n"
     ]
    }
   ],
   "source": [
    "vocab_size = 10000  # 어휘 사전의 크기(10,000개의 단어)\n",
    "word_vector_dim = 100   # 단어 하나를 표현하는 임베딩 벡터의 차원 \n",
    "\n",
    "model2 = keras.Sequential()\n",
    "model2.add(keras.layers.Embedding(vocab_size, word_vector_dim, input_shape=(None,)))\n",
    "model2.add(keras.layers.Conv1D(16, 7, activation='relu'))\n",
    "model2.add(keras.layers.MaxPooling1D(5))\n",
    "model2.add(keras.layers.Conv1D(16, 7, activation='relu'))\n",
    "model2.add(keras.layers.GlobalMaxPooling1D())\n",
    "model2.add(keras.layers.Dense(8, activation='relu'))\n",
    "model2.add(keras.layers.Dense(1, activation='sigmoid'))  # 최종 출력은 긍정/부정을 나타내는 1dim 입니다.\n",
    "\n",
    "model2.summary()"
   ]
  },
  {
   "cell_type": "markdown",
   "metadata": {},
   "source": [
    "### 4-3-2. 1-D CNN 모델 훈련"
   ]
  },
  {
   "cell_type": "code",
   "execution_count": 85,
   "metadata": {},
   "outputs": [
    {
     "name": "stdout",
     "output_type": "stream",
     "text": [
      "Epoch 1/20\n",
      "225/225 [==============================] - 8s 34ms/step - loss: 0.5238 - accuracy: 0.7206 - val_loss: 0.4222 - val_accuracy: 0.8005\n",
      "Epoch 2/20\n",
      "225/225 [==============================] - 4s 16ms/step - loss: 0.3869 - accuracy: 0.8200 - val_loss: 0.4082 - val_accuracy: 0.8093\n",
      "Epoch 3/20\n",
      "225/225 [==============================] - 3s 15ms/step - loss: 0.3376 - accuracy: 0.8474 - val_loss: 0.4190 - val_accuracy: 0.8087\n",
      "Epoch 4/20\n",
      "225/225 [==============================] - 3s 15ms/step - loss: 0.2839 - accuracy: 0.8759 - val_loss: 0.4440 - val_accuracy: 0.8045\n",
      "Epoch 5/20\n",
      "225/225 [==============================] - 3s 15ms/step - loss: 0.2273 - accuracy: 0.9032 - val_loss: 0.4991 - val_accuracy: 0.7977\n",
      "Epoch 6/20\n",
      "225/225 [==============================] - 3s 15ms/step - loss: 0.1790 - accuracy: 0.9236 - val_loss: 0.5783 - val_accuracy: 0.7967\n",
      "Epoch 7/20\n",
      "225/225 [==============================] - 3s 15ms/step - loss: 0.1451 - accuracy: 0.9380 - val_loss: 0.6636 - val_accuracy: 0.7904\n",
      "Epoch 8/20\n",
      "225/225 [==============================] - 3s 15ms/step - loss: 0.1217 - accuracy: 0.9462 - val_loss: 0.7405 - val_accuracy: 0.7863\n",
      "Epoch 9/20\n",
      "225/225 [==============================] - 3s 15ms/step - loss: 0.1064 - accuracy: 0.9523 - val_loss: 0.8278 - val_accuracy: 0.7834\n",
      "Epoch 10/20\n",
      "225/225 [==============================] - 3s 15ms/step - loss: 0.0956 - accuracy: 0.9558 - val_loss: 0.9393 - val_accuracy: 0.7796\n",
      "Epoch 11/20\n",
      "225/225 [==============================] - 3s 15ms/step - loss: 0.0870 - accuracy: 0.9593 - val_loss: 1.0062 - val_accuracy: 0.7804\n",
      "Epoch 12/20\n",
      "225/225 [==============================] - 4s 16ms/step - loss: 0.0810 - accuracy: 0.9613 - val_loss: 1.0535 - val_accuracy: 0.7782\n",
      "Epoch 13/20\n",
      "225/225 [==============================] - 4s 16ms/step - loss: 0.0774 - accuracy: 0.9629 - val_loss: 1.1763 - val_accuracy: 0.7772\n",
      "Epoch 14/20\n",
      "225/225 [==============================] - 3s 15ms/step - loss: 0.0742 - accuracy: 0.9641 - val_loss: 1.2275 - val_accuracy: 0.7742\n",
      "Epoch 15/20\n",
      "225/225 [==============================] - 3s 15ms/step - loss: 0.0745 - accuracy: 0.9640 - val_loss: 1.2574 - val_accuracy: 0.7764\n",
      "Epoch 16/20\n",
      "225/225 [==============================] - 3s 15ms/step - loss: 0.0791 - accuracy: 0.9624 - val_loss: 1.2899 - val_accuracy: 0.7720\n",
      "Epoch 17/20\n",
      "225/225 [==============================] - 3s 15ms/step - loss: 0.0764 - accuracy: 0.9635 - val_loss: 1.3347 - val_accuracy: 0.7749\n",
      "Epoch 18/20\n",
      "225/225 [==============================] - 3s 15ms/step - loss: 0.0709 - accuracy: 0.9659 - val_loss: 1.3459 - val_accuracy: 0.7696\n",
      "Epoch 19/20\n",
      "225/225 [==============================] - 3s 15ms/step - loss: 0.0654 - accuracy: 0.9681 - val_loss: 1.4339 - val_accuracy: 0.7724\n",
      "Epoch 20/20\n",
      "225/225 [==============================] - 3s 15ms/step - loss: 0.0617 - accuracy: 0.9692 - val_loss: 1.5073 - val_accuracy: 0.7756\n"
     ]
    }
   ],
   "source": [
    "# 학습 환경 설정\n",
    "model2.compile(optimizer='adam',\n",
    "              loss='binary_crossentropy',\n",
    "              metrics=['accuracy'])\n",
    "              \n",
    "epochs=20  # 몇 epoch를 훈련하면 좋을지 결과를 보면서 바꾸어 봅시다. \n",
    "\n",
    "# 모델 학습\n",
    "history = model2.fit(partial_x_train,\n",
    "                    partial_y_train,\n",
    "                    epochs=epochs,\n",
    "                    batch_size=512,\n",
    "                    validation_data=(x_valid, y_valid),\n",
    "                    verbose=1)"
   ]
  },
  {
   "cell_type": "markdown",
   "metadata": {},
   "source": [
    "### 4-3-3. Loss, Accuracy 그래프 시각화"
   ]
  },
  {
   "cell_type": "code",
   "execution_count": 87,
   "metadata": {},
   "outputs": [
    {
     "name": "stdout",
     "output_type": "stream",
     "text": [
      "dict_keys(['loss', 'accuracy', 'val_loss', 'val_accuracy'])\n"
     ]
    },
    {
     "data": {
      "image/png": "[encoded data removed]",
      "text/plain": [
       "<Figure size 432x288 with 1 Axes>"
      ]
     },
     "metadata": {
      "needs_background": "light"
     },
     "output_type": "display_data"
    },
    {
     "data": {
      "image/png": "[encoded data removed]",
      "text/plain": [
       "<Figure size 432x288 with 1 Axes>"
      ]
     },
     "metadata": {
      "needs_background": "light"
     },
     "output_type": "display_data"
    }
   ],
   "source": [
    "## Loss, Accuracy 그래프 시각화\n",
    "\n",
    "history_dict = history.history\n",
    "print(history_dict.keys()) # epoch에 따른 그래프를 그려볼 수 있는 항목들\n",
    "\n",
    "acc = history_dict['accuracy']\n",
    "val_acc = history_dict['val_accuracy']\n",
    "loss = history_dict['loss']\n",
    "val_loss = history_dict['val_loss']\n",
    "\n",
    "epochs = range(1, len(acc) + 1)\n",
    "\n",
    "# \"bo\"는 \"파란색 점\"입니다\n",
    "plt.plot(epochs, loss, 'bo', label='Training loss')\n",
    "# b는 \"파란 실선\"입니다\n",
    "plt.plot(epochs, val_loss, 'b', label='Validation loss')\n",
    "plt.title('Training and validation loss')\n",
    "plt.xlabel('Epochs')\n",
    "plt.ylabel('Loss')\n",
    "plt.legend()\n",
    "\n",
    "plt.show()\n",
    "\n",
    "plt.clf()   # 그림을 초기화합니다\n",
    "\n",
    "plt.plot(epochs, acc, 'bo', label='Training acc')\n",
    "plt.plot(epochs, val_acc, 'b', label='Validation acc')\n",
    "plt.title('Training and validation accuracy')\n",
    "plt.xlabel('Epochs')\n",
    "plt.ylabel('Accuracy')\n",
    "plt.legend()\n",
    "\n",
    "plt.show()"
   ]
  },
  {
   "cell_type": "markdown",
   "metadata": {},
   "source": [
    "LSTM과 GRU 모델에서와 같이 epoch 2번부터 오버피팅이 발생하고 있음"
   ]
  },
  {
   "cell_type": "markdown",
   "metadata": {},
   "source": [
    "### 4-3-4. 테스트 평가"
   ]
  },
  {
   "cell_type": "code",
   "execution_count": 88,
   "metadata": {},
   "outputs": [
    {
     "name": "stdout",
     "output_type": "stream",
     "text": [
      "1516/1516 - 4s - loss: 1.4916 - accuracy: 0.7722\n",
      "[1.4916458129882812, 0.7722173929214478]\n"
     ]
    }
   ],
   "source": [
    "# test 결과\n",
    "results = model2.evaluate(x_test, y_test, verbose=2)\n",
    "\n",
    "print(results)"
   ]
  },
  {
   "cell_type": "markdown",
   "metadata": {},
   "source": [
    "* word_vector_dim = 100, Conv1D(16, 7), Dense(8) : loss: 1.4916 - accuracy: 0.7722\n",
    "* word_vector_dim = 200, Conv1D(16, 7), Dense(8) : loss: 1.5501 - accuracy: 0.7721\n",
    "* word_vector_dim = 300, Conv1D(16, 7), Dense(8) : loss: 1.5164 - accuracy: 0.7737"
   ]
  },
  {
   "cell_type": "markdown",
   "metadata": {},
   "source": [
    "### 4-4-1. 학습된 Embedding 레이어 모델"
   ]
  },
  {
   "cell_type": "code",
   "execution_count": 70,
   "metadata": {},
   "outputs": [
    {
     "name": "stdout",
     "output_type": "stream",
     "text": [
      "(10000, 300)\n"
     ]
    }
   ],
   "source": [
    "# 단어의 특성을 저차원 벡터값으로 표현할 수 있는 워드 임베딩(word embedding) 기법\n",
    "embedding_layer = model2.layers[0]\n",
    "weights = embedding_layer.get_weights()[0]\n",
    "print(weights.shape)    # shape: (vocab_size, embedding_dim)"
   ]
  },
  {
   "cell_type": "code",
   "execution_count": 71,
   "metadata": {},
   "outputs": [],
   "source": [
    "import os\n",
    "from gensim import models     # gensim : 워드벡터를 다루는데 유용한 패키지\n",
    "\n",
    "# 학습한 Embedding 파라미터를 파일에 써서 저장합니다. \n",
    "word2vec_file_path = os.getenv('HOME') + '/aiffel/sentiment_classification/word2vec.txt'\n",
    "f = open(word2vec_file_path, 'w')\n",
    "f.write('{} {}\\n'.format(vocab_size-4, word_vector_dim))  # 몇개의 벡터를 얼마 사이즈로 기재할지 타이틀을 씁니다.\n",
    "\n",
    "# 단어 개수(에서 특수문자 4개는 제외하고)만큼의 워드 벡터를 파일에 기록합니다. \n",
    "vectors = model2.get_weights()[0]\n",
    "for i in range(4, vocab_size):\n",
    "    f.write('{} {}\\n'.format(index_to_word[i], ' '.join(map(str, list(vectors[i, :])))))\n",
    "f.close()"
   ]
  },
  {
   "cell_type": "code",
   "execution_count": 46,
   "metadata": {},
   "outputs": [
    {
     "data": {
      "text/plain": [
       "array([-0.09812401,  0.07963714,  0.00582482,  0.06545677,  0.00481287,\n",
       "        0.02649019,  0.01814787,  0.08244572,  0.01096472, -0.00303867,\n",
       "        0.0367174 , -0.06245502, -0.00223387,  0.10249247, -0.05462897,\n",
       "        0.02814103, -0.02771148,  0.02228487,  0.00781817,  0.00868889,\n",
       "       -0.00978768,  0.05880191,  0.02953784, -0.08400371,  0.03104752,\n",
       "        0.01676674, -0.06293654, -0.00278644, -0.00274821,  0.05343545,\n",
       "        0.04808955,  0.03045266, -0.02847589, -0.00809071, -0.01802203,\n",
       "       -0.00316189, -0.02982008, -0.0038577 ,  0.01644477,  0.00211412,\n",
       "        0.03666341,  0.00808282, -0.02521199,  0.00798019, -0.02608682,\n",
       "        0.03985018, -0.03940862,  0.03093593,  0.03029227, -0.05979111,\n",
       "        0.0617682 , -0.04527944, -0.05232496, -0.07321536, -0.0601343 ,\n",
       "       -0.00522263, -0.03441272, -0.04295403,  0.00903911,  0.01802345,\n",
       "        0.00677624,  0.00052975, -0.0603122 , -0.03215264,  0.06117329,\n",
       "        0.02147835,  0.05640343, -0.00949121, -0.00382649,  0.02293938,\n",
       "       -0.01280194,  0.00413747, -0.04427948, -0.06348722,  0.02111257,\n",
       "       -0.03912835,  0.05221273, -0.02269019,  0.00738306,  0.02898698,\n",
       "       -0.01259505,  0.01038722,  0.08983221,  0.05247701,  0.00189916,\n",
       "       -0.05053017, -0.05797881,  0.01890438, -0.02539897,  0.10026979,\n",
       "        0.0138487 ,  0.00364112,  0.00660722, -0.02390765,  0.09342513,\n",
       "        0.00142883,  0.03233887, -0.13105685, -0.06381128,  0.00276513,\n",
       "        0.03122015,  0.0211337 , -0.10938386, -0.03769777,  0.07077163,\n",
       "       -0.00938464, -0.0628124 , -0.01748098,  0.02778043,  0.01407254,\n",
       "        0.04171417, -0.00553724, -0.01732481, -0.10409599,  0.00906962,\n",
       "       -0.00080623,  0.05737267,  0.05997627,  0.00986566,  0.00477939,\n",
       "        0.05226796, -0.00957137, -0.0406297 , -0.06521896,  0.17317373,\n",
       "        0.0328219 ,  0.00909655, -0.06412607,  0.06463291, -0.00035588,\n",
       "       -0.04769155,  0.00989072, -0.0041434 , -0.06377833,  0.03526053,\n",
       "        0.04663312, -0.04748837,  0.10126489,  0.05529586,  0.00731828,\n",
       "        0.0180213 , -0.06587303,  0.00968219,  0.00290029,  0.03531198,\n",
       "        0.06330439,  0.05308221, -0.01723994,  0.02697891, -0.07710989,\n",
       "       -0.06378216,  0.02492307,  0.05468483, -0.04184411, -0.07427122,\n",
       "       -0.03137373,  0.0375459 ,  0.01604409,  0.00191367, -0.05771291,\n",
       "        0.05537422, -0.03372676,  0.04477069,  0.04419197,  0.02157952,\n",
       "        0.03435702,  0.02537552, -0.02175998,  0.00706681,  0.02641519,\n",
       "        0.02306931,  0.02261702, -0.00265626, -0.01630582,  0.09941573,\n",
       "       -0.07398997,  0.04077787, -0.01230412, -0.07015532,  0.05721856,\n",
       "        0.03799812,  0.01234674, -0.06005234, -0.05369199,  0.07132006,\n",
       "       -0.03478157,  0.04292055,  0.0925509 ,  0.00348023,  0.00383242,\n",
       "        0.02395852, -0.01304102, -0.04412435, -0.0120811 ,  0.00920446,\n",
       "        0.01134658, -0.10842378, -0.01370363, -0.01492963, -0.01992436],\n",
       "      dtype=float32)"
      ]
     },
     "execution_count": 46,
     "metadata": {},
     "output_type": "execute_result"
    }
   ],
   "source": [
    "# 임베딩 파라미터를 읽어서 word vector로 활용\n",
    "from gensim.models.keyedvectors import Word2VecKeyedVectors\n",
    "\n",
    "word_vectors = Word2VecKeyedVectors.load_word2vec_format(word2vec_file_path, binary=False)\n",
    "vector = word_vectors['영화']\n",
    "vector"
   ]
  },
  {
   "cell_type": "code",
   "execution_count": 49,
   "metadata": {},
   "outputs": [
    {
     "data": {
      "text/plain": [
       "[('꺼져라', 0.6274117827415466),\n",
       " ('부대', 0.6039007902145386),\n",
       " ('맞짱', 0.6008872985839844),\n",
       " ('쳐라', 0.6008428931236267),\n",
       " ('최시원', 0.5950552225112915),\n",
       " ('함량', 0.5923036932945251),\n",
       " ('장르노', 0.574643611907959),\n",
       " ('큐브', 0.5687328577041626),\n",
       " ('구사', 0.5611624121665955),\n",
       " ('퍽', 0.5515892505645752)]"
      ]
     },
     "execution_count": 49,
     "metadata": {},
     "output_type": "execute_result"
    }
   ],
   "source": [
    "# 단어를 하나 주고 가장 유사한 단어와 유사도 확인\n",
    "word_vectors.similar_by_word(\"할인\")"
   ]
  },
  {
   "cell_type": "markdown",
   "metadata": {},
   "source": [
    "## 8. 한국어 Word2Vec 임베딩 활용하여 성능개선\n",
    "한국어 Word2Vec은 다음 경로에서 구할 수 있습니다.\n",
    "https://github.com/Kyubyong/wordvectors"
   ]
  },
  {
   "cell_type": "markdown",
   "metadata": {},
   "source": [
    "* **Work Flow**\n",
    " - STEP 1. Download the wikipedia database backup dumps of the language you want.\n",
    " - STEP 2. Extract running texts to data/ folder.\n",
    " - STEP 3. Run build_corpus.py.\n",
    " - STEP 4-1. Run make_wordvector.sh to get Word2Vec word vectors.\n",
    " - STEP 4-2. Run fasttext.sh to get fastText word vectors.\n",
    "  \n",
    "  \n",
    "* **Pre-trained models**\n",
    " - Two types of pre-trained models are provided. w and f represent word2vec and fastText respectively.   \n",
    " \n"
   ]
  },
  {
   "cell_type": "markdown",
   "metadata": {},
   "source": [
    "### 사전에 학습된 Word2Vec 등의 임베딩 모델(ko.bin)을 활용하는 전이학습(Transfer Learning)"
   ]
  },
  {
   "cell_type": "code",
   "execution_count": 72,
   "metadata": {},
   "outputs": [
    {
     "name": "stderr",
     "output_type": "stream",
     "text": [
      "/home/aiffel-d34j/anaconda3/envs/aiffel/lib/python3.7/site-packages/ipykernel_launcher.py:7: DeprecationWarning: Call to deprecated `__getitem__` (Method will be removed in 4.0.0, use self.wv.__getitem__() instead).\n",
      "  import sys\n"
     ]
    },
    {
     "data": {
      "text/plain": [
       "array([-2.12308183e-01, -5.68490446e-01, -2.60044247e-01, -1.32914290e-01,\n",
       "        2.06298992e-01,  2.06169486e-01,  1.04142666e-01, -5.03747344e-01,\n",
       "       -2.59315282e-01, -5.63449204e-01, -5.42806268e-01,  1.23673573e-01,\n",
       "       -5.65214813e-01,  1.44688830e-01,  2.58647621e-01,  7.76652873e-01,\n",
       "       -2.37872958e-01,  2.15301275e-01, -2.38817304e-01,  1.12165764e-01,\n",
       "       -2.87356853e-01,  2.23779500e-01,  3.66175063e-02,  6.32265270e-01,\n",
       "       -1.67528600e-01,  2.57706523e-01,  5.33879660e-02, -1.01358622e-01,\n",
       "        3.90055090e-01,  7.96726346e-01, -2.04774648e-01, -4.91633713e-01,\n",
       "       -6.18211031e-01, -1.05088092e-02,  2.78530002e-01,  3.82351995e-01,\n",
       "        4.73394603e-01,  5.93742847e-01, -4.52139080e-01,  9.34170410e-02,\n",
       "        3.21552128e-01, -3.13829601e-01,  8.27486515e-01,  6.75750291e-03,\n",
       "        7.44879320e-02,  1.70621559e-01, -1.32197693e-01,  2.68836450e-02,\n",
       "        1.11467347e-01,  2.15042189e-01,  8.54768902e-02,  3.64891469e-01,\n",
       "        1.83106631e-01,  4.27118614e-02, -4.99536037e-01, -2.34893128e-01,\n",
       "        2.49718487e-01,  1.58299431e-01, -3.66647154e-01, -2.79848367e-01,\n",
       "       -1.48508847e-01,  1.46037757e-01, -3.58945280e-01, -1.68343782e-02,\n",
       "       -1.27792777e-02,  7.88170099e-02,  1.03413403e-01, -5.73332012e-01,\n",
       "        2.68973023e-01, -1.42847136e-01, -9.44808125e-02,  6.60653934e-02,\n",
       "       -7.11891413e-01, -2.57503122e-01,  1.64445743e-01, -2.37189665e-01,\n",
       "       -2.49477014e-01, -6.58492669e-02, -4.60306257e-01, -6.90331012e-02,\n",
       "        2.58525580e-01, -5.42614341e-01, -2.44896427e-01, -2.59171277e-01,\n",
       "        1.89652637e-01,  5.87312341e-01,  7.34064281e-01,  3.11485976e-01,\n",
       "       -3.98002893e-01,  5.15022218e-01, -1.52787948e-02,  1.64270118e-01,\n",
       "        1.06358446e-01,  6.61274612e-01,  4.32123989e-01, -2.12935984e-01,\n",
       "       -3.82201225e-01, -7.32269585e-02,  6.30392805e-02, -4.54952568e-01,\n",
       "        3.34878445e-01, -1.60832465e-01, -2.71206319e-01,  6.69838190e-02,\n",
       "        9.14998632e-03, -2.72689074e-01, -8.80797654e-02,  4.37113732e-01,\n",
       "       -1.20154813e-01,  3.55694115e-01, -2.57383317e-01, -6.99627623e-02,\n",
       "        2.99608320e-01, -2.19489247e-01,  6.35876844e-04,  2.48980686e-01,\n",
       "        9.84524116e-02, -4.29299586e-02,  2.40136549e-01,  1.28935978e-01,\n",
       "        3.18563282e-01, -3.57616723e-01,  1.81550816e-01, -6.55604824e-02,\n",
       "        6.46734145e-03, -3.14182788e-01, -3.62639070e-01, -2.72481050e-02,\n",
       "       -2.22758129e-01,  1.44341066e-01, -3.06560230e-02, -5.89322567e-01,\n",
       "        2.98611283e-01, -2.92073518e-01, -6.74789131e-01,  5.51835477e-01,\n",
       "       -3.60488534e-01, -1.42433822e-01, -1.14936210e-01,  1.70859531e-01,\n",
       "       -4.14866656e-01, -3.64014179e-01,  2.68503189e-01, -4.50205058e-01,\n",
       "        2.17770919e-01, -4.35482055e-01, -2.96838790e-01,  4.44850251e-02,\n",
       "       -2.85844892e-01,  1.68310683e-02, -3.95576119e-01, -2.19571888e-01,\n",
       "        1.03905767e-01,  2.09816441e-01,  3.37532252e-01, -1.68843955e-01,\n",
       "       -4.44035321e-01,  8.84810984e-02, -2.13200092e-01,  9.45709720e-02,\n",
       "       -7.77919292e-01,  9.50809047e-02, -1.80882886e-01,  1.84817776e-01,\n",
       "       -5.03778756e-01,  1.73848048e-01, -2.57135421e-01, -7.43300617e-02,\n",
       "        1.86231077e-01,  2.36874700e-01, -5.91083243e-02, -3.74223776e-02,\n",
       "        2.80043662e-01, -3.76771212e-01, -7.40744546e-02,  1.89812601e-01,\n",
       "        4.62951325e-02,  2.09602490e-02, -2.60514200e-01, -2.24354461e-01,\n",
       "       -2.04066545e-01,  1.40838727e-01, -4.91504878e-01, -2.13709567e-02,\n",
       "       -4.56955194e-01,  6.41398355e-02,  1.79059342e-01,  5.46259344e-01,\n",
       "       -3.14821154e-01,  5.04488409e-01, -2.34648362e-01,  1.60843402e-01,\n",
       "        2.78696686e-01, -2.27191761e-01,  1.90485984e-01, -1.12041585e-01,\n",
       "       -1.21109530e-01, -5.33943288e-02, -1.56790167e-01,  7.47653395e-02],\n",
       "      dtype=float32)"
      ]
     },
     "execution_count": 72,
     "metadata": {},
     "output_type": "execute_result"
    }
   ],
   "source": [
    "# 한국어 Word2Vec 임베딩 활용한 성능 개선\n",
    "from gensim.models import Word2Vec\n",
    "\n",
    "word2vec_path = os.getenv('HOME') + '/aiffel/sentiment_classification/ko.bin'\n",
    "word2vec = Word2Vec.load(word2vec_path)\n",
    "\n",
    "vector = word2vec['거북선']\n",
    "vector     "
   ]
  },
  {
   "cell_type": "code",
   "execution_count": 54,
   "metadata": {},
   "outputs": [
    {
     "data": {
      "text/plain": [
       "[('도저', 0.8324468731880188),\n",
       " ('어이', 0.8277930617332458),\n",
       " ('헛웃음', 0.8228403925895691),\n",
       " ('역행', 0.8157042264938354),\n",
       " ('서세원', 0.8118122816085815),\n",
       " ('먹칠', 0.8024115562438965),\n",
       " ('엉망진창', 0.8019837737083435),\n",
       " ('으려다', 0.7995085716247559),\n",
       " ('지저분', 0.7988393306732178),\n",
       " ('아포칼립토', 0.7978097796440125)]"
      ]
     },
     "execution_count": 54,
     "metadata": {},
     "output_type": "execute_result"
    }
   ],
   "source": [
    "# 단어를 하나 주고 가장 유사한 단어와 유사도 확인\n",
    "word_vectors.similar_by_word(\"전략\")"
   ]
  },
  {
   "cell_type": "code",
   "execution_count": 73,
   "metadata": {},
   "outputs": [
    {
     "name": "stderr",
     "output_type": "stream",
     "text": [
      "/home/aiffel-d34j/anaconda3/envs/aiffel/lib/python3.7/site-packages/ipykernel_launcher.py:8: DeprecationWarning: Call to deprecated `__contains__` (Method will be removed in 4.0.0, use self.wv.__contains__() instead).\n",
      "  \n",
      "/home/aiffel-d34j/anaconda3/envs/aiffel/lib/python3.7/site-packages/ipykernel_launcher.py:9: DeprecationWarning: Call to deprecated `__getitem__` (Method will be removed in 4.0.0, use self.wv.__getitem__() instead).\n",
      "  if __name__ == '__main__':\n"
     ]
    },
    {
     "ename": "ValueError",
     "evalue": "could not broadcast input array from shape (200) into shape (300)",
     "output_type": "error",
     "traceback": [
      "\u001b[0;31m---------------------------------------------------------------------------\u001b[0m",
      "\u001b[0;31mValueError\u001b[0m                                Traceback (most recent call last)",
      "\u001b[0;32m<ipython-input-73-7b3e679adcc0>\u001b[0m in \u001b[0;36m<module>\u001b[0;34m\u001b[0m\n\u001b[1;32m      7\u001b[0m \u001b[0;32mfor\u001b[0m \u001b[0mi\u001b[0m \u001b[0;32min\u001b[0m \u001b[0mrange\u001b[0m\u001b[0;34m(\u001b[0m\u001b[0;36m4\u001b[0m\u001b[0;34m,\u001b[0m\u001b[0mvocab_size\u001b[0m\u001b[0;34m)\u001b[0m\u001b[0;34m:\u001b[0m\u001b[0;34m\u001b[0m\u001b[0;34m\u001b[0m\u001b[0m\n\u001b[1;32m      8\u001b[0m     \u001b[0;32mif\u001b[0m \u001b[0mindex_to_word\u001b[0m\u001b[0;34m[\u001b[0m\u001b[0mi\u001b[0m\u001b[0;34m]\u001b[0m \u001b[0;32min\u001b[0m \u001b[0mword2vec\u001b[0m\u001b[0;34m:\u001b[0m\u001b[0;34m\u001b[0m\u001b[0;34m\u001b[0m\u001b[0m\n\u001b[0;32m----> 9\u001b[0;31m         \u001b[0membedding_matrix\u001b[0m\u001b[0;34m[\u001b[0m\u001b[0mi\u001b[0m\u001b[0;34m]\u001b[0m \u001b[0;34m=\u001b[0m \u001b[0mword2vec\u001b[0m\u001b[0;34m[\u001b[0m\u001b[0mindex_to_word\u001b[0m\u001b[0;34m[\u001b[0m\u001b[0mi\u001b[0m\u001b[0;34m]\u001b[0m\u001b[0;34m]\u001b[0m\u001b[0;34m\u001b[0m\u001b[0;34m\u001b[0m\u001b[0m\n\u001b[0m",
      "\u001b[0;31mValueError\u001b[0m: could not broadcast input array from shape (200) into shape (300)"
     ]
    }
   ],
   "source": [
    "vocab_size = 10000    # 어휘 사전의 크기입니다(10,000개의 단어)\n",
    "word_vector_dim = 300  # 워드 벡터의 차원수 (변경가능한 하이퍼파라미터)\n",
    "\n",
    "embedding_matrix = np.random.rand(vocab_size, word_vector_dim)\n",
    "\n",
    "# embedding_matrix에 Word2Vec 워드벡터를 단어 하나씩마다 차례차례 카피한다.\n",
    "for i in range(4,vocab_size):\n",
    "    if index_to_word[i] in word2vec:\n",
    "        embedding_matrix[i] = word2vec[index_to_word[i]]"
   ]
  },
  {
   "cell_type": "code",
   "execution_count": 74,
   "metadata": {},
   "outputs": [
    {
     "name": "stdout",
     "output_type": "stream",
     "text": [
      "Model: \"sequential_7\"\n",
      "_________________________________________________________________\n",
      "Layer (type)                 Output Shape              Param #   \n",
      "=================================================================\n",
      "embedding_7 (Embedding)      (None, 48, 300)           3000000   \n",
      "_________________________________________________________________\n",
      "conv1d_6 (Conv1D)            (None, 42, 16)            33616     \n",
      "_________________________________________________________________\n",
      "max_pooling1d_3 (MaxPooling1 (None, 8, 16)             0         \n",
      "_________________________________________________________________\n",
      "conv1d_7 (Conv1D)            (None, 2, 16)             1808      \n",
      "_________________________________________________________________\n",
      "global_max_pooling1d_3 (Glob (None, 16)                0         \n",
      "_________________________________________________________________\n",
      "dense_14 (Dense)             (None, 8)                 136       \n",
      "_________________________________________________________________\n",
      "dense_15 (Dense)             (None, 1)                 9         \n",
      "=================================================================\n",
      "Total params: 3,035,569\n",
      "Trainable params: 3,035,569\n",
      "Non-trainable params: 0\n",
      "_________________________________________________________________\n"
     ]
    }
   ],
   "source": [
    "from tensorflow.keras.initializers import Constant\n",
    "\n",
    "# 모델 구성\n",
    "model4 = keras.Sequential()\n",
    "model4.add(keras.layers.Embedding(vocab_size, \n",
    "                                 word_vector_dim, \n",
    "                                 embeddings_initializer=Constant(embedding_matrix),  # 카피한 임베딩을 여기서 활용\n",
    "                                 input_length=maxlen, \n",
    "                                 trainable=True))   # trainable을 True로 주면 Fine-tuning\n",
    "model4.add(keras.layers.Conv1D(16, 7, activation='relu'))\n",
    "model4.add(keras.layers.MaxPooling1D(5))\n",
    "model4.add(keras.layers.Conv1D(16, 7, activation='relu'))\n",
    "model4.add(keras.layers.GlobalMaxPooling1D())\n",
    "model4.add(keras.layers.Dense(8, activation='relu'))\n",
    "model4.add(keras.layers.Dense(1, activation='sigmoid')) \n",
    "\n",
    "model4.summary()"
   ]
  },
  {
   "cell_type": "code",
   "execution_count": 75,
   "metadata": {},
   "outputs": [
    {
     "name": "stdout",
     "output_type": "stream",
     "text": [
      "Epoch 1/20\n",
      "225/225 [==============================] - 9s 38ms/step - loss: 0.6933 - accuracy: 0.5031 - val_loss: 0.6931 - val_accuracy: 0.5051\n",
      "Epoch 2/20\n",
      "225/225 [==============================] - 8s 37ms/step - loss: 0.6931 - accuracy: 0.5021 - val_loss: 0.6931 - val_accuracy: 0.5051\n",
      "Epoch 3/20\n",
      "225/225 [==============================] - 9s 38ms/step - loss: 0.6931 - accuracy: 0.5021 - val_loss: 0.6931 - val_accuracy: 0.5051\n",
      "Epoch 4/20\n",
      "225/225 [==============================] - 8s 37ms/step - loss: 0.6931 - accuracy: 0.5021 - val_loss: 0.6931 - val_accuracy: 0.5051\n",
      "Epoch 5/20\n",
      "225/225 [==============================] - 8s 36ms/step - loss: 0.6931 - accuracy: 0.5010 - val_loss: 0.6931 - val_accuracy: 0.5051\n",
      "Epoch 6/20\n",
      "225/225 [==============================] - 8s 36ms/step - loss: 0.6931 - accuracy: 0.5021 - val_loss: 0.6931 - val_accuracy: 0.5051\n",
      "Epoch 7/20\n",
      "225/225 [==============================] - 8s 36ms/step - loss: 0.6931 - accuracy: 0.5021 - val_loss: 0.6931 - val_accuracy: 0.5051\n",
      "Epoch 8/20\n",
      "225/225 [==============================] - 8s 36ms/step - loss: 0.6931 - accuracy: 0.5021 - val_loss: 0.6931 - val_accuracy: 0.5051\n",
      "Epoch 9/20\n",
      "225/225 [==============================] - 8s 36ms/step - loss: 0.6931 - accuracy: 0.5008 - val_loss: 0.6931 - val_accuracy: 0.5051\n",
      "Epoch 10/20\n",
      "225/225 [==============================] - 8s 36ms/step - loss: 0.6931 - accuracy: 0.5021 - val_loss: 0.6931 - val_accuracy: 0.5051\n",
      "Epoch 11/20\n",
      "225/225 [==============================] - 8s 36ms/step - loss: 0.6931 - accuracy: 0.5021 - val_loss: 0.6931 - val_accuracy: 0.5051\n",
      "Epoch 12/20\n",
      "225/225 [==============================] - 8s 37ms/step - loss: 0.6931 - accuracy: 0.5021 - val_loss: 0.6931 - val_accuracy: 0.5051\n",
      "Epoch 13/20\n",
      "225/225 [==============================] - 9s 38ms/step - loss: 0.6931 - accuracy: 0.5018 - val_loss: 0.6931 - val_accuracy: 0.5051\n",
      "Epoch 14/20\n",
      "225/225 [==============================] - 8s 38ms/step - loss: 0.6932 - accuracy: 0.5021 - val_loss: 0.6931 - val_accuracy: 0.5051\n",
      "Epoch 15/20\n",
      "225/225 [==============================] - 8s 37ms/step - loss: 0.6931 - accuracy: 0.5012 - val_loss: 0.6931 - val_accuracy: 0.5051\n",
      "Epoch 16/20\n",
      "225/225 [==============================] - 8s 38ms/step - loss: 0.6931 - accuracy: 0.5021 - val_loss: 0.6931 - val_accuracy: 0.5051\n",
      "Epoch 17/20\n",
      "225/225 [==============================] - 8s 37ms/step - loss: 0.6931 - accuracy: 0.5021 - val_loss: 0.6931 - val_accuracy: 0.5051\n",
      "Epoch 18/20\n",
      "225/225 [==============================] - 9s 38ms/step - loss: 0.6931 - accuracy: 0.5016 - val_loss: 0.6932 - val_accuracy: 0.4949\n",
      "Epoch 19/20\n",
      "225/225 [==============================] - 9s 38ms/step - loss: 0.6931 - accuracy: 0.5003 - val_loss: 0.6931 - val_accuracy: 0.5051\n",
      "Epoch 20/20\n",
      "225/225 [==============================] - 9s 38ms/step - loss: 0.6931 - accuracy: 0.5021 - val_loss: 0.6931 - val_accuracy: 0.5051\n"
     ]
    }
   ],
   "source": [
    "# 학습의 진행\n",
    "model4.compile(optimizer='adam',\n",
    "              loss='binary_crossentropy',\n",
    "              metrics=['accuracy'])\n",
    "              \n",
    "epochs=20  # 몇 epoch를 훈련하면 좋을지 결과를 보면서 바꾸어 봅시다. \n",
    "\n",
    "history = model4.fit(partial_x_train,\n",
    "                    partial_y_train,\n",
    "                    epochs=epochs,\n",
    "                    batch_size=512,\n",
    "                    validation_data=(x_valid, y_valid),\n",
    "                    verbose=1)"
   ]
  },
  {
   "cell_type": "markdown",
   "metadata": {},
   "source": [
    "### Loss, Accuracy 그래프 시각화"
   ]
  },
  {
   "cell_type": "code",
   "execution_count": 76,
   "metadata": {},
   "outputs": [
    {
     "name": "stdout",
     "output_type": "stream",
     "text": [
      "dict_keys(['loss', 'accuracy', 'val_loss', 'val_accuracy'])\n"
     ]
    },
    {
     "data": {
      "image/png": "[encoded data removed]",
      "text/plain": [
       "<Figure size 432x288 with 1 Axes>"
      ]
     },
     "metadata": {
      "needs_background": "light"
     },
     "output_type": "display_data"
    },
    {
     "data": {
      "image/png": "[encoded data removed]",
      "text/plain": [
       "<Figure size 432x288 with 1 Axes>"
      ]
     },
     "metadata": {
      "needs_background": "light"
     },
     "output_type": "display_data"
    }
   ],
   "source": [
    "## Loss, Accuracy 그래프 시각화\n",
    "\n",
    "history_dict = history.history\n",
    "print(history_dict.keys()) # epoch에 따른 그래프를 그려볼 수 있는 항목들\n",
    "\n",
    "acc = history_dict['accuracy']\n",
    "val_acc = history_dict['val_accuracy']\n",
    "loss = history_dict['loss']\n",
    "val_loss = history_dict['val_loss']\n",
    "\n",
    "epochs = range(1, len(acc) + 1)\n",
    "\n",
    "# \"bo\"는 \"파란색 점\"입니다\n",
    "plt.plot(epochs, loss, 'bo', label='Training loss')\n",
    "# b는 \"파란 실선\"입니다\n",
    "plt.plot(epochs, val_loss, 'b', label='Validation loss')\n",
    "plt.title('Training and validation loss')\n",
    "plt.xlabel('Epochs')\n",
    "plt.ylabel('Loss')\n",
    "plt.legend()\n",
    "\n",
    "plt.show()\n",
    "\n",
    "plt.clf()   # 그림을 초기화합니다\n",
    "\n",
    "plt.plot(epochs, acc, 'bo', label='Training acc')\n",
    "plt.plot(epochs, val_acc, 'b', label='Validation acc')\n",
    "plt.title('Training and validation accuracy')\n",
    "plt.xlabel('Epochs')\n",
    "plt.ylabel('Accuracy')\n",
    "plt.legend()\n",
    "\n",
    "plt.show()"
   ]
  },
  {
   "cell_type": "code",
   "execution_count": 77,
   "metadata": {},
   "outputs": [
    {
     "name": "stdout",
     "output_type": "stream",
     "text": [
      "1516/1516 - 3s - loss: 0.6932 - accuracy: 0.4985\n",
      "[0.693173885345459, 0.4984947741031647]\n"
     ]
    }
   ],
   "source": [
    "# 테스트셋을 통한 모델 평가\n",
    "results = model4.evaluate(x_test,  y_test, verbose=2)\n",
    "\n",
    "print(results)"
   ]
  },
  {
   "cell_type": "markdown",
   "metadata": {},
   "source": [
    "* word_vector_dim = 100 : loss: 1.0018 - accuracy: 0.7719\n",
    "* word_vector_dim = 200 : loss: 1.0018 - accuracy: 0.7719\n",
    "* word_vector_dim = 300 : loss: 0.6932 - accuracy: 0.4985"
   ]
  },
  {
   "cell_type": "markdown",
   "metadata": {},
   "source": [
    "## 회고"
   ]
  },
  {
   "cell_type": "code",
   "execution_count": null,
   "metadata": {},
   "outputs": [],
   "source": []
  }
 ],
 "metadata": {
  "kernelspec": {
   "display_name": "aiffel",
   "language": "python",
   "name": "aiffel"
  },
  "language_info": {
   "codemirror_mode": {
    "name": "ipython",
    "version": 3
   },
   "file_extension": ".py",
   "mimetype": "text/x-python",
   "name": "python",
   "nbconvert_exporter": "python",
   "pygments_lexer": "ipython3",
   "version": "3.7.9"
  }
 },
 "nbformat": 4,
 "nbformat_minor": 4
}
