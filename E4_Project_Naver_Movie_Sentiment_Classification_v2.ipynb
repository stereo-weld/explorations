{
 "cells": [
  {
   "cell_type": "markdown",
   "metadata": {},
   "source": [
    "# 프로젝트 : 네이버 영화리뷰 감성분석 도전하기\n",
    "참조 : https://wikidocs.net/44249\n",
    "\n",
    "루브릭\n",
    "1. 다양한 방법으로 Text Classification 태스크를 성공적으로 구현하였다.  \n",
    "==> 3가지 이상의 모델이 성공적으로 시도됨  \n",
    "2. gensim을 활용하여 자체학습된 혹은 사전학습된 임베딩 레이어를 분석하였다.  \n",
    "==> gensim의 유사단어 찾기를 활용하여 자체학습한 임베딩과 사전학습 임베딩을 적절히 분석함  \n",
    "3. 한국어 Word2Vec을 활용하여 가시적인 성능향상을 달성했다.  \n",
    "==> 네이버 영화리뷰 데이터 감성분석 정확도를 85% 이상 달성함"
   ]
  },
  {
   "cell_type": "markdown",
   "metadata": {},
   "source": [
    "## 1. 데이터 준비와 확인"
   ]
  },
  {
   "cell_type": "markdown",
   "metadata": {},
   "source": [
    "### 1-1 필요한 모듈 import하기"
   ]
  },
  {
   "cell_type": "code",
   "execution_count": 1,
   "metadata": {},
   "outputs": [],
   "source": [
    "import pandas as pd\n",
    "import numpy as np\n",
    "import urllib.request\n",
    "%matplotlib inline\n",
    "import matplotlib.pyplot as plt\n",
    "import seaborn as sns\n",
    "import re\n",
    "\n",
    "from konlpy.tag import Okt\n",
    "from tensorflow import keras\n",
    "from tensorflow.keras.preprocessing.text import Tokenizer\n",
    "from tensorflow.keras.preprocessing.sequence import pad_sequences\n",
    "from collections import Counter"
   ]
  },
  {
   "cell_type": "markdown",
   "metadata": {},
   "source": [
    "### 1-2 데이터 확인"
   ]
  },
  {
   "cell_type": "code",
   "execution_count": 2,
   "metadata": {
    "scrolled": true
   },
   "outputs": [
    {
     "data": {
      "text/html": [
       "<div>\n",
       "<style scoped>\n",
       "    .dataframe tbody tr th:only-of-type {\n",
       "        vertical-align: middle;\n",
       "    }\n",
       "\n",
       "    .dataframe tbody tr th {\n",
       "        vertical-align: top;\n",
       "    }\n",
       "\n",
       "    .dataframe thead th {\n",
       "        text-align: right;\n",
       "    }\n",
       "</style>\n",
       "<table border=\"1\" class=\"dataframe\">\n",
       "  <thead>\n",
       "    <tr style=\"text-align: right;\">\n",
       "      <th></th>\n",
       "      <th>id</th>\n",
       "      <th>document</th>\n",
       "      <th>label</th>\n",
       "    </tr>\n",
       "  </thead>\n",
       "  <tbody>\n",
       "    <tr>\n",
       "      <th>0</th>\n",
       "      <td>9976970</td>\n",
       "      <td>아 더빙.. 진짜 짜증나네요 목소리</td>\n",
       "      <td>0</td>\n",
       "    </tr>\n",
       "    <tr>\n",
       "      <th>1</th>\n",
       "      <td>3819312</td>\n",
       "      <td>흠...포스터보고 초딩영화줄....오버연기조차 가볍지 않구나</td>\n",
       "      <td>1</td>\n",
       "    </tr>\n",
       "    <tr>\n",
       "      <th>2</th>\n",
       "      <td>10265843</td>\n",
       "      <td>너무재밓었다그래서보는것을추천한다</td>\n",
       "      <td>0</td>\n",
       "    </tr>\n",
       "    <tr>\n",
       "      <th>3</th>\n",
       "      <td>9045019</td>\n",
       "      <td>교도소 이야기구먼 ..솔직히 재미는 없다..평점 조정</td>\n",
       "      <td>0</td>\n",
       "    </tr>\n",
       "    <tr>\n",
       "      <th>4</th>\n",
       "      <td>6483659</td>\n",
       "      <td>사이몬페그의 익살스런 연기가 돋보였던 영화!스파이더맨에서 늙어보이기만 했던 커스틴 ...</td>\n",
       "      <td>1</td>\n",
       "    </tr>\n",
       "  </tbody>\n",
       "</table>\n",
       "</div>"
      ],
      "text/plain": [
       "         id                                           document  label\n",
       "0   9976970                                아 더빙.. 진짜 짜증나네요 목소리      0\n",
       "1   3819312                  흠...포스터보고 초딩영화줄....오버연기조차 가볍지 않구나      1\n",
       "2  10265843                                  너무재밓었다그래서보는것을추천한다      0\n",
       "3   9045019                      교도소 이야기구먼 ..솔직히 재미는 없다..평점 조정      0\n",
       "4   6483659  사이몬페그의 익살스런 연기가 돋보였던 영화!스파이더맨에서 늙어보이기만 했던 커스틴 ...      1"
      ]
     },
     "execution_count": 2,
     "metadata": {},
     "output_type": "execute_result"
    }
   ],
   "source": [
    "# 데이터를 읽어봅시다. \n",
    "train_data = pd.read_table('~/aiffel/sentiment_classification/ratings_train.txt')\n",
    "test_data = pd.read_table('~/aiffel/sentiment_classification/ratings_test.txt')\n",
    "\n",
    "train_data.head()  # 상위 5개 출력"
   ]
  },
  {
   "cell_type": "code",
   "execution_count": 3,
   "metadata": {},
   "outputs": [
    {
     "name": "stdout",
     "output_type": "stream",
     "text": [
      "훈련 데이터 형태 : (150000, 3)\n",
      "테스트 데이터 형태 : (50000, 3)\n"
     ]
    }
   ],
   "source": [
    "# 훈련 및 테스트 데이터의 리뷰 개수 확인\n",
    "print('훈련 데이터 형태 :', train_data.shape)\n",
    "print('테스트 데이터 형태 :', test_data.shape)"
   ]
  },
  {
   "cell_type": "code",
   "execution_count": 4,
   "metadata": {},
   "outputs": [
    {
     "name": "stdout",
     "output_type": "stream",
     "text": [
      "Index(['id', 'document', 'label'], dtype='object')\n"
     ]
    }
   ],
   "source": [
    "# 훈련 데이터의 컬럼 이름 확인\n",
    "print(train_data.columns)"
   ]
  },
  {
   "cell_type": "markdown",
   "metadata": {},
   "source": [
    "## 2. 데이터로더 구성\n",
    "실습때 다루었던 IMDB 데이터셋은 텍스트를 가공하여 imdb.data_loader() 메소드를 호출하면 숫자 인덱스로 변환된 텍스트와 word_to_index 딕셔너리까지 친절하게 제공합니다. 그러나 이번에 다루게 될 nsmc 데이터셋은 전혀 가공되지 않은 텍스트 파일로 이루어져 있습니다. 이것을 읽어서 imdb.data_loader()와 동일하게 동작하는 자신만의 data_loader를 만들어 보는 것으로 시작합니다. data_loader 안에서는 다음을 수행해야 합니다."
   ]
  },
  {
   "cell_type": "markdown",
   "metadata": {},
   "source": [
    "### 2-1. 데이터 전처리\n",
    "* 데이터의 중복 제거\n",
    "* NaN 결측치 제거"
   ]
  },
  {
   "cell_type": "code",
   "execution_count": 5,
   "metadata": {},
   "outputs": [
    {
     "data": {
      "text/plain": [
       "document    146182\n",
       "label            2\n",
       "dtype: int64"
      ]
     },
     "execution_count": 5,
     "metadata": {},
     "output_type": "execute_result"
    }
   ],
   "source": [
    "# 중복하지 않은 데이터의 개수\n",
    "train_data[['document', 'label']].nunique()"
   ]
  },
  {
   "cell_type": "markdown",
   "metadata": {},
   "source": [
    "학습용 데이터는 (150,000 - 146,182) = 3,818 개의 리뷰가 중복되고, 레이블은 0과 1만 있으므로 중복하지 않는 개수는 2개 뿐이다. "
   ]
  },
  {
   "cell_type": "code",
   "execution_count": 6,
   "metadata": {},
   "outputs": [
    {
     "data": {
      "text/plain": [
       "<AxesSubplot:>"
      ]
     },
     "execution_count": 6,
     "metadata": {},
     "output_type": "execute_result"
    },
    {
     "data": {
      "image/png": "[encoded data removed]",
      "text/plain": [
       "<Figure size 432x288 with 1 Axes>"
      ]
     },
     "metadata": {
      "needs_background": "light"
     },
     "output_type": "display_data"
    }
   ],
   "source": [
    "# 긍정, 부정 분포 그리기\n",
    "train_data['label'].value_counts().plot(kind = 'bar')"
   ]
  },
  {
   "cell_type": "code",
   "execution_count": 7,
   "metadata": {},
   "outputs": [
    {
     "name": "stderr",
     "output_type": "stream",
     "text": [
      "/home/aiffel-d34j/anaconda3/envs/aiffel/lib/python3.7/site-packages/ipykernel_launcher.py:2: FutureWarning: The default value of regex will change from True to False in a future version.\n",
      "  \n"
     ]
    },
    {
     "data": {
      "text/html": [
       "<div>\n",
       "<style scoped>\n",
       "    .dataframe tbody tr th:only-of-type {\n",
       "        vertical-align: middle;\n",
       "    }\n",
       "\n",
       "    .dataframe tbody tr th {\n",
       "        vertical-align: top;\n",
       "    }\n",
       "\n",
       "    .dataframe thead th {\n",
       "        text-align: right;\n",
       "    }\n",
       "</style>\n",
       "<table border=\"1\" class=\"dataframe\">\n",
       "  <thead>\n",
       "    <tr style=\"text-align: right;\">\n",
       "      <th></th>\n",
       "      <th>id</th>\n",
       "      <th>document</th>\n",
       "      <th>label</th>\n",
       "    </tr>\n",
       "  </thead>\n",
       "  <tbody>\n",
       "    <tr>\n",
       "      <th>0</th>\n",
       "      <td>9976970</td>\n",
       "      <td>아 더빙 진짜 짜증나네요 목소리</td>\n",
       "      <td>0</td>\n",
       "    </tr>\n",
       "    <tr>\n",
       "      <th>1</th>\n",
       "      <td>3819312</td>\n",
       "      <td>흠포스터보고 초딩영화줄오버연기조차 가볍지 않구나</td>\n",
       "      <td>1</td>\n",
       "    </tr>\n",
       "    <tr>\n",
       "      <th>2</th>\n",
       "      <td>10265843</td>\n",
       "      <td>너무재밓었다그래서보는것을추천한다</td>\n",
       "      <td>0</td>\n",
       "    </tr>\n",
       "    <tr>\n",
       "      <th>3</th>\n",
       "      <td>9045019</td>\n",
       "      <td>교도소 이야기구먼 솔직히 재미는 없다평점 조정</td>\n",
       "      <td>0</td>\n",
       "    </tr>\n",
       "    <tr>\n",
       "      <th>4</th>\n",
       "      <td>6483659</td>\n",
       "      <td>사이몬페그의 익살스런 연기가 돋보였던 영화스파이더맨에서 늙어보이기만 했던 커스틴 던...</td>\n",
       "      <td>1</td>\n",
       "    </tr>\n",
       "  </tbody>\n",
       "</table>\n",
       "</div>"
      ],
      "text/plain": [
       "         id                                           document  label\n",
       "0   9976970                                  아 더빙 진짜 짜증나네요 목소리      0\n",
       "1   3819312                         흠포스터보고 초딩영화줄오버연기조차 가볍지 않구나      1\n",
       "2  10265843                                  너무재밓었다그래서보는것을추천한다      0\n",
       "3   9045019                          교도소 이야기구먼 솔직히 재미는 없다평점 조정      0\n",
       "4   6483659  사이몬페그의 익살스런 연기가 돋보였던 영화스파이더맨에서 늙어보이기만 했던 커스틴 던...      1"
      ]
     },
     "execution_count": 7,
     "metadata": {},
     "output_type": "execute_result"
    }
   ],
   "source": [
    "# 정규 표현식을 이용하여 한글, 숫자, 공백을 제외하고 모두 제거 \n",
    "train_data['document'] = train_data['document'].str.replace(\"[^ㄱ-ㅎㅏ-ㅣ가-힣0-9 ]\", \"\")\n",
    "\n",
    "train_data[:5]"
   ]
  },
  {
   "cell_type": "code",
   "execution_count": 8,
   "metadata": {},
   "outputs": [
    {
     "data": {
      "text/plain": [
       "id            0\n",
       "document    694\n",
       "label         0\n",
       "dtype: int64"
      ]
     },
     "execution_count": 8,
     "metadata": {},
     "output_type": "execute_result"
    }
   ],
   "source": [
    "# train_data에 document 열에 빈 값을 가진 행이 있다면 Null 값으로 변경\n",
    "train_data['document'].replace('', np.nan, inplace=True)\n",
    "\n",
    "# 다시 한 번 Null 값이 존재하는지 확인\n",
    "train_data.isnull().sum()"
   ]
  },
  {
   "cell_type": "markdown",
   "metadata": {},
   "source": [
    "* 한글과 숫자로 이루어 지지않은 행의 개수가 694개 이다."
   ]
  },
  {
   "cell_type": "code",
   "execution_count": 9,
   "metadata": {},
   "outputs": [
    {
     "data": {
      "text/html": [
       "<div>\n",
       "<style scoped>\n",
       "    .dataframe tbody tr th:only-of-type {\n",
       "        vertical-align: middle;\n",
       "    }\n",
       "\n",
       "    .dataframe tbody tr th {\n",
       "        vertical-align: top;\n",
       "    }\n",
       "\n",
       "    .dataframe thead th {\n",
       "        text-align: right;\n",
       "    }\n",
       "</style>\n",
       "<table border=\"1\" class=\"dataframe\">\n",
       "  <thead>\n",
       "    <tr style=\"text-align: right;\">\n",
       "      <th></th>\n",
       "      <th>id</th>\n",
       "      <th>document</th>\n",
       "      <th>label</th>\n",
       "    </tr>\n",
       "  </thead>\n",
       "  <tbody>\n",
       "    <tr>\n",
       "      <th>668</th>\n",
       "      <td>1600635</td>\n",
       "      <td>NaN</td>\n",
       "      <td>0</td>\n",
       "    </tr>\n",
       "    <tr>\n",
       "      <th>1559</th>\n",
       "      <td>6918082</td>\n",
       "      <td>NaN</td>\n",
       "      <td>1</td>\n",
       "    </tr>\n",
       "    <tr>\n",
       "      <th>1840</th>\n",
       "      <td>7095375</td>\n",
       "      <td>NaN</td>\n",
       "      <td>1</td>\n",
       "    </tr>\n",
       "    <tr>\n",
       "      <th>2073</th>\n",
       "      <td>384233</td>\n",
       "      <td>NaN</td>\n",
       "      <td>1</td>\n",
       "    </tr>\n",
       "    <tr>\n",
       "      <th>2648</th>\n",
       "      <td>423224</td>\n",
       "      <td>NaN</td>\n",
       "      <td>1</td>\n",
       "    </tr>\n",
       "  </tbody>\n",
       "</table>\n",
       "</div>"
      ],
      "text/plain": [
       "           id document  label\n",
       "668   1600635      NaN      0\n",
       "1559  6918082      NaN      1\n",
       "1840  7095375      NaN      1\n",
       "2073   384233      NaN      1\n",
       "2648   423224      NaN      1"
      ]
     },
     "execution_count": 9,
     "metadata": {},
     "output_type": "execute_result"
    }
   ],
   "source": [
    "# Null 값이 있는 행 5개만 출력\n",
    "train_data.loc[train_data.document.isnull()][:5]"
   ]
  },
  {
   "cell_type": "code",
   "execution_count": 10,
   "metadata": {},
   "outputs": [
    {
     "name": "stdout",
     "output_type": "stream",
     "text": [
      "전처리 후 학습용 데이터 개수 : 149306\n"
     ]
    }
   ],
   "source": [
    "# NaN은 아무런 의미가 없는 데이터 이므로 제거\n",
    "train_data = train_data.dropna(how = 'any')\n",
    "\n",
    "print('전처리 후 학습용 데이터 개수 :', len(train_data))"
   ]
  },
  {
   "cell_type": "code",
   "execution_count": 11,
   "metadata": {},
   "outputs": [
    {
     "name": "stdout",
     "output_type": "stream",
     "text": [
      "전처리 후 테스트용 데이터 개수 : 49773\n"
     ]
    },
    {
     "name": "stderr",
     "output_type": "stream",
     "text": [
      "/home/aiffel-d34j/anaconda3/envs/aiffel/lib/python3.7/site-packages/ipykernel_launcher.py:2: FutureWarning: The default value of regex will change from True to False in a future version.\n",
      "  \n"
     ]
    }
   ],
   "source": [
    "# 테스트 데이터도 정규 표현식을 이용하여 한글, 숫자, 공백을 제외하고 모두 제거 \n",
    "test_data['document'] = test_data['document'].str.replace(\"[^ㄱ-ㅎㅏ-ㅣ가-힣0-9 ]\", \"\")\n",
    "# test_data에 document 열에 빈 값을 가진 행이 있다면 Null 값으로 변경\n",
    "test_data['document'].replace('', np.nan, inplace=True)\n",
    "# NaN은 아무런 의미가 없는 데이터 이므로 제거\n",
    "test_data = test_data.dropna(how = 'any')\n",
    "\n",
    "print('전처리 후 테스트용 데이터 개수 :', len(test_data))"
   ]
  },
  {
   "cell_type": "markdown",
   "metadata": {},
   "source": [
    "### 2-2. 토큰화, 불용어 제거, workd_to_index\n",
    "* 한국어를 토큰화할 때는 형태소 분석기를 사용한다.\n",
    "* 자연어 처리를 하기 위해서 긴 텍스트를 단어별로 쪼개는 작업이다.\n",
    "* 토큰화 과정에서 불용어를 제거한다.\n",
    "* 토큰화된 단어들을 인덱스로 변환한다."
   ]
  },
  {
   "cell_type": "code",
   "execution_count": 12,
   "metadata": {},
   "outputs": [],
   "source": [
    "# Mecab 설치 참고 : https://somjang.tistory.com/entry/PythonUbuntu에-mecab-ko-dic-라이브러리-설치하기\n",
    "from konlpy.tag import Mecab        # Mecab : 일본어 형태소 분석기\n",
    "\n",
    "# 형태소 분석기 객체 생성\n",
    "tokenizer = Mecab()\n",
    "\n",
    "# 불용어 리스트\n",
    "stopwords = ['의','가','이','은','들','는','좀','잘','걍','과','도','를','으로','자','에','와','한','하다']\n",
    "\n",
    "def load_data(train_data, test_data, num_words=10000):\n",
    "    # 학습용 데이터에서 document 열에서 중복 데이터 제거\n",
    "    train_data.drop_duplicates(subset=['document'], inplace=True)\n",
    "    # 학습용 데이터에서 Null 값이 존재하는 행 제거\n",
    "    train_data = train_data.dropna(how = 'any') \n",
    "    # 테스트용 데이터에서 document 열에서 중복 데이터 제거\n",
    "    test_data.drop_duplicates(subset=['document'], inplace=True)\n",
    "    # 테스트용 데이터에서 Null 값이 존재하는 행 제거\n",
    "    test_data = test_data.dropna(how = 'any') \n",
    "    \n",
    "    # 한국어 토크나이저로 토큰화 및 불용어 제거\n",
    "    x_train = []\n",
    "    for sentence in train_data['document']:\n",
    "        temp_x = tokenizer.morphs(sentence) # 형태소 단위로 토큰화\n",
    "        temp_x = [word for word in temp_x if not word in stopwords] # 불용어 제거\n",
    "        x_train.append(temp_x)\n",
    "\n",
    "    x_test = []\n",
    "    for sentence in test_data['document']:\n",
    "        temp_x = tokenizer.morphs(sentence) \n",
    "        temp_x = [word for word in temp_x if not word in stopwords] \n",
    "        x_test.append(temp_x)\n",
    "\n",
    "    # 사전 작성\n",
    "    words = np.concatenate(x_train).tolist()   # .tolist() : array를 list로 변경\n",
    "    counter = Counter(words)                   # collection 모듈의 Counter 클래스로 데이터의 개수 확인\n",
    "    counter = counter.most_common(10000-4)     # most_common() : 데이터의 개수가 많은 순으로 정렬된 배열 리턴\n",
    "    vocab = ['<PAD>', '<BOS>', '<UNK>', '<UNUSED>'] + [key for key, _ in counter]\n",
    "    word_to_index = {word:index for index, word in enumerate(vocab)}\n",
    "\n",
    "    # word_to_index\n",
    "    def wordlist_to_indexlist(wordlist):\n",
    "        return [word_to_index[word] if word in word_to_index else word_to_index['<UNK>'] for word in wordlist]\n",
    "        # wordlist에 있는 word에 대해서 만약에 word가 word_to_index에 존재하면 인덱스 값을, 존재하지 않으면 <UNK>를 인덱스로 반환함\n",
    "\n",
    "    x_train = list(map(wordlist_to_indexlist, x_train))   # x_train 대상으로 wordlist_to_indexlist 함수를 수행하여 리스트로 반환\n",
    "    x_test = list(map(wordlist_to_indexlist, x_test))\n",
    "\n",
    "    return x_train, np.array(list(train_data['label'])), x_test, np.array(list(test_data['label'])), word_to_index\n",
    "\n",
    "x_train, y_train, x_test, y_test, word_to_index = load_data(train_data, test_data) "
   ]
  },
  {
   "cell_type": "code",
   "execution_count": 13,
   "metadata": {},
   "outputs": [
    {
     "name": "stdout",
     "output_type": "stream",
     "text": [
      "훈련 데이터 개수: 143856,  테스트 데이터 개수: 48498\n"
     ]
    }
   ],
   "source": [
    "print(\"훈련 데이터 개수: {},  테스트 데이터 개수: {}\".format(len(x_train), len(x_test)))"
   ]
  },
  {
   "cell_type": "code",
   "execution_count": 14,
   "metadata": {},
   "outputs": [
    {
     "data": {
      "text/plain": [
       "{0: '<PAD>',\n",
       " 1: '<BOS>',\n",
       " 2: '<UNK>',\n",
       " 3: '<UNUSED>',\n",
       " 4: '영화',\n",
       " 5: '다',\n",
       " 6: '고',\n",
       " 7: '하',\n",
       " 8: '을',\n",
       " 9: '보',\n",
       " 10: '게',\n",
       " 11: '지',\n",
       " 12: '있',\n",
       " 13: '없',\n",
       " 14: '좋',\n",
       " 15: '나',\n",
       " 16: '었',\n",
       " 17: '만',\n",
       " 18: '는데',\n",
       " 19: '너무',\n",
       " 20: '봤',\n",
       " 21: '안',\n",
       " 22: '적',\n",
       " 23: '로',\n",
       " 24: '정말',\n",
       " 25: '것',\n",
       " 26: '음',\n",
       " 27: '네요',\n",
       " 28: '아',\n",
       " 29: '어',\n",
       " 30: '점',\n",
       " 31: '지만',\n",
       " 32: '같',\n",
       " 33: '재밌',\n",
       " 34: '진짜',\n",
       " 35: '했',\n",
       " 36: '에서',\n",
       " 37: '기',\n",
       " 38: '않',\n",
       " 39: '네',\n",
       " 40: '거',\n",
       " 41: '았',\n",
       " 42: '수',\n",
       " 43: '되',\n",
       " 44: '면',\n",
       " 45: '인',\n",
       " 46: '말',\n",
       " 47: '연기',\n",
       " 48: '주',\n",
       " 49: '평점',\n",
       " 50: '내',\n",
       " 51: '최고',\n",
       " 52: '이런',\n",
       " 53: '던',\n",
       " 54: '생각',\n",
       " 55: 'ㅎ',\n",
       " 56: '할',\n",
       " 57: '왜',\n",
       " 58: '어요',\n",
       " 59: '겠',\n",
       " 60: '스토리',\n",
       " 61: '습니다',\n",
       " 62: '해',\n",
       " 63: '듯',\n",
       " 64: '아니',\n",
       " 65: '드라마',\n",
       " 66: '1',\n",
       " 67: '그',\n",
       " 68: '사람',\n",
       " 69: '싶',\n",
       " 70: '더',\n",
       " 71: '함',\n",
       " 72: '때',\n",
       " 73: '감동',\n",
       " 74: '배우',\n",
       " 75: '본',\n",
       " 76: '까지',\n",
       " 77: '알',\n",
       " 78: '만들',\n",
       " 79: '내용',\n",
       " 80: '뭐',\n",
       " 81: '볼',\n",
       " 82: '감독',\n",
       " 83: '보다',\n",
       " 84: '라',\n",
       " 85: '지루',\n",
       " 86: '재미',\n",
       " 87: 'ㅋㅋ',\n",
       " 88: '그냥',\n",
       " 89: '시간',\n",
       " 90: '중',\n",
       " 91: '재미있',\n",
       " 92: '년',\n",
       " 93: '였',\n",
       " 94: '10',\n",
       " 95: '못',\n",
       " 96: '잼',\n",
       " 97: '사랑',\n",
       " 98: '냐',\n",
       " 99: '쓰레기',\n",
       " 100: '서',\n",
       " 101: '니',\n",
       " 102: '라고',\n",
       " 103: '재미없',\n",
       " 104: '면서',\n",
       " 105: '번',\n",
       " 106: '다시',\n",
       " 107: '나오',\n",
       " 108: '야',\n",
       " 109: '하나',\n",
       " 110: '작품',\n",
       " 111: '줄',\n",
       " 112: '이거',\n",
       " 113: '해서',\n",
       " 114: '2',\n",
       " 115: '정도',\n",
       " 116: '개',\n",
       " 117: '끝',\n",
       " 118: '남',\n",
       " 119: '마지막',\n",
       " 120: '액션',\n",
       " 121: '이건',\n",
       " 122: '임',\n",
       " 123: '기대',\n",
       " 124: '건',\n",
       " 125: '라는',\n",
       " 126: '다는',\n",
       " 127: '분',\n",
       " 128: '입니다',\n",
       " 129: '완전',\n",
       " 130: '많',\n",
       " 131: '참',\n",
       " 132: '처음',\n",
       " 133: '장면',\n",
       " 134: '대',\n",
       " 135: '으면',\n",
       " 136: '3',\n",
       " 137: '다가',\n",
       " 138: '아깝',\n",
       " 139: '모르',\n",
       " 140: '이렇게',\n",
       " 141: '지금',\n",
       " 142: '편',\n",
       " 143: '일',\n",
       " 144: '돈',\n",
       " 145: 'ㅠㅠ',\n",
       " 146: '느낌',\n",
       " 147: '이게',\n",
       " 148: '성',\n",
       " 149: '이야기',\n",
       " 150: '시',\n",
       " 151: '애',\n",
       " 152: '최악',\n",
       " 153: '된',\n",
       " 154: '님',\n",
       " 155: '어서',\n",
       " 156: '봐도',\n",
       " 157: 'ㅋ',\n",
       " 158: '넘',\n",
       " 159: '다고',\n",
       " 160: '인데',\n",
       " 161: '이해',\n",
       " 162: '걸',\n",
       " 163: '그리고',\n",
       " 164: '여자',\n",
       " 165: '이상',\n",
       " 166: '역시',\n",
       " 167: '명작',\n",
       " 168: '한국',\n",
       " 169: '별로',\n",
       " 170: '또',\n",
       " 171: '난',\n",
       " 172: '는지',\n",
       " 173: '많이',\n",
       " 174: '에게',\n",
       " 175: '받',\n",
       " 176: '부터',\n",
       " 177: '두',\n",
       " 178: '주인공',\n",
       " 179: '전',\n",
       " 180: '합니다',\n",
       " 181: '우리',\n",
       " 182: '살',\n",
       " 183: 'ㅋㅋㅋ',\n",
       " 184: '길',\n",
       " 185: '만든',\n",
       " 186: '요',\n",
       " 187: '기억',\n",
       " 188: '괜찮',\n",
       " 189: '한다',\n",
       " 190: '연출',\n",
       " 191: 'ㅡㅡ',\n",
       " 192: '때문',\n",
       " 193: '엔',\n",
       " 194: '이나',\n",
       " 195: '저',\n",
       " 196: '재',\n",
       " 197: '꼭',\n",
       " 198: '며',\n",
       " 199: '현실',\n",
       " 200: '긴',\n",
       " 201: '랑',\n",
       " 202: '무슨',\n",
       " 203: '내내',\n",
       " 204: '죽',\n",
       " 205: '데',\n",
       " 206: '결말',\n",
       " 207: '전개',\n",
       " 208: '속',\n",
       " 209: '남자',\n",
       " 210: '세요',\n",
       " 211: '소재',\n",
       " 212: '마음',\n",
       " 213: '공포',\n",
       " 214: '아서',\n",
       " 215: '다른',\n",
       " 216: '씨',\n",
       " 217: '인생',\n",
       " 218: '짜증',\n",
       " 219: '없이',\n",
       " 220: '뿐',\n",
       " 221: '별',\n",
       " 222: '반전',\n",
       " 223: '유치',\n",
       " 224: '아이',\n",
       " 225: '가장',\n",
       " 226: '은데',\n",
       " 227: '아요',\n",
       " 228: '음악',\n",
       " 229: '일본',\n",
       " 230: '필요',\n",
       " 231: '오',\n",
       " 232: '짱',\n",
       " 233: '낮',\n",
       " 234: '수준',\n",
       " 235: '웃',\n",
       " 236: '다니',\n",
       " 237: '매력',\n",
       " 238: '가슴',\n",
       " 239: '맞',\n",
       " 240: '인지',\n",
       " 241: '몰입',\n",
       " 242: '원작',\n",
       " 243: '인간',\n",
       " 244: '높',\n",
       " 245: 'ㄷ',\n",
       " 246: '밋',\n",
       " 247: '준',\n",
       " 248: '만드',\n",
       " 249: '굿',\n",
       " 250: '급',\n",
       " 251: '눈물',\n",
       " 252: '보여',\n",
       " 253: '찍',\n",
       " 254: '인가',\n",
       " 255: '신',\n",
       " 256: '용',\n",
       " 257: '코미디',\n",
       " 258: '쓰',\n",
       " 259: '란',\n",
       " 260: '노',\n",
       " 261: '추천',\n",
       " 262: '모든',\n",
       " 263: '아닌',\n",
       " 264: '아직',\n",
       " 265: '마',\n",
       " 266: '처럼',\n",
       " 267: '스럽',\n",
       " 268: '자체',\n",
       " 269: '여',\n",
       " 270: '울',\n",
       " 271: '눈',\n",
       " 272: '몇',\n",
       " 273: '대한',\n",
       " 274: '을까',\n",
       " 275: '실망',\n",
       " 276: '대박',\n",
       " 277: '는다',\n",
       " 278: '그런',\n",
       " 279: '죠',\n",
       " 280: '솔직히',\n",
       " 281: '캐릭터',\n",
       " 282: '모두',\n",
       " 283: '아주',\n",
       " 284: '전혀',\n",
       " 285: '가족',\n",
       " 286: '건지',\n",
       " 287: '여운',\n",
       " 288: '될',\n",
       " 289: '연기력',\n",
       " 290: '다면',\n",
       " 291: '뭔가',\n",
       " 292: '나라',\n",
       " 293: '화',\n",
       " 294: '후',\n",
       " 295: '그래도',\n",
       " 296: '시리즈',\n",
       " 297: '작',\n",
       " 298: '구',\n",
       " 299: '모습',\n",
       " 300: '표현',\n",
       " 301: '비',\n",
       " 302: '공감',\n",
       " 303: '근데',\n",
       " 304: '이랑',\n",
       " 305: '계속',\n",
       " 306: '제목',\n",
       " 307: '개봉',\n",
       " 308: '먹',\n",
       " 309: '봐야',\n",
       " 310: '극장',\n",
       " 311: '바',\n",
       " 312: '이걸',\n",
       " 313: '부분',\n",
       " 314: '그렇',\n",
       " 315: '대단',\n",
       " 316: '어디',\n",
       " 317: '억지',\n",
       " 318: '된다',\n",
       " 319: '아쉽',\n",
       " 320: '물',\n",
       " 321: '작가',\n",
       " 322: '기분',\n",
       " 323: '진',\n",
       " 324: '대사',\n",
       " 325: '해도',\n",
       " 326: '보이',\n",
       " 327: '4',\n",
       " 328: '제',\n",
       " 329: '놓',\n",
       " 330: '진심',\n",
       " 331: '치',\n",
       " 332: '삶',\n",
       " 333: '막장',\n",
       " 334: 'ㅠ',\n",
       " 335: '웃기',\n",
       " 336: '친구',\n",
       " 337: '타임',\n",
       " 338: '잔잔',\n",
       " 339: '이제',\n",
       " 340: '가지',\n",
       " 341: '라도',\n",
       " 342: '조금',\n",
       " 343: '5',\n",
       " 344: '찾',\n",
       " 345: '감',\n",
       " 346: '씬',\n",
       " 347: '싫',\n",
       " 348: '요즘',\n",
       " 349: '딱',\n",
       " 350: '스릴러',\n",
       " 351: '어떻게',\n",
       " 352: '아까운',\n",
       " 353: '나왔',\n",
       " 354: '영상',\n",
       " 355: '긴장감',\n",
       " 356: '믿',\n",
       " 357: '제대로',\n",
       " 358: '중간',\n",
       " 359: '개인',\n",
       " 360: '부족',\n",
       " 361: '이유',\n",
       " 362: '만큼',\n",
       " 363: 'ㅜㅜ',\n",
       " 364: '노래',\n",
       " 365: '시작',\n",
       " 366: '점수',\n",
       " 367: '라면',\n",
       " 368: '같이',\n",
       " 369: '구나',\n",
       " 370: '0',\n",
       " 371: '특히',\n",
       " 372: '잇',\n",
       " 373: '한테',\n",
       " 374: '려고',\n",
       " 375: '제일',\n",
       " 376: '시대',\n",
       " 377: '아름다운',\n",
       " 378: '의미',\n",
       " 379: '날',\n",
       " 380: '니까',\n",
       " 381: '당시',\n",
       " 382: '명',\n",
       " 383: '무섭',\n",
       " 384: '나름',\n",
       " 385: '사',\n",
       " 386: '해요',\n",
       " 387: '오랜만',\n",
       " 388: '나온',\n",
       " 389: '7',\n",
       " 390: '팬',\n",
       " 391: '차라리',\n",
       " 392: 'ㅋㅋㅋㅋ',\n",
       " 393: '세상',\n",
       " 394: '봐',\n",
       " 395: '이것',\n",
       " 396: '절대',\n",
       " 397: '엔딩',\n",
       " 398: '세',\n",
       " 399: '너무나',\n",
       " 400: '훌륭',\n",
       " 401: '봄',\n",
       " 402: '됨',\n",
       " 403: '느끼',\n",
       " 404: '해야',\n",
       " 405: '빼',\n",
       " 406: '따뜻',\n",
       " 407: '강추',\n",
       " 408: '글',\n",
       " 409: '드',\n",
       " 410: '감정',\n",
       " 411: '도대체',\n",
       " 412: '전쟁',\n",
       " 413: '흥미',\n",
       " 414: '못하',\n",
       " 415: '어야',\n",
       " 416: '어도',\n",
       " 417: '답답',\n",
       " 418: '놈',\n",
       " 419: '마다',\n",
       " 420: '설정',\n",
       " 421: '무엇',\n",
       " 422: '준다',\n",
       " 423: '수작',\n",
       " 424: '만화',\n",
       " 425: '행복',\n",
       " 426: '그저',\n",
       " 427: '신선',\n",
       " 428: '던데',\n",
       " 429: '앞',\n",
       " 430: '사실',\n",
       " 431: '뻔',\n",
       " 432: '시절',\n",
       " 433: '허접',\n",
       " 434: '관객',\n",
       " 435: '욕',\n",
       " 436: '배경',\n",
       " 437: '형',\n",
       " 438: '웃음',\n",
       " 439: '자신',\n",
       " 440: '더라',\n",
       " 441: '답',\n",
       " 442: '질',\n",
       " 443: '라니',\n",
       " 444: '엄청',\n",
       " 445: '캐스팅',\n",
       " 446: '추억',\n",
       " 447: '8',\n",
       " 448: '어색',\n",
       " 449: '시나리오',\n",
       " 450: '첨',\n",
       " 451: '멋있',\n",
       " 452: '군',\n",
       " 453: '분위기',\n",
       " 454: '밖에',\n",
       " 455: '슬프',\n",
       " 456: '미국',\n",
       " 457: '초반',\n",
       " 458: '머',\n",
       " 459: '힘들',\n",
       " 460: '소름',\n",
       " 461: '멋진',\n",
       " 462: '류',\n",
       " 463: '오늘',\n",
       " 464: '집',\n",
       " 465: '정신',\n",
       " 466: '역사',\n",
       " 467: '소리',\n",
       " 468: '잡',\n",
       " 469: '구성',\n",
       " 470: '엄마',\n",
       " 471: '위해',\n",
       " 472: '함께',\n",
       " 473: '보고',\n",
       " 474: '봐서',\n",
       " 475: '잊',\n",
       " 476: '졸작',\n",
       " 477: '어이없',\n",
       " 478: '문제',\n",
       " 479: '9',\n",
       " 480: '유쾌',\n",
       " 481: '결국',\n",
       " 482: '스러운',\n",
       " 483: '낫',\n",
       " 484: '등',\n",
       " 485: '이딴',\n",
       " 486: '뭘',\n",
       " 487: '한데',\n",
       " 488: '뭔',\n",
       " 489: '영화관',\n",
       " 490: '아무리',\n",
       " 491: '난다',\n",
       " 492: '제발',\n",
       " 493: '킬링',\n",
       " 494: '뻔한',\n",
       " 495: '어떤',\n",
       " 496: '20',\n",
       " 497: '얼마나',\n",
       " 498: '코믹',\n",
       " 499: '포스터',\n",
       " 500: '후회',\n",
       " 501: '애니메이션',\n",
       " 502: '맘',\n",
       " 503: '더니',\n",
       " 504: '완벽',\n",
       " 505: '간',\n",
       " 506: '출연',\n",
       " 507: '주연',\n",
       " 508: '러',\n",
       " 509: '원',\n",
       " 510: '버리',\n",
       " 511: '밖',\n",
       " 512: '어릴',\n",
       " 513: '진부',\n",
       " 514: '보단',\n",
       " 515: '됐',\n",
       " 516: '나요',\n",
       " 517: '나올',\n",
       " 518: '큰',\n",
       " 519: '책',\n",
       " 520: '장난',\n",
       " 521: '둘',\n",
       " 522: '극',\n",
       " 523: '충격',\n",
       " 524: '동안',\n",
       " 525: '개연',\n",
       " 526: '여기',\n",
       " 527: '평가',\n",
       " 528: '잔인',\n",
       " 529: 'ㅅ',\n",
       " 530: '텐데',\n",
       " 531: '얘기',\n",
       " 532: '아름답',\n",
       " 533: '하지만',\n",
       " 534: '예술',\n",
       " 535: '매우',\n",
       " 536: '으나',\n",
       " 537: '갈수록',\n",
       " 538: '위한',\n",
       " 539: '이후',\n",
       " 540: '이리',\n",
       " 541: '꺼',\n",
       " 542: '시청',\n",
       " 543: '읽',\n",
       " 544: '든',\n",
       " 545: '꽤',\n",
       " 546: '얼굴',\n",
       " 547: '배',\n",
       " 548: '티비',\n",
       " 549: '못한',\n",
       " 550: '옛날',\n",
       " 551: '별점',\n",
       " 552: '순수',\n",
       " 553: '자기',\n",
       " 554: '이쁘',\n",
       " 555: '겟',\n",
       " 556: '건가',\n",
       " 557: '낭비',\n",
       " 558: '줬',\n",
       " 559: '봐라',\n",
       " 560: '그렇게',\n",
       " 561: '장르',\n",
       " 562: '라서',\n",
       " 563: '언제',\n",
       " 564: '6',\n",
       " 565: '그래서',\n",
       " 566: '깊',\n",
       " 567: '진정',\n",
       " 568: '비디오',\n",
       " 569: '다운',\n",
       " 570: '다음',\n",
       " 571: '다큐',\n",
       " 572: '엇',\n",
       " 573: '불쌍',\n",
       " 574: '학교',\n",
       " 575: '머리',\n",
       " 576: '시키',\n",
       " 577: '궁금',\n",
       " 578: '주제',\n",
       " 579: '예전',\n",
       " 580: '누구',\n",
       " 581: '뒤',\n",
       " 582: '아님',\n",
       " 583: '미친',\n",
       " 584: '아무',\n",
       " 585: '스릴',\n",
       " 586: '오래',\n",
       " 587: '상황',\n",
       " 588: '그만',\n",
       " 589: '감사',\n",
       " 590: '크',\n",
       " 591: '더빙',\n",
       " 592: '이름',\n",
       " 593: '그러',\n",
       " 594: '시즌',\n",
       " 595: '어느',\n",
       " 596: '본다',\n",
       " 597: '약간',\n",
       " 598: '방송',\n",
       " 599: '집중',\n",
       " 600: '무',\n",
       " 601: '입',\n",
       " 602: '힘',\n",
       " 603: '나와서',\n",
       " 604: '로맨스',\n",
       " 605: '인상',\n",
       " 606: '그나마',\n",
       " 607: '짜리',\n",
       " 608: '났',\n",
       " 609: '인물',\n",
       " 610: '소설',\n",
       " 611: '그대로',\n",
       " 612: '반',\n",
       " 613: '까',\n",
       " 614: '떨어지',\n",
       " 615: '마세요',\n",
       " 616: '사회',\n",
       " 617: '훨씬',\n",
       " 618: '그것',\n",
       " 619: '여주인공',\n",
       " 620: '실화',\n",
       " 621: '누가',\n",
       " 622: '대체',\n",
       " 623: '회',\n",
       " 624: '존나',\n",
       " 625: '식',\n",
       " 626: '죽이',\n",
       " 627: '걸작',\n",
       " 628: '해라',\n",
       " 629: '영상미',\n",
       " 630: '짓',\n",
       " 631: '꿈',\n",
       " 632: '너',\n",
       " 633: '평',\n",
       " 634: '막',\n",
       " 635: '전체',\n",
       " 636: '만점',\n",
       " 637: '비슷',\n",
       " 638: '케',\n",
       " 639: '발연기',\n",
       " 640: '왔',\n",
       " 641: '에요',\n",
       " 642: '엉성',\n",
       " 643: '망',\n",
       " 644: '비교',\n",
       " 645: '중국',\n",
       " 646: '단',\n",
       " 647: '감성',\n",
       " 648: '귀엽',\n",
       " 649: '햇',\n",
       " 650: '초딩',\n",
       " 651: '는가',\n",
       " 652: '여주',\n",
       " 653: '세계',\n",
       " 654: '나이',\n",
       " 655: '려는',\n",
       " 656: '느껴',\n",
       " 657: '네이버',\n",
       " 658: '여배우',\n",
       " 659: '상',\n",
       " 660: '30',\n",
       " 661: '한마디',\n",
       " 662: '대해',\n",
       " 663: '순간',\n",
       " 664: '쯤',\n",
       " 665: '타',\n",
       " 666: '아들',\n",
       " 667: '맨',\n",
       " 668: '어렸',\n",
       " 669: '끝나',\n",
       " 670: '갔',\n",
       " 671: '혼자',\n",
       " 672: '어설픈',\n",
       " 673: '아야',\n",
       " 674: '돋',\n",
       " 675: '느낄',\n",
       " 676: '꿀',\n",
       " 677: '어린',\n",
       " 678: '초',\n",
       " 679: '애니',\n",
       " 680: '나가',\n",
       " 681: '더럽',\n",
       " 682: '100',\n",
       " 683: '가능',\n",
       " 684: '성룡',\n",
       " 685: '졸',\n",
       " 686: '바로',\n",
       " 687: '삼류',\n",
       " 688: '셨',\n",
       " 689: '잘못',\n",
       " 690: '교훈',\n",
       " 691: '잠',\n",
       " 692: '멋지',\n",
       " 693: '불',\n",
       " 694: '끌',\n",
       " 695: '화려',\n",
       " 696: '길래',\n",
       " 697: '판',\n",
       " 698: '당신',\n",
       " 699: '맛',\n",
       " 700: '존',\n",
       " 701: '판타지',\n",
       " 702: '딸',\n",
       " 703: '땜',\n",
       " 704: '달',\n",
       " 705: '미',\n",
       " 706: '아까움',\n",
       " 707: '든다',\n",
       " 708: '빨리',\n",
       " 709: '똥',\n",
       " 710: '목소리',\n",
       " 711: '듣',\n",
       " 712: '군요',\n",
       " 713: '다르',\n",
       " 714: '봤었',\n",
       " 715: '독특',\n",
       " 716: '전부',\n",
       " 717: '건데',\n",
       " 718: '차',\n",
       " 719: '어른',\n",
       " 720: '거의',\n",
       " 721: 'ㅉㅉ',\n",
       " 722: '가치',\n",
       " 723: '률',\n",
       " 724: '질질',\n",
       " 725: '나온다',\n",
       " 726: '상당히',\n",
       " 727: '씩',\n",
       " 728: '다만',\n",
       " 729: '티',\n",
       " 730: '첫',\n",
       " 731: '아버지',\n",
       " 732: '넣',\n",
       " 733: '이하',\n",
       " 734: '존재',\n",
       " 735: '위',\n",
       " 736: '스타일',\n",
       " 737: '그러나',\n",
       " 738: '갑자기',\n",
       " 739: '줄거리',\n",
       " 740: '평론가',\n",
       " 741: '여러',\n",
       " 742: '의도',\n",
       " 743: '이번',\n",
       " 744: '에선',\n",
       " 745: '허무',\n",
       " 746: '저런',\n",
       " 747: 'ㅂ',\n",
       " 748: '밑',\n",
       " 749: '영',\n",
       " 750: '너무너무',\n",
       " 751: '버린',\n",
       " 752: '으면서',\n",
       " 753: '째',\n",
       " 754: '90',\n",
       " 755: '각본',\n",
       " 756: '생',\n",
       " 757: '그녀',\n",
       " 758: '12',\n",
       " 759: '예상',\n",
       " 760: '성우',\n",
       " 761: '화면',\n",
       " 762: '이러',\n",
       " 763: '뻔하',\n",
       " 764: '한번',\n",
       " 765: '떠나',\n",
       " 766: '담',\n",
       " 767: '예쁘',\n",
       " 768: '비해',\n",
       " 769: '구만',\n",
       " 770: '대로',\n",
       " 771: '자연',\n",
       " 772: '한편',\n",
       " 773: '만나',\n",
       " 774: '굉장히',\n",
       " 775: '관람',\n",
       " 776: '평범',\n",
       " 777: '복수',\n",
       " 778: '슬픈',\n",
       " 779: '제작',\n",
       " 780: '단순',\n",
       " 781: '그런지',\n",
       " 782: '당',\n",
       " 783: '중요',\n",
       " 784: '갖',\n",
       " 785: '새로운',\n",
       " 786: '낸',\n",
       " 787: '만족',\n",
       " 788: '댓글',\n",
       " 789: '돼',\n",
       " 790: '쉽',\n",
       " 791: '선택',\n",
       " 792: '앗',\n",
       " 793: '요소',\n",
       " 794: '불편',\n",
       " 795: '일단',\n",
       " 796: '아빠',\n",
       " 797: '쓴',\n",
       " 798: '항상',\n",
       " 799: '멜',\n",
       " 800: '거기',\n",
       " 801: '한다는',\n",
       " 802: '스',\n",
       " 803: '부',\n",
       " 804: '연출력',\n",
       " 805: '그때',\n",
       " 806: '극장판',\n",
       " 807: '거나',\n",
       " 808: '지나',\n",
       " 809: '피',\n",
       " 810: '롭',\n",
       " 811: '탄탄',\n",
       " 812: '나옴',\n",
       " 813: '잃',\n",
       " 814: '편집',\n",
       " 815: '산',\n",
       " 816: '물론',\n",
       " 817: '흥행',\n",
       " 818: '줌',\n",
       " 819: '진행',\n",
       " 820: '역대',\n",
       " 821: '예요',\n",
       " 822: '관계',\n",
       " 823: '굳',\n",
       " 824: '점점',\n",
       " 825: '전형',\n",
       " 826: '짧',\n",
       " 827: '한심',\n",
       " 828: '도록',\n",
       " 829: '충분히',\n",
       " 830: '려',\n",
       " 831: '에로',\n",
       " 832: '아닌가',\n",
       " 833: '에겐',\n",
       " 834: '따',\n",
       " 835: 'ㄱ',\n",
       " 836: '안타깝',\n",
       " 837: '식상',\n",
       " 838: '법',\n",
       " 839: '던가',\n",
       " 840: '자꾸',\n",
       " 841: '아까워',\n",
       " 842: '삼',\n",
       " 843: '버렸',\n",
       " 844: '개그',\n",
       " 845: '따라',\n",
       " 846: '미안',\n",
       " 847: '게임',\n",
       " 848: '훈훈',\n",
       " 849: '구요',\n",
       " 850: '몸',\n",
       " 851: '손',\n",
       " 852: '원래',\n",
       " 853: '역',\n",
       " 854: '사건',\n",
       " 855: '풀',\n",
       " 856: '곳',\n",
       " 857: '그게',\n",
       " 858: '조차',\n",
       " 859: '자극',\n",
       " 860: '불륜',\n",
       " 861: '발',\n",
       " 862: '총',\n",
       " 863: '어쩔',\n",
       " 864: '설명',\n",
       " 865: '똑같',\n",
       " 866: '조',\n",
       " 867: '어울리',\n",
       " 868: '미화',\n",
       " 869: '프랑스',\n",
       " 870: '간다',\n",
       " 871: '또한',\n",
       " 872: '뭔지',\n",
       " 873: '과거',\n",
       " 874: '못했',\n",
       " 875: '노력',\n",
       " 876: '나쁜',\n",
       " 877: '빠져',\n",
       " 878: '잖아',\n",
       " 879: '도저히',\n",
       " 880: '화이팅',\n",
       " 881: '귀신',\n",
       " 882: '그래픽',\n",
       " 883: '됬',\n",
       " 884: '짐',\n",
       " 885: '아프',\n",
       " 886: '김',\n",
       " 887: '중반',\n",
       " 888: '홍콩',\n",
       " 889: '취향',\n",
       " 890: '듬',\n",
       " 891: '코메디',\n",
       " 892: '좋아하',\n",
       " 893: '참신',\n",
       " 894: '닿',\n",
       " 895: '황당',\n",
       " 896: '했었',\n",
       " 897: '빠',\n",
       " 898: '죽음',\n",
       " 899: '무조건',\n",
       " 900: '소중',\n",
       " 901: 'ㅜ',\n",
       " 902: '상영',\n",
       " 903: '속편',\n",
       " 904: '팔',\n",
       " 905: '미치',\n",
       " 906: '나쁘',\n",
       " 907: '새끼',\n",
       " 908: '프로',\n",
       " 909: '멋',\n",
       " 910: '80',\n",
       " 911: '상상',\n",
       " 912: '아쉬운',\n",
       " 913: '더욱',\n",
       " 914: '무서운',\n",
       " 915: '유명',\n",
       " 916: '장',\n",
       " 917: '빠지',\n",
       " 918: '넘치',\n",
       " 919: '특유',\n",
       " 920: '순',\n",
       " 921: '진지',\n",
       " 922: '무비',\n",
       " 923: '쳐',\n",
       " 924: '심리',\n",
       " 925: '결혼',\n",
       " 926: '짱짱',\n",
       " 927: '엄청난',\n",
       " 928: '틀',\n",
       " 929: '괜히',\n",
       " 930: '숨',\n",
       " 931: '병맛',\n",
       " 932: '오히려',\n",
       " 933: '예고편',\n",
       " 934: '전설',\n",
       " 935: '후반부',\n",
       " 936: '심하',\n",
       " 937: '연기자',\n",
       " 938: '고자',\n",
       " 939: '짜',\n",
       " 940: '헐',\n",
       " 941: '아저씨',\n",
       " 942: '열',\n",
       " 943: '바보',\n",
       " 944: '촬영',\n",
       " 945: '조연',\n",
       " 946: '척',\n",
       " 947: '느꼈',\n",
       " 948: '아도',\n",
       " 949: '온',\n",
       " 950: '천재',\n",
       " 951: '소녀',\n",
       " 952: '마무리',\n",
       " 953: '희망',\n",
       " 954: '으니',\n",
       " 955: '로맨틱',\n",
       " 956: '현재',\n",
       " 957: '표정',\n",
       " 958: '왕',\n",
       " 959: '그리',\n",
       " 960: '최근',\n",
       " 961: '는구나',\n",
       " 962: '거리',\n",
       " 963: '전편',\n",
       " 964: 'ㄴ',\n",
       " 965: '가볍',\n",
       " 966: '몰',\n",
       " 967: '아무것',\n",
       " 968: '힘든',\n",
       " 969: '어라',\n",
       " 970: '동화',\n",
       " 971: '쩔',\n",
       " 972: '로서',\n",
       " 973: '부모',\n",
       " 974: '억지로',\n",
       " 975: '아쉬움',\n",
       " 976: '진실',\n",
       " 977: '대작',\n",
       " 978: '리',\n",
       " 979: '서로',\n",
       " 980: '저질',\n",
       " 981: '던지',\n",
       " 982: '즐겁',\n",
       " 983: '빨',\n",
       " 984: '비추',\n",
       " 985: '대한민국',\n",
       " 986: '돌',\n",
       " 987: '감상',\n",
       " 988: '나와',\n",
       " 989: '노출',\n",
       " 990: '이래',\n",
       " 991: '메세지',\n",
       " 992: '우연히',\n",
       " 993: '여성',\n",
       " 994: '끝내',\n",
       " 995: '몰랐',\n",
       " 996: '그림',\n",
       " 997: '엉망',\n",
       " 998: '묘사',\n",
       " 999: 'ㅡ',\n",
       " ...}"
      ]
     },
     "execution_count": 14,
     "metadata": {},
     "output_type": "execute_result"
    }
   ],
   "source": [
    "# key= index, value= word로 변경\n",
    "index_to_word = {index:word for word, index in word_to_index.items()}\n",
    "index_to_word"
   ]
  },
  {
   "cell_type": "markdown",
   "metadata": {},
   "source": [
    "### 2-3. 텍스트를 숫자로 (encoding), 숫자를 텍스트로 (decoding)"
   ]
  },
  {
   "cell_type": "code",
   "execution_count": 15,
   "metadata": {},
   "outputs": [],
   "source": [
    "# 활용할 딕셔너리와 함께 문장 1개를 주면, 단어 인덱스 리스트 벡터로 변환해 주는 함수입니다. 단, 모든 문장은 <BOS>로 시작하는 것으로 합니다. \n",
    "def get_encoded_sentence(sentence, word_to_index):\n",
    "    return [word_to_index['<BOS>']] + [word_to_index[word] if word in word_to_index else word_to_index['<UNK>'] for word in sentence.split()]\n",
    "\n",
    "# 여러 개의 문장 리스트를 한꺼번에 단어 인덱스 리스트 벡터로 encode해 주는 함수입니다. \n",
    "def get_encoded_sentences(sentences, word_to_index):\n",
    "    return [get_encoded_sentence(sentence, word_to_index) for sentence in sentences]\n",
    "\n",
    "# 숫자 벡터로 encode된 문장을 원래대로 decode하는 함수입니다. \n",
    "def get_decoded_sentence(encoded_sentence, index_to_word):\n",
    "    return ' '.join(index_to_word[index] if index in index_to_word else '<UNK>' for index in encoded_sentence[1:])  #[1:]를 통해 <BOS>를 제외\n",
    "\n",
    "# 여러개의 숫자 벡터로 encode된 문장을 한꺼번에 원래대로 decode하는 함수입니다. \n",
    "def get_decoded_sentences(encoded_sentences, index_to_word):\n",
    "    return [get_decoded_sentence(encoded_sentence, index_to_word) for encoded_sentence in encoded_sentences]"
   ]
  },
  {
   "cell_type": "markdown",
   "metadata": {},
   "source": [
    "## 3. 모델구성을 위한 데이터 분석 및 가공\n",
    "* 데이터셋 내 문장 길이 분포\n",
    "* 적절한 최대 문장 길이 지정\n",
    "* keras.preprocessing.sequence.pad_sequences 을 활용한 패딩 추가"
   ]
  },
  {
   "cell_type": "markdown",
   "metadata": {},
   "source": [
    "### 3-1. 데이터셋 내 문장 길이 분포"
   ]
  },
  {
   "cell_type": "code",
   "execution_count": 16,
   "metadata": {},
   "outputs": [
    {
     "name": "stdout",
     "output_type": "stream",
     "text": [
      "문장길이 평균 :  14.073962589808374\n",
      "문장길이 최대 :  84\n",
      "문장길이 표준편차 :  11.57762930071467\n"
     ]
    }
   ],
   "source": [
    "total_data_text = list(x_train) + list(x_test)\n",
    "# 텍스트데이터 문장길이의 리스트를 생성한 후\n",
    "num_tokens = [len(tokens) for tokens in total_data_text]\n",
    "num_tokens = np.array(num_tokens)\n",
    "\n",
    "# 문장길이의 평균값, 최대값, 표준편차를 계산해 본다. \n",
    "print('문장길이 평균 : ', np.mean(num_tokens))\n",
    "print('문장길이 최대 : ', np.max(num_tokens))\n",
    "print('문장길이 표준편차 : ', np.std(num_tokens))"
   ]
  },
  {
   "cell_type": "markdown",
   "metadata": {},
   "source": [
    "### 3-2. 적절한 최대 문장 길이 지정"
   ]
  },
  {
   "cell_type": "code",
   "execution_count": 17,
   "metadata": {},
   "outputs": [
    {
     "name": "stderr",
     "output_type": "stream",
     "text": [
      "/home/aiffel-d34j/anaconda3/envs/aiffel/lib/python3.7/site-packages/seaborn/distributions.py:2557: FutureWarning: `distplot` is a deprecated function and will be removed in a future version. Please adapt your code to use either `displot` (a figure-level function with similar flexibility) or `histplot` (an axes-level function for histograms).\n",
      "  warnings.warn(msg, FutureWarning)\n"
     ]
    },
    {
     "data": {
      "text/plain": [
       "<AxesSubplot:ylabel='Density'>"
      ]
     },
     "execution_count": 17,
     "metadata": {},
     "output_type": "execute_result"
    },
    {
     "data": {
      "image/png": "[encoded data removed]",
      "text/plain": [
       "<Figure size 432x288 with 1 Axes>"
      ]
     },
     "metadata": {
      "needs_background": "light"
     },
     "output_type": "display_data"
    }
   ],
   "source": [
    "# 문장 길이 분포 시각화\n",
    "sns.distplot(num_tokens)"
   ]
  },
  {
   "cell_type": "code",
   "execution_count": 20,
   "metadata": {},
   "outputs": [
    {
     "name": "stdout",
     "output_type": "stream",
     "text": [
      "pad_sequences maxlen :  48\n",
      "전체 문장의 97.07986316894892%가 maxlen 설정값 이내에 포함됩니다. \n"
     ]
    }
   ],
   "source": [
    "# 최대 길이를 (평균 + 3*표준편차)로 한다면,  \n",
    "max_tokens = np.mean(num_tokens) + 3 * np.std(num_tokens)\n",
    "maxlen = int(max_tokens)\n",
    "\n",
    "print('pad_sequences maxlen : ', maxlen)\n",
    "print('전체 문장의 {}%가 maxlen 설정값 이내에 포함됩니다. '.format(np.sum(num_tokens < max_tokens) / len(num_tokens) * 100))"
   ]
  },
  {
   "cell_type": "markdown",
   "metadata": {},
   "source": [
    "### 3-3. pad_sequences 을 활용한 패딩 추가"
   ]
  },
  {
   "cell_type": "code",
   "execution_count": 21,
   "metadata": {},
   "outputs": [
    {
     "name": "stdout",
     "output_type": "stream",
     "text": [
      "shape of x_train :  (143856, 48)\n",
      "shape of x_test :  (48498, 48)\n"
     ]
    }
   ],
   "source": [
    "# 문장의 길이가 maxlen 보다 짧은 문장에 <PAD>를 앞부분에 추가\n",
    "x_train = keras.preprocessing.sequence.pad_sequences(x_train,\n",
    "                                                        value=word_to_index[\"<PAD>\"],\n",
    "                                                        padding='pre', \n",
    "                                                        maxlen=maxlen)\n",
    "\n",
    "x_test = keras.preprocessing.sequence.pad_sequences(x_test,\n",
    "                                                       value=word_to_index[\"<PAD>\"],\n",
    "                                                       padding='pre', \n",
    "                                                       maxlen=maxlen)\n",
    "\n",
    "print('shape of x_train : ', x_train.shape)\n",
    "print('shape of x_test : ', x_test.shape)"
   ]
  },
  {
   "cell_type": "markdown",
   "metadata": {},
   "source": [
    "## 4. 모델구성 및 validation set 구성\n",
    "모델은 3가지 이상 다양하게 구성하여 실험해 보세요."
   ]
  },
  {
   "cell_type": "markdown",
   "metadata": {},
   "source": [
    "### 4-1. train set, validation set 구성"
   ]
  },
  {
   "cell_type": "code",
   "execution_count": 22,
   "metadata": {},
   "outputs": [
    {
     "name": "stdout",
     "output_type": "stream",
     "text": [
      "훈련 데이터의 80% 개수 : 115084\n"
     ]
    }
   ],
   "source": [
    "# 훈련 데이터의 80% 갯수\n",
    "print('훈련 데이터의 80% 개수 :', int(x_train.shape[0]*0.8))"
   ]
  },
  {
   "cell_type": "code",
   "execution_count": 23,
   "metadata": {},
   "outputs": [
    {
     "name": "stdout",
     "output_type": "stream",
     "text": [
      "partial_x_train : (115084, 48)\n",
      "partial_y_train : (115084,)\n",
      "x_valid : (28772, 48)\n",
      "y_valid : (28772,)\n"
     ]
    }
   ],
   "source": [
    "# train data set에서 80:20의 비율로 train과 validation으로 분리, RNN에서는 순서가 중요하므로 shuffle은 진행하지 않도록 한다.\n",
    "# train set\n",
    "partial_x_train = x_train[:int(x_train.shape[0]*0.8)]\n",
    "partial_y_train = y_train[:int(y_train.shape[0]*0.8)]\n",
    "\n",
    "# validation set\n",
    "x_valid = x_train[int(x_train.shape[0]*0.8):]\n",
    "y_valid = y_train[int(x_train.shape[0]*0.8):]\n",
    "\n",
    "print('partial_x_train :', partial_x_train.shape)\n",
    "print('partial_y_train :', partial_y_train.shape)\n",
    "print('x_valid :', x_valid.shape)\n",
    "print('y_valid :', y_valid.shape)"
   ]
  },
  {
   "cell_type": "markdown",
   "metadata": {},
   "source": [
    "### 4-2-1. RNN 모델"
   ]
  },
  {
   "cell_type": "code",
   "execution_count": 24,
   "metadata": {},
   "outputs": [
    {
     "name": "stdout",
     "output_type": "stream",
     "text": [
      "Model: \"sequential\"\n",
      "_________________________________________________________________\n",
      "Layer (type)                 Output Shape              Param #   \n",
      "=================================================================\n",
      "embedding (Embedding)        (None, None, 200)         2000000   \n",
      "_________________________________________________________________\n",
      "gru (GRU)                    (None, 128)               126720    \n",
      "_________________________________________________________________\n",
      "dense (Dense)                (None, 16)                2064      \n",
      "_________________________________________________________________\n",
      "dense_1 (Dense)              (None, 1)                 17        \n",
      "=================================================================\n",
      "Total params: 2,128,801\n",
      "Trainable params: 2,128,801\n",
      "Non-trainable params: 0\n",
      "_________________________________________________________________\n"
     ]
    }
   ],
   "source": [
    "vocab_size = 10000  # 어휘 사전의 크기(10,000개의 단어)\n",
    "word_vector_dim = 200  # 단어 하나를 표현하는 임베딩 벡터의 차원 \n",
    "\n",
    "model1 = keras.Sequential()\n",
    "model1.add(keras.layers.Embedding(vocab_size, word_vector_dim, input_shape=(None,)))\n",
    "# model1.add(keras.layers.LSTM(128))                        #  RNN에서 가장 널리 사용하는 LSTM 레이어 사용\n",
    "model1.add(keras.layers.GRU(128))                            # LSTM 모델을 발전 시킨 모델\n",
    "model1.add(keras.layers.Dense(16, activation='relu'))\n",
    "model1.add(keras.layers.Dense(1, activation='sigmoid'))  # 최종 출력은 긍정/부정을 나타내는 1 dim \n",
    "\n",
    "model1.summary()"
   ]
  },
  {
   "cell_type": "markdown",
   "metadata": {},
   "source": [
    "### 4-2-2. RNN 모델 훈련"
   ]
  },
  {
   "cell_type": "code",
   "execution_count": 25,
   "metadata": {},
   "outputs": [
    {
     "name": "stdout",
     "output_type": "stream",
     "text": [
      "Epoch 1/20\n",
      "450/450 [==============================] - 11s 26ms/step - loss: 0.3953 - accuracy: 0.8191 - val_loss: 0.3404 - val_accuracy: 0.8502\n",
      "Epoch 2/20\n",
      "450/450 [==============================] - 11s 25ms/step - loss: 0.3033 - accuracy: 0.8687 - val_loss: 0.3283 - val_accuracy: 0.8558\n",
      "Epoch 3/20\n",
      "450/450 [==============================] - 11s 25ms/step - loss: 0.2612 - accuracy: 0.8890 - val_loss: 0.3387 - val_accuracy: 0.8563\n",
      "Epoch 4/20\n",
      "450/450 [==============================] - 11s 25ms/step - loss: 0.2287 - accuracy: 0.9035 - val_loss: 0.3573 - val_accuracy: 0.8523\n",
      "Epoch 5/20\n",
      "450/450 [==============================] - 11s 25ms/step - loss: 0.2001 - accuracy: 0.9176 - val_loss: 0.3886 - val_accuracy: 0.8518\n",
      "Epoch 6/20\n",
      "450/450 [==============================] - 11s 25ms/step - loss: 0.1733 - accuracy: 0.9291 - val_loss: 0.4487 - val_accuracy: 0.8499\n",
      "Epoch 7/20\n",
      "450/450 [==============================] - 11s 25ms/step - loss: 0.1473 - accuracy: 0.9405 - val_loss: 0.4703 - val_accuracy: 0.8481\n",
      "Epoch 8/20\n",
      "450/450 [==============================] - 11s 25ms/step - loss: 0.1257 - accuracy: 0.9486 - val_loss: 0.5331 - val_accuracy: 0.8403\n",
      "Epoch 9/20\n",
      "450/450 [==============================] - 11s 25ms/step - loss: 0.1070 - accuracy: 0.9568 - val_loss: 0.6240 - val_accuracy: 0.8414\n",
      "Epoch 10/20\n",
      "450/450 [==============================] - 11s 25ms/step - loss: 0.0936 - accuracy: 0.9629 - val_loss: 0.7069 - val_accuracy: 0.8437\n",
      "Epoch 11/20\n",
      "450/450 [==============================] - 11s 25ms/step - loss: 0.0799 - accuracy: 0.9682 - val_loss: 0.7414 - val_accuracy: 0.8349\n",
      "Epoch 12/20\n",
      "450/450 [==============================] - 11s 25ms/step - loss: 0.0719 - accuracy: 0.9708 - val_loss: 0.7726 - val_accuracy: 0.8355\n",
      "Epoch 13/20\n",
      "450/450 [==============================] - 11s 25ms/step - loss: 0.0608 - accuracy: 0.9757 - val_loss: 0.8720 - val_accuracy: 0.8382\n",
      "Epoch 14/20\n",
      "450/450 [==============================] - 11s 25ms/step - loss: 0.0526 - accuracy: 0.9792 - val_loss: 0.9778 - val_accuracy: 0.8340\n",
      "Epoch 15/20\n",
      "450/450 [==============================] - 11s 25ms/step - loss: 0.0495 - accuracy: 0.9804 - val_loss: 0.9682 - val_accuracy: 0.8355\n",
      "Epoch 16/20\n",
      "450/450 [==============================] - 11s 25ms/step - loss: 0.0428 - accuracy: 0.9830 - val_loss: 1.0328 - val_accuracy: 0.8368\n",
      "Epoch 17/20\n",
      "450/450 [==============================] - 11s 25ms/step - loss: 0.0374 - accuracy: 0.9851 - val_loss: 1.1440 - val_accuracy: 0.8334\n",
      "Epoch 18/20\n",
      "450/450 [==============================] - 11s 25ms/step - loss: 0.0337 - accuracy: 0.9867 - val_loss: 1.2544 - val_accuracy: 0.8254\n",
      "Epoch 19/20\n",
      "450/450 [==============================] - 11s 25ms/step - loss: 0.0327 - accuracy: 0.9870 - val_loss: 1.1966 - val_accuracy: 0.8339\n",
      "Epoch 20/20\n",
      "450/450 [==============================] - 11s 25ms/step - loss: 0.0286 - accuracy: 0.9889 - val_loss: 1.2404 - val_accuracy: 0.8357\n"
     ]
    }
   ],
   "source": [
    "# 학습 환경 설정\n",
    "model1.compile(optimizer='adam',\n",
    "              loss='binary_crossentropy',\n",
    "              metrics=['accuracy'])\n",
    "              \n",
    "epochs=20  # 몇 epoch를 훈련하면 좋을지 결과를 보면서 바꾸어 봅시다. \n",
    "\n",
    "# 모델 학습\n",
    "history = model1.fit(partial_x_train,\n",
    "                    partial_y_train,\n",
    "                    epochs=epochs,\n",
    "                    batch_size=256,\n",
    "                    validation_data=(x_valid, y_valid),\n",
    "                    verbose=1)"
   ]
  },
  {
   "cell_type": "markdown",
   "metadata": {},
   "source": [
    "### 4-2-3. Loss, Accuracy 그래프 시각화"
   ]
  },
  {
   "cell_type": "code",
   "execution_count": 61,
   "metadata": {},
   "outputs": [
    {
     "name": "stdout",
     "output_type": "stream",
     "text": [
      "dict_keys(['loss', 'accuracy', 'val_loss', 'val_accuracy'])\n"
     ]
    },
    {
     "data": {
      "image/png": "[encoded data removed]",
      "text/plain": [
       "<Figure size 432x288 with 1 Axes>"
      ]
     },
     "metadata": {
      "needs_background": "light"
     },
     "output_type": "display_data"
    },
    {
     "data": {
      "image/png": "[encoded data removed]",
      "text/plain": [
       "<Figure size 432x288 with 1 Axes>"
      ]
     },
     "metadata": {
      "needs_background": "light"
     },
     "output_type": "display_data"
    }
   ],
   "source": [
    "## Loss, Accuracy 그래프 시각화\n",
    "\n",
    "history_dict = history.history\n",
    "print(history_dict.keys()) # epoch에 따른 그래프를 그려볼 수 있는 항목들\n",
    "\n",
    "acc = history_dict['accuracy']\n",
    "val_acc = history_dict['val_accuracy']\n",
    "loss = history_dict['loss']\n",
    "val_loss = history_dict['val_loss']\n",
    "\n",
    "epochs = range(1, len(acc) + 1)\n",
    "\n",
    "# \"bo\"는 \"파란색 점\"입니다\n",
    "plt.plot(epochs, loss, 'ro', label='Training loss')\n",
    "# b는 \"파란 실선\"입니다\n",
    "plt.plot(epochs, val_loss, 'r', label='Validation loss')\n",
    "plt.title('Training and validation loss')\n",
    "plt.xlabel('Epochs')\n",
    "plt.ylabel('Loss')\n",
    "plt.legend()\n",
    "\n",
    "plt.show()\n",
    "\n",
    "plt.clf()   # 그림을 초기화합니다\n",
    "\n",
    "plt.plot(epochs, acc, 'bo', label='Training acc')\n",
    "plt.plot(epochs, val_acc, 'b', label='Validation acc')\n",
    "plt.title('Training and validation accuracy')\n",
    "plt.xlabel('Epochs')\n",
    "plt.ylabel('Accuracy')\n",
    "plt.legend()\n",
    "\n",
    "plt.show()"
   ]
  },
  {
   "cell_type": "markdown",
   "metadata": {},
   "source": [
    "loss(손실) 와 acc(정확도) 결과를 보면은 epoch가 2 이상부터 오버피팅이 발생하기 시작하므로 더이상 학습하는 것은 의미가 없다."
   ]
  },
  {
   "cell_type": "markdown",
   "metadata": {},
   "source": [
    "### 4-2-4. 테스트 평가"
   ]
  },
  {
   "cell_type": "code",
   "execution_count": 27,
   "metadata": {},
   "outputs": [
    {
     "name": "stdout",
     "output_type": "stream",
     "text": [
      "1516/1516 - 4s - loss: 1.2277 - accuracy: 0.8372\n",
      "[1.2276521921157837, 0.8372097611427307]\n"
     ]
    }
   ],
   "source": [
    "# test 결과\n",
    "results = model1.evaluate(x_test, y_test, verbose=2)\n",
    "\n",
    "print(results)"
   ]
  },
  {
   "cell_type": "markdown",
   "metadata": {},
   "source": [
    "* word_vector_dim = 100, LSTM(128), Dens(16), batch_size=512 : loss: 1.0632 - accuracy: 0.8322\n",
    "* word_vector_dim = 100, GRU(128) , Dens(16), batch_size=512 : loss: 0.9622 - accuracy: 0.8297\n",
    "* word_vector_dim = 200, GRU(128) , Dens(16), batch_size=512 : loss: 1.1726 - accuracy: 0.8313\n",
    "* word_vector_dim = 300, GRU(128) , Dens(16), batch_size=512 : loss: 1.2849 - accuracy: 0.8349\n",
    "* word_vector_dim = 200, GRU(128) , Dens(16), batch_size=256 : loss: 1.2277 - accuracy: 0.8372"
   ]
  },
  {
   "cell_type": "markdown",
   "metadata": {},
   "source": [
    "### 4-3-1. 1-D Convolution Neural Network(1-D CNN) 모델"
   ]
  },
  {
   "cell_type": "code",
   "execution_count": 29,
   "metadata": {},
   "outputs": [
    {
     "name": "stdout",
     "output_type": "stream",
     "text": [
      "Model: \"sequential_2\"\n",
      "_________________________________________________________________\n",
      "Layer (type)                 Output Shape              Param #   \n",
      "=================================================================\n",
      "embedding_2 (Embedding)      (None, None, 200)         2000000   \n",
      "_________________________________________________________________\n",
      "conv1d_2 (Conv1D)            (None, None, 32)          44832     \n",
      "_________________________________________________________________\n",
      "max_pooling1d_1 (MaxPooling1 (None, None, 32)          0         \n",
      "_________________________________________________________________\n",
      "conv1d_3 (Conv1D)            (None, None, 32)          7200      \n",
      "_________________________________________________________________\n",
      "global_max_pooling1d_1 (Glob (None, 32)                0         \n",
      "_________________________________________________________________\n",
      "dense_4 (Dense)              (None, 16)                528       \n",
      "_________________________________________________________________\n",
      "dense_5 (Dense)              (None, 1)                 17        \n",
      "=================================================================\n",
      "Total params: 2,052,577\n",
      "Trainable params: 2,052,577\n",
      "Non-trainable params: 0\n",
      "_________________________________________________________________\n"
     ]
    }
   ],
   "source": [
    "vocab_size = 10000  # 어휘 사전의 크기(10,000개의 단어)\n",
    "word_vector_dim = 200   # 단어 하나를 표현하는 임베딩 벡터의 차원 \n",
    "\n",
    "model2 = keras.Sequential()\n",
    "model2.add(keras.layers.Embedding(vocab_size, word_vector_dim, input_shape=(None,)))\n",
    "model2.add(keras.layers.Conv1D(32, 7, activation='relu'))\n",
    "model2.add(keras.layers.MaxPooling1D(5))\n",
    "model2.add(keras.layers.Conv1D(32, 7, activation='relu'))\n",
    "model2.add(keras.layers.GlobalMaxPooling1D())\n",
    "model2.add(keras.layers.Dense(16, activation='relu'))\n",
    "model2.add(keras.layers.Dense(1, activation='sigmoid'))  # 최종 출력은 긍정/부정을 나타내는 1dim 입니다.\n",
    "\n",
    "model2.summary()"
   ]
  },
  {
   "cell_type": "markdown",
   "metadata": {},
   "source": [
    "### 4-3-2. 1-D CNN 모델 훈련"
   ]
  },
  {
   "cell_type": "code",
   "execution_count": 30,
   "metadata": {},
   "outputs": [
    {
     "name": "stdout",
     "output_type": "stream",
     "text": [
      "Epoch 1/20\n",
      "450/450 [==============================] - 16s 36ms/step - loss: 0.4893 - accuracy: 0.7404 - val_loss: 0.4087 - val_accuracy: 0.8065\n",
      "Epoch 2/20\n",
      "450/450 [==============================] - 10s 21ms/step - loss: 0.3610 - accuracy: 0.8336 - val_loss: 0.3978 - val_accuracy: 0.8152\n",
      "Epoch 3/20\n",
      "450/450 [==============================] - 10s 22ms/step - loss: 0.2799 - accuracy: 0.8755 - val_loss: 0.4360 - val_accuracy: 0.8095\n",
      "Epoch 4/20\n",
      "450/450 [==============================] - 10s 21ms/step - loss: 0.1972 - accuracy: 0.9134 - val_loss: 0.5231 - val_accuracy: 0.8025\n",
      "Epoch 5/20\n",
      "450/450 [==============================] - 10s 21ms/step - loss: 0.1422 - accuracy: 0.9375 - val_loss: 0.6485 - val_accuracy: 0.7996\n",
      "Epoch 6/20\n",
      "450/450 [==============================] - 10s 21ms/step - loss: 0.1124 - accuracy: 0.9497 - val_loss: 0.7617 - val_accuracy: 0.7882\n",
      "Epoch 7/20\n",
      "450/450 [==============================] - 10s 21ms/step - loss: 0.0943 - accuracy: 0.9565 - val_loss: 0.8788 - val_accuracy: 0.7906\n",
      "Epoch 8/20\n",
      "450/450 [==============================] - 10s 22ms/step - loss: 0.0887 - accuracy: 0.9581 - val_loss: 0.9639 - val_accuracy: 0.7841\n",
      "Epoch 9/20\n",
      "450/450 [==============================] - 10s 22ms/step - loss: 0.0814 - accuracy: 0.9608 - val_loss: 1.0276 - val_accuracy: 0.7890\n",
      "Epoch 10/20\n",
      "450/450 [==============================] - 10s 23ms/step - loss: 0.0754 - accuracy: 0.9629 - val_loss: 1.1247 - val_accuracy: 0.7828\n",
      "Epoch 11/20\n",
      "450/450 [==============================] - 10s 23ms/step - loss: 0.0723 - accuracy: 0.9643 - val_loss: 1.1816 - val_accuracy: 0.7888\n",
      "Epoch 12/20\n",
      "450/450 [==============================] - 10s 23ms/step - loss: 0.0718 - accuracy: 0.9642 - val_loss: 1.2044 - val_accuracy: 0.7920\n",
      "Epoch 13/20\n",
      "450/450 [==============================] - 10s 23ms/step - loss: 0.0688 - accuracy: 0.9656 - val_loss: 1.2635 - val_accuracy: 0.7918\n",
      "Epoch 14/20\n",
      "450/450 [==============================] - 10s 22ms/step - loss: 0.0638 - accuracy: 0.9674 - val_loss: 1.3198 - val_accuracy: 0.7863\n",
      "Epoch 15/20\n",
      "450/450 [==============================] - 10s 23ms/step - loss: 0.0615 - accuracy: 0.9679 - val_loss: 1.4167 - val_accuracy: 0.7870\n",
      "Epoch 16/20\n",
      "450/450 [==============================] - 10s 23ms/step - loss: 0.0619 - accuracy: 0.9678 - val_loss: 1.4035 - val_accuracy: 0.7878\n",
      "Epoch 17/20\n",
      "450/450 [==============================] - 10s 23ms/step - loss: 0.0624 - accuracy: 0.9679 - val_loss: 1.3935 - val_accuracy: 0.7851\n",
      "Epoch 18/20\n",
      "450/450 [==============================] - 10s 23ms/step - loss: 0.0587 - accuracy: 0.9689 - val_loss: 1.4567 - val_accuracy: 0.7874\n",
      "Epoch 19/20\n",
      "450/450 [==============================] - 11s 24ms/step - loss: 0.0563 - accuracy: 0.9698 - val_loss: 1.5617 - val_accuracy: 0.7821\n",
      "Epoch 20/20\n",
      "450/450 [==============================] - 10s 23ms/step - loss: 0.0589 - accuracy: 0.9690 - val_loss: 1.5466 - val_accuracy: 0.7884\n"
     ]
    }
   ],
   "source": [
    "# 학습 환경 설정\n",
    "model2.compile(optimizer='adam',\n",
    "              loss='binary_crossentropy',\n",
    "              metrics=['accuracy'])\n",
    "              \n",
    "epochs=20  # 몇 epoch를 훈련하면 좋을지 결과를 보면서 바꾸어 봅시다. \n",
    "\n",
    "# 모델 학습\n",
    "history = model2.fit(partial_x_train,\n",
    "                    partial_y_train,\n",
    "                    epochs=epochs,\n",
    "                    batch_size=256,\n",
    "                    validation_data=(x_valid, y_valid),\n",
    "                    verbose=1)"
   ]
  },
  {
   "cell_type": "markdown",
   "metadata": {},
   "source": [
    "### 4-3-3. Loss, Accuracy 그래프 시각화"
   ]
  },
  {
   "cell_type": "code",
   "execution_count": 62,
   "metadata": {},
   "outputs": [
    {
     "name": "stdout",
     "output_type": "stream",
     "text": [
      "dict_keys(['loss', 'accuracy', 'val_loss', 'val_accuracy'])\n"
     ]
    },
    {
     "data": {
      "image/png": "[encoded data removed]",
      "text/plain": [
       "<Figure size 432x288 with 1 Axes>"
      ]
     },
     "metadata": {
      "needs_background": "light"
     },
     "output_type": "display_data"
    },
    {
     "data": {
      "image/png": "[encoded data removed]",
      "text/plain": [
       "<Figure size 432x288 with 1 Axes>"
      ]
     },
     "metadata": {
      "needs_background": "light"
     },
     "output_type": "display_data"
    }
   ],
   "source": [
    "## Loss, Accuracy 그래프 시각화\n",
    "\n",
    "history_dict = history.history\n",
    "print(history_dict.keys()) # epoch에 따른 그래프를 그려볼 수 있는 항목들\n",
    "\n",
    "acc = history_dict['accuracy']\n",
    "val_acc = history_dict['val_accuracy']\n",
    "loss = history_dict['loss']\n",
    "val_loss = history_dict['val_loss']\n",
    "\n",
    "epochs = range(1, len(acc) + 1)\n",
    "\n",
    "# \"bo\"는 \"파란색 점\"입니다\n",
    "plt.plot(epochs, loss, 'ro', label='Training loss')\n",
    "# b는 \"파란 실선\"입니다\n",
    "plt.plot(epochs, val_loss, 'r', label='Validation loss')\n",
    "plt.title('Training and validation loss')\n",
    "plt.xlabel('Epochs')\n",
    "plt.ylabel('Loss')\n",
    "plt.legend()\n",
    "\n",
    "plt.show()\n",
    "\n",
    "plt.clf()   # 그림을 초기화합니다\n",
    "\n",
    "plt.plot(epochs, acc, 'bo', label='Training acc')\n",
    "plt.plot(epochs, val_acc, 'b', label='Validation acc')\n",
    "plt.title('Training and validation accuracy')\n",
    "plt.xlabel('Epochs')\n",
    "plt.ylabel('Accuracy')\n",
    "plt.legend()\n",
    "\n",
    "plt.show()"
   ]
  },
  {
   "cell_type": "markdown",
   "metadata": {},
   "source": [
    "LSTM과 GRU 모델에서와 같이 epoch 2번부터 오버피팅이 발생하고 있음"
   ]
  },
  {
   "cell_type": "markdown",
   "metadata": {},
   "source": [
    "### 4-3-4. 테스트 평가"
   ]
  },
  {
   "cell_type": "code",
   "execution_count": 32,
   "metadata": {},
   "outputs": [
    {
     "name": "stdout",
     "output_type": "stream",
     "text": [
      "1516/1516 - 5s - loss: 1.5836 - accuracy: 0.7834\n",
      "[1.583632469177246, 0.7834343910217285]\n"
     ]
    }
   ],
   "source": [
    "# test 결과\n",
    "results = model2.evaluate(x_test, y_test, verbose=2)\n",
    "\n",
    "print(results)"
   ]
  },
  {
   "cell_type": "markdown",
   "metadata": {},
   "source": [
    "* word_vector_dim = 100, Conv1D(16, 7), Dense(8),  batch_size=512 : loss: 1.4916 - accuracy: 0.7722\n",
    "* word_vector_dim = 200, Conv1D(16, 7), Dense(8),  batch_size=512 : loss: 1.5501 - accuracy: 0.7721\n",
    "* word_vector_dim = 300, Conv1D(16, 7), Dense(8),  batch_size=512 : loss: 1.5164 - accuracy: 0.7737\n",
    "* word_vector_dim = 200, Conv1D(32, 7), Dense(16), batch_size=256 : loss: 1.5836 - accuracy: 0.7834"
   ]
  },
  {
   "cell_type": "markdown",
   "metadata": {},
   "source": [
    "### 4-4-1. GlobalMaxPooling1D() 레이어 1개 모델"
   ]
  },
  {
   "cell_type": "code",
   "execution_count": 43,
   "metadata": {},
   "outputs": [
    {
     "name": "stdout",
     "output_type": "stream",
     "text": [
      "Model: \"sequential_6\"\n",
      "_________________________________________________________________\n",
      "Layer (type)                 Output Shape              Param #   \n",
      "=================================================================\n",
      "embedding_6 (Embedding)      (None, None, 200)         2000000   \n",
      "_________________________________________________________________\n",
      "global_max_pooling1d_5 (Glob (None, 200)               0         \n",
      "_________________________________________________________________\n",
      "dense_12 (Dense)             (None, 16)                3216      \n",
      "_________________________________________________________________\n",
      "dense_13 (Dense)             (None, 1)                 17        \n",
      "=================================================================\n",
      "Total params: 2,003,233\n",
      "Trainable params: 2,003,233\n",
      "Non-trainable params: 0\n",
      "_________________________________________________________________\n"
     ]
    }
   ],
   "source": [
    "vocab_size = 10000  \n",
    "word_vector_dim = 200   \n",
    "\n",
    "model3 = keras.Sequential()\n",
    "model3.add(keras.layers.Embedding(vocab_size, word_vector_dim, input_shape=(None,)))\n",
    "model3.add(keras.layers.GlobalMaxPooling1D())\n",
    "model3.add(keras.layers.Dense(16, activation='relu'))\n",
    "model3.add(keras.layers.Dense(1, activation='sigmoid'))  # 최종 출력은 긍정/부정을 나타내는 1dim 입니다.\n",
    "\n",
    "model3.summary()"
   ]
  },
  {
   "cell_type": "markdown",
   "metadata": {},
   "source": [
    "### 4-4-2. GlobalMaxPooling1D()  모델 훈련"
   ]
  },
  {
   "cell_type": "code",
   "execution_count": 44,
   "metadata": {
    "scrolled": true
   },
   "outputs": [
    {
     "name": "stdout",
     "output_type": "stream",
     "text": [
      "Epoch 1/20\n",
      "450/450 [==============================] - 10s 22ms/step - loss: 0.4263 - accuracy: 0.8117 - val_loss: 0.3537 - val_accuracy: 0.8446\n",
      "Epoch 2/20\n",
      "450/450 [==============================] - 10s 21ms/step - loss: 0.3028 - accuracy: 0.8726 - val_loss: 0.3474 - val_accuracy: 0.8486\n",
      "Epoch 3/20\n",
      "450/450 [==============================] - 10s 21ms/step - loss: 0.2513 - accuracy: 0.8994 - val_loss: 0.3605 - val_accuracy: 0.8477\n",
      "Epoch 4/20\n",
      "450/450 [==============================] - 10s 21ms/step - loss: 0.2015 - accuracy: 0.9231 - val_loss: 0.3884 - val_accuracy: 0.8458\n",
      "Epoch 5/20\n",
      "450/450 [==============================] - 10s 21ms/step - loss: 0.1512 - accuracy: 0.9465 - val_loss: 0.4363 - val_accuracy: 0.8419\n",
      "Epoch 6/20\n",
      "450/450 [==============================] - 10s 21ms/step - loss: 0.1057 - accuracy: 0.9658 - val_loss: 0.4839 - val_accuracy: 0.8388\n",
      "Epoch 7/20\n",
      "450/450 [==============================] - 10s 21ms/step - loss: 0.0697 - accuracy: 0.9794 - val_loss: 0.5420 - val_accuracy: 0.8374\n",
      "Epoch 8/20\n",
      "450/450 [==============================] - 10s 21ms/step - loss: 0.0464 - accuracy: 0.9873 - val_loss: 0.6084 - val_accuracy: 0.8334\n",
      "Epoch 9/20\n",
      "450/450 [==============================] - 10s 21ms/step - loss: 0.0326 - accuracy: 0.9917 - val_loss: 0.6538 - val_accuracy: 0.8365\n",
      "Epoch 10/20\n",
      "450/450 [==============================] - 10s 21ms/step - loss: 0.0245 - accuracy: 0.9930 - val_loss: 0.7087 - val_accuracy: 0.8301\n",
      "Epoch 11/20\n",
      "450/450 [==============================] - 10s 21ms/step - loss: 0.0192 - accuracy: 0.9944 - val_loss: 0.7446 - val_accuracy: 0.8327\n",
      "Epoch 12/20\n",
      "450/450 [==============================] - 10s 22ms/step - loss: 0.0162 - accuracy: 0.9950 - val_loss: 0.7847 - val_accuracy: 0.8328\n",
      "Epoch 13/20\n",
      "450/450 [==============================] - 10s 22ms/step - loss: 0.0138 - accuracy: 0.9952 - val_loss: 0.8264 - val_accuracy: 0.8319\n",
      "Epoch 14/20\n",
      "450/450 [==============================] - 10s 22ms/step - loss: 0.0130 - accuracy: 0.9954 - val_loss: 0.8789 - val_accuracy: 0.8284\n",
      "Epoch 15/20\n",
      "450/450 [==============================] - 10s 22ms/step - loss: 0.0127 - accuracy: 0.9954 - val_loss: 0.9062 - val_accuracy: 0.8288\n",
      "Epoch 16/20\n",
      "450/450 [==============================] - 10s 22ms/step - loss: 0.0122 - accuracy: 0.9951 - val_loss: 0.9661 - val_accuracy: 0.8278\n",
      "Epoch 17/20\n",
      "450/450 [==============================] - 10s 22ms/step - loss: 0.0127 - accuracy: 0.9951 - val_loss: 0.9990 - val_accuracy: 0.8271\n",
      "Epoch 18/20\n",
      "450/450 [==============================] - 10s 22ms/step - loss: 0.0124 - accuracy: 0.9949 - val_loss: 1.0148 - val_accuracy: 0.8321\n",
      "Epoch 19/20\n",
      "450/450 [==============================] - 10s 22ms/step - loss: 0.0105 - accuracy: 0.9956 - val_loss: 1.0519 - val_accuracy: 0.8286\n",
      "Epoch 20/20\n",
      "450/450 [==============================] - 10s 22ms/step - loss: 0.0099 - accuracy: 0.9957 - val_loss: 1.0743 - val_accuracy: 0.8309\n"
     ]
    }
   ],
   "source": [
    "# 학습 환경 설정\n",
    "model3.compile(optimizer='adam',\n",
    "              loss='binary_crossentropy',\n",
    "              metrics=['accuracy'])\n",
    "              \n",
    "epochs=20  # 몇 epoch를 훈련하면 좋을지 결과를 보면서 바꾸어 봅시다. \n",
    "\n",
    "# 모델 학습\n",
    "history = model3.fit(partial_x_train,\n",
    "                    partial_y_train,\n",
    "                    epochs=epochs,\n",
    "                    batch_size=256,\n",
    "                    validation_data=(x_valid, y_valid),\n",
    "                    verbose=1)"
   ]
  },
  {
   "cell_type": "markdown",
   "metadata": {},
   "source": [
    "### 4-4-3. Loss, Accuracy 그래프 시각화"
   ]
  },
  {
   "cell_type": "code",
   "execution_count": 63,
   "metadata": {},
   "outputs": [
    {
     "name": "stdout",
     "output_type": "stream",
     "text": [
      "dict_keys(['loss', 'accuracy', 'val_loss', 'val_accuracy'])\n"
     ]
    },
    {
     "data": {
      "image/png": "[encoded data removed]",
      "text/plain": [
       "<Figure size 432x288 with 1 Axes>"
      ]
     },
     "metadata": {
      "needs_background": "light"
     },
     "output_type": "display_data"
    },
    {
     "data": {
      "image/png": "[encoded data removed]",
      "text/plain": [
       "<Figure size 432x288 with 1 Axes>"
      ]
     },
     "metadata": {
      "needs_background": "light"
     },
     "output_type": "display_data"
    }
   ],
   "source": [
    "## Loss, Accuracy 그래프 시각화\n",
    "\n",
    "history_dict = history.history\n",
    "print(history_dict.keys()) # epoch에 따른 그래프를 그려볼 수 있는 항목들\n",
    "\n",
    "acc = history_dict['accuracy']\n",
    "val_acc = history_dict['val_accuracy']\n",
    "loss = history_dict['loss']\n",
    "val_loss = history_dict['val_loss']\n",
    "\n",
    "epochs = range(1, len(acc) + 1)\n",
    "\n",
    "# \"bo\"는 \"파란색 점\"입니다\n",
    "plt.plot(epochs, loss, 'ro', label='Training loss')\n",
    "# b는 \"파란 실선\"입니다\n",
    "plt.plot(epochs, val_loss, 'r', label='Validation loss')\n",
    "plt.title('Training and validation loss')\n",
    "plt.xlabel('Epochs')\n",
    "plt.ylabel('Loss')\n",
    "plt.legend()\n",
    "\n",
    "plt.show()\n",
    "\n",
    "plt.clf()   # 그림을 초기화합니다\n",
    "\n",
    "plt.plot(epochs, acc, 'bo', label='Training acc')\n",
    "plt.plot(epochs, val_acc, 'b', label='Validation acc')\n",
    "plt.title('Training and validation accuracy')\n",
    "plt.xlabel('Epochs')\n",
    "plt.ylabel('Accuracy')\n",
    "plt.legend()\n",
    "\n",
    "plt.show()"
   ]
  },
  {
   "cell_type": "markdown",
   "metadata": {},
   "source": [
    "### 4-4-4. 테스트 평가"
   ]
  },
  {
   "cell_type": "code",
   "execution_count": 46,
   "metadata": {},
   "outputs": [
    {
     "name": "stdout",
     "output_type": "stream",
     "text": [
      "1516/1516 - 3s - loss: 1.0998 - accuracy: 0.8275\n",
      "[1.0998204946517944, 0.8275392651557922]\n"
     ]
    }
   ],
   "source": [
    "# test 결과\n",
    "results = model3.evaluate(x_test, y_test, verbose=2)\n",
    "\n",
    "print(results)"
   ]
  },
  {
   "cell_type": "markdown",
   "metadata": {},
   "source": [
    "* word_vector_dim = 200, Dense(8), batch_size=256 : loss: 1.1196 - accuracy: 0.8276\n",
    "* word_vector_dim = 200, Dense(16), batch_size=256 : loss: 1.0998 - accuracy: 0.8275"
   ]
  },
  {
   "cell_type": "markdown",
   "metadata": {},
   "source": [
    "## 5. 학습된 Embedding 레이어 분석"
   ]
  },
  {
   "cell_type": "code",
   "execution_count": 47,
   "metadata": {},
   "outputs": [
    {
     "name": "stdout",
     "output_type": "stream",
     "text": [
      "(10000, 200)\n"
     ]
    }
   ],
   "source": [
    "# 단어의 특성을 저차원 벡터값으로 표현할 수 있는 워드 임베딩(word embedding) 기법\n",
    "embedding_layer = model1.layers[0]            # GRU로 학습된 모델을 대상으로 분석 \n",
    "weights = embedding_layer.get_weights()[0]\n",
    "print(weights.shape)    # shape: (vocab_size, embedding_dim)"
   ]
  },
  {
   "cell_type": "code",
   "execution_count": 48,
   "metadata": {},
   "outputs": [],
   "source": [
    "import os\n",
    "from gensim import models     # gensim : 워드벡터를 다루는데 유용한 패키지\n",
    "\n",
    "# 학습한 Embedding 파라미터를 파일에 써서 저장합니다. \n",
    "word2vec_file_path = os.getenv('HOME') + '/aiffel/sentiment_classification/word2vec.txt'\n",
    "f = open(word2vec_file_path, 'w')\n",
    "f.write('{} {}\\n'.format(vocab_size-4, word_vector_dim))  # 몇개의 벡터를 얼마 사이즈로 기재할지 타이틀을 씁니다.\n",
    "\n",
    "# 단어 개수(에서 특수문자 4개는 제외하고)만큼의 워드 벡터를 파일에 기록합니다. \n",
    "vectors = model2.get_weights()[0]\n",
    "for i in range(4, vocab_size):\n",
    "    f.write('{} {}\\n'.format(index_to_word[i], ' '.join(map(str, list(vectors[i, :])))))\n",
    "f.close()"
   ]
  },
  {
   "cell_type": "code",
   "execution_count": 49,
   "metadata": {},
   "outputs": [
    {
     "data": {
      "text/plain": [
       "array([-0.04222832,  0.05839111,  0.09911709,  0.13055895,  0.05419939,\n",
       "       -0.02035344,  0.01603364, -0.05136918, -0.04009177, -0.02289006,\n",
       "        0.05546657,  0.05779105,  0.00189258, -0.01342921,  0.13303842,\n",
       "       -0.10595209, -0.03531474,  0.0434958 , -0.00198745,  0.09283933,\n",
       "        0.09722683, -0.01845192, -0.02850755, -0.00578251, -0.05971498,\n",
       "        0.03904629,  0.0227986 , -0.03539727, -0.01062873,  0.04052308,\n",
       "        0.01632775, -0.04950036,  0.08039618, -0.1301499 ,  0.03889689,\n",
       "        0.04287125,  0.00484427, -0.04084227,  0.04315097,  0.05780235,\n",
       "       -0.01452969, -0.0310252 , -0.05018293,  0.07514977,  0.03114902,\n",
       "       -0.01252031,  0.12122479,  0.00717143,  0.03072895,  0.09582824,\n",
       "       -0.04111454,  0.06300958,  0.00684642, -0.07414051, -0.03386486,\n",
       "       -0.04998108, -0.0928189 ,  0.10882894, -0.03445479,  0.01254189,\n",
       "        0.00430191,  0.01195537, -0.06965084, -0.02593053, -0.00049091,\n",
       "        0.0651088 ,  0.03742065, -0.03188306,  0.04513616,  0.00674349,\n",
       "       -0.08847681,  0.02095295, -0.02395865, -0.09504154,  0.11290711,\n",
       "       -0.00046371,  0.09455748,  0.06431092,  0.01717292, -0.01328353,\n",
       "       -0.0733805 , -0.02139596, -0.02314366, -0.00381107,  0.02708636,\n",
       "       -0.02503286, -0.13342234, -0.02278595,  0.01352121, -0.0464587 ,\n",
       "        0.13932464,  0.08447221,  0.06342623,  0.01351623,  0.07696478,\n",
       "        0.00611856,  0.05597664, -0.02320117, -0.02270962, -0.02651669,\n",
       "       -0.12400053, -0.00815767,  0.04350652,  0.00284054,  0.03297365,\n",
       "        0.06798864, -0.01447761, -0.11887786, -0.02559217, -0.03133744,\n",
       "        0.03203786, -0.11564191,  0.02302307, -0.03635368,  0.00637365,\n",
       "       -0.00619341, -0.10439275, -0.01364426,  0.06272075, -0.03037128,\n",
       "        0.02769958, -0.03394188, -0.00570564,  0.06701886,  0.04699859,\n",
       "        0.03325989,  0.10033782,  0.02930002,  0.01285689, -0.02437676,\n",
       "        0.05329715,  0.07740413, -0.1456122 , -0.01421645,  0.01902418,\n",
       "        0.04157705, -0.02908138, -0.03452135,  0.06487491,  0.02856456,\n",
       "        0.10569966, -0.02431223, -0.07530498, -0.01128668,  0.06811657,\n",
       "       -0.00505505, -0.03535644, -0.01371314,  0.0479039 , -0.02848154,\n",
       "        0.04178618, -0.12556979,  0.05243445, -0.02423934,  0.10019176,\n",
       "       -0.09309815, -0.00728468,  0.03776978,  0.04426542,  0.01264919,\n",
       "        0.03094613, -0.09823538, -0.08071607, -0.00587557, -0.06199912,\n",
       "        0.1332372 ,  0.03436181,  0.02988676, -0.0529149 ,  0.0275009 ,\n",
       "       -0.05684345,  0.0236099 , -0.02370623, -0.03849795,  0.00534321,\n",
       "        0.00187292,  0.09309372,  0.06146302,  0.02073175, -0.03300539,\n",
       "        0.05095361, -0.01750431,  0.03810668,  0.01837397, -0.00802882,\n",
       "       -0.07363796,  0.06635877, -0.01001727, -0.00132333,  0.01030036,\n",
       "        0.05327281,  0.07717447,  0.0657469 ,  0.11042815,  0.09514624,\n",
       "        0.02314235, -0.04662952, -0.04914581, -0.10802213,  0.0213492 ],\n",
       "      dtype=float32)"
      ]
     },
     "execution_count": 49,
     "metadata": {},
     "output_type": "execute_result"
    }
   ],
   "source": [
    "# 임베딩 파라미터를 읽어서 word vector로 활용\n",
    "from gensim.models.keyedvectors import Word2VecKeyedVectors\n",
    "\n",
    "word_vectors = Word2VecKeyedVectors.load_word2vec_format(word2vec_file_path, binary=False)\n",
    "vector = word_vectors['영화']\n",
    "vector"
   ]
  },
  {
   "cell_type": "code",
   "execution_count": 50,
   "metadata": {},
   "outputs": [
    {
     "data": {
      "text/plain": [
       "[('본', 0.4769545793533325),\n",
       " ('에다', 0.3733629584312439),\n",
       " ('대학교', 0.3419213593006134),\n",
       " ('소린지', 0.3388711214065552),\n",
       " ('판타지', 0.33037981390953064),\n",
       " ('조지', 0.32483670115470886),\n",
       " ('간결', 0.3245050311088562),\n",
       " ('화장실', 0.32444697618484497),\n",
       " ('송', 0.32197919487953186),\n",
       " ('선택', 0.31357651948928833)]"
      ]
     },
     "execution_count": 50,
     "metadata": {},
     "output_type": "execute_result"
    }
   ],
   "source": [
    "# 단어를 하나 주고 가장 유사한 단어와 유사도 확인\n",
    "word_vectors.similar_by_word(\"영화\")"
   ]
  },
  {
   "cell_type": "markdown",
   "metadata": {},
   "source": [
    "## 6. 한국어 Word2Vec 임베딩 활용하여 성능개선\n",
    "한국어 Word2Vec은 다음 경로에서 구할 수 있습니다.\n",
    "https://github.com/Kyubyong/wordvectors"
   ]
  },
  {
   "cell_type": "markdown",
   "metadata": {},
   "source": [
    "* **Work Flow**\n",
    " - STEP 1. Download the wikipedia database backup dumps of the language you want.\n",
    " - STEP 2. Extract running texts to data/ folder.\n",
    " - STEP 3. Run build_corpus.py.\n",
    " - STEP 4-1. Run make_wordvector.sh to get Word2Vec word vectors.\n",
    " - STEP 4-2. Run fasttext.sh to get fastText word vectors.\n",
    "  \n",
    "  \n",
    "* **Pre-trained models**\n",
    " - Two types of pre-trained models are provided. w and f represent word2vec and fastText respectively.   \n",
    " \n"
   ]
  },
  {
   "cell_type": "markdown",
   "metadata": {},
   "source": [
    "### 6-1. 사전에 학습된 Word2Vec 등의 임베딩 모델(ko.bin)을 활용하는 전이학습(Transfer Learning)"
   ]
  },
  {
   "cell_type": "code",
   "execution_count": 54,
   "metadata": {},
   "outputs": [
    {
     "name": "stderr",
     "output_type": "stream",
     "text": [
      "/home/aiffel-d34j/anaconda3/envs/aiffel/lib/python3.7/site-packages/ipykernel_launcher.py:7: DeprecationWarning: Call to deprecated `__getitem__` (Method will be removed in 4.0.0, use self.wv.__getitem__() instead).\n",
      "  import sys\n"
     ]
    },
    {
     "data": {
      "text/plain": [
       "array([-9.68741775e-01, -9.61669087e-01, -2.71587777e+00,  9.23030257e-01,\n",
       "        2.24804640e+00, -7.38568187e-01, -1.48095202e+00, -5.29473841e-01,\n",
       "       -3.99840146e-01, -1.68228757e+00, -2.58002687e+00, -8.86436224e-01,\n",
       "       -5.41369200e-01, -8.54537010e-01, -1.20542340e-01,  1.10059226e+00,\n",
       "        8.02506864e-01, -2.38114640e-01, -1.53084242e+00, -1.60970473e+00,\n",
       "        2.04467595e-01, -9.51955736e-01,  1.54966021e+00,  2.24572945e+00,\n",
       "        5.24186671e-01,  1.33634853e+00,  1.27398670e+00, -2.02316102e-02,\n",
       "       -8.15367699e-01,  1.53302777e+00, -3.08421224e-01,  7.26899385e-01,\n",
       "       -1.79724514e-01, -5.39345205e-01,  2.62729138e-01, -1.65896833e-01,\n",
       "        8.65901649e-01,  1.59680736e+00, -4.30952609e-01, -3.33374202e-01,\n",
       "        1.03573024e+00, -1.30971968e+00,  5.21676838e-01, -3.94660681e-01,\n",
       "        6.18267655e-01,  3.79189104e-01, -2.11034745e-01,  1.96978122e-01,\n",
       "        1.69431794e+00,  1.21724121e-01,  1.48244113e-01,  6.45895123e-01,\n",
       "        1.13039345e-01, -8.62959146e-01, -6.86894238e-01, -1.28906691e+00,\n",
       "        1.96466935e+00,  1.47912049e+00,  8.46058279e-02, -1.26603353e+00,\n",
       "        1.04052395e-01,  4.37242121e-01,  8.82893980e-01,  8.08963835e-01,\n",
       "       -1.49886236e-01, -1.04506664e-01,  4.33174446e-02,  5.01069725e-01,\n",
       "        8.49785864e-01, -8.77863109e-01, -5.98253250e-01, -1.52906060e+00,\n",
       "       -5.51063061e-01,  1.38797224e-01,  8.38816583e-01, -2.25847340e+00,\n",
       "       -8.16143930e-01,  1.49914950e-01,  4.34339732e-01, -1.08305156e-01,\n",
       "       -1.39763796e+00,  1.02998197e+00,  6.40499145e-02, -1.22957385e+00,\n",
       "       -1.00858510e+00,  2.39086366e+00,  9.60450709e-01,  2.12397194e+00,\n",
       "       -2.02139425e+00,  9.82675850e-01,  2.18085480e+00, -9.80684221e-01,\n",
       "        8.94711614e-01,  1.64588079e-01,  8.15762281e-01, -9.03486371e-01,\n",
       "       -3.73314996e-03,  5.21088123e-01, -5.42378426e-01,  7.74052203e-01,\n",
       "       -6.42125428e-01, -6.79737985e-01,  1.45906508e+00,  1.97224855e-01,\n",
       "        3.08878541e-01, -1.41150236e+00, -1.62722504e+00, -3.77853238e-03,\n",
       "       -1.89241159e+00, -2.45293692e-01,  3.51297945e-01,  2.81025306e-03,\n",
       "        1.01325834e+00, -4.41955328e-01, -1.26829720e+00,  1.79289198e+00,\n",
       "       -3.06949466e-01,  6.50614500e-01,  3.45416009e-01,  9.41289425e-01,\n",
       "       -4.67636824e-01, -1.35640728e+00, -2.32996240e-01,  1.71841115e-01,\n",
       "       -5.25458977e-02,  1.69670045e-01,  6.06286466e-01,  3.73990089e-01,\n",
       "       -1.28999078e+00, -3.56127709e-01, -1.38540697e+00, -1.32978833e+00,\n",
       "       -2.60780510e-02, -1.26050889e+00, -3.36223674e+00, -5.82980633e-01,\n",
       "        1.17217195e+00,  1.64833438e+00,  1.25589564e-01,  6.21399045e-01,\n",
       "       -8.12081337e-01, -5.15373230e-01,  7.27756679e-01, -1.92084563e+00,\n",
       "       -6.60164177e-01, -6.51079863e-02, -2.45545626e-01, -4.65851635e-01,\n",
       "       -1.31204069e+00,  1.60870135e+00, -1.65479457e+00, -1.52943945e+00,\n",
       "        1.31499374e+00,  1.02271092e+00, -2.07164630e-01, -1.12213504e+00,\n",
       "       -1.21892802e-01,  1.82104862e+00, -5.06743133e-01,  5.08129776e-01,\n",
       "       -3.69299710e-01,  1.47269642e+00,  8.05315897e-02, -6.62636459e-01,\n",
       "       -1.00439370e+00,  1.08968027e-01, -6.10108599e-02,  4.55250800e-01,\n",
       "        1.53398542e-02,  1.16042805e+00, -5.12396514e-01,  2.66715229e-01,\n",
       "       -8.39099169e-01, -3.55717868e-01,  1.35271168e+00,  1.07853878e+00,\n",
       "       -5.39363682e-01,  7.28266954e-01,  4.10650492e-01, -1.32097530e+00,\n",
       "       -1.35905012e-01,  1.91096199e+00, -3.87580693e-01,  1.37839019e+00,\n",
       "        1.39907610e+00, -3.45867611e-02,  3.09530973e-01,  9.18536782e-01,\n",
       "        2.83286870e-01,  6.65948033e-01, -1.92384267e+00, -1.38390109e-01,\n",
       "        1.02748549e+00,  3.57348502e-01, -1.16798985e+00,  2.17720568e-01,\n",
       "       -9.00273100e-02,  1.37078333e+00, -8.48452389e-01, -4.98016514e-02],\n",
       "      dtype=float32)"
      ]
     },
     "execution_count": 54,
     "metadata": {},
     "output_type": "execute_result"
    }
   ],
   "source": [
    "# 한국어 Word2Vec 임베딩 활용한 성능 개선\n",
    "from gensim.models import Word2Vec\n",
    "\n",
    "word2vec_path = os.getenv('HOME') + '/aiffel/sentiment_classification/ko.bin'\n",
    "word2vec = Word2Vec.load(word2vec_path)\n",
    "\n",
    "vector = word2vec['전술']\n",
    "vector     "
   ]
  },
  {
   "cell_type": "code",
   "execution_count": 53,
   "metadata": {},
   "outputs": [
    {
     "data": {
      "text/plain": [
       "[('거려', 0.8191651105880737),\n",
       " ('학예회', 0.8144643902778625),\n",
       " ('222', 0.808656632900238),\n",
       " ('잠든', 0.8051334023475647),\n",
       " ('난국', 0.8034687042236328),\n",
       " ('화딱지', 0.8033844828605652),\n",
       " ('미확인', 0.8024165630340576),\n",
       " ('엉망진창', 0.7976574897766113),\n",
       " ('천박', 0.7915359735488892),\n",
       " ('먹칠', 0.7882527112960815)]"
      ]
     },
     "execution_count": 53,
     "metadata": {},
     "output_type": "execute_result"
    }
   ],
   "source": [
    "# 단어를 하나 주고 가장 유사한 단어와 유사도 확인\n",
    "word_vectors.similar_by_word(\"전략\")"
   ]
  },
  {
   "cell_type": "markdown",
   "metadata": {},
   "source": [
    "### 6-2. 임베딩 메트릭스"
   ]
  },
  {
   "cell_type": "code",
   "execution_count": 55,
   "metadata": {},
   "outputs": [
    {
     "name": "stderr",
     "output_type": "stream",
     "text": [
      "/home/aiffel-d34j/anaconda3/envs/aiffel/lib/python3.7/site-packages/ipykernel_launcher.py:8: DeprecationWarning: Call to deprecated `__contains__` (Method will be removed in 4.0.0, use self.wv.__contains__() instead).\n",
      "  \n",
      "/home/aiffel-d34j/anaconda3/envs/aiffel/lib/python3.7/site-packages/ipykernel_launcher.py:9: DeprecationWarning: Call to deprecated `__getitem__` (Method will be removed in 4.0.0, use self.wv.__getitem__() instead).\n",
      "  if __name__ == '__main__':\n"
     ]
    }
   ],
   "source": [
    "vocab_size = 10000    # 어휘 사전의 크기입니다(10,000개의 단어)\n",
    "word_vector_dim = 200  # 워드 벡터의 차원수 (변경가능한 하이퍼파라미터)\n",
    "\n",
    "embedding_matrix = np.random.rand(vocab_size, word_vector_dim)\n",
    "\n",
    "# embedding_matrix에 Word2Vec 워드벡터를 단어 하나씩마다 차례차례 카피한다.\n",
    "for i in range(4, vocab_size):\n",
    "    if index_to_word[i] in word2vec:\n",
    "        embedding_matrix[i] = word2vec[index_to_word[i]]"
   ]
  },
  {
   "cell_type": "markdown",
   "metadata": {},
   "source": [
    "### 6-3. 학습된 Word2Vec 모델 사용"
   ]
  },
  {
   "cell_type": "code",
   "execution_count": 56,
   "metadata": {},
   "outputs": [
    {
     "name": "stdout",
     "output_type": "stream",
     "text": [
      "Model: \"sequential_7\"\n",
      "_________________________________________________________________\n",
      "Layer (type)                 Output Shape              Param #   \n",
      "=================================================================\n",
      "embedding_7 (Embedding)      (None, 48, 200)           2000000   \n",
      "_________________________________________________________________\n",
      "conv1d_4 (Conv1D)            (None, 42, 16)            22416     \n",
      "_________________________________________________________________\n",
      "max_pooling1d_2 (MaxPooling1 (None, 8, 16)             0         \n",
      "_________________________________________________________________\n",
      "conv1d_5 (Conv1D)            (None, 2, 16)             1808      \n",
      "_________________________________________________________________\n",
      "global_max_pooling1d_6 (Glob (None, 16)                0         \n",
      "_________________________________________________________________\n",
      "dense_14 (Dense)             (None, 8)                 136       \n",
      "_________________________________________________________________\n",
      "dense_15 (Dense)             (None, 1)                 9         \n",
      "=================================================================\n",
      "Total params: 2,024,369\n",
      "Trainable params: 2,024,369\n",
      "Non-trainable params: 0\n",
      "_________________________________________________________________\n"
     ]
    }
   ],
   "source": [
    "from tensorflow.keras.initializers import Constant\n",
    "\n",
    "# 모델 구성\n",
    "model4 = keras.Sequential()\n",
    "model4.add(keras.layers.Embedding(vocab_size, \n",
    "                                 word_vector_dim, \n",
    "                                 embeddings_initializer=Constant(embedding_matrix),  # 카피한 임베딩을 여기서 활용\n",
    "                                 input_length=maxlen, \n",
    "                                 trainable=True))   # trainable을 True로 주면 Fine-tuning\n",
    "model4.add(keras.layers.Conv1D(16, 7, activation='relu'))\n",
    "model4.add(keras.layers.MaxPooling1D(5))\n",
    "model4.add(keras.layers.Conv1D(16, 7, activation='relu'))\n",
    "model4.add(keras.layers.GlobalMaxPooling1D())\n",
    "model4.add(keras.layers.Dense(8, activation='relu'))\n",
    "model4.add(keras.layers.Dense(1, activation='sigmoid')) \n",
    "\n",
    "model4.summary()"
   ]
  },
  {
   "cell_type": "markdown",
   "metadata": {},
   "source": [
    "### 6-4. 모델 훈련"
   ]
  },
  {
   "cell_type": "code",
   "execution_count": 57,
   "metadata": {},
   "outputs": [
    {
     "name": "stdout",
     "output_type": "stream",
     "text": [
      "Epoch 1/20\n",
      "450/450 [==============================] - 18s 41ms/step - loss: 0.5821 - accuracy: 0.6738 - val_loss: 0.4846 - val_accuracy: 0.7625\n",
      "Epoch 2/20\n",
      "450/450 [==============================] - 10s 23ms/step - loss: 0.4394 - accuracy: 0.7907 - val_loss: 0.4398 - val_accuracy: 0.7917\n",
      "Epoch 3/20\n",
      "450/450 [==============================] - 10s 23ms/step - loss: 0.3874 - accuracy: 0.8192 - val_loss: 0.4325 - val_accuracy: 0.7956\n",
      "Epoch 4/20\n",
      "450/450 [==============================] - 10s 22ms/step - loss: 0.3540 - accuracy: 0.8381 - val_loss: 0.4370 - val_accuracy: 0.7948\n",
      "Epoch 5/20\n",
      "450/450 [==============================] - 10s 23ms/step - loss: 0.3280 - accuracy: 0.8511 - val_loss: 0.4423 - val_accuracy: 0.7990\n",
      "Epoch 6/20\n",
      "450/450 [==============================] - 10s 22ms/step - loss: 0.3014 - accuracy: 0.8656 - val_loss: 0.4527 - val_accuracy: 0.7967\n",
      "Epoch 7/20\n",
      "450/450 [==============================] - 10s 23ms/step - loss: 0.2748 - accuracy: 0.8785 - val_loss: 0.4851 - val_accuracy: 0.7949\n",
      "Epoch 8/20\n",
      "450/450 [==============================] - 10s 23ms/step - loss: 0.2491 - accuracy: 0.8904 - val_loss: 0.5098 - val_accuracy: 0.7947\n",
      "Epoch 9/20\n",
      "450/450 [==============================] - 10s 23ms/step - loss: 0.2249 - accuracy: 0.9025 - val_loss: 0.5652 - val_accuracy: 0.7912\n",
      "Epoch 10/20\n",
      "450/450 [==============================] - 10s 23ms/step - loss: 0.2016 - accuracy: 0.9135 - val_loss: 0.5981 - val_accuracy: 0.7844\n",
      "Epoch 11/20\n",
      "450/450 [==============================] - 10s 22ms/step - loss: 0.1818 - accuracy: 0.9217 - val_loss: 0.6553 - val_accuracy: 0.7863\n",
      "Epoch 12/20\n",
      "450/450 [==============================] - 10s 22ms/step - loss: 0.1655 - accuracy: 0.9289 - val_loss: 0.6984 - val_accuracy: 0.7866\n",
      "Epoch 13/20\n",
      "450/450 [==============================] - 10s 23ms/step - loss: 0.1497 - accuracy: 0.9349 - val_loss: 0.7797 - val_accuracy: 0.7834\n",
      "Epoch 14/20\n",
      "450/450 [==============================] - 10s 22ms/step - loss: 0.1384 - accuracy: 0.9397 - val_loss: 0.8359 - val_accuracy: 0.7824\n",
      "Epoch 15/20\n",
      "450/450 [==============================] - 10s 23ms/step - loss: 0.1287 - accuracy: 0.9437 - val_loss: 0.9227 - val_accuracy: 0.7815\n",
      "Epoch 16/20\n",
      "450/450 [==============================] - 10s 23ms/step - loss: 0.1204 - accuracy: 0.9471 - val_loss: 0.9617 - val_accuracy: 0.7794\n",
      "Epoch 17/20\n",
      "450/450 [==============================] - 10s 22ms/step - loss: 0.1152 - accuracy: 0.9476 - val_loss: 1.0053 - val_accuracy: 0.7807\n",
      "Epoch 18/20\n",
      "450/450 [==============================] - 10s 23ms/step - loss: 0.1085 - accuracy: 0.9516 - val_loss: 1.0485 - val_accuracy: 0.7816\n",
      "Epoch 19/20\n",
      "450/450 [==============================] - 10s 23ms/step - loss: 0.1028 - accuracy: 0.9539 - val_loss: 1.0804 - val_accuracy: 0.7811\n",
      "Epoch 20/20\n",
      "450/450 [==============================] - 11s 23ms/step - loss: 0.1004 - accuracy: 0.9540 - val_loss: 1.1423 - val_accuracy: 0.7750\n"
     ]
    }
   ],
   "source": [
    "# 훈련 조건 설정\n",
    "model4.compile(optimizer='adam',\n",
    "              loss='binary_crossentropy',\n",
    "              metrics=['accuracy'])\n",
    "              \n",
    "epochs=20  # 몇 epoch를 훈련하면 좋을지 결과를 보면서 바꾸어 봅시다. \n",
    "\n",
    "# 모델 훈련\n",
    "history = model4.fit(partial_x_train,\n",
    "                    partial_y_train,\n",
    "                    epochs=epochs,\n",
    "                    batch_size=256,\n",
    "                    validation_data=(x_valid, y_valid),\n",
    "                    verbose=1)"
   ]
  },
  {
   "cell_type": "markdown",
   "metadata": {},
   "source": [
    "### 6-5. Loss, Accuracy 그래프 시각화"
   ]
  },
  {
   "cell_type": "code",
   "execution_count": 60,
   "metadata": {},
   "outputs": [
    {
     "name": "stdout",
     "output_type": "stream",
     "text": [
      "dict_keys(['loss', 'accuracy', 'val_loss', 'val_accuracy'])\n"
     ]
    },
    {
     "data": {
      "image/png": "[encoded data removed]",
      "text/plain": [
       "<Figure size 432x288 with 1 Axes>"
      ]
     },
     "metadata": {
      "needs_background": "light"
     },
     "output_type": "display_data"
    },
    {
     "data": {
      "image/png": "[encoded data removed]",
      "text/plain": [
       "<Figure size 432x288 with 1 Axes>"
      ]
     },
     "metadata": {
      "needs_background": "light"
     },
     "output_type": "display_data"
    }
   ],
   "source": [
    "## Loss, Accuracy 그래프 시각화\n",
    "\n",
    "history_dict = history.history\n",
    "print(history_dict.keys()) # epoch에 따른 그래프를 그려볼 수 있는 항목들\n",
    "\n",
    "acc = history_dict['accuracy']\n",
    "val_acc = history_dict['val_accuracy']\n",
    "loss = history_dict['loss']\n",
    "val_loss = history_dict['val_loss']\n",
    "\n",
    "epochs = range(1, len(acc) + 1)\n",
    "\n",
    "# \"bo\"는 \"파란색 점\"입니다\n",
    "plt.plot(epochs, loss, 'ro', label='Training loss')\n",
    "# b는 \"파란 실선\"입니다\n",
    "plt.plot(epochs, val_loss, 'r', label='Validation loss')\n",
    "plt.title('Training and validation loss')\n",
    "plt.xlabel('Epochs')\n",
    "plt.ylabel('Loss')\n",
    "plt.legend()\n",
    "\n",
    "plt.show()\n",
    "\n",
    "plt.clf()   # 그림을 초기화합니다\n",
    "\n",
    "plt.plot(epochs, acc, 'bo', label='Training acc')\n",
    "plt.plot(epochs, val_acc, 'b', label='Validation acc')\n",
    "plt.title('Training and validation accuracy')\n",
    "plt.xlabel('Epochs')\n",
    "plt.ylabel('Accuracy')\n",
    "plt.legend()\n",
    "\n",
    "plt.show()"
   ]
  },
  {
   "cell_type": "code",
   "execution_count": 59,
   "metadata": {},
   "outputs": [
    {
     "name": "stdout",
     "output_type": "stream",
     "text": [
      "1516/1516 - 5s - loss: 1.1651 - accuracy: 0.7705\n",
      "[1.1651314496994019, 0.7705060243606567]\n"
     ]
    }
   ],
   "source": [
    "# 테스트셋을 통한 모델 평가\n",
    "results = model4.evaluate(x_test,  y_test, verbose=2)\n",
    "\n",
    "print(results)"
   ]
  },
  {
   "cell_type": "markdown",
   "metadata": {},
   "source": [
    "* word_vector_dim = 100 : loss: 1.0018 - accuracy: 0.7719\n",
    "* word_vector_dim = 200 : loss: 1.1651 - accuracy: 0.7705\n",
    "* word_vector_dim = 300 : loss: 0.6932 - accuracy: 0.4985"
   ]
  },
  {
   "cell_type": "markdown",
   "metadata": {},
   "source": [
    "## 회고"
   ]
  },
  {
   "cell_type": "markdown",
   "metadata": {},
   "source": [
    "* 오버피팅이 발생하는 것을 방지하기 위한 방법을 배운 다음에 다시한번 시도해봐야 겠다.\n",
    "* 하이퍼 파라미터의 값을 크게 한 경우에 메모리 한계로 인해서 훈련을 할 수 없는 경우가 발생하였다.\n",
    "* word2vec을 이용하여 단어의 유사도를 확인하는 원리는 아직 이해를 하지 못하였다.\n",
    "* 일본어를 토큰화 하기 위해서 개발된 Mecab 모듈을 활용한 Konlpy의 설치에 많은 어려움이 있었다. 성능 좋은 한국어 토크나이저가 있으면 좋겠다는 생각이 많이 들었다.\n",
    "* lms 내용을 충분하게 내 것으로 만들지 못한 상태에서 프로젝트를 수행한다는 것이 정말 어려웠다.\n",
    "* 노트북을 교체하면서 작업한 것을 github에 push하는 과정에서 계속 에러가 나와서 너무 오랜 시간을 소비한 것이 좀 아쉬웠다."
   ]
  },
  {
   "cell_type": "code",
   "execution_count": null,
   "metadata": {},
   "outputs": [],
   "source": []
  }
 ],
 "metadata": {
  "kernelspec": {
   "display_name": "aiffel",
   "language": "python",
   "name": "aiffel"
  },
  "language_info": {
   "codemirror_mode": {
    "name": "ipython",
    "version": 3
   },
   "file_extension": ".py",
   "mimetype": "text/x-python",
   "name": "python",
   "nbconvert_exporter": "python",
   "pygments_lexer": "ipython3",
   "version": "3.7.9"
  }
 },
 "nbformat": 4,
 "nbformat_minor": 4
}
