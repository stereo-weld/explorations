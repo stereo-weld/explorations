{
 "cells": [
  {
   "cell_type": "markdown",
   "id": "abroad-saturn",
   "metadata": {},
   "source": [
    "# E5_ 프로젝트: Spectrogram classification 모델 구현\n",
    "1. 음성데이터를 2차원 Spectrogram 으로 변환하여 데이터셋을 구성하였다.\n",
    "  - 스펙트로그램 시각화 및 train/test 데이터셋 구성이 정상진행되었다.\n",
    "2. 1,2차원 데이터를 처리하는 음성인식 모델이 정상 작동한다.\n",
    "  - 스펙트로그램을 입력받은 모델이 학습과정에서 안정적으로 수렴하며, evaluation/test 단계를 무리없이 진행가능하다.\n",
    "3. 테스트셋 수행결과 음성인식 모델의 Accuracy가 일정 수준에 도달하였다.\n",
    "  - evaluation 결과 75% 이상의 정확도를 달성하는 모델이 하나 이상 존재한다."
   ]
  },
  {
   "cell_type": "markdown",
   "id": "floral-maker",
   "metadata": {},
   "source": [
    "## 1. 데이터 처리와 분류\n",
    "* 라벨 데이터 처리하기\n",
    "* sklearn의 train_test_split함수를 이용하여 train, test 분리"
   ]
  },
  {
   "cell_type": "markdown",
   "id": "major-bacteria",
   "metadata": {},
   "source": [
    "### 1-1. 음성 데이터 읽기"
   ]
  },
  {
   "cell_type": "code",
   "execution_count": 1,
   "id": "turned-upper",
   "metadata": {},
   "outputs": [],
   "source": [
    "import tensorflow as tf\n",
    "import numpy as np\n",
    "import matplotlib.pyplot as plt\n",
    "import os\n"
   ]
  },
  {
   "cell_type": "code",
   "execution_count": 2,
   "id": "portuguese-alexander",
   "metadata": {},
   "outputs": [
    {
     "name": "stdout",
     "output_type": "stream",
     "text": [
      "wav_vals\n",
      "label_vals\n"
     ]
    }
   ],
   "source": [
    "# 간단한 단어인식(음성인식) 모델을 위한 훈련 데이터셋\n",
    "data_path = os.getenv(\"HOME\")+'/aiffel/speech_recognition/data/speech_wav_8000.npz'\n",
    "speech_data = np.load(data_path)\n",
    "\n",
    "# npz 파일의 요소 이름 확인\n",
    "for f in speech_data.files:\n",
    "    print(f)"
   ]
  },
  {
   "cell_type": "markdown",
   "id": "electrical-linux",
   "metadata": {},
   "source": [
    "* 음성 데이터는 \"wav_vals\" 파일과 \"label_vals\" 파일로 구성되어 있다."
   ]
  },
  {
   "cell_type": "code",
   "execution_count": 3,
   "id": "announced-schema",
   "metadata": {},
   "outputs": [
    {
     "name": "stdout",
     "output_type": "stream",
     "text": [
      "Wave data shape :  (50620, 8000)\n",
      "Label data shape :  (50620, 1)\n"
     ]
    }
   ],
   "source": [
    "# speech_data 형태 확인\n",
    "wave_data = speech_data[\"wav_vals\"]\n",
    "label_data = speech_data[\"label_vals\"]\n",
    "\n",
    "print(\"Wave data shape : \", wave_data.shape)\n",
    "print(\"Label data shape : \", label_data.shape)"
   ]
  },
  {
   "cell_type": "markdown",
   "id": "entire-milton",
   "metadata": {},
   "source": [
    "* 데이터셋은 1초 길이의 오디오 음성데이터 50620개로 이루어짐\n",
    "* 주어진 데이터의 원래 Sample rate는 16000이지만, 8000으로 re-sampling함"
   ]
  },
  {
   "cell_type": "code",
   "execution_count": 4,
   "id": "cultural-result",
   "metadata": {},
   "outputs": [
    {
     "name": "stdout",
     "output_type": "stream",
     "text": [
      "Wave data shape :  (8000,)\n",
      "label :  ['on']\n"
     ]
    },
    {
     "data": {
      "text/html": [
       "\n",
       "                <audio  controls=\"controls\" >\n",
       "                    <source src=\"data:audio/wav;base64,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\" type=\"audio/wav\" />\n",
       "                    Your browser does not support the audio element.\n",
       "                </audio>\n",
       "              "
      ],
      "text/plain": [
       "<IPython.lib.display.Audio object>"
      ]
     },
     "execution_count": 4,
     "metadata": {},
     "output_type": "execute_result"
    }
   ],
   "source": [
    "# 음성 데이터와 레이블 데이터가 맞는지 확인\n",
    "import IPython.display as ipd\n",
    "import random\n",
    "\n",
    "# 데이터 선택 \n",
    "rand = random.randint(0, len(wave_data))\n",
    "\n",
    "print(\"Wave data shape : \", wave_data[rand].shape)\n",
    "print(\"label : \", label_data[rand])\n",
    "\n",
    "sr = 8000      # 1초동안 재생되는 샘플의 갯수\n",
    "ipd.Audio(wave_data[rand], rate=sr)"
   ]
  },
  {
   "cell_type": "markdown",
   "id": "capable-advantage",
   "metadata": {},
   "source": [
    "### 1-2. Label data 처리"
   ]
  },
  {
   "cell_type": "code",
   "execution_count": 5,
   "id": "completed-jacob",
   "metadata": {},
   "outputs": [
    {
     "name": "stdout",
     "output_type": "stream",
     "text": [
      "LABEL :  ['yes', 'no', 'up', 'down', 'left', 'right', 'on', 'off', 'stop', 'go', 'unknown', 'silence']\n",
      "Indexed LABEL :  {'yes': 0, 'no': 1, 'up': 2, 'down': 3, 'left': 4, 'right': 5, 'on': 6, 'off': 7, 'stop': 8, 'go': 9, 'unknown': 10, 'silence': 11}\n",
      "Reverse label :  {0: 'yes', 1: 'no', 2: 'up', 3: 'down', 4: 'left', 5: 'right', 6: 'on', 7: 'off', 8: 'stop', 9: 'go', 10: 'unknown', 11: 'silence'}\n"
     ]
    }
   ],
   "source": [
    "# 오디오 클립의 레이블\n",
    "target_list = ['yes', 'no', 'up', 'down', 'left', 'right', 'on', 'off', 'stop', 'go']\n",
    "\n",
    "label_value = target_list\n",
    "\n",
    "# 추가 레이블\n",
    "label_value.append('unknown')\n",
    "label_value.append('silence')\n",
    "\n",
    "print('LABEL : ', label_value)\n",
    "\n",
    "\n",
    "# Text로 이루어진 라벨 데이터를 학습에 사용하기 위해서 index 형태로 바꿔주는 작업\n",
    "new_label_value = dict()\n",
    "\n",
    "for i, l in enumerate(label_value):\n",
    "    new_label_value[l] = i\n",
    "    \n",
    "label_value = new_label_value\n",
    "inv_label_value = {v: k for k, v in label_value.items()}\n",
    "# reverse_label_value = dict(map(reversed, label_value.items()))\n",
    "\n",
    "print('Indexed LABEL : ', label_value)\n",
    "print(\"Reverse label : \", inv_label_value)\n"
   ]
  },
  {
   "cell_type": "code",
   "execution_count": 6,
   "id": "frozen-california",
   "metadata": {},
   "outputs": [
    {
     "name": "stdout",
     "output_type": "stream",
     "text": [
      "(50620,)\n"
     ]
    },
    {
     "data": {
      "text/plain": [
       "array([ 3,  3,  3, ..., 11, 11, 11])"
      ]
     },
     "execution_count": 6,
     "metadata": {},
     "output_type": "execute_result"
    }
   ],
   "source": [
    "# 레이블 데이터를 정수(int)로 이뤄진 index 작업\n",
    "temp = []\n",
    "i = 0\n",
    "for v in label_data:\n",
    "    temp.append(new_label_value[v[0]])\n",
    "    \n",
    "label_data = np.array(temp)\n",
    "\n",
    "print(label_data.shape)\n",
    "label_data"
   ]
  },
  {
   "cell_type": "markdown",
   "id": "complex-ideal",
   "metadata": {},
   "source": [
    "### 1-3. 1차원의 Waveform 데이터를 2차원의 Spectrogram 데이터로 변환\n",
    "**STFT(Short Time Fourier Transform)** : Time 도메인의 파형을 Frequency 도메인으로 변형시키는 푸리에 변환 \n",
    "* wav 데이터가 단위 시간만큼 STFT을 진행해 매 순간의 주파수 데이터들을 얻어서 Spectrogram을 완성"
   ]
  },
  {
   "cell_type": "code",
   "execution_count": 7,
   "id": "spectacular-healthcare",
   "metadata": {},
   "outputs": [
    {
     "name": "stdout",
     "output_type": "stream",
     "text": [
      "(50620, 8000)\n",
      "(50620, 130, 126)\n"
     ]
    }
   ],
   "source": [
    "import librosa\n",
    "\n",
    "# STFT 변환\n",
    "def wav2spec(wav, fft_size=258):                   # spectrogram shape을 맞추기위해서 size 변형\n",
    "    # STFT\n",
    "    stft = librosa.stft(wav, n_fft=fft_size)       # n_fft : fram 하나당 sample 수\n",
    "    \n",
    "    # 복소수공간 값 절대값 취하기\n",
    "    magnitude = np.abs(stft)  \n",
    "    \n",
    "    return magnitude\n",
    "\n",
    "# 모든 음성 데이터 STFT 변환\n",
    "spec_data = []\n",
    "\n",
    "for wav in speech_data[\"wav_vals\"]:\n",
    "    spec_data.append(wav2spec(wav))\n",
    "\n",
    "spec_data = np.array(spec_data)\n",
    "\n",
    "print(wave_data.shape)\n",
    "print(spec_data.shape)\n",
    "\n",
    "\n",
    "# 랜덤으로 뽑은 음성 데이터 1개를 STFT 변환\n",
    "spec_one = wav2spec(speech_data[\"wav_vals\"][rand]) "
   ]
  },
  {
   "cell_type": "markdown",
   "id": "single-words",
   "metadata": {},
   "source": [
    "* 주의 : waveform을 spectrogram으로 변환하기 위해 추가로 사용하는 메모리 때문에 이후 메모리 부족 현상을 겪게 될수도 있습니다.\n",
    "  * tf.data.Dataset이 생성된 이후, 아래 예시와 같이 wav 데이터나 spectrogram 데이터를 담아둔 메모리 버퍼를 비워 준다.   \n",
    "  \n",
    "```Python\n",
    "del speech_data\n",
    "del spec_data\n",
    "```"
   ]
  },
  {
   "cell_type": "code",
   "execution_count": 8,
   "id": "sunset-violin",
   "metadata": {},
   "outputs": [],
   "source": [
    "# 메모리 버퍼 삭제\n",
    "del wave_data\n",
    "del speech_data"
   ]
  },
  {
   "cell_type": "code",
   "execution_count": 9,
   "id": "fixed-rubber",
   "metadata": {},
   "outputs": [
    {
     "name": "stdout",
     "output_type": "stream",
     "text": [
      "(8000,)\n",
      "label :  on\n"
     ]
    },
    {
     "data": {
      "text/html": [
       "\n",
       "                <audio  controls=\"controls\" >\n",
       "                    <source src=\"data:audio/wav;base64,UklGRqQ+AABXQVZFZm10IBAAAAABAAEAQB8AAIA+AAACABAAZGF0YYA+AAD+/wEABAADAAEA+//5/wIABgAGAAAA+////wMABgAHAAIA/P/+/wQABQADAAIA/v///wQABgAFAPv/AAABAAAAAQACAAEA/f8AAP//AAD8//f/+/8GAAQA/P/5//f//P8AAAcAAQD//wAA/v///wAABQACAP3/+/8AAAAABQAAAPz/+//8/wMACAAIAP3//////wMACgAEAAAA//8AAAMABAACAAAA///+/wMABQD9//3//v/+/wAA//////7//P/+/wAAAQAAAPj/+//+/////////wAA///9/wAAAwABAAAAAAAAAAAAAgABAAAA//8AAAAA+//+/////f8AAP///v/9//7///8AAAEA/f/+////AQACAAAA/v/9/wAAAgADAAIAAQD//wAAAgADAP7//P8AAP//AAAAAP7/+//9/wAAAAAAAP3//P///wEAAwD///v/AAADAAQAAwAAAAAAAQAEAAUAAAD//wIABgADAAAA/f/7/wEAAwADAAAA/f/8//7/BgAEAAAA/P/9////BQAGAAEA///5/wEACgAJAAIA/v/7//7/BgAHAAQA/v/7/wEAAgABAAAA/////wEAAQD9//7//v8AAAIAAQABAPv/+v8AAAMABwAAAPz//v8BAAUABgD///v//v8BAAUABAAAAPz///8AAAYABAD9//v//v8BAAUAAwD8//3//P/+/wIAAwAEAP///P8AAAAAAgAEAAIAAQAAAP7///8AAAQABQADAAAAAAAAAAIAAAABAP7/+/8AAAIABAD+//z/9//5//7/BAAKAP///f/7/wAABAAJAAQA+f/9/wAABAAGAAMA/f8AAP//AgAGAP7//v/7////AwADAAIA/f/+/wAABAAFAAUAAAAAAAIAAQAAAPz/AgADAAUAAAD8//z//P8AAAIABgABAAAA/f///wMAAgD+//7/AAADAAUAAwADAAAA///9/wIABAAEAAIAAAD+////AAABAAYAAQD8////AAD//wAABAAIAAMA///9//v/AgAIAAgABwAAAP///v8AAAIABAADAAQABQAAAPv/+v8DAAYABgABAAAAAAD+/wAAAgACAAAAAQD//wAAAAAAAP///v///wQABwACAPz/+//7/wAABgAFAAAA+P/7////AwABAAAAAAD8//7/AAABAAIAAAAAAAEAAAADAAUAAAD8//z/AgAKAAUAAAD5//n///8DAAMABgAGAP3/+//9/wIACQAFAAAA+//7////AAABAAEA/f///wIABAAAAPv//v8AAAQABgAEAP//+f/7/wAABgAKAAgAAAD1//n/AwALAAgAAQAAAP3/AgAAAP//AQABAAIA//8CAAUABQD9//z///8EAAkABQAAAPv/+P8BAAsABgAIAAEA/f8CAP//BAAIAAUAAQD6//v//f8AAAIABQAAAPn//v8AAAEAAAAAAP7/AgADAAAA/v/+/wAABAACAAQABwD+//v///8EAAgACAAHAAcAAAAAAPz//f8BAAMAAwABAAAA/f8BAPv///8BAAMACAAEAP7/+v/8/wAABgADAAIA//8BAAMA/f/7////BAAFAAcAAAD4//v/AQAHAAMA///9//z///8CAAQA/P/7////AAAFAAQA/v/8/wAABAAGAAIAAAABAAEAAQAFAAQAAwABAP3/AAACAAIAAAD+/wAA/P/9/wEABAADAP7/+v/5/wAABgAFAAEA+v/8/wAAAwAFAAEAAAD7//z/AAACAAQABAD+//3/AAAAAAMAAAAAAAEAAAAAAAAAAAD///7/AQADAAUAAwAAAAAA//8BAAMABgAHAP//+P/8/wYACwAHAP//9P/5/wIACgALAP7/+P/5////BgAGAAEA+f/4////BAAGAAIA+//4/wAACQAHAP//+f/+/wMABQAFAP7/+//9/wEABwADAAAAAAABAAIAAgABAAEA/v///wIAAgADAP///v8AAAIABAD///v/AAADAAQAAAD5//v/BQAIAAQA/v/7/wEABgAJAAIA/f/7//3/BAAGAAMA/P/6//7/AQAGAAAAAAD+/wEABQAEAAIA+f/9/wAABQAFAAEAAAD9//7/AgAHAAAA/P/+/wMACAAAAPr//f///wMABQADAAIA///+/wMABQADAAAA+/8AAAIAAgACAAAAAQAAAAEAAQAAAAAAAQADAAIAAQAAAP//AAABAP///v/7//3/AQD+/wAAAAACAP//AAACAAAAAgAAAAEA/f8CAAQAAAAAAAAAAwAGAAQAAAD//wAAAgAEAAMA+//8//r/AQAHAAUAAAD7////AAABAAAAAgACAAIAAAD//wAAAwACAAAA/v8BAAMAAgADAAMAAwD+/wIAAAAAAAIA/f8AAPz/AAABAPv/AAADAAYABAACAAAA/v8CAAQAAQAAAAEAAAADAAAA//8FAAkAAgD9//r///8FAAkACAD+//j/+P8AAAYACQABAP3//////wMABgADAAAA/v8AAAMAAQACAP3/+//7/wEAAgABAAEA+//+//v/BQACAP3/+//5////BQAJAAUA+v/7//7/AgAKAAgAAgD4//3/AwAHAAoAAgD6//7/AQAEAAYAAAD8//r//f8DAAcABQD7//b/+/8AAAYABQAAAPv/+////wIACAAFAAAA///9/wAAAAAAAAIAAAD///3/AQABAAEAAgAAAPv/+/8CAAIA/v///wAAAgAGAAUAAwD8/wAAAQABAAIABAABAAAAAAABAAQAAgADAAIAAAABAAEAAgACAAAAAAD///7/AAD//wAAAAD+//z//P8CAAQAAQD8//v//P8BAAMAAQABAPv//f8DAAoACQACAP3/+v///woACwACAP//+f/8/wcADAAFAAAA+v///wIABgAGAP7//f/+/wAAAgAFAAAA/v/9/wAABAAEAAYABAD//wAAAAABAAMAAAAAAP///v8BAAAA/v8AAP3//f/9/wAAAgADAP3/+////wEAAwADAAAA//8BAAMABwAIAAMA///9//7/BwAGAAMAAAD7/wAACAAIAAQA/v/6////BgAHAAQA/P/6/wAAAAAEAAAA+f/4//3/AQADAP//+P/7//v///8CAAMA///+//z//P8BAAIAAgD+//v//f8BAP7/AAD///7///8AAAUABQADAP//AAADAAUABwADAAMABQAAAAAAAQACAAEA/v////z/AAAFAAAAAQD///v//v8BAAMAAwD///v//P///wEA///8//r/+f///wIABgAEAAIAAQD//wEABQABAAMAAwAAAAEAAwAEAAUAAwAAAAAAAAAEAAUAAwD9/wAAAwABAAQAAgD+//z//P/9/wIAAwABAAAA+P/5/wIABgD9////+//7/wEAAwAEAP3/+v/7/wAAAAAEAP//+//8/wAABAAFAAAA+f/7/wAAAQAGAAcAAAAAAAAABgAIAAQAAwD///3/BgAJAAQAAAADAAAAAwAHAAMACAACAPr///8HAAQAAwAAAPr/AAAEAAcACwABAPv/+v/6//7/AAD+//r/+f/6/wAAAAD8//3//f/6/wAA///5/wAAAQD5//3/AQABAAIAAAACAAEAAAABAAYABQAFAAQAAAABAAMABgAFAP3//P8FAAQAAAABAAMA/v8AAAAAAQAKAAAA+//9/wAABQAHAAMAAAAAAAAABQAEAP3//f/8//v/AQAEAAAA/P/8//r/+/////3//P/+//3///////3//v/+//j//v8AAAEABAAAAAEAAwAAAAEACAACAAAAAwADAAIABgADAP7/AQD9/wAABgACAAEAAgAAAPv////7/wIAAgD7//////8AAAMABwABAAAA//8AAAQAAgAAAAEAAgD+/wQABAAFAAMA/P8AAAAA/v8BAAIA/v/6/wAAAAD+/wIAAQABAAMAAAADAAAAAAACAP//AAAIAAIA+/8DAAIAAwAAAP//AQACAP3///8BAP//AAD6//7/AQADAAMAAAACAAEAAAAAAAEAAQACAAIAAwAAAAIACAAEAAAAAgACAAEABgAFAAQA/////wQA/////wMAAAAAAPz/AgABAP//AgAAAAAABQAEAAEAAQD+/wMABQADAAYAAQABAAQACAAEAPn///8AAP//BgADAPv/+/////7///8CAAAA///+/wIAAgADAAUAAAAAAP3/AQAHAP//AAAHAP///P8BAAMA/v8AAP7//f/9/wEAAgD5/wAAAQD+/wIAAgAAAPv//P8DAPz/AQAAAP3/AAAAAAIAAAACAAIAAAD+/wQABQD9//7/AQAAAAAAAAD///7//f/7/wAAAwD//wEA///7//v/AQAAAAIAAQACAP///v8JAAQAAAD+/wMAAQAEAAUAAAADAAAAAAADAAAA+/8AAAAA//8CAP//AgAGAP///f8AAP7//P8AAAAAAwAHAAYABQAAAAMABAABAPz/AAABAP///f8GAAMAAAAAAPz/AQACAAAA/f////n//v8AAAAA///5//3/AAAAAAUAAQD6////AAADAAMAAAADAAUAAQABAAEAAAD7/wMA/f/8/wMAAAD7//z//v8AAAEAAAABAP//AQD+//z//f8GAAMAAAAAAP3/AwAEAAUAAAAAAAAA///+/wEAAgACAP7//v/9/wAAAgAAAPr/+P/7//f/AgD+/wIA//8AAP7///8AAP//AAD9/wQAAQAAAAIABQAAAAQA//8CAP7//P/+//r/AAD//wEA/v/+//7/AQADAAIAAAACAP7/AQD/////AAD6//z/AAAFAAIAAwD+/wIAAQADAAEA/f8AAAAAAAD+/wAA//8AAP3//P/5//3//v8BAP7/+v////7/AAD//wEAAAACAAAAAQABAAIAAAADAP7/AAAFAAMAAgD6//z/AAAGAAQAAgAAAAEA//8AAP//AAAEAAIA///7//v//v8CAAAA///9/wEABAAEAAMAAAAAAAIAAQABAAcAAQAAAP//+f///wIA/f/9//j/+f///wIABAD8//j/AAAAAAEABQACAAAA/v8DAP//AAD//wEA/v/5/wAAAQACAP3/AAD+/wAAAAAAAAEA///7//v/AQAAAAEA+//7/wAA+v8AAAAA/v8AAPz/AAABAP//AQAAAPr/AAD//wYABgD/////+v/+/wAAAAD8//7//v/1//v/BAAEAPz///8BAP7/AwADAAUAAgD///7/AAAJAAUAAAD7//r/AAABAAIA/v/+//r//f8FAAMA/f/8/wAA/////wEABQAAAPz//v/9////AAAAAAMA///+/wEABAAEAP3//v8DAAAABQABAP7/AwD+/wAAAAD///3/+v8AAP//+//9////AAAAAP3//v8GAAcAAwAAAAAA+//8/wUABQD///j/+/8AAAEAAgABAAIA/v/6/wAAAgABAAAA/P///wAA/f8BAAQA+//8//3/AQADAP//AAD//wAAAAABAAAAAAACAP////8EAAAAAAADAAAA/f/5//7//v/6/wMAAgD+/wAA//8DAAQAAgADAAUAAgABAP//AAD+/wAAAwAAAP7/AAD///7/BAD//wEABAD8//v/AAABAAQAAgD///3//v8AAAQAAgD6//z/AAAAAP//BAAAAAYABgD7/wUABAACAAIAAQAEAAEA/P8AAP7//f8AAPz/AAD8//z/AgD8/wAAAAD+/wAA//8FAAUA//8BAPv/AAAEAAAABgD9////BgACAAMAAAABAAQA/P/+/wAA/v8CAP//AAADAP7/AQD//wAABAD9/wIA/v8AAAcAAAAFAAAA/v8FAP//BAACAPr/AAAAAAIABAD8/wMA/f/6/wQAAgACAPr//P////f///8AAPz/AQD6//v////+/wEA/v8AAAAA//8EAP//AAAHAAAAAgACAPr/AQD9//v//v/8/wEA/v/8/////f/9////AAD9//r//v//////AAAAAAAA/P/2/wEAAQAAAAEA+/8AAPv///8AAAIAAgD8/wAAAAD9/wAAAAD6//3//v/8/wAAAQAHAP3//P8BAPr/AwAEAP//AgD5/wIABQACAAcA/f8CAAEA/f8FAP////8CAP//AwD+//z//P/8//3//v8AAAQA+v/9/wUA/v8DAAEAAQD+//7/BwAAAAAAAgD7////AAAAAAAA//////7/AgAFAAEAAAABAP3//f///wMAAAD8/wIAAAAAAAMA/v///wAA//8AAP7/AgD//wAAAQD7/wEAAQD/////AAD8/wEABQAAAAAA/v/9/wAAAwACAAAAAAD+//z/AAAAAP7//P///wAAAAAEAP7/+v////3/AAAFAP3//f/+//7/AgAAAAEAAAAAAAAA///+//7/AwAAAP7/AQD+//z/AAD//wAAAQD//////P8BAAIAAAADAP7//P8CAAQA///+/wAA+v8CAAUA/v8BAP//+v8AAAYA///9//3//P8AAAEAAAD9//v/AAAAAAMA///9//z//f8FAAIAAAD///v/AAD///3/AAD//wAAAAD///3/AgAAAPz/AgD8//3/AAD9//7//////wAAAAD//wAAAgABAAIA/v/6//7/AwD+//7////7/wQAAwAAAAIAAAD9//7/AQABAAAAAwACAP///////wAA/v8AAAAA//8BAP//AAD//wAA//8AAAAA+v//////+////wEAAAAAAAAA/f/+/////v8AAP///f/8/wAA/f/8//7/AAABAPz//P/7//3/AAAAAP7/+/8AAAQAAAABAAEAAAABAAIABAADAAAAAAAAAAMABAACAAQA/v/7////BQADAP3//P8AAAAA/f8BAAAAAAD8/wEAAQD8//z/+//+////AQAAAP///v/9////AAAAAP//AAD+/wEAAAD///7/+/8AAP//AgAAAPz//P///wMAAgABAAEA///8/wAAAwABAP7//P/+/wMABAABAPz/+/8AAAIAAwD///z//v8CAAAA/P/9//7/AgD8/wAABAAAAP///P///wAAAAD//wAAAAD///////8AAPz//////wEAAQD7///////9////AAD+/wAAAwAGAAEA/P///wAA//8AAAMAAgD8//3/AAADAAQAAAD///7/AwAEAAEA/////wEABQABAAIAAAAAAAIAAAD/////AAAAAP7//v8BAAIA///6////AAACAP7///8BAP//+v/9////+P8CAPv/AAAAAP//AgD+//3//v8CAPr/AQAEAAQAAgD9/wMA/f/8/wAAAgAAAAAAAAD+/wIAAAD9//v///8AAP7/AAAAAP///v8CAAAA/v///wAAAwACAAMAAgAAAAIAAQADAAIAAwACAP3/AAACAP///v8BAAAA/f/7//r//v/6//7//f/3////AAD+//7//f/8/////P/9/wAAAAD8/wAAAQAAAAAAAwACAAIABQADAAMAAwACAAEAAQADAAAAAAAAAAEAAAAAAAQAAQABAAAAAAD+/wAAAwABAAEAAAABAPz///8AAP3////9/////P/+//7//v////z//f////7//f/7//X//f8AAP3///8AAAAA//8EAAMABQAHAAQABgAFAAQABQAEAAMAAwABAAIAAgADAAEAAgAEAAAAAAABAAAAAAAAAAAAAQABAAIAAQABAAIABAAFAAMAAgAEAAYABgAJAAYABQAFAAIAAAACAAAA/v8AAAAA/f///////v/+//3/+//+////+//8//3////8/////f8AAP7//f8BAAIABAABAAIAAAD+////AgAAAP//AAD9/////v////3///8AAP//AAAAAAEAAQAAAAEABAABAAQAAQAAAAIAAQACAAEABAADAAQAAwACAAEAAQD//wAAAgAAAAAA/f/+//r/+//7//n/+v/9//z//f8AAP7/AgAAAAQAAwABAAQABAAEAAUABQAFAAIAAQAEAAAA//8AAAAAAAD//wEAAQABAAAAAwAEAAAAAgAEAAcAAgACAAIABQAGAAIAAgAAAP//AgADAAIAAwAAAAEA/v////7//P/+//3//P/8/wAA///+/wEAAgACAAYABQAGAAMABAAFAAIABwAEAAMAAwACAAAAAgABAAIAAAAAAAMAAwAEAAIAAAAAAP3//P8AAP//AAACAAQABAABAAIAAgAAAAAAAQAEAAEAAAAAAP///v/7/wAA+v/9//7//v/+//7//P/9/////v////7/AAD9//3/AAAHAAMAAwADAAIAAgABAAQAAAADAAEAAAABAAAA//8AAAAAAAAAAP//AQAAAAAAAAAAAAAA/P/7//v/+v/8/wAAAAABAAEA//8AAP//AgAEAAUAAQAEAAMAAQAGAAAAAgD//wAAAAAAAAAAAAD///3/AAD7//r/+v/9//z///8AAAAA/f/6//3//P/8//v/+//8//z/+v/+//z//v/+////AwAAAAAAAAABAAIAAAAFAAYAAwACAAEAAgD//wAAAgAAAAYAAwACAAcAAgABAAYAAwACAAIABAABAAQABAD+/wIA//8AAAAA/v/+/wIAAAD+/wIA/v/+//3//f/9//z//v/8//3/AAD9/wEAAQD+/wAAAQD9/wAA//8EAAYA//8FAAMAAAD//wAAAgABAAEAAAAAAAIA/P///wAA//8DAAAA/v8AAAAA/f8AAAEAAQAAAAEAAQACAAQA/f8DAP//AAACAAEAAwD8/wAAAwD+////AQAAAAEA//8AAAAA///8//7/AgD9//7/BAADAAEAAQD+/wIAAAD//wQAAwAAAAUABgAAAAAAAwAAAAMACAD//wMABAD6/wEAAAD+/wUABgD//wIAAQD8/wAAAAACAP//AQAAAPz/AQD6/wAAAAD5/wEAAgAAAPz/AAD///3/AAD+/wEABAAAAAEABAABAAAAAAAHAAAA//8HAAIABgABAAEACAD//wAABAAAAAEAAwAEAAAAAwAAAPz/AgAAAAAAAwD///3/AQD///z/AAADAPv/AAAAAPv/AQAAAAIABAD9////AgABAPv/AgAIAP//AgD+/wIAAgD//wYAAQD//wAAAAAAAAAAAAABAP//AAD+/wIAAAD6/wIAAQAFAP////8CAP//AQAAAAAAAQABAAIAAAADAAEA/v8BAP//BQABAPz/AgD/////AAAAAP3/AAADAPz/AQAAAP7/AwAFAPz///8CAPr/AAACAP3///8FAAAA///9/wAABQAAAPz/AgAAAP//AwAAAAAA/f//////BgD//wAAAAD7/wAA/v8GAAAA/f8BAAAA/v8AAAIAAwAAAAAAAAD+/wIA//8FAAEA/f8DAP3//f8AAAIA/f/9/wYA+/8DAAIA+/8BAP//AQD6/wAA/v/8/wAA/////wMABQD//wAABQADAP//AQD8/wAAAwAEAAIAAQD+//3/AgACAAEA///8//z/AwD2/wEABAD9//3/AAACAPv/BAACAP7/AAABAP7//v///wAAAgADAAMA//8AAP7/AAADAP//AAAAAAQABAAAAAAABAAAAP//AQADAP3/BAACAPz/BgABAAAAAgAEAAAAAgAAAPr/AgABAAEAAQD7//7//P///wEAAgAAAPv/AAAAAP7/+/////r/+v/+//n//v8AAPn//f///wIAAQAAAP3//P8AAAAA/v/+/wMA//8CAAQACAADAAUACAABAAMA/v8DAAAAAQABAP7/AQD///7///8AAPr/AAAAAP3/AwD///7////9////AAD///7//v/+//7/AAD//wEA/v8AAP///f8CAAAA+//+/wUA/P/+/wEA//8DAAQABAAGAAYAAQAEAAYAAAACAAIABgAEAAQABQAEAAUAAwAFAAAA//////7/+v///wIA/P/+//7/AAD+//3//P8AAAAA+v/9//v//f/+//3//v8AAAAA/f8CAAAA/f////v/AAD/////AgAAAAIAAAAEAAcABAADAAAAAAAAAAAABQACAAMABQAAAAQA///9//7//P/9//z//v/+/wAAAAAAAAIA///8//3///8AAAAAAgACAAAAAQACAAMAAAD+//3/AQD5//z/AAD+/wAA//8AAP//AgD+/wAAAQD8//3//f8CAAEAAAAAAAMAAAD//wEAAQAAAAAAAQD/////AQAAAAAABAACAAEABQAAAAAAAAD9////AAABAAAAAgACAAQAAwAAAAEA/v8BAAIAAAACAP//AAAAAAEAAQD8/wAA/P8CAPz/+v8BAAAAAQAAAAEAAAACAAAAAwADAAIA/v/8/wMAAQABAP//BgAGAAAAAwACAAAAAwAEAAIA//8CAAAAAAABAAAAAAD+/wAA+//+//z/+v8AAP///P8AAAQAAAAAAAAA///+//7/AAD+/wAA//8BAP7/AAABAPz/AgD+/wAA+//7/wIAAgABAAAAAAAAAAMAAgACAP//AgD///v/AAD8/wAA/v///wAA//8AAAAAAQADAAMAAAACAP///P8AAAAAAAABAP3//f8AAAAA/P/8/wAAAQABAAIAAQAAAP7/+v////7/+//9//3/+/8AAAAA+f8AAAMAAAACAAUAAAD8/wAA/v8AAAIA/P8CAAEAAAAAAAMA/P8AAAEA+v8AAP7/AAD8//7/+//8/wAA//8AAP//AAAAAAMA///8/wEAAAABAAAA/v/+/wEA///4//3/AQADAAMAAwAAAAIAAQABAAAA/v8FAP//AQAAAAEAAwD9/wMAAwABAP//BgAAAPz/CAD///z/AAD8//3/AgAAAP7/BAD9////AAD/////BQAFAP//AwD+//z//v8AAAEA/f8AAP//AAABAPz/AAAAAAIAAAAAAAEA///9/wEA/f/+/wMAAwADAAEAAwACAAEAAAAEAAMAAAABAAEAAwACAAUAAAADAAYA//8AAAEA/P8BAAEA+//+/wAAAAD+//3///////3/AwACAAIAAAADAAMAAAACAAEAAAD8//7/AAD8//n//v/5//z//f///wAAAAADAAAAAAAAAP7/AAAAAAAAAAAAAAUA//8CAAIAAQADAAMA///8/wAAAAAAAP//AgABAAEAAAD///3/AAAAAAAAAQD9/wAAAAD//wAA/P/9//v/+/8AAPz//v8BAAEA/v8FAAMAAwAEAP7/AgABAAAA//8AAAEAAAAAAAQAAAAAAAcAAwAEAP7//v8BAAAA/P8AAAMAAAAAAP//AAAAAAMAAgAAAAIAAwADAP//+v///wQAAQD9//7//f/7////AgD+/wAAAwD/////AwAAAAAA///+/wAA/P/9//7/AQD+/wEAAgD//wAA//8BAAQAAQD8/wAA/v8HAAgABAAGAAIACgAAAAUAAwD9/wMA/v8AAP3//////wAAAAAAAP3/AAD8//7/AwD7/wMA+//4//3/AAABAP//AQAAAP3//P8BAAIAAQACAP7/AgAAAAMAAAABAAAA/f8EAP7/AAD+/////v/+/wMAAQAAAAEAAAD8/wAA+v/8/wEAAQAAAPv/AgD+//v/AQACAAMAAQD9//j//f/8/wAADAAEAAAA9v/2//n//f8LAAkA/v/7//D/8f8CAAYAEAAEAAAA+v/w//z//v8LAAUABwAFAPX/9f/0/wgABQAOABEA+//4//P/AQAAAAoADAAKAP3/8v8HAPX/BwAHAAAA//8EAAQA/P8BAPT/8////wEABAAVAAEA8f/1/+3//P8VABQAEwD///D/5f/1/xIAJAAUAAAA5//e//H/GAAkAB0ADgDf/+r/7//4/yIAIQAOAAgA8P/s/9f/+/8AAAwALwAAABsA5P/h//X/9f8jAAcAKQDx/9b/7v/d/ygAFQAzAAgA3P/n/8X/FQAZAD8ALADx//X/y//U//j/DgAgAB8AKgDq/8v////T/xcAOwA0AAsA1v/d/7L/9v8vAD8ANAAHANf/tv/s//f/OgBgABsA+/+6/97/uf8OAE8AEAA7AMv/8//V/+r/MgAaADcA1v8HAMX/y/8eABcAXQAUABYAxP+Q/9v/x/9ZAHEAVwAxAL3/wP9r/w4AUgAmAGAAAQDH/1f/4v8sABkAwgBlAO3/qv+e/4L/y/9VAC8AcABVAMr/1/+D/9f/BwBdAKQAAwAjAGD/VP+T/yMAzgCsAMEAr/8l/0b/Zf8MAOwABAEwALf/hP/y/qL/ygDOAG4AIwBx/xf/hv+7/4kAMQFxADcAuP/X/jP/KQB2AFgA5gAAACn/eP/W/+L/yQDxAP7/1f9b/2n/u/90AGYAsQDR/6n/j/9V////mwBNAGwAeQBy/4X/6f/j/9z/vQASADYAjf/R/2z/Yf9LAKUA/gBsAIAAV//V/n3+TAAkAYsAKwE8AFL+mf6N/x0AggH2AfkAnP91/m39Jv8KAKwBTwKsAEMAjP6N/Uj/cwB+ASwCfACg/87+0v3o/hUBhQDqAVMBZP/F/nX+1v+0/+kANwLj/9D/1P4e/7L/u/9SAhYAnv9t/w//Xf/0AMYAPgDFAab+Vf8YAMf+TP9jAVoAuf9TAcb/5/7O/wkAl//1ACAABQHTAC7+tf9R/9/9NwCaAeYAfwFPAur+4/0I/yj9kQDjAR4B+AKy/8v90f6Y/dH+/QJSAk0B8AA+/lT9Cf4FAIkCSgHoAej/nf1z/qD+1wDUAcIAs/9JAIL/Mv/R/8EArQBrAAn/ngAf/kr/sgEcAH4A0P+iAHz+3f9KAeP97QDyA6/+c/7zACX9iv0XAS4C3gCoAeMCzP35/A3/sf0+ANYERgCpAD7//v0VAMv+wgEKAXj/TADl/pn9sgFTADoB2QH0/aH+DQAgAE4APwKcAJH/xf6W/TH/ZQBmAbcBZ/9CAVj+V/1DAeT/ngL2AjwB4/wX/BP/Cf0PAtMD1f5HA9cBK/x7AH//jP2bAOsA5QFbAEAAxgDy+3T+1f9G/8sD1QKbAPD/kPy8/XL/uQAJBQ8AiQGn/gf6j/5sADsCnwJVAxkAfvu+/2H+NPyKBpwAKwBFBOr6Yf4DAa78AAK+AkAAt//o/t//IvzDADUEMgD4AoP/zf2O/W/8XgC1AOkCIAXT/xb+QgB2+mf99gT6/1sAcwSK/Rn9TP+3/j4AkQIXBBv+2v7tAND6oAB/AmAAJQI5AlH+qPy3/kv/bwEiAR4Ck/4m/tcBOP1t/1cErf5NASACFP43/un+Zv+HARUBBv5+Acf+iv76Atr/jAAHATL/5/7b/8ABpf4U/94Ab/2b/jID2QAsADkD4P1B/iYBj/3DATUBvQAwANv6y/5S/hUAjAMzAgMEYv+hACD8KfolAaf+KwSxBjn/ef9j/P/45P2HAdcD+wGwAmf/JfpgAIAAM/9ZBDj/4/69AjoBxgDBAJQD9v/H/WEDPv0N/fABdv2IADEBrv8h/1r/ogFu/jMAuP/N+m79Cv9UAxoEjgOGBFT+9vyC/ib90PyV/83/Bf76BKwDA/9VAj79cvjQ+1P/zf+NBKwHlgETAKz7C/bQ+bH/vARiBbMG3ACe95f3kfeT/AMGAwxwD8IOugsNA7H9MP2I+cb6EgEjAYcBHgMl/YH6fPhW9vH7ov6rAS0GcQQKAc/8Ofnc+KL/WgKSBH8JfwSz/7T64vRJ+LX8WwIEBzwIawNd+6z6JflT/kEFyQMZBboCevuI+1L88/um/wYC3wA1AqkBqvyy/Rv9pfnv/r4D3gQdC50OfQzZCzcHuv77/wX/SfxgAioBJgFcAoL7BvcA9fv0jfjb/3sESgNQBK7/6fqg+7j6igDGAnQBIgJr/SX7Gvry93P43PUH9EXz8/exAMgIdBNdExURrgw6AGP/AABB/rcFsQaMA1n/F/gq9v/3kf3IAVkDzgIV/Nr2t/Zc+DX/igmcDx8ShxR+D/kHCQjSBgYHKwmNAdH3v++b6hjsOPIF/fMDdgVMBVj+RPmI+ab7pADSAiIE9QIs/rT8Ffqk+OL1S/BA7NDnDesa8bP6iQghDoQNeg0YBvUAwQOqA8gIBg+RCroFlgQk/un+uANaAkEC//7B9m/2S/Rd80T8Wf6VA9kMdhDrGOkinR+4GtMU3Al2AGb3M+uV4djfdeBc7Hn7XgaJDzMOUQSS+tTzBvZt/4QJkg9JDxMFDfmR783omOqG8ID1XfpW+mH1i/RR9xr7lgHGBe0BQgOG/838dwXPCoASXR1wHloW1Qy4/rzyfu/a8LH3jQbrC2gKrgiA+gTzEvV+/EURBybPLrssFByf/mrlGtag0jLgwfP/BfQU1BANBX/5J+3i7KzznvxYBd0HRANL++/0zu9y8mH62//aBUMDsfuK9jbt1+ju7C72tgSTFP4ZqhXeDPX7svHa8TL3kgepGbkdahuvCsjyL+mq66H7+xEPJXgm0RZSAKrrNdx132/w2QUpI44tkiymHrEDXvIs5eHlbe9p9zECNwUtAaP4Ue8s7M7rmfJB+vIARQkCCLkFFf5h8qzuqOqv77n40/xWBAwDjvr68rLuZPbHA5saPCi2JRYYQPxw4xfR5tEH41sAIxweLlksiBlOCcn4af/qCTcQ7RWaCtz1s+aZ29LhDfwvFSstwDImIvsJJu813QTgQu8HA6YQthD6A9j0zefz44ztcfd0A78IMgdTAZ36a/bR86z3qvu0Ar4JUQm6BFn7eewU4BPc3+KU9/IOaSYVNOot/B2PATLqC9q30yzb6OunAM4TvibKK28riCUPHYoQswKQ94jupebA44Dn8O4f/woNXhmvG7wUKAvB/SL1s/Oe+Er+cAGTAHn4Y/CH6wTsEPbL/50JTA33BMn7ofL26rnvOPnhAJEJWwXh+UbvReex53HzxgIkDmQbCRkZEQYMMP8l/ZD7xfdE9gvwmOie6Hvwaf2RF6sqZDM7OrUrExRLAIrrV+Rl4+3neO669bf9OgSpEgsZ/iA1IkESHgM88YjlyeQj7CX2LQJaB8gDgwAs+WL1BPZE+Vb5Ufnm9tvzG/h6/SEDygZSAaX0/upC5NnnNvqYDesd2SKLF8YIqPsM99L7vgQWCVv/Xu6z2cHQUNxf+R0gW0EGTmVDJyqZAWDo2uD24sz0zPyl+lL2Zu+e8N394BLiIUEpNxs5BA3xzuPq6OT2hQncDVkKu/py7GTqquwn+iQGoAjLARD1Uegn6H7wBwAzDggR+Aay9F/nNeOk8UYHYB02KtMfmAsd9OvlPel3+wwPDBaVCq/tu9SwziThpAt9POVVKFWvNTwAx9f7xIrNpuyXC1kbnhqiCJPzH+lL6736MA69GRoZsw01/3r1Pfc+AGAGbwrOBPb64fIp6vfqqO0Z8NryG/Ju9W/9HAZODoYSpAhj94Dl69rT4aL1fRD4JFUsFh8OBsjxGefp8U4F5RVuFlb/490Fw5LAoOC1GDdNvmlTX1IxO/i0zGW8uc+78vYTOyMQGWgBterM32zlUPqcEBcfFyCsFdIENfr39pr6jQJZA08BpfrP9cr17fY7+JL1ju+06BzsgvcBBH4TgRRYB+rzF9ue1G7iKP9CIzE67zYfH8v7Rd7F3EDufwZvHJgSD/UY0Wi4bMEB7pAu/mJpftJhdyhU6U+63bSGzlf3sxfpJWcZCgIS8l7nkfDu/SwGYg0BBSn/2/ns+e0A7QguDpIMowYu+qP13vLW8V/1B/BL7BLniOgL9c0B3RAjFIoOHQJr8F3qW/D7AicaQChDI0gMKu/717fZJfCAEEYnmiUECq7dZL2Ety3WnBWNUCZ2Vm+HOgj7o8Z7sJHCf+oSE1EvaizrFq/7ueLT3tnoqvmbC9UPzwyfBD/7p/mc/iQFMQsxDRAHsP6N9cLrmOfu5V7nyu2/9TMAogcaDK0JcwNV+6T1K/e6/XIL/RAQEHUFvvDp5V7mw/bNEZMo0StXFZrsWMGzreC9d/N6NSNv/383XlIjUOAXuMm2CtJm+4kdJyfHF2T/nuTp2j7l1/euDgEZaBkCDSwB8/gI93b+qwZlDA4MbAhaAPP6/vRk7tDo0eC932DmrfSwBosVAhoMEP0AIfE17HX0JAY7F0oeDxe4AJfp1NwT4rL3chFDIBcZc/xA2ynGiskk8D8i+FCjaahUlSgJ8+7LCsXQ2Fb5jhZMIjwWaQVE7irkq+og9TgGywzzC/4CTPuK9x/5ugD7BzwOPw1kCWMA8fW+7WPl6eFC4KPkze/K/IcNoRaJFyEPzAAx9cLuvPcNBmQTsBlWDmL5LeTK2bfjzf1DGNInwCENA5XfVMXjxoPn1xrbSSpe1VLNJur219MwynXf7P2QGlolnxZNAc/qjeAt6w37RwqUD2EIr/lK8E/vyPftCNoVnxx9F1YJdPpd7bnmheYC6wfuQPBA8470Bv1yB3wQkhSmEBUFsPd38vfx9/wjCAQKXAXt97rrYe6p+9QNNx3tFyAByuNWy4LRVu+QIE9Ro2B7U7Ikru4LyevBSNfq+twclCWoGYv8Id4j1RbgmfiKE2AelxgUBvbxCuh67un+SRJcH3AdwBJI/+PtlOTR4dTkSOkR7UbwO/gJBIoO1xfgFIkK6fxl85P0gv4VDtsUcBFgALvryt9M5GX3jQ7KGg8UePwM3/TO3tj9+GUmO0smURg+2xYj7wraGtta7lYImBgDGLMJC/Ut6KboK/JiAO0KcAtbBbL6dfIe8av4gAJiDGwRExAcCXT8G/Oi6mTlo+Rx5VDpafHP/asKqhSOF8gPCQVT+QX1mvioAWYLtg1vBxT5M+vn44rrJvsyD0wa8xLt/vHjCNZz3aD5YyNgRd1OTj3OFrbu6djf2X7tfQhrGNAWBQfd8aLlOOfy8QsDdA5pDIQFr/hq79fw3vlBBPENShPYENcLkAOV+DLvDOgV5BHm0+pc9KUA6AkHEVsTIA6RBjz87PRN9Gj6rwMpCToJnP3y8Tfqoup0+QoKpBO7Dzz89uSk2qviLAD2J9pInlGlO5MVoe/J3Gvc+OxTAzcNSAyV/VrsW+YN6gX1fQGGCRoIpgL8+/D48fqMAXkKqw6YEhMQSwi4/6D0buzO6PHnpeqz7oj0pPv9Ak4K/QzjDo4MtQWo/876n/0QAwAHZwe+/T30UO2B63P1kgLQCqcIjvzj6onh3+e2/LMbnDcQQ6k1TxrA/e7svev29bsErA28C3YAC/Ra65XsI/LS913/XQL0AakAAP5v+pf7oP8lBCYLmA0uC3YDo/az67Xl0eUO7Vj30f8CBMkDBgLTAlUHYAvSDDsIi/+Z+WP25Pnp/wgBMP5o9Sruf+7/91MHEw8fC4P67Oiv5FXyuhBxMFJCRjzXIpAEpu4w6YrwtP6OC90LXANo9jDoC+XU6+D3eAb2Cw0Hkf6n9Wrya/c8AqsLpxPaFqoPVwIQ8tzodunV7YX1Cfvk+yH8ePtY/SoDLwpwDxsNdAPQ+Onx6fPX/TgHrQkhAvrzSeig5+Dwd//FCOMEWPtK8pnyVwQ0IB08aUW7NBoXavcd5WjkMvHKAvkJnwSO+T/x9O9N8kn3Mfvx+/r6gvqV/j8EQQhxCQwHfwNbA+8GxQjUBb/7BfAD6p7pdO949wr9kQFpApkBiQNsBXsJLgurCB4GLgGU/oP+xP3X/ND39/Kr8KHxavjW/Rz/x/n38WHvjPPnAQMVMidAMiItux2WCzP84vZs+Yj/pwM/AK33ivBR7xv0Af34A8MEMgBU+Jjza/VN/EgFBwrPCLwECgAZ/noAXwPGA1b/qPdK8YvuefIj++YCOwb3Al7+7PxC/ecB7wiUDN4JOQFy9tjvXvBT90kA/QStBAH/lfh39rv59QBpCNYM/g2/DacOxw4jC9oGVgN4AbYB8QLMAnz/Qvh18RrwofT4/cAGwgrHBwj/1feU9u36GgKiBx0KfAjsA1sAF/7R/mj/4vxa+bn0RPNc9vX5tfsq+sn3O/gC+9b/GQTzBd0E7QBX/ZD6afpC/swDUQdyBswDvgGHAS4EWQdbCiQLzwj+BfUB2P6r/ioBNgUFB50FugF5/JL5UfrR/Pn+aQAGAe3/b/50/ugAHwRVB14JMAcfAqT99Po0+ov6tvp8+T/3yfXt9S74vPrA/ToB+wGf/9D8EPzI/agA1wMkBckCTf5J+wv7Xfx4/7MCFAQiA5MAwf3S+2L8dP6aAA0CKQKhAxIFcgUTBpAEvwLQAfMAmgBxAMP/of7u/d38T/xJ/hcAUQIeBdsFYgVmBEoEBQRBA5wBGP9P/Af6m/lW+kf78/u2/AX99vyP/NP8H/7w/rf/YwAtAAEBlwLaA1AEygKxAcEB+AF7AscBGQAX/wv+E/1d/OP7Bvzc/BH+EP+ZAEMBLAFHAo4CXwGnAD0A7v/W/9L/TADyAPsBdAJDAtoC5wIVBHQGuQZfBRADJgFfADT/iP6E/dv6zfgp+Bj4O/hT+c35z/mO+QH4I/hL+d76Zf00/ob+XP8LAGYB3wLDBBoGdQZjBrMFxQO1AVgCswMnBHcE8gM4A3EDvwM7BGkFhAU9BTcFQASGA8EC2gHlANj+fv0Y/ZP87PzB/c/9s/1m/mn/UAGIAsICVAO1AhQCNgIEAvsAFv+U/F36PPnD+Ef48feg9yn3w/dE+TP7L/12/mv/7f80AB8BmgGYAUsCDwK3AB3/Wf4d/g39Y/xH/Kb7e/sF/Uj+KP/rAEcDLAWgBkQIMgmwCc8J4ghNBiAD4gCB/2T+gf1F/V39Of1W/UP+Nv84AdwDEAbWB9AI3QcyBlgFGQSrA1ICWv9k/R37K/hU9yj3zvZX94r3AfhO+bj6YPz8/cX+a/+q/9b/XwFzAlwBOwCO/+/9DP0x/Nv6/Pk4+cj5+fr3+4z9Pv+BAL0CngVWB6YIWwlqCK0GGwVkA+sBXACe/+T+F/1E/T/+Uf4l/wEANgB9AYwCkAPiBJgEcwRtA2EBogBn/4P+NP4Y/LX5bvi09yP4S/l++r77UfxV/Un/kgC8AbUC8gKzAzcE8wN1A0wCwABf/0b+kP1+/EX8Cv0Q/Tf+CgCXAeUDlgVkB18JtwmJCeQIgQYYBEQCUACS/rv8IvuX+sb6GPul+zL8Ev0a/qP+2/8+AZwB1QGiAcH/2P0K/Un8Kvwx/Eb70Pk8+FX3Ovh6+QL7C/20/Yb+0v9xAMkBFQN4A0EE7gMgA54CYAEuAGv+lPzZ+wX8//wL/or+Fv8FADMBmQPuBu4IswmmCeIIhQi5B3MFeAPYAQoAQv+H/q39EP1H/Ln8sv1g/tz/xQAnAdgBqwFXAdMAKv/0/Q79pvu5+jD6c/l2+Gr3Xfcc+Ob4+/pV/SH+Hv81ANQAjAG7AdwB+QFkAeYABwCM/sP9af1B/dv9N/9AAJ8AUwEyAiMDbAQIBoMHYAcNB6EHOQdxBh0GhQSGAqYBWAFYAfoAzf+D/h/+6/5kAH4BKwJ5AmcCvgKBAooBDQGXAEv/zv0W/Mj5WPjE93H3ZPdY91z31PfF+Dj6uvva/MP9p/5z/wYAQAD//9f/Pv9s/jb+7/34/YL+1/6K/xcAZwBvAhgFaAaHB+EHDwcEB+4HqQiYB0QFhgMeArYAMAAMAEz/8f5W/3P/r/+jAAQCFgOfA/sD8gOeAxIDoQIwAiQBpv9W/tL8SPtn+kX5OvjZ98X3F/gK+RP6NvuG/Bz9zf2a/mT/GgGFAaUAAwAQ/3D+G/7Z/cD96vwu/Jr8/PxY/fn+hAH4AhcDjQPSBMEGLglVCuEIWgaKBFUExQSSBG8DrgHv/3H/mf9m/5EAcgFLATIC6QLYArwCDwJkASYBjgCV/7X+K/1M+/T5Xfg09832F/eH97j3w/is+X36QvyM/V3+a/96ACgB3AAaALf/2P8DADYAIQCd/kn9PP3W/rEBwwKUA34EPQTSBFsG7QinC2YLBAktB0oFEQQ/BBUE+QET/zT9fvzm/IH98/09/tD9U/6s/6cA2AE8AsMBwAD3/3j/tf7J/RP8fvoC+ZP3dPfS99H3ePgb+hP7HPx2/t3/sACoASICiwLQApcCqQGZAET/yv5C//n+1P5t/n7+LABzAd8CUQSpBGwFNQfVCFMJggloCR4IUAb3BDAE2gMaA5UC7AGp/3/+J//S/20AsgCaACsAiP9W/2b/Hv9R/n/9pPyb+yb69Pic+Dz4Jvhl+Bj4+/d/+If5kPpm+wb98/02/gf/S/8z/z8AVwFfAVkBtwAqAJgAngCLAIIAlgDVAasCzQJdA4QDGATYBQoHTAdtB+MH/gcoB+oFPAWjBDwDhQJ0Adb/jf+c/8H/Rv/4/cf9IP48/pv+Bf/U/mH+L/5b/cv8svzX+1n76/pD+iT60vm9+SX6mvoP+9r7s/zW/E398P1u/mn/cgBFAboBpAFSAV0B0QGkAh4DsAIUAvEBFwJhAg4DkAPwA3kE6AQmBUwFgwVfBaYE3gO3A34DCQPkAuMBhQDp/5r/gf8t/4r+Hv6B/QP9Qf20/b/9kP0f/Zr8rfwn/d38GPyF+7f6MPpd+sb6J/v3+sn6OPta+xT8uP3s/sH/vQAXAQ8B7wEiA8YD5QPfA+IDPAN9AsgC0wIbApQBgQG4AcgBHgKNApwC8gK4A3AEjwRCBOcDcwPjAi0CmAFgAQEBEwB//j398Pzk/CL9pP2+/cP97f37/WP+9/58/7P/Xv+F/qL9Ff3P/OD8NfwS+9/6Cfst+4D7TPzX/V3/HgARAeQBEQIuA4kE5ATDBMkETwR/A6YC4QHMAS8BmAC9ADkAe//H/0AAfAD9AJQBXgJTAuwBWAJoAqQB4wCfAOD/Hf/X/kD+h/3+/N78Jf2T/Sn+JP+T/2z/kP+Y/5H/w//X/zz/ev4u/vb9ff3P/Lz8eP27/cL9Tf4W////GgEzAgMDFwPfApsD9wPzAwcExANJA5UCtgETAQcBvACUAIYAvP8j/6P/BAAMACUAgv8Z/zj/hP8zAEYAof+O/73/Vv89/5T/0P/O/+v/LwAYAIT/dP8hAGIALwDV/03/0f6H/n/+Ev4//Rf9Wv2C/X/9Sv3b/d/+Xv/B//P/MQCzAHMBCwJRAscBugF2AokCeAJhAi0CoQEtARoBzwCdAEgAuf/n/+f/r/+c/9z/IQD6/93/tv+I/87/EQC9/03/Gf9b/wf/3P7z/vH+gf+d/7X/qf8Q/yz//P+RAK4AwACKAMb/l/+4/zX/LP+W//j/IwAC/57+1v94AMQA7QCKAIIAFwFLAT0BygB3ANUArwBdAFUAPAD9/0cAVgCB/2z/cf9+/8j/o/+W/5T/gP+r/93/CQD7/6z/ev+F/wwAxv83/zL/Af/8/kb/lv/B/+P/FACk/6n/NADEAGABLgHUAMkA6gDeAN0AhAAfABYA\" type=\"audio/wav\" />\n",
       "                    Your browser does not support the audio element.\n",
       "                </audio>\n",
       "              "
      ],
      "text/plain": [
       "<IPython.lib.display.Audio object>"
      ]
     },
     "execution_count": 9,
     "metadata": {},
     "output_type": "execute_result"
    }
   ],
   "source": [
    "# ISTFT 변환\n",
    "def spec2wav(spec):\n",
    "    inv_stft = librosa.istft(spec) \n",
    "    return inv_stft\n",
    "\n",
    "# # 모든 스펙트럼 데이터 ISTFT 변환\n",
    "# sound_data = []\n",
    "# for spec in spec_data:\n",
    "#     wav = spec2wav(spec)\n",
    "#     sound_data.append(wav)\n",
    "    \n",
    "# sound_data = np.array(sound_data)\n",
    "# print(sound_data.shape)\n",
    "\n",
    "\n",
    "# 랜덤으로 뽑은 스펙트럼 데이터 1개를 ISTFT 변환\n",
    "# sound_one = sound_data[rand]\n",
    "sound_one = np.array(spec2wav(spec_data[rand]))\n",
    "print(sound_one.shape)\n",
    "\n",
    "# 스펙트럼 데이터 ISTFT 변환 후 음성 확인 \n",
    "print(\"label : \", inv_label_value.get(label_data[rand]))\n",
    "\n",
    "sr = 8000      \n",
    "ipd.Audio(sound_one, rate=sr)"
   ]
  },
  {
   "cell_type": "code",
   "execution_count": 10,
   "id": "recovered-tender",
   "metadata": {},
   "outputs": [
    {
     "name": "stdout",
     "output_type": "stream",
     "text": [
      "(50620, 130, 126)\n",
      "(130, 126)\n",
      "(8000,)\n"
     ]
    }
   ],
   "source": [
    "print(spec_data.shape)\n",
    "print(spec_data[rand].shape)\n",
    "print(spec2wav(spec_data[rand]).shape)"
   ]
  },
  {
   "cell_type": "markdown",
   "id": "separated-lottery",
   "metadata": {},
   "source": [
    "### 1-4. 학습을 위한 데이터 분리"
   ]
  },
  {
   "cell_type": "code",
   "execution_count": 11,
   "id": "superior-hartford",
   "metadata": {},
   "outputs": [],
   "source": [
    "from sklearn.model_selection import train_test_split\n",
    "\n",
    "# train / test 데이터셋 분리\n",
    "train_wav, test_wav, train_label, test_label = train_test_split(spec_data, \n",
    "                                                                label_data, \n",
    "                                                                test_size=0.1,\n",
    "                                                                shuffle=True)"
   ]
  },
  {
   "cell_type": "code",
   "execution_count": 12,
   "id": "virgin-music",
   "metadata": {},
   "outputs": [],
   "source": [
    "# 메모리 버퍼 삭제\n",
    "del spec_data"
   ]
  },
  {
   "cell_type": "code",
   "execution_count": 13,
   "id": "jewish-synthesis",
   "metadata": {},
   "outputs": [
    {
     "name": "stdout",
     "output_type": "stream",
     "text": [
      "train_wav : (41002, 130, 126)\n",
      "test_wav : (5062, 130, 126)\n"
     ]
    }
   ],
   "source": [
    "# train / validation 데이터셋 분리\n",
    "train_wav, valid_wav, train_label, valid_label = train_test_split(train_wav, \n",
    "                                                                train_label, \n",
    "                                                                test_size=0.1,\n",
    "                                                                shuffle=True)\n",
    "\n",
    "print('train_wav :', train_wav.shape)\n",
    "# print('valid_wav :', valid_wav.shape)\n",
    "print('test_wav :', test_wav.shape)"
   ]
  },
  {
   "cell_type": "markdown",
   "id": "increased-membership",
   "metadata": {},
   "source": [
    "### 1-5. spec_data 1개 spectrogram 그려보기"
   ]
  },
  {
   "cell_type": "code",
   "execution_count": 14,
   "id": "alpine-campaign",
   "metadata": {},
   "outputs": [
    {
     "data": {
      "image/png": "[encoded data removed]",
      "text/plain": [
       "<Figure size 432x288 with 2 Axes>"
      ]
     },
     "metadata": {
      "needs_background": "light"
     },
     "output_type": "display_data"
    }
   ],
   "source": [
    "import librosa.display\n",
    "\n",
    "# magnitude -> Decibels\n",
    "log_spectrogram = librosa.amplitude_to_db(spec_one, ref=np.max)\n",
    "\n",
    "# display spectrogram\n",
    "librosa.display.specshow(log_spectrogram,sr=sr)  # x_axis='time'\n",
    "\n",
    "plt.title('Power spectrogram (dB)')\n",
    "plt.xlabel(\"Time\")\n",
    "plt.ylabel(\"Frequency\")\n",
    "plt.colorbar(format='%+2.0f dB')\n",
    "plt.xticks(range(0, 1))\n",
    "plt.tight_layout()\n",
    "plt.show()"
   ]
  },
  {
   "cell_type": "markdown",
   "id": "moving-baking",
   "metadata": {},
   "source": [
    "## 2. 학습을 위한 하이퍼파라미터 설정"
   ]
  },
  {
   "cell_type": "code",
   "execution_count": 15,
   "id": "included-geometry",
   "metadata": {},
   "outputs": [],
   "source": [
    "batch_size = 32\n",
    "max_epochs = 10    # 10\n"
   ]
  },
  {
   "cell_type": "markdown",
   "id": "average-biography",
   "metadata": {},
   "source": [
    "## 3. 데이터셋 구성\n",
    "* `tf.data.Dataset`을 이용\n",
    "* `from_tensor_slices 함수`에 return 받길 원하는 데이터를 튜플 (data, label) 형태로 넣어서 사용\n",
    "* `map과 batch`를 이용한 데이터 전처리"
   ]
  },
  {
   "cell_type": "code",
   "execution_count": 16,
   "id": "available-flood",
   "metadata": {},
   "outputs": [],
   "source": [
    "def one_hot_label(wav, label):\n",
    "    # 레이블 개수(12개)의 one-hot인코딩 \n",
    "    num_label = len(label_value)\n",
    "    label = tf.one_hot(label, depth=num_label)\n",
    "    return wav, label"
   ]
  },
  {
   "cell_type": "code",
   "execution_count": 17,
   "id": "arctic-helena",
   "metadata": {},
   "outputs": [
    {
     "name": "stdout",
     "output_type": "stream",
     "text": [
      "<BatchDataset shapes: ((None, 130, 126), (None, 12)), types: (tf.float32, tf.float32)>\n",
      "<BatchDataset shapes: ((None, 130, 126), (None, 12)), types: (tf.float32, tf.float32)>\n",
      "<BatchDataset shapes: ((None, 130, 126), (None, 12)), types: (tf.float32, tf.float32)>\n"
     ]
    }
   ],
   "source": [
    "import tensorflow as tf\n",
    "\n",
    "# for train\n",
    "train_dataset = tf.data.Dataset.from_tensor_slices((train_wav, train_label))  # 입력된 텐서로부터 slices를 생성\n",
    "train_dataset = train_dataset.map(one_hot_label)\n",
    "train_dataset = train_dataset.repeat().batch(batch_size=batch_size)\n",
    "print(train_dataset)\n",
    "\n",
    "# for validation\n",
    "valid_dataset = tf.data.Dataset.from_tensor_slices((valid_wav, valid_label))  # 입력된 텐서로부터 slices를 생성\n",
    "valid_dataset = valid_dataset.map(one_hot_label)\n",
    "valid_dataset = valid_dataset.batch(batch_size=batch_size)\n",
    "print(valid_dataset)\n",
    "\n",
    "# for test\n",
    "test_dataset = tf.data.Dataset.from_tensor_slices((test_wav, test_label))\n",
    "test_dataset = test_dataset.map(one_hot_label)\n",
    "test_dataset = test_dataset.batch(batch_size=batch_size)  # test_dataset에서는 repeat() 수행하지 않음\n",
    "print(test_dataset)"
   ]
  },
  {
   "cell_type": "markdown",
   "id": "incoming-carnival",
   "metadata": {},
   "source": [
    "## 4. 2차원 Spectrogram 데이터를 처리하는 모델 구성\n",
    "* **2차원 Spectrogram 데이터**의 시간축 방향으로 **Conv1D layer**를 적용, 혹은 **Conv2D layer**를 적용 가능\n",
    "* **batchnorm, dropout, dense layer** 등을 이용\n",
    "* 12개의 단어 class를 구분하는 loss를 사용하고 **Adam optimizer**를 사용\n",
    "* 모델 가중치를 저장하는 **`checkpoint callback 함수`** 추가\n",
    "* 다양한 모델의 실험을 진행해 보시기 바랍니다."
   ]
  },
  {
   "cell_type": "markdown",
   "id": "pleased-fetish",
   "metadata": {},
   "source": [
    "### 4-1. Skip-Connection model 사용"
   ]
  },
  {
   "cell_type": "code",
   "execution_count": 18,
   "id": "capital-disney",
   "metadata": {},
   "outputs": [
    {
     "name": "stdout",
     "output_type": "stream",
     "text": [
      "Model: \"model\"\n",
      "__________________________________________________________________________________________________\n",
      "Layer (type)                    Output Shape         Param #     Connected to                     \n",
      "==================================================================================================\n",
      "input_1 (InputLayer)            [(None, 130, 126, 1) 0                                            \n",
      "__________________________________________________________________________________________________\n",
      "conv2d (Conv2D)                 (None, 130, 126, 32) 2624        input_1[0][0]                    \n",
      "__________________________________________________________________________________________________\n",
      "conv2d_1 (Conv2D)               (None, 130, 126, 32) 82976       conv2d[0][0]                     \n",
      "__________________________________________________________________________________________________\n",
      "max_pooling2d (MaxPooling2D)    (None, 65, 63, 32)   0           conv2d_1[0][0]                   \n",
      "__________________________________________________________________________________________________\n",
      "conv2d_2 (Conv2D)               (None, 65, 63, 64)   165952      max_pooling2d[0][0]              \n",
      "__________________________________________________________________________________________________\n",
      "conv2d_3 (Conv2D)               (None, 65, 63, 64)   331840      conv2d_2[0][0]                   \n",
      "__________________________________________________________________________________________________\n",
      "tf_op_layer_concat (TensorFlowO [(None, 65, 63, 96)] 0           conv2d_3[0][0]                   \n",
      "                                                                 max_pooling2d[0][0]              \n",
      "__________________________________________________________________________________________________\n",
      "max_pooling2d_1 (MaxPooling2D)  (None, 32, 31, 96)   0           tf_op_layer_concat[0][0]         \n",
      "__________________________________________________________________________________________________\n",
      "conv2d_4 (Conv2D)               (None, 32, 31, 128)  995456      max_pooling2d_1[0][0]            \n",
      "__________________________________________________________________________________________________\n",
      "conv2d_5 (Conv2D)               (None, 32, 31, 128)  1327232     conv2d_4[0][0]                   \n",
      "__________________________________________________________________________________________________\n",
      "conv2d_6 (Conv2D)               (None, 32, 31, 128)  1327232     conv2d_5[0][0]                   \n",
      "__________________________________________________________________________________________________\n",
      "tf_op_layer_concat_1 (TensorFlo [(None, 32, 31, 224) 0           conv2d_6[0][0]                   \n",
      "                                                                 max_pooling2d_1[0][0]            \n",
      "__________________________________________________________________________________________________\n",
      "max_pooling2d_2 (MaxPooling2D)  (None, 16, 15, 224)  0           tf_op_layer_concat_1[0][0]       \n",
      "__________________________________________________________________________________________________\n",
      "conv2d_7 (Conv2D)               (None, 16, 15, 256)  4645120     max_pooling2d_2[0][0]            \n",
      "__________________________________________________________________________________________________\n",
      "conv2d_8 (Conv2D)               (None, 16, 15, 256)  5308672     conv2d_7[0][0]                   \n",
      "__________________________________________________________________________________________________\n",
      "conv2d_9 (Conv2D)               (None, 16, 15, 256)  5308672     conv2d_8[0][0]                   \n",
      "__________________________________________________________________________________________________\n",
      "tf_op_layer_concat_2 (TensorFlo [(None, 16, 15, 480) 0           conv2d_9[0][0]                   \n",
      "                                                                 max_pooling2d_2[0][0]            \n",
      "__________________________________________________________________________________________________\n",
      "max_pooling2d_3 (MaxPooling2D)  (None, 8, 7, 480)    0           tf_op_layer_concat_2[0][0]       \n",
      "__________________________________________________________________________________________________\n",
      "dropout (Dropout)               (None, 8, 7, 480)    0           max_pooling2d_3[0][0]            \n",
      "__________________________________________________________________________________________________\n",
      "flatten (Flatten)               (None, 26880)        0           dropout[0][0]                    \n",
      "__________________________________________________________________________________________________\n",
      "dense (Dense)                   (None, 256)          6881536     flatten[0][0]                    \n",
      "__________________________________________________________________________________________________\n",
      "batch_normalization (BatchNorma (None, 256)          1024        dense[0][0]                      \n",
      "__________________________________________________________________________________________________\n",
      "activation (Activation)         (None, 256)          0           batch_normalization[0][0]        \n",
      "__________________________________________________________________________________________________\n",
      "dense_1 (Dense)                 (None, 12)           3084        activation[0][0]                 \n",
      "==================================================================================================\n",
      "Total params: 26,381,420\n",
      "Trainable params: 26,380,908\n",
      "Non-trainable params: 512\n",
      "__________________________________________________________________________________________________\n"
     ]
    }
   ],
   "source": [
    "# Skip-Connection model에 Conv2D 사용\n",
    "from tensorflow.keras import layers\n",
    "\n",
    "input_tensor = layers.Input(shape=(spec_one.shape[0], spec_one.shape[1], 1))\n",
    "\n",
    "x = layers.Conv2D(32, 9, padding='same', activation='relu')(input_tensor)\n",
    "x = layers.Conv2D(32, 9, padding='same', activation='relu')(x)\n",
    "skip_1 = layers.MaxPool2D()(x)\n",
    "\n",
    "x = layers.Conv2D(64, 9, padding='same', activation='relu')(skip_1)\n",
    "x = layers.Conv2D(64, 9, padding='same', activation='relu')(x)\n",
    "x = tf.concat([x, skip_1], -1)\n",
    "skip_2 = layers.MaxPool2D()(x)\n",
    "\n",
    "x = layers.Conv2D(128, 9, padding='same', activation='relu')(skip_2)\n",
    "x = layers.Conv2D(128, 9, padding='same', activation='relu')(x)\n",
    "x = layers.Conv2D(128, 9, padding='same', activation='relu')(x)\n",
    "x = tf.concat([x, skip_2], -1)\n",
    "skip_3 = layers.MaxPool2D()(x)\n",
    "\n",
    "x = layers.Conv2D(256, 9, padding='same', activation='relu')(skip_3)\n",
    "x = layers.Conv2D(256, 9, padding='same', activation='relu')(x)\n",
    "x = layers.Conv2D(256, 9, padding='same', activation='relu')(x)\n",
    "x = tf.concat([x, skip_3], -1)\n",
    "x = layers.MaxPool2D()(x)\n",
    "x = layers.Dropout(0.3)(x)\n",
    "\n",
    "x = layers.Flatten()(x)\n",
    "x = layers.Dense(256)(x)\n",
    "x = layers.BatchNormalization()(x)\n",
    "x = layers.Activation('relu')(x)\n",
    "\n",
    "output_tensor = layers.Dense(12)(x)\n",
    "\n",
    "model_wav_skip = tf.keras.Model(input_tensor, output_tensor)\n",
    "\n",
    "model_wav_skip.summary()"
   ]
  },
  {
   "cell_type": "markdown",
   "id": "saving-camcorder",
   "metadata": {},
   "source": [
    "### 4-2. Loss"
   ]
  },
  {
   "cell_type": "code",
   "execution_count": 19,
   "id": "divided-garlic",
   "metadata": {},
   "outputs": [],
   "source": [
    "# 손실 최적화 모델 설정\n",
    "optimizer=tf.keras.optimizers.Adam(1e-4)\n",
    "\n",
    "# 모델 훈련 설정\n",
    "model_wav_skip.compile(loss=tf.keras.losses.CategoricalCrossentropy(from_logits=True),\n",
    "             optimizer=optimizer,\n",
    "             metrics=['accuracy'])"
   ]
  },
  {
   "cell_type": "markdown",
   "id": "floating-lottery",
   "metadata": {},
   "source": [
    "### 4-3. validation loss 모니터\n",
    "* model.fit 함수를 이용할 때, callback 함수를 이용해서 학습 중간 중간 원하는 동작을 하도록 설정\n",
    "* 모델을 재사용하기위해서 모델 가중치를 저장하는 callback 함수를 추가"
   ]
  },
  {
   "cell_type": "code",
   "execution_count": 20,
   "id": "chemical-queens",
   "metadata": {},
   "outputs": [
    {
     "name": "stdout",
     "output_type": "stream",
     "text": [
      "/home/aiffel-d34j/aiffel/speech_recognition/models/wav_skip\n"
     ]
    }
   ],
   "source": [
    "# save checkpoint\n",
    "MODEL_SAVE_FOLDER_PATH = os.getenv('HOME') + '/aiffel/speech_recognition/models/wav_skip'\n",
    "\n",
    "if not os.path.exists(MODEL_SAVE_FOLDER_PATH):\n",
    "  os.mkdir(MODEL_SAVE_FOLDER_PATH)\n",
    "\n",
    "print(MODEL_SAVE_FOLDER_PATH)\n",
    "\n",
    "# model_path = MODEL_SAVE_FOLDER_PATH + '{epoch:02d}-{val_loss:.4f}.hdf5'\n",
    "\n",
    "# loss가 낮아지면 모델 파라미터를 저장\n",
    "cp_callback = tf.keras.callbacks.ModelCheckpoint(MODEL_SAVE_FOLDER_PATH,\n",
    "                                                 save_weights_only=True,\n",
    "                                                 monitor='val_loss',\n",
    "                                                 mode='auto',\n",
    "                                                 save_best_only=True,\n",
    "                                                 verbose=1)"
   ]
  },
  {
   "cell_type": "markdown",
   "id": "yellow-david",
   "metadata": {},
   "source": [
    "### 4-4. 모델 훈련"
   ]
  },
  {
   "cell_type": "code",
   "execution_count": 21,
   "id": "sound-elite",
   "metadata": {},
   "outputs": [
    {
     "name": "stdout",
     "output_type": "stream",
     "text": [
      "Epoch 1/10\n",
      "1281/1281 [==============================] - ETA: 0s - loss: 0.7257 - accuracy: 0.7629\n",
      "Epoch 00001: val_loss improved from inf to 0.27188, saving model to /home/aiffel-d34j/aiffel/speech_recognition/models/wav_skip\n",
      "1281/1281 [==============================] - 192s 150ms/step - loss: 0.7257 - accuracy: 0.7629 - val_loss: 0.2719 - val_accuracy: 0.9133\n",
      "Epoch 2/10\n",
      "1281/1281 [==============================] - ETA: 0s - loss: 0.2190 - accuracy: 0.9295\n",
      "Epoch 00002: val_loss improved from 0.27188 to 0.19611, saving model to /home/aiffel-d34j/aiffel/speech_recognition/models/wav_skip\n",
      "1281/1281 [==============================] - 194s 151ms/step - loss: 0.2190 - accuracy: 0.9295 - val_loss: 0.1961 - val_accuracy: 0.9344\n",
      "Epoch 3/10\n",
      "1281/1281 [==============================] - ETA: 0s - loss: 0.1398 - accuracy: 0.9546\n",
      "Epoch 00003: val_loss improved from 0.19611 to 0.14629, saving model to /home/aiffel-d34j/aiffel/speech_recognition/models/wav_skip\n",
      "1281/1281 [==============================] - 194s 151ms/step - loss: 0.1398 - accuracy: 0.9546 - val_loss: 0.1463 - val_accuracy: 0.9533\n",
      "Epoch 4/10\n",
      "1281/1281 [==============================] - ETA: 0s - loss: 0.1062 - accuracy: 0.9651\n",
      "Epoch 00004: val_loss did not improve from 0.14629\n",
      "1281/1281 [==============================] - 193s 151ms/step - loss: 0.1062 - accuracy: 0.9651 - val_loss: 0.1791 - val_accuracy: 0.9401\n",
      "Epoch 5/10\n",
      "1281/1281 [==============================] - ETA: 0s - loss: 0.0859 - accuracy: 0.9712\n",
      "Epoch 00005: val_loss improved from 0.14629 to 0.14526, saving model to /home/aiffel-d34j/aiffel/speech_recognition/models/wav_skip\n",
      "1281/1281 [==============================] - 194s 152ms/step - loss: 0.0859 - accuracy: 0.9712 - val_loss: 0.1453 - val_accuracy: 0.9536\n",
      "Epoch 6/10\n",
      "1281/1281 [==============================] - ETA: 0s - loss: 0.0753 - accuracy: 0.9747\n",
      "Epoch 00006: val_loss improved from 0.14526 to 0.13154, saving model to /home/aiffel-d34j/aiffel/speech_recognition/models/wav_skip\n",
      "1281/1281 [==============================] - 194s 152ms/step - loss: 0.0753 - accuracy: 0.9747 - val_loss: 0.1315 - val_accuracy: 0.9582\n",
      "Epoch 7/10\n",
      "1281/1281 [==============================] - ETA: 0s - loss: 0.0659 - accuracy: 0.9787\n",
      "Epoch 00007: val_loss did not improve from 0.13154\n",
      "1281/1281 [==============================] - 194s 151ms/step - loss: 0.0659 - accuracy: 0.9787 - val_loss: 0.1666 - val_accuracy: 0.9518\n",
      "Epoch 8/10\n",
      "1281/1281 [==============================] - ETA: 0s - loss: 0.0588 - accuracy: 0.9800\n",
      "Epoch 00008: val_loss improved from 0.13154 to 0.11721, saving model to /home/aiffel-d34j/aiffel/speech_recognition/models/wav_skip\n",
      "1281/1281 [==============================] - 194s 152ms/step - loss: 0.0588 - accuracy: 0.9800 - val_loss: 0.1172 - val_accuracy: 0.9626\n",
      "Epoch 9/10\n",
      "1281/1281 [==============================] - ETA: 0s - loss: 0.0503 - accuracy: 0.9831\n",
      "Epoch 00009: val_loss improved from 0.11721 to 0.11374, saving model to /home/aiffel-d34j/aiffel/speech_recognition/models/wav_skip\n",
      "1281/1281 [==============================] - 194s 152ms/step - loss: 0.0503 - accuracy: 0.9831 - val_loss: 0.1137 - val_accuracy: 0.9648\n",
      "Epoch 10/10\n",
      "1281/1281 [==============================] - ETA: 0s - loss: 0.0502 - accuracy: 0.9833\n",
      "Epoch 00010: val_loss did not improve from 0.11374\n",
      "1281/1281 [==============================] - 194s 151ms/step - loss: 0.0502 - accuracy: 0.9833 - val_loss: 0.1263 - val_accuracy: 0.9628\n"
     ]
    }
   ],
   "source": [
    "#30분 내외 소요\n",
    "history_wav_skip = model_wav_skip.fit(train_dataset, \n",
    "                                      epochs=max_epochs,\n",
    "                                      steps_per_epoch=len(train_wav) // batch_size,\n",
    "                                      validation_data=valid_dataset,\n",
    "                                      validation_steps=len(valid_wav) // batch_size,\n",
    "                                      callbacks=[cp_callback])"
   ]
  },
  {
   "cell_type": "markdown",
   "id": "amber-wisconsin",
   "metadata": {},
   "source": [
    "## 5. 학습 후, 학습이 어떻게 진행됐는지 그래프로 출력\n",
    "* loss, accuracy를 그래프로 표현"
   ]
  },
  {
   "cell_type": "code",
   "execution_count": 22,
   "id": "continued-liver",
   "metadata": {},
   "outputs": [
    {
     "data": {
      "image/png": "[encoded data removed]",
      "text/plain": [
       "<Figure size 1152x576 with 2 Axes>"
      ]
     },
     "metadata": {
      "needs_background": "light"
     },
     "output_type": "display_data"
    }
   ],
   "source": [
    "import matplotlib.pyplot as plt\n",
    "\n",
    "acc = history_wav_skip.history['accuracy']\n",
    "val_acc = history_wav_skip.history['val_accuracy']\n",
    "\n",
    "loss = history_wav_skip.history['loss']\n",
    "val_loss = history_wav_skip.history['val_loss']\n",
    "\n",
    "epochs_range = range(len(acc))\n",
    "\n",
    "# Accuracy graph\n",
    "plt.figure(figsize=(16, 8))\n",
    "plt.subplot(1, 2, 1)\n",
    "plt.plot(epochs_range, acc, 'b', label='Training Accuracy')\n",
    "plt.plot(epochs_range, val_acc, 'bo--', label='Validation Accuracy')\n",
    "plt.legend(loc='lower right')\n",
    "plt.title('Training and Validation Accuracy')\n",
    "\n",
    "# Loss graph\n",
    "plt.subplot(1, 2, 2)\n",
    "plt.plot(epochs_range, loss,'r', label='Training Loss')\n",
    "plt.plot(epochs_range, val_loss, 'ro--', label='Validation Loss')\n",
    "plt.legend(loc='upper right')\n",
    "plt.title('Training and Validation Loss')\n",
    "plt.show()"
   ]
  },
  {
   "cell_type": "markdown",
   "id": "departmental-triple",
   "metadata": {},
   "source": [
    "## 6. Test dataset을 이용해서 모델의 성능을 평가\n",
    "* 저장한 weight 불러오기\n",
    "* 모델의 예측값과 정답값이 얼마나 일치하는지 확인"
   ]
  },
  {
   "cell_type": "markdown",
   "id": "norman-conversion",
   "metadata": {},
   "source": [
    "### 6-1. Evaluation"
   ]
  },
  {
   "cell_type": "code",
   "execution_count": 23,
   "id": "lightweight-reaction",
   "metadata": {},
   "outputs": [
    {
     "name": "stdout",
     "output_type": "stream",
     "text": [
      "159/159 [==============================] - 23s 144ms/step - loss: 0.1134 - accuracy: 0.9648\n",
      "loss value: 0.113\n",
      "accuracy value: 96.4836%\n"
     ]
    }
   ],
   "source": [
    "# checkpoint callback 함수가 저장한 weight를 다시 불러와서 테스트 준비\n",
    "model_wav_skip.load_weights(MODEL_SAVE_FOLDER_PATH)\n",
    "\n",
    "# Test data을 이용하여 모델의 예측값과 실제값이 얼마나 일치하는지 확인 \n",
    "results = model_wav_skip.evaluate(test_dataset)\n",
    "\n",
    "\n",
    "print(\"loss value: {:.3f}\".format(results[0]))            # loss\n",
    "print(\"accuracy value: {:.4f}%\".format(results[1]*100))   # accuracy"
   ]
  },
  {
   "cell_type": "markdown",
   "id": "dangerous-uruguay",
   "metadata": {},
   "source": [
    "### 6-2. Model Test"
   ]
  },
  {
   "cell_type": "code",
   "execution_count": 24,
   "id": "incorporated-uncertainty",
   "metadata": {},
   "outputs": [
    {
     "name": "stdout",
     "output_type": "stream",
     "text": [
      "label :  go\n"
     ]
    },
    {
     "data": {
      "text/html": [
       "\n",
       "                <audio  controls=\"controls\" >\n",
       "                    <source src=\"data:audio/wav;base64,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\" type=\"audio/wav\" />\n",
       "                    Your browser does not support the audio element.\n",
       "                </audio>\n",
       "              "
      ],
      "text/plain": [
       "<IPython.lib.display.Audio object>"
      ]
     },
     "execution_count": 24,
     "metadata": {},
     "output_type": "execute_result"
    }
   ],
   "source": [
    "# Test data 셋에서 임으로 1개 선택\n",
    "batch_index = np.random.choice(len(test_wav), size=1, replace=False)\n",
    "\n",
    "batch_xs = test_wav[batch_index]\n",
    "batch_ys = test_label[batch_index]\n",
    "\n",
    "# 모델이 예측한 값\n",
    "y_pred_ = model_wav_skip(batch_xs, training=False)\n",
    "\n",
    "# 예측한 스펙토그램 데이터를 웨이브 데이터로 변환\n",
    "sound_one = batch_xs.reshape(-1, batch_xs.shape[2])\n",
    "sound_one = np.array(spec2wav(sound_one))\n",
    "\n",
    "# 예측한 음성 출력\n",
    "print(\"label : \", str(inv_label_value[batch_ys[0]]))\n",
    "ipd.Audio(sound_one, rate=8000)"
   ]
  },
  {
   "cell_type": "code",
   "execution_count": 25,
   "id": "laughing-lending",
   "metadata": {},
   "outputs": [
    {
     "data": {
      "image/png": "[encoded data removed]",
      "text/plain": [
       "<Figure size 432x288 with 2 Axes>"
      ]
     },
     "metadata": {
      "needs_background": "light"
     },
     "output_type": "display_data"
    }
   ],
   "source": [
    "import librosa.display\n",
    "\n",
    "# magnitude -> Decibels\n",
    "log_spectrogram = librosa.amplitude_to_db(y_pred_, ref=np.max)\n",
    "\n",
    "# display spectrogram\n",
    "librosa.display.specshow(log_spectrogram)\n",
    "\n",
    "plt.title('Power spectrogram (dB)')\n",
    "plt.xlabel(\"Time\")\n",
    "plt.ylabel(\"Frequency\")\n",
    "plt.colorbar(format='%+2.0f dB')\n",
    "plt.xticks(range(0, 1))\n",
    "plt.tight_layout()\n",
    "plt.show()"
   ]
  },
  {
   "cell_type": "markdown",
   "id": "growing-netherlands",
   "metadata": {},
   "source": [
    "### 6-3. Prediction"
   ]
  },
  {
   "cell_type": "code",
   "execution_count": 26,
   "id": "regulation-capability",
   "metadata": {},
   "outputs": [
    {
     "name": "stdout",
     "output_type": "stream",
     "text": [
      "y_pred: go(Correct!)\n"
     ]
    }
   ],
   "source": [
    "if np.argmax(y_pred_) == batch_ys[0]:\n",
    "    print(\"y_pred: \" + str(inv_label_value[np.argmax(y_pred_)]) + '(Correct!)')\n",
    "else:\n",
    "    print(\"y_pred: \" + str(inv_label_value[np.argmax(y_pred_)]) + '(Incorrect!)')"
   ]
  },
  {
   "cell_type": "markdown",
   "id": "empirical-vietnam",
   "metadata": {},
   "source": [
    "## 7. 회고\n",
    "1. npz 파일 내용 확인\n",
    "2. librosa.stft(), librosa.istft()\n",
    "3. 텐서플로 데이터 셋 만들기\n",
    "4. 메모리 삭제 : 텐서 플로우에는 텐서 크기에 대해 2GB의 하드 제한\n",
    "5. 학습한 웨이트 저장 : wav_skip 폴더에 저장되지 않음"
   ]
  }
 ],
 "metadata": {
  "kernelspec": {
   "display_name": "aiffel",
   "language": "python",
   "name": "aiffel"
  },
  "language_info": {
   "codemirror_mode": {
    "name": "ipython",
    "version": 3
   },
   "file_extension": ".py",
   "mimetype": "text/x-python",
   "name": "python",
   "nbconvert_exporter": "python",
   "pygments_lexer": "ipython3",
   "version": "3.7.9"
  }
 },
 "nbformat": 4,
 "nbformat_minor": 5
}
